{
 "cells": [
  {
   "attachments": {},
   "cell_type": "markdown",
   "metadata": {},
   "source": [
    "- to do multiple transactions in psql:\n",
    "\n",
    "```\n",
    "begin;\n",
    "insert into test(num, data) values(123, 'HELLO PSQL');\n",
    "insert into test(num, data) values(123, 'HELLO PSQL');\n",
    "commit;\n",
    "```"
   ]
  },
  {
   "attachments": {},
   "cell_type": "markdown",
   "metadata": {},
   "source": [
    "## Connection Pooling\n",
    "\n",
    "- connection pools are cached database connections\n",
    "- those connections are created and maintained to get reused\n",
    "- main benefit: performance improvement\n",
    "\n",
    "Connection pooling is the process of having a pool of active connections on the backend servers. \n",
    "- These can be used any time a user sends a request.\n",
    "- The server will assign an active connection to the user."
   ]
  },
  {
   "attachments": {},
   "cell_type": "markdown",
   "metadata": {},
   "source": [
    "# Usage in Python\n",
    "- Python has support for working with different databases:\n",
    "1. sqlite\n",
    "2. mysql\n",
    "3. postgres\n",
    "4. etc."
   ]
  },
  {
   "attachments": {},
   "cell_type": "markdown",
   "metadata": {},
   "source": [
    "## Psycopg\n",
    "- Psycopg is the most popular PostgreSQL database adapter for python\n",
    "- Psycopg 2 is mostly implemented in C\n",
    "- Many Python types are supported and adapted to matching PostgreSQL data types"
   ]
  },
  {
   "attachments": {},
   "cell_type": "markdown",
   "metadata": {},
   "source": [
    "### Basic module usage\n",
    "\n",
    "> python3 -m pip install psycopg2\n",
    "\n",
    "> create database python_db;"
   ]
  },
  {
   "cell_type": "code",
   "execution_count": 1,
   "metadata": {},
   "outputs": [
    {
     "data": {
      "text/plain": [
       "[(1, 100, \"abc'def\")]"
      ]
     },
     "execution_count": 1,
     "metadata": {},
     "output_type": "execute_result"
    }
   ],
   "source": [
    "import psycopg2\n",
    "\n",
    "#Connect to an existing database\n",
    "conn = psycopg2.connect(\n",
    "    host=\"localhost\", #or\n",
    "    #host=\"127.0.0.1\", \n",
    "    database=\"python_db\",\n",
    "    user='postgres',\n",
    "    password='password'\n",
    ")\n",
    "\n",
    "#Open a cursor to perform database operations\n",
    "cursor = conn.cursor()\n",
    "\n",
    "#Execute a command: this creates a new table\n",
    "\n",
    "# try:\n",
    "#     cursor.execute(\"create table test (id serial primary key, num integer, data varchar(50))\")\n",
    "# except Exception as e:\n",
    "#     print('Error:', e)\n",
    "\n",
    "cursor.execute(\"create table if not exists test (id serial primary key, num integer, data varchar(50))\")\n",
    "\n",
    "#Pass data to fill a query placeholders \n",
    "cursor.execute(\"insert into test (num, data) values (%s, %s)\", (100, \"abc'def\"))\n",
    "\n",
    "#Query the database and obtain data as python objects \n",
    "cursor.execute(\"select * from test;\")\n",
    "data = cursor.fetchall()\n",
    "\n",
    "# Make the change to the database persistent\n",
    "conn.commit()\n",
    "\n",
    "#Close communication wih the database\n",
    "cursor.close()\n",
    "#conn.close()\n",
    "data\n",
    "\n"
   ]
  },
  {
   "attachments": {},
   "cell_type": "markdown",
   "metadata": {},
   "source": [
    "- connect() creates a new database session"
   ]
  },
  {
   "cell_type": "code",
   "execution_count": 2,
   "metadata": {},
   "outputs": [
    {
     "name": "stdout",
     "output_type": "stream",
     "text": [
      "<class 'psycopg2.extensions.connection'>\n"
     ]
    }
   ],
   "source": [
    "print(type(conn))"
   ]
  },
  {
   "attachments": {},
   "cell_type": "markdown",
   "metadata": {},
   "source": [
    "- each connection/session can create new cursor instances\n",
    "- cursor instances can execute database commands\n",
    "- commands are sent by the following methods:\n",
    "1. execute()\n",
    "2. executemany()\n",
    "- to retrieve data use the following cursor methods:\n",
    "1. fetchall() - gets all row of the query\n",
    "2. fetchone() - gets one row of the query\n",
    "3. fetchmany() - gets as many rows as specified e.g. fetchmany(5)"
   ]
  },
  {
   "attachments": {},
   "cell_type": "markdown",
   "metadata": {},
   "source": [
    "### Access Data From a cursor\n",
    "- You can have many cursors sharing the same connection to a database.\n",
    "- Cursors created from the same connection are not isolated\n",
    "- i.e. any changes done to the database by a cursor are visible by other cursor\n",
    "\n",
    "- a query can potentially match very large sets of data\n",
    "- Read operations do not immediately return all values matching the query\n",
    "- these operations rely on cursors\n",
    "\n",
    "- cursors fetches data in batches to reduce memory consumption\n",
    "\n",
    "- Closing the cursor frees resources associated to the queries.\n",
    "- It would not eliminate the connection to the database itself.\n",
    "(Therefore, there is no need for reauthentication)\n",
    "\n"
   ]
  },
  {
   "attachments": {},
   "cell_type": "markdown",
   "metadata": {},
   "source": [
    "### Connections and Cursors\n",
    "- Connections and cursors can be used as context managers and commits if no exception occurs. \n",
    "- the connection is not closed by the context\n",
    "- the cursor is closed by the context"
   ]
  },
  {
   "cell_type": "code",
   "execution_count": 3,
   "metadata": {},
   "outputs": [
    {
     "name": "stdout",
     "output_type": "stream",
     "text": [
      "<cursor object at 0x7effb674b130; closed: 0>\n",
      "<cursor object at 0x7effb674b130; closed: -1>\n"
     ]
    },
    {
     "data": {
      "text/plain": [
       "[(1, 100, \"abc'def\")]"
      ]
     },
     "execution_count": 3,
     "metadata": {},
     "output_type": "execute_result"
    }
   ],
   "source": [
    "with conn:\n",
    "    with conn.cursor() as curs:\n",
    "        curs.execute(\"CREATE TABLE if not exists test3 (id serial PRIMARY KEY, num integer, data varchar)\")\n",
    "        curs.execute('select * from test')\n",
    "        data = curs.fetchall()\n",
    "        print(curs)\n",
    "print(curs)\n",
    "#conn.commit happens\n",
    "#curs.close() happens\n",
    "data\n"
   ]
  },
  {
   "attachments": {},
   "cell_type": "markdown",
   "metadata": {},
   "source": [
    "### Passing parameters to SQL queries\n",
    "### execute and executemany()\n",
    "- Execute a database operation \n",
    "- Parameters may be provided \n",
    "- For positional variables binding, the second argument must always be a sequence"
   ]
  },
  {
   "cell_type": "code",
   "execution_count": 4,
   "metadata": {},
   "outputs": [
    {
     "name": "stdout",
     "output_type": "stream",
     "text": [
      "[(1, 100, \"abc'def\"), (2, 22, 'BLA')]\n"
     ]
    }
   ],
   "source": [
    "with conn:\n",
    "    with conn.cursor() as curs:\n",
    "        curs.execute(\"\"\"\n",
    "        insert into test (num, data)\n",
    "        values (%s, %s)\n",
    "        \"\"\", (22, 'BLA'))\n",
    "        curs.execute(\"select * from test\")\n",
    "        print(curs.fetchall())"
   ]
  },
  {
   "attachments": {},
   "cell_type": "markdown",
   "metadata": {},
   "source": [
    "- Named arguments are supported too using %(name)s placeholders in the query\n",
    "- allows to specify the values in any order and to repeat the same value"
   ]
  },
  {
   "cell_type": "code",
   "execution_count": 5,
   "metadata": {},
   "outputs": [
    {
     "name": "stdout",
     "output_type": "stream",
     "text": [
      "[(1, 100, \"abc'def\"), (2, 22, 'BLA'), (3, 100, 'DATA')]\n"
     ]
    }
   ],
   "source": [
    "with conn:\n",
    "    with conn.cursor() as curs:\n",
    "        curs.execute(\"\"\"\n",
    "        insert into test (num, data)\n",
    "        values (%(value1)s, %(value2)s)\n",
    "        \"\"\", {'value1':100, 'value2':'DATA'})\n",
    "        curs.execute(\"select * from test\")\n",
    "        print(curs.fetchall())"
   ]
  },
  {
   "attachments": {},
   "cell_type": "markdown",
   "metadata": {},
   "source": [
    "### The problem with the query parameters - SQL Injection"
   ]
  },
  {
   "cell_type": "code",
   "execution_count": 6,
   "metadata": {},
   "outputs": [
    {
     "ename": "ProgrammingError",
     "evalue": "no results to fetch",
     "output_type": "error",
     "traceback": [
      "\u001b[0;31m---------------------------------------------------------------------------\u001b[0m",
      "\u001b[0;31mProgrammingError\u001b[0m                          Traceback (most recent call last)",
      "Cell \u001b[0;32mIn [6], line 7\u001b[0m\n\u001b[1;32m      5\u001b[0m user_input \u001b[39m=\u001b[39m \u001b[39minput\u001b[39m(\u001b[39m'\u001b[39m\u001b[39mplease give data to store\u001b[39m\u001b[39m'\u001b[39m)\n\u001b[1;32m      6\u001b[0m curs\u001b[39m.\u001b[39mexecute(SQL \u001b[39m%\u001b[39m user_input) \u001b[39m#NEVER DO THIS\u001b[39;00m\n\u001b[0;32m----> 7\u001b[0m \u001b[39mprint\u001b[39m(curs\u001b[39m.\u001b[39;49mfetchall())\n",
      "\u001b[0;31mProgrammingError\u001b[0m: no results to fetch"
     ]
    }
   ],
   "source": [
    "with conn:\n",
    "   with conn.cursor() as curs:\n",
    "      SQL = \"insert into test (data) values ('%s');\" # don't use quotes around %s\n",
    "      #user_input = \"Bla'); select * from test where '1' in ('1\"\n",
    "      user_input = input('please give data to store')\n",
    "      curs.execute(SQL % user_input) #NEVER DO THIS\n",
    "      print(curs.fetchall())\n"
   ]
  },
  {
   "cell_type": "code",
   "execution_count": null,
   "metadata": {},
   "outputs": [
    {
     "data": {
      "text/plain": [
       "'Hello bla'"
      ]
     },
     "execution_count": 35,
     "metadata": {},
     "output_type": "execute_result"
    }
   ],
   "source": [
    "'Hello %s' % 'bla'"
   ]
  },
  {
   "cell_type": "code",
   "execution_count": null,
   "metadata": {},
   "outputs": [],
   "source": [
    "with conn:\n",
    "   with conn.cursor() as curs:\n",
    "      SQL = \"insert into test (data) values (%s);\" # don't use quotes around %s\n",
    "      user_input = \"HELLO WORLD'); select * from test where '1' in ('1\"\n",
    "      #user_input = 'HELLO WORLD'\n",
    "      #user_input = input('please give data to store')\n",
    "      curs.execute(SQL, (user_input,)) # DO IT THIS WAY\n",
    "      "
   ]
  },
  {
   "attachments": {},
   "cell_type": "markdown",
   "metadata": {},
   "source": [
    "<span style=color:red;>Warning: Never, never, NEVER use Python string concatenation (+) or string parameters interpolation (%) to pass variables to a SQL query string. </span>"
   ]
  },
  {
   "cell_type": "code",
   "execution_count": null,
   "metadata": {},
   "outputs": [],
   "source": [
    "SQL = \"insert into test (data) values (%s);\""
   ]
  },
  {
   "attachments": {},
   "cell_type": "markdown",
   "metadata": {},
   "source": [
    "![](exploits_of_a_mom.png)"
   ]
  },
  {
   "attachments": {},
   "cell_type": "markdown",
   "metadata": {},
   "source": [
    "### executemany\n",
    "\n"
   ]
  },
  {
   "cell_type": "code",
   "execution_count": null,
   "metadata": {},
   "outputs": [],
   "source": []
  },
  {
   "cell_type": "code",
   "execution_count": null,
   "metadata": {},
   "outputs": [],
   "source": []
  },
  {
   "cell_type": "code",
   "execution_count": null,
   "metadata": {},
   "outputs": [],
   "source": []
  },
  {
   "cell_type": "code",
   "execution_count": null,
   "metadata": {},
   "outputs": [],
   "source": [
    "with conn:\n",
    "    with conn.cursor() as curs:\n",
    "        number = (1000,)\n",
    "        numbers = [(1000,), (2000,), (3000,)]\n",
    "        SQL = \"insert into test (num) values (%s)\"\n",
    "        # curs.execute(SQL, number) #single insert\n",
    "        curs.executemany(SQL, numbers) # multiple inserts \n",
    "\n"
   ]
  },
  {
   "attachments": {},
   "cell_type": "markdown",
   "metadata": {},
   "source": [
    "- Parameters are bounded to the query using the same rules described in the execute() method.\n",
    "- In its current implementation this method is not faster than executing execute() in a loop"
   ]
  },
  {
   "attachments": {},
   "cell_type": "markdown",
   "metadata": {},
   "source": [
    "## Adaptation of PYthon values to sql types\n",
    "There is default mapping to convert Python types into PostgreSQL types, and vice versa\n",
    "\n",
    "- None <-->NULL\n",
    "- bool <-->bool\n",
    "- decimal <--> numeric\n",
    "- str <--> varchar\n",
    "- float <--> real or double\n",
    "- int <--> smallint or integer or bigint\n",
    "- date <--> date\n",
    "- time <--> timetz\n"
   ]
  },
  {
   "attachments": {},
   "cell_type": "markdown",
   "metadata": {},
   "source": [
    "### mogrify\n",
    "- Return a query string after arguments binding. \n",
    "- The string returned is exactly the one that would be sent by execute() method.\n"
   ]
  },
  {
   "cell_type": "code",
   "execution_count": 12,
   "metadata": {},
   "outputs": [
    {
     "name": "stdout",
     "output_type": "stream",
     "text": [
      "b\"insert into test (num, data) values (10, 'BLA')\"\n"
     ]
    }
   ],
   "source": [
    "with conn:\n",
    "    with conn.cursor() as curs:\n",
    "        query1 = curs.mogrify(\"insert into test (num, data) values (10, 'bal  ')\") \n",
    "        query2 = curs.mogrify(\"insert into test (num, data) values (%s, %s)\", (10, 'BLA')) \n",
    "        #query2 = curs.execute(\"insert into test (num, data) values (%s, %s)\", (10, 'BLA')) \n",
    "        print(query2)"
   ]
  },
  {
   "attachments": {},
   "cell_type": "markdown",
   "metadata": {},
   "source": [
    "- the return value is always a byte string"
   ]
  },
  {
   "attachments": {},
   "cell_type": "markdown",
   "metadata": {},
   "source": [
    "### Constants adaptation\n",
    "- Python None, True and False are converted into the proper SQL literals:\n"
   ]
  },
  {
   "cell_type": "code",
   "execution_count": 13,
   "metadata": {},
   "outputs": [
    {
     "name": "stdout",
     "output_type": "stream",
     "text": [
      "b'\\n        select NULL, true, false;\\n        '\n"
     ]
    }
   ],
   "source": [
    "with conn:\n",
    "    with conn.cursor() as curs:\n",
    "        query = curs.mogrify(\"\"\"\n",
    "        select %s, %s, %s;\n",
    "        \"\"\", (None, True, False))\n",
    "        print(query)"
   ]
  },
  {
   "cell_type": "code",
   "execution_count": 18,
   "metadata": {},
   "outputs": [
    {
     "name": "stdout",
     "output_type": "stream",
     "text": [
      "10.00\n",
      "10.0\n",
      "b'\\n        select 10, 10.0, 10.00;'\n"
     ]
    }
   ],
   "source": [
    "### Numeric adaptation\n",
    "from decimal import Decimal\n",
    "\n",
    "print(Decimal(\"10.00\"))\n",
    "print(float(\"10.00\"))\n",
    "\n",
    "with conn:\n",
    "    with conn.cursor() as curs:\n",
    "        query = curs.mogrify(\"\"\"\n",
    "        select %s, %s, %s;\"\"\", (10, 10.00, Decimal(\"10.00\")))\n",
    "        print(query)"
   ]
  },
  {
   "attachments": {},
   "cell_type": "markdown",
   "metadata": {},
   "source": [
    "- sometimes you may prefer to receive numeric data as float instead:\n",
    "- you can configure an adapter to cast PostgreSQL numeric to Python float."
   ]
  },
  {
   "cell_type": "code",
   "execution_count": 23,
   "metadata": {},
   "outputs": [
    {
     "name": "stdout",
     "output_type": "stream",
     "text": [
      "b'select column from test '\n"
     ]
    }
   ],
   "source": [
    "### Date/Time objects adaptation\n",
    "\n",
    "from datetime import datetime\n",
    "\n",
    "dt = datetime.now()\n",
    "dt\n",
    "with conn:\n",
    "    with conn.cursor() as curs:\n",
    "        query = curs.mogrify(\"\"\"\n",
    "        select %s, %s, %s;\n",
    "        \"\"\", (dt, dt.date(), dt.time()))\n",
    "        print(query)"
   ]
  },
  {
   "attachments": {},
   "cell_type": "markdown",
   "metadata": {},
   "source": [
    "### List adaptation"
   ]
  },
  {
   "cell_type": "code",
   "execution_count": 24,
   "metadata": {},
   "outputs": [
    {
     "name": "stdout",
     "output_type": "stream",
     "text": [
      "b'select ARRAY[10,20,30];'\n"
     ]
    }
   ],
   "source": [
    "with conn:\n",
    "    with conn.cursor() as curs: \n",
    "        query = curs.mogrify(\"select %s;\", ([10,20,30], ))\n",
    "        print(query)"
   ]
  },
  {
   "attachments": {},
   "cell_type": "markdown",
   "metadata": {},
   "source": [
    "### Transactions\n",
    "\n",
    "- Transactions are handled by the connection class\n",
    "- the first time a command is sent to the database, a new transaction is created.\n",
    "- All db commands will be executed in the context of the same transaction\n",
    "- all cursors created by the same connection share the same transaction\n",
    "\n",
    "Should any command fail, the transaction will be aborted\n",
    "- no further command will be executed until rollback is called."
   ]
  },
  {
   "cell_type": "code",
   "execution_count": 25,
   "metadata": {},
   "outputs": [],
   "source": [
    "conn1 = psycopg2.connect(\n",
    "    host=\"localhost\",\n",
    "    database=\"python_db\",\n",
    "    user=\"postgres\",\n",
    "    password=\"password\"\n",
    ")\n",
    "\n",
    "conn2 = psycopg2.connect(\n",
    "    host=\"localhost\",\n",
    "    database=\"python_db\",\n",
    "    user=\"postgres\",\n",
    "    password=\"password\"\n",
    ")"
   ]
  },
  {
   "cell_type": "code",
   "execution_count": 52,
   "metadata": {},
   "outputs": [
    {
     "name": "stdout",
     "output_type": "stream",
     "text": [
      "relation \"bla\" does not exist\n",
      "LINE 1: select * from bla\n",
      "                      ^\n",
      "\n",
      "[(1, 100, \"abc'def\"), (2, 22, 'BLA'), (3, 100, 'DATA'), (5, 10, 'BLA')]\n"
     ]
    }
   ],
   "source": [
    "curs1 = conn1.cursor()\n",
    "curs2 = conn1.cursor()\n",
    "curs2_1 = conn2.cursor()\n",
    "#conn1.autocommit = False\n",
    "\n",
    "#conn1.rollback()\n",
    "try:\n",
    "    curs1.execute('select * from bla')\n",
    "except Exception as e:\n",
    "    conn1.commit()\n",
    "    print(e)\n",
    "\n",
    "\n",
    "curs2.execute('select * from test') #FROM CONNECTION 1\n",
    "print(curs2.fetchall())\n",
    "\n",
    "# curs2_1.execute('select * from test') #FROM CONNECTION 2\n",
    "# print(curs2_1.fetchall())\n",
    "conn1.commit()"
   ]
  },
  {
   "attachments": {},
   "cell_type": "markdown",
   "metadata": {},
   "source": [
    "- Postgres relies heavily on transactions to keep data consistent across concurrent connections and parallel activities.\n",
    "- transactions allow a database to implement the ACID properties:\n",
    "the db must be able:\n",
    "1. to handle units of work on its whole (Atomicity)\n",
    "2. to store data without inter-mixed changes to the data (consistency)\n",
    "3. to store data in a way that concurrency actions are executed as if they were\n",
    "alone (isolation) \n",
    "4. to store data in a permanent way (Durability)\n",
    "\n",
    "- An atomic transaction is an indivisible and irreducible series of database operations\n",
    "- either all operatons occur, or nothing occurs\n",
    "\n",
    "- every action issued against the database is executed within a transaction\n",
    "- any transaction is assigned a unique number: *xid*\n",
    "- you can get the xid by inspecting the hidden column *xmin*\n"
   ]
  },
  {
   "cell_type": "code",
   "execution_count": 62,
   "metadata": {},
   "outputs": [],
   "source": [
    "SQL_xid = 'select txid_current()'\n",
    "SQL_insert = \"insert into test(num, data) values(123, 'HALLO TRANSACTION')\"\n",
    "SQL_xmin = 'select xmin, txid_current(), * from test'"
   ]
  },
  {
   "cell_type": "code",
   "execution_count": 58,
   "metadata": {},
   "outputs": [
    {
     "name": "stdout",
     "output_type": "stream",
     "text": [
      "[(3079,)]\n"
     ]
    }
   ],
   "source": [
    "curs1.execute(SQL_xid)\n",
    "print(curs1.fetchall())\n",
    "conn1.commit()"
   ]
  },
  {
   "cell_type": "code",
   "execution_count": 71,
   "metadata": {},
   "outputs": [
    {
     "data": {
      "text/plain": [
       "[('3070', 3101, 1, 100, \"abc'def\"),\n",
       " ('3072', 3101, 2, 22, 'BLA'),\n",
       " ('3073', 3101, 3, 100, 'DATA'),\n",
       " ('3075', 3101, 5, 10, 'BLA'),\n",
       " ('3080', 3101, 6, 123, 'HALLO'),\n",
       " ('3080', 3101, 7, 123, 'HALLO'),\n",
       " ('3082', 3101, 10, 123, 'HALLO'),\n",
       " ('3082', 3101, 11, 123, 'HALLO'),\n",
       " ('3083', 3101, 13, 123, 'HALLO'),\n",
       " ('3083', 3101, 14, 123, 'HALLO'),\n",
       " ('3084', 3101, 16, 123, 'HALLO TRANSACTION'),\n",
       " ('3084', 3101, 17, 123, 'HALLO TRANSACTION'),\n",
       " ('3085', 3101, 19, 123, 'HALLO TRANSACTION'),\n",
       " ('3085', 3101, 20, 123, 'HALLO TRANSACTION'),\n",
       " ('3088', 3101, 22, None, 'CONNECTION1'),\n",
       " ('3088', 3101, 23, None, 'CONNECTION1'),\n",
       " ('3091', 3101, 25, None, 'CONNECTION1'),\n",
       " ('3091', 3101, 26, None, 'CONNECTION1'),\n",
       " ('3096', 3101, 30, None, 'CONNECTION2'),\n",
       " ('3097', 3101, 31, None, 'CONNECTION1'),\n",
       " ('3097', 3101, 32, None, 'CONNECTION1'),\n",
       " ('3099', 3101, 33, None, 'CONNECTION2'),\n",
       " ('3100', 3101, 34, None, 'CONNECTION1'),\n",
       " ('3100', 3101, 35, None, 'CONNECTION1')]"
      ]
     },
     "execution_count": 71,
     "metadata": {},
     "output_type": "execute_result"
    }
   ],
   "source": [
    "conn1.rollback()\n",
    "conn2.rollback()\n",
    "#From CONNECTION 2\n",
    "curs2_1.execute(\"insert into test (data) values('CONNECTION2')\")\n",
    "#From CONNECTION 1\n",
    "curs1.execute(\"insert into test (data) values('CONNECTION1')\")\n",
    "curs2.execute(\"insert into test (data) values('CONNECTION1')\")\n",
    "conn1.commit()\n",
    "conn2.commit()\n",
    "curs2_1.execute(SQL_xmin)\n",
    "curs2_1.fetchall()\n"
   ]
  },
  {
   "attachments": {},
   "cell_type": "markdown",
   "metadata": {},
   "source": [
    "## Connection Pooling\n",
    "\n",
    "- connection pools are cached database connections\n",
    "- those connections are created and maintained to get reused\n",
    "- main benefit: performance improvement\n",
    "\n",
    "Connection pooling is the process of having a pool of active connections on the backend servers. \n",
    "- These can be used any time a user sends a request.\n",
    "- The server will assign an active connection to the user."
   ]
  },
  {
   "attachments": {},
   "cell_type": "markdown",
   "metadata": {},
   "source": [
    "![](pooling.png)"
   ]
  },
  {
   "attachments": {},
   "cell_type": "markdown",
   "metadata": {},
   "source": [
    "### Example SimpleConnectionPool\n",
    "\n",
    "```\n",
    "conn = psycopg2.connect(\n",
    "    host=\"localhost\",\n",
    "    database=\"python_db\",\n",
    "    user=\"postgres\",\n",
    "    password=\"password\"\n",
    ")\n",
    "```"
   ]
  },
  {
   "cell_type": "code",
   "execution_count": 16,
   "metadata": {},
   "outputs": [],
   "source": [
    "from psycopg2.pool import SimpleConnectionPool\n",
    "\n",
    "pool = SimpleConnectionPool(minconn=1, maxconn=2, \n",
    "                            host=\"localhost\",\n",
    "                            database=\"python_db\",\n",
    "                            user=\"postgres\",\n",
    "                            password=\"password\")"
   ]
  },
  {
   "cell_type": "code",
   "execution_count": 9,
   "metadata": {},
   "outputs": [],
   "source": [
    "SQL_active = \"select datname from pg_stat_activity\"\n",
    "SQL_killall = \"\"\"\n",
    "select pg_terminate_backend(pid) from pg_stat_activity where datname='python_db'\n",
    " \"\"\""
   ]
  },
  {
   "cell_type": "code",
   "execution_count": 19,
   "metadata": {},
   "outputs": [
    {
     "ename": "PoolError",
     "evalue": "connection pool exhausted",
     "output_type": "error",
     "traceback": [
      "\u001b[0;31m---------------------------------------------------------------------------\u001b[0m",
      "\u001b[0;31mPoolError\u001b[0m                                 Traceback (most recent call last)",
      "Cell \u001b[0;32mIn [19], line 1\u001b[0m\n\u001b[0;32m----> 1\u001b[0m conn \u001b[39m=\u001b[39m pool\u001b[39m.\u001b[39;49mgetconn()\n\u001b[1;32m      2\u001b[0m curs \u001b[39m=\u001b[39m conn\u001b[39m.\u001b[39mcursor()\n\u001b[1;32m      3\u001b[0m curs\u001b[39m.\u001b[39mexecute(SQL_active)\n",
      "File \u001b[0;32m~/.local/lib/python3.8/site-packages/psycopg2/pool.py:92\u001b[0m, in \u001b[0;36mAbstractConnectionPool._getconn\u001b[0;34m(self, key)\u001b[0m\n\u001b[1;32m     90\u001b[0m \u001b[39melse\u001b[39;00m:\n\u001b[1;32m     91\u001b[0m     \u001b[39mif\u001b[39;00m \u001b[39mlen\u001b[39m(\u001b[39mself\u001b[39m\u001b[39m.\u001b[39m_used) \u001b[39m==\u001b[39m \u001b[39mself\u001b[39m\u001b[39m.\u001b[39mmaxconn:\n\u001b[0;32m---> 92\u001b[0m         \u001b[39mraise\u001b[39;00m PoolError(\u001b[39m\"\u001b[39m\u001b[39mconnection pool exhausted\u001b[39m\u001b[39m\"\u001b[39m)\n\u001b[1;32m     93\u001b[0m     \u001b[39mreturn\u001b[39;00m \u001b[39mself\u001b[39m\u001b[39m.\u001b[39m_connect(key)\n",
      "\u001b[0;31mPoolError\u001b[0m: connection pool exhausted"
     ]
    }
   ],
   "source": [
    "conn = pool.getconn()\n",
    "curs = conn.cursor()\n",
    "curs.execute(SQL_active)\n",
    "curs.fetchall()"
   ]
  }
 ],
 "metadata": {
  "kernelspec": {
   "display_name": "Python 3",
   "language": "python",
   "name": "python3"
  },
  "language_info": {
   "codemirror_mode": {
    "name": "ipython",
    "version": 3
   },
   "file_extension": ".py",
   "mimetype": "text/x-python",
   "name": "python",
   "nbconvert_exporter": "python",
   "pygments_lexer": "ipython3",
   "version": "3.8.10"
  },
  "orig_nbformat": 4,
  "vscode": {
   "interpreter": {
    "hash": "916dbcbb3f70747c44a77c7bcd40155683ae19c65e1c03b4aa3499c5328201f1"
   }
  }
 },
 "nbformat": 4,
 "nbformat_minor": 2
}
