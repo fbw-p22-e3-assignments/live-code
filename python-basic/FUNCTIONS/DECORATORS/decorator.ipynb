{
 "cells": [
  {
   "cell_type": "markdown",
   "id": "159844c7",
   "metadata": {},
   "source": [
    "# Decorators and Closures\n",
    "\n",
    "- let us mark functions\n",
    "- enhances behavior of functions\n",
    "\n",
    "We also need to understand closures before we can master decorators:\n",
    "\n",
    "- How Python decides wheather a variable is local\n",
    "- Why closures exist and how they work\n",
    "\n",
    "A decorator is a function that takes another function as argument.\n",
    "\n",
    "A decorator may perform some processing with the decorated Function and returns \n",
    "it or replaced it with another fnction object.\n",
    "\n",
    "The following code:"
   ]
  },
  {
   "cell_type": "code",
   "execution_count": 1,
   "id": "417cfa8c",
   "metadata": {},
   "outputs": [],
   "source": [
    "def decorate(func):\n",
    "    func()\n",
    "    def inner():\n",
    "        print('running inner()')\n",
    "    return inner   # returns its inner function object"
   ]
  },
  {
   "cell_type": "code",
   "execution_count": 2,
   "id": "19f30225",
   "metadata": {},
   "outputs": [
    {
     "name": "stdout",
     "output_type": "stream",
     "text": [
      "running target()\n",
      "running inner()\n"
     ]
    }
   ],
   "source": [
    "@decorate #target is decorated\n",
    "def target():\n",
    "    print('running target()')\n",
    "    \n",
    "target() # invoking the decorated target actually runs inner"
   ]
  },
  {
   "cell_type": "markdown",
   "id": "0de7bc0b",
   "metadata": {},
   "source": [
    "has the same effect as writing this:"
   ]
  },
  {
   "cell_type": "code",
   "execution_count": 3,
   "id": "ae0cb7ca",
   "metadata": {},
   "outputs": [
    {
     "name": "stdout",
     "output_type": "stream",
     "text": [
      "running target()\n",
      "running inner()\n"
     ]
    }
   ],
   "source": [
    "def target():\n",
    "    print('running target()')\n",
    "    \n",
    "target = decorate(target)\n",
    "target()"
   ]
  },
  {
   "cell_type": "markdown",
   "id": "d22b749c",
   "metadata": {},
   "source": [
    "Strictly speaking decorators are just syntactic sugar.\n",
    "\n",
    "- decorators are functions\n",
    "\n",
    "\n"
   ]
  },
  {
   "cell_type": "markdown",
   "id": "0dac616e",
   "metadata": {},
   "source": [
    "Decorators usually define an inner function and return  it to replace the decorated function. \n",
    "Code that uses inner functions almost always depends on closures.\n",
    "\n",
    "To understand closures , we need to take a step back and review how variable scopes work in Python: "
   ]
  },
  {
   "cell_type": "code",
   "execution_count": 4,
   "id": "8b66811a",
   "metadata": {},
   "outputs": [
    {
     "name": "stdout",
     "output_type": "stream",
     "text": [
      "3\n"
     ]
    },
    {
     "ename": "NameError",
     "evalue": "name 'b' is not defined",
     "output_type": "error",
     "traceback": [
      "\u001b[0;31m---------------------------------------------------------------------------\u001b[0m",
      "\u001b[0;31mNameError\u001b[0m                                 Traceback (most recent call last)",
      "Cell \u001b[0;32mIn [4], line 5\u001b[0m\n\u001b[1;32m      2\u001b[0m     \u001b[38;5;28mprint\u001b[39m(a)\n\u001b[1;32m      3\u001b[0m     \u001b[38;5;28mprint\u001b[39m(b)\n\u001b[0;32m----> 5\u001b[0m \u001b[43mf1\u001b[49m\u001b[43m(\u001b[49m\u001b[38;5;241;43m3\u001b[39;49m\u001b[43m)\u001b[49m\n",
      "Cell \u001b[0;32mIn [4], line 3\u001b[0m, in \u001b[0;36mf1\u001b[0;34m(a)\u001b[0m\n\u001b[1;32m      1\u001b[0m \u001b[38;5;28;01mdef\u001b[39;00m \u001b[38;5;21mf1\u001b[39m(a):\n\u001b[1;32m      2\u001b[0m     \u001b[38;5;28mprint\u001b[39m(a)\n\u001b[0;32m----> 3\u001b[0m     \u001b[38;5;28mprint\u001b[39m(\u001b[43mb\u001b[49m)\n",
      "\u001b[0;31mNameError\u001b[0m: name 'b' is not defined"
     ]
    }
   ],
   "source": [
    "def f1(a):\n",
    "    print(a)\n",
    "    print(b)\n",
    "    \n",
    "f1(3)"
   ]
  },
  {
   "cell_type": "markdown",
   "id": "30b20b12",
   "metadata": {},
   "source": [
    "Since b is global and not defined a NameError was raised.\n"
   ]
  },
  {
   "cell_type": "code",
   "execution_count": 5,
   "id": "9dd3f34d",
   "metadata": {},
   "outputs": [
    {
     "name": "stdout",
     "output_type": "stream",
     "text": [
      "3\n",
      "6\n"
     ]
    }
   ],
   "source": [
    "b = 6\n",
    "f1(3)"
   ]
  },
  {
   "cell_type": "markdown",
   "id": "b49e9043",
   "metadata": {},
   "source": [
    "Now let's see an example that may surprise you:\n"
   ]
  },
  {
   "cell_type": "code",
   "execution_count": 6,
   "id": "b21a7da1",
   "metadata": {},
   "outputs": [
    {
     "name": "stdout",
     "output_type": "stream",
     "text": [
      "3\n"
     ]
    },
    {
     "ename": "UnboundLocalError",
     "evalue": "local variable 'b' referenced before assignment",
     "output_type": "error",
     "traceback": [
      "\u001b[0;31m---------------------------------------------------------------------------\u001b[0m",
      "\u001b[0;31mUnboundLocalError\u001b[0m                         Traceback (most recent call last)",
      "Cell \u001b[0;32mIn [6], line 6\u001b[0m\n\u001b[1;32m      4\u001b[0m     \u001b[38;5;28mprint\u001b[39m(b)    \u001b[38;5;66;03m#this statement never runs\u001b[39;00m\n\u001b[1;32m      5\u001b[0m     b \u001b[38;5;241m=\u001b[39m \u001b[38;5;241m9\u001b[39m\n\u001b[0;32m----> 6\u001b[0m \u001b[43mf2\u001b[49m\u001b[43m(\u001b[49m\u001b[38;5;241;43m3\u001b[39;49m\u001b[43m)\u001b[49m\n",
      "Cell \u001b[0;32mIn [6], line 4\u001b[0m, in \u001b[0;36mf2\u001b[0;34m(a)\u001b[0m\n\u001b[1;32m      2\u001b[0m \u001b[38;5;28;01mdef\u001b[39;00m \u001b[38;5;21mf2\u001b[39m(a):\n\u001b[1;32m      3\u001b[0m     \u001b[38;5;28mprint\u001b[39m(a)\n\u001b[0;32m----> 4\u001b[0m     \u001b[38;5;28mprint\u001b[39m(\u001b[43mb\u001b[49m)    \u001b[38;5;66;03m#this statement never runs\u001b[39;00m\n\u001b[1;32m      5\u001b[0m     b \u001b[38;5;241m=\u001b[39m \u001b[38;5;241m9\u001b[39m\n",
      "\u001b[0;31mUnboundLocalError\u001b[0m: local variable 'b' referenced before assignment"
     ]
    }
   ],
   "source": [
    "b = 6\n",
    "def f2(a):\n",
    "    print(a)\n",
    "    print(b)    #this statement never runs\n",
    "    b = 9\n",
    "f2(3)"
   ]
  },
  {
   "cell_type": "markdown",
   "id": "41b0104f",
   "metadata": {},
   "source": [
    "When Python compiles the body of the function , it decides that b is a local variable because it is assigned within the function. \n",
    "\n",
    "Python does not require you to declare variables, but assumes that a variable assigned in the body of a function \n",
    "is local. \n",
    "\n",
    "If we want the interpreter to treat b here as a global variable, we use the global declaration:"
   ]
  },
  {
   "cell_type": "code",
   "execution_count": 7,
   "id": "cf9e756a",
   "metadata": {},
   "outputs": [
    {
     "name": "stdout",
     "output_type": "stream",
     "text": [
      "3\n",
      "6\n"
     ]
    }
   ],
   "source": [
    "b = 6\n",
    "def f2(a):\n",
    "    global b\n",
    "    print(a)\n",
    "    print(b)    #this statement never runs\n",
    "    b = 9\n",
    "f2(3)"
   ]
  },
  {
   "cell_type": "markdown",
   "id": "de8faf04",
   "metadata": {},
   "source": [
    "We have seen two  scopes in action:\n",
    "\n",
    "*The module global scope*\n",
    "    Made of names assigned to values outside of any class or function block.\n",
    "    \n",
    "*The f3 function local scope*\n",
    "    Made of names assigned to values as parameters, or directly in the body of the function."
   ]
  },
  {
   "cell_type": "markdown",
   "id": "779f6478",
   "metadata": {},
   "source": [
    "## Closures\n",
    "\n",
    "A closure is a function *f* with an extended scope that includes variables referenced in the body of *f* that are not global or local variables of *f*. \n",
    "\n",
    "It can access nonglobal variables defined outside funtions *f* body.\n",
    "\n",
    "Consider an *avg* function that computes the mean of an continuously growing series of values.\n"
   ]
  },
  {
   "cell_type": "code",
   "execution_count": 8,
   "id": "4664b02e",
   "metadata": {},
   "outputs": [],
   "source": [
    "def make_averager():\n",
    "    series = []\n",
    "    \n",
    "    def averager(new_value):\n",
    "        series.append(new_value)\n",
    "        total = sum(series)\n",
    "        return total/len(series)\n",
    "    \n",
    "    return averager"
   ]
  },
  {
   "cell_type": "markdown",
   "id": "f56d1fc7",
   "metadata": {},
   "source": [
    "When invoked, *make_average* returns an *average* function object."
   ]
  },
  {
   "cell_type": "code",
   "execution_count": 9,
   "id": "85dfcd1b",
   "metadata": {},
   "outputs": [
    {
     "data": {
      "text/plain": [
       "10.0"
      ]
     },
     "execution_count": 9,
     "metadata": {},
     "output_type": "execute_result"
    }
   ],
   "source": [
    "avg = make_averager()\n",
    "avg(10)"
   ]
  },
  {
   "cell_type": "code",
   "execution_count": 10,
   "id": "4a3ec607",
   "metadata": {},
   "outputs": [
    {
     "data": {
      "text/plain": [
       "10.5"
      ]
     },
     "execution_count": 10,
     "metadata": {},
     "output_type": "execute_result"
    }
   ],
   "source": [
    "avg(11)"
   ]
  },
  {
   "cell_type": "code",
   "execution_count": 11,
   "id": "7400cb76",
   "metadata": {},
   "outputs": [
    {
     "data": {
      "text/plain": [
       "12.0"
      ]
     },
     "execution_count": 11,
     "metadata": {},
     "output_type": "execute_result"
    }
   ],
   "source": [
    "avg(15)"
   ]
  },
  {
   "cell_type": "markdown",
   "id": "0269445c",
   "metadata": {},
   "source": [
    "Where does the *avg* function find the series? \n",
    "\n",
    "Note that **series** is a local variable of *make_averager* because the assignment **series** = [] happens in the body of that function. But when *avg(10)* is called, *make_averager* has already returned, and its local scope is long gone.\n",
    "\n",
    "Within *averager*, **series** is a *free variable*."
   ]
  },
  {
   "cell_type": "markdown",
   "id": "23dff060",
   "metadata": {},
   "source": [
    "![closure](free_var.png)\n",
    "Figure 1. *The closure of the average extends the scope of that function to include the binding for the free variable series.*"
   ]
  },
  {
   "cell_type": "markdown",
   "id": "51c4721a",
   "metadata": {},
   "source": [
    "We can the return function that we called *avg* by looking at the __ code__ attribute. __ code__ represents the compiled body of the function."
   ]
  },
  {
   "cell_type": "code",
   "execution_count": 12,
   "id": "3c0c6f8d",
   "metadata": {},
   "outputs": [
    {
     "data": {
      "text/plain": [
       "('new_value', 'total')"
      ]
     },
     "execution_count": 12,
     "metadata": {},
     "output_type": "execute_result"
    }
   ],
   "source": [
    "avg.__code__.co_varnames"
   ]
  },
  {
   "cell_type": "code",
   "execution_count": 13,
   "id": "8a71c407",
   "metadata": {},
   "outputs": [
    {
     "data": {
      "text/plain": [
       "('series',)"
      ]
     },
     "execution_count": 13,
     "metadata": {},
     "output_type": "execute_result"
    }
   ],
   "source": [
    "avg.__code__.co_freevars"
   ]
  },
  {
   "cell_type": "code",
   "execution_count": 14,
   "id": "9d88c710",
   "metadata": {},
   "outputs": [
    {
     "data": {
      "text/plain": [
       "(<cell at 0x7f161dd309a0: list object at 0x7f161d505c40>,)"
      ]
     },
     "execution_count": 14,
     "metadata": {},
     "output_type": "execute_result"
    }
   ],
   "source": [
    "avg.__closure__"
   ]
  },
  {
   "cell_type": "code",
   "execution_count": 15,
   "id": "28bd19ea",
   "metadata": {},
   "outputs": [
    {
     "data": {
      "text/plain": [
       "[10, 11, 15]"
      ]
     },
     "execution_count": 15,
     "metadata": {},
     "output_type": "execute_result"
    }
   ],
   "source": [
    "avg.__closure__[0].cell_contents"
   ]
  },
  {
   "cell_type": "markdown",
   "id": "42c7b7c4",
   "metadata": {},
   "source": [
    "The body of a function is evaluated in the environment where the function is defined, not the environment\n",
    "where the function is called. [lexical scope](https://courses.cs.washington.edu/courses/cse341/17au/unit3notes.pdf)\n",
    "The scope where a object was defined we also call *lexical* scope.\n",
    "\n",
    "A closure is a function that retains/keeps the bindings of the free variables that exists when the function is defined, so that they can be used later when the function is invoked and the defining scope is no longer available.\n",
    "    "
   ]
  },
  {
   "cell_type": "markdown",
   "id": "a34c9fb7",
   "metadata": {},
   "source": [
    "Let's try to make *make_averager* more efficient:"
   ]
  },
  {
   "cell_type": "code",
   "execution_count": 16,
   "id": "6901c02d",
   "metadata": {},
   "outputs": [
    {
     "ename": "UnboundLocalError",
     "evalue": "local variable 'count' referenced before assignment",
     "output_type": "error",
     "traceback": [
      "\u001b[0;31m---------------------------------------------------------------------------\u001b[0m",
      "\u001b[0;31mUnboundLocalError\u001b[0m                         Traceback (most recent call last)",
      "Cell \u001b[0;32mIn [16], line 13\u001b[0m\n\u001b[1;32m     10\u001b[0m     \u001b[38;5;28;01mreturn\u001b[39;00m averager\n\u001b[1;32m     12\u001b[0m avg \u001b[38;5;241m=\u001b[39m make_averager()\n\u001b[0;32m---> 13\u001b[0m \u001b[43mavg\u001b[49m\u001b[43m(\u001b[49m\u001b[38;5;241;43m10\u001b[39;49m\u001b[43m)\u001b[49m\n",
      "Cell \u001b[0;32mIn [16], line 6\u001b[0m, in \u001b[0;36mmake_averager.<locals>.averager\u001b[0;34m(new_value)\u001b[0m\n\u001b[1;32m      5\u001b[0m \u001b[38;5;28;01mdef\u001b[39;00m \u001b[38;5;21maverager\u001b[39m(new_value):\n\u001b[0;32m----> 6\u001b[0m     count \u001b[38;5;241m+\u001b[39m\u001b[38;5;241m=\u001b[39m \u001b[38;5;241m1\u001b[39m\n\u001b[1;32m      7\u001b[0m     total \u001b[38;5;241m+\u001b[39m\u001b[38;5;241m=\u001b[39m new_value\n\u001b[1;32m      8\u001b[0m     \u001b[38;5;28;01mreturn\u001b[39;00m total \u001b[38;5;241m/\u001b[39m count\n",
      "\u001b[0;31mUnboundLocalError\u001b[0m: local variable 'count' referenced before assignment"
     ]
    }
   ],
   "source": [
    "def make_averager():\n",
    "    count = 0\n",
    "    total = 0\n",
    "    \n",
    "    def averager(new_value):\n",
    "        count += 1\n",
    "        total += new_value\n",
    "        return total / count\n",
    "    \n",
    "    return averager\n",
    "\n",
    "avg = make_averager()\n",
    "avg(10)"
   ]
  },
  {
   "cell_type": "markdown",
   "id": "d5d427a7",
   "metadata": {},
   "source": [
    "*count* and *total* are immutable and all you can do is read, never update. If you try to rebind them, as in *count = count + 1*, then you are implicitly creating a local variable *count*. Therefore, it's not longer a free variable, but a local variable and will be not saved in the closure.\n",
    "\n",
    "To declare variabl as free variable us the **nonlocal** keyword:"
   ]
  },
  {
   "cell_type": "code",
   "execution_count": 17,
   "id": "92c40a65",
   "metadata": {},
   "outputs": [
    {
     "data": {
      "text/plain": [
       "10.0"
      ]
     },
     "execution_count": 17,
     "metadata": {},
     "output_type": "execute_result"
    }
   ],
   "source": [
    "def make_averager():\n",
    "    count = 0\n",
    "    total = 0\n",
    "    \n",
    "    def averager(new_value):\n",
    "        nonlocal count, total\n",
    "        count += 1\n",
    "        total += new_value\n",
    "        return total / count\n",
    "    \n",
    "    return averager\n",
    "\n",
    "avg = make_averager()\n",
    "avg(10)"
   ]
  },
  {
   "cell_type": "markdown",
   "id": "2a635e5d",
   "metadata": {},
   "source": [
    "# Exercises 1\n",
    "\n",
    "- look at the following functions:"
   ]
  },
  {
   "cell_type": "code",
   "execution_count": 183,
   "id": "1c35eae9",
   "metadata": {},
   "outputs": [
    {
     "data": {
      "text/plain": [
       "18"
      ]
     },
     "execution_count": 183,
     "metadata": {},
     "output_type": "execute_result"
    }
   ],
   "source": [
    "def triple():\n",
    "    a = 3\n",
    "    def multiply(b):\n",
    "        return a * b\n",
    "    return multiply\n",
    "triple()(6)\n",
    "\n"
   ]
  },
  {
   "cell_type": "markdown",
   "id": "4ffd95dd",
   "metadata": {},
   "source": [
    "- what is the free variable?\n",
    "- what is the closure?\n",
    "- use __ code__.co_varnames, __ code__.co_freevars, and __ closure__[0].cell_contents"
   ]
  },
  {
   "cell_type": "code",
   "execution_count": 184,
   "id": "9121c747",
   "metadata": {},
   "outputs": [],
   "source": [
    "curry = triple()\n"
   ]
  },
  {
   "cell_type": "code",
   "execution_count": 186,
   "id": "273bf546",
   "metadata": {},
   "outputs": [
    {
     "data": {
      "text/plain": [
       "(('b',), ('a',), 3)"
      ]
     },
     "execution_count": 186,
     "metadata": {},
     "output_type": "execute_result"
    }
   ],
   "source": [
    "curry.__code__.co_varnames, curry.__code__.co_freevars, curry.__closure__[0].cell_contents"
   ]
  },
  {
   "cell_type": "markdown",
   "id": "e0351d80",
   "metadata": {},
   "source": [
    "# Exercise 2\n",
    "\n",
    "- create a function double analogous to the triple triple\n",
    "- what is the free variable?\n",
    "- what is the closure?\n",
    "- use __ code__.co_varnames, __ code__.co_freevars, and __ closure__[0].cell_contents"
   ]
  },
  {
   "cell_type": "code",
   "execution_count": 187,
   "id": "123e2a6f",
   "metadata": {},
   "outputs": [
    {
     "data": {
      "text/plain": [
       "12"
      ]
     },
     "execution_count": 187,
     "metadata": {},
     "output_type": "execute_result"
    }
   ],
   "source": [
    "def double():\n",
    "    a = 2\n",
    "    def multiply(b):\n",
    "        return a * b\n",
    "    return multiply\n",
    "\n",
    "double()(6) ## 12"
   ]
  },
  {
   "cell_type": "markdown",
   "id": "b391e80e",
   "metadata": {},
   "source": [
    "# Exercise 3\n",
    "\n",
    "- look at the following function:"
   ]
  },
  {
   "cell_type": "code",
   "execution_count": 191,
   "id": "ad5fc82e",
   "metadata": {},
   "outputs": [
    {
     "data": {
      "text/plain": [
       "9"
      ]
     },
     "execution_count": 191,
     "metadata": {},
     "output_type": "execute_result"
    }
   ],
   "source": [
    "def deco(func):\n",
    "    def inner(a, b):\n",
    "        return 3 * func(a,b)\n",
    "    return inner\n",
    "\n",
    "def multiply(a,b):\n",
    "    return a * b\n",
    "\n",
    "deco(multiply)(1,3)\n",
    "\n"
   ]
  },
  {
   "cell_type": "markdown",
   "id": "c586ae4f",
   "metadata": {},
   "source": [
    "- what is the free variable?\n",
    "- what is the closure?\n",
    "- use __ code__.co_varnames, __ code__.co_freevars, and __ closure__[0].cell_contents"
   ]
  },
  {
   "cell_type": "code",
   "execution_count": 192,
   "id": "dec8092d",
   "metadata": {},
   "outputs": [
    {
     "data": {
      "text/plain": [
       "6"
      ]
     },
     "execution_count": 192,
     "metadata": {},
     "output_type": "execute_result"
    }
   ],
   "source": [
    "def multiply(a, b):\n",
    "    return a*b\n"
   ]
  },
  {
   "cell_type": "markdown",
   "id": "07175622",
   "metadata": {},
   "source": [
    "## Implementing a Simple Decorator\n",
    "\n"
   ]
  },
  {
   "cell_type": "code",
   "execution_count": 148,
   "id": "a00056eb",
   "metadata": {},
   "outputs": [],
   "source": [
    "import time\n",
    "\n",
    "def clock(fun):\n",
    "    def clocked(n):  #### inner function\n",
    "        t0 = time.time()\n",
    "        result = fun(n)  ### fun is the free variable of the closure\n",
    "        elapsed = time.time() - t0\n",
    "        #print(f\"{elapsed:0.8f}s func({n}) --> {result}\")\n",
    "        print(\"{elapsed: 0.8f}s func({n}) --> {result}\".format(elapsed=elapsed, n=n, result=result))\n",
    "        return result\n",
    "    return clocked ## return the inner function to replace the decorated function"
   ]
  },
  {
   "cell_type": "code",
   "execution_count": 149,
   "id": "dc12e421",
   "metadata": {},
   "outputs": [],
   "source": [
    "\n",
    "def snooze(s):\n",
    "    time.sleep(s)\n",
    "    \n"
   ]
  },
  {
   "cell_type": "code",
   "execution_count": 150,
   "id": "9d2db24f",
   "metadata": {
    "scrolled": true
   },
   "outputs": [],
   "source": [
    "snooze = clock(snooze)\n"
   ]
  },
  {
   "cell_type": "code",
   "execution_count": 151,
   "id": "298955c6",
   "metadata": {},
   "outputs": [
    {
     "name": "stdout",
     "output_type": "stream",
     "text": [
      " 0.50059819s func(0.5) --> None\n"
     ]
    }
   ],
   "source": [
    "snooze(.5)"
   ]
  },
  {
   "cell_type": "markdown",
   "id": "fd307a3d",
   "metadata": {},
   "source": [
    "This is same as writing:"
   ]
  },
  {
   "cell_type": "code",
   "execution_count": 33,
   "id": "fe109581",
   "metadata": {},
   "outputs": [],
   "source": [
    "@clock\n",
    "def snooze(s):\n",
    "    time.sleep(s)"
   ]
  },
  {
   "cell_type": "code",
   "execution_count": 34,
   "id": "56340882",
   "metadata": {},
   "outputs": [
    {
     "name": "stdout",
     "output_type": "stream",
     "text": [
      "0.50062108s func(0.5) --> None\n"
     ]
    }
   ],
   "source": [
    "snooze(.5)"
   ]
  },
  {
   "cell_type": "code",
   "execution_count": 28,
   "id": "5a95b6c3",
   "metadata": {},
   "outputs": [],
   "source": [
    "\n",
    "def fac(n):\n",
    "    result = 1\n",
    "    while n >= 1:\n",
    "        result = result * n\n",
    "        n -= 1\n",
    "    return result"
   ]
  },
  {
   "cell_type": "code",
   "execution_count": 29,
   "id": "a860a74a",
   "metadata": {},
   "outputs": [],
   "source": [
    "fac = clock(fac)\n"
   ]
  },
  {
   "cell_type": "code",
   "execution_count": 32,
   "id": "cc014f6f",
   "metadata": {},
   "outputs": [
    {
     "name": "stdout",
     "output_type": "stream",
     "text": [
      "0.00000648s func(6) --> 720\n"
     ]
    },
    {
     "data": {
      "text/plain": [
       "720"
      ]
     },
     "execution_count": 32,
     "metadata": {},
     "output_type": "execute_result"
    }
   ],
   "source": [
    "fac(6)"
   ]
  },
  {
   "cell_type": "markdown",
   "id": "e32a124d",
   "metadata": {},
   "source": [
    "This is same as writing:"
   ]
  },
  {
   "cell_type": "code",
   "execution_count": 35,
   "id": "cfc6a449",
   "metadata": {},
   "outputs": [],
   "source": [
    "@clock \n",
    "def fac(n):\n",
    "    result = 1\n",
    "    while n >= 1:\n",
    "        result = result * n\n",
    "        n -= 1\n",
    "    return result"
   ]
  },
  {
   "cell_type": "code",
   "execution_count": 36,
   "id": "008f7ebf",
   "metadata": {},
   "outputs": [
    {
     "name": "stdout",
     "output_type": "stream",
     "text": [
      "0.00000215s func(6) --> 720\n"
     ]
    },
    {
     "data": {
      "text/plain": [
       "720"
      ]
     },
     "execution_count": 36,
     "metadata": {},
     "output_type": "execute_result"
    }
   ],
   "source": [
    "fac(6)"
   ]
  },
  {
   "cell_type": "markdown",
   "id": "4cfcf98f",
   "metadata": {},
   "source": [
    "- the decorator replaces the decorated function with a new function (inner)\n",
    "- it accepts the same arguments and \n",
    "- (usually) returns whatever the decorated function was suppose to return\n",
    "- does extra processing\n",
    "- attaches additional responsibilties dynamically"
   ]
  },
  {
   "cell_type": "markdown",
   "id": "855e627f",
   "metadata": {},
   "source": [
    "## Stacked Decorators\n",
    "\n",
    "To make sense of stacked decorators, recall that @ is syntax sugar for applying the decorator function to the function below it. If there's more than one decorator, they behave like nested function calls. This:"
   ]
  },
  {
   "cell_type": "code",
   "execution_count": null,
   "id": "aa297105",
   "metadata": {},
   "outputs": [],
   "source": [
    "@alpha\n",
    "@beta\n",
    "def my_fn():"
   ]
  },
  {
   "cell_type": "markdown",
   "id": "eec8f0e2",
   "metadata": {},
   "source": [
    "is the same as this:\n",
    "\n",
    "```my_fn = alpha(beta(my_fn))```\n",
    "\n",
    "In other words, the *beta* decorator is applied first, and the function it returns is then passed to *alpha*."
   ]
  },
  {
   "cell_type": "code",
   "execution_count": 6,
   "id": "55938be1",
   "metadata": {},
   "outputs": [],
   "source": [
    "def alpha(func):\n",
    "    def inner():\n",
    "        return 'alpha ' + func()\n",
    "    return inner\n",
    "\n",
    "def beta(func):\n",
    "    def inner():\n",
    "        return 'beta ' + func()\n",
    "    return inner"
   ]
  },
  {
   "cell_type": "code",
   "execution_count": 7,
   "id": "94deb533",
   "metadata": {},
   "outputs": [],
   "source": [
    "@alpha\n",
    "@beta\n",
    "def test():\n",
    "    return 'Hello World'"
   ]
  },
  {
   "cell_type": "code",
   "execution_count": 8,
   "id": "e6999975",
   "metadata": {},
   "outputs": [
    {
     "data": {
      "text/plain": [
       "'alpha beta Hello World'"
      ]
     },
     "execution_count": 8,
     "metadata": {},
     "output_type": "execute_result"
    }
   ],
   "source": [
    "test()"
   ]
  },
  {
   "cell_type": "markdown",
   "id": "80f38f84",
   "metadata": {},
   "source": [
    "## Unpacking and decorators\n",
    "\n",
    "To make your decorator function more general, use unpacking:"
   ]
  },
  {
   "cell_type": "code",
   "execution_count": 14,
   "id": "8ee8e1bb",
   "metadata": {},
   "outputs": [],
   "source": [
    "def decorator(func):\n",
    "    def inner(*args, **kwargs):\n",
    "        return 'deco ' + func(*args, **kwargs)\n",
    "    return inner"
   ]
  },
  {
   "cell_type": "code",
   "execution_count": 17,
   "id": "5b19821e",
   "metadata": {},
   "outputs": [],
   "source": [
    "@decorator\n",
    "def test(w1, w2='world'):\n",
    "    return f'{w1} {w2}'"
   ]
  },
  {
   "cell_type": "code",
   "execution_count": 18,
   "id": "b58cdc84",
   "metadata": {},
   "outputs": [
    {
     "data": {
      "text/plain": [
       "'deco Hello world'"
      ]
     },
     "execution_count": 18,
     "metadata": {},
     "output_type": "execute_result"
    }
   ],
   "source": [
    "test('Hello')"
   ]
  },
  {
   "cell_type": "markdown",
   "id": "4670dccc",
   "metadata": {},
   "source": [
    "## Parameterized Decorator\n",
    "\n",
    "To pass other parameters than the function to the decorator we need to make a **decorator factory** that takes those arguments and returns a decorator"
   ]
  },
  {
   "cell_type": "code",
   "execution_count": 152,
   "id": "2584242e",
   "metadata": {},
   "outputs": [],
   "source": [
    "def wrap_with(tag='***'):\n",
    "    \"\"\"Wrap the text in an HTML tag.\"\"\"\n",
    "    def decorator(func):\n",
    "        def inner(first, last):\n",
    "            return f\"{tag} {func(first, last)} {tag}\"\n",
    "        return inner\n",
    "    return decorator"
   ]
  },
  {
   "cell_type": "code",
   "execution_count": 153,
   "id": "8d7959fd",
   "metadata": {},
   "outputs": [],
   "source": [
    "@wrap_with('###')\n",
    "def get_full_name(first, last):\n",
    "    \"\"\"Return the full name of a person.\"\"\"\n",
    "    return f\"{first} {last}\""
   ]
  },
  {
   "cell_type": "code",
   "execution_count": 154,
   "id": "8a36a699",
   "metadata": {},
   "outputs": [
    {
     "data": {
      "text/plain": [
       "'### piet pro ###'"
      ]
     },
     "execution_count": 154,
     "metadata": {},
     "output_type": "execute_result"
    }
   ],
   "source": [
    "get_full_name('piet', 'pro')"
   ]
  },
  {
   "cell_type": "markdown",
   "id": "88fdd598",
   "metadata": {},
   "source": [
    "Same as:"
   ]
  },
  {
   "cell_type": "code",
   "execution_count": 155,
   "id": "2640235b",
   "metadata": {},
   "outputs": [],
   "source": [
    "def get_full_name(first, last):\n",
    "    \"\"\"Return the full name of a person.\"\"\"\n",
    "    return f\"{first} {last}\"\n",
    "\n",
    "get_full_name = wrap_with('###')(get_full_name)"
   ]
  },
  {
   "cell_type": "code",
   "execution_count": 156,
   "id": "6095cd21",
   "metadata": {},
   "outputs": [
    {
     "data": {
      "text/plain": [
       "'### piet pro ###'"
      ]
     },
     "execution_count": 156,
     "metadata": {},
     "output_type": "execute_result"
    }
   ],
   "source": [
    "get_full_name('piet', 'pro')"
   ]
  },
  {
   "cell_type": "code",
   "execution_count": 161,
   "id": "2d13a982",
   "metadata": {},
   "outputs": [],
   "source": [
    "@wrap_with()\n",
    "def get_full_name(first, last):\n",
    "    \"\"\"Return the full name of a person.\"\"\"\n",
    "    return f\"{first} {last}\""
   ]
  },
  {
   "cell_type": "code",
   "execution_count": 162,
   "id": "1700da91",
   "metadata": {},
   "outputs": [
    {
     "data": {
      "text/plain": [
       "'*** piet pro ***'"
      ]
     },
     "execution_count": 162,
     "metadata": {},
     "output_type": "execute_result"
    }
   ],
   "source": [
    "get_full_name('piet', 'pro')"
   ]
  },
  {
   "cell_type": "markdown",
   "id": "0624bf4a",
   "metadata": {},
   "source": [
    "Notice that you always need to call the decorator factory. That factory returns the decorator.\n",
    "Same as:"
   ]
  },
  {
   "cell_type": "code",
   "execution_count": 163,
   "id": "6f0ec041",
   "metadata": {},
   "outputs": [],
   "source": [
    "decorater = wrap_with()\n",
    "@decorater\n",
    "def get_full_name(first, last):\n",
    "    \"\"\"Return the full name of a person.\"\"\"\n",
    "    return f\"{first} {last}\""
   ]
  },
  {
   "cell_type": "code",
   "execution_count": 164,
   "id": "18336ca6",
   "metadata": {},
   "outputs": [
    {
     "data": {
      "text/plain": [
       "'*** piet pro ***'"
      ]
     },
     "execution_count": 164,
     "metadata": {},
     "output_type": "execute_result"
    }
   ],
   "source": [
    "get_full_name('piet', 'pro')"
   ]
  },
  {
   "cell_type": "markdown",
   "id": "bf865ac1",
   "metadata": {},
   "source": [
    "You also can run multiple decorators:"
   ]
  },
  {
   "cell_type": "code",
   "execution_count": 158,
   "id": "0717417c",
   "metadata": {},
   "outputs": [],
   "source": [
    "@wrap_with('###')\n",
    "@wrap_with('---')\n",
    "def get_full_name(first, last):\n",
    "    \"\"\"Return the full name of a person.\"\"\"\n",
    "    return f\"{first} {last}\""
   ]
  },
  {
   "cell_type": "code",
   "execution_count": 159,
   "id": "15e5dbf8",
   "metadata": {},
   "outputs": [
    {
     "data": {
      "text/plain": [
       "'### --- piet teacher --- ###'"
      ]
     },
     "execution_count": 159,
     "metadata": {},
     "output_type": "execute_result"
    }
   ],
   "source": [
    "get_full_name('piet', 'teacher')"
   ]
  },
  {
   "cell_type": "markdown",
   "id": "4e385432",
   "metadata": {},
   "source": [
    "Same as:"
   ]
  },
  {
   "cell_type": "code",
   "execution_count": 169,
   "id": "9adf1e56",
   "metadata": {},
   "outputs": [],
   "source": [
    "def get_full_name(first, last):\n",
    "    \"\"\"Return the full name of a person.\"\"\"\n",
    "    return f\"{first} {last}\""
   ]
  },
  {
   "cell_type": "code",
   "execution_count": 170,
   "id": "ffe4e3bd",
   "metadata": {},
   "outputs": [],
   "source": [
    "get_full_name = wrap_with('###')(wrap_with('---')(get_full_name))"
   ]
  },
  {
   "cell_type": "code",
   "execution_count": 171,
   "id": "4ec9329c",
   "metadata": {},
   "outputs": [
    {
     "data": {
      "text/plain": [
       "'### --- piet teacher --- ###'"
      ]
     },
     "execution_count": 171,
     "metadata": {},
     "output_type": "execute_result"
    }
   ],
   "source": [
    "get_full_name('piet', 'teacher')"
   ]
  },
  {
   "cell_type": "markdown",
   "id": "3d352436",
   "metadata": {},
   "source": [
    "Let's return to our clock decorator:"
   ]
  },
  {
   "cell_type": "code",
   "execution_count": 173,
   "id": "8a278764",
   "metadata": {},
   "outputs": [],
   "source": [
    "DEFAULT_FMT = \"{elapsed: 0.8f}s func(n) --> {result}\"\n",
    "\n",
    "def clock(fmt=DEFAULT_FMT):\n",
    "    def decorator(fun):\n",
    "        def clocked(n):  #### inner function\n",
    "            t0 = time.time()\n",
    "            result = fun(n)  ### fun is the free variable of the closure\n",
    "            elapsed = time.time() - t0\n",
    "            print(\"{elapsed: 0.8f}s func({n}) --> {result}\".format(elapsed=elapsed, n=n, result=result))\n",
    "            print(fmt.format(elapsed=elapsed, n=n, result=result))\n",
    "            #print(fmt.format(**locals()))\n",
    "            #print({**locals()})\n",
    "            return result\n",
    "        return clocked\n",
    "    return decorator ## return the inner function to replace the decorated function"
   ]
  },
  {
   "cell_type": "code",
   "execution_count": 174,
   "id": "8705184b",
   "metadata": {},
   "outputs": [
    {
     "data": {
      "text/plain": [
       "'1 and 2'"
      ]
     },
     "execution_count": 174,
     "metadata": {},
     "output_type": "execute_result"
    }
   ],
   "source": [
    "x = 1\n",
    "y = 2\n",
    "\n",
    "\"{x} and {y}\".format(x=x, y=y)"
   ]
  },
  {
   "cell_type": "code",
   "execution_count": 175,
   "id": "110f457e",
   "metadata": {},
   "outputs": [],
   "source": [
    "@clock()\n",
    "def hello(n):\n",
    "    return 'hello world'"
   ]
  },
  {
   "cell_type": "code",
   "execution_count": 176,
   "id": "d75539a1",
   "metadata": {},
   "outputs": [
    {
     "name": "stdout",
     "output_type": "stream",
     "text": [
      " 0.00000238s func(1) --> hello world\n",
      " 0.00000238s func(n) --> hello world\n",
      " 0.00000238s func(n) --> hello world\n"
     ]
    },
    {
     "data": {
      "text/plain": [
       "'hello world'"
      ]
     },
     "execution_count": 176,
     "metadata": {},
     "output_type": "execute_result"
    }
   ],
   "source": [
    "hello(1)\n"
   ]
  },
  {
   "cell_type": "code",
   "execution_count": 177,
   "id": "1240d8a8",
   "metadata": {},
   "outputs": [],
   "source": [
    "@clock(fmt=\"{elapsed}s : {result}\")\n",
    "def hello(n):\n",
    "    return 'hello world'"
   ]
  },
  {
   "cell_type": "code",
   "execution_count": 147,
   "id": "8c0ea099",
   "metadata": {},
   "outputs": [
    {
     "name": "stdout",
     "output_type": "stream",
     "text": [
      " 0.00000334s func(1) --> hello world\n",
      "3.337860107421875e-06s : hello world\n",
      "3.337860107421875e-06s : hello world\n"
     ]
    },
    {
     "data": {
      "text/plain": [
       "'hello world'"
      ]
     },
     "execution_count": 147,
     "metadata": {},
     "output_type": "execute_result"
    }
   ],
   "source": [
    "hello(1)"
   ]
  },
  {
   "cell_type": "code",
   "execution_count": null,
   "id": "b136e2c3",
   "metadata": {},
   "outputs": [],
   "source": []
  },
  {
   "cell_type": "code",
   "execution_count": null,
   "id": "c20659d7",
   "metadata": {},
   "outputs": [],
   "source": []
  }
 ],
 "metadata": {
  "kernelspec": {
   "display_name": "Python 3 (ipykernel)",
   "language": "python",
   "name": "python3"
  },
  "language_info": {
   "codemirror_mode": {
    "name": "ipython",
    "version": 3
   },
   "file_extension": ".py",
   "mimetype": "text/x-python",
   "name": "python",
   "nbconvert_exporter": "python",
   "pygments_lexer": "ipython3",
   "version": "3.8.10"
  }
 },
 "nbformat": 4,
 "nbformat_minor": 5
}
