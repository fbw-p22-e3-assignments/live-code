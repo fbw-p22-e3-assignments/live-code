{
 "cells": [
  {
   "attachments": {},
   "cell_type": "markdown",
   "metadata": {},
   "source": [
    "# Testing\n",
    "\n",
    "## Error in Software\n",
    "\n",
    "Cost of failure 2017:\n",
    "\n",
    "- US$1.7 trillion in financial losses\n",
    "- 3.6 billion people affected\n",
    "\n",
    "Some software errors have caused considerable material and human damage.\n",
    "\n",
    "Watch the following video, Top Ten Most Disastrous Software Bugs: https://www.youtube.com/watch?v=AGI371ht1N8\n",
    "\n",
    "How can we avoid bugs?"
   ]
  },
  {
   "attachments": {},
   "cell_type": "markdown",
   "metadata": {},
   "source": [
    "Is it possible to build software without errors?\n",
    "\n",
    "- No software is ever 100% bug-free.\n",
    "- Building software is an ongoing process.\n",
    "- Normal day for any developer is:\n",
    "    1. Write code for one hour.\n",
    "    2. Spend the rest of the day to fix it."
   ]
  },
  {
   "attachments": {},
   "cell_type": "markdown",
   "metadata": {},
   "source": [
    "**Type of Errors**\n",
    "- Syntax Errors (easy to fix)\n",
    "- Run Time errors (bugs): (only show after running the program.)"
   ]
  },
  {
   "attachments": {},
   "cell_type": "markdown",
   "metadata": {},
   "source": [
    "**Run Time Errors**\n",
    "\n",
    "- Logic errors (mistake in software flow)\n",
    "- Calculation errors\n",
    "- Unit-level bugs\n",
    "- System-level integration bugs (two or more pieces of software from separate subsystems interact erroneously.)\n"
   ]
  },
  {
   "attachments": {},
   "cell_type": "markdown",
   "metadata": {},
   "source": [
    "**Software Testing**\n",
    "\n",
    "Pro|Cons\n",
    "---|----\n",
    "Bugs will often be found before the software is released. | It takes extra time to test the software.\n",
    "\n",
    "You can either manually or automatically test yous software. "
   ]
  },
  {
   "attachments": {},
   "cell_type": "markdown",
   "metadata": {},
   "source": [
    "Automated Tests**\n",
    "What are the advantages and disadvantages?\n",
    "\n",
    "Pro|Cons\n",
    "---|----\n",
    "Run quickly by a computer. | The testing scripts have to be written.\n",
    "Fantastic return on investment. |\n",
    "Write them once, then run them many, many times.| The test code has to be maintained.\n",
    "Help you to maintain your application|\n",
    "Test can help other developers to understand the program, thus can act as a kind of documentation.| You have to be precise when you write the test scripts"
   ]
  },
  {
   "attachments": {
    "image.png": {
     "image/png": "[encoded data removed]"
    }
   },
   "cell_type": "markdown",
   "metadata": {},
   "source": [
    "TDD (Test Driven Development)\n",
    "\n",
    "![image.png](attachment:image.png)"
   ]
  },
  {
   "cell_type": "code",
   "execution_count": 15,
   "metadata": {},
   "outputs": [],
   "source": [
    "class CatController:\n",
    "    def hourly_run(self, hour):\n",
    "        if hour == 7:\n",
    "            return 'Open cat cage.'\n",
    "        elif hour in range(8, 12) or hour in range(13,20):\n",
    "            return 'Give water.'\n",
    "        return ''\n",
    "        "
   ]
  },
  {
   "attachments": {},
   "cell_type": "markdown",
   "metadata": {},
   "source": [
    "Unit Test\n",
    "- Test for a single unit (functions, methods)"
   ]
  },
  {
   "cell_type": "code",
   "execution_count": 16,
   "metadata": {},
   "outputs": [
    {
     "data": {
      "text/plain": [
       "'All test run successfully.'"
      ]
     },
     "execution_count": 16,
     "metadata": {},
     "output_type": "execute_result"
    }
   ],
   "source": [
    "WATER_HOURS = [8,9,10,11,13,14,15,16,17,18,19]\n",
    "\n",
    "def main():\n",
    "    test_failed = False\n",
    "    error_msg = ''\n",
    "\n",
    "    cat_controller = CatController()\n",
    "\n",
    "    for hour in range(24):\n",
    "        if hour in WATER_HOURS:\n",
    "            if not \"Give water.\" in cat_controller.hourly_run(hour):\n",
    "                test_failed = True\n",
    "                error_msg = \"Failed to give water.\"\n",
    "        elif \"Give water.\" in cat_controller.hourly_run(hour):\n",
    "            test_failed = True\n",
    "            error_msg = \"Should not give water.\"\n",
    "\n",
    "\n",
    "        if not \"Open cat cage.\" in cat_controller.hourly_run(7):\n",
    "            test_failed = True\n",
    "            error_msg = \"Failed to open cage.\"\n",
    "\n",
    "    return 'All test run successfully.' if not test_failed else error_msg\n",
    "\n",
    "main()\n"
   ]
  },
  {
   "attachments": {},
   "cell_type": "markdown",
   "metadata": {},
   "source": [
    "### Unit test framework\n",
    "- to write more robust test we can also use the Python unit testing framework\n",
    "\n",
    "In testing following terminology is used:\n",
    "- Test Fixtures\n",
    "- Test cases\n",
    "- Test suite\n",
    "- Test runners"
   ]
  },
  {
   "attachments": {},
   "cell_type": "markdown",
   "metadata": {},
   "source": [
    "**Fixtures**\n",
    "In unit testing, you'll often need to execute a set of common instructions before and after running a test. \n",
    "These instructions could be resembled by objects that represents the configuration state of your app. \n",
    "These components are known as fixtures and are set up before a test and cleaned up after the test has finished."
   ]
  },
  {
   "attachments": {},
   "cell_type": "markdown",
   "metadata": {},
   "source": [
    "**Test cases**\n",
    "is the individual unit of testing. It checks for a specific response to a particular set of inputs."
   ]
  },
  {
   "attachments": {},
   "cell_type": "markdown",
   "metadata": {},
   "source": [
    "**Test suite**\n",
    "With a growing amount of test cases, the need for categorizing them increases as well. Test suites are collections of test cases."
   ]
  },
  {
   "attachments": {},
   "cell_type": "markdown",
   "metadata": {},
   "source": [
    "**Test runners**\n",
    "is a component which orchestrates the execution of tests and provides the outcome to the user.\n",
    "\n",
    "The three most popular test runners are:\n",
    "\n",
    "unittest\n",
    "pytest\n",
    "nose2"
   ]
  },
  {
   "attachments": {
    "image.png": {
     "image/png": "[encoded data removed]"
    }
   },
   "cell_type": "markdown",
   "metadata": {},
   "source": [
    "![image.png](attachment:image.png)"
   ]
  },
  {
   "attachments": {},
   "cell_type": "markdown",
   "metadata": {},
   "source": [
    "Suppose we are writing a currency app:\n",
    "Aim:\n",
    "\n",
    "1. 2 * 5USD ---> 10 USD\n",
    "2. 2 * 10EUR --> 20 EUR"
   ]
  },
  {
   "cell_type": "code",
   "execution_count": null,
   "metadata": {},
   "outputs": [],
   "source": [
    "import unittest\n",
    "\n",
    "class TestMoney(unittest.TestCase):\n",
    "    def test_multiplication(self):\n",
    "        five = Dollars(5)\n",
    "        tenner = five.times(2)\n",
    "        # return True if 10 == tenner.amount else False\n",
    "        self.assertEqual(10, tenner.amount)\n",
    "\n",
    "unittest.main()"
   ]
  },
  {
   "attachments": {},
   "cell_type": "markdown",
   "metadata": {},
   "source": [
    "Running the code with a test runner:\n",
    "- python3 -m unittest -v (looks for files starting with 'test_')\n",
    "- python3 -m unittest test_money.py (runs test file)\n",
    "- python3 -m unittest test_money (runs test as an module)\n",
    "- python3 -m unittest test_money.TestMoney (runs this test case)\n",
    "- python3 -m unittest test_money.TestMoney.test_multiplication_in_dollar (runs one test method of a test case)\n",
    "\n",
    "- pytest -v\n",
    "- pytest -v test_money.py \n",
    "\n",
    "**Run coverage**\n",
    "\n",
    "- coverage run -m unittest\n",
    "- coverage report -m"
   ]
  },
  {
   "attachments": {},
   "cell_type": "markdown",
   "metadata": {},
   "source": [
    "Assertions\n",
    "\n",
    "<table>\n",
    "<thead>\n",
    "<tr><th>Method</th><th>Checks that</th></tr>\n",
    "</thead>\n",
    "<tbody>\n",
    "<tr><td><code><a href=\"https://www.pythontutorial.net/python-unit-testing/python-assertequal/\">assertEqual(x,&nbsp;y, msg=None)</a></code></td>\n",
    "<td><code>x&nbsp;==&nbsp;y</code></td></tr><tr><td><code><a href=\"https://www.pythontutorial.net/python-unit-testing/python-assertequal/\">assertNotEqual(x,y,msg=None)</a></code></td><td><code>x&nbsp;!=&nbsp;y</code></td></tr>\n",
    "<tr><td><code><a href=\"https://www.pythontutorial.net/python-unit-testing/python-asserttrue/\">assertTrue(x, msg=None)</a></code></td><td><code>bool(x)&nbsp;is&nbsp;True</code></td></tr>\n",
    "<tr><td><code><a href=\"https://www.pythontutorial.net/python-unit-testing/python-asserttrue/\">assertFalse(x, msg=None)</a></code></td><td><code>bool(x)&nbsp;is&nbsp;False</code></td></tr>\n",
    "</tbody></table>"
   ]
  },
  {
   "attachments": {},
   "cell_type": "markdown",
   "metadata": {},
   "source": [
    "Method|Checks that\n",
    "---|---\n",
    "assertIn(x, y, msg=None)| x in y\n",
    "fail(msg=None)|forces test to Fail\n",
    "pass | forces the test to pass\n",
    "assertRaise(Error)|checks if error is raised"
   ]
  },
  {
   "attachments": {},
   "cell_type": "markdown",
   "metadata": {},
   "source": [
    "##  Context Managers and with Blocks\n",
    "\n",
    "- Context Managers exists to control a with statement, just like iterators exists to control a for statement\n",
    "\n",
    "classes of a context manager instance have two methods:\n",
    "- __ enter__\n",
    "- __ exit__"
   ]
  },
  {
   "cell_type": "code",
   "execution_count": 38,
   "metadata": {},
   "outputs": [],
   "source": [
    "class MyContext:\n",
    "    def __enter__(self):\n",
    "        print('Enter context')\n",
    "        return 'Hello World'\n",
    "\n",
    "    def __exit__(self, exc_type, exc_value, traceback):\n",
    "        print('Exit context')\n",
    "        print('EXC_TYPE',exc_type)\n",
    "        print(exc_value)\n",
    "        print(traceback)\n",
    "        if exc_type is AttributeError:\n",
    "            print('Error handled gracefully')\n",
    "            return True"
   ]
  },
  {
   "cell_type": "code",
   "execution_count": 39,
   "metadata": {},
   "outputs": [
    {
     "name": "stdout",
     "output_type": "stream",
     "text": [
      "Enter context\n",
      "INSIDE CONTEXT\n",
      "Exit context\n",
      "EXC_TYPE <class 'TypeError'>\n",
      "Type error occurred\n",
      "<traceback object at 0x7f1c61c9ec40>\n",
      "Hello World\n"
     ]
    }
   ],
   "source": [
    "with MyContext() as value:\n",
    "    print('INSIDE CONTEXT')\n",
    "    raise TypeError('Type error occurred')\n",
    "    print('inside context', value)\n",
    "print(value)"
   ]
  },
  {
   "cell_type": "code",
   "execution_count": 87,
   "metadata": {},
   "outputs": [],
   "source": [
    "class MyAssertionRaises:\n",
    "    def __init__(self, error):\n",
    "        self.error = error\n",
    "        self.test_result = {'passed': True}\n",
    "\n",
    "    def __enter__(self):\n",
    "        return self.test_result\n",
    "\n",
    "    def __exit__(self, exc_type, exc_value, traceback):\n",
    "        print(traceback.tb_frame)\n",
    "        if self.error == exc_type:\n",
    "            return True\n",
    "        else:\n",
    "            self.test_result['passed'] = False"
   ]
  },
  {
   "cell_type": "code",
   "execution_count": 79,
   "metadata": {},
   "outputs": [],
   "source": [
    "def func_to_test(text):\n",
    "    if type(text) is not str:\n",
    "        raise TypeError('Wrong type!')\n",
    "    else:\n",
    "        return text.upper()\n",
    "\n"
   ]
  },
  {
   "cell_type": "code",
   "execution_count": 86,
   "metadata": {},
   "outputs": [],
   "source": [
    "overall_result = []\n",
    "def test_func_to_test_raises_type_error():\n",
    "    with MyAssertionRaises(TypeError) as result:\n",
    "        func_to_test(1)  # \n",
    "    overall_result.append(result['passed'])\n",
    "\n",
    "def test_upper():\n",
    "    overall_result.append(func_to_test('bla') == 'BLA')"
   ]
  },
  {
   "cell_type": "code",
   "execution_count": 88,
   "metadata": {},
   "outputs": [
    {
     "name": "stdout",
     "output_type": "stream",
     "text": [
      "<frame at 0x7f1c38024aa0, file '/tmp/ipykernel_1340182/4162920709.py', line 3, code test_func_to_test_raises_type_error>\n",
      "Test passed: True\n"
     ]
    }
   ],
   "source": [
    "test_func_to_test_raises_type_error()\n",
    "test_upper()\n",
    "print('Test passed:',all(overall_result))"
   ]
  },
  {
   "cell_type": "code",
   "execution_count": null,
   "metadata": {},
   "outputs": [],
   "source": [
    "def func_true():\n",
    "    return True\n",
    "\n",
    "def test_true():\n",
    "    assert func_true()\n",
    "\n",
    "test_true()"
   ]
  },
  {
   "attachments": {},
   "cell_type": "markdown",
   "metadata": {},
   "source": [
    "### List of different Errors\n",
    "\n",
    "<table class=\"table table-bordered \">\n",
    "                <thead>\n",
    "                    <tr>\n",
    "                        <th>\n",
    "                            Exception\n",
    "                        </th>\n",
    "                        <th>\n",
    "                            Description\n",
    "                        </th>\n",
    "                    </tr>\n",
    "                </thead>\n",
    "                <tbody>\n",
    "                    <tr>\n",
    "                        <td>\n",
    "                            AssertionError\n",
    "                        </td>\n",
    "                        <td>\n",
    "                            Raised when the assert statement fails.\n",
    "                        </td>\n",
    "                    </tr>\n",
    "                    <tr>\n",
    "                        <td>\n",
    "                            AttributeError\n",
    "                        </td>\n",
    "                        <td>\n",
    "                            Raised on the attribute assignment or reference fails.\n",
    "                        </td>\n",
    "                    </tr>\n",
    "                    <tr>\n",
    "                        <td>\n",
    "                            EOFError\n",
    "                        </td>\n",
    "                        <td>\n",
    "                            Raised when the input() function hits the end-of-file condition.\n",
    "                        </td>\n",
    "                    </tr>\n",
    "                    <tr>\n",
    "                        <td>\n",
    "                            ImportError\n",
    "                        </td>\n",
    "                        <td>\n",
    "                            Raised when the imported module is not found.\n",
    "                        </td>\n",
    "                    </tr>\n",
    "                    <tr>\n",
    "                        <td>\n",
    "                            IndexError\n",
    "                        </td>\n",
    "                        <td>\n",
    "                            Raised when the index of a sequence is out of range.\n",
    "                        </td>\n",
    "                    </tr>\n",
    "                    <tr>\n",
    "                        <td>\n",
    "                            KeyError\n",
    "                        </td>\n",
    "                        <td>\n",
    "                            Raised when a key is not found in a dictionary.\n",
    "                        </td>\n",
    "                    </tr>\n",
    "                    <tr>\n",
    "                        <td>\n",
    "                            KeyboardInterrupt\n",
    "                        </td>\n",
    "                        <td>\n",
    "                            Raised when the user hits the interrupt key (Ctrl+c or delete).\n",
    "                        </td>\n",
    "                    </tr>\n",
    "                    <tr>\n",
    "                        <td>\n",
    "                            NameError\n",
    "                        </td>\n",
    "                        <td>\n",
    "                            Raised when a variable is not found in the local or global scope.\n",
    "                        </td>\n",
    "                    </tr>\n",
    "                    <tr>\n",
    "                        <td>\n",
    "                            NotImplementedError\n",
    "                        </td>\n",
    "                        <td>\n",
    "                            Raised by abstract methods.\n",
    "                        </td>\n",
    "                    </tr>\n",
    "                    <tr>\n",
    "                        <td>\n",
    "                            RuntimeError\n",
    "                        </td>\n",
    "                        <td>\n",
    "                            Raised when an error does not fall under any other category.\n",
    "                        </td>\n",
    "                    </tr>\n",
    "                    <tr>\n",
    "                        <td>\n",
    "                            StopIteration\n",
    "                        </td>\n",
    "                        <td>\n",
    "                            Raised by the next() function to indicate that there is no further item to be returned by the iterator.\n",
    "                        </td>\n",
    "                    </tr>\n",
    "                    <tr>\n",
    "                        <td>\n",
    "                            SyntaxError\n",
    "                        </td>\n",
    "                        <td>\n",
    "                            Raised by the parser when a syntax error is encountered.\n",
    "                        </td>\n",
    "                    </tr>\n",
    "                    <tr>\n",
    "                        <td>\n",
    "                            IndentationError\n",
    "                        </td>\n",
    "                        <td>\n",
    "                            Raised when there is an incorrect indentation.\n",
    "                        </td>\n",
    "                    </tr>\n",
    "                    <tr>\n",
    "                        <td>\n",
    "                            SystemError\n",
    "                        </td>\n",
    "                        <td>\n",
    "                            Raised when the interpreter detects internal error.\n",
    "                        </td>\n",
    "                    </tr>\n",
    "                    <tr>\n",
    "                        <td>\n",
    "                            SystemExit\n",
    "                        </td>\n",
    "                        <td>\n",
    "                            Raised by the sys.exit() function.\n",
    "                        </td>\n",
    "                    </tr>\n",
    "                    <tr>\n",
    "                        <td>\n",
    "                            TypeError\n",
    "                        </td>\n",
    "                        <td>\n",
    "                            Raised when a function or operation is applied to an object of an incorrect type.\n",
    "                        </td>\n",
    "                    </tr>\n",
    "                    <tr>\n",
    "                        <td>\n",
    "                            UnboundLocalError\n",
    "                        </td>\n",
    "                        <td>\n",
    "                            Raised when a reference is made to a local variable in a function or method, but no value has been bound to that variable.\n",
    "                        </td>\n",
    "                    </tr>\n",
    "                    <tr>\n",
    "                        <td>\n",
    "                            ValueError\n",
    "                        </td>\n",
    "                        <td>\n",
    "                            Raised when a function gets an argument of correct type but improper value.\n",
    "                        </td>\n",
    "                    </tr>\n",
    "                    <tr>\n",
    "                        <td>\n",
    "                            ZeroDivisionError\n",
    "                        </td>\n",
    "                        <td>\n",
    "                            Raised when the second operand of a division or module operation is zero.\n",
    "                        </td>\n",
    "                    </tr>\n",
    "                </tbody>\n",
    "            </table>"
   ]
  },
  {
   "cell_type": "markdown",
   "metadata": {},
   "source": [
    "### Pytest"
   ]
  },
  {
   "cell_type": "markdown",
   "metadata": {},
   "source": [
    "- pytest makes testing easier"
   ]
  },
  {
   "attachments": {},
   "cell_type": "markdown",
   "metadata": {},
   "source": [
    "## Mocking\n",
    "\n",
    "A mock is a simulation of the object in the code that is being tested. It is simulated to allow\n",
    "running tests against the object without incurring in unwanted side effects.\n"
   ]
  },
  {
   "attachments": {},
   "cell_type": "markdown",
   "metadata": {},
   "source": [
    "Suppose you want to test a function which deletes specific files:\n",
    "\n",
    "- see MOCK_live folder"
   ]
  },
  {
   "cell_type": "code",
   "execution_count": null,
   "metadata": {},
   "outputs": [],
   "source": [
    "# ./MOCK_live/delete.py\n",
    "import os\n",
    "\n",
    "def rm(filename):\n",
    "    os.remove(filename)"
   ]
  },
  {
   "cell_type": "code",
   "execution_count": null,
   "metadata": {},
   "outputs": [],
   "source": [
    "#\n",
    "import unittest\n",
    "import os\n",
    "from delete import rm\n",
    "\n",
    "class RmTestCase(unittest.TestCase):\n",
    "    def test_rm(self):\n",
    "        #create a file\n",
    "        open('somefile.txt', 'a')\n",
    "        #try to delete\n",
    "        rm('somefile.txt')\n",
    "        file_exists = os.path.isfile('./somefile.txt')\n",
    "        self.assertFalse(file_exists, 'failed to remove the file')"
   ]
  },
  {
   "attachments": {},
   "cell_type": "markdown",
   "metadata": {},
   "source": [
    "Mocking with decorator (Version 1)"
   ]
  },
  {
   "cell_type": "code",
   "execution_count": null,
   "metadata": {},
   "outputs": [],
   "source": [
    "import unittest\n",
    "from unittest import mock\n",
    "from delete import rm\n",
    "\n",
    "\n",
    "class RmTestCase(unittest.TestCase):\n",
    "\n",
    "    @mock.patch('delete.os')\n",
    "    def test_rm(self, mock_os):\n",
    "        #try to delete\n",
    "        rm('somefile.txt')\n",
    "        mock_os.remove.assert_called_with(\"somefile.txt\")\n",
    "\n"
   ]
  },
  {
   "attachments": {},
   "cell_type": "markdown",
   "metadata": {},
   "source": [
    "At runtime, the *delete* module has its own **os** which is imported into its own local scope in the module. Thus, if we mock **os**, we won't see the effects of the mock in the *delete* module. "
   ]
  },
  {
   "attachments": {},
   "cell_type": "markdown",
   "metadata": {},
   "source": [
    "### Mocking with context manager (Version 2)"
   ]
  },
  {
   "cell_type": "code",
   "execution_count": null,
   "metadata": {},
   "outputs": [],
   "source": [
    "import unittest\n",
    "from unittest import mock\n",
    "from delete import rm\n",
    "\n",
    "\n",
    "class RmTestCase(unittest.TestCase):\n",
    "\n",
    "    def test_rm(self):\n",
    "        with mock.patch('delete.os') as mock_os:\n",
    "            rm('somefile.txt')\n",
    "            mock_os.remove.assert_called_with(\"somefile.txt\")"
   ]
  },
  {
   "attachments": {},
   "cell_type": "markdown",
   "metadata": {},
   "source": [
    "### Mocking without Test Class (Version3)"
   ]
  },
  {
   "cell_type": "code",
   "execution_count": null,
   "metadata": {},
   "outputs": [],
   "source": [
    "from delete import rm \n",
    "from unittest import mock\n",
    "\n",
    "@mock.patch('delete.os')\n",
    "def test_rm(self):\n",
    "    rm('foo')\n",
    "    assert mock_os.remove.call_count == 1\n",
    "    mock_os.remove.assert_called_with(\"somefile.txt\")\n",
    "    "
   ]
  }
 ],
 "metadata": {
  "kernelspec": {
   "display_name": "Python 3",
   "language": "python",
   "name": "python3"
  },
  "language_info": {
   "codemirror_mode": {
    "name": "ipython",
    "version": 3
   },
   "file_extension": ".py",
   "mimetype": "text/x-python",
   "name": "python",
   "nbconvert_exporter": "python",
   "pygments_lexer": "ipython3",
   "version": "3.10.9 (main, Dec  7 2022, 01:12:00) [GCC 9.4.0]"
  },
  "orig_nbformat": 4,
  "vscode": {
   "interpreter": {
    "hash": "97cc609b13305c559618ec78a438abc56230b9381f827f22d070313b9a1f3777"
   }
  }
 },
 "nbformat": 4,
 "nbformat_minor": 2
}
