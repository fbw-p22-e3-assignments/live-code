{
 "cells": [
  {
   "cell_type": "markdown",
   "id": "a42ee172",
   "metadata": {},
   "source": [
    "###### An Array of Sequences\n",
    "\n",
    "## Overview of Built-In Sequences \n",
    "\n",
    "Another way of grouping sequence types (instead of mutability):\n",
    "\n",
    "*Container sequnces*\n",
    "    Can hold items of different types, including nested containers, For example: *list, typles, collections.deque*\n",
    "    \n",
    "*Flat sequences*\n",
    "    Hold items of one simple type. For example: *str* and *array.array*"
   ]
  },
  {
   "cell_type": "code",
   "execution_count": 1,
   "id": "af4f1493",
   "metadata": {},
   "outputs": [
    {
     "data": {
      "text/plain": [
       "(9.46, 'cat', [2.08, 4.29])"
      ]
     },
     "execution_count": 1,
     "metadata": {},
     "output_type": "execute_result"
    }
   ],
   "source": [
    "(9.46, 'cat', [2.08, 4.29]) # The tuple has an array of references to its items\n",
    "# each item is a seperate Python object, possibly holding references to other Python objects"
   ]
  },
  {
   "cell_type": "code",
   "execution_count": 2,
   "id": "1ed95bda",
   "metadata": {},
   "outputs": [
    {
     "data": {
      "text/plain": [
       "array('d', [1.0, 2.08, 4.29, 1.0, 1.0])"
      ]
     },
     "execution_count": 2,
     "metadata": {},
     "output_type": "execute_result"
    }
   ],
   "source": [
    "import array\n",
    "arr = array.array('d', [9.46, 2.08, 4.29, 1]) \n",
    "#array of type float (d stands for double which corrensponds to python floats)\n",
    "arr[0] =1\n",
    "\n",
    "arr.append(1)\n",
    "arr\n"
   ]
  },
  {
   "cell_type": "markdown",
   "id": "f0a5653d",
   "metadata": {},
   "source": [
    "Draw in Excalidraw pg. 23"
   ]
  },
  {
   "cell_type": "markdown",
   "id": "17b22ae1",
   "metadata": {},
   "source": [
    "- A *container sequence* holds references  to the objects it holds, which may be of any type.\n",
    "- A *flat sequence* stores the value of its contents iin its own memory space, not as **distinct Python object**."
   ]
  },
  {
   "cell_type": "markdown",
   "id": "08ae5920",
   "metadata": {},
   "source": [
    "Every Python object in memory has a header with metadata.\n",
    "Thus, flat sequences are more compact, but they limited to one simple type."
   ]
  },
  {
   "cell_type": "markdown",
   "id": "4f8c27e5",
   "metadata": {},
   "source": [
    "## List Comprehension\n",
    "\n",
    "A quick way to build a sequence is using a list comprehension (*listcomps*)."
   ]
  },
  {
   "cell_type": "markdown",
   "id": "02a905af",
   "metadata": {},
   "source": [
    "Compare those two code snippets:"
   ]
  },
  {
   "cell_type": "code",
   "execution_count": 3,
   "id": "b2fdb3f7",
   "metadata": {},
   "outputs": [
    {
     "data": {
      "text/plain": [
       "[5, 5, 5, 3]"
      ]
     },
     "execution_count": 3,
     "metadata": {},
     "output_type": "execute_result"
    }
   ],
   "source": [
    "strings = ['Hello', 'world', 'again', 'bla']\n",
    "\n",
    "length = []\n",
    "\n",
    "for word in strings:\n",
    "    length.append(len(word))\n",
    "length"
   ]
  },
  {
   "cell_type": "code",
   "execution_count": 4,
   "id": "6a0f7891",
   "metadata": {},
   "outputs": [
    {
     "data": {
      "text/plain": [
       "[5, 5, 5, 3]"
      ]
     },
     "execution_count": 4,
     "metadata": {},
     "output_type": "execute_result"
    }
   ],
   "source": [
    "length = [len(word) for word in strings]\n",
    "length"
   ]
  },
  {
   "cell_type": "markdown",
   "id": "317d7241",
   "metadata": {},
   "source": [
    "A for loop can be used to do many different things: scanning, count or any number of other tasks.\n",
    "In contrast, a listcomp is more explicit. Its goal is **always** to build a new list."
   ]
  },
  {
   "cell_type": "markdown",
   "id": "075ad476",
   "metadata": {},
   "source": [
    "## Mapping and Filtering with Listcomps "
   ]
  },
  {
   "cell_type": "code",
   "execution_count": 5,
   "id": "5d27ead9",
   "metadata": {},
   "outputs": [
    {
     "data": {
      "text/plain": [
       "['HELLO', 'WORLD', 'AGAIN', 'BLA']"
      ]
     },
     "execution_count": 5,
     "metadata": {},
     "output_type": "execute_result"
    }
   ],
   "source": [
    "[word.upper() for word in strings] # Mapping"
   ]
  },
  {
   "cell_type": "markdown",
   "id": "116aef27",
   "metadata": {},
   "source": [
    "Lets look at nested lists:"
   ]
  },
  {
   "cell_type": "code",
   "execution_count": 6,
   "id": "0588ffcd",
   "metadata": {},
   "outputs": [],
   "source": [
    "list_numbers = [[5, 6, 3], [8, 3, 1], [9, 10, 4], [8, 4, 2]]"
   ]
  },
  {
   "cell_type": "markdown",
   "id": "a1e94a09",
   "metadata": {},
   "source": [
    "Lets calculate the sum of each list by mapping each element to its length: \n",
    "```list_numbers -->  [14, 12, 23, 14]```"
   ]
  },
  {
   "cell_type": "code",
   "execution_count": 7,
   "id": "2400c926",
   "metadata": {},
   "outputs": [
    {
     "data": {
      "text/plain": [
       "[14, 12, 23, 14]"
      ]
     },
     "execution_count": 7,
     "metadata": {},
     "output_type": "execute_result"
    }
   ],
   "source": [
    "[sum(num) for num in list_numbers]"
   ]
  },
  {
   "cell_type": "code",
   "execution_count": 8,
   "id": "6f56b6a0",
   "metadata": {},
   "outputs": [
    {
     "data": {
      "text/plain": [
       "[5, 5, 5]"
      ]
     },
     "execution_count": 8,
     "metadata": {},
     "output_type": "execute_result"
    }
   ],
   "source": [
    "length_gt_3 = [len(word) for word in strings if len(word) > 3] # filtering\n",
    "length_gt_3"
   ]
  },
  {
   "cell_type": "markdown",
   "id": "5acea939",
   "metadata": {},
   "source": [
    "## Cartasian Products\n",
    "\n",
    "![cartasian_prod](cartasian_prod.png)"
   ]
  },
  {
   "cell_type": "code",
   "execution_count": 9,
   "id": "112ddbe1",
   "metadata": {},
   "outputs": [
    {
     "data": {
      "text/plain": [
       "[('x', 1),\n",
       " ('x', 2),\n",
       " ('x', 3),\n",
       " ('y', 1),\n",
       " ('y', 2),\n",
       " ('y', 3),\n",
       " ('z', 1),\n",
       " ('z', 2),\n",
       " ('z', 3)]"
      ]
     },
     "execution_count": 9,
     "metadata": {},
     "output_type": "execute_result"
    }
   ],
   "source": [
    "A = ['x', 'y', 'z']\n",
    "B = [1, 2, 3]\n",
    "\n",
    "def cartasian_prod(A,B):\n",
    "    result= []\n",
    "    for item1 in A:\n",
    "        for item2 in B:\n",
    "            result.append((item1, item2))\n",
    "    return result\n",
    "\n",
    "cartasian_prod(A, B)\n",
    "            "
   ]
  },
  {
   "cell_type": "markdown",
   "id": "af8d409f",
   "metadata": {},
   "source": [
    "Now let's do this with listcomps"
   ]
  },
  {
   "cell_type": "code",
   "execution_count": 10,
   "id": "c015c7a1",
   "metadata": {},
   "outputs": [
    {
     "data": {
      "text/plain": [
       "[('x', 1),\n",
       " ('x', 2),\n",
       " ('x', 3),\n",
       " ('y', 1),\n",
       " ('y', 2),\n",
       " ('y', 3),\n",
       " ('z', 1),\n",
       " ('z', 2),\n",
       " ('z', 3)]"
      ]
     },
     "execution_count": 10,
     "metadata": {},
     "output_type": "execute_result"
    }
   ],
   "source": [
    "def cartasian_prod(A, B):\n",
    "    return[(item1, item2) for item1 in A\n",
    "                           for item2 in B] \n",
    "# This generates a list of tuples arranged by letter,then numbers\n",
    "    \n",
    "cartasian_prod(A, B)"
   ]
  },
  {
   "cell_type": "code",
   "execution_count": 11,
   "id": "80574557",
   "metadata": {},
   "outputs": [
    {
     "data": {
      "text/plain": [
       "[('x', 1),\n",
       " ('y', 1),\n",
       " ('z', 1),\n",
       " ('x', 2),\n",
       " ('y', 2),\n",
       " ('z', 2),\n",
       " ('x', 3),\n",
       " ('y', 3),\n",
       " ('z', 3)]"
      ]
     },
     "execution_count": 11,
     "metadata": {},
     "output_type": "execute_result"
    }
   ],
   "source": [
    "def cartasian_prod(A, B):\n",
    "    return[(item1, item2) for item2 in B\n",
    "                           for item1 in A] \n",
    "# To get the items arranged by numbers, then letters, just rearrange the for clauses\n",
    "    \n",
    "cartasian_prod(A, B)"
   ]
  },
  {
   "cell_type": "markdown",
   "id": "c8cfdfa9",
   "metadata": {},
   "source": [
    "### Building List of Lists\n",
    "\n"
   ]
  },
  {
   "cell_type": "code",
   "execution_count": 12,
   "id": "3ea16d56",
   "metadata": {},
   "outputs": [
    {
     "data": {
      "text/plain": [
       "[['_', '_', '_'], ['_', '_', '_'], ['_', '_', '_']]"
      ]
     },
     "execution_count": 12,
     "metadata": {},
     "output_type": "execute_result"
    }
   ],
   "source": [
    "board = [ ['_'] * 3 for i in range(3)] # Create a list of three lists of three items each. Inspect the structure.\n",
    "board"
   ]
  },
  {
   "cell_type": "code",
   "execution_count": 13,
   "id": "e7fb70e3",
   "metadata": {},
   "outputs": [
    {
     "data": {
      "text/plain": [
       "[['_', '_', '_'], ['_', '_', 'X'], ['_', '_', '_']]"
      ]
     },
     "execution_count": 13,
     "metadata": {},
     "output_type": "execute_result"
    }
   ],
   "source": [
    "board[1][2] = 'X'\n",
    "board"
   ]
  },
  {
   "cell_type": "markdown",
   "id": "38c475a7",
   "metadata": {},
   "source": [
    "A tempting, but wrong, shortcut: "
   ]
  },
  {
   "cell_type": "code",
   "execution_count": 14,
   "id": "544fecc8",
   "metadata": {},
   "outputs": [
    {
     "data": {
      "text/plain": [
       "[['_', '_', 'O'], ['_', '_', 'O'], ['_', '_', 'O']]"
      ]
     },
     "execution_count": 14,
     "metadata": {},
     "output_type": "execute_result"
    }
   ],
   "source": [
    "weird_board = [ ['_'] * 3] * 3 # The outer list is made of three references to the same inner list.\n",
    "weird_board[1][2] = 'O' # all rows are aliases referring to the same object, pg. 52\n",
    "weird_board"
   ]
  },
  {
   "cell_type": "markdown",
   "id": "db46c5e3",
   "metadata": {},
   "source": [
    "### list.sort Versus the sort Built-In\n",
    "\n",
    "The list.*sort* method sorts a list in place. \n",
    "\n",
    "In contrast, the built-in function *sorted* creates a new list and returns it. \n",
    "It accepts any iterable object as an argument, including immutable sequences and generators. It always returns a newly created list.\n",
    "\n",
    "Both list.*sort* and *sorted*  take two optional, keyword-only arguments: \n",
    "\n",
    "- reverse: accepts a boolean\n",
    "- key: accepts a one-arguments function "
   ]
  },
  {
   "cell_type": "code",
   "execution_count": 15,
   "id": "92b7892f",
   "metadata": {},
   "outputs": [
    {
     "data": {
      "text/plain": [
       "['apple', 'banana', 'grape', 'raspberry']"
      ]
     },
     "execution_count": 15,
     "metadata": {},
     "output_type": "execute_result"
    }
   ],
   "source": [
    "fruits = ['grape', 'raspberry', 'apple', 'banana']\n",
    "sorted(fruits)"
   ]
  },
  {
   "cell_type": "code",
   "execution_count": 16,
   "id": "7fcf487e",
   "metadata": {},
   "outputs": [
    {
     "data": {
      "text/plain": [
       "['raspberry', 'grape', 'banana', 'apple']"
      ]
     },
     "execution_count": 16,
     "metadata": {},
     "output_type": "execute_result"
    }
   ],
   "source": [
    "sorted(fruits, reverse=True)"
   ]
  },
  {
   "cell_type": "code",
   "execution_count": 17,
   "id": "32ddd2d9",
   "metadata": {},
   "outputs": [
    {
     "data": {
      "text/plain": [
       "['grape', 'apple', 'banana', 'raspberry']"
      ]
     },
     "execution_count": 17,
     "metadata": {},
     "output_type": "execute_result"
    }
   ],
   "source": [
    "sorted(fruits, key=len)"
   ]
  },
  {
   "cell_type": "code",
   "execution_count": 18,
   "id": "9d9edda5",
   "metadata": {},
   "outputs": [
    {
     "data": {
      "text/plain": [
       "['apple', 'banana', 'grape', 'raspberry']"
      ]
     },
     "execution_count": 18,
     "metadata": {},
     "output_type": "execute_result"
    }
   ],
   "source": [
    "fruits.sort()\n",
    "fruits"
   ]
  },
  {
   "cell_type": "code",
   "execution_count": 19,
   "id": "41d3eecb",
   "metadata": {},
   "outputs": [
    {
     "data": {
      "text/plain": [
       "[('again', 2), ('hello', 3), ('world', 1)]"
      ]
     },
     "execution_count": 19,
     "metadata": {},
     "output_type": "execute_result"
    }
   ],
   "source": [
    "books = [('hello', 3), ('world', 1), ('again', 2)]\n",
    "\n",
    "def sort_helper(item):\n",
    "    return item[0]\n",
    "\n",
    "sorted(books, key=sort_helper)"
   ]
  },
  {
   "cell_type": "markdown",
   "id": "3fd9f039",
   "metadata": {},
   "source": [
    "Now let's move on to the other fundamental sequence type in Python: the typle."
   ]
  },
  {
   "cell_type": "markdown",
   "id": "fa8e968a",
   "metadata": {},
   "source": [
    "## Tuples Are Not Just Immuatable Lists\n",
    "\n",
    "- used as immuatable lists\n",
    "- used as records with no field names\n",
    "\n",
    "### Tuples as Records\n",
    "\n",
    "Tuples holds records: each item in the tuple holds the data for one field, and the position of the item gves its meaning."
   ]
  },
  {
   "cell_type": "code",
   "execution_count": 20,
   "id": "0f7bc019",
   "metadata": {},
   "outputs": [],
   "source": [
    "lax_coordinates = (33.9425, -118.408056) # Latitude and Longitude of L.A. Airport"
   ]
  },
  {
   "cell_type": "code",
   "execution_count": 21,
   "id": "e12a826b",
   "metadata": {},
   "outputs": [],
   "source": [
    "travelers_ids = [('USA', '934234'), ('BRA', '234324'), \n",
    "                 ('ESP', '124314')]  #List of tuples"
   ]
  },
  {
   "cell_type": "code",
   "execution_count": 22,
   "id": "524af973",
   "metadata": {},
   "outputs": [
    {
     "name": "stdout",
     "output_type": "stream",
     "text": [
      "BRA/234324\n",
      "ESP/124314\n",
      "USA/934234\n"
     ]
    }
   ],
   "source": [
    "for passport in sorted(travelers_ids): # iterate over sorted tuple  \n",
    "    print('%s/%s' % passport) \n",
    "    # The % formatting operator understands tuples and treats each item as separate field."
   ]
  },
  {
   "cell_type": "code",
   "execution_count": 23,
   "id": "d899bd70",
   "metadata": {},
   "outputs": [
    {
     "name": "stdout",
     "output_type": "stream",
     "text": [
      "USA\n",
      "BRA\n",
      "ESP\n"
     ]
    }
   ],
   "source": [
    "for country, _ in travelers_ids: \n",
    "    print(country) \n",
    "    #The for loop knows how to retrieve the items of a tuple separately-this called unpacking"
   ]
  },
  {
   "cell_type": "markdown",
   "id": "24eaca34",
   "metadata": {},
   "source": [
    "## Classic Named Tuples\n",
    "\n",
    "The collections.namedtuple functions builds a subclass of tuple enhanced with field names.\n",
    "\n",
    "- Each instance of a class built by namedtuple takes exactly the same amount of memory as a tuple\n",
    "\n"
   ]
  },
  {
   "cell_type": "code",
   "execution_count": 24,
   "id": "38ccade7",
   "metadata": {},
   "outputs": [
    {
     "data": {
      "text/plain": [
       "City(name='Tokyo', country='JP', population=13600000, coordinates=(35.689722, 139.691667))"
      ]
     },
     "execution_count": 24,
     "metadata": {},
     "output_type": "execute_result"
    }
   ],
   "source": [
    "from collections import namedtuple\n",
    "City = namedtuple('City', 'name country population coordinates') #class name and field names\n",
    "tokyo = City('Tokyo', 'JP', 13600000, (35.689722, 139.691667)) # Field values are passed as seperated positional\n",
    "#arguments\n",
    "tokyo"
   ]
  },
  {
   "cell_type": "code",
   "execution_count": 25,
   "id": "b25e2707",
   "metadata": {},
   "outputs": [
    {
     "data": {
      "text/plain": [
       "13600000"
      ]
     },
     "execution_count": 25,
     "metadata": {},
     "output_type": "execute_result"
    }
   ],
   "source": [
    "tokyo.population #access the fields by name"
   ]
  },
  {
   "cell_type": "code",
   "execution_count": 26,
   "id": "68946f3b",
   "metadata": {},
   "outputs": [
    {
     "data": {
      "text/plain": [
       "(35.689722, 139.691667)"
      ]
     },
     "execution_count": 26,
     "metadata": {},
     "output_type": "execute_result"
    }
   ],
   "source": [
    "tokyo.coordinates"
   ]
  },
  {
   "cell_type": "code",
   "execution_count": 27,
   "id": "0e28a7b8",
   "metadata": {},
   "outputs": [
    {
     "data": {
      "text/plain": [
       "'JP'"
      ]
     },
     "execution_count": 27,
     "metadata": {},
     "output_type": "execute_result"
    }
   ],
   "source": [
    "tokyo[1] #or access the fields by position"
   ]
  },
  {
   "cell_type": "code",
   "execution_count": 28,
   "id": "0016ca77",
   "metadata": {},
   "outputs": [
    {
     "data": {
      "text/plain": [
       "{'name': 'Tokyo',\n",
       " 'country': 'JP',\n",
       " 'population': 13600000,\n",
       " 'coordinates': (35.689722, 139.691667)}"
      ]
     },
     "execution_count": 28,
     "metadata": {},
     "output_type": "execute_result"
    }
   ],
   "source": [
    "tokyo._asdict() # returns a dict built from the named tuple instance"
   ]
  },
  {
   "cell_type": "code",
   "execution_count": 29,
   "id": "244ee0b5",
   "metadata": {},
   "outputs": [
    {
     "data": {
      "text/plain": [
       "City(name='Berlin', country='JP', population=13600000, coordinates=(35.689722, 139.691667))"
      ]
     },
     "execution_count": 29,
     "metadata": {},
     "output_type": "execute_result"
    }
   ],
   "source": [
    "tokyo._replace(name='Berlin') #returns new typle"
   ]
  },
  {
   "cell_type": "markdown",
   "id": "969e63a1",
   "metadata": {},
   "source": [
    "### Tuples as Immutable Lists\n",
    "\n",
    "Two benefits:\n",
    "\n",
    "- *Clarity*: you know its length will never change\n",
    "- *Performance*: A tuple uses less memory than a list of the same length, and it allows Python to do some optimizations.\n",
    "- fixed length: a tuple instance is allocated the exact memory space it needs.\n",
    "- in contrast instances of list are allocated with room to spare in case for future appends\n",
    "\n",
    "**!!!** References in a tuple cannot changed, but if one of those references points to a mutable object, and that object is changed, then the value of the tuple changes."
   ]
  },
  {
   "cell_type": "code",
   "execution_count": 30,
   "id": "a3c40bde",
   "metadata": {},
   "outputs": [],
   "source": [
    "a = (10, 'alpha', [1, 2])\n",
    "a[-1].append(99)\n"
   ]
  },
  {
   "cell_type": "markdown",
   "id": "6318b23d",
   "metadata": {},
   "source": [
    "## When a List Is Not the Answer\n",
    "\n",
    "The list type is flexible and easy to use, but depending on specific requirements, there are better options.\n",
    "\n",
    "For example, if you are constantly adding and removing items from opposite ends of a list, it's good to know that a *deque* (double-ended queue) is a more efficient FIFO (First in, first out) data structure. "
   ]
  },
  {
   "cell_type": "markdown",
   "id": "717d79e5",
   "metadata": {},
   "source": [
    "## Deques\n",
    "\n",
    "The *.append* and *.pop* methods make a list usable as a queue.\n",
    "\n",
    "\n",
    "![q](queue.png)\n",
    "\n",
    "But inserting and removing from the head of a list (0-index end) is costly because the entire list must be shifted in memory.\n",
    "\n",
    "The class *collection.deque* is a queue designed for fast inserting and removing from both ends."
   ]
  },
  {
   "cell_type": "code",
   "execution_count": 31,
   "id": "84d7a49d",
   "metadata": {},
   "outputs": [
    {
     "data": {
      "text/plain": [
       "deque([9, 8, 7, 6, 5, 4, 3, 2, 1])"
      ]
     },
     "execution_count": 31,
     "metadata": {},
     "output_type": "execute_result"
    }
   ],
   "source": [
    "from collections import deque\n",
    "\n",
    "dq = deque(range(9, 0, -1))\n",
    "dq"
   ]
  },
  {
   "cell_type": "code",
   "execution_count": 32,
   "id": "d1d455a3",
   "metadata": {},
   "outputs": [
    {
     "data": {
      "text/plain": [
       "deque([10, 9, 8, 7, 6, 5, 4, 3, 2, 1])"
      ]
     },
     "execution_count": 32,
     "metadata": {},
     "output_type": "execute_result"
    }
   ],
   "source": [
    "dq.appendleft(10) #appends to the left\n",
    "dq"
   ]
  },
  {
   "cell_type": "code",
   "execution_count": 33,
   "id": "eca5ac67",
   "metadata": {},
   "outputs": [
    {
     "data": {
      "text/plain": [
       "deque([10, 9, 8, 7, 6, 5, 4, 3, 2])"
      ]
     },
     "execution_count": 33,
     "metadata": {},
     "output_type": "execute_result"
    }
   ],
   "source": [
    "dq.pop()# pop only removes the last element\n",
    "dq"
   ]
  },
  {
   "cell_type": "code",
   "execution_count": 34,
   "id": "5a0c9811",
   "metadata": {},
   "outputs": [
    {
     "name": "stdout",
     "output_type": "stream",
     "text": [
      "72.4 ns ± 4.42 ns per loop (mean ± std. dev. of 7 runs, 10,000,000 loops each)\n"
     ]
    }
   ],
   "source": [
    "\n",
    "dq = deque(range(10000, 0, -1))\n",
    "%timeit dq.appendleft(None); dq.pop()"
   ]
  },
  {
   "cell_type": "code",
   "execution_count": 35,
   "id": "9f48dbb5",
   "metadata": {},
   "outputs": [
    {
     "name": "stdout",
     "output_type": "stream",
     "text": [
      "1.34 µs ± 141 ns per loop (mean ± std. dev. of 7 runs, 1,000,000 loops each)\n"
     ]
    }
   ],
   "source": [
    "l = list(range(10000))\n",
    "\n",
    "%timeit l.append(None); l.pop(0)"
   ]
  },
  {
   "cell_type": "code",
   "execution_count": 36,
   "id": "9f2dd26c",
   "metadata": {},
   "outputs": [
    {
     "data": {
      "text/plain": [
       "(6.995590714116891e-05, 0.002264817710965872)"
      ]
     },
     "execution_count": 36,
     "metadata": {},
     "output_type": "execute_result"
    }
   ],
   "source": [
    "import timeit\n",
    "N=10000\n",
    "setup_queue=f\"from collections import deque;dq = deque(range({N}, 0, -1))\"\n",
    "fifo_queue = \"dq.appendleft(None); dq.pop()\"\n",
    "\n",
    "queue_time= timeit.repeat(setup = setup_queue, \n",
    "                     stmt = fifo_queue,\n",
    "                     repeat = 3,\n",
    "                     number = 1000)\n",
    "\n",
    "queue_mean = sum(queue_time) /len(queue_time)\n",
    "\n",
    "\n",
    "setup_list=f\"l = list(range({N}, 0, -1))\"\n",
    "fifo_list = \"l.append(None); l.pop(0)\"\n",
    "\n",
    "list_time = timeit.repeat(setup = setup_list, \n",
    "                     stmt = fifo_list,\n",
    "                     repeat = 3,\n",
    "                     number = 1000)\n",
    "\n",
    "list_mean = sum(list_time) /len(list_time)\n",
    "\n",
    "queue_mean, list_mean"
   ]
  },
  {
   "cell_type": "code",
   "execution_count": 37,
   "id": "9ffa28aa",
   "metadata": {},
   "outputs": [],
   "source": [
    "def time_it(N):\n",
    "    setup_queue=f\"from collections import deque;dq = deque(range({N}, 0, -1))\"\n",
    "    fifo_queue = \"dq.appendleft(None); dq.pop()\"\n",
    "\n",
    "    queue_time= timeit.repeat(setup = setup_queue, \n",
    "                     stmt = fifo_queue,\n",
    "                     repeat = 3,\n",
    "                     number = 1000)\n",
    "\n",
    "    queue_mean = sum(queue_time) /len(queue_time)\n",
    "\n",
    "\n",
    "    setup_list=f\"l = list(range({N}, 0, -1))\"\n",
    "    fifo_list = \"l.append(None); l.pop(0)\"\n",
    "\n",
    "    list_time = timeit.repeat(setup = setup_list, \n",
    "                     stmt = fifo_list,\n",
    "                     repeat = 3,\n",
    "                     number = 1000)\n",
    "\n",
    "    list_mean = sum(list_time) /len(list_time)\n",
    "\n",
    "    return queue_mean, list_mean"
   ]
  },
  {
   "cell_type": "code",
   "execution_count": 38,
   "id": "c0cf814a",
   "metadata": {},
   "outputs": [],
   "source": [
    "x = [10, 100, 1000, 10000, 100000]\n",
    "\n",
    "for N in x:\n",
    "    queue_r, list_r = time_it(N)\n"
   ]
  },
  {
   "cell_type": "markdown",
   "id": "54fe26c3",
   "metadata": {},
   "source": [
    "![](queue_vs_list.png)"
   ]
  },
  {
   "cell_type": "markdown",
   "id": "b3fb403d",
   "metadata": {},
   "source": [
    "\n",
    "Note that deque implements most of the list methods, and adds a few that are specific to its design, like appendleft.\n",
    "But there is a hidden cost: removing items from the middle of a deque is not as fast."
   ]
  },
  {
   "cell_type": "markdown",
   "id": "2997a8f9",
   "metadata": {},
   "source": [
    "# Higher Order Functions\n",
    "\n",
    "- a function that takes a function as an argument\n",
    "\n",
    "In the functional programming paradigma, some of the best known higher-order functions are map, filter, reduce.\n",
    "\n",
    "(A listcomp does the job of map and filter combined, but is more readable)"
   ]
  },
  {
   "cell_type": "markdown",
   "id": "78e25986",
   "metadata": {},
   "source": [
    "### Map"
   ]
  },
  {
   "cell_type": "code",
   "execution_count": 2,
   "id": "581bb364",
   "metadata": {},
   "outputs": [],
   "source": [
    "import math\n",
    "def exp(x):\n",
    "    return math.exp(x)\n",
    "\n",
    "x = [*range(10)]\n",
    "y = list(map(exp, x))  #Calling map(function, iterable) returns an iterable where each item is the result of \n",
    "#calling the first arguement (here. exp) to successive elements of the second argument (an iterable), x."
   ]
  },
  {
   "cell_type": "code",
   "execution_count": 3,
   "id": "8876d36b",
   "metadata": {},
   "outputs": [
    {
     "data": {
      "image/png": "[encoded data removed]",
      "text/plain": [
       "<Figure size 640x480 with 1 Axes>"
      ]
     },
     "metadata": {},
     "output_type": "display_data"
    }
   ],
   "source": [
    "import matplotlib.pyplot as plt\n",
    "\n",
    "plt.plot(x, y, label=\"exp\")\n",
    "plt.legend()\n",
    "plt.xlabel('x')\n",
    "plt.ylabel('y')\n",
    "plt.show()"
   ]
  },
  {
   "cell_type": "markdown",
   "id": "8d9eb52a",
   "metadata": {},
   "source": [
    "### Filter"
   ]
  },
  {
   "cell_type": "code",
   "execution_count": 41,
   "id": "7efecd71",
   "metadata": {},
   "outputs": [
    {
     "data": {
      "text/plain": [
       "[1, 3, 5]"
      ]
     },
     "execution_count": 41,
     "metadata": {},
     "output_type": "execute_result"
    }
   ],
   "source": [
    "def filter_helper(item):\n",
    "    return item % 2\n",
    "\n",
    "list(filter(filter_helper, range(6)))"
   ]
  },
  {
   "cell_type": "markdown",
   "id": "15ecdea8",
   "metadata": {},
   "source": [
    "### Map and Filter combined"
   ]
  },
  {
   "cell_type": "code",
   "execution_count": 42,
   "id": "ecbb3ab7",
   "metadata": {},
   "outputs": [
    {
     "data": {
      "text/plain": [
       "[2.718281828459045, 20.085536923187668, 148.4131591025766]"
      ]
     },
     "execution_count": 42,
     "metadata": {},
     "output_type": "execute_result"
    }
   ],
   "source": [
    "list(map(exp, filter(filter_helper,range(6))))"
   ]
  },
  {
   "cell_type": "code",
   "execution_count": 43,
   "id": "9e58906d",
   "metadata": {},
   "outputs": [
    {
     "data": {
      "text/plain": [
       "[2.718281828459045, 20.085536923187668, 148.4131591025766]"
      ]
     },
     "execution_count": 43,
     "metadata": {},
     "output_type": "execute_result"
    }
   ],
   "source": [
    "[exp(x) for x in range(6) if x % 2]"
   ]
  },
  {
   "cell_type": "markdown",
   "id": "504d6bd5",
   "metadata": {},
   "source": [
    "### Reduce"
   ]
  },
  {
   "cell_type": "code",
   "execution_count": 44,
   "id": "da5f4f86",
   "metadata": {},
   "outputs": [
    {
     "data": {
      "text/plain": [
       "4950"
      ]
     },
     "execution_count": 44,
     "metadata": {},
     "output_type": "execute_result"
    }
   ],
   "source": [
    "from functools import reduce\n",
    "\n",
    "def adding(accumulator, currentValue):\n",
    "    #print(accumulator)\n",
    "    return accumulator + currentValue\n",
    "\n",
    "#reduce(adding, range(100), 100) #Initializer\n",
    "reduce(adding, range(100))  #sum is preferd\n",
    "sum(range(100))\n"
   ]
  },
  {
   "cell_type": "markdown",
   "id": "89d346ea",
   "metadata": {},
   "source": [
    "## Anonymous Functions\n",
    "\n",
    "The *lambda* keyword creates an anonymous function within a Python expression.\n",
    "\n",
    "However, the body if a lambda function is limited and statements such as *while, etc* can't be used.\n",
    "\n",
    "The best use of anonymous functions is in the context of an argument list for a higher-order function."
   ]
  },
  {
   "cell_type": "code",
   "execution_count": 45,
   "id": "1aba076b",
   "metadata": {},
   "outputs": [
    {
     "data": {
      "text/plain": [
       "['banana', 'apple', 'fig', 'raspberry', 'strawberry', 'cherry']"
      ]
     },
     "execution_count": 45,
     "metadata": {},
     "output_type": "execute_result"
    }
   ],
   "source": [
    "fruits = ['strawberry', 'fig', 'apple', 'cherry', 'raspberry', 'banana']\n",
    "\n",
    "def sort_helper(word):\n",
    "    return word[::-1] #Sorting a list of words by their reversed spelling\n",
    "\n",
    "sorted(fruits, key=sort_helper)"
   ]
  },
  {
   "cell_type": "code",
   "execution_count": 46,
   "id": "730c5e7f",
   "metadata": {},
   "outputs": [
    {
     "data": {
      "text/plain": [
       "<function __main__.<lambda>(word)>"
      ]
     },
     "execution_count": 46,
     "metadata": {},
     "output_type": "execute_result"
    }
   ],
   "source": [
    "sort_helper = lambda word: word[::-1]\n",
    "\n",
    "sort_helper"
   ]
  },
  {
   "cell_type": "code",
   "execution_count": 47,
   "id": "994e70a1",
   "metadata": {},
   "outputs": [
    {
     "data": {
      "text/plain": [
       "['banana', 'apple', 'fig', 'raspberry', 'strawberry', 'cherry']"
      ]
     },
     "execution_count": 47,
     "metadata": {},
     "output_type": "execute_result"
    }
   ],
   "source": [
    "sorted(fruits, key=sort_helper)"
   ]
  },
  {
   "cell_type": "code",
   "execution_count": 48,
   "id": "46d5c249",
   "metadata": {},
   "outputs": [
    {
     "data": {
      "text/plain": [
       "['banana', 'apple', 'fig', 'raspberry', 'strawberry', 'cherry']"
      ]
     },
     "execution_count": 48,
     "metadata": {},
     "output_type": "execute_result"
    }
   ],
   "source": [
    "sorted(fruits, key=lambda word: word[::-1])"
   ]
  },
  {
   "cell_type": "markdown",
   "id": "cc3820cc",
   "metadata": {},
   "source": [
    "Outside the limited context of arguments to higher-order functions, anonymous functions are rarly useful in Python\n",
    "If a lambda is hard to read, convert the *lambda* to a *def* statement.\n",
    "\n",
    "The *lambda* syntax is only syntactic sugar."
   ]
  },
  {
   "cell_type": "markdown",
   "id": "bc7330f1",
   "metadata": {},
   "source": [
    "## Other Function Which Take Iterables As an Argument \n",
    "\n",
    "Other reducing built-ins are *all* and *any*\n",
    "\n",
    "*all(iterable)*\n",
    "\n",
    "    Returns True if there are no falsy elements in the iterable; all([]) returns True"
   ]
  },
  {
   "cell_type": "code",
   "execution_count": 49,
   "id": "67cd6a86",
   "metadata": {},
   "outputs": [
    {
     "data": {
      "text/plain": [
       "True"
      ]
     },
     "execution_count": 49,
     "metadata": {},
     "output_type": "execute_result"
    }
   ],
   "source": [
    "all([]) "
   ]
  },
  {
   "cell_type": "markdown",
   "id": "6dd32175",
   "metadata": {},
   "source": [
    "*any(iterable)*\n",
    "\n",
    "    Returns True if any element of the iterable is truthy; any([]) returns False."
   ]
  },
  {
   "cell_type": "code",
   "execution_count": 50,
   "id": "3f72d426",
   "metadata": {},
   "outputs": [
    {
     "data": {
      "text/plain": [
       "True"
      ]
     },
     "execution_count": 50,
     "metadata": {},
     "output_type": "execute_result"
    }
   ],
   "source": [
    "any([['a']])"
   ]
  },
  {
   "cell_type": "markdown",
   "id": "31aeec22",
   "metadata": {},
   "source": [
    "### The Awesome zip\n",
    "\n",
    "Having a for loop that iterates over items without fiddling with index\n",
    "variables is great and prevents lots of bugs, but demands some special\n",
    "utility functions.\n",
    "One of them is the zip built-in, which makes it easy to\n",
    "iterate in parallel over two or more iterables by returning tuples that you\n",
    "can unpack into variables, one for each item in the parallel inputs."
   ]
  },
  {
   "cell_type": "code",
   "execution_count": 51,
   "id": "255df524",
   "metadata": {},
   "outputs": [
    {
     "data": {
      "text/plain": [
       "<zip at 0x7fba1cf49f00>"
      ]
     },
     "execution_count": 51,
     "metadata": {},
     "output_type": "execute_result"
    }
   ],
   "source": [
    "zip(range(3), 'ABC')"
   ]
  },
  {
   "cell_type": "code",
   "execution_count": 52,
   "id": "2201181e",
   "metadata": {},
   "outputs": [
    {
     "data": {
      "text/plain": [
       "[(0, 'A'), (1, 'B'), (2, 'C')]"
      ]
     },
     "execution_count": 52,
     "metadata": {},
     "output_type": "execute_result"
    }
   ],
   "source": [
    "list(zip(range(3), 'ABC'))"
   ]
  },
  {
   "cell_type": "code",
   "execution_count": 53,
   "id": "0c980ffa",
   "metadata": {},
   "outputs": [
    {
     "data": {
      "text/plain": [
       "[(0, 'A', 0.0), (1, 'B', 1.1), (2, 'C', 2.2)]"
      ]
     },
     "execution_count": 53,
     "metadata": {},
     "output_type": "execute_result"
    }
   ],
   "source": [
    "list(zip(range(3), 'ABC', [0.0, 1.1, 2.2, 3.3])) #list(zip(range(3), 'ABC', [0.0, 1.1, 2.2, 3.3]))"
   ]
  },
  {
   "cell_type": "code",
   "execution_count": 54,
   "id": "ee6162e3",
   "metadata": {},
   "outputs": [
    {
     "data": {
      "text/plain": [
       "[(0, 'A', 0.0), (1, 'B', 1.1), (2, 'C', 2.2), (-1, -1, 3.3)]"
      ]
     },
     "execution_count": 54,
     "metadata": {},
     "output_type": "execute_result"
    }
   ],
   "source": [
    "from itertools import zip_longest\n",
    "\n",
    "'''The itertools.zip_longest function behaves differently: it\n",
    "uses an optional fillvalue (None by default) to complete\n",
    "missing values so it can generate tuples until the last iterable is\n",
    "exhausted.'''\n",
    "list(zip_longest(range(3), 'ABC', [0.0, 1.1, 2.2, 3.3],\n",
    "fillvalue=-1))"
   ]
  },
  {
   "cell_type": "markdown",
   "id": "59446287",
   "metadata": {},
   "source": [
    "- zip silently stopping at the shortest iterable\n",
    "- bad behavior: Silently ignoring part of the input can cause subtle bugs. \n",
    "- An optional strict argument to zip to make it behave in that way. It is implemented in Python 3.10."
   ]
  },
  {
   "cell_type": "code",
   "execution_count": 55,
   "id": "ad1884dd",
   "metadata": {},
   "outputs": [],
   "source": [
    "#list(zip(range(3), 'ABC', [0.0, 1.1, 2.2, 3.3], strict=True))"
   ]
  },
  {
   "cell_type": "markdown",
   "id": "527ec5c9",
   "metadata": {},
   "source": [
    "The zip function can also be used to transpose a matrix represented as\n",
    "nested iterables. For example:\n",
    "\n"
   ]
  },
  {
   "cell_type": "code",
   "execution_count": 56,
   "id": "bc4566cc",
   "metadata": {},
   "outputs": [
    {
     "data": {
      "text/plain": [
       "[(1, 4), (2, 5), (3, 6)]"
      ]
     },
     "execution_count": 56,
     "metadata": {},
     "output_type": "execute_result"
    }
   ],
   "source": [
    "a = [(1, 2, 3),\n",
    "    (4, 5, 6)]\n",
    "\n",
    "list(zip(*a))\n",
    "\n"
   ]
  },
  {
   "cell_type": "code",
   "execution_count": 57,
   "id": "85c6b8a7",
   "metadata": {},
   "outputs": [
    {
     "data": {
      "text/plain": [
       "[(1, 3, 5), (2, 4, 6)]"
      ]
     },
     "execution_count": 57,
     "metadata": {},
     "output_type": "execute_result"
    }
   ],
   "source": [
    "b = [(1, 2),\n",
    "     (3, 4),\n",
    "     (5, 6)]\n",
    "list(zip(*b))"
   ]
  },
  {
   "cell_type": "markdown",
   "id": "27c9ca44",
   "metadata": {},
   "source": [
    "\n",
    "![](Matrix_transpose.gif)"
   ]
  },
  {
   "cell_type": "code",
   "execution_count": 58,
   "id": "427973d3",
   "metadata": {},
   "outputs": [
    {
     "data": {
      "text/plain": [
       "[(1, 2), (3, 4), (5, 6)]"
      ]
     },
     "execution_count": 58,
     "metadata": {},
     "output_type": "execute_result"
    }
   ],
   "source": [
    "A = [(1,3,5), \n",
    "     (2,4,6)]\n",
    "list(zip(*A))"
   ]
  },
  {
   "cell_type": "markdown",
   "id": "7b9c694a",
   "metadata": {},
   "source": [
    "### enumerate\n",
    "\n",
    "*enumerate(iterable, start=0)* Yields 2-tuples of the form (index, item), where index is counter from start, and items is taken from the iterable"
   ]
  },
  {
   "cell_type": "code",
   "execution_count": 59,
   "id": "0ac437a2",
   "metadata": {},
   "outputs": [
    {
     "data": {
      "text/plain": [
       "[(1, 'a'),\n",
       " (2, 'l'),\n",
       " (3, 'b'),\n",
       " (4, 'a'),\n",
       " (5, 't'),\n",
       " (6, 'r'),\n",
       " (7, 'o'),\n",
       " (8, 'z')]"
      ]
     },
     "execution_count": 59,
     "metadata": {},
     "output_type": "execute_result"
    }
   ],
   "source": [
    "list(enumerate('albatroz', 1))#Number the letters in the word, starting from 1."
   ]
  },
  {
   "cell_type": "markdown",
   "id": "e3a5285c",
   "metadata": {},
   "source": [
    "## Dictionaries and Sets\n",
    "\n",
    "### dict Comprehsion\n",
    "\n",
    "A *dictcomp* builds a dict instance by taking key:value pairs from any iterable."
   ]
  },
  {
   "cell_type": "code",
   "execution_count": 60,
   "id": "83957564",
   "metadata": {},
   "outputs": [
    {
     "data": {
      "text/plain": [
       "{'Bangladesh': 880,\n",
       " 'Brazil': 55,\n",
       " 'China': 86,\n",
       " 'India': 91,\n",
       " 'Indonesia': 62,\n",
       " 'Japan': 81,\n",
       " 'Nigeria': 234,\n",
       " 'Pakistan': 92,\n",
       " 'Russia': 7,\n",
       " 'United States': 1}"
      ]
     },
     "execution_count": 60,
     "metadata": {},
     "output_type": "execute_result"
    }
   ],
   "source": [
    "dial_codes = [\n",
    "    (880, 'Bangladesh'),\n",
    "    (55, 'Brazil'),\n",
    "    (86, 'China'),\n",
    "    (91, 'India'),\n",
    "    (62, 'Indonesia'),\n",
    "    (81, 'Japan'),\n",
    "    (234, 'Nigeria'),\n",
    "    (92, 'Pakistan'),\n",
    "    (7, 'Russia'),\n",
    "    (1, 'United States'),\n",
    "]\n",
    "country_dial = {country: code for code, country in dial_codes} # the iterable dial_codes can be passed directly\n",
    "#to the dict constructor; key and values are swapped\n",
    "country_dial"
   ]
  },
  {
   "cell_type": "code",
   "execution_count": 61,
   "id": "f783531d",
   "metadata": {},
   "outputs": [
    {
     "data": {
      "text/plain": [
       "{55: 'BRAZIL', 62: 'INDONESIA', 7: 'RUSSIA', 1: 'UNITED STATES'}"
      ]
     },
     "execution_count": 61,
     "metadata": {},
     "output_type": "execute_result"
    }
   ],
   "source": [
    "{code: country.upper() for country, code in country_dial.items() if code < 70} #reversing the pairs;\n",
    "#uppercasing values\n",
    "# filtering items with code < 70"
   ]
  },
  {
   "cell_type": "markdown",
   "id": "e7c1a120",
   "metadata": {},
   "source": [
    "### Unpacking Mapping\n",
    "\n",
    "We can apply, ** inside a dict literal:"
   ]
  },
  {
   "cell_type": "code",
   "execution_count": 7,
   "id": "0015bf5c",
   "metadata": {},
   "outputs": [
    {
     "data": {
      "text/plain": [
       "{'a': 0, 'x': 4, 'y': 2, 'z': 3}"
      ]
     },
     "execution_count": 7,
     "metadata": {},
     "output_type": "execute_result"
    }
   ],
   "source": [
    "{'a': 0, **{'x':1}, 'y':2, **{'z':3, 'x': 4}}"
   ]
  },
  {
   "cell_type": "markdown",
   "id": "c89bf9e3",
   "metadata": {},
   "source": [
    "In this case, duplicate keys are allowed. Later occurrences overwrite previous ones.\n",
    "\n",
    "This syntax can also be used to merge mappings:"
   ]
  },
  {
   "cell_type": "code",
   "execution_count": 8,
   "id": "551df9f7",
   "metadata": {},
   "outputs": [
    {
     "data": {
      "text/plain": [
       "{'a': 2, 'b': 4, 'c': 6}"
      ]
     },
     "execution_count": 8,
     "metadata": {},
     "output_type": "execute_result"
    }
   ],
   "source": [
    "d1 = {'a': 1, 'b': 3}\n",
    "d2 = {'a': 2, 'b': 4, 'c': 6}\n",
    "\n",
    "{**d1, **d2}"
   ]
  },
  {
   "cell_type": "code",
   "execution_count": 9,
   "id": "9e55a047",
   "metadata": {},
   "outputs": [
    {
     "data": {
      "text/plain": [
       "'3.10.8 (main, Oct 12 2022, 19:14:26) [GCC 9.4.0]'"
      ]
     },
     "execution_count": 9,
     "metadata": {},
     "output_type": "execute_result"
    }
   ],
   "source": [
    "import sys\n",
    "sys.version"
   ]
  },
  {
   "cell_type": "markdown",
   "id": "b2d05d6f-9b42-4287-b241-a51b98d782d7",
   "metadata": {},
   "source": [
    "### Merging Mappings with | (since python3.9)\n",
    "\n",
    "Python 3.9 supports using | and |= to merge mappings. "
   ]
  },
  {
   "cell_type": "code",
   "execution_count": 109,
   "id": "3e972003-a05c-4bda-b32e-c79ebc39df42",
   "metadata": {},
   "outputs": [
    {
     "data": {
      "text/plain": [
       "{'a': 2, 'b': 4, 'c': 6}"
      ]
     },
     "execution_count": 109,
     "metadata": {},
     "output_type": "execute_result"
    }
   ],
   "source": [
    "d1 | d2 "
   ]
  },
  {
   "cell_type": "markdown",
   "id": "b20a636f-b5eb-4218-8d1f-c917436b4d3c",
   "metadata": {},
   "source": [
    "To update an existing mapping in place, use |=. "
   ]
  },
  {
   "cell_type": "code",
   "execution_count": 11,
   "id": "60c4b18c",
   "metadata": {},
   "outputs": [
    {
     "data": {
      "text/plain": [
       "{'a': 1, 'b': 3}"
      ]
     },
     "execution_count": 11,
     "metadata": {},
     "output_type": "execute_result"
    }
   ],
   "source": [
    "d1\n"
   ]
  },
  {
   "cell_type": "code",
   "execution_count": 12,
   "id": "932a5002",
   "metadata": {},
   "outputs": [],
   "source": [
    "d1 |= d2"
   ]
  },
  {
   "cell_type": "code",
   "execution_count": 13,
   "id": "4b7bb2c8",
   "metadata": {},
   "outputs": [
    {
     "data": {
      "text/plain": [
       "{'a': 2, 'b': 4, 'c': 6}"
      ]
     },
     "execution_count": 13,
     "metadata": {},
     "output_type": "execute_result"
    }
   ],
   "source": [
    "d1"
   ]
  },
  {
   "cell_type": "markdown",
   "id": "b005fdad-6dbd-41bd-ab10-6618b8aa2b66",
   "metadata": {},
   "source": [
    "### Inserting or Updating Mutable Values\n",
    "\n",
    "Dictionary accessed with d[k] raises an error when k is nt an existing key. \n",
    "d.get(k, default) avoids handling the KeyError."
   ]
  },
  {
   "cell_type": "code",
   "execution_count": 14,
   "id": "77a70122-267b-4ec6-aca7-bcd169624f13",
   "metadata": {},
   "outputs": [
    {
     "data": {
      "text/plain": [
       "{'a': 2, 'b': 4, 'c': 6}"
      ]
     },
     "execution_count": 14,
     "metadata": {},
     "output_type": "execute_result"
    }
   ],
   "source": [
    "d1"
   ]
  },
  {
   "cell_type": "code",
   "execution_count": 15,
   "id": "e53066ee-0ec4-4b90-9c53-3b6a52b5c4ab",
   "metadata": {},
   "outputs": [
    {
     "data": {
      "text/plain": [
       "2"
      ]
     },
     "execution_count": 15,
     "metadata": {},
     "output_type": "execute_result"
    }
   ],
   "source": [
    "d1['a']"
   ]
  },
  {
   "cell_type": "code",
   "execution_count": 110,
   "id": "197bb2a8",
   "metadata": {},
   "outputs": [
    {
     "ename": "KeyError",
     "evalue": "'d'",
     "output_type": "error",
     "traceback": [
      "\u001b[0;31m---------------------------------------------------------------------------\u001b[0m",
      "\u001b[0;31mKeyError\u001b[0m                                  Traceback (most recent call last)",
      "Cell \u001b[0;32mIn [110], line 1\u001b[0m\n\u001b[0;32m----> 1\u001b[0m \u001b[43md1\u001b[49m\u001b[43m[\u001b[49m\u001b[38;5;124;43m'\u001b[39;49m\u001b[38;5;124;43md\u001b[39;49m\u001b[38;5;124;43m'\u001b[39;49m\u001b[43m]\u001b[49m\n",
      "\u001b[0;31mKeyError\u001b[0m: 'd'"
     ]
    }
   ],
   "source": [
    "d1['d']"
   ]
  },
  {
   "cell_type": "code",
   "execution_count": 18,
   "id": "abaf3840-f26a-40b7-8783-57569e7d97ba",
   "metadata": {},
   "outputs": [
    {
     "data": {
      "text/plain": [
       "'Hello world'"
      ]
     },
     "execution_count": 18,
     "metadata": {},
     "output_type": "execute_result"
    }
   ],
   "source": [
    "d1.get('bl', 'Hello world')"
   ]
  },
  {
   "cell_type": "code",
   "execution_count": 36,
   "id": "8e040182-c3a9-41a4-96e6-0347c9cbb0b8",
   "metadata": {},
   "outputs": [
    {
     "name": "stdout",
     "output_type": "stream",
     "text": [
      "Beautiful [0]\n",
      "is [1, 6, 11, 16, 21, 26, 91, 97, 106, 118]\n",
      "better [2, 7, 12, 17, 22, 27, 92, 99]\n"
     ]
    }
   ],
   "source": [
    "\n",
    "zen_python = '''Beautiful is better than ugly.\n",
    "Explicit is better than implicit.\n",
    "Simple is better than complex.\n",
    "Complex is better than complicated.\n",
    "Flat is better than nested.\n",
    "Sparse is better than dense.\n",
    "Readability counts.\n",
    "Special cases aren't special enough to break the rules.\n",
    "Although practicality beats purity.\n",
    "Errors should never pass silently.\n",
    "Unless explicitly silenced.\n",
    "In the face of ambiguity, refuse the temptation to guess.\n",
    "There should be one-- and preferably only one --obvious way to do it.\n",
    "Although that way may not be obvious at first unless you're Dutch.\n",
    "Now is better than never.\n",
    "Although never is often better than *right* now.\n",
    "If the implementation is hard to explain, it's a bad idea.\n",
    "If the implementation is easy to explain, it may be a good idea.\n",
    "Namespaces are one honking great idea -- let's do more of those!'''\n",
    "\n",
    "import re\n",
    "\n",
    "words = re.findall('\\w+', zen_python)\n",
    "\n",
    "dict_index = {}\n",
    "for index, word in enumerate(words):\n",
    "    ocurrences = dict_index.get(word, []) #get a list if a word was not found\n",
    "    ocurrences.append(index) #append new index to occurences\n",
    "    dict_index[word] = ocurrences #Put  changed occurences into dict_index; thus entails a second search through the index.\n",
    "    \n",
    "for word in [*dict_index][:3]:\n",
    "    print(word, dict_index[word])\n"
   ]
  },
  {
   "cell_type": "code",
   "execution_count": 37,
   "id": "d71dd514-d728-4200-85b6-3e383b1db0aa",
   "metadata": {},
   "outputs": [
    {
     "name": "stdout",
     "output_type": "stream",
     "text": [
      "Beautiful [0]\n",
      "is [1, 6, 11, 16, 21, 26, 91, 97, 106, 118]\n",
      "better [2, 7, 12, 17, 22, 27, 92, 99]\n"
     ]
    }
   ],
   "source": [
    "dict_index = {}\n",
    "for index, word in enumerate(words):\n",
    "      dict_index.setdefault(word, []).append(index) #Get the list of occurences for word or set it to [] if not found.\n",
    "        #setdefault returns the value, so it can be updated without requiring a second search\n",
    "\n",
    "for word in [*dict_index][:3]:\n",
    "    print(word, dict_index[word])\n"
   ]
  },
  {
   "cell_type": "markdown",
   "id": "af841fdd-18a1-4300-b1d4-a65f57352cb7",
   "metadata": {},
   "source": [
    "In other words "
   ]
  },
  {
   "cell_type": "code",
   "execution_count": null,
   "id": "71928af6-0ecf-40e5-ba2a-0d01911c3d16",
   "metadata": {},
   "outputs": [],
   "source": [
    "my_dict.setdefault(key, []).append(new_value)"
   ]
  },
  {
   "cell_type": "markdown",
   "id": "fac9c2c8-5e14-4a80-9d7b-df60ce9f806b",
   "metadata": {},
   "source": [
    "is the same as"
   ]
  },
  {
   "cell_type": "code",
   "execution_count": null,
   "id": "2977402f-2a02-48ef-80a0-9cdbd7a6e4f3",
   "metadata": {},
   "outputs": [],
   "source": [
    "if key not in my_dict:\n",
    "    my_dict(key) = []\n",
    "my_dict[key].append(new_value)"
   ]
  },
  {
   "cell_type": "markdown",
   "id": "d812c96e-1546-4554-97d9-c302caaa1ca0",
   "metadata": {},
   "source": [
    "except that the latter code performs at least two searches for key - three if it's not found - while setdefault does it all with a single lookup."
   ]
  },
  {
   "cell_type": "markdown",
   "id": "83526bfc-7a64-46eb-8423-fbab5f99ec01",
   "metadata": {},
   "source": [
    "## Automatic Handling of Missing Keys\n",
    "\n",
    "### collections.defaultdict(list)\n",
    "\n",
    "A collections.defaultdict instance creates items with a default value\n",
    "on demand whenever a missing key is searched using d[k] syntax.\n"
   ]
  },
  {
   "cell_type": "code",
   "execution_count": 45,
   "id": "abe2293c-7720-491c-afba-0ea89f5fa852",
   "metadata": {},
   "outputs": [
    {
     "name": "stdout",
     "output_type": "stream",
     "text": [
      "Beautiful [0]\n",
      "is [1, 6, 11, 16, 21, 26, 91, 97, 106, 118]\n",
      "better [2, 7, 12, 17, 22, 27, 92, 99]\n"
     ]
    }
   ],
   "source": [
    "import re\n",
    "import collections\n",
    "\n",
    "words = re.findall('\\w+', zen_python)\n",
    "\n",
    "dict_index = collections.defaultdict(list) #Create a defaultdict with function\n",
    "for index, word in enumerate(words):\n",
    "    dict_index[word].append(index)  #If word is not initially in the index, the function is called to fill the missing values\n",
    "#produce the missing value\n",
    "    \n",
    "for word in [*dict_index][:3]:\n",
    "    print(word, dict_index[word])"
   ]
  },
  {
   "cell_type": "code",
   "execution_count": 46,
   "id": "2b67655a-8b67-4adc-bd84-6d3ef7a43648",
   "metadata": {},
   "outputs": [
    {
     "data": {
      "text/plain": [
       "'BLA'"
      ]
     },
     "execution_count": 46,
     "metadata": {},
     "output_type": "execute_result"
    }
   ],
   "source": [
    "def fill_missings():\n",
    "    return 'BLA'\n",
    "my_dict = collections.defaultdict(fill_missings) \n",
    "my_dict['Hi']"
   ]
  },
  {
   "cell_type": "markdown",
   "id": "1cccfde8-9594-4731-a45a-9ba075438bfa",
   "metadata": {},
   "source": [
    "## Other Variations of dict\n",
    "\n",
    "### collections.OrderedDict\n",
    "Since Python 3.6 the built-in dict keeps the keys ordered. The most common reason to use OrderedDict is writing code that is backward compatible with earlier Python versions.\n",
    "\n",
    "Differences:\n",
    "\n",
    "- The equality operation for OrderedDict checks for matching order.\n"
   ]
  },
  {
   "cell_type": "code",
   "execution_count": 70,
   "id": "c9d7ddbd-b308-4833-98e2-94d613271d36",
   "metadata": {},
   "outputs": [
    {
     "data": {
      "text/plain": [
       "({'a': 1, 'b': 2}, {'b': 2, 'a': 1})"
      ]
     },
     "execution_count": 70,
     "metadata": {},
     "output_type": "execute_result"
    }
   ],
   "source": [
    "d1 = {'a':1, 'b':2}\n",
    "d2 = dict(list(d1.items())[::-1])\n",
    "d1 == d2\n",
    "d1, d2"
   ]
  },
  {
   "cell_type": "code",
   "execution_count": 71,
   "id": "50baa289-a3d9-4850-a729-f902a7f9f25d",
   "metadata": {},
   "outputs": [
    {
     "data": {
      "text/plain": [
       "(OrderedDict([('a', 1), ('b', 2)]), OrderedDict([('b', 2), ('a', 1)]))"
      ]
     },
     "execution_count": 71,
     "metadata": {},
     "output_type": "execute_result"
    }
   ],
   "source": [
    "d1 = collections.OrderedDict(d1)\n",
    "d2 = collections.OrderedDict(d2)\n",
    "\n",
    "d1 == d2\n",
    "d1, d2"
   ]
  },
  {
   "cell_type": "markdown",
   "id": "dd626cb6-dc9a-476a-8483-3f3e8439b4d8",
   "metadata": {},
   "source": [
    "- OrderedDict has a move_to_end() method to efficiently reposition an element to an endpoint."
   ]
  },
  {
   "cell_type": "code",
   "execution_count": 75,
   "id": "c730ee15-8f99-4619-8d98-c1195be269ce",
   "metadata": {},
   "outputs": [
    {
     "data": {
      "text/plain": [
       "True"
      ]
     },
     "execution_count": 75,
     "metadata": {},
     "output_type": "execute_result"
    }
   ],
   "source": [
    "d1.move_to_end('a')\n",
    "d1\n",
    "d1 == d2"
   ]
  },
  {
   "cell_type": "markdown",
   "id": "43ad05b3-9346-400c-a2c6-768c1d36c552",
   "metadata": {},
   "source": [
    "### collections.ChainMap\n",
    "\n",
    "A ChainMap instance holds a list of mappings that can be searched as one. The\n",
    "lookup is performed on each input mapping in the order it appears in the\n",
    "constructor call, and succeeds as soon as the key is found in one of those\n",
    "mappings. For example:"
   ]
  },
  {
   "cell_type": "code",
   "execution_count": 157,
   "id": "223cff42-adcd-476a-9b73-a51058682a40",
   "metadata": {},
   "outputs": [
    {
     "data": {
      "text/plain": [
       "ChainMap({'a': 1, 'b': 3}, {'a': 2, 'b': 4, 'c': 6})"
      ]
     },
     "execution_count": 157,
     "metadata": {},
     "output_type": "execute_result"
    }
   ],
   "source": [
    "d1 = dict(a=1, b=3)\n",
    "d2 = dict(a=2, b=4, c=6)\n",
    "from collections import ChainMap\n",
    "chain = ChainMap(d1, d2)\n",
    "chain['a']\n",
    "chain"
   ]
  },
  {
   "cell_type": "code",
   "execution_count": 77,
   "id": "bdb069aa-514e-4891-9450-2448ce0cc7b8",
   "metadata": {},
   "outputs": [
    {
     "data": {
      "text/plain": [
       "6"
      ]
     },
     "execution_count": 77,
     "metadata": {},
     "output_type": "execute_result"
    }
   ],
   "source": [
    "chain['c'] #Lookups search the underlying mappings successively until a key is found. "
   ]
  },
  {
   "cell_type": "code",
   "execution_count": 78,
   "id": "c3e48167-41b8-44be-b976-07715475ee18",
   "metadata": {},
   "outputs": [
    {
     "data": {
      "text/plain": [
       "3"
      ]
     },
     "execution_count": 78,
     "metadata": {},
     "output_type": "execute_result"
    }
   ],
   "source": [
    "chain['b'] #lookup is performed on each input mapping in the order it appears in the\n",
    "#constructor call\n"
   ]
  },
  {
   "cell_type": "markdown",
   "id": "55240d6c-39e5-4100-832f-d163392d7065",
   "metadata": {},
   "source": [
    "The ChainMap instance does not copy the input mappings, but holds references\n",
    "to them. Updates or insertions to a ChainMap only affect the first input\n",
    "mapping."
   ]
  },
  {
   "cell_type": "code",
   "execution_count": 82,
   "id": "91692dd6-c813-46ab-b027-54e244e25e3c",
   "metadata": {},
   "outputs": [
    {
     "data": {
      "text/plain": [
       "{'a': 1, 'b': 3, 'c': -1}"
      ]
     },
     "execution_count": 82,
     "metadata": {},
     "output_type": "execute_result"
    }
   ],
   "source": [
    "chain['c'] = -1 \n",
    "d1"
   ]
  },
  {
   "cell_type": "code",
   "execution_count": 83,
   "id": "f66d56e8-9af0-49f1-aa5b-b571d0f840bd",
   "metadata": {},
   "outputs": [
    {
     "data": {
      "text/plain": [
       "{'a': 2, 'b': 4, 'c': 6}"
      ]
     },
     "execution_count": 83,
     "metadata": {},
     "output_type": "execute_result"
    }
   ],
   "source": [
    "d2"
   ]
  },
  {
   "cell_type": "code",
   "execution_count": 161,
   "id": "b09c9a38",
   "metadata": {},
   "outputs": [
    {
     "data": {
      "text/plain": [
       "ChainMap({'a': 1, 'b': 3}, {'a': 2, 'b': 4, 'c': 6})"
      ]
     },
     "execution_count": 161,
     "metadata": {},
     "output_type": "execute_result"
    }
   ],
   "source": [
    "chain"
   ]
  },
  {
   "cell_type": "code",
   "execution_count": 165,
   "id": "6413939f",
   "metadata": {},
   "outputs": [
    {
     "data": {
      "text/plain": [
       "ChainMap({'a': 1, 'b': 3}, {'a': 2, 'b': 4, 'c': 6})"
      ]
     },
     "execution_count": 165,
     "metadata": {},
     "output_type": "execute_result"
    }
   ],
   "source": [
    "child_chain = chain.new_child()\n",
    "chain"
   ]
  },
  {
   "cell_type": "code",
   "execution_count": 170,
   "id": "e580de2c",
   "metadata": {},
   "outputs": [
    {
     "data": {
      "text/plain": [
       "[{'a': 1, 'b': 3}, {'a': 2, 'b': 4, 'c': 6}]"
      ]
     },
     "execution_count": 170,
     "metadata": {},
     "output_type": "execute_result"
    }
   ],
   "source": [
    "child_chain['bla'] = '11'\n",
    "child_chain\n",
    "chain.maps"
   ]
  },
  {
   "cell_type": "code",
   "execution_count": 173,
   "id": "463b6145",
   "metadata": {},
   "outputs": [
    {
     "data": {
      "text/plain": [
       "ChainMap({'a': 2, 'b': 4, 'c': 6})"
      ]
     },
     "execution_count": 173,
     "metadata": {},
     "output_type": "execute_result"
    }
   ],
   "source": [
    "chain.parents"
   ]
  },
  {
   "cell_type": "markdown",
   "id": "a110de91-d3d6-4b14-a9be-ffcaf6eb174f",
   "metadata": {},
   "source": [
    "Use cases:\n",
    "- Searching through multiple dictionaries\n",
    "- providing a chain of default values"
   ]
  },
  {
   "cell_type": "markdown",
   "id": "d88b3563",
   "metadata": {},
   "source": [
    "### Simulating Pythons lookup"
   ]
  },
  {
   "cell_type": "code",
   "execution_count": 160,
   "id": "a4ea6427",
   "metadata": {},
   "outputs": [
    {
     "name": "stdout",
     "output_type": "stream",
     "text": [
      "<built-in function sum>\n",
      "0\n"
     ]
    }
   ],
   "source": [
    "import builtins\n",
    "from collections import ChainMap\n",
    "\n",
    "pylookup = ChainMap(locals(), globals(), vars(builtins))\n",
    "\n",
    "print(pylookup['sum'])\n",
    "sum = 0\n",
    "print(pylookup['sum'])\n"
   ]
  },
  {
   "cell_type": "code",
   "execution_count": null,
   "id": "eee40dff",
   "metadata": {},
   "outputs": [],
   "source": []
  },
  {
   "cell_type": "markdown",
   "id": "4c3fc7bd-d09d-4fe0-9683-b7159e7e2f2d",
   "metadata": {},
   "source": [
    "### collections.Counter\n",
    "\n",
    "A mapping that holds an integer count for each key. Updating an existing key\n",
    "adds to its count."
   ]
  },
  {
   "cell_type": "code",
   "execution_count": 90,
   "id": "bda15f47-077b-4db5-be70-1ec84bf05864",
   "metadata": {},
   "outputs": [
    {
     "data": {
      "text/plain": [
       "Counter({'a': 5, 'b': 2, 'r': 2, 'c': 1, 'd': 1})"
      ]
     },
     "execution_count": 90,
     "metadata": {},
     "output_type": "execute_result"
    }
   ],
   "source": [
    "ct = collections.Counter('abracadabra')\n",
    "ct"
   ]
  },
  {
   "cell_type": "code",
   "execution_count": 92,
   "id": "704ff57f-ea41-4e6a-b045-a6f6b6869d44",
   "metadata": {},
   "outputs": [
    {
     "data": {
      "text/plain": [
       "Counter({'a': 15, 'b': 2, 'r': 2, 'c': 1, 'd': 1, 'z': 6})"
      ]
     },
     "execution_count": 92,
     "metadata": {},
     "output_type": "execute_result"
    }
   ],
   "source": [
    "ct.update('aaaaazzz')\n",
    "ct"
   ]
  },
  {
   "cell_type": "code",
   "execution_count": 93,
   "id": "aefc92e6-8608-4994-adae-bc3d42a17042",
   "metadata": {},
   "outputs": [
    {
     "data": {
      "text/plain": [
       "[('a', 15), ('z', 6), ('b', 2)]"
      ]
     },
     "execution_count": 93,
     "metadata": {},
     "output_type": "execute_result"
    }
   ],
   "source": [
    "ct.most_common(3) #most_common([n]) returns an ordered list of tuples with the n most\n",
    "#common items and their counts;"
   ]
  },
  {
   "cell_type": "code",
   "execution_count": 150,
   "id": "0b7d906a",
   "metadata": {},
   "outputs": [
    {
     "data": {
      "text/plain": [
       "Counter({'A': 1, 'C': 1, 'B': 1})"
      ]
     },
     "execution_count": 150,
     "metadata": {},
     "output_type": "execute_result"
    }
   ],
   "source": [
    "subjects = [\n",
    "      {'name': 'English', 'grade': 'A'},\n",
    "      {'name': 'German', 'grade': 'C'},\n",
    "      {'name': 'Maths', 'grade': 'B'}\n",
    "    ]\n",
    "\n",
    "ct2 = collections.Counter()\n",
    "#[list(d.values()).count('B') for d in subjects]\n",
    "#[ct2.update(d['grade']) for d in subjects]\n",
    "for subject in subjects:\n",
    "    ct2.update(subject['grade'])\n",
    "ct2"
   ]
  },
  {
   "cell_type": "code",
   "execution_count": 152,
   "id": "7666c10e",
   "metadata": {},
   "outputs": [
    {
     "data": {
      "text/plain": [
       "2"
      ]
     },
     "execution_count": 152,
     "metadata": {},
     "output_type": "execute_result"
    }
   ],
   "source": [
    "subjects= [\n",
    "      {'name': 'English', 'grade': 'A'},\n",
    "      {'name': 'German', 'grade': 'F'},\n",
    "      {'name': 'Maths', 'grade': 'F'}\n",
    "    ]\n",
    "\n",
    "ct2 = collections.Counter()\n",
    "for subject in subjects:\n",
    "    ct2.update(subject['grade'])\n",
    "ct2['F']"
   ]
  },
  {
   "cell_type": "code",
   "execution_count": 154,
   "id": "1d731400",
   "metadata": {},
   "outputs": [
    {
     "name": "stdout",
     "output_type": "stream",
     "text": [
      "['A', 'F', 'F']\n",
      "2\n"
     ]
    },
    {
     "data": {
      "text/plain": [
       "Counter({'A': 1, 'F': 2})"
      ]
     },
     "execution_count": 154,
     "metadata": {},
     "output_type": "execute_result"
    }
   ],
   "source": [
    "grades = [subject['grade'] for subject in subjects]\n",
    "print(grades)\n",
    "#print(grades.count('F'))\n",
    "ct2 = collections.Counter(grades)\n",
    "ct2\n"
   ]
  },
  {
   "cell_type": "markdown",
   "id": "c2f98f40-2c4c-4e2b-b7c8-b411eea4eb8e",
   "metadata": {},
   "source": [
    "### Dictionary Views\n",
    "\n",
    "The dict instance methods .keys(), .values(), and .items() return\n",
    "instances of classes called dict_keys, dict_values, and dict_items.\n",
    "\n",
    "- These dictionary views are read-only"
   ]
  },
  {
   "cell_type": "code",
   "execution_count": 102,
   "id": "9bffeae2-b5ef-4af0-ad7c-181ab49d0234",
   "metadata": {},
   "outputs": [],
   "source": [
    "d = dict(a=10, b=20, c=30)\n",
    "values = d.values()"
   ]
  },
  {
   "cell_type": "code",
   "execution_count": 103,
   "id": "59ead174-b872-4db7-a63e-af5f6d172a19",
   "metadata": {},
   "outputs": [
    {
     "data": {
      "text/plain": [
       "3"
      ]
     },
     "execution_count": 103,
     "metadata": {},
     "output_type": "execute_result"
    }
   ],
   "source": [
    "len(values) #We can query the len of a view."
   ]
  },
  {
   "cell_type": "code",
   "execution_count": 104,
   "id": "a585f447-b9a5-49a6-a06d-337b3196d998",
   "metadata": {},
   "outputs": [
    {
     "data": {
      "text/plain": [
       "[10, 20, 30]"
      ]
     },
     "execution_count": 104,
     "metadata": {},
     "output_type": "execute_result"
    }
   ],
   "source": [
    "list(values) #Views are iterable, so it’s easy to create lists from them."
   ]
  },
  {
   "cell_type": "markdown",
   "id": "7e3f3c96-344a-487f-98eb-befbbc22ca50",
   "metadata": {},
   "source": [
    "If the source dict is updated, you can\n",
    "immediately see the changes through an existing view."
   ]
  },
  {
   "cell_type": "code",
   "execution_count": 105,
   "id": "a114516b-db4b-42f4-a753-bdbf7fbfad1f",
   "metadata": {},
   "outputs": [
    {
     "data": {
      "text/plain": [
       "{'a': 10, 'b': 20, 'c': 30, 'z': 99}"
      ]
     },
     "execution_count": 105,
     "metadata": {},
     "output_type": "execute_result"
    }
   ],
   "source": [
    "d['z'] = 99\n",
    "d"
   ]
  },
  {
   "cell_type": "code",
   "execution_count": 106,
   "id": "3965d753-bfb5-4848-8a42-22e9c13457b5",
   "metadata": {},
   "outputs": [
    {
     "data": {
      "text/plain": [
       "dict_values([10, 20, 30, 99])"
      ]
     },
     "execution_count": 106,
     "metadata": {},
     "output_type": "execute_result"
    }
   ],
   "source": [
    "values"
   ]
  },
  {
   "cell_type": "markdown",
   "id": "f73b81a6-32ec-48e6-a1d7-42e44192af6e",
   "metadata": {},
   "source": [
    "# Set Theory"
   ]
  },
  {
   "cell_type": "markdown",
   "id": "2771981c",
   "metadata": {},
   "source": [
    "- set is mutable\n",
    "- frozenset immutable\n",
    "\n",
    "A set is a collection of unique objects. A basic use case is removing duplication:"
   ]
  },
  {
   "cell_type": "code",
   "execution_count": 174,
   "id": "35e9ea9a",
   "metadata": {},
   "outputs": [
    {
     "data": {
      "text/plain": [
       "{'bacon', 'eggs', 'spam'}"
      ]
     },
     "execution_count": 174,
     "metadata": {},
     "output_type": "execute_result"
    }
   ],
   "source": [
    "l = ['spam', 'spam', 'eggs', 'spam', 'bacon', 'eggs']\n",
    "set(l)"
   ]
  },
  {
   "cell_type": "code",
   "execution_count": 175,
   "id": "ed8dfdfd",
   "metadata": {},
   "outputs": [
    {
     "data": {
      "text/plain": [
       "['eggs', 'spam', 'bacon']"
      ]
     },
     "execution_count": 175,
     "metadata": {},
     "output_type": "execute_result"
    }
   ],
   "source": [
    "list(set(l))"
   ]
  },
  {
   "cell_type": "markdown",
   "id": "fb59432c",
   "metadata": {},
   "source": [
    "Set elements must be hashable.\n",
    "\n",
    "### What is Hashable\n",
    "- an object that has a hash code which never changes during its lifetime and can be compared to other objects\n",
    "- Hashable objects which compare equal must have the same hash code\n",
    "\n",
    "- Numeric types and flat immutable types str are all hashable.\n",
    "- Container types are hashable if they are immutable and all contained objects are also hashable.\n",
    "- A frozenset is always hashable\n",
    "- A tuple is hashable only if all itsitems are hashable. \n",
    "\n"
   ]
  },
  {
   "cell_type": "code",
   "execution_count": 192,
   "id": "8f86e31b",
   "metadata": {},
   "outputs": [],
   "source": [
    "tt = (1, 2, (30, 40))\n"
   ]
  },
  {
   "cell_type": "code",
   "execution_count": 193,
   "id": "a6b049bc",
   "metadata": {},
   "outputs": [
    {
     "data": {
      "text/plain": [
       "-3907003130834322577"
      ]
     },
     "execution_count": 193,
     "metadata": {},
     "output_type": "execute_result"
    }
   ],
   "source": [
    "hash(tt)"
   ]
  },
  {
   "cell_type": "code",
   "execution_count": 194,
   "id": "368fc1ac",
   "metadata": {},
   "outputs": [
    {
     "ename": "TypeError",
     "evalue": "unhashable type: 'list'",
     "output_type": "error",
     "traceback": [
      "\u001b[0;31m---------------------------------------------------------------------------\u001b[0m",
      "\u001b[0;31mTypeError\u001b[0m                                 Traceback (most recent call last)",
      "Cell \u001b[0;32mIn [194], line 2\u001b[0m\n\u001b[1;32m      1\u001b[0m tl \u001b[38;5;241m=\u001b[39m (\u001b[38;5;241m1\u001b[39m, \u001b[38;5;241m2\u001b[39m, [\u001b[38;5;241m30\u001b[39m, \u001b[38;5;241m40\u001b[39m])\n\u001b[0;32m----> 2\u001b[0m \u001b[38;5;28;43mhash\u001b[39;49m\u001b[43m(\u001b[49m\u001b[43mtl\u001b[49m\u001b[43m)\u001b[49m\n",
      "\u001b[0;31mTypeError\u001b[0m: unhashable type: 'list'"
     ]
    }
   ],
   "source": [
    "tl = (1, 2, [30, 40])\n",
    "hash(tl)"
   ]
  },
  {
   "cell_type": "code",
   "execution_count": 191,
   "id": "7001eec1",
   "metadata": {},
   "outputs": [
    {
     "ename": "TypeError",
     "evalue": "unhashable type: 'set'",
     "output_type": "error",
     "traceback": [
      "\u001b[0;31m---------------------------------------------------------------------------\u001b[0m",
      "\u001b[0;31mTypeError\u001b[0m                                 Traceback (most recent call last)",
      "Cell \u001b[0;32mIn [191], line 1\u001b[0m\n\u001b[0;32m----> 1\u001b[0m \u001b[38;5;28;43mhash\u001b[39;49m\u001b[43m(\u001b[49m\u001b[38;5;28;43mset\u001b[39;49m\u001b[43m(\u001b[49m\u001b[43m)\u001b[49m\u001b[43m)\u001b[49m\n",
      "\u001b[0;31mTypeError\u001b[0m: unhashable type: 'set'"
     ]
    }
   ],
   "source": [
    "hash(set())"
   ]
  },
  {
   "cell_type": "code",
   "execution_count": 198,
   "id": "4f0a08a5",
   "metadata": {},
   "outputs": [
    {
     "data": {
      "text/plain": [
       "2305843009213441"
      ]
     },
     "execution_count": 198,
     "metadata": {},
     "output_type": "execute_result"
    }
   ],
   "source": [
    "x = 1.001\n",
    "hash(x)"
   ]
  },
  {
   "cell_type": "code",
   "execution_count": 201,
   "id": "1aecce70",
   "metadata": {},
   "outputs": [
    {
     "data": {
      "text/plain": [
       "4611686018427393"
      ]
     },
     "execution_count": 201,
     "metadata": {},
     "output_type": "execute_result"
    }
   ],
   "source": [
    "hash(1.002)"
   ]
  },
  {
   "cell_type": "markdown",
   "id": "b6e2c03b",
   "metadata": {},
   "source": [
    "- The hash code of an object may be different depending on the version of Python, the machine architecture.\n",
    "- The hash code of a correctly implemented object is guaranteed to be constant only within one Python process."
   ]
  },
  {
   "cell_type": "code",
   "execution_count": 203,
   "id": "0bef6d4c",
   "metadata": {},
   "outputs": [
    {
     "data": {
      "text/plain": [
       "{1.0, 2.0, 3.0}"
      ]
     },
     "execution_count": 203,
     "metadata": {},
     "output_type": "execute_result"
    }
   ],
   "source": [
    "s = {1.0, 2.0, 3.0}\n",
    "s.add(1)\n",
    "s"
   ]
  },
  {
   "cell_type": "markdown",
   "id": "b098b742",
   "metadata": {},
   "source": [
    "- Adding elements to a set may change the order of existing elements"
   ]
  },
  {
   "cell_type": "markdown",
   "id": "18fc227f",
   "metadata": {},
   "source": [
    "In Python 3, the standard string representation of sets always uses the {…}\n",
    "notation, except for the empty set:"
   ]
  },
  {
   "cell_type": "code",
   "execution_count": 177,
   "id": "86082d51",
   "metadata": {},
   "outputs": [
    {
     "data": {
      "text/plain": [
       "set"
      ]
     },
     "execution_count": 177,
     "metadata": {},
     "output_type": "execute_result"
    }
   ],
   "source": [
    "s = {1}\n",
    "type(s)"
   ]
  },
  {
   "cell_type": "code",
   "execution_count": 178,
   "id": "fa6da257",
   "metadata": {},
   "outputs": [
    {
     "data": {
      "text/plain": [
       "{1}"
      ]
     },
     "execution_count": 178,
     "metadata": {},
     "output_type": "execute_result"
    }
   ],
   "source": [
    "s"
   ]
  },
  {
   "cell_type": "code",
   "execution_count": 179,
   "id": "7b6bdbe4",
   "metadata": {},
   "outputs": [
    {
     "data": {
      "text/plain": [
       "1"
      ]
     },
     "execution_count": 179,
     "metadata": {},
     "output_type": "execute_result"
    }
   ],
   "source": [
    "s.pop()"
   ]
  },
  {
   "cell_type": "code",
   "execution_count": 180,
   "id": "eaba93f6",
   "metadata": {},
   "outputs": [
    {
     "data": {
      "text/plain": [
       "set()"
      ]
     },
     "execution_count": 180,
     "metadata": {},
     "output_type": "execute_result"
    }
   ],
   "source": [
    "s"
   ]
  },
  {
   "cell_type": "markdown",
   "id": "05b25819",
   "metadata": {},
   "source": [
    "There is no special syntax to represent frozenset literals—they must be\n",
    "created by calling the constructor. "
   ]
  },
  {
   "cell_type": "code",
   "execution_count": 181,
   "id": "416d9252",
   "metadata": {},
   "outputs": [
    {
     "data": {
      "text/plain": [
       "frozenset({0, 1, 2, 3, 4, 5, 6, 7, 8, 9})"
      ]
     },
     "execution_count": 181,
     "metadata": {},
     "output_type": "execute_result"
    }
   ],
   "source": [
    "frozenset(range(10))"
   ]
  },
  {
   "cell_type": "markdown",
   "id": "acec9fbe",
   "metadata": {},
   "source": [
    "## Set Comprehensions\n",
    "\n"
   ]
  },
  {
   "cell_type": "code",
   "execution_count": 188,
   "id": "833ce05f",
   "metadata": {},
   "outputs": [
    {
     "data": {
      "text/plain": [
       "{'bacon', 'eggs', 'spam'}"
      ]
     },
     "execution_count": 188,
     "metadata": {},
     "output_type": "execute_result"
    }
   ],
   "source": [
    "l = ['spam', 'spam', 'eggs', 'spam', 'bacon', 'eggs']\n",
    "\n",
    "{item for item in l} # The order of the output changes for each Python process"
   ]
  },
  {
   "cell_type": "markdown",
   "id": "d89cbb5d",
   "metadata": {},
   "source": [
    "## Set Operations"
   ]
  },
  {
   "cell_type": "markdown",
   "id": "48521186",
   "metadata": {},
   "source": [
    "the set types implement many set operations. Given two sets a and b:\n",
    "- Union:   a | b\n",
    "- Intersection: a & b\n",
    "- Difference: a - b\n",
    "- symmetric difference: a ^ b\n",
    "\n",
    "Smart use of set operations can reduce both the line count and the\n",
    "execution time of Python programs, at the same time making code easier to read\n",
    "and reason about—by removing loops and conditional logic."
   ]
  },
  {
   "cell_type": "markdown",
   "id": "c965195f",
   "metadata": {},
   "source": [
    "### Union\n",
    "\n",
    "- $ A  \\cup B = \\{ x: x \\in A \\text{  or  } x \\in B\\}$\n",
    "\n",
    "|Math symbol | Python operation | Method|\n",
    "| :----: | :---: | :----:|\n",
    "| $ A  \\cup B $ | $ a \\vert b $ | a.__ or__(b)\n",
    "| | | s.union(iterable,...) | \n",
    "\n",
    "![](union.png)\n"
   ]
  },
  {
   "cell_type": "code",
   "execution_count": 216,
   "id": "dcb22f07",
   "metadata": {},
   "outputs": [
    {
     "data": {
      "text/plain": [
       "{1, 2, 3, 4, 5, 6, 7}"
      ]
     },
     "execution_count": 216,
     "metadata": {},
     "output_type": "execute_result"
    }
   ],
   "source": [
    "A = {1, 3, 5, 7}\n",
    "B = {1, 2, 4, 6, 7}\n",
    "A | B"
   ]
  },
  {
   "cell_type": "code",
   "execution_count": 217,
   "id": "7ccaa664",
   "metadata": {},
   "outputs": [
    {
     "data": {
      "text/plain": [
       "{1, 2, 3, 4, 5, 6, 7}"
      ]
     },
     "execution_count": 217,
     "metadata": {},
     "output_type": "execute_result"
    }
   ],
   "source": [
    "A.__or__(B)"
   ]
  },
  {
   "cell_type": "code",
   "execution_count": 218,
   "id": "e302ff73",
   "metadata": {},
   "outputs": [
    {
     "data": {
      "text/plain": [
       "{1, 2, 3, 4, 5, 6, 7}"
      ]
     },
     "execution_count": 218,
     "metadata": {},
     "output_type": "execute_result"
    }
   ],
   "source": [
    "A.union([1,2,4,6,7])"
   ]
  },
  {
   "cell_type": "markdown",
   "id": "93d8ea5f",
   "metadata": {},
   "source": [
    "### Intersection \n",
    "\n",
    "- ${\\displaystyle A\\cap B=\\{x:x\\in A{\\text{  and  }}x\\in B\\}}$\n",
    "\n",
    "|Math symbol | Python operation | Method|\n",
    "| :----: | :---: | :----:|\n",
    "| $ \\displaystyle A\\cap B$ | a & b | a.__ and__(b) \n",
    "| | |s.intersection(iterable,...)| \n",
    "\n",
    "![](intersection.png)"
   ]
  },
  {
   "cell_type": "code",
   "execution_count": 212,
   "id": "932608e0",
   "metadata": {},
   "outputs": [
    {
     "data": {
      "text/plain": [
       "{1, 2}"
      ]
     },
     "execution_count": 212,
     "metadata": {},
     "output_type": "execute_result"
    }
   ],
   "source": [
    "A = {1,2,5,7}\n",
    "B = {1,2,4,6}\n",
    "A & B "
   ]
  },
  {
   "cell_type": "code",
   "execution_count": 213,
   "id": "bd6a6ac7",
   "metadata": {},
   "outputs": [
    {
     "data": {
      "text/plain": [
       "{1, 2}"
      ]
     },
     "execution_count": 213,
     "metadata": {},
     "output_type": "execute_result"
    }
   ],
   "source": [
    "A.__and__(B)  "
   ]
  },
  {
   "cell_type": "code",
   "execution_count": 215,
   "id": "018a55ce",
   "metadata": {},
   "outputs": [
    {
     "data": {
      "text/plain": [
       "{1, 2}"
      ]
     },
     "execution_count": 215,
     "metadata": {},
     "output_type": "execute_result"
    }
   ],
   "source": [
    "A.intersection([1,2,4,6])"
   ]
  },
  {
   "cell_type": "code",
   "execution_count": 210,
   "id": "8e687c3b",
   "metadata": {},
   "outputs": [
    {
     "data": {
      "text/plain": [
       "{0, 6, 12, 18}"
      ]
     },
     "execution_count": 210,
     "metadata": {},
     "output_type": "execute_result"
    }
   ],
   "source": [
    "A = {x for x in range(20) if x % 2 == 0} # even integer\n",
    "B = {x for x in range(20) if x % 3 == 0} # divisible\n",
    "A & B"
   ]
  },
  {
   "cell_type": "markdown",
   "id": "ddd31f4d",
   "metadata": {},
   "source": [
    "### Difference\n",
    "\n",
    "- $ {\\displaystyle B\\setminus A=\\{x\\in B:x\\notin A\\}.} $\n",
    "\n",
    "|Math symbol | Python operation | Method|\n",
    "| :----: | :---: | :----:|\n",
    "| $ B\\setminus A $ | $ b - a $ | b.__ sub__(a)\n",
    "| | |b.difference(iterable,...)| \n",
    "\n",
    "![](difference.png)"
   ]
  },
  {
   "cell_type": "code",
   "execution_count": 219,
   "id": "dd120f20",
   "metadata": {},
   "outputs": [
    {
     "data": {
      "text/plain": [
       "{4}"
      ]
     },
     "execution_count": 219,
     "metadata": {},
     "output_type": "execute_result"
    }
   ],
   "source": [
    "A = {1,2,3}\n",
    "B = {2,3,4}\n",
    "\n",
    "B - A"
   ]
  },
  {
   "cell_type": "code",
   "execution_count": 220,
   "id": "a930828a",
   "metadata": {},
   "outputs": [
    {
     "data": {
      "text/plain": [
       "{1}"
      ]
     },
     "execution_count": 220,
     "metadata": {},
     "output_type": "execute_result"
    }
   ],
   "source": [
    "A - B"
   ]
  },
  {
   "cell_type": "markdown",
   "id": "25b7d9ee",
   "metadata": {},
   "source": [
    "### Symmetric Difference\n",
    "\n",
    "- $ {\\displaystyle A\\,\\triangle \\,B=\\left(A\\setminus B\\right)\\cup \\left(B\\setminus A\\right)} $\n",
    "\n",
    "|Math symbol | Python operation | Method|\n",
    "| :----: | :---: | :----:|\n",
    "| $ A\\,\\triangle \\,B $ |  a ^ b  | a.__ xor__(b)\n",
    "| | |a.symmetric_differnce(iterable,...)| \n",
    "\n",
    "![](symmetric_diff.png)"
   ]
  },
  {
   "cell_type": "code",
   "execution_count": 221,
   "id": "bc4918e3",
   "metadata": {},
   "outputs": [
    {
     "data": {
      "text/plain": [
       "{1, 2, 4}"
      ]
     },
     "execution_count": 221,
     "metadata": {},
     "output_type": "execute_result"
    }
   ],
   "source": [
    "A = {1,2,3}\n",
    "B = {3,4}\n",
    "\n",
    "A ^ B"
   ]
  },
  {
   "cell_type": "markdown",
   "id": "e4326b92",
   "metadata": {},
   "source": [
    "### Further operations\n",
    "\n",
    "| Python code | Description\n",
    "| :--- | :---- |\n",
    "| a.isdisjoint(b) | a and b are disjoint (no elements in common)\n",
    "| a in b | Element a is member of b\n",
    "| a <= b | a is subset of b\n",
    "| a < b | a is proper subset of b\n",
    "| a >= b | a is superset of b\n",
    "| a > b | a is proper superset of b"
   ]
  },
  {
   "cell_type": "markdown",
   "id": "3d08c61c",
   "metadata": {},
   "source": [
    "## Set operations on dict Views\n",
    "\n",
    "you can use set operations on dict views"
   ]
  },
  {
   "cell_type": "code",
   "execution_count": 227,
   "id": "a13b5e65",
   "metadata": {},
   "outputs": [
    {
     "data": {
      "text/plain": [
       "{'b', 'd'}"
      ]
     },
     "execution_count": 227,
     "metadata": {},
     "output_type": "execute_result"
    }
   ],
   "source": [
    "d1 = {'a':1, 'b': 2, 'c':3, 'd':4}\n",
    "d2 = {'b':2, 'd':40, 'e':50}\n",
    "\n",
    "d1.keys() & d2.keys()"
   ]
  },
  {
   "cell_type": "code",
   "execution_count": 234,
   "id": "03d6f4a0",
   "metadata": {},
   "outputs": [
    {
     "data": {
      "text/plain": [
       "True"
      ]
     },
     "execution_count": 234,
     "metadata": {},
     "output_type": "execute_result"
    }
   ],
   "source": [
    "d3 = {'a':1}\n",
    "d1.keys() > d3.keys()"
   ]
  },
  {
   "cell_type": "code",
   "execution_count": 236,
   "id": "e067060b",
   "metadata": {},
   "outputs": [
    {
     "data": {
      "text/plain": [
       "True"
      ]
     },
     "execution_count": 236,
     "metadata": {},
     "output_type": "execute_result"
    }
   ],
   "source": [
    "d4 = {'e': 1}\n",
    "d1.keys().isdisjoint(d4.keys())"
   ]
  },
  {
   "cell_type": "code",
   "execution_count": 229,
   "id": "f993f36b",
   "metadata": {},
   "outputs": [
    {
     "data": {
      "text/plain": [
       "{('b', 2)}"
      ]
     },
     "execution_count": 229,
     "metadata": {},
     "output_type": "execute_result"
    }
   ],
   "source": [
    "result = d1.items() & d2.items()\n",
    "result"
   ]
  },
  {
   "cell_type": "code",
   "execution_count": 230,
   "id": "b128e325",
   "metadata": {},
   "outputs": [
    {
     "data": {
      "text/plain": [
       "set"
      ]
     },
     "execution_count": 230,
     "metadata": {},
     "output_type": "execute_result"
    }
   ],
   "source": [
    "type(result)"
   ]
  },
  {
   "cell_type": "code",
   "execution_count": 231,
   "id": "247f9032",
   "metadata": {},
   "outputs": [
    {
     "data": {
      "text/plain": [
       "{'a'}"
      ]
     },
     "execution_count": 231,
     "metadata": {},
     "output_type": "execute_result"
    }
   ],
   "source": [
    "s = { 'a', 'e', 'i'}\n",
    "\n",
    "d1.keys() & s #The set operators in dictionary views are compatible with set instances"
   ]
  },
  {
   "cell_type": "code",
   "execution_count": 232,
   "id": "a13297df",
   "metadata": {},
   "outputs": [
    {
     "data": {
      "text/plain": [
       "{'a', 'b', 'c', 'd', 'e', 'i'}"
      ]
     },
     "execution_count": 232,
     "metadata": {},
     "output_type": "execute_result"
    }
   ],
   "source": [
    "d1.keys() | s"
   ]
  },
  {
   "cell_type": "markdown",
   "id": "a3a84738",
   "metadata": {},
   "source": [
    "- A dict_items view only works as a set if all values in the dict are hashable.\n",
    "- On the other hand, a dict_keys view can always be used as a set, because every key is hashable—by definition."
   ]
  },
  {
   "cell_type": "markdown",
   "id": "76ae5499",
   "metadata": {},
   "source": [
    "### Needle in a Haystack"
   ]
  },
  {
   "cell_type": "code",
   "execution_count": 274,
   "id": "c3b1ec0a",
   "metadata": {},
   "outputs": [],
   "source": [
    "import time\n",
    "\n",
    "def time_factory(rounds=3):\n",
    "    def timer(func):\n",
    "        def wrapper_timer(*args, **kwargs):\n",
    "            results = []\n",
    "            for i in range(rounds):\n",
    "                start = time.time()\n",
    "                value = func(*args, **kwargs)\n",
    "                elapsed_time = time.time() - start\n",
    "                results.append(elapsed_time)\n",
    "                print(f\"Elapsed time: {elapsed_time:0.5f} seconds\")\n",
    "            return value, sum(results) /len(results)\n",
    "        return wrapper_timer\n",
    "    return timer"
   ]
  },
  {
   "cell_type": "code",
   "execution_count": 275,
   "id": "1311932e",
   "metadata": {},
   "outputs": [],
   "source": [
    "@time_factory()\n",
    "def union_set(needles, haystack):\n",
    "    return len(needles &  haystack)"
   ]
  },
  {
   "cell_type": "code",
   "execution_count": 290,
   "id": "4b43c868",
   "metadata": {},
   "outputs": [],
   "source": [
    "import random\n",
    "factor = 10_000_000\n",
    "N = factor - 500\n",
    "needles = list(range(1000))\n",
    "random.shuffle(needles)\n",
    "haystack = list(range(1000, N + 500))\n",
    "haystack = [*haystack, *needles[:500]]\n",
    "random.shuffle(haystack)\n",
    "\n"
   ]
  },
  {
   "cell_type": "code",
   "execution_count": 291,
   "id": "d9d97111",
   "metadata": {},
   "outputs": [
    {
     "name": "stdout",
     "output_type": "stream",
     "text": [
      "Elapsed time: 0.00008 seconds\n",
      "Elapsed time: 0.00006 seconds\n",
      "Elapsed time: 0.00005 seconds\n"
     ]
    },
    {
     "data": {
      "text/plain": [
       "(500, 6.302197774251302e-05)"
      ]
     },
     "execution_count": 291,
     "metadata": {},
     "output_type": "execute_result"
    }
   ],
   "source": [
    "union_set(set(needles), set(haystack))"
   ]
  },
  {
   "cell_type": "code",
   "execution_count": 279,
   "id": "39a65c22",
   "metadata": {},
   "outputs": [],
   "source": [
    "@time_factory()\n",
    "def union_list(needles, haystack):\n",
    "    found = 0\n",
    "    for n in needles:\n",
    "        if n in haystack:\n",
    "            found += 1\n",
    "    return found"
   ]
  },
  {
   "cell_type": "code",
   "execution_count": 292,
   "id": "0a330885",
   "metadata": {},
   "outputs": [
    {
     "name": "stdout",
     "output_type": "stream",
     "text": [
      "Elapsed time: 451.82488 seconds\n",
      "Elapsed time: 447.75300 seconds\n",
      "Elapsed time: 445.99019 seconds\n"
     ]
    },
    {
     "data": {
      "text/plain": [
       "(500, 448.52268799146015)"
      ]
     },
     "execution_count": 292,
     "metadata": {},
     "output_type": "execute_result"
    }
   ],
   "source": [
    "union_list(needles, haystack)"
   ]
  }
 ],
 "metadata": {
  "kernelspec": {
   "display_name": "Python 3 (ipykernel)",
   "language": "python",
   "name": "python3"
  },
  "language_info": {
   "codemirror_mode": {
    "name": "ipython",
    "version": 3
   },
   "file_extension": ".py",
   "mimetype": "text/x-python",
   "name": "python",
   "nbconvert_exporter": "python",
   "pygments_lexer": "ipython3",
   "version": "3.10.8"
  },
  "vscode": {
   "interpreter": {
    "hash": "97cc609b13305c559618ec78a438abc56230b9381f827f22d070313b9a1f3777"
   }
  }
 },
 "nbformat": 4,
 "nbformat_minor": 5
}
