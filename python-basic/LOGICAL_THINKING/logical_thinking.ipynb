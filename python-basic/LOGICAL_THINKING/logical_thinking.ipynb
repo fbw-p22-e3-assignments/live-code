{
 "cells": [
  {
   "cell_type": "markdown",
   "id": "2c6940ab",
   "metadata": {},
   "source": [
    "# Logical Thinking\n",
    "\n",
    "### Recap\n",
    "\n",
    "|Term | Definiton|\n",
    "| :---: | :--------: |\n",
    "| Boolean| A data type that has 2 possible values: **True/False**.|\n",
    "| Predicate | An expression that evaluates/returns a Boolean. |\n",
    "| Logical Operator (**and, or, not**) | A symbol that performs a logical operation. |\n",
    "| Logical expression | A set of predicates and operators that produce a single Boolean. |\n",
    "| Evaluation | The result of executing an expression or a predicate. |\n",
    "\n"
   ]
  },
  {
   "cell_type": "code",
   "execution_count": 27,
   "id": "b0fc56e5",
   "metadata": {},
   "outputs": [
    {
     "data": {
      "text/plain": [
       "True"
      ]
     },
     "execution_count": 27,
     "metadata": {},
     "output_type": "execute_result"
    }
   ],
   "source": [
    "True #Boolean and at the same time a predicated"
   ]
  },
  {
   "cell_type": "code",
   "execution_count": 28,
   "id": "6b0b3a14",
   "metadata": {},
   "outputs": [
    {
     "data": {
      "text/plain": [
       "True"
      ]
     },
     "execution_count": 28,
     "metadata": {},
     "output_type": "execute_result"
    }
   ],
   "source": [
    "'x' in 'abcx' #Predicate (with Membership Operator)"
   ]
  },
  {
   "cell_type": "code",
   "execution_count": 29,
   "id": "578fd73d",
   "metadata": {},
   "outputs": [
    {
     "data": {
      "text/plain": [
       "True"
      ]
     },
     "execution_count": 29,
     "metadata": {},
     "output_type": "execute_result"
    }
   ],
   "source": [
    "'x' == 'x' #Predicate  (with Comparison Operator/Relational operators)"
   ]
  },
  {
   "cell_type": "code",
   "execution_count": 30,
   "id": "4350a251",
   "metadata": {},
   "outputs": [
    {
     "data": {
      "text/plain": [
       "True"
      ]
     },
     "execution_count": 30,
     "metadata": {},
     "output_type": "execute_result"
    }
   ],
   "source": [
    "'x' in 'abcx' and 'x' == 'x' # The Logical expression evaluates to True; can you spot the logical operator"
   ]
  },
  {
   "cell_type": "markdown",
   "id": "743be444",
   "metadata": {},
   "source": [
    "### Recap Truth Tables\n",
    "\n",
    "Truth Tables help us evaluate if a logical expression is doing what we think it does.\n",
    "\n",
    "### AND\n",
    "\n",
    "|AND | True | False\n",
    "| :--: |:--:| :--:\n",
    "|True  |True|False\n",
    "|False |False|False"
   ]
  },
  {
   "cell_type": "markdown",
   "id": "e64afae9",
   "metadata": {},
   "source": [
    "## OR\n",
    "|OR | True | False\n",
    "| :--: |:--:| :--:\n",
    "|True  |True|True\n",
    "|False |True|False\n"
   ]
  },
  {
   "cell_type": "markdown",
   "id": "a11818fd",
   "metadata": {},
   "source": [
    "## NOT \n",
    "\n",
    "|A     | Expression \n",
    "| :--: |:--:\n",
    "|True  |False\n",
    "|False |True"
   ]
  },
  {
   "cell_type": "markdown",
   "id": "7e8b2f09",
   "metadata": {},
   "source": [
    "## XOR:  !=\n",
    "*Exclusive or* or exclusive disjunction is a logical operation that is true if and only if its arguments differ. \n",
    "\n",
    "|A     |B| Expression \n",
    "| :--: |:--:|:--:\n",
    "|True  |True\n",
    "|True  |False\n",
    "|False |True\n",
    "|False |False"
   ]
  },
  {
   "cell_type": "markdown",
   "id": "ce066fa8",
   "metadata": {},
   "source": [
    "## NAND: not(A and B)\n",
    "The negation of the conjunction operation, expressed in ordinary language as \"not both\". \n",
    "\n",
    "|A     |B| Expression \n",
    "| :--: |:--:|:--:\n",
    "|True  |True\n",
    "|True  |False\n",
    "|False |True\n",
    "|False |False"
   ]
  },
  {
   "cell_type": "markdown",
   "id": "42118670",
   "metadata": {},
   "source": [
    "## NOR: not(A or B)\n",
    "The logical nor or joint denial is a operator which produces a result that is the negation of logical or.\n",
    "\n",
    "|A     |B| Expression \n",
    "| :--: |:--:|:--:\n",
    "|True  |True\n",
    "|True  |False\n",
    "|False |True\n",
    "|False |False"
   ]
  },
  {
   "cell_type": "markdown",
   "id": "8a06f071",
   "metadata": {},
   "source": [
    "## XNOR: A == B\n",
    "\n",
    "|A     |B| Expression \n",
    "| :--: |:--:|:--:\n",
    "|True  |True\n",
    "|True  |False\n",
    "|False |True\n",
    "|False |False"
   ]
  },
  {
   "cell_type": "markdown",
   "id": "0c4ecbab",
   "metadata": {},
   "source": [
    "## Truthy and Falsy Values\n",
    "\n",
    "|| Truthy | Falsy|\n",
    "|:--:| :---: | :---:  |\n",
    "|True | x ||\n",
    "|False| | x |\n",
    "|[]|  | x |\n",
    "|''|| | x |\n",
    "|{}|  | x |\n",
    "|'Hello' | x | |\n",
    "| 1 | x | |\n",
    "|None| | x |\n",
    "| 0 | | x |\n"
   ]
  },
  {
   "cell_type": "markdown",
   "id": "b110975a",
   "metadata": {},
   "source": [
    "## Short Circuiting is Supported by the Logical Or and the Logical And\n",
    "\n",
    "### Logical AND\n",
    "\n",
    "- If **both** operands are **truthy**, the operator returns a **truthy value**. **Otherwise** the operator returns a **falsy value**. \n",
    "- Notice that this description says that the operator returns \"a truthy value\" or a \"falsy value\" but does not specify what that value is.\n",
    "- This operator starts by evaluating its 1st operand.\n",
    "- if the value of the 1st operand is falsy, the value of the entire logical expression must be falsy: *and* simply returns the value of the 1st operand and does not even evaluate the expression of the 2nd operand\n",
    "- if the value of the 1st operand is truthy, then the **overall** value of the expression depends on the value of the second operand\n",
    "- So when the value of the 1st operand is truthy, the *and* operator evaluates and returns the value of the 2nd operand:\n"
   ]
  },
  {
   "cell_type": "code",
   "execution_count": 94,
   "id": "267c8ac4",
   "metadata": {},
   "outputs": [
    {
     "data": {
      "text/plain": [
       "'second truthy'"
      ]
     },
     "execution_count": 94,
     "metadata": {},
     "output_type": "execute_result"
    }
   ],
   "source": [
    "truthy1 = 'first truthy'\n",
    "truthy2 = 'second truthy'\n",
    "falsy1 = 0\n",
    "falsy2 = ''\n",
    "\n",
    "truthy1 and truthy2"
   ]
  },
  {
   "cell_type": "code",
   "execution_count": 95,
   "id": "c48cdeaf",
   "metadata": {},
   "outputs": [
    {
     "data": {
      "text/plain": [
       "''"
      ]
     },
     "execution_count": 95,
     "metadata": {},
     "output_type": "execute_result"
    }
   ],
   "source": [
    "truthy1 and falsy2"
   ]
  },
  {
   "cell_type": "code",
   "execution_count": 96,
   "id": "bc6c7167",
   "metadata": {},
   "outputs": [
    {
     "data": {
      "text/plain": [
       "0"
      ]
     },
     "execution_count": 96,
     "metadata": {},
     "output_type": "execute_result"
    }
   ],
   "source": [
    "falsy1 and truthy2"
   ]
  },
  {
   "cell_type": "code",
   "execution_count": 97,
   "id": "5e528a97",
   "metadata": {},
   "outputs": [
    {
     "data": {
      "text/plain": [
       "0"
      ]
     },
     "execution_count": 97,
     "metadata": {},
     "output_type": "execute_result"
    }
   ],
   "source": [
    "falsy1 and falsy2"
   ]
  },
  {
   "cell_type": "markdown",
   "id": "16937d1f",
   "metadata": {},
   "source": [
    "Can be used to catch errors:"
   ]
  },
  {
   "cell_type": "code",
   "execution_count": 98,
   "id": "5d6c27ff",
   "metadata": {},
   "outputs": [
    {
     "data": {
      "text/plain": [
       "False"
      ]
     },
     "execution_count": 98,
     "metadata": {},
     "output_type": "execute_result"
    }
   ],
   "source": [
    "x = 0\n",
    "\n",
    "x != 0 and 1 / x > 0\n"
   ]
  },
  {
   "cell_type": "markdown",
   "id": "fad96002",
   "metadata": {},
   "source": [
    "### Logical OR\n",
    "\n",
    "- If one or both operands is truthy, it returns a truthy value.\n",
    "- If both operands are falsy, it returns a falsy value.\n",
    "- This operator starts by evaluating its first operand.\n",
    "- If the value of the first operand is truthy, it *short-circuits* and returns that truthy value without ever evaluating the 2nd operand expression\n",
    "- If the value of the first operand is falsy, then the *or*-operator evaluates its 2nd operand and returns the value of the second expression"
   ]
  },
  {
   "cell_type": "code",
   "execution_count": 99,
   "id": "cb1990cb",
   "metadata": {},
   "outputs": [
    {
     "data": {
      "text/plain": [
       "'first truthy'"
      ]
     },
     "execution_count": 99,
     "metadata": {},
     "output_type": "execute_result"
    }
   ],
   "source": [
    "truthy1 or truthy2"
   ]
  },
  {
   "cell_type": "code",
   "execution_count": 100,
   "id": "401e55f6",
   "metadata": {},
   "outputs": [
    {
     "data": {
      "text/plain": [
       "'first truthy'"
      ]
     },
     "execution_count": 100,
     "metadata": {},
     "output_type": "execute_result"
    }
   ],
   "source": [
    "truthy1 or falsy2"
   ]
  },
  {
   "cell_type": "code",
   "execution_count": 101,
   "id": "0b852742",
   "metadata": {},
   "outputs": [
    {
     "data": {
      "text/plain": [
       "'second truthy'"
      ]
     },
     "execution_count": 101,
     "metadata": {},
     "output_type": "execute_result"
    }
   ],
   "source": [
    "falsy1 or truthy2"
   ]
  },
  {
   "cell_type": "code",
   "execution_count": 102,
   "id": "d443bf10",
   "metadata": {},
   "outputs": [
    {
     "data": {
      "text/plain": [
       "''"
      ]
     },
     "execution_count": 102,
     "metadata": {},
     "output_type": "execute_result"
    }
   ],
   "source": [
    "falsy1 or falsy2"
   ]
  },
  {
   "cell_type": "markdown",
   "id": "31f41057",
   "metadata": {},
   "source": [
    "### Logical NOT\n",
    "\n",
    "- The *not* operator is a unary operator; it is placed before a single operand.\n",
    "- unlike *and* and *or* operators, the *not* operator converts its operands to boolean values "
   ]
  },
  {
   "cell_type": "code",
   "execution_count": 103,
   "id": "3ce2f32f",
   "metadata": {},
   "outputs": [
    {
     "data": {
      "text/plain": [
       "False"
      ]
     },
     "execution_count": 103,
     "metadata": {},
     "output_type": "execute_result"
    }
   ],
   "source": [
    "not truthy1"
   ]
  },
  {
   "cell_type": "markdown",
   "id": "a200c7f9",
   "metadata": {},
   "source": [
    "You can apply the *not* operator to achieve the same result that can be achieved with the bool function."
   ]
  },
  {
   "cell_type": "code",
   "execution_count": 104,
   "id": "6a70a5d7",
   "metadata": {},
   "outputs": [
    {
     "data": {
      "text/plain": [
       "True"
      ]
     },
     "execution_count": 104,
     "metadata": {},
     "output_type": "execute_result"
    }
   ],
   "source": [
    "not not truthy1"
   ]
  },
  {
   "cell_type": "code",
   "execution_count": 105,
   "id": "45da9774",
   "metadata": {},
   "outputs": [
    {
     "data": {
      "text/plain": [
       "'second truthy'"
      ]
     },
     "execution_count": 105,
     "metadata": {},
     "output_type": "execute_result"
    }
   ],
   "source": [
    "not not truthy1 and truthy2"
   ]
  },
  {
   "cell_type": "code",
   "execution_count": 106,
   "id": "4e3c926b",
   "metadata": {},
   "outputs": [
    {
     "data": {
      "text/plain": [
       "True"
      ]
     },
     "execution_count": 106,
     "metadata": {},
     "output_type": "execute_result"
    }
   ],
   "source": [
    "not not (truthy1 and truthy2)"
   ]
  },
  {
   "cell_type": "markdown",
   "id": "01754e7a",
   "metadata": {},
   "source": [
    "# Exercise\n",
    "\n",
    "Look at two laws of Boolean algebra (DeMorgan's Laws):\n",
    "\n",
    "$ \\neg (P\\lor Q)\\iff (\\neg P)\\land (\\neg Q) $\n",
    "\n",
    "\n",
    "$ \\neg (P\\land Q)\\iff (\\neg P)\\lor (\\neg Q) $\n",
    "\n",
    "\n",
    "- $ \\neg $ is the negation logic operator (NOT)\n",
    "- $ \\land $ is the conjunction logic operator (AND),\n",
    "- $ \\lor $ is the disjunction logic operator (OR),\n",
    "\n",
    "1. Proof the Demorgan's Laws with Truth Tables\n",
    "2. For each DeMorgan's Law, write a function that checks the validity of these laws."
   ]
  },
  {
   "cell_type": "code",
   "execution_count": 1,
   "id": "c36794d6",
   "metadata": {},
   "outputs": [],
   "source": [
    "p = True\n",
    "q = True"
   ]
  },
  {
   "cell_type": "code",
   "execution_count": 2,
   "id": "deb5233f",
   "metadata": {},
   "outputs": [],
   "source": [
    "def deMorgan1(p, q):\n",
    "    print(p, bool(p), q, bool(q))\n",
    "    return not(p and q) == (not p or not q)  # true for all values of p and q"
   ]
  },
  {
   "cell_type": "code",
   "execution_count": 3,
   "id": "9b805e6b",
   "metadata": {},
   "outputs": [],
   "source": [
    "def deMorgan2(p, q):\n",
    "    print(p, bool(p), q, bool(q))\n",
    "    return not (p or q) == (not p and not q)"
   ]
  },
  {
   "cell_type": "code",
   "execution_count": 8,
   "id": "2711c779",
   "metadata": {},
   "outputs": [
    {
     "name": "stdout",
     "output_type": "stream",
     "text": [
      "0 False 0 False\n",
      "True\n",
      "0 False 1 True\n",
      "True\n",
      "1 True 0 False\n",
      "True\n",
      "1 True 1 True\n",
      "True\n"
     ]
    }
   ],
   "source": [
    "for p in range(2):\n",
    "    for q in range(2):\n",
    "        #print(p, q)\n",
    "        print(deMorgan1(p, q))"
   ]
  },
  {
   "cell_type": "code",
   "execution_count": 5,
   "id": "a1cb6ab7",
   "metadata": {},
   "outputs": [
    {
     "name": "stdout",
     "output_type": "stream",
     "text": [
      "0 False 0 False\n",
      "True\n",
      "0 False 1 True\n",
      "True\n",
      "1 True 0 False\n",
      "True\n",
      "1 True 1 True\n",
      "True\n"
     ]
    }
   ],
   "source": [
    "for p in range(2):\n",
    "    for q in range(2):\n",
    "        print(deMorgan2(p, q))"
   ]
  },
  {
   "cell_type": "code",
   "execution_count": null,
   "id": "49a72c0c",
   "metadata": {},
   "outputs": [],
   "source": []
  }
 ],
 "metadata": {
  "kernelspec": {
   "display_name": "Python 3 (ipykernel)",
   "language": "python",
   "name": "python3"
  },
  "language_info": {
   "codemirror_mode": {
    "name": "ipython",
    "version": 3
   },
   "file_extension": ".py",
   "mimetype": "text/x-python",
   "name": "python",
   "nbconvert_exporter": "python",
   "pygments_lexer": "ipython3",
   "version": "3.8.10"
  }
 },
 "nbformat": 4,
 "nbformat_minor": 5
}
