{
 "cells": [
  {
   "cell_type": "markdown",
   "id": "c69cb092",
   "metadata": {},
   "source": [
    "# Datetime"
   ]
  },
  {
   "cell_type": "markdown",
   "id": "cce973c9",
   "metadata": {},
   "source": [
    "### The time Module"
   ]
  },
  {
   "cell_type": "markdown",
   "id": "feac4dd0",
   "metadata": {},
   "source": [
    "- *time* module is built-in\n",
    "- *time.time()* and the time.sleep() are the most useful functions"
   ]
  },
  {
   "cell_type": "markdown",
   "id": "ebda9e06",
   "metadata": {},
   "source": [
    "### The time.time() Function"
   ]
  },
  {
   "cell_type": "markdown",
   "id": "67d54352",
   "metadata": {},
   "source": [
    "- the *Unix epoch* is a time reference commonly used in programming\n",
    "- this *Unix* timestamp started at 12AM on January 1, 1970, Coordinated Universal Time (UTC)\n",
    "- *time.time()* returns the seconds since that moment\n",
    "- this moment is called the epoch *timestamp*"
   ]
  },
  {
   "cell_type": "code",
   "execution_count": 1,
   "id": "631603af",
   "metadata": {},
   "outputs": [
    {
     "data": {
      "text/plain": [
       "1668672873.3232152"
      ]
     },
     "execution_count": 1,
     "metadata": {},
     "output_type": "execute_result"
    }
   ],
   "source": [
    "import time\n",
    "time.time()"
   ]
  },
  {
   "cell_type": "markdown",
   "id": "7c0a96b9",
   "metadata": {},
   "source": [
    "The return value is how many **seconds** have passed between the *Unix epoch* and the moment the *time.time()* was called"
   ]
  },
  {
   "cell_type": "markdown",
   "id": "8afeeb38",
   "metadata": {},
   "source": [
    "- measure how long a piece of code takes to run:"
   ]
  },
  {
   "cell_type": "code",
   "execution_count": 4,
   "id": "b46215d0",
   "metadata": {},
   "outputs": [
    {
     "name": "stdout",
     "output_type": "stream",
     "text": [
      "To calculate the result the function takes 2.541248321533203s\n"
     ]
    }
   ],
   "source": [
    "import time\n",
    "def calcProd():\n",
    "# Calculate the product of the first 100000 numbers.\n",
    "    product = 1\n",
    "    for i in range(1, 100000):\n",
    "        product = product * i\n",
    "    return product\n",
    "startTime = time.time() # measure the seconds since UNIX Epoch\n",
    "prod = calcProd()\n",
    "endTime = time.time()\n",
    "print(f\"To calculate the result the function takes {endTime - startTime}s\")"
   ]
  },
  {
   "cell_type": "markdown",
   "id": "b7d88d74",
   "metadata": {},
   "source": [
    "### Make it human-readable"
   ]
  },
  {
   "cell_type": "markdown",
   "id": "e6b36756",
   "metadata": {},
   "source": [
    "- time.ctime() function returns a string description of the current time\n",
    "- optionally pass the number of seconds since the *Unix epoch*"
   ]
  },
  {
   "cell_type": "code",
   "execution_count": 8,
   "id": "98a150b1",
   "metadata": {},
   "outputs": [
    {
     "data": {
      "text/plain": [
       "'Thu Nov 17 09:33:56 2022'"
      ]
     },
     "execution_count": 8,
     "metadata": {},
     "output_type": "execute_result"
    }
   ],
   "source": [
    "time.ctime()"
   ]
  },
  {
   "cell_type": "code",
   "execution_count": 9,
   "id": "c9a26105",
   "metadata": {},
   "outputs": [
    {
     "data": {
      "text/plain": [
       "'Thu Nov 17 09:33:57 2022'"
      ]
     },
     "execution_count": 9,
     "metadata": {},
     "output_type": "execute_result"
    }
   ],
   "source": [
    "now = time.time()\n",
    "time.ctime(now)"
   ]
  },
  {
   "cell_type": "code",
   "execution_count": 6,
   "id": "d0c0add3",
   "metadata": {},
   "outputs": [
    {
     "data": {
      "text/plain": [
       "'Thu Jan  1 01:00:00 1970'"
      ]
     },
     "execution_count": 6,
     "metadata": {},
     "output_type": "execute_result"
    }
   ],
   "source": [
    "time.ctime(0)"
   ]
  },
  {
   "cell_type": "markdown",
   "id": "0189caa3",
   "metadata": {},
   "source": [
    "### The time.sleep() Function"
   ]
  },
  {
   "cell_type": "markdown",
   "id": "1d61f7a6",
   "metadata": {},
   "source": [
    "- useful to pause a program:"
   ]
  },
  {
   "cell_type": "code",
   "execution_count": 10,
   "id": "6ae953fa",
   "metadata": {},
   "outputs": [
    {
     "name": "stdout",
     "output_type": "stream",
     "text": [
      "Tick\n",
      "Tock\n",
      "Tick\n",
      "Tock\n",
      "Tick\n",
      "Tock\n"
     ]
    }
   ],
   "source": [
    "for i in range(3):\n",
    "    print('Tick')\n",
    "    time.sleep(1)\n",
    "    print('Tock')\n",
    "    time.sleep(1)"
   ]
  },
  {
   "cell_type": "markdown",
   "id": "bc2f3aa0",
   "metadata": {},
   "source": [
    "## The datetime Module"
   ]
  },
  {
   "cell_type": "markdown",
   "id": "7d901d2c",
   "metadata": {},
   "source": [
    "With the datetime we can conviently work with dates:\n",
    "- doing arithmetics\n",
    "- working with different timezone\n",
    "\n",
    "- datetime has it's data type: datetime"
   ]
  },
  {
   "cell_type": "code",
   "execution_count": 12,
   "id": "71d9de1b",
   "metadata": {},
   "outputs": [
    {
     "data": {
      "text/plain": [
       "datetime.datetime(2022, 11, 17, 9, 39, 59, 250707)"
      ]
     },
     "execution_count": 12,
     "metadata": {},
     "output_type": "execute_result"
    }
   ],
   "source": [
    "import datetime\n",
    "datetime.datetime.now()"
   ]
  },
  {
   "cell_type": "code",
   "execution_count": 13,
   "id": "d672c041",
   "metadata": {},
   "outputs": [
    {
     "data": {
      "text/plain": [
       "datetime.datetime"
      ]
     },
     "execution_count": 13,
     "metadata": {},
     "output_type": "execute_result"
    }
   ],
   "source": [
    "type(datetime.datetime.now())"
   ]
  },
  {
   "cell_type": "code",
   "execution_count": 14,
   "id": "cc610448",
   "metadata": {},
   "outputs": [],
   "source": [
    "dt = datetime.datetime(2019, 10, 21, 16, 29, 0)"
   ]
  },
  {
   "cell_type": "markdown",
   "id": "df3f87de",
   "metadata": {},
   "source": [
    "we can get all date entites like:\n",
    "- year\n",
    "- month\n",
    "- day\n",
    "- hour\n",
    "- minute\n",
    "- second"
   ]
  },
  {
   "cell_type": "code",
   "execution_count": 17,
   "id": "83f197df",
   "metadata": {},
   "outputs": [
    {
     "data": {
      "text/plain": [
       "(2019, 10, 21, 16, 29, 0, 0)"
      ]
     },
     "execution_count": 17,
     "metadata": {},
     "output_type": "execute_result"
    }
   ],
   "source": [
    "dt.year, dt.month, dt.day, dt.hour, dt.minute, dt.second, dt.microsecond"
   ]
  },
  {
   "cell_type": "code",
   "execution_count": 18,
   "id": "49ff61c8",
   "metadata": {},
   "outputs": [
    {
     "data": {
      "text/plain": [
       "['__add__',\n",
       " '__class__',\n",
       " '__delattr__',\n",
       " '__dir__',\n",
       " '__doc__',\n",
       " '__eq__',\n",
       " '__format__',\n",
       " '__ge__',\n",
       " '__getattribute__',\n",
       " '__gt__',\n",
       " '__hash__',\n",
       " '__init__',\n",
       " '__init_subclass__',\n",
       " '__le__',\n",
       " '__lt__',\n",
       " '__ne__',\n",
       " '__new__',\n",
       " '__radd__',\n",
       " '__reduce__',\n",
       " '__reduce_ex__',\n",
       " '__repr__',\n",
       " '__rsub__',\n",
       " '__setattr__',\n",
       " '__sizeof__',\n",
       " '__str__',\n",
       " '__sub__',\n",
       " '__subclasshook__',\n",
       " 'astimezone',\n",
       " 'combine',\n",
       " 'ctime',\n",
       " 'date',\n",
       " 'day',\n",
       " 'dst',\n",
       " 'fold',\n",
       " 'fromisocalendar',\n",
       " 'fromisoformat',\n",
       " 'fromordinal',\n",
       " 'fromtimestamp',\n",
       " 'hour',\n",
       " 'isocalendar',\n",
       " 'isoformat',\n",
       " 'isoweekday',\n",
       " 'max',\n",
       " 'microsecond',\n",
       " 'min',\n",
       " 'minute',\n",
       " 'month',\n",
       " 'now',\n",
       " 'replace',\n",
       " 'resolution',\n",
       " 'second',\n",
       " 'strftime',\n",
       " 'strptime',\n",
       " 'time',\n",
       " 'timestamp',\n",
       " 'timetuple',\n",
       " 'timetz',\n",
       " 'today',\n",
       " 'toordinal',\n",
       " 'tzinfo',\n",
       " 'tzname',\n",
       " 'utcfromtimestamp',\n",
       " 'utcnow',\n",
       " 'utcoffset',\n",
       " 'utctimetuple',\n",
       " 'weekday',\n",
       " 'year']"
      ]
     },
     "execution_count": 18,
     "metadata": {},
     "output_type": "execute_result"
    }
   ],
   "source": [
    "dir(dt)"
   ]
  },
  {
   "cell_type": "code",
   "execution_count": 19,
   "id": "fd4aa3f3",
   "metadata": {},
   "outputs": [
    {
     "data": {
      "text/plain": [
       "<function datetime.weekday>"
      ]
     },
     "execution_count": 19,
     "metadata": {},
     "output_type": "execute_result"
    }
   ],
   "source": [
    "dt.weekday"
   ]
  },
  {
   "cell_type": "code",
   "execution_count": 20,
   "id": "24192e2d",
   "metadata": {},
   "outputs": [
    {
     "data": {
      "text/plain": [
       "0"
      ]
     },
     "execution_count": 20,
     "metadata": {},
     "output_type": "execute_result"
    }
   ],
   "source": [
    "dt.weekday()"
   ]
  },
  {
   "cell_type": "markdown",
   "id": "1b8bd562",
   "metadata": {},
   "source": [
    "### Convert UNIX Epoch\n",
    "- convert the seconds since the unix epoch timestamp to human-readable format"
   ]
  },
  {
   "cell_type": "code",
   "execution_count": 22,
   "id": "f69b4c50",
   "metadata": {},
   "outputs": [
    {
     "data": {
      "text/plain": [
       "datetime.datetime(1970, 1, 12, 14, 46, 40)"
      ]
     },
     "execution_count": 22,
     "metadata": {},
     "output_type": "execute_result"
    }
   ],
   "source": [
    "datetime.datetime.fromtimestamp(1000000)"
   ]
  },
  {
   "cell_type": "code",
   "execution_count": 24,
   "id": "331ed579",
   "metadata": {},
   "outputs": [],
   "source": [
    "#dir(datetime.time)"
   ]
  },
  {
   "cell_type": "code",
   "execution_count": 28,
   "id": "04b176f9",
   "metadata": {},
   "outputs": [
    {
     "data": {
      "text/plain": [
       "1668676096.1893144"
      ]
     },
     "execution_count": 28,
     "metadata": {},
     "output_type": "execute_result"
    }
   ],
   "source": [
    "seconds = time.time()\n",
    "seconds"
   ]
  },
  {
   "cell_type": "code",
   "execution_count": 29,
   "id": "8f161f5a",
   "metadata": {},
   "outputs": [
    {
     "data": {
      "text/plain": [
       "datetime.datetime(2022, 11, 17, 10, 8, 16, 189314)"
      ]
     },
     "execution_count": 29,
     "metadata": {},
     "output_type": "execute_result"
    }
   ],
   "source": [
    "datetime.datetime.fromtimestamp(seconds)"
   ]
  },
  {
   "cell_type": "markdown",
   "id": "59276116",
   "metadata": {},
   "source": [
    "### Arithmetics with Datetime"
   ]
  },
  {
   "cell_type": "code",
   "execution_count": 42,
   "id": "4aeaa1c7",
   "metadata": {},
   "outputs": [],
   "source": [
    "helloween2019 = datetime.datetime(2019, 10, 31, 0, 0, 0)\n",
    "newyears2020 = datetime.datetime(2020, 1, 1, 0, 0, 0)\n",
    "oct31_2019 = datetime.datetime(2019, 10, 31, 0, 0, 0)"
   ]
  },
  {
   "cell_type": "code",
   "execution_count": 45,
   "id": "5cfb0a31",
   "metadata": {},
   "outputs": [
    {
     "data": {
      "text/plain": [
       "datetime.timedelta(seconds=18000)"
      ]
     },
     "execution_count": 45,
     "metadata": {},
     "output_type": "execute_result"
    }
   ],
   "source": [
    "helloween2019 - oct31_2019"
   ]
  },
  {
   "cell_type": "code",
   "execution_count": 35,
   "id": "0a3420b2",
   "metadata": {},
   "outputs": [
    {
     "data": {
      "text/plain": [
       "True"
      ]
     },
     "execution_count": 35,
     "metadata": {},
     "output_type": "execute_result"
    }
   ],
   "source": [
    "(helloween2019 - oct31_2019).days == 0"
   ]
  },
  {
   "cell_type": "code",
   "execution_count": 36,
   "id": "9ec08311",
   "metadata": {},
   "outputs": [
    {
     "data": {
      "text/plain": [
       "True"
      ]
     },
     "execution_count": 36,
     "metadata": {},
     "output_type": "execute_result"
    }
   ],
   "source": [
    "helloween2019 == oct31_2019"
   ]
  },
  {
   "cell_type": "code",
   "execution_count": 37,
   "id": "d059eced",
   "metadata": {},
   "outputs": [
    {
     "data": {
      "text/plain": [
       "False"
      ]
     },
     "execution_count": 37,
     "metadata": {},
     "output_type": "execute_result"
    }
   ],
   "source": [
    "helloween2019 > newyears2020"
   ]
  },
  {
   "cell_type": "code",
   "execution_count": 38,
   "id": "376e5b1d",
   "metadata": {},
   "outputs": [
    {
     "data": {
      "text/plain": [
       "True"
      ]
     },
     "execution_count": 38,
     "metadata": {},
     "output_type": "execute_result"
    }
   ],
   "source": [
    "helloween2019 < newyears2020"
   ]
  },
  {
   "cell_type": "code",
   "execution_count": 39,
   "id": "431b709f",
   "metadata": {},
   "outputs": [
    {
     "data": {
      "text/plain": [
       "True"
      ]
     },
     "execution_count": 39,
     "metadata": {},
     "output_type": "execute_result"
    }
   ],
   "source": [
    "newyears2020 != oct31_2019"
   ]
  },
  {
   "cell_type": "markdown",
   "id": "34be50f4",
   "metadata": {},
   "source": [
    "### The timedelta Data Type "
   ]
  },
  {
   "cell_type": "markdown",
   "id": "daba0e7d",
   "metadata": {},
   "source": [
    "- represents a duration of time rather than a moment in time"
   ]
  },
  {
   "cell_type": "code",
   "execution_count": 46,
   "id": "c0162944",
   "metadata": {},
   "outputs": [
    {
     "data": {
      "text/plain": [
       "datetime.timedelta(days=11, seconds=36548)"
      ]
     },
     "execution_count": 46,
     "metadata": {},
     "output_type": "execute_result"
    }
   ],
   "source": [
    "delta = datetime.timedelta(days=11, hours=10, minutes=9, seconds=8)\n",
    "delta"
   ]
  },
  {
   "cell_type": "code",
   "execution_count": 47,
   "id": "1b03295c",
   "metadata": {},
   "outputs": [
    {
     "data": {
      "text/plain": [
       "(11, 36548, 0)"
      ]
     },
     "execution_count": 47,
     "metadata": {},
     "output_type": "execute_result"
    }
   ],
   "source": [
    "delta.days, delta.seconds, delta.microseconds"
   ]
  },
  {
   "cell_type": "code",
   "execution_count": 48,
   "id": "20e1c0cf",
   "metadata": {},
   "outputs": [
    {
     "data": {
      "text/plain": [
       "datetime.timedelta"
      ]
     },
     "execution_count": 48,
     "metadata": {},
     "output_type": "execute_result"
    }
   ],
   "source": [
    "type(delta)"
   ]
  },
  {
   "cell_type": "code",
   "execution_count": 50,
   "id": "b545e2d5",
   "metadata": {},
   "outputs": [],
   "source": [
    "#dir(delta)"
   ]
  },
  {
   "cell_type": "code",
   "execution_count": 51,
   "id": "e7cf485e",
   "metadata": {},
   "outputs": [
    {
     "data": {
      "text/plain": [
       "datetime.timedelta(seconds=36548)"
      ]
     },
     "execution_count": 51,
     "metadata": {},
     "output_type": "execute_result"
    }
   ],
   "source": [
    "datetime.timedelta(hours=10, minutes=9, seconds=8)"
   ]
  },
  {
   "cell_type": "code",
   "execution_count": 52,
   "id": "572cdfea",
   "metadata": {},
   "outputs": [
    {
     "data": {
      "text/plain": [
       "datetime.timedelta(days=11, seconds=36548)"
      ]
     },
     "execution_count": 52,
     "metadata": {},
     "output_type": "execute_result"
    }
   ],
   "source": [
    "delta"
   ]
  },
  {
   "cell_type": "code",
   "execution_count": 55,
   "id": "0268f2a6",
   "metadata": {},
   "outputs": [
    {
     "data": {
      "text/plain": [
       "36548"
      ]
     },
     "execution_count": 55,
     "metadata": {},
     "output_type": "execute_result"
    }
   ],
   "source": [
    "delta.seconds"
   ]
  },
  {
   "cell_type": "code",
   "execution_count": 58,
   "id": "354b71a8",
   "metadata": {},
   "outputs": [
    {
     "data": {
      "text/plain": [
       "986948.0"
      ]
     },
     "execution_count": 58,
     "metadata": {},
     "output_type": "execute_result"
    }
   ],
   "source": [
    "delta.total_seconds()"
   ]
  },
  {
   "cell_type": "code",
   "execution_count": 56,
   "id": "b08922a3",
   "metadata": {},
   "outputs": [],
   "source": [
    "#dir(delta)"
   ]
  },
  {
   "cell_type": "code",
   "execution_count": 59,
   "id": "a9738122",
   "metadata": {},
   "outputs": [
    {
     "data": {
      "text/plain": [
       "'11 days, 10:09:08'"
      ]
     },
     "execution_count": 59,
     "metadata": {},
     "output_type": "execute_result"
    }
   ],
   "source": [
    "str(delta)"
   ]
  },
  {
   "cell_type": "markdown",
   "id": "51f467b3",
   "metadata": {},
   "source": [
    "### Arithmetics with timedelta"
   ]
  },
  {
   "cell_type": "code",
   "execution_count": 60,
   "id": "fa6578e1",
   "metadata": {},
   "outputs": [
    {
     "data": {
      "text/plain": [
       "datetime.datetime(2022, 11, 17, 10, 59, 33, 32983)"
      ]
     },
     "execution_count": 60,
     "metadata": {},
     "output_type": "execute_result"
    }
   ],
   "source": [
    "dt = datetime.datetime.now()\n",
    "thousandDays = datetime.timedelta(days=1000)\n",
    "dt"
   ]
  },
  {
   "cell_type": "code",
   "execution_count": 61,
   "id": "b76d5b27",
   "metadata": {},
   "outputs": [
    {
     "data": {
      "text/plain": [
       "datetime.datetime(2025, 8, 13, 10, 59, 33, 32983)"
      ]
     },
     "execution_count": 61,
     "metadata": {},
     "output_type": "execute_result"
    }
   ],
   "source": [
    "dt + thousandDays"
   ]
  },
  {
   "cell_type": "code",
   "execution_count": 62,
   "id": "eff8954d",
   "metadata": {},
   "outputs": [
    {
     "data": {
      "text/plain": [
       "datetime.datetime(2020, 2, 21, 10, 59, 33, 32983)"
      ]
     },
     "execution_count": 62,
     "metadata": {},
     "output_type": "execute_result"
    }
   ],
   "source": [
    "dt - thousandDays"
   ]
  },
  {
   "cell_type": "code",
   "execution_count": 65,
   "id": "456cebfd",
   "metadata": {},
   "outputs": [],
   "source": [
    "minusthousandDays = datetime.timedelta(days=-1000)"
   ]
  },
  {
   "cell_type": "code",
   "execution_count": 66,
   "id": "55f023ed",
   "metadata": {},
   "outputs": [
    {
     "data": {
      "text/plain": [
       "datetime.datetime(2020, 2, 21, 10, 59, 33, 32983)"
      ]
     },
     "execution_count": 66,
     "metadata": {},
     "output_type": "execute_result"
    }
   ],
   "source": [
    "dt + minusthousandDays"
   ]
  },
  {
   "cell_type": "code",
   "execution_count": 70,
   "id": "ddf93a2d",
   "metadata": {},
   "outputs": [
    {
     "data": {
      "text/plain": [
       "datetime.datetime(2019, 10, 21, 16, 29, 1)"
      ]
     },
     "execution_count": 70,
     "metadata": {},
     "output_type": "execute_result"
    }
   ],
   "source": [
    "oct21st = datetime.datetime(2019, 10, 21, 16, 29, 1)\n",
    "oct21st"
   ]
  },
  {
   "cell_type": "code",
   "execution_count": 71,
   "id": "85a9947a",
   "metadata": {},
   "outputs": [
    {
     "data": {
      "text/plain": [
       "'2019/10/21 16:29:01'"
      ]
     },
     "execution_count": 71,
     "metadata": {},
     "output_type": "execute_result"
    }
   ],
   "source": [
    "oct21st.strftime('%Y/%m/%d %H:%M:%S')"
   ]
  },
  {
   "cell_type": "code",
   "execution_count": null,
   "id": "76689959",
   "metadata": {
    "collapsed": true
   },
   "outputs": [],
   "source": []
  }
 ],
 "metadata": {
  "kernelspec": {
   "display_name": "Python 3 (ipykernel)",
   "language": "python",
   "name": "python3"
  },
  "language_info": {
   "codemirror_mode": {
    "name": "ipython",
    "version": 3
   },
   "file_extension": ".py",
   "mimetype": "text/x-python",
   "name": "python",
   "nbconvert_exporter": "python",
   "pygments_lexer": "ipython3",
   "version": "3.8.10"
  }
 },
 "nbformat": 4,
 "nbformat_minor": 5
}
