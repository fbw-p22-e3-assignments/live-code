{
 "cells": [
  {
   "attachments": {},
   "cell_type": "markdown",
   "metadata": {},
   "source": [
    "# OOP in Practice\n",
    "\n",
    "## Abstract class\n",
    "Sometimes, it can be desirable to define a class that only serves as a base class and are not meant to be instantiated.\n",
    "- we call these classes abstract classes"
   ]
  },
  {
   "cell_type": "code",
   "execution_count": 1,
   "metadata": {},
   "outputs": [
    {
     "name": "stdout",
     "output_type": "stream",
     "text": [
      "None\n"
     ]
    }
   ],
   "source": [
    "class Animal:\n",
    "    def reproduce(self):\n",
    "        pass\n",
    "\n",
    "class Whale(Animal):\n",
    "    def reproduce(self):\n",
    "        return Whale()\n",
    "\n",
    "willy = Animal()\n",
    "print(willy.reproduce())"
   ]
  },
  {
   "cell_type": "code",
   "execution_count": 2,
   "metadata": {},
   "outputs": [
    {
     "ename": "TypeError",
     "evalue": "Can't instantiate abstract class Animal with abstract method reproduce",
     "output_type": "error",
     "traceback": [
      "\u001b[0;31m---------------------------------------------------------------------------\u001b[0m",
      "\u001b[0;31mTypeError\u001b[0m                                 Traceback (most recent call last)",
      "Cell \u001b[0;32mIn [2], line 12\u001b[0m\n\u001b[1;32m      9\u001b[0m     \u001b[39mdef\u001b[39;00m \u001b[39mreproduce\u001b[39m(\u001b[39mself\u001b[39m):\n\u001b[1;32m     10\u001b[0m         \u001b[39mreturn\u001b[39;00m Whale()\n\u001b[0;32m---> 12\u001b[0m willy \u001b[39m=\u001b[39m Animal()\n\u001b[1;32m     13\u001b[0m \u001b[39mprint\u001b[39m(willy\u001b[39m.\u001b[39mreproduce())\n",
      "\u001b[0;31mTypeError\u001b[0m: Can't instantiate abstract class Animal with abstract method reproduce"
     ]
    }
   ],
   "source": [
    "from abc import ABC, abstractmethod\n",
    "\n",
    "class Animal(ABC):\n",
    "    @abstractmethod\n",
    "    def reproduce(self):\n",
    "        pass\n",
    "\n",
    "class Whale(Animal):\n",
    "    def reproduce(self):\n",
    "        return Whale()\n",
    "\n",
    "willy = Animal()\n",
    "print(willy.reproduce())"
   ]
  },
  {
   "cell_type": "code",
   "execution_count": 4,
   "metadata": {},
   "outputs": [
    {
     "ename": "TypeError",
     "evalue": "Can't instantiate abstract class Whale with abstract method reproduce",
     "output_type": "error",
     "traceback": [
      "\u001b[0;31m---------------------------------------------------------------------------\u001b[0m",
      "\u001b[0;31mTypeError\u001b[0m                                 Traceback (most recent call last)",
      "Cell \u001b[0;32mIn [4], line 11\u001b[0m\n\u001b[1;32m      8\u001b[0m \u001b[39mclass\u001b[39;00m \u001b[39mWhale\u001b[39;00m(Animal):\n\u001b[1;32m      9\u001b[0m     \u001b[39mpass\u001b[39;00m\n\u001b[0;32m---> 11\u001b[0m willy \u001b[39m=\u001b[39m Whale()\n\u001b[1;32m     12\u001b[0m \u001b[39mprint\u001b[39m(willy\u001b[39m.\u001b[39mreproduce())\n",
      "\u001b[0;31mTypeError\u001b[0m: Can't instantiate abstract class Whale with abstract method reproduce"
     ]
    }
   ],
   "source": [
    "from abc import ABC, abstractmethod\n",
    "\n",
    "class Animal(ABC):\n",
    "    @abstractmethod\n",
    "    def reproduce(self):\n",
    "        pass\n",
    "\n",
    "class Whale(Animal):\n",
    "    pass\n",
    "\n",
    "willy = Whale()\n",
    "print(willy.reproduce())"
   ]
  },
  {
   "attachments": {},
   "cell_type": "markdown",
   "metadata": {},
   "source": [
    "Abstract methods must be overwritten by methods from a subclass:t be overwritten by methods from a subclass:"
   ]
  },
  {
   "cell_type": "code",
   "execution_count": 16,
   "metadata": {},
   "outputs": [
    {
     "ename": "TypeError",
     "evalue": "Can't instantiate abstract class Dog with abstract method reproduce",
     "output_type": "error",
     "traceback": [
      "\u001b[0;31m---------------------------------------------------------------------------\u001b[0m",
      "\u001b[0;31mTypeError\u001b[0m                                 Traceback (most recent call last)",
      "Cell \u001b[0;32mIn [16], line 25\u001b[0m\n\u001b[1;32m     22\u001b[0m     \u001b[39mdef\u001b[39;00m \u001b[39mwalking\u001b[39m(\u001b[39mself\u001b[39m):\n\u001b[1;32m     23\u001b[0m          \u001b[39mreturn\u001b[39;00m \u001b[39msuper\u001b[39m()\u001b[39m.\u001b[39mwalking()\n\u001b[0;32m---> 25\u001b[0m willy \u001b[39m=\u001b[39m Dog()\n\u001b[1;32m     26\u001b[0m \u001b[39mprint\u001b[39m(willy\u001b[39m.\u001b[39mbark())\n\u001b[1;32m     27\u001b[0m willy\u001b[39m.\u001b[39mwalking()\n",
      "\u001b[0;31mTypeError\u001b[0m: Can't instantiate abstract class Dog with abstract method reproduce"
     ]
    }
   ],
   "source": [
    "class Animal(ABC):\n",
    "    @abstractmethod\n",
    "    def reproduce(self):\n",
    "        pass\n",
    "        \n",
    "    #@abstractmethod\n",
    "    def walking(self):\n",
    "        return 'walks'\n",
    "\n",
    "class Whale(Animal):\n",
    "    def reproduce(self):\n",
    "        return Whale()\n",
    "\n",
    "class Dog(Animal):\n",
    "    def bark(self):\n",
    "        print('barking')\n",
    "        return 'Bla'\n",
    "\n",
    "    # def reproduce(self):\n",
    "    #     return Dog()\n",
    "\n",
    "    def walking(self):\n",
    "         return super().walking()\n",
    "\n",
    "willy = Dog()\n",
    "print(willy.bark())\n",
    "willy.walking()"
   ]
  },
  {
   "attachments": {},
   "cell_type": "markdown",
   "metadata": {},
   "source": [
    "Singleton Pattern\n",
    "\n",
    "- A singleton pattern is a class where only one instance is ever created\n",
    "- can be used instead of global variables\n",
    "- This means that they act as global scope manager\n",
    "\n",
    "Example:\n",
    "- unique school\n",
    "- has teachers and students\n",
    "\n",
    "```\n",
    "school1 = School(1)\n",
    "school2 = School(2000)\n",
    "print(id(school1) == id(school2))  //TRUE"
   ]
  },
  {
   "cell_type": "code",
   "execution_count": null,
   "metadata": {},
   "outputs": [],
   "source": []
  },
  {
   "cell_type": "code",
   "execution_count": 30,
   "metadata": {},
   "outputs": [
    {
     "name": "stdout",
     "output_type": "stream",
     "text": [
      "1 I AM NEW!!\n"
     ]
    },
    {
     "ename": "AttributeError",
     "evalue": "'NoneType' object has no attribute 'population'",
     "output_type": "error",
     "traceback": [
      "\u001b[0;31m---------------------------------------------------------------------------\u001b[0m",
      "\u001b[0;31mAttributeError\u001b[0m                            Traceback (most recent call last)",
      "Cell \u001b[0;32mIn [30], line 14\u001b[0m\n\u001b[1;32m      8\u001b[0m         \u001b[39mprint\u001b[39m(population, \u001b[39m'\u001b[39m\u001b[39mI AM NEW!!\u001b[39m\u001b[39m'\u001b[39m)\n\u001b[1;32m     12\u001b[0m school1 \u001b[39m=\u001b[39m School(\u001b[39m1\u001b[39m)\n\u001b[0;32m---> 14\u001b[0m school1\u001b[39m.\u001b[39;49mpopulation\n",
      "\u001b[0;31mAttributeError\u001b[0m: 'NoneType' object has no attribute 'population'"
     ]
    }
   ],
   "source": [
    "class School:\n",
    "\n",
    "    def __init__(self, population):\n",
    "        self.population = population\n",
    "        print(self.population, 'in __init__')\n",
    "\n",
    "    def __new__(cls, population):\n",
    "        print(population, 'I AM NEW!!')\n",
    "\n",
    "\n",
    "\n",
    "school1 = School(1)\n",
    "\n",
    "school1.population"
   ]
  },
  {
   "cell_type": "code",
   "execution_count": 31,
   "metadata": {},
   "outputs": [
    {
     "name": "stdout",
     "output_type": "stream",
     "text": [
      "True\n",
      "True\n"
     ]
    }
   ],
   "source": [
    "instance = None\n",
    "\n",
    "print(not None) # because None is falsy\n",
    "print(None == None)"
   ]
  },
  {
   "cell_type": "code",
   "execution_count": 39,
   "metadata": {},
   "outputs": [
    {
     "name": "stdout",
     "output_type": "stream",
     "text": [
      "INSTANCE School(1)\n",
      "INSTANCE School(1)\n"
     ]
    }
   ],
   "source": [
    "class School:\n",
    "    class __School:\n",
    "        def __init__(self, population) -> None:\n",
    "            self.population = population\n",
    "\n",
    "        def __str__(self):\n",
    "            return f\"School({self.population})\"\n",
    "\n",
    "        def add_popu(self, population):\n",
    "            self.population += population\n",
    "\n",
    "    __instance = None\n",
    "\n",
    "    def __new__(cls, population):\n",
    "        # if not cls.__instance:\n",
    "    \n",
    "        if cls.__instance == None:\n",
    "            cls.__instance = cls.__School(population)\n",
    "        print('INSTANCE',cls.__instance)\n",
    "        return cls.__instance\n",
    "\n",
    "school1 = School(1)\n",
    "# print(id(school1))\n",
    "school2 = School(2000)\n",
    "# print(id(school2))\n",
    "\n",
    "# print(school1)\n",
    "# print(school2)\n",
    "\n",
    "# school1.add_popu(100)\n",
    "# school2.population"
   ]
  },
  {
   "attachments": {},
   "cell_type": "markdown",
   "metadata": {},
   "source": [
    "## @Singleton Decorator\n",
    "\n",
    "## Recap Decorator\n",
    "- a decorator takes a *func* as an argument; *func* is a free variable, which are used in closures"
   ]
  },
  {
   "cell_type": "code",
   "execution_count": 46,
   "metadata": {},
   "outputs": [
    {
     "data": {
      "text/plain": [
       "16.0"
      ]
     },
     "execution_count": 46,
     "metadata": {},
     "output_type": "execute_result"
    }
   ],
   "source": [
    "import math\n",
    "def power_of_2(func):\n",
    "    def inner(*args, **kwargs):\n",
    "        result = func(*args, **kwargs)\n",
    "        return math.pow(result, 2)\n",
    "    return inner\n",
    "def add(a,b):\n",
    "    return a + b\n",
    "add = power_of_2(power_of_2(add))"
   ]
  },
  {
   "attachments": {},
   "cell_type": "markdown",
   "metadata": {},
   "source": [
    "## Version 2 of Singleton pattern"
   ]
  },
  {
   "cell_type": "code",
   "execution_count": 56,
   "metadata": {},
   "outputs": [
    {
     "name": "stdout",
     "output_type": "stream",
     "text": [
      "{<class '__main__.FirstClass'>: <__main__.FirstClass object at 0x7f2c383c6980>}\n",
      "{<class '__main__.SecondClass'>: <__main__.SecondClass object at 0x7f2c383c6260>}\n"
     ]
    }
   ],
   "source": [
    "def singleton(class_):\n",
    "    instances = {}\n",
    "    def inner(*args, **kwargs):\n",
    "        if class_ not in instances:\n",
    "            instances[class_] = class_(*args, **kwargs)\n",
    "            print(instances)\n",
    "        return instances[class_]\n",
    "    return inner\n",
    "\n",
    "@singleton\n",
    "class FirstClass:\n",
    "    def __init__(self, m):\n",
    "        self.m = m\n",
    "\n",
    "    def get_m(self):\n",
    "        return self.m\n",
    "\n",
    "# FirstClass = singleton(FirstClass)\n",
    "\n",
    "# print(FirstClass)\n",
    "\n",
    "a = FirstClass(1)   # class_(*args, **kwargs)\n",
    "b = FirstClass(23)\n",
    "\n",
    "# print(a)\n",
    "# print(id(a), id(b))\n",
    "\n",
    "@singleton\n",
    "class SecondClass:\n",
    "    def __init__(self):\n",
    "        self.val = 0\n",
    "\n",
    "d = SecondClass()"
   ]
  },
  {
   "cell_type": "code",
   "execution_count": 49,
   "metadata": {},
   "outputs": [
    {
     "name": "stdout",
     "output_type": "stream",
     "text": [
      "<__main__.FirstClass object at 0x7f2c383b8910>\n"
     ]
    },
    {
     "data": {
      "text/plain": [
       "<__main__.FirstClass at 0x7f2c383b8910>"
      ]
     },
     "execution_count": 49,
     "metadata": {},
     "output_type": "execute_result"
    }
   ],
   "source": [
    "def Inner(class_):\n",
    "    print(class_(1))\n",
    "    return class_(1) #returns an INSTANCE if class_\n",
    "\n",
    "class FirstClass:\n",
    "    def __init__(self, m):\n",
    "        self.m = m\n",
    "\n",
    "    def get_m(self):\n",
    "        return self.m\n",
    "\n",
    "Inner(FirstClass)"
   ]
  },
  {
   "attachments": {},
   "cell_type": "markdown",
   "metadata": {},
   "source": [
    "## Class Decorators\n",
    "\n",
    "- an instance of an class can behave like a function by call the __ call__ method\n",
    "- () invocation operator\n",
    "__ call__:"
   ]
  },
  {
   "cell_type": "code",
   "execution_count": 63,
   "metadata": {},
   "outputs": [
    {
     "data": {
      "text/plain": [
       "'Hello World'"
      ]
     },
     "execution_count": 63,
     "metadata": {},
     "output_type": "execute_result"
    }
   ],
   "source": [
    "class Mimic:\n",
    "    def __call__(self):\n",
    "        return 'Hello World'\n",
    "\n",
    "    def greetings(self):\n",
    "        return 'Good morning'\n",
    "\n",
    "mimic_instance = Mimic() \n",
    "mimic_instance.greetings()\n",
    "mimic_instance()"
   ]
  },
  {
   "cell_type": "code",
   "execution_count": null,
   "metadata": {},
   "outputs": [],
   "source": [
    "def power_of_2(func):\n",
    "    def inner(*args, **kwargs):\n",
    "        result = func(*args, **kwargs)\n",
    "        return result ** 2\n",
    "    return inner"
   ]
  },
  {
   "cell_type": "code",
   "execution_count": 66,
   "metadata": {},
   "outputs": [
    {
     "data": {
      "text/plain": [
       "16"
      ]
     },
     "execution_count": 66,
     "metadata": {},
     "output_type": "execute_result"
    }
   ],
   "source": [
    "class PowerOf2:\n",
    "    def __init__(self, func):\n",
    "        self._func = func\n",
    "\n",
    "    def __call__(self, *args, **kwargs):\n",
    "        return self._func(*args, **kwargs) ** 2\n",
    "\n",
    "@PowerOf2\n",
    "@PowerOf2\n",
    "def add(a,b):\n",
    "    return a + b\n",
    "\n",
    "add(1,1)"
   ]
  },
  {
   "attachments": {},
   "cell_type": "markdown",
   "metadata": {},
   "source": [
    "## Version 3 of the Singleton Pattern"
   ]
  },
  {
   "cell_type": "code",
   "execution_count": null,
   "metadata": {},
   "outputs": [],
   "source": [
    "#Version 2\n",
    "def singleton(class_):\n",
    "    instances = {}\n",
    "    def inner(*args, **kwargs):\n",
    "        if class_ not in instances:\n",
    "            instances[class_] = class_(*args, **kwargs)\n",
    "            print(instances)\n",
    "        return instances[class_]\n",
    "    return inner"
   ]
  },
  {
   "cell_type": "code",
   "execution_count": 70,
   "metadata": {},
   "outputs": [
    {
     "name": "stdout",
     "output_type": "stream",
     "text": [
      "{<class '__main__.FirstClass'>: <__main__.FirstClass object at 0x7f2c39aea110>, <class '__main__.SecondClass'>: <__main__.SecondClass object at 0x7f2c383c8790>}\n"
     ]
    }
   ],
   "source": [
    "class Singleton:\n",
    "    _instances = {}\n",
    "\n",
    "    def __init__(self, class_):\n",
    "        self._class = class_      # Singelton(CLASSNAME)\n",
    "\n",
    "    def __call__(self, *args, **kwargs): # INSTANCE ()\n",
    "        if self._class not in self._instances:\n",
    "            self._instances[self._class] = self._class(*args, **kwargs)\n",
    "        return self._instances[self._class]\n",
    "\n",
    "\n",
    "# @Singleton\n",
    "class FirstClass:\n",
    "    def __init__(self, m) -> None:\n",
    "        self.m = m\n",
    "\n",
    "FirstClass = Singleton(FirstClass) # here the __init__ of the Singleton class is triggered\n",
    "\n",
    "a = FirstClass(1) # here the __call__ is triggered \n",
    "#and only if no instance of FirstClass has been created a new FirstClass instance is created and returned\n",
    "# the creation of the FirstClass Instance has triggered __init_ of FirstClass\n",
    "b = FirstClass(23)\n",
    "\n",
    "@Singleton\n",
    "class SecondClass:\n",
    "    def __init__(self) -> None:\n",
    "        self.m = 1\n",
    "\n",
    "c = SecondClass()\n",
    "# print(id(a), id(b))\n",
    "print(Singleton._instances)"
   ]
  },
  {
   "attachments": {},
   "cell_type": "markdown",
   "metadata": {},
   "source": [
    "## Factory Pattern\n",
    "\n",
    "\n",
    "- a factory is a function that returns instances of different classes\n",
    "- Factory Method allows to create an instance of a class"
   ]
  },
  {
   "cell_type": "code",
   "execution_count": 71,
   "metadata": {},
   "outputs": [
    {
     "name": "stdout",
     "output_type": "stream",
     "text": [
      "*********\n",
      "car\n",
      "*********\n",
      "voiture\n",
      "car\n",
      "coche\n",
      "*********\n",
      "bicycle\n",
      "*********\n",
      "bicycle\n",
      "bicycle\n",
      "bicycle\n",
      "*********\n",
      "cycle\n",
      "*********\n",
      "cyclette\n",
      "cycle\n",
      "ciclo\n"
     ]
    }
   ],
   "source": [
    "class FrenchLocalizer:\n",
    "\n",
    "    def __init__(self):\n",
    "        self.translation = {\"car\": \"voiture\", \"bike\": \"bicyclette\",\n",
    "                             \"cycle\":\"cyclette\"}\n",
    "    def localize(self, msg):\n",
    "        return self.translation.get(msg, msg)\n",
    "\n",
    "class SpanishLocalizer:\n",
    "\n",
    "    def __init__(self):\n",
    "        self.translation = {\"car\": \"coche\", \"bike\": \"bicicleta\",\n",
    "                             \"cycle\":\"ciclo\"}\n",
    "    def localize(self, msg):\n",
    "        return self.translation.get(msg, msg)\n",
    "\n",
    "class EnglishLocalizer:\n",
    "\n",
    "    def localize(self, msg):\n",
    "        return msg\n",
    "\n",
    "f = FrenchLocalizer()\n",
    "e = EnglishLocalizer()\n",
    "s = SpanishLocalizer()\n",
    "\n",
    "words = ['car', 'bicycle', 'cycle']\n",
    "\n",
    "for word in words:\n",
    "    print('*********')\n",
    "    print(word)\n",
    "    print('*********')\n",
    "    print(f.localize(word))\n",
    "    print(e.localize(word))\n",
    "    print(s.localize(word))"
   ]
  },
  {
   "cell_type": "code",
   "execution_count": 73,
   "metadata": {},
   "outputs": [
    {
     "name": "stdout",
     "output_type": "stream",
     "text": [
      "*********\n",
      "car\n",
      "*********\n",
      "voiture\n",
      "car\n",
      "coche\n",
      "*********\n",
      "bicycle\n",
      "*********\n",
      "bicycle\n",
      "bicycle\n",
      "bicycle\n",
      "*********\n",
      "cycle\n",
      "*********\n",
      "cyclette\n",
      "cycle\n",
      "ciclo\n"
     ]
    }
   ],
   "source": [
    "def factory(language=\"English\"):\n",
    "    localizer = {\n",
    "        \"French\": FrenchLocalizer,\n",
    "        \"English\": EnglishLocalizer,\n",
    "        \"Spanish\": SpanishLocalizer\n",
    "        \n",
    "    }\n",
    "    return localizer[language]()\n",
    "\n",
    "f = factory('French')\n",
    "e = factory()\n",
    "s = factory('Spanish')\n",
    "\n",
    "for word in words:\n",
    "    print('*********')\n",
    "    print(word)\n",
    "    print('*********')\n",
    "    print(f.localize(word))\n",
    "    print(e.localize(word))\n",
    "    print(s.localize(word))"
   ]
  }
 ],
 "metadata": {
  "kernelspec": {
   "display_name": "Python 3",
   "language": "python",
   "name": "python3"
  },
  "language_info": {
   "codemirror_mode": {
    "name": "ipython",
    "version": 3
   },
   "file_extension": ".py",
   "mimetype": "text/x-python",
   "name": "python",
   "nbconvert_exporter": "python",
   "pygments_lexer": "ipython3",
   "version": "3.10.9"
  },
  "orig_nbformat": 4,
  "vscode": {
   "interpreter": {
    "hash": "97cc609b13305c559618ec78a438abc56230b9381f827f22d070313b9a1f3777"
   }
  }
 },
 "nbformat": 4,
 "nbformat_minor": 2
}
