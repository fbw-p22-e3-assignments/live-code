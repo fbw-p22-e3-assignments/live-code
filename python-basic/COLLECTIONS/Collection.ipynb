{
 "cells": [
  {
   "cell_type": "markdown",
   "id": "a42ee172",
   "metadata": {},
   "source": [
    "###### An Array of Sequences\n",
    "\n",
    "## Overview of Built-In Sequences \n",
    "\n",
    "Another way of grouping sequence types (instead of mutability):\n",
    "\n",
    "*Container sequnces*\n",
    "    Can hold items of different types, including nested containers, For example: *list, typles, collections.deque*\n",
    "    \n",
    "*Flat sequences*\n",
    "    Hold items of one simple type. For example: *str* and *array.array*"
   ]
  },
  {
   "cell_type": "code",
   "execution_count": 1,
   "id": "af4f1493",
   "metadata": {},
   "outputs": [
    {
     "data": {
      "text/plain": [
       "(9.46, 'cat', [2.08, 4.29])"
      ]
     },
     "execution_count": 1,
     "metadata": {},
     "output_type": "execute_result"
    }
   ],
   "source": [
    "(9.46, 'cat', [2.08, 4.29]) # The tuple has an array of references to its items\n",
    "# each item is a seperate Python object, possibly holding references to other Python objects"
   ]
  },
  {
   "cell_type": "code",
   "execution_count": 2,
   "id": "1ed95bda",
   "metadata": {},
   "outputs": [
    {
     "data": {
      "text/plain": [
       "array('d', [1.0, 2.08, 4.29, 1.0, 1.0])"
      ]
     },
     "execution_count": 2,
     "metadata": {},
     "output_type": "execute_result"
    }
   ],
   "source": [
    "import array\n",
    "arr = array.array('d', [9.46, 2.08, 4.29, 1]) \n",
    "#array of type float (d stands for double which corrensponds to python floats)\n",
    "arr[0] =1\n",
    "\n",
    "arr.append(1)\n",
    "arr\n"
   ]
  },
  {
   "cell_type": "markdown",
   "id": "f0a5653d",
   "metadata": {},
   "source": [
    "Draw in Excalidraw pg. 23"
   ]
  },
  {
   "cell_type": "markdown",
   "id": "17b22ae1",
   "metadata": {},
   "source": [
    "- A *container sequence* holds references  to the objects it holds, which may be of any type.\n",
    "- A *flat sequence* stores the value of its contents iin its own memory space, not as **distinct Python object**."
   ]
  },
  {
   "cell_type": "markdown",
   "id": "08ae5920",
   "metadata": {},
   "source": [
    "Every Python object in memory has a header with metadata.\n",
    "Thus, flat sequences are more compact, but they limited to one simple type."
   ]
  },
  {
   "cell_type": "markdown",
   "id": "4f8c27e5",
   "metadata": {},
   "source": [
    "## List Comprehension\n",
    "\n",
    "A quick way to build a sequence is using a list comprehension (*listcomps*)."
   ]
  },
  {
   "cell_type": "markdown",
   "id": "02a905af",
   "metadata": {},
   "source": [
    "Compare those two code snippets:"
   ]
  },
  {
   "cell_type": "code",
   "execution_count": 3,
   "id": "b2fdb3f7",
   "metadata": {},
   "outputs": [
    {
     "data": {
      "text/plain": [
       "[5, 5, 5, 3]"
      ]
     },
     "execution_count": 3,
     "metadata": {},
     "output_type": "execute_result"
    }
   ],
   "source": [
    "strings = ['Hello', 'world', 'again', 'bla']\n",
    "\n",
    "length = []\n",
    "\n",
    "for word in strings:\n",
    "    length.append(len(word))\n",
    "length"
   ]
  },
  {
   "cell_type": "code",
   "execution_count": 4,
   "id": "6a0f7891",
   "metadata": {},
   "outputs": [
    {
     "data": {
      "text/plain": [
       "[5, 5, 5, 3]"
      ]
     },
     "execution_count": 4,
     "metadata": {},
     "output_type": "execute_result"
    }
   ],
   "source": [
    "length = [len(word) for word in strings]\n",
    "length"
   ]
  },
  {
   "cell_type": "markdown",
   "id": "317d7241",
   "metadata": {},
   "source": [
    "A for loop can be used to do many different things: scanning, count or any number of other tasks.\n",
    "In contrast, a listcomp is more explicit. Its goal is **always** to build a new list."
   ]
  },
  {
   "cell_type": "markdown",
   "id": "075ad476",
   "metadata": {},
   "source": [
    "## Mapping and Filtering with Listcomps "
   ]
  },
  {
   "cell_type": "code",
   "execution_count": 5,
   "id": "5d27ead9",
   "metadata": {},
   "outputs": [
    {
     "data": {
      "text/plain": [
       "['HELLO', 'WORLD', 'AGAIN', 'BLA']"
      ]
     },
     "execution_count": 5,
     "metadata": {},
     "output_type": "execute_result"
    }
   ],
   "source": [
    "[word.upper() for word in strings] # Mapping"
   ]
  },
  {
   "cell_type": "markdown",
   "id": "116aef27",
   "metadata": {},
   "source": [
    "Lets look at nested lists:"
   ]
  },
  {
   "cell_type": "code",
   "execution_count": 6,
   "id": "0588ffcd",
   "metadata": {},
   "outputs": [],
   "source": [
    "list_numbers = [[5, 6, 3], [8, 3, 1], [9, 10, 4], [8, 4, 2]]"
   ]
  },
  {
   "cell_type": "markdown",
   "id": "a1e94a09",
   "metadata": {},
   "source": [
    "Lets calculate the sum of each list by mapping each element to its length: \n",
    "```list_numbers -->  [14, 12, 23, 14]```"
   ]
  },
  {
   "cell_type": "code",
   "execution_count": 7,
   "id": "2400c926",
   "metadata": {},
   "outputs": [
    {
     "data": {
      "text/plain": [
       "[14, 12, 23, 14]"
      ]
     },
     "execution_count": 7,
     "metadata": {},
     "output_type": "execute_result"
    }
   ],
   "source": [
    "[sum(num) for num in list_numbers]"
   ]
  },
  {
   "cell_type": "code",
   "execution_count": 8,
   "id": "6f56b6a0",
   "metadata": {},
   "outputs": [
    {
     "data": {
      "text/plain": [
       "[5, 5, 5]"
      ]
     },
     "execution_count": 8,
     "metadata": {},
     "output_type": "execute_result"
    }
   ],
   "source": [
    "length_gt_3 = [len(word) for word in strings if len(word) > 3] # filtering\n",
    "length_gt_3"
   ]
  },
  {
   "cell_type": "markdown",
   "id": "5acea939",
   "metadata": {},
   "source": [
    "## Cartasian Products\n",
    "\n",
    "![cartasian_prod](cartasian_prod.png)"
   ]
  },
  {
   "cell_type": "code",
   "execution_count": 9,
   "id": "112ddbe1",
   "metadata": {},
   "outputs": [
    {
     "data": {
      "text/plain": [
       "[('x', 1),\n",
       " ('x', 2),\n",
       " ('x', 3),\n",
       " ('y', 1),\n",
       " ('y', 2),\n",
       " ('y', 3),\n",
       " ('z', 1),\n",
       " ('z', 2),\n",
       " ('z', 3)]"
      ]
     },
     "execution_count": 9,
     "metadata": {},
     "output_type": "execute_result"
    }
   ],
   "source": [
    "A = ['x', 'y', 'z']\n",
    "B = [1, 2, 3]\n",
    "\n",
    "def cartasian_prod(A,B):\n",
    "    result= []\n",
    "    for item1 in A:\n",
    "        for item2 in B:\n",
    "            result.append((item1, item2))\n",
    "    return result\n",
    "\n",
    "cartasian_prod(A, B)\n",
    "            "
   ]
  },
  {
   "cell_type": "markdown",
   "id": "af8d409f",
   "metadata": {},
   "source": [
    "Now let's do this with listcomps"
   ]
  },
  {
   "cell_type": "code",
   "execution_count": 10,
   "id": "c015c7a1",
   "metadata": {},
   "outputs": [
    {
     "data": {
      "text/plain": [
       "[('x', 1),\n",
       " ('x', 2),\n",
       " ('x', 3),\n",
       " ('y', 1),\n",
       " ('y', 2),\n",
       " ('y', 3),\n",
       " ('z', 1),\n",
       " ('z', 2),\n",
       " ('z', 3)]"
      ]
     },
     "execution_count": 10,
     "metadata": {},
     "output_type": "execute_result"
    }
   ],
   "source": [
    "def cartasian_prod(A, B):\n",
    "    return[(item1, item2) for item1 in A\n",
    "                           for item2 in B] \n",
    "# This generates a list of tuples arranged by letter,then numbers\n",
    "    \n",
    "cartasian_prod(A, B)"
   ]
  },
  {
   "cell_type": "code",
   "execution_count": 11,
   "id": "80574557",
   "metadata": {},
   "outputs": [
    {
     "data": {
      "text/plain": [
       "[('x', 1),\n",
       " ('y', 1),\n",
       " ('z', 1),\n",
       " ('x', 2),\n",
       " ('y', 2),\n",
       " ('z', 2),\n",
       " ('x', 3),\n",
       " ('y', 3),\n",
       " ('z', 3)]"
      ]
     },
     "execution_count": 11,
     "metadata": {},
     "output_type": "execute_result"
    }
   ],
   "source": [
    "def cartasian_prod(A, B):\n",
    "    return[(item1, item2) for item2 in B\n",
    "                           for item1 in A] \n",
    "# To get the items arranged by numbers, then letters, just rearrange the for clauses\n",
    "    \n",
    "cartasian_prod(A, B)"
   ]
  },
  {
   "cell_type": "markdown",
   "id": "c8cfdfa9",
   "metadata": {},
   "source": [
    "### Building List of Lists\n",
    "\n"
   ]
  },
  {
   "cell_type": "code",
   "execution_count": 12,
   "id": "3ea16d56",
   "metadata": {},
   "outputs": [
    {
     "data": {
      "text/plain": [
       "[['_', '_', '_'], ['_', '_', '_'], ['_', '_', '_']]"
      ]
     },
     "execution_count": 12,
     "metadata": {},
     "output_type": "execute_result"
    }
   ],
   "source": [
    "board = [ ['_'] * 3 for i in range(3)] # Create a list of three lists of three items each. Inspect the structure.\n",
    "board"
   ]
  },
  {
   "cell_type": "code",
   "execution_count": 13,
   "id": "e7fb70e3",
   "metadata": {},
   "outputs": [
    {
     "data": {
      "text/plain": [
       "[['_', '_', '_'], ['_', '_', 'X'], ['_', '_', '_']]"
      ]
     },
     "execution_count": 13,
     "metadata": {},
     "output_type": "execute_result"
    }
   ],
   "source": [
    "board[1][2] = 'X'\n",
    "board"
   ]
  },
  {
   "cell_type": "markdown",
   "id": "38c475a7",
   "metadata": {},
   "source": [
    "A tempting, but wrong, shortcut: "
   ]
  },
  {
   "cell_type": "code",
   "execution_count": 14,
   "id": "544fecc8",
   "metadata": {},
   "outputs": [
    {
     "data": {
      "text/plain": [
       "[['_', '_', 'O'], ['_', '_', 'O'], ['_', '_', 'O']]"
      ]
     },
     "execution_count": 14,
     "metadata": {},
     "output_type": "execute_result"
    }
   ],
   "source": [
    "weird_board = [ ['_'] * 3] * 3 # The outer list is made of three references to the same inner list.\n",
    "weird_board[1][2] = 'O' # all rows are aliases referring to the same object, pg. 52\n",
    "weird_board"
   ]
  },
  {
   "cell_type": "markdown",
   "id": "db46c5e3",
   "metadata": {},
   "source": [
    "### list.sort Versus the sort Built-In\n",
    "\n",
    "The list.*sort* method sorts a list in place. \n",
    "\n",
    "In contrast, the built-in function *sorted* creates a new list and returns it. \n",
    "It accepts any iterable object as an argument, including immutable sequences and generators. It always returns a newly created list.\n",
    "\n",
    "Both list.*sort* and *sorted*  take two optional, keyword-only arguments: \n",
    "\n",
    "- reverse: accepts a boolean\n",
    "- key: accepts a one-arguments function "
   ]
  },
  {
   "cell_type": "code",
   "execution_count": 15,
   "id": "92b7892f",
   "metadata": {},
   "outputs": [
    {
     "data": {
      "text/plain": [
       "['apple', 'banana', 'grape', 'raspberry']"
      ]
     },
     "execution_count": 15,
     "metadata": {},
     "output_type": "execute_result"
    }
   ],
   "source": [
    "fruits = ['grape', 'raspberry', 'apple', 'banana']\n",
    "sorted(fruits)"
   ]
  },
  {
   "cell_type": "code",
   "execution_count": 16,
   "id": "7fcf487e",
   "metadata": {},
   "outputs": [
    {
     "data": {
      "text/plain": [
       "['raspberry', 'grape', 'banana', 'apple']"
      ]
     },
     "execution_count": 16,
     "metadata": {},
     "output_type": "execute_result"
    }
   ],
   "source": [
    "sorted(fruits, reverse=True)"
   ]
  },
  {
   "cell_type": "code",
   "execution_count": 17,
   "id": "32ddd2d9",
   "metadata": {},
   "outputs": [
    {
     "data": {
      "text/plain": [
       "['grape', 'apple', 'banana', 'raspberry']"
      ]
     },
     "execution_count": 17,
     "metadata": {},
     "output_type": "execute_result"
    }
   ],
   "source": [
    "sorted(fruits, key=len)"
   ]
  },
  {
   "cell_type": "code",
   "execution_count": 18,
   "id": "9d9edda5",
   "metadata": {},
   "outputs": [
    {
     "data": {
      "text/plain": [
       "['apple', 'banana', 'grape', 'raspberry']"
      ]
     },
     "execution_count": 18,
     "metadata": {},
     "output_type": "execute_result"
    }
   ],
   "source": [
    "fruits.sort()\n",
    "fruits"
   ]
  },
  {
   "cell_type": "code",
   "execution_count": 19,
   "id": "41d3eecb",
   "metadata": {},
   "outputs": [
    {
     "data": {
      "text/plain": [
       "[('again', 2), ('hello', 3), ('world', 1)]"
      ]
     },
     "execution_count": 19,
     "metadata": {},
     "output_type": "execute_result"
    }
   ],
   "source": [
    "books = [('hello', 3), ('world', 1), ('again', 2)]\n",
    "\n",
    "def sort_helper(item):\n",
    "    return item[0]\n",
    "\n",
    "sorted(books, key=sort_helper)"
   ]
  },
  {
   "cell_type": "markdown",
   "id": "3fd9f039",
   "metadata": {},
   "source": [
    "Now let's move on to the other fundamental sequence type in Python: the typle."
   ]
  },
  {
   "cell_type": "markdown",
   "id": "fa8e968a",
   "metadata": {},
   "source": [
    "## Tuples Are Not Just Immuatable Lists\n",
    "\n",
    "- used as immuatable lists\n",
    "- used as records with no field names\n",
    "\n",
    "### Tuples as Records\n",
    "\n",
    "Tuples holds records: each item in the tuple holds the data for one field, and the position of the item gves its meaning."
   ]
  },
  {
   "cell_type": "code",
   "execution_count": 20,
   "id": "0f7bc019",
   "metadata": {},
   "outputs": [],
   "source": [
    "lax_coordinates = (33.9425, -118.408056) # Latitude and Longitude of L.A. Airport"
   ]
  },
  {
   "cell_type": "code",
   "execution_count": 21,
   "id": "e12a826b",
   "metadata": {},
   "outputs": [],
   "source": [
    "travelers_ids = [('USA', '934234'), ('BRA', '234324'), \n",
    "                 ('ESP', '124314')]  #List of tuples"
   ]
  },
  {
   "cell_type": "code",
   "execution_count": 22,
   "id": "524af973",
   "metadata": {},
   "outputs": [
    {
     "name": "stdout",
     "output_type": "stream",
     "text": [
      "BRA/234324\n",
      "ESP/124314\n",
      "USA/934234\n"
     ]
    }
   ],
   "source": [
    "for passport in sorted(travelers_ids): # iterate over sorted tuple  \n",
    "    print('%s/%s' % passport) \n",
    "    # The % formatting operator understands tuples and treats each item as separate field."
   ]
  },
  {
   "cell_type": "code",
   "execution_count": 23,
   "id": "d899bd70",
   "metadata": {},
   "outputs": [
    {
     "name": "stdout",
     "output_type": "stream",
     "text": [
      "USA\n",
      "BRA\n",
      "ESP\n"
     ]
    }
   ],
   "source": [
    "for country, _ in travelers_ids: \n",
    "    print(country) \n",
    "    #The for loop knows how to retrieve the items of a tuple separately-this called unpacking"
   ]
  },
  {
   "cell_type": "markdown",
   "id": "24eaca34",
   "metadata": {},
   "source": [
    "## Classic Named Tuples\n",
    "\n",
    "The collections.namedtuple functions builds a subclass of tuple enhanced with field names.\n",
    "\n",
    "- Each instance of a class built by namedtuple takes exactly the same amount of memory as a tuple\n",
    "\n"
   ]
  },
  {
   "cell_type": "code",
   "execution_count": 24,
   "id": "38ccade7",
   "metadata": {},
   "outputs": [
    {
     "data": {
      "text/plain": [
       "City(name='Tokyo', country='JP', population=13600000, coordinates=(35.689722, 139.691667))"
      ]
     },
     "execution_count": 24,
     "metadata": {},
     "output_type": "execute_result"
    }
   ],
   "source": [
    "from collections import namedtuple\n",
    "City = namedtuple('City', 'name country population coordinates') #class name and field names\n",
    "tokyo = City('Tokyo', 'JP', 13600000, (35.689722, 139.691667)) # Field values are passed as seperated positional\n",
    "#arguments\n",
    "tokyo"
   ]
  },
  {
   "cell_type": "code",
   "execution_count": 25,
   "id": "b25e2707",
   "metadata": {},
   "outputs": [
    {
     "data": {
      "text/plain": [
       "13600000"
      ]
     },
     "execution_count": 25,
     "metadata": {},
     "output_type": "execute_result"
    }
   ],
   "source": [
    "tokyo.population #access the fields by name"
   ]
  },
  {
   "cell_type": "code",
   "execution_count": 26,
   "id": "68946f3b",
   "metadata": {},
   "outputs": [
    {
     "data": {
      "text/plain": [
       "(35.689722, 139.691667)"
      ]
     },
     "execution_count": 26,
     "metadata": {},
     "output_type": "execute_result"
    }
   ],
   "source": [
    "tokyo.coordinates"
   ]
  },
  {
   "cell_type": "code",
   "execution_count": 27,
   "id": "0e28a7b8",
   "metadata": {},
   "outputs": [
    {
     "data": {
      "text/plain": [
       "'JP'"
      ]
     },
     "execution_count": 27,
     "metadata": {},
     "output_type": "execute_result"
    }
   ],
   "source": [
    "tokyo[1] #or access the fields by position"
   ]
  },
  {
   "cell_type": "code",
   "execution_count": 28,
   "id": "0016ca77",
   "metadata": {},
   "outputs": [
    {
     "data": {
      "text/plain": [
       "{'name': 'Tokyo',\n",
       " 'country': 'JP',\n",
       " 'population': 13600000,\n",
       " 'coordinates': (35.689722, 139.691667)}"
      ]
     },
     "execution_count": 28,
     "metadata": {},
     "output_type": "execute_result"
    }
   ],
   "source": [
    "tokyo._asdict() # returns a dict built from the named tuple instance"
   ]
  },
  {
   "cell_type": "code",
   "execution_count": 29,
   "id": "244ee0b5",
   "metadata": {},
   "outputs": [
    {
     "data": {
      "text/plain": [
       "City(name='Berlin', country='JP', population=13600000, coordinates=(35.689722, 139.691667))"
      ]
     },
     "execution_count": 29,
     "metadata": {},
     "output_type": "execute_result"
    }
   ],
   "source": [
    "tokyo._replace(name='Berlin') #returns new typle"
   ]
  },
  {
   "cell_type": "markdown",
   "id": "969e63a1",
   "metadata": {},
   "source": [
    "### Tuples as Immutable Lists\n",
    "\n",
    "Two benefits:\n",
    "\n",
    "- *Clarity*: you know its length will never change\n",
    "- *Performance*: A tuple uses less memory than a list of the same length, and it allows Python to do some optimizations.\n",
    "- fixed length: a tuple instance is allocated the exact memory space it needs.\n",
    "- in contrast instances of list are allocated with room to spare in case for future appends\n",
    "\n",
    "**!!!** References in a tuple cannot changed, but if one of those references points to a mutable object, and that object is changed, then the value of the tuple changes."
   ]
  },
  {
   "cell_type": "code",
   "execution_count": 30,
   "id": "a3c40bde",
   "metadata": {},
   "outputs": [],
   "source": [
    "a = (10, 'alpha', [1, 2])\n",
    "a[-1].append(99)\n"
   ]
  },
  {
   "cell_type": "markdown",
   "id": "6318b23d",
   "metadata": {},
   "source": [
    "## When a List Is Not the Answer\n",
    "\n",
    "The list type is flexible and easy to use, but depending on specific requirements, there are better options.\n",
    "\n",
    "For example, if you are constantly adding and removing items from opposite ends of a list, it's good to know that a *deque* (double-ended queue) is a more efficient FIFO (First in, first out) data structure. "
   ]
  },
  {
   "cell_type": "markdown",
   "id": "717d79e5",
   "metadata": {},
   "source": [
    "## Deques\n",
    "\n",
    "The *.append* and *.pop* methods make a list usable as a queue.\n",
    "\n",
    "\n",
    "![q](queue.png)\n",
    "\n",
    "But inserting and removing from the head of a list (0-index end) is costly because the entire list must be shifted in memory.\n",
    "\n",
    "The class *collection.deque* is a queue designed for fast inserting and removing from both ends."
   ]
  },
  {
   "cell_type": "code",
   "execution_count": 31,
   "id": "84d7a49d",
   "metadata": {},
   "outputs": [
    {
     "data": {
      "text/plain": [
       "deque([9, 8, 7, 6, 5, 4, 3, 2, 1])"
      ]
     },
     "execution_count": 31,
     "metadata": {},
     "output_type": "execute_result"
    }
   ],
   "source": [
    "from collections import deque\n",
    "\n",
    "dq = deque(range(9, 0, -1))\n",
    "dq"
   ]
  },
  {
   "cell_type": "code",
   "execution_count": 32,
   "id": "d1d455a3",
   "metadata": {},
   "outputs": [
    {
     "data": {
      "text/plain": [
       "deque([10, 9, 8, 7, 6, 5, 4, 3, 2, 1])"
      ]
     },
     "execution_count": 32,
     "metadata": {},
     "output_type": "execute_result"
    }
   ],
   "source": [
    "dq.appendleft(10) #appends to the left\n",
    "dq"
   ]
  },
  {
   "cell_type": "code",
   "execution_count": 33,
   "id": "eca5ac67",
   "metadata": {},
   "outputs": [
    {
     "data": {
      "text/plain": [
       "deque([10, 9, 8, 7, 6, 5, 4, 3, 2])"
      ]
     },
     "execution_count": 33,
     "metadata": {},
     "output_type": "execute_result"
    }
   ],
   "source": [
    "dq.pop()# pop only removes the last element\n",
    "dq"
   ]
  },
  {
   "cell_type": "code",
   "execution_count": 34,
   "id": "5a0c9811",
   "metadata": {},
   "outputs": [
    {
     "name": "stdout",
     "output_type": "stream",
     "text": [
      "67.3 ns ± 0.774 ns per loop (mean ± std. dev. of 7 runs, 10,000,000 loops each)\n"
     ]
    }
   ],
   "source": [
    "\n",
    "dq = deque(range(10000, 0, -1))\n",
    "%timeit dq.appendleft(None); dq.pop()"
   ]
  },
  {
   "cell_type": "code",
   "execution_count": 35,
   "id": "9f48dbb5",
   "metadata": {},
   "outputs": [
    {
     "name": "stdout",
     "output_type": "stream",
     "text": [
      "1.58 µs ± 72.7 ns per loop (mean ± std. dev. of 7 runs, 1,000,000 loops each)\n"
     ]
    }
   ],
   "source": [
    "l = list(range(10000))\n",
    "\n",
    "%timeit l.append(None); l.pop(0)"
   ]
  },
  {
   "cell_type": "code",
   "execution_count": 36,
   "id": "9f2dd26c",
   "metadata": {},
   "outputs": [
    {
     "data": {
      "text/plain": [
       "(9.4979302957654e-05, 0.0014954636959979932)"
      ]
     },
     "execution_count": 36,
     "metadata": {},
     "output_type": "execute_result"
    }
   ],
   "source": [
    "import timeit\n",
    "N=10000\n",
    "setup_queue=f\"from collections import deque;dq = deque(range({N}, 0, -1))\"\n",
    "fifo_queue = \"dq.appendleft(None); dq.pop()\"\n",
    "\n",
    "queue_time= timeit.repeat(setup = setup_queue, \n",
    "                     stmt = fifo_queue,\n",
    "                     repeat = 3,\n",
    "                     number = 1000)\n",
    "\n",
    "queue_mean = sum(queue_time) /len(queue_time)\n",
    "\n",
    "\n",
    "setup_list=f\"l = list(range({N}, 0, -1))\"\n",
    "fifo_list = \"l.append(None); l.pop(0)\"\n",
    "\n",
    "list_time = timeit.repeat(setup = setup_list, \n",
    "                     stmt = fifo_list,\n",
    "                     repeat = 3,\n",
    "                     number = 1000)\n",
    "\n",
    "list_mean = sum(list_time) /len(list_time)\n",
    "\n",
    "queue_mean, list_mean"
   ]
  },
  {
   "cell_type": "code",
   "execution_count": 37,
   "id": "9ffa28aa",
   "metadata": {},
   "outputs": [],
   "source": [
    "def time_it(N):\n",
    "    setup_queue=f\"from collections import deque;dq = deque(range({N}, 0, -1))\"\n",
    "    fifo_queue = \"dq.appendleft(None); dq.pop()\"\n",
    "\n",
    "    queue_time= timeit.repeat(setup = setup_queue, \n",
    "                     stmt = fifo_queue,\n",
    "                     repeat = 3,\n",
    "                     number = 1000)\n",
    "\n",
    "    queue_mean = sum(queue_time) /len(queue_time)\n",
    "\n",
    "\n",
    "    setup_list=f\"l = list(range({N}, 0, -1))\"\n",
    "    fifo_list = \"l.append(None); l.pop(0)\"\n",
    "\n",
    "    list_time = timeit.repeat(setup = setup_list, \n",
    "                     stmt = fifo_list,\n",
    "                     repeat = 3,\n",
    "                     number = 1000)\n",
    "\n",
    "    list_mean = sum(list_time) /len(list_time)\n",
    "\n",
    "    return queue_mean, list_mean"
   ]
  },
  {
   "cell_type": "code",
   "execution_count": 38,
   "id": "c0cf814a",
   "metadata": {},
   "outputs": [],
   "source": [
    "x = [10, 100, 1000, 10000, 100000]\n",
    "\n",
    "for N in x:\n",
    "    queue_r, list_r = time_it(N)\n"
   ]
  },
  {
   "cell_type": "markdown",
   "id": "54fe26c3",
   "metadata": {},
   "source": [
    "![](queue_vs_list.png)"
   ]
  },
  {
   "cell_type": "markdown",
   "id": "b3fb403d",
   "metadata": {},
   "source": [
    "\n",
    "Note that deque implements most of the list methods, and adds a few that are specific to its design, like appendleft.\n",
    "But there is a hidden cost: removing items from the middle of a deque is not as fast."
   ]
  },
  {
   "cell_type": "markdown",
   "id": "2997a8f9",
   "metadata": {},
   "source": [
    "# Higher Order Functions\n",
    "\n",
    "- a function that takes a function as an argument\n",
    "\n",
    "In the functional programming paradigma, some of the best known higher-order functions are map, filter, reduce.\n",
    "\n",
    "(A listcomp does the job of map and filter combined, but is more readable)"
   ]
  },
  {
   "cell_type": "markdown",
   "id": "78e25986",
   "metadata": {},
   "source": [
    "### Map"
   ]
  },
  {
   "cell_type": "code",
   "execution_count": 39,
   "id": "581bb364",
   "metadata": {},
   "outputs": [],
   "source": [
    "import math\n",
    "def exp(x):\n",
    "    return math.exp(x)\n",
    "\n",
    "x = [*range(10)]\n",
    "y = list(map(exp, x))  #Calling map(function, iterable) returns an iterable where each item is the result of \n",
    "#calling the first arguement (here. exp) to successive elements of the second argument (an iterable), x."
   ]
  },
  {
   "cell_type": "code",
   "execution_count": 40,
   "id": "8876d36b",
   "metadata": {},
   "outputs": [
    {
     "data": {
      "image/png": "[encoded data removed]",
      "text/plain": [
       "<Figure size 640x480 with 1 Axes>"
      ]
     },
     "metadata": {},
     "output_type": "display_data"
    }
   ],
   "source": [
    "import matplotlib.pyplot as plt\n",
    "\n",
    "plt.plot(x, y, label=\"exp\")\n",
    "plt.legend()\n",
    "plt.xlabel('x')\n",
    "plt.ylabel('y')\n",
    "plt.show()"
   ]
  },
  {
   "cell_type": "markdown",
   "id": "8d9eb52a",
   "metadata": {},
   "source": [
    "### Filter"
   ]
  },
  {
   "cell_type": "code",
   "execution_count": 41,
   "id": "7efecd71",
   "metadata": {},
   "outputs": [
    {
     "data": {
      "text/plain": [
       "[1, 3, 5]"
      ]
     },
     "execution_count": 41,
     "metadata": {},
     "output_type": "execute_result"
    }
   ],
   "source": [
    "def filter_helper(item):\n",
    "    return item % 2\n",
    "\n",
    "list(filter(filter_helper, range(6)))"
   ]
  },
  {
   "cell_type": "markdown",
   "id": "15ecdea8",
   "metadata": {},
   "source": [
    "### Map and Filter combined"
   ]
  },
  {
   "cell_type": "code",
   "execution_count": 42,
   "id": "ecbb3ab7",
   "metadata": {},
   "outputs": [
    {
     "data": {
      "text/plain": [
       "[2.718281828459045, 20.085536923187668, 148.4131591025766]"
      ]
     },
     "execution_count": 42,
     "metadata": {},
     "output_type": "execute_result"
    }
   ],
   "source": [
    "list(map(exp, filter(filter_helper,range(6))))"
   ]
  },
  {
   "cell_type": "code",
   "execution_count": 43,
   "id": "9e58906d",
   "metadata": {},
   "outputs": [
    {
     "data": {
      "text/plain": [
       "[2.718281828459045, 20.085536923187668, 148.4131591025766]"
      ]
     },
     "execution_count": 43,
     "metadata": {},
     "output_type": "execute_result"
    }
   ],
   "source": [
    "[exp(x) for x in range(6) if x % 2]"
   ]
  },
  {
   "cell_type": "markdown",
   "id": "504d6bd5",
   "metadata": {},
   "source": [
    "### Reduce"
   ]
  },
  {
   "cell_type": "code",
   "execution_count": 44,
   "id": "da5f4f86",
   "metadata": {},
   "outputs": [
    {
     "data": {
      "text/plain": [
       "4950"
      ]
     },
     "execution_count": 44,
     "metadata": {},
     "output_type": "execute_result"
    }
   ],
   "source": [
    "from functools import reduce\n",
    "\n",
    "def adding(accumulator, currentValue):\n",
    "    #print(accumulator)\n",
    "    return accumulator + currentValue\n",
    "\n",
    "#reduce(adding, range(100), 100) #Initializer\n",
    "reduce(adding, range(100))  #sum is preferd\n",
    "sum(range(100))\n"
   ]
  },
  {
   "cell_type": "markdown",
   "id": "bc7330f1",
   "metadata": {},
   "source": [
    "## Other Function Which Take Iterables As an Argument \n",
    "\n",
    "Other reducing built-ins are *all* and *any*\n",
    "\n",
    "*all(iterable)*\n",
    "\n",
    "    Returns True if there are no falsy elements in the iterable; all([]) returns True"
   ]
  },
  {
   "cell_type": "code",
   "execution_count": 45,
   "id": "67cd6a86",
   "metadata": {},
   "outputs": [
    {
     "data": {
      "text/plain": [
       "True"
      ]
     },
     "execution_count": 45,
     "metadata": {},
     "output_type": "execute_result"
    }
   ],
   "source": [
    "all([]) "
   ]
  },
  {
   "cell_type": "markdown",
   "id": "6dd32175",
   "metadata": {},
   "source": [
    "*any(iterable)*\n",
    "\n",
    "    Returns True if any element of the iterable is truthy; any([]) returns False."
   ]
  },
  {
   "cell_type": "code",
   "execution_count": 46,
   "id": "3f72d426",
   "metadata": {},
   "outputs": [
    {
     "data": {
      "text/plain": [
       "True"
      ]
     },
     "execution_count": 46,
     "metadata": {},
     "output_type": "execute_result"
    }
   ],
   "source": [
    "any([['a']])"
   ]
  },
  {
   "cell_type": "markdown",
   "id": "31aeec22",
   "metadata": {},
   "source": [
    "### The Awesome zip\n",
    "\n",
    "Having a for loop that iterates over items without fiddling with index\n",
    "variables is great and prevents lots of bugs, but demands some special\n",
    "utility functions.\n",
    "One of them is the zip built-in, which makes it easy to\n",
    "iterate in parallel over two or more iterables by returning tuples that you\n",
    "can unpack into variables, one for each item in the parallel inputs."
   ]
  },
  {
   "cell_type": "code",
   "execution_count": 47,
   "id": "255df524",
   "metadata": {},
   "outputs": [
    {
     "data": {
      "text/plain": [
       "<zip at 0x7f1939008540>"
      ]
     },
     "execution_count": 47,
     "metadata": {},
     "output_type": "execute_result"
    }
   ],
   "source": [
    "zip(range(3), 'ABC')"
   ]
  },
  {
   "cell_type": "code",
   "execution_count": 48,
   "id": "2201181e",
   "metadata": {},
   "outputs": [
    {
     "data": {
      "text/plain": [
       "[(0, 'A'), (1, 'B'), (2, 'C')]"
      ]
     },
     "execution_count": 48,
     "metadata": {},
     "output_type": "execute_result"
    }
   ],
   "source": [
    "list(zip(range(3), 'ABC'))"
   ]
  },
  {
   "cell_type": "code",
   "execution_count": 49,
   "id": "0c980ffa",
   "metadata": {},
   "outputs": [
    {
     "data": {
      "text/plain": [
       "[(0, 'A', 0.0), (1, 'B', 1.1), (2, 'C', 2.2)]"
      ]
     },
     "execution_count": 49,
     "metadata": {},
     "output_type": "execute_result"
    }
   ],
   "source": [
    "list(zip(range(3), 'ABC', [0.0, 1.1, 2.2, 3.3])) #list(zip(range(3), 'ABC', [0.0, 1.1, 2.2, 3.3]))"
   ]
  },
  {
   "cell_type": "code",
   "execution_count": 50,
   "id": "ee6162e3",
   "metadata": {},
   "outputs": [
    {
     "data": {
      "text/plain": [
       "[(0, 'A', 0.0), (1, 'B', 1.1), (2, 'C', 2.2), (-1, -1, 3.3)]"
      ]
     },
     "execution_count": 50,
     "metadata": {},
     "output_type": "execute_result"
    }
   ],
   "source": [
    "from itertools import zip_longest\n",
    "\n",
    "'''The itertools.zip_longest function behaves differently: it\n",
    "uses an optional fillvalue (None by default) to complete\n",
    "missing values so it can generate tuples until the last iterable is\n",
    "exhausted.'''\n",
    "list(zip_longest(range(3), 'ABC', [0.0, 1.1, 2.2, 3.3],\n",
    "fillvalue=-1))"
   ]
  },
  {
   "cell_type": "markdown",
   "id": "59446287",
   "metadata": {},
   "source": [
    "- zip silently stopping at the shortest iterable\n",
    "- bad behavior: Silently ignoring part of the input can cause subtle bugs. \n",
    "- An optional strict argument to zip to make it behave in that way. It is implemented in Python 3.10."
   ]
  },
  {
   "cell_type": "code",
   "execution_count": 51,
   "id": "ad1884dd",
   "metadata": {},
   "outputs": [],
   "source": [
    "#list(zip(range(3), 'ABC', [0.0, 1.1, 2.2, 3.3], strict=True))"
   ]
  },
  {
   "cell_type": "markdown",
   "id": "527ec5c9",
   "metadata": {},
   "source": [
    "The zip function can also be used to transpose a matrix represented as\n",
    "nested iterables. For example:\n",
    "\n"
   ]
  },
  {
   "cell_type": "code",
   "execution_count": 52,
   "id": "bc4566cc",
   "metadata": {},
   "outputs": [
    {
     "data": {
      "text/plain": [
       "[(1, 4), (2, 5), (3, 6)]"
      ]
     },
     "execution_count": 52,
     "metadata": {},
     "output_type": "execute_result"
    }
   ],
   "source": [
    "a = [(1, 2, 3),\n",
    "    (4, 5, 6)]\n",
    "\n",
    "list(zip(*a))\n",
    "\n"
   ]
  },
  {
   "cell_type": "code",
   "execution_count": 53,
   "id": "85c6b8a7",
   "metadata": {},
   "outputs": [
    {
     "data": {
      "text/plain": [
       "[(1, 3, 5), (2, 4, 6)]"
      ]
     },
     "execution_count": 53,
     "metadata": {},
     "output_type": "execute_result"
    }
   ],
   "source": [
    "b = [(1, 2),\n",
    "     (3, 4),\n",
    "     (5, 6)]\n",
    "list(zip(*b))"
   ]
  },
  {
   "cell_type": "markdown",
   "id": "27c9ca44",
   "metadata": {},
   "source": [
    "\n",
    "![](Matrix_transpose.gif)"
   ]
  },
  {
   "cell_type": "code",
   "execution_count": 54,
   "id": "427973d3",
   "metadata": {},
   "outputs": [
    {
     "data": {
      "text/plain": [
       "[(1, 2), (3, 4), (5, 6)]"
      ]
     },
     "execution_count": 54,
     "metadata": {},
     "output_type": "execute_result"
    }
   ],
   "source": [
    "A = [(1,3,5), \n",
    "     (2,4,6)]\n",
    "list(zip(*A))"
   ]
  },
  {
   "cell_type": "markdown",
   "id": "7b9c694a",
   "metadata": {},
   "source": [
    "### enumerate\n",
    "\n",
    "*enumerate(iterable, start=0)* Yields 2-tuples of the form (index, item), where index is counter from start, and items is taken from the iterable"
   ]
  },
  {
   "cell_type": "code",
   "execution_count": 55,
   "id": "0ac437a2",
   "metadata": {},
   "outputs": [
    {
     "data": {
      "text/plain": [
       "[(1, 'a'),\n",
       " (2, 'l'),\n",
       " (3, 'b'),\n",
       " (4, 'a'),\n",
       " (5, 't'),\n",
       " (6, 'r'),\n",
       " (7, 'o'),\n",
       " (8, 'z')]"
      ]
     },
     "execution_count": 55,
     "metadata": {},
     "output_type": "execute_result"
    }
   ],
   "source": [
    "list(enumerate('albatroz', 1))#Number the letters in the word, starting from 1."
   ]
  }
 ],
 "metadata": {
  "kernelspec": {
   "display_name": "Python 3 (ipykernel)",
   "language": "python",
   "name": "python3"
  },
  "language_info": {
   "codemirror_mode": {
    "name": "ipython",
    "version": 3
   },
   "file_extension": ".py",
   "mimetype": "text/x-python",
   "name": "python",
   "nbconvert_exporter": "python",
   "pygments_lexer": "ipython3",
   "version": "3.8.10"
  },
  "vscode": {
   "interpreter": {
    "hash": "97cc609b13305c559618ec78a438abc56230b9381f827f22d070313b9a1f3777"
   }
  }
 },
 "nbformat": 4,
 "nbformat_minor": 5
}
