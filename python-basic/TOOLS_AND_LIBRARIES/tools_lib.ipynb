{
 "cells": [
  {
   "cell_type": "markdown",
   "metadata": {},
   "source": [
    "# Tools and Libraries\n",
    "\n",
    "```$ python3 calculate.py```"
   ]
  },
  {
   "cell_type": "markdown",
   "metadata": {},
   "source": [
    "#### Using ‘__name__’ Variable in Scripts\n",
    "\n",
    "- The __name__  variable gets its value depending on how we execute the containing script.\n",
    "\n",
    "- Functions of a script can be reused in other scripts by importing them.\n",
    "\n",
    "- Thanks to this special variable, you can decide whether you want to run the script."
   ]
  },
  {
   "cell_type": "markdown",
   "metadata": {},
   "source": [
    "If we want to re-use myFunction in another script, for example importingScript.py, we can import nameScript.py as a module:"
   ]
  },
  {
   "cell_type": "markdown",
   "metadata": {},
   "source": [
    "## Namespaces in Python"
   ]
  },
  {
   "cell_type": "markdown",
   "metadata": {},
   "source": [
    "- A namespace is a collection of currently defined symbolic names along with information about the object that each name references.\n",
    "\n",
    "- You can think of a namespace as a dictionary in which the keys are the object names and the values are the objects themselves. Each key-value pair maps a name to its corresponding object."
   ]
  },
  {
   "cell_type": "markdown",
   "metadata": {},
   "source": [
    "types of namespaces:\n",
    "- Built-In\n",
    "- Global\n",
    "- Enclosing or nonlocal\n",
    "- Local"
   ]
  },
  {
   "cell_type": "markdown",
   "metadata": {},
   "source": [
    "### LEGB Rule\n",
    "\n",
    "the interpreter searches first from\n",
    "1. local\n",
    "2. enclosing\n",
    "3. global\n",
    "4. built-in\n",
    "scope"
   ]
  },
  {
   "cell_type": "code",
   "execution_count": 1,
   "metadata": {},
   "outputs": [
    {
     "name": "stdout",
     "output_type": "stream",
     "text": [
      "None\n",
      "***************\n",
      "bla_global\n",
      "****************\n",
      "<built-in function sum>\n",
      "****************\n",
      "None\n",
      "local_bla\n"
     ]
    }
   ],
   "source": [
    "import builtins\n",
    "\n",
    "def check_variable():\n",
    "    print(locals().get('sum'))\n",
    "    print('***************')\n",
    "    print(globals().get('sum'))\n",
    "    print('****************')\n",
    "    print(vars(builtins).get('sum'))\n",
    "    print('****************')\n",
    "\n",
    "#sum # built-in\n",
    "sum = 'bla_global'\n",
    "check_variable()\n",
    "# sum = 'global'\n",
    "def outer():\n",
    "    sum = 'nonlocal'\n",
    "    def inner():\n",
    "        #nonlocal sum\n",
    "        print(locals().get('sum'))\n",
    "        sum = 'local_bla'\n",
    "        print(locals().get('sum'))\n",
    "        \n",
    "    inner()\n",
    "\n",
    "outer()\n"
   ]
  },
  {
   "cell_type": "markdown",
   "metadata": {},
   "source": [
    "- If the interpreter doesn’t find the name in any of these locations, then Python raises a NameError exception."
   ]
  },
  {
   "cell_type": "markdown",
   "metadata": {},
   "source": [
    "- LEGB rule defines the look-up order for given names\n",
    "- Names in lower-level (e.g. local) override higher-level names"
   ]
  },
  {
   "cell_type": "code",
   "execution_count": 2,
   "metadata": {},
   "outputs": [
    {
     "data": {
      "text/plain": [
       "True"
      ]
     },
     "execution_count": 2,
     "metadata": {},
     "output_type": "execute_result"
    }
   ],
   "source": [
    "'sum' in dir(__builtins__)"
   ]
  },
  {
   "cell_type": "markdown",
   "metadata": {},
   "source": [
    "#### Symbol table\n",
    "- The python globals function is a built-in function that is used to modify and return a dictionary and its values of the current **global symbol table**.\n",
    "\n",
    "- A symbol table is a data structure maintained and constructed by the Python compiler that contains all of the essential information about each identifier found in the source code of the program.\n",
    "\n",
    "- A dictionary returned by the globals() function stores the collection of symbols available to the interpreter\n",
    "- A dictionary returned by the locals() function stores the values of the current **local symbol table**"
   ]
  },
  {
   "cell_type": "markdown",
   "metadata": {},
   "source": [
    "#### Built-in namespace"
   ]
  },
  {
   "cell_type": "markdown",
   "metadata": {},
   "source": [
    "- The Python interpreter creates the built-in namespace when it starts up. "
   ]
  },
  {
   "cell_type": "markdown",
   "metadata": {},
   "source": [
    "#### Global namespace"
   ]
  },
  {
   "cell_type": "markdown",
   "metadata": {},
   "source": [
    "- The global namespace contains any names defined at the level of the main program.\n",
    "- Python creates the global namespace when the main program body starts."
   ]
  },
  {
   "cell_type": "markdown",
   "metadata": {},
   "source": [
    "#### Local Namespace"
   ]
  },
  {
   "cell_type": "markdown",
   "metadata": {},
   "source": [
    "- The Python interpreter creates a new namespace whenever a function executes. \n",
    "- That namespace is local to the function and remains in existence until the function terminates."
   ]
  },
  {
   "cell_type": "markdown",
   "metadata": {},
   "source": [
    "## Modules\n",
    "\n",
    "- Modular programming refers to the process of breaking a large programming task into separate, smaller, more manageable subtasks or modules. \n",
    "\n",
    "- Individual modules can then be connected together\n",
    "- Technically, modules correspond to files, and Python creates a module object to contain all the names defined in the file"
   ]
  },
  {
   "cell_type": "markdown",
   "metadata": {},
   "source": [
    "- module are object that serves as an organizational unit\n",
    "- Modules have a namespace containing arbitrary Python objects. \n",
    "- Modules are loaded into Python by the process of importing."
   ]
  },
  {
   "cell_type": "markdown",
   "metadata": {},
   "source": [
    "### Module creation\n",
    "\n",
    "- a module can be written in python or C (example re)\n",
    "- built-in modules don't need to be installed: e.g. math, collections "
   ]
  },
  {
   "cell_type": "markdown",
   "metadata": {},
   "source": [
    "### Modules files"
   ]
  },
  {
   "cell_type": "markdown",
   "metadata": {},
   "source": [
    "- modules are intended in to be imported in other scripts or modules\n",
    "- modules often contain classes, functions, variables "
   ]
  },
  {
   "cell_type": "code",
   "execution_count": 3,
   "metadata": {},
   "outputs": [],
   "source": [
    "#add.py\n",
    "\n",
    "def add(a,b):\n",
    "    return a + b"
   ]
  },
  {
   "cell_type": "markdown",
   "metadata": {},
   "source": [
    "The module add.py is not intended to be run directly!"
   ]
  },
  {
   "cell_type": "markdown",
   "metadata": {},
   "source": [
    "## Import statements"
   ]
  },
  {
   "cell_type": "markdown",
   "metadata": {},
   "source": [
    "- Module contents are made available to the caller with the import statement. "
   ]
  },
  {
   "cell_type": "code",
   "execution_count": 4,
   "metadata": {},
   "outputs": [
    {
     "data": {
      "text/plain": [
       "4"
      ]
     },
     "execution_count": 4,
     "metadata": {},
     "output_type": "execute_result"
    }
   ],
   "source": [
    "import calculate\n",
    "\n",
    "calculate.add(2,2)"
   ]
  },
  {
   "cell_type": "markdown",
   "metadata": {},
   "source": [
    "- a module creates a separate namespace."
   ]
  },
  {
   "cell_type": "markdown",
   "metadata": {},
   "source": [
    "#### Import Objects from Module\n",
    "- accessed the local context of s module\n",
    "- Each module has its own private symbol table (servers as the global symbol table for all global objects in the module)"
   ]
  },
  {
   "cell_type": "code",
   "execution_count": 5,
   "metadata": {},
   "outputs": [
    {
     "data": {
      "text/plain": [
       "3.141592653589793"
      ]
     },
     "execution_count": 5,
     "metadata": {},
     "output_type": "execute_result"
    }
   ],
   "source": [
    "import math   \n",
    "\n",
    "math.pi # accessed the local context of the module"
   ]
  },
  {
   "cell_type": "markdown",
   "metadata": {},
   "source": [
    "- Every name that is assigned a value at the top level of a module file (i.e., not in a function body) becomes an attribute of that module."
   ]
  },
  {
   "cell_type": "code",
   "execution_count": 6,
   "metadata": {},
   "outputs": [
    {
     "data": {
      "text/plain": [
       "1"
      ]
     },
     "execution_count": 6,
     "metadata": {},
     "output_type": "execute_result"
    }
   ],
   "source": [
    "import M\n",
    "M.X # the name X becomes an attribute of M"
   ]
  },
  {
   "cell_type": "code",
   "execution_count": 7,
   "metadata": {},
   "outputs": [
    {
     "data": {
      "text/plain": [
       "3.141592653589793"
      ]
     },
     "execution_count": 7,
     "metadata": {},
     "output_type": "execute_result"
    }
   ],
   "source": [
    "from math import pi # import pi directly in the caller's symbol table \n",
    "pi"
   ]
  },
  {
   "cell_type": "markdown",
   "metadata": {},
   "source": [
    "#### Import all objects from a Module"
   ]
  },
  {
   "cell_type": "code",
   "execution_count": 8,
   "metadata": {},
   "outputs": [
    {
     "data": {
      "text/plain": [
       "<function calculate.add(a, b)>"
      ]
     },
     "execution_count": 8,
     "metadata": {},
     "output_type": "execute_result"
    }
   ],
   "source": [
    "from calculate import * # import all objects from the module to the caller's symbol table (available in global scope)\n",
    "\n",
    "globals()['add']"
   ]
  },
  {
   "cell_type": "markdown",
   "metadata": {},
   "source": [
    "- this is not recommended as you might polluting the caller's symbol table with all objects from a module "
   ]
  },
  {
   "cell_type": "markdown",
   "metadata": {},
   "source": [
    "#### Import with Alternate Name"
   ]
  },
  {
   "cell_type": "code",
   "execution_count": 9,
   "metadata": {},
   "outputs": [
    {
     "data": {
      "text/plain": [
       "3.141592653589793"
      ]
     },
     "execution_count": 9,
     "metadata": {},
     "output_type": "execute_result"
    }
   ],
   "source": [
    "from math import pi as PI_NUMBER\n",
    "\n",
    "PI_NUMBER"
   ]
  },
  {
   "cell_type": "code",
   "execution_count": 10,
   "metadata": {},
   "outputs": [
    {
     "data": {
      "text/plain": [
       "3.141592653589793"
      ]
     },
     "execution_count": 10,
     "metadata": {},
     "output_type": "execute_result"
    }
   ],
   "source": [
    "import math as mathematics\n",
    "\n",
    "mathematics.pi"
   ]
  },
  {
   "cell_type": "markdown",
   "metadata": {},
   "source": [
    "#### Module Files Are Namespaces"
   ]
  },
  {
   "cell_type": "markdown",
   "metadata": {},
   "source": [
    "- module acts as a namespace (a place where names are created)\n",
    "- And names that live in a module are called its attributes."
   ]
  },
  {
   "cell_type": "markdown",
   "metadata": {},
   "source": [
    "# Packages\n",
    "\n",
    "- A Python module which can contain submodules or recursively, subpackages.\n",
    "- a package is still a module\n",
    "- As a user, you usually don’t need to worry about whether you’re importing a module or a package.\n",
    "- modules that work together\n",
    "- A package folder will often contain a special __init__.py file that tells Python it’s a package"
   ]
  },
  {
   "cell_type": "markdown",
   "metadata": {},
   "source": [
    "Example: project folder\n",
    "**package2** directory has three files: \n",
    "- two modules:\n",
    "1. module3.py\n",
    "2. module4.py\n",
    "- an initialization file __ init__.py"
   ]
  },
  {
   "cell_type": "markdown",
   "metadata": {},
   "source": [
    "- You must give a detailed path for each package or file, from the top-level package folder. \n",
    "- This is somewhat similar to its file path, but we use a dot (.) instead of a slash (/).\n"
   ]
  },
  {
   "cell_type": "markdown",
   "metadata": {},
   "source": [
    "Run packages:\n",
    "python3 -m package1.module1\n",
    "python3 -m package2.subpackage2.module6"
   ]
  },
  {
   "cell_type": "markdown",
   "metadata": {},
   "source": [
    "- absolute imports vs relative imports"
   ]
  },
  {
   "cell_type": "markdown",
   "metadata": {},
   "source": [
    "#### Style guide\n",
    "\n",
    "- Keep imports at the top of the file.\n",
    "- ordered by groups:\n",
    "1. first standard library imports\n",
    "2. then third-party imports.\n",
    "3. and finally local application or library imports.\n",
    "- Order imports alphabetically within each group.\n",
    "- Avoid import *."
   ]
  },
  {
   "attachments": {},
   "cell_type": "markdown",
   "metadata": {},
   "source": [
    "19.02.2023\n",
    "\n",
    "## Packageing\n",
    "\n",
    "### Package\n",
    "\n",
    "- A Python module which can contain submodules.\n",
    "- A package is still a module.\n",
    "- Technically, a package is a Python module with an __ path__ attribute.\n",
    "- A package is a collection of related modules that work together.\n",
    "- In practice, a package typically corresponds to a file directory containing Python files and other directories. \n",
    "\n",
    "## Why Packages:\n",
    "- grouping and organizing of modules\n",
    "- help to avoid collision between module names \n",
    "- (modules help avoid collisions between global variable names )\n",
    "\n",
    "## Importing Package\n",
    "- You can technically import the package as well.\n",
    "- But it's not helpful, because it does not place any of the modules in pkg into the local namespace"
   ]
  },
  {
   "cell_type": "code",
   "execution_count": 11,
   "metadata": {},
   "outputs": [
    {
     "ename": "AttributeError",
     "evalue": "module 'project.package1' has no attribute 'A'",
     "output_type": "error",
     "traceback": [
      "\u001b[0;31m---------------------------------------------------------------------------\u001b[0m",
      "\u001b[0;31mAttributeError\u001b[0m                            Traceback (most recent call last)",
      "Cell \u001b[0;32mIn [11], line 3\u001b[0m\n\u001b[1;32m      1\u001b[0m \u001b[39mimport\u001b[39;00m \u001b[39mproject\u001b[39;00m\u001b[39m.\u001b[39;00m\u001b[39mpackage1\u001b[39;00m \u001b[39mas\u001b[39;00m \u001b[39mpkg1\u001b[39;00m\n\u001b[0;32m----> 3\u001b[0m pkg1\u001b[39m.\u001b[39;49mA\n",
      "\u001b[0;31mAttributeError\u001b[0m: module 'project.package1' has no attribute 'A'"
     ]
    }
   ],
   "source": [
    "import project.package1 as pkg1\n",
    "\n",
    "pkg1.A"
   ]
  },
  {
   "attachments": {},
   "cell_type": "markdown",
   "metadata": {},
   "source": [
    "- If a file named __init__.py is present in a package directory, it is invoked when the package or a module in the package is imported.\n",
    "- when you execute import pkg, modules mod1 and mod2 are imported automatically"
   ]
  },
  {
   "cell_type": "code",
   "execution_count": null,
   "metadata": {},
   "outputs": [
    {
     "data": {
      "text/plain": [
       "<module 'pkg.mod1' from '/home/dci-student/PYDCI/live-code/python-basic/TOOLS_AND_LIBRARIES/pkg/mod1.py'>"
      ]
     },
     "execution_count": 2,
     "metadata": {},
     "output_type": "execute_result"
    }
   ],
   "source": [
    "import pkg\n",
    "\n",
    "pkg.mod1"
   ]
  },
  {
   "attachments": {},
   "cell_type": "markdown",
   "metadata": {},
   "source": [
    "### Regular Package\n",
    "- Python defines two types of packages:\n",
    "1. regular packages\n",
    "2. namespace packages\n",
    "\n",
    "- Regular packages are traditional packages as they existed in Python 3.2 and earlier.\n",
    "- A regular package is typically implemented as a directory containing an __init__.py file. "
   ]
  },
  {
   "attachments": {},
   "cell_type": "markdown",
   "metadata": {},
   "source": [
    "### Namespace Package\n",
    "- As of Python 3.3, we get namespace packages.\n",
    "- Namespace packages are packages without the __init__.py.\n",
    "- These are a special kind of package that allows you to unify two packages with the same name at different points on your Python-path."
   ]
  },
  {
   "attachments": {},
   "cell_type": "markdown",
   "metadata": {},
   "source": [
    "To add path1 and path2 to PYTHONPATH we could type following commands in Unix-like systems:\n",
    "- export PYTHONPATH=\"${PYTHONPATH}\":/home/dci-student/PYDCI/live-code/python-basic/TOOLS_AND_LIBRARIES/path1\n",
    "- export PYTHONPATH=\"${PYTHONPATH}\":/home/dci-student/PYDCI/live-code/python-basic/TOOLS_AND_LIBRARIES/path2"
   ]
  },
  {
   "attachments": {},
   "cell_type": "markdown",
   "metadata": {},
   "source": [
    "the above export command add a path to sys.path\n",
    "\n",
    "```python3 -c 'import sys;print(sys.path)'```\n",
    "- The PYTHONPATH, also sys.path in code, is a list of locations to look for Python packages. \n",
    "- (The first value, the null or empty string, in sys.path is the current working directory)"
   ]
  },
  {
   "attachments": {},
   "cell_type": "markdown",
   "metadata": {},
   "source": [
    "- And now we can get the unification of two packages with the same name in a single namespace:\n",
    "\n",
    "```from namespace import module1, module3```"
   ]
  },
  {
   "attachments": {},
   "cell_type": "markdown",
   "metadata": {},
   "source": [
    "- If either one of them gain an __ init__.py that becomes the regular package\n",
    "1. other directory is ignored\n",
    "2. f both of them have an __ init__.py, the first one in the PYTHONPATH is the one used."
   ]
  },
  {
   "attachments": {},
   "cell_type": "markdown",
   "metadata": {},
   "source": [
    "## Creating a Package (on PyPI)\n",
    "\n",
    "- There are two instances of the Package Index:\n",
    "1. PyPI: Python Package Index hosted at https://pypi.org/\n",
    "2. TestPyPI: a separate instance of the Python Package Index (PyPI) that allows you to try out the distribution tools; https://test.pypi.org\n",
    "\n",
    "(show both pages)"
   ]
  },
  {
   "attachments": {},
   "cell_type": "markdown",
   "metadata": {},
   "source": [
    "- Installed Python Versions:\n",
    "```ll /usr/bin/python*```"
   ]
  },
  {
   "attachments": {},
   "cell_type": "markdown",
   "metadata": {},
   "source": [
    "### Where are Python packages installed?"
   ]
  },
  {
   "cell_type": "code",
   "execution_count": null,
   "metadata": {},
   "outputs": [
    {
     "data": {
      "text/plain": [
       "<module 'datetime' from '/usr/lib/python3.10/datetime.py'>"
      ]
     },
     "execution_count": 4,
     "metadata": {},
     "output_type": "execute_result"
    }
   ],
   "source": [
    "# example of built-in package\n",
    "import datetime\n",
    "datetime"
   ]
  },
  {
   "cell_type": "code",
   "execution_count": null,
   "metadata": {},
   "outputs": [
    {
     "data": {
      "text/plain": [
       "<module 'numpy' from '/home/dci-student/.local/lib/python3.10/site-packages/numpy/__init__.py'>"
      ]
     },
     "execution_count": 5,
     "metadata": {},
     "output_type": "execute_result"
    }
   ],
   "source": [
    "# example of package installed with pip\n",
    "import numpy\n",
    "numpy"
   ]
  },
  {
   "cell_type": "code",
   "execution_count": null,
   "metadata": {},
   "outputs": [
    {
     "data": {
      "text/plain": [
       "<module 'ansible' from '/usr/lib/python3/dist-packages/ansible/__init__.py'>"
      ]
     },
     "execution_count": 6,
     "metadata": {},
     "output_type": "execute_result"
    }
   ],
   "source": [
    "# install via sudo apt-add-repository ppa:ansible/ansible\n",
    "import ansible\n",
    "ansible"
   ]
  },
  {
   "attachments": {},
   "cell_type": "markdown",
   "metadata": {},
   "source": [
    "### Package Ecosystem \n",
    "\n",
    "![image.png](ecosystem.png)"
   ]
  },
  {
   "attachments": {},
   "cell_type": "markdown",
   "metadata": {},
   "source": [
    "**PyPI Contributors**\n",
    "\n",
    "- Developers (1) creating distributions.\n",
    "\n",
    "**Distributions**\n",
    "\n",
    "- A Python distribution is a versioned compressed archive file that contains Python packages, modules, and other resource files. \n",
    "\n",
    "**Tools for creating and distributing distributions** (2)\n",
    "- Distutils: A standard and basic package that comes with the Python standard library. It is used for creating distributions.\n",
    "\n",
    "**An Online Index of Distributions**\n",
    "\n",
    "- This is the PyPI.(3)\n",
    "\n",
    "**Tools for installing distributions**\n",
    "\n",
    "- pip (4)\n",
    "\n",
    "**Users**\n",
    "\n",
    "- Users (5) of Python who would like to install third-party modules on their system.\n"
   ]
  },
  {
   "cell_type": "markdown",
   "metadata": {},
   "source": []
  },
  {
   "attachments": {},
   "cell_type": "markdown",
   "metadata": {},
   "source": [
    "### Create Hello World Package \n",
    "![](dir_structur.png)\n",
    "\n",
    "1. Create folder and files and create a virtual environment\n",
    "2. define your setup.py file\n",
    "3. Generate distribution archives (compressed files that help your package to be deployed across multiple platforms)"
   ]
  },
  {
   "attachments": {},
   "cell_type": "markdown",
   "metadata": {},
   "source": [
    "before you can generate the archives, activate your virtual environment install:  \n",
    "\n",
    "- > pip install -U pip\n",
    "- > pip install -U setuptools wheel\n",
    "\n",
    "then run:\n",
    "\n",
    "> python setup.py sdist bdist_wheel"
   ]
  },
  {
   "attachments": {},
   "cell_type": "markdown",
   "metadata": {},
   "source": [
    "installing local package:\n",
    ">  pip install -e .\n",
    "\n",
    "check if it's installed:\n",
    "> pip list\n",
    "\n",
    "or\n",
    "\n",
    "> python -c 'import hello_world; print(hello_world)'"
   ]
  },
  {
   "attachments": {},
   "cell_type": "markdown",
   "metadata": {},
   "source": [
    "![](setuptool.png)"
   ]
  },
  {
   "attachments": {},
   "cell_type": "markdown",
   "metadata": {},
   "source": [
    "### Publish package \n",
    "\n",
    "1. on testPyPi\n",
    "\n",
    "- > pip install -U twine\n",
    "Before you can publish your package, you have to register and activate your account\n",
    "- > twine upload --repository-url https://test.pypi.org/legacy/ dist/*\n",
    "\n",
    "![](testPyPi_hello.png)\n",
    "\n",
    "#### install hello-world-piet\n",
    "- > pip uninstall hello-world-piet\n",
    "- > pip install -i https://test.pypi.org/simple/ hello-world-piet==0.0.1 \n",
    "\n",
    "check if it is installed:\n",
    "> pip list\n",
    "\n",
    "or\n",
    "\n",
    "> python -c 'import hello_world; print(hello_world)'"
   ]
  },
  {
   "attachments": {},
   "cell_type": "markdown",
   "metadata": {},
   "source": [
    "![](lifecycle.png)"
   ]
  },
  {
   "attachments": {},
   "cell_type": "markdown",
   "metadata": {},
   "source": [
    "But if you have a package that is not compatible with pip, you’ll need manually install Python packages. Here’s how."
   ]
  },
  {
   "attachments": {},
   "cell_type": "markdown",
   "metadata": {},
   "source": [
    "![](steps_pypi.png)"
   ]
  }
 ],
 "metadata": {
  "kernelspec": {
   "display_name": "Python 3 (ipykernel)",
   "language": "python",
   "name": "python3"
  },
  "language_info": {
   "codemirror_mode": {
    "name": "ipython",
    "version": 3
   },
   "file_extension": ".py",
   "mimetype": "text/x-python",
   "name": "python",
   "nbconvert_exporter": "python",
   "pygments_lexer": "ipython3",
   "version": "3.10.10"
  },
  "vscode": {
   "interpreter": {
    "hash": "97cc609b13305c559618ec78a438abc56230b9381f827f22d070313b9a1f3777"
   }
  }
 },
 "nbformat": 4,
 "nbformat_minor": 2
}
