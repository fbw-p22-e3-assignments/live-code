{
 "cells": [
  {
   "cell_type": "markdown",
   "metadata": {},
   "source": [
    "Problem:  Suppose We search the number 100 in a sorted list of 100 elements ranging from 1 to 100.\n",
    "We could search from the  start until the end of the list:\n",
    "\n",
    "-  [1,2,3,4,....100]\n",
    "-  [2,3,4,...,100] 1.step (to low, go on)\n",
    "-  [3,4,...,100] 2.step (to low, go on)\n",
    "-  [4,...,100] 3.step (to low, go on)\n",
    "- .....\n",
    "- ....\n",
    "- ....\n",
    "- [99, 100] 99.step \n",
    "- [100] 100. Step (FOUND!)\n",
    "\n",
    "We have a algorithm with a time complexity of $O(N)$: The algo would take 100 steps (operations) if we would search for the number 100.\n",
    "\n",
    "- $O(N)$ --> linear complexity       $f(N) = N$\n",
    "- $O(1)$ --> constant complexity     $f(N) = 1$\n",
    "- $O(N * N)$ --> quadratic complexity $f(N) = N^{2}$\n"
   ]
  },
  {
   "cell_type": "code",
   "execution_count": 1,
   "metadata": {},
   "outputs": [
    {
     "data": {
      "text/plain": [
       "100"
      ]
     },
     "execution_count": 1,
     "metadata": {},
     "output_type": "execute_result"
    }
   ],
   "source": [
    "l1 = list(range(1,101))\n",
    "length_step1 = len(l1)\n",
    "length_step1"
   ]
  },
  {
   "cell_type": "code",
   "execution_count": 2,
   "metadata": {},
   "outputs": [
    {
     "name": "stdout",
     "output_type": "stream",
     "text": [
      "51\n",
      "1 2 3 4 5 6 7 8 9 10 11 12 13 14 15 16 17 18 19 20 21 22 23 24 25 26 27 28 29 30 31 32 33 34 35 36 37 38 39 40 41 42 43 44 45 46 47 48 49 50\n"
     ]
    }
   ],
   "source": [
    "middle = int((len(l1))/2)\n",
    "middle\n",
    "print(l1[middle])\n",
    "l2 = l1[:middle]\n",
    "print(*l2)"
   ]
  },
  {
   "cell_type": "code",
   "execution_count": 3,
   "metadata": {},
   "outputs": [
    {
     "data": {
      "text/plain": [
       "25"
      ]
     },
     "execution_count": 3,
     "metadata": {},
     "output_type": "execute_result"
    }
   ],
   "source": [
    "middle = int(len(l2)/2)\n",
    "middle"
   ]
  },
  {
   "cell_type": "markdown",
   "metadata": {},
   "source": [
    " Introduction\n",
    "\n",
    " - an algorith (*algo*) is a set of instructions\n",
    " - there are different algos for the same task\n",
    " - each algo has a trade-off"
   ]
  },
  {
   "cell_type": "code",
   "execution_count": 4,
   "metadata": {},
   "outputs": [
    {
     "data": {
      "text/plain": [
       "100"
      ]
     },
     "execution_count": 4,
     "metadata": {},
     "output_type": "execute_result"
    }
   ],
   "source": [
    "l1 = list(range(1,101))\n",
    "length_step1 = len(l1)\n",
    "length_step1"
   ]
  },
  {
   "cell_type": "code",
   "execution_count": 5,
   "metadata": {},
   "outputs": [
    {
     "name": "stdout",
     "output_type": "stream",
     "text": [
      "26\n",
      "1 2 3 4 5 6 7 8 9 10 11 12 13 14 15 16 17 18 19 20 21 22 23 24 25\n"
     ]
    }
   ],
   "source": [
    "middle = int((len(l2))/2)\n",
    "middle\n",
    "print(l2[middle])\n",
    "l3 = l2[:middle]\n",
    "print(*l3)"
   ]
  },
  {
   "cell_type": "code",
   "execution_count": 6,
   "metadata": {},
   "outputs": [
    {
     "name": "stdout",
     "output_type": "stream",
     "text": [
      "1 2 3 4 5 6 7 8 9 10 11 12 13\n"
     ]
    }
   ],
   "source": [
    "middle = int(len(l3)/2) + 1   # int(25 / 2) = 12  but the middle of 25 is 13 therefore +1\n",
    "l3[middle]\n",
    "l4 = l3[:middle]\n",
    "print(*l4)"
   ]
  },
  {
   "cell_type": "code",
   "execution_count": 7,
   "metadata": {},
   "outputs": [
    {
     "data": {
      "text/plain": [
       "7"
      ]
     },
     "execution_count": 7,
     "metadata": {},
     "output_type": "execute_result"
    }
   ],
   "source": [
    "middle = int(len(l4)/2)\n",
    "middle\n",
    "l4[middle] "
   ]
  },
  {
   "cell_type": "markdown",
   "metadata": {},
   "source": [
    "In total it took us four steps: \n",
    "1step(100->50)\n",
    "2.step(50->25),\n",
    "3.step(25->12)\n",
    "4.Step(found)\n",
    "\n",
    "With a simple search it would us take 57 steps.\n",
    "\n",
    "With each step of binary search, you cut the number of numbers in half until you found your number."
   ]
  },
  {
   "cell_type": "code",
   "execution_count": 8,
   "metadata": {},
   "outputs": [],
   "source": [
    "#def binary_search(my_list_to_search, item_to_find):\n",
    "    #algo\n",
    "    #return Tru if found otherwise False"
   ]
  },
  {
   "cell_type": "markdown",
   "metadata": {},
   "source": [
    "## Exercise:\n",
    "\n",
    "- Write the simple search algo to find an item in a sorted list.\n",
    "- Now do the same with the binary search algo.\n",
    "\n",
    "- ```simple_search([1,2,....,99,100], 3)  ->true, number of steps```\n",
    "\n",
    "- ```simple_search([1,2,....,99,100], 101)  ->false, number of steps```\n",
    "\n",
    "- ```binary_search([1,2,....,99,100], 3)  ->true, number of steps```\n",
    "\n",
    "- ```binary_search([1,2,....,99,100], 101)  ->false, number of steps```\n",
    "\n",
    "- Compare the number of steps of both algos.\n",
    "\n",
    "- run the binary_search algo for each sorted lists with the following *sizes*: [100, 1_000, 10_000, 100_000, 1_000_000_, 10_000_000]\n",
    "- each list should start with 1\n",
    "- search each list with the last element\n",
    "- save the result in a *results* list for each list sizes\n",
    "\n",
    "plot each your results: \n",
    "- the x-axis will represent your list size\n",
    "- the y-axis will represent your number of steps\n",
    "\n",
    "Result:\n",
    "![](big_o_binary_search.png)\n",
    "\n",
    "data: [(100, 7), (1000, 10), (10000, 14), (100000, 17), (1000000, 20)"
   ]
  },
  {
   "cell_type": "markdown",
   "metadata": {},
   "source": [
    "Binary search will take only 20 steps for 1 millon items in a sequence.\n",
    "In general, for any list of n, binary search will take $log_{2}n$ steps to run in the worst case, whereas simple search will take n steps."
   ]
  },
  {
   "cell_type": "markdown",
   "metadata": {},
   "source": [
    " ## Logarithms \n",
    "\n",
    " $log_{10} 100$ is like asking 'How many times do we have to multiply 10 with itself to get 100?'\n",
    " The answer is: 10 * 10, therefore 2 times. $log_{10} 100 = 2$\n",
    " $10^{2} = 100$\n",
    " * Logs are flips of exponentials. You can also say, the log function is the inverse function of the exponential function.\n",
    " "
   ]
  },
  {
   "cell_type": "markdown",
   "metadata": {},
   "source": [
    "|exponential|log|\n",
    "|:--:|:--:|\n",
    "|$2^{3}=8$|3 = $log_{2}8$|\n",
    "|$2^{4}=16$|4 = $log_{2}16$|\n",
    "|$2^{5}=32$|5 = $log_{2}32$|"
   ]
  },
  {
   "cell_type": "markdown",
   "metadata": {},
   "source": [
    "Therefore, for a list of 32 elements you'd have to check 5 numbers at most.\n",
    "-  Your list of 32 elements can be halved a maximum of 5 times. That would be worse case."
   ]
  },
  {
   "cell_type": "markdown",
   "metadata": {},
   "source": [
    "### Running time\n",
    "\n",
    "IN simple search the maximum number of guesses ia the same as the size of the list. This is called *linear time*. Binary search runs in *logarithmic time*.\n",
    "\n",
    "|simple search|Binary Search|\n",
    "|:--:|:--:|\n",
    "|4.000.000.000 Items ->4.000.000.000 Guesses| 4.000.000.000 Items -> 32 Guesses|\n",
    "|$O(N)$|$O(log N)$|\n"
   ]
  },
  {
   "cell_type": "markdown",
   "metadata": {},
   "source": [
    "- Big O notation tells you how fast an algo is (for worse case)\n",
    "- Big O natation lets you compare the number of operations\n",
    "- $O(N)$, where $N$ is the number of operations."
   ]
  },
  {
   "cell_type": "markdown",
   "metadata": {},
   "source": [
    "## Selection Sort"
   ]
  },
  {
   "cell_type": "code",
   "execution_count": 9,
   "metadata": {},
   "outputs": [
    {
     "data": {
      "text/plain": [
       "2"
      ]
     },
     "execution_count": 9,
     "metadata": {},
     "output_type": "execute_result"
    }
   ],
   "source": [
    "l = [156, 141, 35, 94, 88, 61, 111]\n",
    "\n",
    "def findSmallest(arr):\n",
    "    smallest = arr[0]\n",
    "    smallest_index = 0\n",
    "    for i in range(1, len(arr)):\n",
    "        if arr[i] < smallest:\n",
    "            smallest = arr[i]\n",
    "            smallest_index = i\n",
    "    return smallest_index\n",
    "\n",
    "def selectionSort(arr):\n",
    "    newArr = []\n",
    "    for i in range(len(arr)):\n",
    "        smallest_index = findSmallest(arr)\n",
    "        newArr.append(arr.pop(smallest_index))\n",
    "    return newArr\n",
    "\n",
    "#selectionSort(l)\n",
    "findSmallest(l)\n"
   ]
  },
  {
   "cell_type": "markdown",
   "metadata": {},
   "source": [
    "This takes $O(n * n)$ time or $O(n^{2})$."
   ]
  },
  {
   "cell_type": "markdown",
   "metadata": {},
   "source": [
    "# Recursion\n",
    "\n",
    "Recursion is a coding technique used in many algos. For example in the bubblesort algo, you had to use recursion.\n",
    "\n",
    "A common example to demonstrate recursion is the faculty function: 5! = 1 * 2 * 3 * 4* 5"
   ]
  },
  {
   "cell_type": "code",
   "execution_count": 10,
   "metadata": {},
   "outputs": [
    {
     "data": {
      "text/plain": [
       "120"
      ]
     },
     "execution_count": 10,
     "metadata": {},
     "output_type": "execute_result"
    }
   ],
   "source": [
    "def fac(n):\n",
    "    result = 1\n",
    "    for i in range(1,n+1):\n",
    "        result *= i\n",
    "    return result\n",
    "\n",
    "fac(5)"
   ]
  },
  {
   "cell_type": "code",
   "execution_count": 11,
   "metadata": {},
   "outputs": [
    {
     "data": {
      "text/plain": [
       "120"
      ]
     },
     "execution_count": 11,
     "metadata": {},
     "output_type": "execute_result"
    }
   ],
   "source": [
    "def fac(n):\n",
    "    if n == 1:     # stopping condition ; base case\n",
    "        return 1\n",
    "    else:           # recursive case\n",
    "        result = n * fac(n-1)\n",
    "        return result\n",
    "\n",
    "fac(5)"
   ]
  },
  {
   "cell_type": "markdown",
   "metadata": {},
   "source": [
    "fac(5) ----> 5 * fac(4) --> 5 * ( 4 * fac(3)) --> 5 * ( 4 * ( 3 * fac(2) ) ) -->  5 * ( 4 * ( 3 * ( 2 * fac(1) ) ) )\n",
    "--> 5 * ( 4 * ( 3 * ( 2 * 1 ) ) ) = 5 * 4 * 3 * 2 * 1 = n!"
   ]
  },
  {
   "cell_type": "markdown",
   "metadata": {},
   "source": [
    "### The Stack\n",
    "\n",
    "A stack is like a stack of sticky notes. When you add an element, it gets added to the top of the sticky notes.\n",
    "When you read an item, you only read the topmost item, and it's taken off the stack of sticky notes.\n",
    "\n",
    "A stack works like the sticky notes and is a simple data structure.\n",
    "\n",
    "### The Call Stack\n",
    "The computer uses a stack internally called call stack:\n"
   ]
  },
  {
   "cell_type": "code",
   "execution_count": 12,
   "metadata": {},
   "outputs": [
    {
     "name": "stdout",
     "output_type": "stream",
     "text": [
      "greet2\n",
      "bye\n"
     ]
    }
   ],
   "source": [
    "def greet2(name):\n",
    "    print('greet2')\n",
    "    return 'whatever'\n",
    "\n",
    "def bye():\n",
    "    print('bye')\n",
    "\n",
    "def greet(name):\n",
    "    greet2(name)\n",
    "    bye()\n",
    "\n",
    "greet('hannah')"
   ]
  },
  {
   "cell_type": "markdown",
   "metadata": {},
   "source": [
    " - The variable name 'hannah' is saved in memory\n",
    " - every time you make a funtion call, all values for all variables for that call are stored in memory\n",
    " - after greet2 you make a further function call (bye()); again memory for this call and all associated variables is allocated\n",
    " - after greet2() and bye() is done, the top box is popped off the call stack\n",
    " - When greet2 was called greet() was only *partially completed*\n",
    "\n",
    " When you call a function from within a function , the calling function is paused in a *partially complete state*.\n",
    "\n",
    " ![](call_stack_box.png)"
   ]
  },
  {
   "cell_type": "markdown",
   "metadata": {},
   "source": [
    "fac(3) ----> 3 * fac(2) --> 3 * ( 2* fac(1))) --> 3 * 2 * 1  "
   ]
  },
  {
   "cell_type": "markdown",
   "metadata": {},
   "source": [
    "# Divide and Conquer\n",
    "\n",
    "- D & C is a general technique used for algos\n",
    "\n",
    "Suppose you want to divide a plot of land in:\n",
    "\n",
    "- square\n",
    "- even\n",
    "- big as possible"
   ]
  },
  {
   "cell_type": "code",
   "execution_count": 13,
   "metadata": {},
   "outputs": [
    {
     "data": {
      "text/plain": [
       "8"
      ]
     },
     "execution_count": 13,
     "metadata": {},
     "output_type": "execute_result"
    }
   ],
   "source": [
    "32 % 12"
   ]
  },
  {
   "cell_type": "code",
   "execution_count": 14,
   "metadata": {},
   "outputs": [
    {
     "data": {
      "text/plain": [
       "4"
      ]
     },
     "execution_count": 14,
     "metadata": {},
     "output_type": "execute_result"
    }
   ],
   "source": [
    "12 % 8"
   ]
  },
  {
   "cell_type": "code",
   "execution_count": 15,
   "metadata": {},
   "outputs": [
    {
     "data": {
      "text/plain": [
       "0"
      ]
     },
     "execution_count": 15,
     "metadata": {},
     "output_type": "execute_result"
    }
   ],
   "source": [
    "8 % 4"
   ]
  },
  {
   "cell_type": "code",
   "execution_count": 16,
   "metadata": {},
   "outputs": [
    {
     "data": {
      "text/plain": [
       "'8 4 4'"
      ]
     },
     "execution_count": 16,
     "metadata": {},
     "output_type": "execute_result"
    }
   ],
   "source": [
    "def hcf(a,b):\n",
    "    remainder = a % b\n",
    "    if remainder == 0:\n",
    "        return b\n",
    "    else:\n",
    "        return str(remainder) + ' ' + str(hcf(b, remainder))\n",
    "\n",
    "hcf(32, 12)"
   ]
  },
  {
   "cell_type": "markdown",
   "metadata": {},
   "source": [
    "return hcf(32, 12) --> hcf(12, 8) ---> hcf(8, 4) --> since 8 % 4 == 0 ---> 4"
   ]
  },
  {
   "cell_type": "code",
   "execution_count": 17,
   "metadata": {},
   "outputs": [
    {
     "data": {
      "text/plain": [
       "'40 24 16 8 8'"
      ]
     },
     "execution_count": 17,
     "metadata": {},
     "output_type": "execute_result"
    }
   ],
   "source": [
    "hcf(168, 64)"
   ]
  },
  {
   "cell_type": "markdown",
   "metadata": {},
   "source": [
    "![](divide_conquer.png)"
   ]
  },
  {
   "cell_type": "markdown",
   "metadata": {},
   "source": [
    "## Quicksort\n",
    "\n",
    "- uses an D & C\n",
    "\n",
    "[33, 15, 10]\n",
    "\n",
    "break down this list until you're at the base case.\n",
    "\n",
    "1. pick on element from the list. This element is called pivot. for example 33\n",
    "2. Find the element for smaller than pivot and the elements larger than the pivot\n",
    "\n",
    "smaller: ```[15,10]``` bigger ```[]```\n",
    "\n",
    "This is called partitioning. We have now:\n",
    "\n",
    "- a sub-list of all numbers less than the pivot\n",
    "- the pivot\n",
    "- a sub-list of all numbers greater than pivot\n",
    "\n",
    "If they were sorted we could write: *left list + pivot + right list* "
   ]
  },
  {
   "cell_type": "code",
   "execution_count": 18,
   "metadata": {},
   "outputs": [
    {
     "data": {
      "text/plain": [
       "[10, 15, 33]"
      ]
     },
     "execution_count": 18,
     "metadata": {},
     "output_type": "execute_result"
    }
   ],
   "source": [
    "[10, 15] + [33] + []"
   ]
  },
  {
   "cell_type": "code",
   "execution_count": 19,
   "metadata": {},
   "outputs": [],
   "source": [
    "def quicksort():\n",
    "    pass\n",
    "\n",
    "#quicksort([12, 10]) + [33] + quicksort([])"
   ]
  },
  {
   "cell_type": "code",
   "execution_count": 20,
   "metadata": {},
   "outputs": [
    {
     "name": "stdout",
     "output_type": "stream",
     "text": [
      "6\n",
      "less: [2, 3, 4, 4]\n",
      "pivot:  5\n",
      "greater:[10]\n",
      "4\n",
      "less: [2]\n",
      "pivot:  3\n",
      "greater:[4, 4]\n",
      "1\n",
      "2\n",
      "less: [4]\n",
      "pivot:  4\n",
      "greater:[]\n",
      "1\n",
      "0\n",
      "1\n"
     ]
    },
    {
     "data": {
      "text/plain": [
       "[2, 3, 4, 4, 5, 10]"
      ]
     },
     "execution_count": 20,
     "metadata": {},
     "output_type": "execute_result"
    }
   ],
   "source": [
    "def quicksort(array):\n",
    "    print(len(array))\n",
    "    if len(array) < 2:\n",
    "        return array\n",
    "    else:\n",
    "        pivot = array[1]\n",
    "        less = [ element for element in array[:1] + array[2:] if element <= pivot ]  #why do we need the <=?\n",
    "        greater = [ element for element in array[:1] + array[2:] if element > pivot ]\n",
    "        print(f\"less: {less}\")\n",
    "        print(f\"pivot:  {pivot}\")\n",
    "        print(f\"greater:{greater}\")\n",
    "    return quicksort(less) + [pivot] + quicksort(greater)\n",
    "\n",
    "\n",
    "quicksort([10,5,2,3,4,4])"
   ]
  },
  {
   "cell_type": "markdown",
   "metadata": {},
   "source": [
    "\n",
    "\n",
    "\n",
    "\n",
    "Quicksort : worse case: $O(N^{2})$ average: $O(N * log N)$\n",
    "\n",
    "mergesort: worse case: $O(N * log N)$\n",
    "\n"
   ]
  },
  {
   "cell_type": "code",
   "execution_count": 21,
   "metadata": {},
   "outputs": [
    {
     "data": {
      "image/png": "[encoded data removed]",
      "text/plain": [
       "<Figure size 640x480 with 1 Axes>"
      ]
     },
     "metadata": {},
     "output_type": "display_data"
    }
   ],
   "source": [
    "import matplotlib.pyplot as plt\n",
    "import math\n",
    "\n",
    "def plot(sizes, results):\n",
    "    plt.plot(sizes, results, marker='x')\n",
    "    plt.xlabel('size of list')\n",
    "    plt.ylabel('steps')\n",
    "    plt.legend()\n",
    "    plt.show()\n",
    "\n",
    "sizes = [*range(1, 5)]\n",
    "logN = [math.log(ele) for ele in sizes ]\n",
    "NlogN = [ele * math.log(ele) for ele in sizes ]\n",
    "N = [ele for ele in sizes ]\n",
    "N_square = [ele**2 for ele in sizes]\n",
    "N_exp =  [math.exp(ele) for ele in sizes]\n",
    "N_fac = [fac(ele) for ele in sizes]\n",
    "\n",
    "plt.plot(sizes, logN, label='logN')\n",
    "plt.plot(sizes, N, label='N')\n",
    "plt.plot(sizes, NlogN, label='NlogN')\n",
    "plt.plot(sizes, N_square, label='N_square')\n",
    "plt.plot(sizes, N_exp, label='N_exp')\n",
    "plt.plot(sizes, N_fac, label='N!')\n",
    "plt.xlabel('size of list')\n",
    "plt.ylabel('steps')\n",
    "plt.legend()\n",
    "plt.show()"
   ]
  },
  {
   "cell_type": "markdown",
   "metadata": {},
   "source": [
    "|Array size| logN | N | N log N | N^{2}|\n",
    "|:--:|:--:|:--:|:--:|:--:|\n",
    "|10|0.3s|1s|3.3s|10s\n",
    "|100|0.6s|10 s|66.4s|16.6min\n",
    "|1000|1 s|100s|996|27.7hours"
   ]
  },
  {
   "cell_type": "markdown",
   "metadata": {},
   "source": [
    "Suppose these constants:\n",
    "\n",
    "|Simple Search| binary search|\n",
    "|:--:|:--:|\n",
    "|10ms * N|1sec * log (N)"
   ]
  },
  {
   "cell_type": "markdown",
   "metadata": {},
   "source": [
    "simple search with N = 4Billon --> 10ms * 4Billon = 463 days\n",
    "binary search with N = 4Billon --> 1s * log(4Billons) = 32 seconds"
   ]
  },
  {
   "cell_type": "markdown",
   "metadata": {},
   "source": [
    "\n",
    "Quicksort : worse case: $O(N^{2})$ average: $O(N * log N)$\n",
    "\n",
    "mergesort: worse case: $O(N * log N)$\n",
    "\n",
    "\n",
    "for mergesort and quicksort the constant makes a difference.\n",
    "quicksort hits the average case way more often than the worse case.\n"
   ]
  },
  {
   "cell_type": "markdown",
   "metadata": {},
   "source": [
    "### The traveling salesperson: O(N!)\n",
    "\n",
    "Some people believe it can't be improved.\n",
    "Unsolved problems in computer science.\n",
    "The best we can do is come up with an approximation.\n",
    "\n",
    "#### Exact algorithms (see wikipedia)\n",
    "The most direct solution would be to try all permutations (ordered combinations) and see which one is cheapest (using brute-force search). The running time for this approach lies within a polynomial factor of $O(n!)$, the factorial of the number of cities, so this solution becomes impractical even for only 20 cities.\n",
    "\n",
    "### Non Exact algorithms\n",
    "Modern methods can find solutions for extremely large problems (millions of cities) within a reasonable time which are with a high probability just 2–3% away from the optimal solution.\n",
    "\n",
    "- nearest neighbour (NN) algorithm\n",
    "- The Algorithm of Christofides and Serdyukov"
   ]
  },
  {
   "cell_type": "code",
   "execution_count": 22,
   "metadata": {},
   "outputs": [
    {
     "name": "stdout",
     "output_type": "stream",
     "text": [
      "[1, 2, 3, 4, 5, 6, 7, 8]\n",
      "[] 1 [2, 3, 4, 5, 6, 7, 8]\n",
      "[] 2 [3, 4, 5, 6, 7, 8]\n",
      "[] 3 [4, 5, 6, 7, 8]\n",
      "[] 4 [5, 6, 7, 8]\n",
      "[] 5 [6, 7, 8]\n",
      "[] 6 [7, 8]\n",
      "[] 7 [8]\n"
     ]
    },
    {
     "data": {
      "text/plain": [
       "[1, 2, 3, 4, 5, 6, 7, 8]"
      ]
     },
     "execution_count": 22,
     "metadata": {},
     "output_type": "execute_result"
    }
   ],
   "source": [
    "# Worse-case and Best case scenario of Quicksort\n",
    "\n",
    "def quicksort(array):\n",
    "    if len(array) < 2:\n",
    "        return array\n",
    "    else:\n",
    "        pivot = array[0]\n",
    "        less = [ element for element in array[1:] if element <= pivot ]  #why do we need the <=?\n",
    "        greater = [ element for element in array[1:] if element > pivot ]\n",
    "        print(less, pivot, greater)\n",
    "    return quicksort(less) + [pivot] + quicksort(greater)\n",
    "\n",
    "values = [*range(1,9)]\n",
    "print(values)\n",
    "\n",
    "quicksort(values)"
   ]
  },
  {
   "cell_type": "code",
   "execution_count": 23,
   "metadata": {},
   "outputs": [
    {
     "name": "stdout",
     "output_type": "stream",
     "text": [
      "[1, 2, 3, 4, 5, 6, 7, 8]\n",
      "[1, 2, 3] 4 [5, 6, 7, 8]\n",
      "[1] 2 [3]\n",
      "[5] 6 [7, 8]\n",
      "[] 7 [8]\n"
     ]
    },
    {
     "data": {
      "text/plain": [
       "[1, 2, 3, 4, 5, 6, 7, 8]"
      ]
     },
     "execution_count": 23,
     "metadata": {},
     "output_type": "execute_result"
    }
   ],
   "source": [
    "def quicksort(array):\n",
    "    if len(array) < 2:\n",
    "        return array\n",
    "    else:\n",
    "        if len(array) % 2 == 0:\n",
    "            middle = int((len(array) - 1)/2)\n",
    "        else:\n",
    "            middle = int(len(array) / 2 )\n",
    "        pivot = array[middle]\n",
    "        less = [ element for element in array[:middle] + array[middle +1 :] if element <= pivot ]  #why do we need the <=?\n",
    "        greater = [ element for element in array[:middle] + array[middle + 1:] if element > pivot ]\n",
    "        print(less, pivot, greater)\n",
    "    return quicksort(less) + [pivot] + quicksort(greater)\n",
    "\n",
    "values = [*range(1,9)]\n",
    "print(values)\n",
    "\n",
    "quicksort(values)"
   ]
  },
  {
   "cell_type": "markdown",
   "metadata": {},
   "source": [
    "If you choose always the first element as pivot and you use already a sorted list of 8 Eements, the total height of your callstack beomes 8.\n",
    "\n",
    "You call quicksort 8 times, since you have to go though the whole element of your right sub list. O(N) worst-case\n",
    "\n",
    "If you always picked the middle element as the pivot your call stack height becomes 4. \n",
    "\n",
    "At each step your are splitting your array in half. O(logN) best-case\n"
   ]
  },
  {
   "cell_type": "markdown",
   "metadata": {},
   "source": [
    "\n",
    "For each stack you have to iterate over each element. Therefore, the operation takes O(n) time. \n",
    "\n",
    "You have O(n) on every level of the call stack\n",
    "\n",
    "Worse-case: $O(N) \\cdot O(N) = O(N^{2})$\n",
    "\n",
    "Best-case: $O(log N) \\cdot O(N) = O(N log N)$\n",
    "\n",
    "\n",
    "If you always choose a random element in the list as the pivot, \n",
    "quickort will complete in $O(N log N)$ time on average."
   ]
  },
  {
   "cell_type": "markdown",
   "metadata": {},
   "source": []
  },
  {
   "cell_type": "code",
   "execution_count": 24,
   "metadata": {},
   "outputs": [],
   "source": [
    "from IPython import display\n",
    "import matplotlib.pyplot as plt\n",
    "from matplotlib.animation import FuncAnimation\n",
    "plt.rcParams['animation.ffmpeg_path'] = '/usr/bin/ffmpeg' # sudo install apt ffmpeg\n",
    "\n",
    "def animate_bar(results, interval=100, pivot=None, low=None):\n",
    "    fig = plt.figure(figsize=(8,6))\n",
    "    axes = fig.add_subplot(1,1,1)\n",
    "    axes.set_ylim(0, 10)\n",
    "    \n",
    "\n",
    "    def update(frame):\n",
    "        plt.clf()\n",
    "        indices = [str(i) for i in results[frame]]\n",
    "        barlist = plt.bar(indices, results[frame], color='blue')\n",
    "        if pivot: barlist[pivot[frame]].set_color('r')\n",
    "        if low: barlist[low[frame]].set_color('g')\n",
    "\n",
    "    anim = FuncAnimation(fig, update, frames=range(len(results)), interval=interval, \n",
    "            repeat=False)\n",
    "    video = anim.to_html5_video()\n",
    "    html = display.HTML(video)\n",
    "    display.display(html)\n",
    "    plt.close() \n"
   ]
  },
  {
   "cell_type": "code",
   "execution_count": 25,
   "metadata": {},
   "outputs": [
    {
     "data": {
      "text/html": [
       "<video width=\"800\" height=\"600\" controls autoplay>\n",
       "  <source type=\"video/mp4\" src=\"data:video/mp4;base64,AAAAHGZ0eXBNNFYgAAACAGlzb21pc28yYXZjMQAAAAhmcmVlAABKrG1kYXQAAAKvBgX//6vcRem9\n",
       "5tlIt5Ys2CDZI+7veDI2NCAtIGNvcmUgMTU1IHIyOTE3IDBhODRkOTggLSBILjI2NC9NUEVHLTQg\n",
       "QVZDIGNvZGVjIC0gQ29weWxlZnQgMjAwMy0yMDE4IC0gaHR0cDovL3d3dy52aWRlb2xhbi5vcmcv\n",
       "eDI2NC5odG1sIC0gb3B0aW9uczogY2FiYWM9MSByZWY9MyBkZWJsb2NrPTE6MDowIGFuYWx5c2U9\n",
       "MHgzOjB4MTEzIG1lPWhleCBzdWJtZT03IHBzeT0xIHBzeV9yZD0xLjAwOjAuMDAgbWl4ZWRfcmVm\n",
       "PTEgbWVfcmFuZ2U9MTYgY2hyb21hX21lPTEgdHJlbGxpcz0xIDh4OGRjdD0xIGNxbT0wIGRlYWR6\n",
       "b25lPTIxLDExIGZhc3RfcHNraXA9MSBjaHJvbWFfcXBfb2Zmc2V0PS0yIHRocmVhZHM9MTIgbG9v\n",
       "a2FoZWFkX3RocmVhZHM9MiBzbGljZWRfdGhyZWFkcz0wIG5yPTAgZGVjaW1hdGU9MSBpbnRlcmxh\n",
       "Y2VkPTAgYmx1cmF5X2NvbXBhdD0wIGNvbnN0cmFpbmVkX2ludHJhPTAgYmZyYW1lcz0zIGJfcHly\n",
       "YW1pZD0yIGJfYWRhcHQ9MSBiX2JpYXM9MCBkaXJlY3Q9MSB3ZWlnaHRiPTEgb3Blbl9nb3A9MCB3\n",
       "ZWlnaHRwPTIga2V5aW50PTI1MCBrZXlpbnRfbWluPTEwIHNjZW5lY3V0PTQwIGludHJhX3JlZnJl\n",
       "c2g9MCByY19sb29rYWhlYWQ9NDAgcmM9Y3JmIG1idHJlZT0xIGNyZj0yMy4wIHFjb21wPTAuNjAg\n",
       "cXBtaW49MCBxcG1heD02OSBxcHN0ZXA9NCBpcF9yYXRpbz0xLjQwIGFxPTE6MS4wMACAAAAUQWWI\n",
       "hAAQ//73gb8yy18iuslx+ed9LKzPPOQ8cl2JrrjQAAADAAADAAADACLCsOxfhRzOajoAAAMAB6AB\n",
       "bgGdz/S5eY6PAA2pb7Pg/JyD/PlrPvoWsyxBCqnT7qPezi+M26B0r/xWcVBOcA9TG90ASCxE9gGs\n",
       "2tL2yib3IJv/8br+2o0SFP85/f1syiULMDucDgZqBJ3mDWyY8cjMmy/wnMQULQ4wb23/VwhTJX2u\n",
       "ZlN6zmn+bzam7BjGfw465ARduRaJf02pIqrysPxglRxIddMnzZQYIQbEwNerBRYc/7CrMwrc3Rh4\n",
       "7O3nlR6AE/ASsCARUbSHvCw9HjpdQNNqFUYdjctrMyVnhAMa0B2l4NaWvUJoCJSwM8DPmyK9LQXA\n",
       "t9nJ+asypp5CrThnOduthdEbZFivvRjm2VqzkdC56HgD3t88Eeu+GVsFNx0sQX94hCkHFFihU4ZO\n",
       "INNEyj10gl/F7o8Lq+0NlROt5W+sIESNIYOQvXVX8WAmB2prS49o/xt8/G7fFA/0Otq3AlkiX5fi\n",
       "d4e5isIcBJ444Ke2iWyfYmKfL0KwoWXiQ2DSdw+ug6DiEPU2/okWhgo876oAAjfVa9C3ybfYMM/8\n",
       "x5w9bT2igHzm7N2B4A5Ae8kbnEqhOLPxhtg7VDehAHfuhHctrs/DONJgTwp2lxXAAS7MXTuwKC55\n",
       "m6K9gUFQlhbR2ccLpu+6vDLbb3M0Ac9j5FcoU+MmHWkFnZeR6hODd396wu2ssi2kIVdX2wBBAvKD\n",
       "TlomWpx0s/byOjPIhdhMN2MOYbPkpgBIWVKDe4y3Y0CFWv85n6TPxrx51RtPjurBA3K0MTkpxBwS\n",
       "87PJADHpvzpfSe9lxrJJgYWFybraDpTt9LjUuFlmZm2pHk/Kos1IB61a1xVT3ifoJH/ybvrM2mLk\n",
       "8w+n/4DXofiUY1/ljgQ0B/Zp3fZaMSoC/cJgrG8pQAyvH+59218gugvVgnJAI67Z1eALtQHmQ8ps\n",
       "fBdNceAkQkTQE13OV7zUv/7th95IUrvRi49Vct0+gb8x/rfplXQ05AX0DEXLTi/9PuOE/VNYFcJ+\n",
       "hPFOa43GjxKDAXNYFKZ9ZzjfLvK7fJP8M9IACR/wHlF8JXxOGFRlkAE838yC33edpOOecPAbE+Cn\n",
       "XiDKstzF9DDjTwvvjTg1jp3Ef0f31NIGAsJIGGrWT7tZvYC8A8I2T6wFb3QzUMGosNU/ZHRVxJKY\n",
       "jBUO14GzxBKj5Bszyj0KJwcqVi18+7QzsEMBfUDt1aDuCy8XP8IwIxkEOnHU6bS5sBSeTu5pvIZZ\n",
       "gcLCHA9TlHA497pu4lbacvujuAj8CW2hQ9oykOlWzqzHC35wkPB72B/ZTUdfnetqCi4xtCqDRXv9\n",
       "a3v+hdSQOz98kj86DDSNRS+xiPgyeWbD9Ba4StKRNXHLUG8dsJMnuBREj/M4ZyvXAuezP2IBI2Wd\n",
       "aP8TX9ma5PCK77OMhKu4V+Iq1JjmIq2vLmuQ12JqCt5pf7sU6MfqP4DHI1Is3k6XsAxa/bUmdEgv\n",
       "wRk+QaN86hz/UqFV9qFSrmuYb8hSxcNYfpJL//0TCJ23hjNREhojftYZDqmrhxrRnFoT0ozoeiLc\n",
       "OLmcn7aOwY/tXYoX3AEI65Nz+CD/aJAHFDBwhjbW/sEFV8Q8cIIuRU6ZxqrVot3OEeQyKU0Zutmt\n",
       "RurLf4Qz/Tz3MTfxWaiO8o/Dv27WVV8s1P38DBXvQioU+nDaIsSiB8MpGBwGNm6MH1MGp1xoxbhW\n",
       "dafRym9eRW7eKSO4h2/sFHfAMab4VUo31T+VIJuJwL9nREuCKEwIHx4PdXiuxxj/Xjs8Jw6GFmZ4\n",
       "2kNSnwfBw/f/GdsFnq1vqoZiOMjYvoelCtzJmtWSr2zH0/ZErn5DjSakJwuxfmA/TRPGLnSUq9aV\n",
       "IL9Z9b9p/x8XZcUyT/iaFQictlB9LX21O6X29XtohjnskALzbgbeEFzLYuNEuFF0nAA8rULS9nQ/\n",
       "iIM8A4e+LKonXhsKGu7s3anNOV1yO/IMa3mKkFZo/VbaC9OQi6hQBlW/y8Ap/pVfRH15sT/FYkXd\n",
       "V9jo0+Xu0dozQ4fatya65i+XCKdLAAMN0HL5diNzXy9EsVF0knqjEjNKGXDPY2FvbIe3ZcsJpBdZ\n",
       "98CLX7Yn+EDzwjZpGcLuquXjUnkq0MOqQmS+nHNdwT7i8oydUYP0LsDi/Oil2LVCxRgIUL/q5gdf\n",
       "OUQCatH7MVY95ucTL6jfc5JWB4eMrXS/7Or0hjPXqYMeo6Nu8lAbqk8c7WfdU+POryzpzTPX/5vQ\n",
       "nnsGgVNkhqW2gxln28ey8hZNljYmDCxLrHBDX0OV1Qkxqf7DnZL1QXigNc/oVOBe0vNnOzPQzX4i\n",
       "6/Yr/6T6z2NEGFeUgDIojSWtXWCllnnt99nXGEKYEUJBS6uAh9U+mKEj1pHLyv+JGLSmYUTXxWD+\n",
       "8gn+2MAYc1ZB55fKjZDuq4uOFEUCkGgUeAq47HZOot3CG5AxCBJ8Mk+mWWmNIcdoQWAq/+LEuJxb\n",
       "VkvW1mvgT/nCucs6myUxmAqFiFCowXBjrkkeLxNWNFiJCJXnKOpc4a5IX77gBcmKTbHt1R5CND1B\n",
       "J6P7e7l0fGXUqZTcXWVUSS4ozNY1tCx0sVzDq93nkr53py8WwBe26hdlUEJRVo96f8vsYh9UzrJA\n",
       "tjrVKFgUYBj0D8l2wL0jOtjiV7HKIHxbAnDTZtL/f/kVEUdkyGFWz14NkNeHuf5BKzQIIW20B2ne\n",
       "OSC0vpIC8KIXWyGGkZ29ovw70Q/8NvG+S7iepsRgFSiaYQbU1NHW0qHTNQGGY2r2sBA6ID9xlhSc\n",
       "XZpnQCQ5bFAujiu5+I3r3RUwbplAobQ2DxHTU3UQxAk6+eTYHADWd3CRRkwOHDAM33qTueN7J8gS\n",
       "RNV4NBPMcfOw/ANTr1nsH4VLhDntzHw97D+B9fvkrOX57AGNrQ9q2qcbeMTZczNIrZi8k/zY6LV6\n",
       "5ApXTUOdUqQUZ1g7fMrGwO9pazfuhSbQaewNHzlrCHAxe5LZLlyzWiS+wDVe5dc3VXIwAYVEk+8i\n",
       "9C3mQRc6M5LjA4/zs547xQsYNHDyBEhIlcxJlCpVW99qQ+TtTF3GApefw381bgnNyFYP/xkukYKp\n",
       "5576O1sLh8J2IZaSbaej1z+BKkd2Qc9l7xZaOsDcgI7gxu5jc1ftlbH38cHGqDJZPZPSWoQmwoo3\n",
       "TQJcaUILadc8My3sHZmgLc94e9MdQQDvQWiMcxcwZMmjZqTHZFAmN5kVp+tJJp7LvIlYbr6LOsHz\n",
       "uoeYu3aMa+2zuda8AJhVA//Rre6Cn0eSALGPOnLJxyE7bBZ5xLnhVj15CCe9aAnn6UNcV2HIQc/r\n",
       "LpFjlMv9eqTD0+Z+HhZqourC0j8GOI++v+TtHYEAyNxTQlHxsP+Z6tPiuhinUJ9HVzC0xiEtw/FA\n",
       "/Xip3qEf+bw0nukKwHDidltqoN0lvGxHsgJ5BkEWg6JdNSlbZt5rOpDV+ny5Of5TWglBC/urPetT\n",
       "4l9LszJqSYzPJ22F/6Sp1LYcvKP4rmZVVaAbZqb03Y4HPamd9mqO+9idb/FauFmJdAJsrawDOz7f\n",
       "cK4r9YxdZu0vrvCjkOWILtwgv9VOgwV8xR9MbtDalcg8xxjA1QBHEa4exkoDJbvtK0T2rFN70ndM\n",
       "KZoATKS9qlunfIhDFrE0+pMWf8jvd+aa03ExN0YDnwRtkygXMgzEfNNekiV8M9ckELHbNbE3Rqph\n",
       "AHaV789gZ6zVgXG7SI8MKuQkYBgyd23VTRLTC/S0k8jb5YC3eIvjvLu9J3Tk+5RPEsC8D1VOh5bs\n",
       "kH4BDmSkkVjh4hTvDy4bZk/LUO1kCQQCIlqH5nwI4S0dxpq/c1OFSQL9yzTUbXjDomWXT/qdhNA4\n",
       "FiVF38OKZRiGoHJYyfmSmQ42akDd9rBbY12vJWAPK/XRH977o9qvLd5d3pO8zK5ajavL5wt8wBi1\n",
       "iafU2F/Rwa96zk/wJNkFLLyJK1Ei/ZKPJWtCPPFZdoGvsz8AhnZJf296aUOcmO6WfM5b3Ft8X8uB\n",
       "kIxDK9Rwnem0R+FE2L0d+2gL9eMDrreV1dOce/8UwdBJ+9ARjUdk/p39OQV1nVi5079TFqw6q5ir\n",
       "GQ/Do3kchgEaZnLN/Vb3GcTr+iVuS500UAkp07CByyu0eCIs6JThtSHkJvoRTJAuEuqFp8ANKt6j\n",
       "MTtZRArrv9Mow9ceOVuHr1zKuEn23sPV+T9TY2+FYudO/UxSaYuBqxyQ/Dsf2Am3lmpviNyojis5\n",
       "/USbMO1PfbKY/kdZqTy679NSAknOMnLxPhAiKKBnOS6UChPBMSHUkTVbezyUYjcCuwd8yc2/fxD3\n",
       "dKxfnuUL0wDX37g+3P8P4tw7GdTgvuXHudeGuID2P8SbkRB+bJ5C929d3f0ipg+sr7T5kKA84su/\n",
       "dz53UmKxefeXXvVmy5nzPvvcRIDf6eV6KXW+YJqfFZssGy5Wyr2sbvtI2tLF+e5QvS9xqp8lhDH4\n",
       "KTHMnUzPyqfALc4KCshx0aBSJnB+0V+w1cAAn8pOrDvE34+YzYarxu4/EnilE/7RA18MfyIhxixx\n",
       "3UXNlHJ54NBYpu4MNK+JlRx8Q2p3/bTj8Zr8K+Y4BLgL+pfnhU2tlajmWSBhZRX5TkVbs3MnEbyD\n",
       "5uLeq0hWkTD22rSnKwWV5b2rKwSpx1A271LutXwR/x8yeoA9eG7onKD8Gj+tiHsHPAHRZVWvqGcH\n",
       "T7uR0mwo/YDEk1/Egj+TOrPOEIgvAengevUVbQ1P/HX5kKFUuTASdHD7HN1S/l9I2ZKfdl/YF7c5\n",
       "u1uhGuAgZCeSRoxzgZkUPrym+SlQ//o0t+jeZi95MvDtx/7M/Ng21APkUypWUWA22fBx6QDq3nFd\n",
       "kjC3WiQRacbBRC5NVxjqR5/g/Oe444lBYmL2BcJC34VmWuX44o4GffCPEJvkpUP/6Jex0m/B2V2M\n",
       "JKn4ymGzw4/A59APn3GHgrhZsEPjOyQ2B5vNrVXw8yVSGZzW4K0vj2Pbgmzklao/HpIUZf9UqXMl\n",
       "3ljThve/NA47EW5hLWlgMphsvI7hct9ygnq7GccPGXnXo1exYQvaQvP86umlTqmtuQCd6qsdpMKQ\n",
       "BvAn8MgJ/dv+xW/YsCb4ICnHqGDCWvXviLF6bepZCrXipkl5O5f18rmvlnx3Q0XtmuGKksl+KOwj\n",
       "Xq0tg5FCFsOcx5lo9EveUkc46CH1AbwmZ2OCHkPlXXuukAU/hrWAiMnjhDsg1A3vZL8sr6P0/OFi\n",
       "LbpeSE1h+9APklG7rhkTW7X0HyaaxgDR2t2Fv2LRkdQcwOSJ55nfXL/BvnFz1O1k2mMSV9W7PHj/\n",
       "VrZ9IOUQu1L1MwPUYQNR4PqaAlzvUZbjC/oP0r3CPTOvYj8bRFTPn0SIyN9cL7rOVdijWieGEaFl\n",
       "8rfm09YC27NcbZ12X6XTW/mrdZSIbZ2t8OTE50KBBq+CA7VjDITjE1q4NyGHElpSKnwnqHa0gcxN\n",
       "k4o7QRc2gdQwAngBrBviMwKouXhi4tvnT+Teew2xrmWsoiEhAzfHecnQGhCZ9aAEDqKbgHUV8t2T\n",
       "u/ItanHm/Gu57vc4PSoIK/3SwuFXuR/Azn9EmiPu0y/t6ZCrWr5Ax2RMh37rUsQXz1072Ig5uThj\n",
       "4tJehN3ZJaqdwkHX0OKYct9+ZFmSJxR3Ey36YdQwAngBq/o8decj6GcK33eKCNq8ZPI2MNikKGY8\n",
       "dcSitTH9jEkfRdVXaq5UcYOiSCmNuJ2odMFtVuYxAlUf/3p1NrD1w/1bpyvlFAO117zVw7zeOyDT\n",
       "vSINAjJQglvY7fgpmi51uzi7CC/E1PHEi9MfVlUN+aGehAl7FXSGKIuIM/nh8GaW10tpJ3J6sJ6o\n",
       "OYGqENkw/41hqgJCSSGdS7nF1JA1mzppagqjelof2fQ8o/Ba6mQOVVKB69JtXqWkK2p6nSsyJC0T\n",
       "vzorYtrqTZ/RjnwdSTZKbexnpZH/woNzXUZWsysTc/QakY+ITZnoRjZB4plJfS+xGyCLmsUg9Gdx\n",
       "4kS9+4I9/0WPdoFL6T72a8fUZR58BQPzQZ7YVlwwFdCrHjGtaNtog7A6RiEwiSDUor1TXKJLHLIe\n",
       "WW7EkXHxUr3AvmlwmFEALgVqNEiz5bv7ac0Rt9Kolef6sQLx1ZZ+NWPo+XPaq7+YKIlhgd7toOfS\n",
       "4iTN3Gwz3evnQVd//PBlztSKqMi0L1viX5R5e+zi9m8unCLqs3OosvxdjHV7kYwL8yWHK9MERxvL\n",
       "oC6OKN+w0PsEIlBn98mwoB9KbgurDRHdclD7s9HpV9rZ11pnw1TRTn7xGLL5xNsGz4v66gwu/rLN\n",
       "f+1XeXOzySNmXzPNbWeX/BJGZrT3Sil5PKcranSeLW//ImloOkhZXYbLpDcoR22mozTlVVdATyOA\n",
       "bcCu/1stR23KVisOAyKBr9WMP/KB55fe/h8L2xXfpT5ScEweJTrvWQq2RGlPHBzmdtmM1EEvaI/Y\n",
       "Dz6+QoPqdGGAaYcieNVOxiK56QRYocdcesZEBThVqJjtZP1lFc2okEq4NCjdhIUHN+sqDa78QSD2\n",
       "1o8hrX4S2CECBVyG/jybMWB/SDevN/K9PG4MSkuytGX76cOL3DuzHHNcuuiWV3tcd//vn/Z9CNzM\n",
       "1kXeBf3RS/6JZxE/XyEaZ8GKGf4vx7wItd1ZBTR3Pkw1mUUQ+Uku/HVKt7AMB9C5SpwyxoQobnf5\n",
       "LmTMeHSvis5jqBU0Dgfw1wiCqQ/iPKCS0FT2N8VHkqTKVjri0ZcMfQe3+j+B4BOfnMaIy05IEZJh\n",
       "rlAKEg0BxeTH75H8xXKcrb9JcOaKX7MIkD2ypI/KMStEO3f/stEGbfkYEX+t4FRzq0zuYhFmv34U\n",
       "L2Og3k/+U57TmlodimqEFJORzGZfHcZG/dQViY0QolcBQ3obSJ6I3YvIHP7ldeAAAAMAAmsAAAPp\n",
       "QZojbEP//qmWAADk+6Ucz9PJP4JDwAHStp0UiEYLYJUeHSvDHo0kPcNVsvEHdUUF1QQeu+rYpBu5\n",
       "IM5IPxCNvLjXQw0yERlJu9X4QWp5Giyxl8LK81SBAmprW1KG41cNxkB7OxH1Ph9jysFyrXQpt97V\n",
       "NeVdilsWjVxjCwRLtvw0MTBn4Bu5F0K8cMO9BRWAjS2o97bY6zSEKqcx14nubv06j+cb17r9YXVl\n",
       "wAzcGOBgbOs4WENyUoZ56O4mYiShKqKZM20gCMhmHCrVs8brqOQlhGOgkCt6kazx5Kb9BZCh+Bd2\n",
       "kD+C/AnVBP8AE7iUILwQYc5AocrCKN62tR3gbbuCJ2azJRsbm+XUWhgOq+3WGPy2cRwyanc9DeCv\n",
       "ncv/z/gHgZEIxmlilEHy5U6tbohxSfY0UIF55HfMSD4URcvUDzyfFQpSvn1pyqBpkoZMAEN7O2Df\n",
       "6Z0JIYcOjH7OiWHgG00LpD1kFtYImqWE1XpUMJ31ZkYyRIezWeOQhOxPmWsf821/Bi/D73lbflCP\n",
       "hgMxVNIm2KIPf7OE3hKfSHVKHd6wRPwV/MVpQXhOLOtNswPS4zNZJMj2CAsuDfEv4iCNmN0p2pFk\n",
       "/ADFg8QeDIigTkauWgqVSgU4cDlriAs1X70s+skfGWpdiYoV/tObsiPGyl42VMTLX+9KXnv4ss3A\n",
       "XuFFtIdkvocAP90dbs/BJOxcdBgzOHCk/+vdOzJDV66nUIsh9wNS/7BB9BrKXbfyTq70ScrGZKeo\n",
       "N1bYgzIaRR/gqrlHYvcHnzy68m/hnsfjzl6midI8sk1GcLMPo/X1vAZmm9clh6dE0UTYwf2xDg3I\n",
       "qrICL5OpJMqSO+E5qTNLTfqkMuoAuh8RtTJyacPvr0vKR9aoFt/ABz6PpfmMPPn0LwrOhCy27I0t\n",
       "NRoBaLD5Ps56hkwYoTxfTBPuoTxmPXNhAUUvefkwpzFpum/jVHPlPOuIqJjjDyhyHK2qrDmrw8zp\n",
       "bdu8KoUD8WazNJrpVdWSlSgNy7bTjGFLKx+SlSB4xFHWYWG5oz37w6jpXRwqNwt5mQMg7/+0T5AY\n",
       "zoZnkfqtLb6DYcL7KEcJNvwsgWQ2CH8OFLyRw4bNbzmEZ0BgsImvFetfkLtbX4wpQi7dyI7M25C4\n",
       "nTLHTMkoMqJBQfliC1vtlvPGhl13IoRVKMll4ahqnFgesXEtQPmkezL9n0kuO1ii19088ydRrk0P\n",
       "rCr8Hgm3GG7+4eiYJtnQsIs6YUlYykxUlU8gnp+mwZvQ8oMAeAMQJimvuGSKfQmk892FA/lLGV80\n",
       "+DSNySW6kKv9C4FQLcyP6VQmU0h6K46FAoWd8kHSIuEAAABsQZ5BeIb/AACjxJTT107wNDaNI4PG\n",
       "hPGjc3j2Wl/2xjXlKAU1T3yjfV2eqsYi8PKly363r2wz8oc3SPyLGvMUy+tpps8UoCL1juvgZlnL\n",
       "gAZhQZLuIfMd54ERG2KKLjJ4FSNyfs1vN59CUAWVAAAAegGeYmpDfwAAo7z5HOejSERE2xl5tnsv\n",
       "Ok8ymAkAAdEiocRj9yLBlEPz4R9my2id20EamRg6JkOFdVnA8yVY7wwzJemj+7xEuBIaJ/wf+7CA\n",
       "HAgu6h6mQ20eZveVeBhE4+NYUfpSFdrvKG5Vjk9mv569maQZiJ8ZF8e1AAABXEGaZEmoQWiZTAgh\n",
       "//6qVQAAEZ+aAh1fWN/4I6+AUG85Kle7aCmxf+flzCqHOrdOSAKozWf5+2IDRxBOFiX3ZnaICpFA\n",
       "WTCSFNoAfQum4a5shbAwnTfhCvZeEvtQk7PWezT2k86e611OYgSbaUWK91KcrqPKsilfaCkAIAsF\n",
       "YanOFsG0HppS1UnOAPayzk1nwcd9MzWR6TxruECt5skHDtzo4Ea5RSuu1V9Q/vSrCICbNfyHzL6C\n",
       "AxEeDzD+2DQPswMqhiJVl+uF4ido1bvrGvl+PL+7Jiqf0utwEAlK8By6TOXN+7aAfbf5L9ULvAVK\n",
       "CKn7hmjzGRmaQnocraXsd5lU92r/d6luN96eBOfvKkerySfuGHVWrZXbdaCtmmzSsxw/9JR10Mtq\n",
       "0pLX5pcQBSXMXpHdqa4Qn+k2QycwQg3FknARCeYhBvQ5PBSp2h+tWCaM8s/+PMYZi1iywQAAATZB\n",
       "moVJ4QpSZTAgh//+qlUAAAMD6+9TJf1VaNkZvvWqCoRLtZOao+6h5Cw3B+E3wC5bLkmAzqXpiJWC\n",
       "i9jVi3c3S7sgjWeACNeiiSNOSrHyUmPRy51g3FLtXbl/eAagbDJ0R/mjqyBnQorgkAKYe3KIou5k\n",
       "jpF81WlwvKqPhGJb41cwNbxtmg33YOYgre2QGdgtCVBwAOxPGe1y6rSzmgmlNjWgAUGAUkNK5CRM\n",
       "aHBfmAsJvpN4HRHmyUtA470Y02RLG5OYhwi19qRC3TRCfBAPtbG0Jb+AP/cfpwPXoauvLACsGilJ\n",
       "+9dqhjp+cXpKWC1MaJp01MvI4vFcDLjNu5beSjl5ssAn3pABqABBDx2YP3nlzzkmqQrrfwPGrvId\n",
       "entPU0Kx8w4JQ5AhFXoiCrF7sl5IdTK3AAAC5UGaqEnhDomUwIIf/qpVAAA2nvUrJX1jf+COvgCM\n",
       "rhOID1KC2Q6F4U2Gbm/Uf6NK9POrDWjEQoSmIY3nd7YDb1f4v8VGV2++kJFKUzwLzd86YGdp2VVP\n",
       "ThoStLPe+cscOpb4RahP917J/y1uOEVIz3QzC4F8G25iKvZMXT/ETOYaKp3OeE5iXeh+0LUxWMLI\n",
       "Iv46vJ3SgRU+XefMNMiz8Tes/0e2uYHqmgUs81ima/T/0hwF+D7NwqPN6elQYXx0o+iP337FmOvC\n",
       "1CxexPkChbpTQRZf7Is/jYAAP1k4C/Lsmdz4WW/qK/pw9/E5KGxZMBbjVYwTUxxqT/zVS+/4w0zi\n",
       "xBLI3ZFST1QIIoBmuGT0dS5ql+9ZIpBuLZ1dFnMKuFrZuVq9VXoZ1uXYuMTYTVNH2GvEuWYCotkd\n",
       "HdFxad3pNP0O6GpXkrNUkods9bat7fCIHBL7KvoCa7b7TbyUr2z0ar9Tk4+jXf6rxn4jKVGdoa+T\n",
       "boof6siRXGGZCGVHgpMFO3lC6xrY+KsE9xe3ttmgwS9vNB/Hc/m7g1kUFIFVeMOGHme4jVJ6Yn4e\n",
       "mVLaiN4i68rSzggeqR2dULLXaVrLxSbq3ww1vrlp+F64X32ohcUE80RnYO2Tazy6YYlBsjJ1Z+8z\n",
       "bEjsly700M8Wz051EFthoSPkPQq7+Fa3/00fezOd4v1HW5kJscuxNl8BRzZVY7TlYSkG8DRZbdMc\n",
       "oYWF3E6fKzLugGooza2Fpul1YqHWirh7Ha9zTkjvNW2g9D1NgMGBc9A7vQYii+YyFPgHeRBn5363\n",
       "QVA45i+gIrRHkl9XZnpjYzC7Pu+iSgi0ceDMhkIiuScfQoIpEl+YYeJFT6inSNzvUbeiolDacyMP\n",
       "yWhU3I9zvhmJpkR0caYHYoQG2jshhhN70UpF5JQusNdn5h58rnzqrYjj2N4T7bKgG0U1tjuq9j3i\n",
       "GyEWDCaMHI+s95j4KOouym2SXjO4A/cB6P1OgQAAAJNBnsZFETw3/wAAltegHOejSEQ78LNV5kkc\n",
       "/AfGJau+bld6Vtwt1tRKz2GJKg8NdjuiooIdNz+pJl8iOmkzwOU7PHs7ExgAz92ZagOQFIEhJSZT\n",
       "FVfOXNwfCkMHoZc4fU9392+mZdpQkgal5w/nA5jRwbGvx2tYy8l+MheOmro67dsHN9t7ORppw8Ex\n",
       "b88L9EasAYsAAABGAZ7nakN/AACW16Ac56NIRDvws1O0GeLL8JObuhwACrhKHU8JVNjyWQwS4nRv\n",
       "HyxZrt5dhUAF1SuktvPs+iFtxGmpNCAK2AAAAuBBmutJqEFomUwIf//+qZYAAMZ7pRzP0rD0IAVv\n",
       "0eRc3ZHa/PXHx+0M3XAnuGq2ivv9ORAOPca2QCkYZjMXHt4yv/Pi18CeETdpZ4nW8sRzLIR5k6un\n",
       "2DT9so8nMrp4Sq14aEIZntojPcrVdC13E3RIZh5TKh/RRAMh95HeNy3sJT2SNsPqA4rUCB71gXcJ\n",
       "C7223PhBsgo5xDaV3DCdpHo76lKuml5X/JVB25w71zTu9jaMpNmeyNqsoDwqV+AzeQ6KiZ9nU27t\n",
       "7SOasBVu1jIzZifWe0cbgC8Z18v/y//Pq7v3IeTD2eelnvyeMSbm4fqct3WRfnVq1z3EQPEhyhC3\n",
       "Tk3jhkHNzetxRJceaFdRk1U9gmn24h9afpkR7N57g+132kBDGTP6NZ1qXpfhDBuiYbZVts9yByGQ\n",
       "3Ca2sWe5A/WVyCVjBzLwvxSHbPmDmUVvOcsDaP9xAkjlqcwMh1up5W0HXo/wogsnxng3Fm0wlbzA\n",
       "2p/HUc8p5VVMIrwAJRAb24VSUX2YDR1wdwPp5Us3PrKG/drYTZSGGTlqrTxS/pjeIJE+fR1wH2WY\n",
       "LeRDqoIXpisQU+ia7XmT3WUCf49nal2YDHJBojHkJRRhAA9QWBGIhUz7wE+6dHZqUCMi1m5dNDZd\n",
       "PKwVh5/G7va70oILTI+fb/6AebBUJStyRCdmVZmkdXFGhOiHMou3EXxqmjEqyj/OEMaD8UmkA8Qu\n",
       "0f75YdrZH1pSvV4da+cE5+eU1fRAtmbgBYSFzLc/79HFVSq/GJ+2XSkRRueZQgyY2vuOzA4ePw4M\n",
       "r5Kk59xzml27HYWtytD/YP3Dt0aw/ZclYntO6JSS2kSvPvoYVRT02imgVkwZvGMCp5YvLwlwWF9x\n",
       "nKXWXpFdQzePYxBepaMNFRoPi0VSguQBoQPWc49BA6/fopBqXy6ZbN4g4U78ajLGj/MAQMAEPP0G\n",
       "yCXDUTeWgy4JNmTaXPVrovDDzwFLifmAAAAA5kGfCUURLDf/AACK16Ac56NIRETbGXm2ey86TzKX\n",
       "GibTlzfSaTFedHf+p5ToVJoDuLaLOTTMgZLYWTBNLIn+CG2+bH5lWT4b/ufPKKP1FP/SjpE3uGvx\n",
       "NXdvusFspQVBHaCppT5ME8YfUMezShyR+m5yxPWA22WpIsOMCDvhmdcCVEkCVAxz8gTA2I1/9qHo\n",
       "Ac78pwCe3/OHijGYIdZj9f0/Yae88jII5KKOR5x4XqMftXKgf7mEgsWIj6/F/Acfw0kQRfQS2SNc\n",
       "6OaMM9Kbt2KfW52uEx83cqu491RnrdHhC/UpAAxpAAAAggGfKmpDfwAAitegHOejSEQ78LNTtBq+\n",
       "TTR8yaOyo9G1kqgu+u8B9WbIPWgtOBC+Tn+EiPeBrZNm67XJCaoj9AqHaLPKaIsWl2PM0TD2SBtp\n",
       "qWkllL9EnflBRyKUcEiZ4KADgethF18wWiK16lQyjnsf9PX3XSzcTgxDpz8PMMSAMqAAAAGvQZss\n",
       "SahBbJlMCH///qmWAAA6nulHM/TyT+CQ8ACg3ZXnhFw9VwGP5JiLSkPhr8fvqsdcCeBcyjs0XhFR\n",
       "Gv7Nn7if91x12miWsHmhpn/fb6bogCjGjS3iD/bmOkhJOzv4JyZUAr/MwhhSs4MQJ4hnafU1wmMM\n",
       "sJCOCwdeKZ6oSE8ju6aFnaD4jaK3aEi7isEVWf/42qqnIPJFje5MI4iToZNktP/NQmnMaJSqxP9e\n",
       "dnLNAiqOxQjDRUyDV4Bz/uOyyj/d79DGkFinlh1KTHdrLAN7EK6cjIOShkZzORqKyQfLdQStdy7p\n",
       "RdO3pQPXT75UpVpMK1u9onwu9Jx9h2ns1077PnMXnrGIz62x3DQaqdZdcMReX/JU1u+sCfhnnEev\n",
       "MPx3NkynAqp4upl1CLSt1CEQ5MII5hMN+ZTKrR4gotKYPrXrGOXLTDJn0Mt+qH3cAjhT+d3FNsAF\n",
       "qjNdoism4pVwAN982jszEiqhf9xQf9m/7z7sevR7XnOFmRUf80naa1Ij+ZbRduNa1sEsiLzaKif7\n",
       "48lXZ50ujfMX0dNl8xCbOSP1S6LoEssghAAlvncAAAE8QZtNSeEKUmUwIf/+qZYAAATH5iXEczTJ\n",
       "EDwDGo4pFLHAzjYABFpKmPTn+3lu3qQHvPhselsa5PcMQjAxIGdMCbbYX3oxyskN5nSI/raL32uT\n",
       "NZgvlyZZAiEWSFSiqvJJHvl1RIxXvsghMUyGpM8XOH/Avfbb/69ciJnJTazghmd9aft6br5pdke9\n",
       "Y50CgNzSW8+GrNIW7esjrF55o6L2raATupKtkKaZyRZ0FtoHsRRndTBqXvmadwz/9zPhbhbp8E9H\n",
       "6phoWP3izZePovbG4sVXSHam+SkvbjnuMVPhLh86zwQkjPeaP/LtJsVm1wL7Fe4fZHPp8qhfbpXp\n",
       "Ac+0kPHtCLAFS4baOjBZGFzSh91IieWauJRp0BfQHYr3KO0jvO6Qm4FGfyFCVXYML/+LxTNKTjMg\n",
       "i5v4OS1uTQAAAbVBm25J4Q6JlMCCH/6qVQAAAwAar3qVbEp9K/h5mAANVj2WBCs3dr9S5/rrdCL0\n",
       "KH9v/rZxdJK42irQiAzjV+AtZjifVd8nsdX3CvgsHrpsIbGsb77rtKgaoMNbrkF+Y8nIgvj+i+6t\n",
       "eSpJ/vyozTl4vmFsqCjZBEKHgfq4w74BHyqf/H4FjitRDVuNzyJjADAlyf/HIsjwCQzK2f5mW3iX\n",
       "GwRw9KnJphsCXH4ggJRPgC9wdmYW2sfZqXkwnVZQ3VgsqhrH8U+IJesQjFHlQbpJpDLl4rjdP/vl\n",
       "55rm5OkXXgeeH/8m6YcB2DKrcQNIloZh3mkhO2BajvIaKwOiD4etfVws8UcPECKOrH1qthYs+uXH\n",
       "iIlvFCrAHMdcgfurEsUaBY3Dm7dVQCJy4YKXrJGt6SZ7UldWl5qZUukLi7oPSppWfXKnw6lVxijc\n",
       "u7dPrWL7hCnS/bL6OPJvNH4XPlLtS9Lnyf6gsrF1TFLsTLQPPJLjf4YuyIhPuF7L+jUj8urgMoYn\n",
       "LlbRbJCN0+3hKZwkZFbugCtkfvFVhZQEtK03ZuC6yyQKd1yCglLdOsS0jDpLekYS8QAAAz9Bm5BJ\n",
       "4Q8mUwURPD///qmWAAC3/Ctrw9PJP4JDwAKDaySuct6a8+pTv84cbKQZ0w9w1W0V9/KMnlSAc9e6\n",
       "g5yVgp46ovOu6Ua4dLG3ZoipZITrFr0JPNyICvNXjInmrc4VRgFEHEQT1NNnrQ1cB4wVWe9IKjhm\n",
       "TjyH+JY2tLslwuS/bfVtHcq9FhhTENtDyYyPmZ6WAZZ/8PPGVKWHg/sKWnGz7e9YxVf/kUKMat/m\n",
       "DZvDRfsU2MY37v4dwjn+eVrRQCvIZAFIG/Xj/J9dk14UnSq1K3wwCdm54/0vFqrwWkQUYT+5xsQj\n",
       "YZr18nLP8yoqoDE0rhVXatshVmynkKQHNr5ssJqsnbhIGtydlw2Tkn+RDdy24C3YCIziMw8FFbFR\n",
       "+SXsZPnh3w9oSXN5mP70iD8PoKVXhngO/YGk1bKrm+/1yO3qNJeMWnSSW4mq9/GfiFP09Vd7xMgi\n",
       "wqC+bohDlIIdqU1iUEE4dfPX2qLjKk8c+hEBNyLPY8C0MgFeaKAvoiAsXL2aIEzFtIIL444EbTrb\n",
       "AXLWmEv5nF5aJvynCuPH5kC43yxBBCAHSyT140vFkSGIIfjLsdKVmMMn8KPq6xTMbjA3TmEFuyuh\n",
       "pWa47plxLozV7FV188E6EiTDFJ6xpJfKPOon3RnRa6s8EGH3I7xNEFFr0r3R6UiqLjG70Y30K2uT\n",
       "ebvLbXBGF5DLckjcewhHrLpfRmcZMYXp/0vU0sCrV/3gFbxpwX0pD6VAqWTLOXxRBjdEFRPB4136\n",
       "2Y7h9CFGz/bqiChaUcLRmIh+Ik+deJ9eL273XQixEGtqD8CkVv8p/VaEqMwd0gxAkeVMq/EuJ8eA\n",
       "6F9/UHQNeeftfEx+o91CkRvQzvTKw4zuNWCv4tzn5pp+c7Znvgastx6qEPz9ri7eY13bNclhhZDT\n",
       "QDjzSvZdYB3ZuirgW9mKnLsbQaCBvbecNzVsY3HGFhPeUtKbWJ2CAJpUiX7AlafkFdywQia/+f5d\n",
       "UJpb91rdGLt//mSXxU2s9RdIpltWTU6FpqPk5UjUPQUuCHmtl0PQ6tbnwbkr+qWHfOqLnEXBbYif\n",
       "2B+3tTNTGlmBNwgIOOFch3G2hWqKFFKAxpSQDukAAABNAZ+vakN/AAB/ChAc56NIRDvws1O0EfHP\n",
       "WEP5Yy3YGttmxod3ESqUghvHU48aXluPaidaCFZwW2NAWVM+sbRWDXUmrASCBBQL6bthAR8AAAHa\n",
       "QZuxSeEPJlMCH//+qZYAADae6Ucz9PJP4JDwANwhkf/0XeXZ2Oes/kFdPRpIe4araK/I3yJHtUQC\n",
       "sAZVWsLkmko4utyddjfCRpSYWNVGK/EbvKqrZwOqc2jzHfPTXDmNYWjl+d0PdHaLf+enSTaxbjyg\n",
       "rMaB226167UXjOVxWkGrr0UhF8GXVkKpbqmll6JNWbJf82U9g6HCEO1a72UjiKTH5iY9W5BOMTEQ\n",
       "SV9BBCxpud21+nPipnwYGvy3x85KafU3kpAi9Zd5tDC4RpFi+8T9AXzx4azYpNWQ2bPGkibazJEk\n",
       "2Vq5KjHpjK9NrOYTo0NDPuYI2AKq+xvT/YMM0LRYp/zrI98TaN3ipYMGZLY848Y5gpeN0WWuoeGx\n",
       "uBnppgH+5GSc8PUdGKwkiFgBSmgzt+I6zTa9rPwAutRobIxtY3UjLy90EZD8StMQAGaHBKGfWl+K\n",
       "sMmNd1R1qmtMvyeQgfSwmnFrpJ6qxpLuyX0M/T63xw1qA0Q3ix0IAsAxsQPfLTi6hUHW0ERAxtee\n",
       "t9fEe8Xk/anSrnzIYjVM4SR5VjmfnZJe4sWgHwviRmE2WcLLkJeVkZfybos2G/jcSbkc9nxEDpVT\n",
       "l3hBusMb+boQue0ZvGj/7AHXAAABUEGb0knhDyZTAh///qmWAAAtwLOzXYUfdI2ZcLoP0JtmN06N\n",
       "S5/3RJV0uB3lvNWfK7B7p5HKdklTHpz/FqNoZzIYvCtZItnFpiV9ZZoqcWc+68O2Pb3Yh4v5WfRX\n",
       "ya/OVju7lBaQpX/6nwAC0e2zD72ay3EnqSmjIL0e0HIc9Orts18H8hAyL2OTLYtWnkLmUV6NYHZ6\n",
       "FL1q4ByYV92TLyQuo7+ACRimUC6Wr9U50H9QVB0lKiRz0a9HQns8SOdL44tfO/hWBoYKNcSDmyhD\n",
       "1hUCrGPU0AfNncPTVpxJJRxATdvvCimUTvHM055d8/bfTTqv0hB1qaUQl1xsTjtWimqxfQkYLnST\n",
       "h4ILrr8oJgVX8NzhqqxxQI3X+BSTQLpt/U0nfZID32rgYuDe0ryN+S2r4AoLdRahxW3L8S6c/H/x\n",
       "eFIkJ8ARl/fdT1zSIFwx4QAAASBBm/NJ4Q8mUwId//6plgAAAwBgvbQL3+SxZXppYAOZxW0slGCz\n",
       "iiPMwvTxn8CrBlDzMjATYysMuY1fqoOGOgSL5ivtFIP6HgxPkjBxxzfQSMeZnRSt8q1JSaB7/7Kg\n",
       "m0J8UhmQ1s/4VbeTKwkWj7bRT0jUB4M74YgAdryh+2ruV9hyer+LuJHdTnfcIrEP9Y2xYehacjzf\n",
       "gWe66NjKILk+Tt/eaY5cuYEaC9crg4S1KVybLdFeqKDK9rjccSVCcziKIhfiM3/DdgHsOwuXjlYk\n",
       "q1SE/6aYkMPcIzSiZjtkeMD2junWYleseS9srDaDxpMRzpnC+0N11hey1bmvr3RZ/VNM6IOj6VMe\n",
       "mZuAbcbS2vpKj++8/CcsfeRgYqBP9IAAAAE/QZoUSeEPJlMCG//+p4QAAAMAKR7Ss93SPNPGp5u/\n",
       "8XxhoCdxmf/j/mToYVgtnGa2vTE4AIBgEzu2brtx/XvjC0TD/Pek5uq1/PZQbG8DXBsJ6s8ZUsZa\n",
       "vjnnJgRZm8EaXGQaqJ2TqxzYF035gAfsYc9u/IUx1P/ksJKi8Fs0eKCjybBV/FJiYXEt/mw4A4Ms\n",
       "WjQyijud45jj8z6191bSCpSdcZnGf8QF5Jjj4GZCY4idQu666aCfsZa04jhUPmZP3W1LUUxLDgMd\n",
       "mU9eEfKUnVvlq+NcJKgdIYXNo79C84zKIxPf0e3pWueBE2B2cbpFv09xXVY2ia497dZLxY9kMrKw\n",
       "MPXcSjxvcSYr5lVAfCGk4ouoDCldGzrfT8Bl5DhX2T4i5wzLYihbK49gzmu2f/5VV+TH5T3hJgmd\n",
       "EJfYTAAAAXFBmjVJ4Q8mUwIf//6plgAAAwAAAwD6+6Ucz9PJP4Ml4gA5pKmPTn+LUbNlowq1g03d\n",
       "wQyS898HuGquvM5GIBkhK5F27yIs7fr3uqW860F0hYXM6+eEeYBU36RFoFcDRIB+23g7H+Sz0GNx\n",
       "SFlMN4/RUx4DsSOIUTcmRx1JPXyqEXy10+O15r2FRPB7h2Q9zgps9xH5awXkZhi0c5rXmRdn9f+C\n",
       "qJp8tpshk42+08znSenIrZAz+VG3Lnq+NPmSaYAxCrtPNi1QwLvCjTYtgEunLoZ4fAzsFgWY+5eD\n",
       "WHo7FgGFoHWQVnSTYyrrJNlMs+5nC170PipmFuXRCqtREVKFKBh2SECPljhtsUAfU66P0cZdy1bu\n",
       "lYtQTUGiFlLzx24oqleh9tTUortgTOLjq+JvgZA+0u8i9LlS5WMx3UtPhxw4kLb3MGL4gk/RVEdC\n",
       "L+EoBtI0sBdk4GC0bEhtrDvbDOpRk24xkdUs5awgEwTWMsEAAAEHQZpWSeEPJlMCH//+qZYAAAMA\n",
       "AAMAAZb2TXE8w/wT3+Aod2V54V6mskIkTsTJttvFv/kLopBnTD2wJtwPJ9QfvMXGdtx0EnLpKuT9\n",
       "bLM+WHKJlPsP9YnSQYB2X2D2SFbu8eGGjv1ayWil0F6q6At0XsFVkrk7EUjvugKzZx20PR7+HaZ2\n",
       "kKnE9FcvlRaWPAENZq2QUx582bbYUkx/VPvHGLclGlIaXjB3eouXnu24uXVnINQ8ahLEW6posRDE\n",
       "TTxGY1KGRW97CR7U2vEUYofVu4cEWE49ixGucPsN20OJF6wASaG95ky/bP47IGy29AITaMYliZ/a\n",
       "3/d9tyVGGM6aD4fYXWq7dJQAAAFnQZp3SeEPJlMCCH/+qlUAAAMAXj4vXqwcJ49jUOB8rFegMEXD\n",
       "AG24+1dC7FS7a5NxWHKttO5Pq/38JYmnq2zUVaf7aN8h//l29rqz0pX7gSn4KqDTgRQj5apjJgZZ\n",
       "49DpP/owF9vjyOO4GYF1cojdwMd6DkzI8BKjjnfQmTz5hB4OhGa6LBXp3tOIOcpZj6dhWUkV9oIm\n",
       "fq7o25alDdw58vCoI6XFWx+ZLJ947KcsKY8LRhHD5EjoJN7WEfFoN89I6sTRfO1CYNCDWusWkx1P\n",
       "7ENkOZnX3ijLgxbHl7m7d04su1VO5SpOmz+UiYw0/HnolXbWXTmf+oLB+IJPhlZbRKkTULrl+sLy\n",
       "8aFC01NzTTMDoji8L9WDmUktXJuBaYuUUq0LUeZXv/1w+cuXQTC7y4e72URjt/zzbPu6Qs10JMLD\n",
       "E4tEFRQLxd038pdCYok5F4wa3tVYJRzhUkY2GI8L3gwlipTFgxcAAAKlQZqZSeEPJlMFETw///6p\n",
       "lgAAqnwra8PTyT+CQ8AB0rWSVzdka13vMPlXcM3XAnuGq2ivv5aW8R4G9YKcQpslPHVF59sMkEq6\n",
       "un3xt8lRL7Ab7I4NqO9cBCgA40MwOJScnrtBbb3L1sgUZ+A9OAw1QO1foHboxNSQURft1dvkJWKG\n",
       "vHqMdFIrYQLXYAydkk1tfYXUm1380jgrsq9Mivozp687j3qgT2K6TABYZ4RgjSysFaFsNJijVncI\n",
       "cQN2MG7P2eKd+EfI47cbLu0id59UAmjzXsHf/PVDA3Cq1r9nhfa9HquiMDj4B2p1MGMjNtoUZJJA\n",
       "TvPD6ByfhQ7znI5VmwCy+hDp7opXuL4nE2l+C0pbCcT5gYLdMBxaMXfefoQYiugSRi8ya6VgRLai\n",
       "bAZ0l917fwe/OKbeeo/vueSPQ4j1GRLbP2tj6xNDI0H6WxuGVxA+ZMwSA2GvadjrlJTSbTywmptB\n",
       "esK8GC7FzPmjIOi14lEQdmr9vH0jsi2f3CyuNKAYw+v4Q/IM8ilAYfHqwcl85AGp6tm1cTXb9tCX\n",
       "65SNKAlZzvnA4oAveKFu2SDF8ML4rV49dZglsn4uzGWgHY2ec5D6O1INRE6MPBw1H/VDvm7SLRtP\n",
       "o37sCegehmrIyuxfngu6sERzgUrVks9RAhTeGoPBjop0BrnyrHF8ty3WUZpi16SS1IIOZK219puA\n",
       "e0gp8kFXpWWuZ/TMBmQ6nM3f9ZhTTzgRIKl70QxMMEpZD9nKsBZi87OH1BIcNETiIiZP6LyCK1ku\n",
       "JD/O6Sq6JGFXEwh+hAgjl/QvkjkYeTz3gjNzpQyY+0eCwdmmjqRpf4F43a1c+Civ2Swtu4Y+UONg\n",
       "4ninlp9j79AF7Dzq65NAHzpaNhLjWTDDeTtlGhgJFvEABi0AAAB5AZ64akN/AAB2yhAc56NIRDvw\n",
       "s1O0EfHPWEP5Z3m/5jQuuVEdaMEaJwALDeCDZJQ4wpBI6f9ea4mqM0m0tY56v8Hg2gt84PMAyds5\n",
       "W+97ZAAOIJBCqlb8oQrduYfGrwzN87+eRmSATyFrlfu2DzLjzQG4YLtBxhQSpgAAAR9BmrpJ4Q8m\n",
       "UwIf//6plgAAMt7pRzP08k/gkPAAoN1GO+/b0xl4h7zZjG6NJD3DVbRTRBwTy/FRoip6rWH4bhUc\n",
       "XWQQL7A7FzchutY9JLkxeJYydwvRcKcuJyJI+QM2gbCQ86sNFOGdXwIG3urnOL4HLwOdpSca+kln\n",
       "HpZUdy/Kk31rHWdWp7U/0v8r2W3rs80m/Wx1FYAaRN+zoF0SGn1Ehq+OdRyb0uiqUQUugshiTtgo\n",
       "AABC//z3g+NMAAZPCzxLPn6p0UUQ8Wh+aaE89O9ZM8+y2/JmuN4mxPkKFO1Q5/KT6gDy/ejHs2JD\n",
       "3FCbCZMguD1qIQqLWhCiVNrudNLhDzfcWzZWsPbfyP1kfUTt3ZB/0PDje0+etKbb8me7YQAAAM9B\n",
       "mttJ4Q8mUwIf//6plgAAKluv1cWmZQR0cDL4VSxT04WfzjCszkKxG00m4JgW//nlr9OttJ/aRDUy\n",
       "P4mpz//8n+TUShtFZiJmjhm4jR5VMPgxeH9jb07JUrwQBcCy5kuJ4s5pZtrH1Hx40+MmxTCq4zIn\n",
       "zSxnmsVqfGXjoTLXljn4zp2Df//UU+YbwzJSHdy3pPMrKFdy3q7MeasjOqG7zM5qojwVb7iDdiI5\n",
       "foWgzbcf3SCuSaxeNT2KQ6axovKx0JV77XmRZclMLFUWB3gAAAGgQZr8SeEPJlMCHf/+qZYAAAMA\n",
       "Wb4Bs3Xli5tyryYAFdLxk5rJnOyy14dokOgAd4kJ/NUPMyNisToE+P2z1ljRQ2eMszCuhHAwnJu8\n",
       "B5jujTddXKp2Oa233heR02hvSxvH/6+BLrD1Eo8G28J+6hIHMNCRX4rimw/Mh7LF6P15xWCeF33/\n",
       "6+bpu7VoPUgRr5OR9x6xQZYdMmK/Q/lIkobJvGc7RwOZthgNjf+CRDkzl96Gl4AO4heCvhJ8jI8C\n",
       "gfA/7WbsbhhgCQDI8JRpCe6huqyI4SXR/NgAAAZtMv6HdTRxnfYq4Q1auck8HBK+8Q7RD48NE/ms\n",
       "MS1lvTYEjMA0jvDhMsTPcovUEE+2MerkiQshw6iuNIciXLw6c6iAH2vIU3jDARmsSagiY3xadfFf\n",
       "t/8QE6loFAFIFXG3VuPJhp3e95MCuEuhXjgoi5dbfNXDODc5kgLlHW3QYC+1Y2moYyVEBz9WZahD\n",
       "WKAxVSvWlH9ISoWRHNjHSboKfNQ/G1ISGa0tpu8F8ucZrehXpqdS7poaqPgjjlVbWzQIHj7JBD0A\n",
       "AAFvQZsdSeEPJlMCG//+p4QAAAMCOqB5+2NGA2ftEulcVwR0glrerCGeUigQgpV+lmAyZbH/7/gP\n",
       "2BSZE3hatgBe4opJbXlrGbWseMMXhWolHPcLQyPZ7huikXaQtmdBEHRbAW/G6KQbLVUmy+XrYtpm\n",
       "2Wdqao8Jv0fN7j8kMw6T8WFqvExEynP5cSIKBuwCs6bBHfDbdhsGmHUDQZlemNUTJtahzTzObING\n",
       "pBZVLg477ll1h7LpLzwLOiD9JfIqnT+z3th14Hur1O7iAkpp/G0vRSa3+w43dBAfRHbhn44cNrkE\n",
       "EDGvJxnzx1p5EuZ1ivRFJkyJ9ywNLieZ/Z5HtpawhBNXkq10bCrYmcKAoxKfgDo8Aec8AQGNQbNK\n",
       "BriI/Ry8qA0C0UUmue7RB0hkgtcCMitW2FHvEGEw1Beq1agqyqsA7kqXrlAL4rhc1SQRwsoDkQUR\n",
       "mt464RsV3qPRY5Bx1YwaBB+W44GW/BLNywpz5wAAAvxBmz9J4Q8mUwURPD///qmWAACc/MS4jmdS\n",
       "/8Eh4ADpWskrm7I1rveYfKu4ZuuBPcNVtFffy0t4jwN6wU4hTZKeOqLz7YZIJV1dPvjb5KiX2A32\n",
       "RwbUd64CFABwxuy135Ex3w6PrJLJ/QZWUcB6qD/IWdq/QOyhiL08ci/bq7sM8/8LNqNgx9nlxjfx\n",
       "ZxjIw4ktnJlHdev6uT7xaQPjxctyHVsFKpsZQGQMpHEZvVKPsldspr0TnG1i0IzWxNnDSMLRY0R4\n",
       "rezxPizx7HK38Xv+ivcrnsAeqN8zENFxRIZGNB4tCfsjf+20TsgHjaFezUU3RixfjTLb/2y2rAnO\n",
       "hVLhVkh39t7SQPoNR879Q17sUIdXmIfBruxXqjn2ZEwvgwbj3z2Qsuu3ucX8cu2QnGYjH8ohVjlW\n",
       "8Jz/1XyHR8hP8ZAAEF+IZA4FOkhH+Kjb3xT5iD/+ZIvljrxuT0Fd/cB0afcCGsE3V9ZwAAZtO480\n",
       "LBzCZr+lhS09lx58R68opCn0GlFNKFVE11F0O/0fJXjvILOwFGzoMFQwwmwzsxtf14VXnHjcKmS+\n",
       "nlVJpCXJUNMPnc5jsLKjGZAW5+jQRQCL/KzKZdCQT/SiRP2DdwushtWrM7P3VHx89TqXg9EvTNXE\n",
       "gpzI5osAM+UWfwHwfHMr8iKJaE62AtbKPpphULum3uBVfr2H7QOkfw6VTtIoMfgxpqz73RJIsvAR\n",
       "JGl7zhYHV2W6ld0GjC1GIrjiCBZzOqmxLINu89WG4pLaQbXV6XG27syneRPhksW1zycQ3S5lKEsV\n",
       "rGQF2O8rMPzokZkoi7FaDzGYpDrCK20d2YkiunflwmyYrLu1wHLd9zukCsdDL7HouZNMD6hIdcyI\n",
       "nUrTP/6E5Da3/Nyu4nnvVGxsy/Vnz4wF0C2fHp5d8eVArc7nTiU0te0+30PZ+rw4d9l8gIlCF/m+\n",
       "HHPaSqOSmKEVTf4WWrBV4OLIyNszWhK4avOYx8O+tnYnb1kG9gu+3CwD5dtgxu/McgI8crsB/gAA\n",
       "AEsBn15qQ38AAG6LpMQV2iQiHfhZqdoI+OesIfyz7tsZeLUbxT7d4b6JM5N78q4xADJ5o4sdKU/D\n",
       "05FaU4QAABWgjEqBq6aZwabAYEAAAAEiQZtASeEPJlMCH//+qZYAAC8fCtrw9PJP4JDwAKDdRjvv\n",
       "29MZeIe82YxujSQ9w1W0U0QcE8vxUaIqeq1h+G4VHF1kEdHuwOxc6FYlcdKTyk2hsBsOZFmi4U5c\n",
       "anFvgZ0t7jwibCiMC039B0MoDs8WZbscUccf/VXZHb/O4ZeJAmcMOW0tFjRwOrdmGRPiDrNqJ9Je\n",
       "QeDs2jW5gevZySzC0SCTmGhqlv2DroOYBaw09UgoIzFRfDXjkaGiCnItUPvPoqtbFTXT5n/OZnBi\n",
       "L0sDPxQwDGk9OZ+DFn0Xqnd5TVZnSrnLE6/+C8QzeSltMgwXc6TrMUaTzK546LaIG98YEZFX5zYx\n",
       "hi/RJ19c3m0RNv2K7p1r7jMLk53Dhm3n6lwht+kAAADtQZthSeEPJlMCH//+qZYAACcGS5Dounfd\n",
       "I2ZcLoP1m8nVcZuQdWobofxm3rRpxe8NOMo4VrXFHwueiHP//yf5NRF+99sTNHDN6H3zTtU+Ii0J\n",
       "NQdT68QF/tKv/I8L0ATocOKMB+Ud2VRG5tvIqKYdoHptyzpRVD6aMkfPxUx1S+S2topfLy1TjeLN\n",
       "Hb61kZ1o5RW+4AVR/FTHdhf/sKpT8HnVBKiuvdNgsNkKm6Cq7qa7LKIhttcqEdLH//Ikco11gy86\n",
       "oTuw6nb+S3mMJvPX4ozNY/unQPIkofOgyItrkn+ONpdT0FyliYTm1FZIAAABTUGbgknhDyZTAh3/\n",
       "/qmWAAADAOT65syPNl2whqf4cIejQA29VgE7U3J75nYGb1+cAoBn81Q9MhQiLbjt1II23f94kK96\n",
       "c/Ya5PcyPWEHXvu2JBxABPf9eYxKFboFX0RgZbrlqJw6LIqXSERqUMlpGT1Cz6/kPEa+r/Qhe8gh\n",
       "6AKjvrZ9Ys01+4ZFl8PDfvRed0/LJ1QIxfJfqAFlEFq2CEKNj+8zcsyEXAvxFDCgM/q2TZejhfF/\n",
       "CrxHHciTlPhNG8Ap1tYPHYAZiwxB+tAknSXqXrsfszLeqRdFzyCumq139EluQUztMJlbHdSz8nr4\n",
       "Oc41dIIUWTYOwE+ZpZ9vWcOM9wuegoixpLW9l4R8YoIl3+CafV50qXt5vfHcXxf+EjrvpU9kTG2G\n",
       "xR54vEA2e8Jp08rwh3ip2DoDQiVIyYdg+zVMWs7+SCsqWBouQQAAATJBm6NJ4Q8mUwIb//6nhAAA\n",
       "AwADue813nDoKzUqlDUAKoAR/9/gX2Q78OtWwAZev7EeQ+fR+Zx7AhgqkNHQC7QyR9hNDGtZhuL4\n",
       "/4CTbT47NIB5tzv0IqTtm3d9BVVZhxA53/+RbtG7JKEAcSPU7VSx+l06OyNeHYlEACaAHR7jeUOx\n",
       "l3kyrbg/MseLy5MXhALxcEbVk4IRykVrTU5aThp8M0jrF7QPxOJJnXY68qFeH8utMa0Qd7K/rSAA\n",
       "ByyePF/8B4WNtd9Utt/5mhm4UQAtqCXGfU1hrQH9qBT52iG0/08juRWnPM9StlmoqyM96h5wK0Yc\n",
       "63zGwcz9JdT8pu8GaL2CKVL+1jmRd0BidsTPxDF8xuKC5+7BqjThhH9TqsqTlpcjS8Kw+8uaG8pG\n",
       "F+tiLKAAAAE7QZvESeEPJlMCHf/+qZYAAAMAAG8udYPhzC6XYu+gawSRYA/wQgpIAOElpXIEAovy\n",
       "AcBTEaPUL5GzN3+Z5nsniq/fjWc5ZRfALHd8HqHoWlWx8Cwbez5xjbSNN4tbwE/uQRvIhus8yKkK\n",
       "w9bE0Xy7GC9eLUK1BJpig0lgyEcrhydMbHqX1/qVB0UUwTe0F2mk2cy5uuDEc5SuzEE+r9bbIk87\n",
       "NLXz/5jcfJNE/BgRTI/sEmKVGov31lbIC2e0RYnccTrBdJn4VewIfA+RhydM7xO+lA9VgtW/fRNT\n",
       "01YQzIZYc9QvacQ6zzTV6XoAJMvUdu5P/ZaDs9LUFrVG5BmkWCzmhz5AZlQBBvZF9hevwlZdpcnP\n",
       "Iem0AXwpGQOP1qIGomAZHOa2OXGIETFKrkmXv+NUyeNtlvC+FF3BAAAA8kGb5UnhDyZTAhv//qeE\n",
       "AAADAAADAH99lPwWF/tm6oYRGAFsa0uVAkXwjczfEmyV01aKKlDHemh5i5qxZH/kQy8sWdYLImeV\n",
       "kmOjMCREoqplLTrhr+hKUDJOi4uowsH8cjavWFqenVVOm/7lVTAAY7Z+WdQFGFc+1ecc3xfHNTOY\n",
       "esdgADYZG6DF56BDQO+abgDqpcUtmSU8C+vMlw2s5ogY2YRtnFtfXekNFDjoS9u8CWwdo5MLuEPX\n",
       "kZE2jDcyGI9jMzcvIAbhLmjxaWGah3v6gdOm0ag/2nP7YLHutlO+VWr7Wbs9Z3sHpM1a30y9bXTB\n",
       "AAAEV21vb3YAAABsbXZoZAAAAAAAAAAAAAAAAAAAA+gAAA7YAAEAAAEAAAAAAAAAAAAAAAABAAAA\n",
       "AAAAAAAAAAAAAAAAAQAAAAAAAAAAAAAAAAAAQAAAAAAAAAAAAAAAAAAAAAAAAAAAAAAAAAAAAAAA\n",
       "AAIAAAOBdHJhawAAAFx0a2hkAAAAAwAAAAAAAAAAAAAAAQAAAAAAAA7YAAAAAAAAAAAAAAAAAAAA\n",
       "AAABAAAAAAAAAAAAAAAAAAAAAQAAAAAAAAAAAAAAAAAAQAAAAAMgAAACWAAAAAAAJGVkdHMAAAAc\n",
       "ZWxzdAAAAAAAAAABAAAO2AAACAAAAQAAAAAC+W1kaWEAAAAgbWRoZAAAAAAAAAAAAAAAAAAAKAAA\n",
       "AJgAVcQAAAAAAC1oZGxyAAAAAAAAAAB2aWRlAAAAAAAAAAAAAAAAVmlkZW9IYW5kbGVyAAAAAqRt\n",
       "aW5mAAAAFHZtaGQAAAABAAAAAAAAAAAAAAAkZGluZgAAABxkcmVmAAAAAAAAAAEAAAAMdXJsIAAA\n",
       "AAEAAAJkc3RibAAAALRzdHNkAAAAAAAAAAEAAACkYXZjMQAAAAAAAAABAAAAAAAAAAAAAAAAAAAA\n",
       "AAMgAlgASAAAAEgAAAAAAAAAAQAAAAAAAAAAAAAAAAAAAAAAAAAAAAAAAAAAAAAAAAAAABj//wAA\n",
       "ADJhdmNDAWQAH//hABlnZAAfrNlAyBN+WEAAAAMAQAAABQPGDGWAAQAGaOvjyyLAAAAAHHV1aWRr\n",
       "aEDyXyRPxbo5pRvPAyPzAAAAAAAAABhzdHRzAAAAAAAAAAEAAAAmAAAEAAAAABRzdHNzAAAAAAAA\n",
       "AAEAAAABAAAAoGN0dHMAAAAAAAAAEgAAAAEAAAgAAAAAAQAAEAAAAAACAAAEAAAAAAIAAAgAAAAA\n",
       "AQAAEAAAAAACAAAEAAAAAAEAABAAAAAAAgAABAAAAAADAAAIAAAAAAEAAAwAAAAAAQAABAAAAAAH\n",
       "AAAIAAAAAAEAAAwAAAAAAQAABAAAAAAEAAAIAAAAAAEAAAwAAAAAAQAABAAAAAAGAAAIAAAAABxz\n",
       "dHNjAAAAAAAAAAEAAAABAAAAJgAAAAEAAACsc3RzegAAAAAAAAAAAAAAJgAAFvgAAAPtAAAAcAAA\n",
       "AH4AAAFgAAABOgAAAukAAACXAAAASgAAAuQAAADqAAAAhgAAAbMAAAFAAAABuQAAA0MAAABRAAAB\n",
       "3gAAAVQAAAEkAAABQwAAAXUAAAELAAABawAAAqkAAAB9AAABIwAAANMAAAGkAAABcwAAAwAAAABP\n",
       "AAABJgAAAPEAAAFRAAABNgAAAT8AAAD2AAAAFHN0Y28AAAAAAAAAAQAAACwAAABidWR0YQAAAFpt\n",
       "ZXRhAAAAAAAAACFoZGxyAAAAAAAAAABtZGlyYXBwbAAAAAAAAAAAAAAAAC1pbHN0AAAAJal0b28A\n",
       "AAAdZGF0YQAAAAEAAAAATGF2ZjU4LjI5LjEwMA==\n",
       "\">\n",
       "  Your browser does not support the video tag.\n",
       "</video>"
      ],
      "text/plain": [
       "<IPython.core.display.HTML object>"
      ]
     },
     "metadata": {},
     "output_type": "display_data"
    }
   ],
   "source": [
    "RESULTS = []\n",
    "\n",
    "def bubblesort(in_list: list) -> list:\n",
    "    swaps = 0\n",
    "    for i in range(len(in_list) - 1):\n",
    "        if in_list[i] > in_list[i + 1]:\n",
    "            in_list[i], in_list[i + 1] = in_list[i + 1], in_list[i]\n",
    "            RESULTS.append(in_list.copy())\n",
    "            swaps += 1\n",
    "        if swaps:\n",
    "            bubblesort(in_list)  \n",
    "    return in_list\n",
    "\n",
    "\n",
    "values = [7, 19, 10, 25, 23, 26, 9, 22, 14, 3, 13, 11]\n",
    "\n",
    "values_copy = values.copy()\n",
    "\n",
    "bubblesort(values)\n",
    "\n",
    "RESULTS.insert(0, values_copy)\n",
    "\n",
    "animate_bar(RESULTS)\n",
    "\n"
   ]
  },
  {
   "cell_type": "code",
   "execution_count": 26,
   "metadata": {},
   "outputs": [
    {
     "data": {
      "text/html": [
       "<video width=\"800\" height=\"600\" controls autoplay>\n",
       "  <source type=\"video/mp4\" src=\"data:video/mp4;base64,AAAAHGZ0eXBNNFYgAAACAGlzb21pc28yYXZjMQAAAAhmcmVlAABj1W1kYXQAAAKvBgX//6vcRem9\n",
       "5tlIt5Ys2CDZI+7veDI2NCAtIGNvcmUgMTU1IHIyOTE3IDBhODRkOTggLSBILjI2NC9NUEVHLTQg\n",
       "QVZDIGNvZGVjIC0gQ29weWxlZnQgMjAwMy0yMDE4IC0gaHR0cDovL3d3dy52aWRlb2xhbi5vcmcv\n",
       "eDI2NC5odG1sIC0gb3B0aW9uczogY2FiYWM9MSByZWY9MyBkZWJsb2NrPTE6MDowIGFuYWx5c2U9\n",
       "MHgzOjB4MTEzIG1lPWhleCBzdWJtZT03IHBzeT0xIHBzeV9yZD0xLjAwOjAuMDAgbWl4ZWRfcmVm\n",
       "PTEgbWVfcmFuZ2U9MTYgY2hyb21hX21lPTEgdHJlbGxpcz0xIDh4OGRjdD0xIGNxbT0wIGRlYWR6\n",
       "b25lPTIxLDExIGZhc3RfcHNraXA9MSBjaHJvbWFfcXBfb2Zmc2V0PS0yIHRocmVhZHM9MTIgbG9v\n",
       "a2FoZWFkX3RocmVhZHM9MiBzbGljZWRfdGhyZWFkcz0wIG5yPTAgZGVjaW1hdGU9MSBpbnRlcmxh\n",
       "Y2VkPTAgYmx1cmF5X2NvbXBhdD0wIGNvbnN0cmFpbmVkX2ludHJhPTAgYmZyYW1lcz0zIGJfcHly\n",
       "YW1pZD0yIGJfYWRhcHQ9MSBiX2JpYXM9MCBkaXJlY3Q9MSB3ZWlnaHRiPTEgb3Blbl9nb3A9MCB3\n",
       "ZWlnaHRwPTIga2V5aW50PTI1MCBrZXlpbnRfbWluPTEwIHNjZW5lY3V0PTQwIGludHJhX3JlZnJl\n",
       "c2g9MCByY19sb29rYWhlYWQ9NDAgcmM9Y3JmIG1idHJlZT0xIGNyZj0yMy4wIHFjb21wPTAuNjAg\n",
       "cXBtaW49MCBxcG1heD02OSBxcHN0ZXA9NCBpcF9yYXRpbz0xLjQwIGFxPTE6MS4wMACAAAAVPGWI\n",
       "hAAQ//73gb8yy18iuslx+ed9LKzPPOQ8cl2JrrjQAAADAAADAAADACLCsOxfhRzOajoAAAMAB6AB\n",
       "bgGdz/S5eY6PAA2pb7Pg/JyD/PlrPvoWsyxBCqnT7qPezi+M26B0r/xWcVBOcA9TG90ASCxE9fPt\n",
       "CTWJtFVa8NEZuNnJ6xnngBJnMzSS6DeksegWWO4yigp88AAAFX6iIyr5ql4VHs3rhG7vMAJ4LAtJ\n",
       "eokEg/GLL5hnlOPZUwZxFyDkDmGNsqyNUOmJLPoa1fBVfhxZhmLJ8S3tbodV/gkXVlIabfpWzGgE\n",
       "AAAFf94XvOqJXEF7Kw4VzLysjgN+PPepmHAWf8mKmDQLztpC+MDqBSwb/dg8qBRAlVWQVgESdFV6\n",
       "v1QdRuSDgWHoRgmcXwyyufpdDoIPmU52Zn/uYSwo0GmvPSn7R06y48d9qP/SSOLBgcVTPvhp0S1t\n",
       "PMqihU4bk3WRbAy9v7xEdu7x16F+obeaebP4A0L2aSYE7LZzJFxTPb/kGrx+Dxzen3XhgEHoteJ3\n",
       "pVoENBCR9739SjbgXKZR7Zg3VSMOg5DpntSagJQPy5wzbIX+POW+X/JXqXkXg4f1CV3cuWmLsy25\n",
       "dwR/W28qN+pyVQ/IAARlkftu11vg4EyhY6f7vUE03rjsVlI6fSGoSb3UpSxq8/2aTV9egFe0mutb\n",
       "3yIpuR0tc7cU6MHLhHg6PGE4nZi6d2BQXPM3RWbCt4pLv++w2d4E0+5Lj6g+iq2M99y//Af9N9Li\n",
       "TSZyqBDBColJ46S7FIIzJh1dmTOyvu82obxZvlnPhquc8f4iyZSngMYLCIjnQb/0FghDRwsGAs2m\n",
       "DYZ9JRNs+ceHnmy3+H9lw4bo4V+PGWW0TdkMK4KR3690FkUY+b3D/ZkzkYDZh026J47ooQHdSXYR\n",
       "Zsz7GsBf4xqnVH32FJbsKN6tfUqWIGhcgeP1oBZpULIASmk/CxYivCVMwU70JSqBcLn2PjGxibi7\n",
       "Mol5qL+nOzPuyw40HtkReZRh00SvneNvxOIpmLKqzPHQauyMl/BbruPG+5FeNEEMfNYu44T+uGBS\n",
       "M/zY/AG7vMKqrvoqPaD1bsJHjvKWV6cFLPw5S9knxbVmERedVp1gnbcCZopYEh3dIO4F6QzEaU9b\n",
       "+kG/C7OfNGlksfMn5xuS30lMQg7ayIYRetz2DgPAALHtHE9Wjq/tKQ17uzgrIPiic++7i8pA8tRO\n",
       "cyXAY2hbogEiXGZ2fArDk7zSW4VtdhFA4+AQbMLJOFS7Aa3wbJUHrfB/l6ZAmJvEW7YbEXS6XIWF\n",
       "PcECsSHJ3vT08C3rC7S1cNGYBEnnToVV4k1Ua+AGR7EtHKsKMJxQ2ePT1VzSOZtknzZWCU+aWUHl\n",
       "XJU5yfwamSYBA+P59WrOYmNIBj1iRLeqM8MYnpqpMIwTG8uhTgyhdAgY1pgnQGUuADXWg3jK3M/O\n",
       "WLA1whm6+Y9U+bxyOvm2oYI0U//kPVYs3jbDdi1g2jXaaBegZPvE98nw9CK5UhhqJqgE/pt6oAJt\n",
       "DFAAF2l2631/cHnZH7+mCAItexbBeJFMbb1/CD4TNDfyHOmrnNQlCStwxCFY3mZ3uwO/lqZkJSZ5\n",
       "jvyeYo7F9GjP7zoxTdybkwam2WSlFBETdj8fdbY43GLtym5NoSfmz27PfRB0PWm5UysdPzHWX7vq\n",
       "2YtTwnaNrqsnuhKx2AMVd3irsbS9TkoX7mAg6/v/sHxWIU4wkFKIdCt3w0I9Fj2d26G5gByrUgdf\n",
       "Vqs6E5QZ556eOM6cOwbRjsDq12363VZZgP2LciPXDJ71n+fRqCJkulfxCePRwghR2NSYQpeZaGK3\n",
       "g8gyFppRRjZhUHfFQuyISiHxa3aSVfMqfPkUIHAvR/4qnsqkMAAxXMj7js+beV2D7Ml8vVm/oE5I\n",
       "91Kunb0YzPjrnioyD6hINLe3t++8vW152emMmgjBCGT4H5i9VqJ30g1ha6HskqgefDxe0c7hlNeN\n",
       "spSxkfYG81Z4H2FoyeMDkM/HfkxaFzT6O7ACgRNBDJHuL7X8ZSVy2YSpXauyfoffq3k1O67wa9BT\n",
       "mlytr2FD7KQ8LJKarlfsLGPYvXAX2izhUlOJYWQZp4gjSCLZFoaKO0N5N9ZY0ls2oycTDZ/7n/7I\n",
       "uUVNo4Qbsq/liNPm5yL7QV7xB1ltG+iSex0QRnYssn/pJEFdh4UWvauP673+txZeherhsGMIQ92j\n",
       "7jP/H0s+pgiqdwK9WbmQtZNszcZ8eiICWFui90exvFO/myd4sV/pp+6fyNnUjPTHoJE94PDmr+im\n",
       "MI2uV7COjG2eo8xLBo/hucm3Ujq+Gu3aAMrtQUjwwmIP2j9i/XxokKeMD/S2/t0AmKLVxeo1lowF\n",
       "xTdRp+0ziO/7A0dtZq13Irsx461xcmtV25c5WNNe/mS/aw5A06Plh+VtZTh+rKmRgjk1HuXJVWfH\n",
       "qjtG+akEUFxjspZlFTODXDpPdl7lYmhqqh5Duq4vmaNvn+Z8zfbBs55atmj78aBlBKhBMMHiIQyD\n",
       "k2eHzJMcBKAsePWLZaGa32LtNxCIk+mTqGoB8LtA4I4AnJUI3X/b2R1ALpjF/09eDnGJdZEk424c\n",
       "ZTcnlDusBdSoa1pgtpQ4w4Mq24kz4cSM6IqmyvP9ay4R/KxhHkUF7SdU4asEk3XpOoFUlTMTW4vO\n",
       "e+swLyh2CJyBIhua/npljfPdSdeeAF5ExD6kA8D4WRWovPNr4cAqLJf16hrahmXRKvEA7Gfw3DUn\n",
       "rrYtJ8Uuy9klpbMLaZJHPYPY9WfyF34iLGLwTiLUl4PjCMoHK+ENUtVAL842fuEAM33eXXQxOrVa\n",
       "r1RJEW1qDPC/p2WHNOh8PAw+Hak0b/wrv6UnROkwClyP5IyNdClhic7bwjerqmp0/Jp12ZwUBlmz\n",
       "kUQKrEwTcsqACjJ1oA398vYvzvKpqmp2l7bEg971P0rUn3iWLvfBWE7CYB98vrmhf+kThBagRfZF\n",
       "OOmOqTt/NVWOKaBwzwEv9kaC7Jm19Km+enLRgwqmCUYBZUfgWhQwUO9QnhBLUeuqMsJpjRmOqcM5\n",
       "w5peGeJYpcl19PUj1zWygjIRwPlFxeM+pwgarkgECOdMyy5/Vfn5Sq8yR9gIaDUccFJZD29Vh+cB\n",
       "n1ZfHcuXbt69eqJVtAnbgD1EqftlSZGdZYyHGvJXN6YALkF0VqvkOopjuZTbk6dPHaWmcSdJCSYv\n",
       "929L+0W6yzmW9gtmnWiur0WQ5Xut14CP//VCCKO1amGyDjFTkcCki5IZjQTBFSxWBkx+s5ej9xsD\n",
       "Nzngo1YK0WpfNtwr4ShJ+FHtXbgYKh7TZFwztXX57AgvPCaZA4obfzOlY/nUJoKes4p8wDLPilLY\n",
       "cWdGiE9ka722f8WioR5NcNY6f9s/BFFj15HtM+i4rI3CogHkNHSeNLD7bQZ5iruC/kBcMjoWtz/4\n",
       "7fRxrqyp99icf+YEpYt082Lrg761Arnz/W2d1deYrdKuhJrWyxmZA3k/Y1f8FYhZgT3/RSu+pMPA\n",
       "FgEMnAKiEIvDNfYOLiuw46hyXFus5MJlVX2F8LiMuCsaSpAnYk43+b2249op84pYrYHC5yCD44TE\n",
       "kEfaPzVRelgoc0aG+2NxkPjd5NhULUU4oDGG4tb2GV+RHHxL/3dBacsg+X5OUFspxW2DiJjE/aOf\n",
       "yBLJFcfFfFAdyvORXeCCvvMvw5CSOUO55+J/i80zrwft3NutwMY2Ym+0Mq67efjz3UjGrFdnzizB\n",
       "7w22P/TSOSq0q59UXbgf+y0RL7CP5+G4pr49pkV4RObW/y/wiZepEOvPg8wFrO1+o3CPGPgY9+D7\n",
       "xgUNS5BloTihpGMIZQHuhHeoE7wUP6wT9fi2YXd6TuNfd1qdmupKrydFDVlbm7lurVsVz0dpG3jo\n",
       "QHOG8K3vG0peOXx6/Ctmglz+0WQMmoTbVKb0uZYbceyYsyTmL9sIeX7CraZJtl3k5jIeo9uYWcm+\n",
       "Jgedxa15Kv12+IvpbdBMWt3FLMLu9J2/a0xLjpYoM7bYx5bm7lurVCUo2GwUvJI32MTdmMnqZ5hh\n",
       "tIYOQyZAgYPtzK417xJt+fzNmUazJ9vDt2Hbya9KANCjEgbWzhguNa1D7ZR+5Px7QwiA3FWwf5IO\n",
       "nNLsjubs7l075FJzbzX8mlu8u70ntlqgn0axZJI/TnhfV/kgVUsdQ5X6SZuQDfoHJ4i9chK7Pye9\n",
       "izsk/+/EMeR50pdXZPrKPOxzIO6ppPVjNbYkjZB3H0e1CFi+XCY5NawNkJ2S5oAOYHoxu8aH759D\n",
       "f93dO6AFojEkry53fjvhyFVJUMBRl8DCEC11y4a4ooiCHBQeyR4c+F0rRhsDLMGGp+2hlT5BwPmZ\n",
       "8ATRJtHRZLym4v/1u0B7WjsGrk6K8gvQo9EGYhQujZyE7zxhuZRX78VqAFtFTxPzZfyWO9FeYkKB\n",
       "fxwvKzTjA45BvesnLYYdfZntwIL5um/2TWCNAY/9HjeeJo4Oq6Ff0heZrDgjA40kWSfrTRBndMyg\n",
       "0a7SvBLGW44tKX/8J3mv5nEqA8pb0PeFz1BJo6nwv71XJJcuaAWYtgezRMw+5H4rbjCv/gI+ehAY\n",
       "5rlpECBDEbJbBAO8WnMoVvZBskVllU1X3pq6iQ5xriJApYQ3jgxplXdiLuYjXXDWS0fHol+GSR6X\n",
       "4BAfIyOZ3ayBPeUoRMB1iaoDQRO/hIfED9XTHpoLr0zDPtKaXP/qoP+cDt3PZJS7h44GcGnyCBDd\n",
       "f9m241lZz1urL8vpzaYMGvZ3pzJEax+9lr9tgqrvpK0K1D8x2kzMXVd8K6cuf+u6kXQFc0X8dbXq\n",
       "VWPeXxhIZ3eqxLTmwqdgM5x0IysPzaUbJSUmU3LJTXxbBl3lDdEvTi8QNNdMWO+naG7c+S5qzMIK\n",
       "L90nobVeY/R/8c3zv54HXcINqWkXqATJRqslxvYNNXM/Mg5Gwtx8R3K3e3T+vkyRtBzFun8umG/o\n",
       "yqEQyYTPXIV41m7OGEw6OvzIUKpKbeS1f2C6cNa/lmwjENzweaFUwZZlJRkp4A3B+riIfE5QfrMm\n",
       "0vrHb9g54A53GNlf/yiFPMF28V1/xWXIcIWarU+S6W1UyVpOkj7SSlT6X8RksC9WSMLdaJA7X8xi\n",
       "o+ZapcYlHsGiJgEG6ymB4DRcIqqCiQ8oYAj0EScmveDK+/f+JCMZLhmbyb1x8XmVE4Nx8DvcQZNJ\n",
       "MPa0BohysvVJWpTB/+YM2I8bBA2p+/8qRtyhymQblXn1EtBV5qwGUDiuocpJcFCR+K1lBwAAAwCT\n",
       "C6dQe+Ok6P9UoxoFVb7vTL7d9HnmOQygNJ2BVBrmLDvpGp3Zwf+dmPL1JOozp4yiICmTYBGnH5yK\n",
       "KvahGIW9AMm9V7El5MzDWZkvikZISci6Pi6zDXZNnDC1IBQTqZGGmCOn57rJGycCSyJTv7w+1+V6\n",
       "4kjq9iCZOYcVxIYZM9zSZJq1v0Tg0uALNGhEXhY3Nq0J+fnTB3jpY+Ez55J4BO9cRFGn1BLaQ69U\n",
       "lCGf576Vbo/cCo+WbXTLuFf/AA+qrvhBy8c949EvvRQv4xN7X6fNwsV7tqRqbdjKW4Io/phj2TMw\n",
       "3//HGSAEN0DXDsGWlm3FRJvITA06TVt0E7vr7DbvdHijL3B6FTv/oNRZA+Nu7NQoVnH1WShbFevx\n",
       "5LPx9q/17aesBcPcbPOZQzaUfUjE6z39WlA30dbvV6gxAeLxOEUiV9HtqlhFBhJhjvQvLJSKnwnX\n",
       "UNuriCJImR3gy7ohuGc1eMAAmvEZgVRcqLyrfdyBI2r2yP/oUkD/LkM7H/pIkmTRN4EBidXMMZuA\n",
       "m5KydZO78i1sAmjMNoNGCgm/HY7kRyAvMYgaCVZz+iTRITQMdaj5Wnvs11iEJ4GiC/bqR9SBp6NX\n",
       "FNo4SJ/NSoWH+aqOmIq3ykadX8zzSxm4kUbgSxO4Yay3PRUThqTjBm1WMLOVDJUzikjvkxWn2fkL\n",
       "Nkidqp1bS6nc0v16vat9VehAxb4mtn/Ckgr9zXZ+cjl5tXRjVG3gf7dMgoL+RZh+n7Yy+elxOVIr\n",
       "rRnqVu4kMxJIxSAB5q7kpuAXmVd+nFY6bduIIHWcjcJ6AHv7L6eKVNBDr/ToZAusTzceTOAjj/bs\n",
       "ztXtHMjgxFGXfxiVqi2NGf+cXHpzqPTx+UyGIbLDzRAGCeotS4lw79H69xnC+mJHwsvnuiWo+/Dc\n",
       "mavahP+GNaz9kukeqA3hE5abwbdDZA2O3W9RWx9oJDtV+eZ4NCpTg97PJUW+2ePpYCp6OmySXzmJ\n",
       "ZlaT+gBMwMJ757i3MOnUHX7ONwDvxtiUVAE2DnS4BqdEKxwCmOf1wX6ofdwTMz7XfJk/OTXA9O9p\n",
       "9Ka8DNAPHH9jWXqZfLMC2LWDZVLMZThNO55x0RezsuhxY8Q2xHW13Zp0CFYI5Gp44azwZyVqkmUn\n",
       "oOA0ZBa0ImaQ1Sv8MaX3ojnQix/+EMgXWJ5uPJlFGTgBQ3u7thKaoYirVq/IOl2adGf+cXH0DM7P\n",
       "H5TIYhssPRyd2vbx9XlLEyFymXeBaX3lyhyRcehPxtW12Vb18CYwnKnFMwAFaQ/771FZgbc3T1YJ\n",
       "h2CsMzv4vTW+6T8QuFeX6wLWKcD5njkPR4WNHWc9H8x27vBerhL+JsqxgmaEapce8PWH5CWcy2Zy\n",
       "zJEypK9uLvC7pwMehIPfzrEGlQumIhtQ4kdymafMfee6avkXeI/1SC1ENry1y4JJ+jRD5C5ykEAS\n",
       "EhvczWstLa+We9IYDakx+aoOq/5yxOqxJVTL8NfapNso/Nsm4GbQPGtppVRIUTf0MbAiR/DsBGFf\n",
       "ZfiI9gyRO3/xanDjT89KTlD1deonNXF0UyabWXiaVeZiSqZkcrmEEo+99aoSlIaGPSCmuEgxRiZs\n",
       "CfXXu/KAdTR2iBNQjt8S5YV8NGo46i6xBMbuHKFXMgX/FWQqB/N7plmGi/Sp8Q4xqobiWqYcnSiG\n",
       "/KvrEiFktGDVPHJ+mZXffUxf3u8EuBOjN+lH7Ddgyu6KgEY0XmcuuuGMX494EWucpMwmYAshrMoo\n",
       "dymqMJOqVb2AXuDTElTh8hIqWOfBs7/V7lECkI5mgVNA5HTnBl+eIfxHlBJaCp7G/cBaVJlKx1xa\n",
       "MuGPb20suGni+Gau9VILBx3W/HPpKv3iGGc7VR1DrKKrLGyGKkD/idie9rQZ1e2nC6X3DTHHUqQO\n",
       "mj+2ZoMnQfDosZoG5TYWkYS++JCca0QFp5CWuP2nLX4Yu9wGK6MBruMBzG8ixiOsRfEWGynxgAAA\n",
       "AwEORtpl1BZLSrxAZAAAAwAC3wAAAadBmiJsQ//+qZYAAD1S7O5wXBf0tJu6ORvTM+uy9HcIx9kT\n",
       "/m+ACXq3/4RnTd3B6hnD2BZZeS0AWXs26yDCcXIzOqUpotK66QCUrYwRRBNDCcXOQCyZmH1Tqka+\n",
       "IpZ0UEsm/e0O0NwUAYtZ6OETBeomxlsd9BoyWLChcAXg4NVFOYxBUlhRPtM/A82TRnxouIbt9DrZ\n",
       "8nQ61B6CuJVUgbpUhsenZ6mlC/yzahlI37poss6xSC4CCy3ufZGtEsp28r74XkX7uPhkGWslhJHp\n",
       "leRs7opCVrtyR7T0YHD/sOKC61P+0QXEAqiV3hGWqbObZaCh/b6HNZNgBTZY4gpl3l4YWMA+44Vy\n",
       "VA+F8fTm/D4bUtdRXltoZOclPUKK+GuRrSiPnYVMFdJ1BtzGgjCvqmF/yqjPSBuNCQGc2NCvA6ih\n",
       "S4NA2Sg8nAW2r8V92uEW/afkYJGh52Lb9xlsr+c07e+0lVicmjAZ5+FdiDSIe9LKqw69AmX37fl0\n",
       "f9nUbBn+DkUuUmhCHreeL+AC+x4ApZq0APdmPT9m6W2vmOwHzUVZue54oH+YW0AAAABcAZ5BeQ3/\n",
       "AAADAMkAbGzH8hTMx5FSHIP/Aq/ID9AUd9FEiV5cFR7x/mfFXjGdRqGbv+NPCFJAt9mh0oates9M\n",
       "U4/J8zumZxMIvHrfY3rRL+e1+bfsBtAS9G1hJU0AAAG4QZpDPCGTKYQQ//6qVQAAAwBVPi9nxura\n",
       "3NhMn46NkZDL+BbekARNR4P/y/gQ0pTfNmw1oeariZYyPOQyrUDeU/AwGusifd/kKpaz7qZgLtMv\n",
       "X0ExIBbiLN3BH63e807mZxi4AvCIVspVAQZpKbFnk6RezWRyTCW+Om1PwnL68bNqgzM7hQFR3vFI\n",
       "/LudmEKyWtTQl4ivEhh26AAEyo/zcHqH+CPdzkUVa4777F6jgsaflOAmUiM9J3Y8WFmdcedCPh80\n",
       "Yv+zffyp4Sl/3EUL7dWvQvO2I0XRV2b8NCveSrTQTVjWg5JBRN1/RaIKnqD+z8eRCSFLhn2BNK2v\n",
       "LeCY2x2/o20bpvPOZerVsGtPvKatjMrLWaBNIY9RGMP2UDuV39uVeNjaj+wmPHjrx2T/IYHbrQ4v\n",
       "uIIRGk9Qoi0RwSlCyLJV7/6SrWHr9aDbq2xtQnmpCfZFUpiCe5TfUuJbzsBrWVjLexrN0W6DYKtW\n",
       "VO5x4OyhT/hzHEY/Ozxj79gNDC9b+yVGX+iJlHjtYbY/MaRLJcp+OP7P8hEIL7riIizS9yP1hnmK\n",
       "YvXWoFEnx8zIBDAAfvohIOAAAAJ4QZpkSeEPJlMCCH/+qlUAABMfmgIdX11unHXCEAUG8M7T0XeX\n",
       "Z2Oes/kFdPN+o/0aWY2kUu4FSb9rNUZnNEeHfSL59/4M4/HP3ZH9mcMU/IuQxU5HuTw+v/dI0pH2\n",
       "Y0+MfKhGh5B/OAfH+8gNvAEdBAZMtmnNs6nBOJg5bj2A6tMk8EyjdKal1PDu+IpQLIlueQAm5ZR4\n",
       "wqCaFrpShNVBuFAQD+/XsAkQI4FzkneGj1GQc5H8zJIIxj6i+yve7FFwOymdasAh1b/8QkuM+q/A\n",
       "BD7GUoqGLwppBy2NnvFaq5mKACW82GHZhlAYyTLP6I7Wc7HUjYH1Z8qLdxVSrMslhH3581FkFyD5\n",
       "73gkukuxJy7FU2OtnTR9pn/cZMRK6rxZCvZzX6ayocOmFRd4nqvz1NiPxA781MwHFLfHMkmHJpuH\n",
       "Lro2Zv+l8hJXDZb+Xq4NvbOdjOAzgNQ1VlVIR1gu0ukG3/maf+ZThmW2dLZV6UVqP+WHOfmPYaKk\n",
       "LuDuOCcv+ChYx8xGaIKuN9CoB7NosS1ElqOB25BxOfFcpFIjsp5zY4lLXKvh5lkox5QT2V+P01nu\n",
       "UBOFd2TdnR91W8HT1GWI30MmsFRmdM7XunYXPyZnCsd2pRS+U+lRE6UexZvQv4OBxZXXahNcO3Be\n",
       "WT4HGPOKHCJQGoW59Nt6+07qkRU0QW78iai6Alf4hRAGhGmYmM2zEF9sNH7qDueZKFAOLIKWLLg/\n",
       "n7MfB/Cj7vtkp4tkf97HG88xCTvz8uW2CIqyFRz+nm7KmN3d87vskUG72X/el7R6ulOkd7hHQ62v\n",
       "UoRZg2+lXXBSDr6mJbrmDmx0LsZrtIaAiXkAAAQsQZqFSeEPJlMCCP/+tSqAAACu/QYZezYjbgCM\n",
       "+xMB6moVj9cX6T6mKRmmRrnX8i23wU4xD74IcA/sdtyQ+9j9zJzwlYdhO3Ifz9O33FVPpQOp4aFK\n",
       "ODsClwwzTT83hgVjTWpF//uMEsI93a3ehLdhFu0Zgx3odQ7tVDV+51kXYrnPmOaZiAC5FcK+zkl9\n",
       "ge06bwGqBDhKK1faMbR/8kEXHCgXwO5VLFTdOeBH4KAUpE5Fay4c36bIWxgK2hf8sciq+zPPpl19\n",
       "IXz4cKlMnymr3o3SN8bzC4i4iNgyJVKY8vOUhLQLIhw/XrIn60o/JpC9uNh2e9iPXfpiLUcrfjpq\n",
       "UlRwudQEWTvr6Qcbxdz/NyhUXSFJpkNq5nidCuzhs7IEf5SoJifHF7sZOY2S+ZJnCN3T1nre6ZLa\n",
       "av0oujf1knH45unYwrC/wlCFNeSCf9JI5rPzaD/RlPRklUXkcS1gPjVTnEspbI3DZ/2dsgnyMq8I\n",
       "21e8TpJGHvgGykYjJb2EX1eVevVXlY5079dhVbeVtHplVz5Vc3gauLMjiGScXCgDvYaOe3qzJ+pv\n",
       "QmmD/7PQzKEeEmanQXC7nKBeJioRUFXx7MIDKu55vnz79+sBFLfnYj1amRtOmedPhO51assZSY93\n",
       "AdpbqjDKg2yuqqWoTBL1LNSfpEfLp6KVlykq7+rjBAj75mOUnrcZnPf2/bR9CrxmMFdFxtA/tZlC\n",
       "STRYO9IxS5FOPuMYBU33VpHhR41fSCqG8aGsIximfPS1CQlfCNoXxkuwcESRSCu17iRN9Ks8Eq4M\n",
       "J2GqVz7gYUi59co33NXVQNg/utG16ryIktU1N89sRiJtr8tBulq28l1Ebld2jrzezu5jRtASO4hX\n",
       "F0z90tSvCRqA/ZRuzPTJX4eQL81yfMV0GbyPokDqrhor9LIa2A9hERq7u6q7brN5uaRGLjcivu1C\n",
       "cNxIAtzuYG2RaqWP6qm+AnMa0UHETpCsSTYVAwscy/HKD3wez/hLdUKID+Ly23Riq0Oo+rMpN6lw\n",
       "x+QKCJLPF51WU81EM53D+U0EfBoot1Gan/F7f2POAQJZBxPOeKA69cDJkyq44UthkP0f6HsYCJfG\n",
       "xb24t9dRHcIpndn+U5vEgiMXtke/b0+l869saNH9VyW+qSPk4PTYV0X0bfnd5Ccs03JQiFElfaiX\n",
       "/aQOT7Qf73Svl8Nggg9qtZM9InWRIUCTc+sVsczS690bIPZXAz5vaAP7WxMT1+GFpaNBHU6CpAZl\n",
       "B2EMsq/NDAG8TwUUym1efoBJTDoySduzIhM6GWI97qOXsDv5RuFDvXzKMjiJJLh8bS/Ible2OG+h\n",
       "lBothkrIOJo9lFYwTGoyrtmIKvxOc1/xEjL6hp9CXQ3p/3JyfGa323O+EXH+RSHIJUR1Vgm/bKQg\n",
       "RJway2SMnHQFWZmbIsHpAAACk0GaqUnhDyZTAgh//qpVAAADAMVgDgO/aB4yUGRt2DXYDdOb3vP0\n",
       "hzux5r6o69P2fu/e+ImbevIinhwD/kWnpNQI4YXe5YwA0Q2Ww2dky0+Vmic725tYhpfDLVDzA7/1\n",
       "F2xeFioxcKpE3hU4fDeDUoDKM9p2s3t+kViMTQPzdvQ0QKHc9XXHw1vUwSqdVh6WPw+6Hs3R5UHf\n",
       "HFOYLNeAxTOucaj/5G/7PcHkqdS9XIxgT1J1W+ihX+L8AMEAi3EoS5U3L3gv1Dy2ubUX+pmZevmK\n",
       "tB4kgRhBMwpkOA/1HbAQYplOtmqtG1sr+Ez/wVGQGJ5T7KP8i5lTMBXgZ99l1xCNbCveaSheTGKr\n",
       "oP0NxOVWaFvpinJ4z5oFdmdhGpZepOPUEuwrfLUBoo5trgDilVQsijsR1Kp2lpEf+1Pd2qQr2/qj\n",
       "MeCWK6gTbXLLXWZq9MWo51O+zdpIjYRkN9n9kdRkcvK576+S2loWRNuWxyKXIZzdbP1F1RYCcYNx\n",
       "pU5Qw21K8g7CCO2BmIcwXolfPbpZAN/Dotlv3LxCZvkDlBmrQIMYJbzILb3/Y4cVwMl6IWgLXPxT\n",
       "Do2b0EL5+XLwaFCICSQYBnJZXwXpW5m4OOh1ft5mnHleiqvkmRz1Ohc0Hd4nIiEKtOWvd8QDdGDn\n",
       "gNQyllVuzq7N0odtETg1uESVwTmcfkZwML43FJf62M6bInLez4+k2dFp1uAeYuM5zalUBdkijW2T\n",
       "HJ3d8MUh1DSfRm8jQpQq/dKxK51221MmjT3tGBbrI9zLOL/sud0jJh+sxiiQP0snBNjAtqkPLbY2\n",
       "nAss+6WaOs8dLB36WFkhrUhrIDHhYIOhLxFcME7T+26xZWMEVLnc9H08hPpNcyeBABBxAAAAW0Ge\n",
       "x0URPDv/AAADAYFYgjo1pyjKbTWw8sKX2NVhJ25ZW1XVb9blc9k7fSYfEvjI1/nNYJOrxHkjhmoF\n",
       "YzRAkvi12suyHl4hp497wyhJ24oUMlScgvfrOORgl4EAAABiAZ7mdEN/AAADAfw+QbPTunbh1C+E\n",
       "l/WCKiYVyQ6sjBVqQmKx74RdMae/oCpxFtgbEIhCWvgoasmjtzjJwhPC29eprjXLiTPg5nNkOX3c\n",
       "/SgYTwkS7h8iJcsSCiw7sID8BNwAAAAbAZ7oakN/AAADAfvt7UAAAAMADkEM2pg0+2KgAAABeUGa\n",
       "7EmoQWiZTAh///6plgAA5PulHM/SrkaTpK6I53q1BOTjD1+OoiTa2cCVMgmiBnGbiUnh7ZaHF/Em\n",
       "T4I6t95JJ1DWk3bk09Qg9klcxjQp69mgfg7cta7qUuiigODmsU3tdkadOEYhwf3+1/TBcWLWf/jC\n",
       "GTbJXDCgOp7kuRqFLJd43CflnJxGhIf+WMvd3gJ7Z17OoHw4iQkdPYRog26+SF5FxIFy2pFKqX9R\n",
       "OiVFiEytWn3/cp8e4DgwGrwDZP9qR9Ux2x6j6F+p7Ct/n0qWPcPYdXnk13O+q3h0zmqRMleJTxiG\n",
       "kcy59bpZd2Y1voR2psux8CJQsgS/pxNmlMTi8qBZnPp5AgJlxc/hBjNovQcyjJErXOmH+PAzcMFK\n",
       "gia0OgJB5Qz0Tu/NbmW59EcwkNKCIWhHLFaGl+FmPc/IEXpjVmiTESPWLUFiBeryd6qLagH95sIW\n",
       "LB86Z4/XKRdgUP5gOyJwAxIZ3BrzW7P3xjxV95HFIvFtAAAAOEGfCkURLDf/AACjvPkc56NIRDvw\n",
       "s1O0EfHPtMqkxcNJX+NJGDwAAC9pcVJoZYm/ooVHuxtRCAOmAAAALAGfK2pDfwAAo7z5HOejSEQ7\n",
       "8LNTtBHxz1hD+WMtLB7AAACaZdIDGO4BeAHTAAAB4EGbLUmoQWyZTAh///6plgAA1XulHM/SsPQg\n",
       "At62nRFmSLDUNzbmqLGvk9/+KkcYSGIeb3EcZVsk2EbnVzM8ZX/nxa7mECXibAREVUTia0sDADhu\n",
       "sRwjHIm8KhAaLaAgr0zmIgexaPmcwLAoEcy5Q+iMY0tuDvbPnh2EhJMqk8xmU4Uo4LO1BT0/Rqjn\n",
       "10xXmeEy6Vhfm6alTjfwTkZJXm7XsTVM3LXbCZyp/Jtv6voE7aQMRJICb7BFKcR7AbI8MHfiUbr4\n",
       "WJJ+fusCddYKh30grS8hEPtVrU7/F3uy8ROf/7cgxbhL9TOUB24WExpGYtrf/+CiQqpp12DnETQ3\n",
       "UzyFGatmzmhhNyj4WwF4mIBJkNks8lOFkANL0W0KBTZYF8grlNdSozsAtP5LR5SL6frz9fH87Ul4\n",
       "EnZIBL0XU7/pNdPJMICuo58hzBne463hEkBABfR31cxI4VWFYlFVKaU1CAUuoPL6qXQ/vgfCxGxD\n",
       "I+D2APjqNq7bCyvwosetk2Hq4szG8jL9/V7RiS/R2/b1maogfusDVXl5dt3uE0ZdoBanorFgoLMw\n",
       "ncmdYHs9WoQTw6gEvj2rK/oRN0zJGqkZDCuBYGRYVAwiBa7ZsmWQ2g5HkRvJ3DAD0nQewigtoQAA\n",
       "AmJBm05J4QpSZTAgh//+qlUAADLe9SslfR4ahABEHq6PVMhugoG8Deb9R/o0sxrQg2bs7vrUe/DB\n",
       "qHmpjfN/58V4um/Y1ex/726wv3ZH9q6MVhmoMO65EnvaAQcB/wqsrKR8a1YeT2DJYYBuZboeFqUl\n",
       "6i/BHZCe3nrh1DxhhnNUFrep/3EQxt4nRJmKTEP+zRqLt9frG8/9P1Zd01P1DHMcBD9nAio2Fo6r\n",
       "c4pxy+9+fo7eRdEWGClqZA7ApTTyaD5krKyKZoAB74YTcq7N1SkKIsu6QwkNKWoK9FydxANutVO0\n",
       "5CgPZWzgxgfslm1ArnA6E28VQ6tC1LQ92ZkkMKIi6UOfqtiEAYtUEGAo69cREE6QaP3MYVrf+YKI\n",
       "rZN/dRCeHqN4fjwSYvKUeOFaY34qzHc6yY0m4E2sMuJ030CW5rqo7piXW8TaT9pCNW6/iJgUHXbP\n",
       "yG+kf7e1S8YwWpv11PZzZRTNPP35z0ksVLgPWBAkWz0/oEoY4MZYqlumkkC0ARpJ7YavaXobLwQr\n",
       "cJryXVfYW2xEnOs/DKzjYTRgq5RFMaklVgpjLhuiM4ASiPdFOFtQzyDp2OtJ5DadyAJ2ipkLGQlP\n",
       "aijH3hf32/AQYHqpAi5fMHtzdwF1ESXJjDACsUNtiJv6o4GVOIyzVFpIEJPOn565V66C5HKZtrbm\n",
       "WggDFzF41s4byC/ct4Tk6rgUl0WsHpLIOjVC1WFUZXUJxkExWy6jkoiieNwvbU0IkBQPmXeSmx86\n",
       "IZnIkEVnMEU8cnBTOpa3bDR87Yew59axSg+28fKvt/UIYIIUAh02gA7pAAACeEGbb0nhDomUwIIf\n",
       "/qpVAAAvHxevVdjgKC86/giUIBa7dCO7SUbvGumH7MBPXm+iSddkgCqM7WJwl54Y6mhb0yuI6LUn\n",
       "3g2UBr8w8pGuyeo2ihhd7l/rXPsqtGXEAaqdvw6LPGZHNQ6Rsxhp337/LEl/8IVmzyIrcvU4tnNT\n",
       "GYH0g0X/O2V+NEk3fMtgP+cyLTz7hiAa6TUYlg5zVRJQIvAv9oM0yLw37IqfRQUO1hzZjkfQwMrZ\n",
       "fOHZCMYwM4zTZ3UqlwDMIgKfH1No7mEYly7Dv7hgNI//gTnD8fuIQhwCfZvYrHQ0Ybmp3PF8ueQF\n",
       "jo9YJOwAokTPxFIB8DLhT9JoN3/2pZg+NR6zSXCY0rmVOk1DsK0lAUusmKOFybQTF3Pf7DndrG6S\n",
       "iFolVf6hBTOX3iM/1wCIkUH0vg1XvHprFVwNrvcOCz//kNBhCcYIi4+yjzVjHvIGGCKYQKYma5wO\n",
       "114ejB0roKagObO/mAqwVXshZd2X+tO8MjRDOWkynKW2AzFB/8o1hpeGdm6goGcgNbaruE/+yyI+\n",
       "UUg58V3HThp9E3/+LPr9hyGZW6yihB/fVaXZB0PNpsbR4SA8DY9QSthFi14YeaJ/IcE/peE1rCRM\n",
       "KfZMdTeMCYhTYXqx1eQ+Ql+TkzIPAnkHoEu70dD04/jnFYWmt6D2tP7JkhXXfIjmZKGhUCzp13/v\n",
       "WFQSoo3wJoEhPFuAvOR9vpE8SlsituH+H5eMn11m3xX4gX5TZWvg9xDQOwUzkp6NsqkOCYI5JQzL\n",
       "ulCBdkBjT0VbojkX6FrToy7bPUoLAyq+sizOIlIGm3sS84cv3RRhR4BjRBaYb3TKQYQ9AAADdkGb\n",
       "kEnhDyZTAgj//rUqgAAGC+PmSumwrzgAIc/+tZKL68f8IouvVsCNSiI7tik2O8mPktUppAzN8skt\n",
       "aabOPOLP5yWSiB/8Gej47YRJcEdMSQkkLT6+KdncYQnjGbbd78gBy8B0dCzHO2Ir1fqjuozUmO6/\n",
       "pKg4ZUNP9oTjcL+Evj4Tu1mt0pqIyO0wHsJ7IYIaL93V+jS/xxiUgShFwfZ/bkxm5jrjJZsBeOzk\n",
       "9fJnWBX5eZNShlReK/5hfVe5oqoNjHWj/FLVUjSMbbNdIs1AiIfI13007X4lIpNlQcmA9ijRv+8s\n",
       "tsZs+67EuinA9vi29JylIza1ltDPbCzqdqru3PV29aNwJbDFjjSvYneD3BHDMjQ3SQdjgZpLK2qP\n",
       "IyfvFzsGLdCWkFZUxY4llHmuc3W6btHwJJSsixL085e2M4U2hID3nsE9on4cKqKRdrYHFToORSgB\n",
       "IiGlVX9GhU382M9nYJdJJLXlRhK4A/j5PIqK32eLmmH4Jprt84gZdHXv5nlK2jUfwl+rvW9v8MNK\n",
       "QK69xnyl1rPDTYejS0El1W2r1lDrv9rLlX50k7rysBHbn+GB9T/TvQz6EWrtsCOxR3Cm6Mr1csBv\n",
       "D7JCDYDONRApEe///sTzkdBNjOxgZqxU2T8peOuN3P3Er0UXRj58Sq2vpf6TEsZzwwV41mVvNyZt\n",
       "8Dr9e28n5meVun8SisK3Z0JEGtMDUji3OJ3g8MtlZI/r/8gtWAsVN0dQiR7W2ugTTyJsQ2m1YRcf\n",
       "K7jxokuz96eOfaFKi0lU8S3xn0X1wXDwfgmnoCGSoWxzWepu8XY6sYXsWNajqc/QDC+ZElJN5jFA\n",
       "Jkpc5NgJZS4BkOztEe9B7Zl7SmoWC16Z2wQJIFQWRGPZZ0+A9OZeiqeibOQw7FHTSWPzmvDIfGR8\n",
       "f/fXhr8UYUoVdNwqqviKGEZwyrsOB1Wkif8LNuZUOo+Ujd6sjBkZovJhOL/6mWJD7d+J4WHlKiND\n",
       "c5rGGpMkc2ZfwM/XgX4qp6Ly9ntN49tSXPyxJ2QlR1oBfABSxHAUG33pBFOhdI2B6OaqovmyTvHb\n",
       "9fOlH1F4anbJQmMON3CjE5leoXbc3AeWchr5j2kc/k3E2+D6SUoBloiLe+nlSo2TdzxcAtbeZVjA\n",
       "/31PYAVMnAJSCN/vDCx7sR5UbA7qa4nQUP4zFJAAAAHbQZu0SeEPJlMCCH/+qlUAAAqXfVCrQXSM\n",
       "/qdyPkG/dk9g6+IVBGbX+zn9SpwAcw77fTuWRZpIRYeRWoCTQLMaxtVA/8NNvO34NqzRWjeNe0jw\n",
       "4WvH/C4gzDJ/6LQNPs3Lrm5Guj4vCwave//sGpEX7wBE35kKdxi5+I9x8T2vXnJfMf8LIBflpDVx\n",
       "pRBUiCRZVSrWqIWR3nETKsVOpVZPUVejSdkA/5HV9E5/RGXe/8kGj25wRFvPknZsECB9k076VsV/\n",
       "NeliTVA4ywEBCh7MorwZylJE7yIO23pbl/Rk7MN8hYvHGG+XdNdCfqK9onM3ev0DTrilYdGPY40x\n",
       "xaihJai+NPTyU9JziCSIPnHJJOuH8T1fjn/LBhi9YQOOdtNE4mWfn4gXk7dhlICafXVK9IpNGoIB\n",
       "oi+zvKPb98753NdcOi4UGTI3k5lkNEqUEPhJETcqio9QQD6cd3C/YKuHrjbbY4+hELh/7dmb0Tbe\n",
       "m5cJWmUWQypuIlmGDJbokVS48NBZxQ5JUADE9alY4vgLWuvruIxiJeL55SVMLkAqJ0j7egshRwMO\n",
       "VDjs6t2xBM5U5KFSfrX34lMIN0BY4aBUvEMO7U71pOe6FNKuaFEtqopGU03XhnmvxGgKCAAAAD5B\n",
       "n9JFETw7/wAAAwB89AbLwB2eGdH6sVu9h6VacaxcwmShV+ZN8USO01xS53VMtLICzuYKOeN2lVn/\n",
       "sEgBwQAAAEcBn/F0Q38AAAMCfX0BFYjC7MmWw/KqVMOjicQz/bRBzrk8ea8Ta41SO2Kw+xWDiyr/\n",
       "CCmPPXcCdxWAKWNHVVASaamq0fNCLgAAABsBn/NqQ38AAAMAAAMAAAMACsvQap0yCuLUqLYAAAMK\n",
       "QZv2SahBaJlMFPBD//6qVQAAAwBMf7U9qpc32xpf13r0K/9AniXX8RPrEAHHoL//z/gT06Fl37bi\n",
       "vzxt683jK9SKWdt7/IGqf3//PgeQ/YPI530ndxynyfWGz5Aflg2fbDqghi2COjgFq6/Dx0cLpF21\n",
       "LOrdqYegJ2++/KmdXFNXyeKKX/GR2jTE5mK9qehBBpQMKCQbE7RBevc1BwGrsslm0JenTLFrLHB/\n",
       "52FAVQAoD6My3RldtoiWYmJMA56XCwDHMYggEappoFkTTQNhp4CcqLHV/3uVWAvVn/9/dNMVUG3a\n",
       "LNQ8W25CWidWJN4hf7qibsJnI4hBhKV6fRTT9mrC4TDMIo0Nhrd025z5U9ubjOVDaaz+Iaym0v07\n",
       "45xtjitOR+qRuVza2vMuBzLHPu7BylFWxvlIeaN92SYGtmh4soFKi7m6re5i7icbzn8Ioam5g/AN\n",
       "p+N8628FfsmOOjpQeIvzRSCBn+0EtpdxiVOiXPZOdKCJVPxD7MPdtDZbTZ3TEImFZiS/j7qFQ0zq\n",
       "+hSIIO7BmF264VU9cG0YPXu2AVajnfruiDB8+epIynAJoHkKXWaPQeCjeIe43UgdePqlwsmd6UDL\n",
       "n35gMKtjRPI7DWZV13ByEYwDv2Hm04sCCbaxNGCnf3CneBaOz/m980PxJPctWCXxJs6FGwVgH3fZ\n",
       "QnYd7iiIqjNGwbSaePnpPupvwP24E7y3UlpyyV2EongertRs8taCtbwtFjoev/hno+TXxiJHarhn\n",
       "R3s4VmPGOylbH62lx4HaHJFx/feVoPvYOAsKb/YCH+eFhYWeab1HCSrFS0JU7EfCHHZScPeUhEk/\n",
       "UQ3mQhJzS6STsirfDQtdMXGdvhwKd7a3JPvKC+iALt3+8a4n6gnze+Vk0D/2v8UzcIqD2kwmH23y\n",
       "jgRFDgitdtArb8XFQaZD7kTtzOnnjtndIiS8bCPp4qZeWLT6BUkrM3vLO88wZ6ePey1aoO73ReAA\n",
       "t/BAaRReBAyhFvaAlTAK8r/W2ojvwxYF4JtFnEzAh5yv8n5xxwAAAEgBnhVqQ38AAAMA0wBcfrfR\n",
       "2IQJL0QToJhUYgRf54TkzwZYucEaufgp0f2vQHtoaeP7ls11at19nZpqkRiZ5t+jGEDGq6Fm/8AA\n",
       "AAI2QZoaSeEKUmUwIIf//qpVAAADAAADAA9B8nwCh/6NTYPvXEhWH7PkS//JwNNGwODM4faw2qkU\n",
       "f6NLMbD7evPqLAt5WSGEpjjxJPzVTIgZEmZUsfesrRZtxLzY5O/vO5jxj/LxKhS7Yaf7RrreX96j\n",
       "rzWnxNuqf6QEPhUn4YMaKCguFVHEQJK9aDJatLNGb3A4OqWtjvNNeIQx7fiBBekuPAlqZFbsAyfk\n",
       "2CCa2Eh8qDQPQaLotYhmzAbpjGYuW3BJGPNTZfQ0gEp6dP+ITIi53CJ1nOAhPiSMS7ehtkvjXkUd\n",
       "q9/nX8Ydjp3AB8ICJrgjItkSJ0L/8ZfOO0D4236b/D2ImmIxWndpss7mhQqzQF2kPduFU9gL2fyZ\n",
       "ErQK/yq6uEk4KXch++phTU0vbLmEmgYkPrK8rEDB8uIG9RYS44m4UjZ3K9wNYuRgFplxXLB0le1Y\n",
       "4KDKLpSNwjWAfh9GG4X+Kyky82GTS3K8NzeksgxJ3emWvPtyPlnva1xPGCmshNW1jqGINsrQL+3q\n",
       "lpb8rWuyvAJ3xLnZ+vW6f/WlFoofLyWoH/FY9YdHDP6oEJBuSksiWtqLNzf3WXcu0PaOqzrgHctT\n",
       "iuudqrtvvjM9Q3PgI6gFSUiMhi33MGMOsTLgZ9SiM8E/LAxzpvZ/JLZGCHyPt2jGvYa7lYdH+QT+\n",
       "vptWKPWggTeMTbVH6UpTQCDqPy49jm8bdMTwyrxSwr63u9shW4rE/y7CBmM8p+bHcPLl8RSgAwMA\n",
       "AAA8QZ44RTRMO/8AAAMAAAMAHd0BsvAHZ4Z4TBCnYihnYWmE5kWTyEAIAOCmPae2dA9zjXTPre7C\n",
       "X8lgNCI3AAAANAGeV3RDfwAAAwAAAwArJ3RnaCg7npZrAicX5JXoNZhPfWoZ/GSaSWhU8J5cpX3f\n",
       "dtSkE3AAAAAcAZ5ZakN/AAADAAADAAADAArL0Gqc4RREzInVsQAAAYpBmlxJqEFomUwU8P/+qZYA\n",
       "ACpc98Kv6vKuYiIAACfFG3/jqJmQ1rTKa5BudistpsP29XKiV/28DAEv95IgnB7l7HRgbIkH9DAS\n",
       "sOQwQ+zS6zL6lXbFZRmxNlUYRh4ZDJAi+vE9rFq5PkCxxbK4a86ZoWC7KX4SeYQdxRM4DiGV5ZJX\n",
       "5LO0scQMmUOcUjD2TydI0WOPG26SqIV5uoYxvo3VehPNQdPDGr5ZJJ7wE5XgNFXpJ468LYwi8dc3\n",
       "CdnB0w4h4hEfIgKCBjIFAIb+noCmrKprobS1sLh3CIQfyAQFB/nYR5HjPTdEY3MZ+IoV1Iv4x88B\n",
       "JUfX0BOP8ggMOXKtLRNPQDoBimfuYEUu3THtTGLDmXkhFkfGgN01Kv3tQMqEiJBhi/m0IVtUQr2V\n",
       "+Wi4Khjj6KfHd9TQvu0HJozfCaE638PZH4P8Z5B8VaV//EoMWlPuaFZHnR9Vjtldq3XwhxBJeYre\n",
       "Apya7Om7xgZiCuwEWlMHbWQ9GmsoXfqS/z8dsdRZyYv04BWwAAAANQGee2pDfwAAAwAAAwADilCA\n",
       "5z1LFw/pFzNQ9mKoURnDDvu3oc5+8s974/L9BYyDsBNFRXJfAAADA0GafUnhClJlMCH//qmWAAAq\n",
       "XPfCrN7yOgNDnmKPJaAAPPzz2u9ixHIC8rIukCLDpi4dleeFzZKZZwAJVftrTIvMnrkz1AZc1S18\n",
       "wm68vUg9u+LXcZ2cE18BNRYcrroOtvCbErz/WSbeS4Sw/2TmXcrPB6IEdpbRSKtVz5s9Dmm9UvS9\n",
       "gBtvjQqMz62DVlFsoQU/zLF1kFACnI9hSdXhPP32tcdLdtjPYkaRgrc/fEtF6b47m4h89L628i2S\n",
       "sduCQZwBQZlTHN4ympVmzKeG1o34ZKnJJD6NyjA8wsUvMLRp+BMUsaEdTkkkBUiFJrJj/JD/JmPx\n",
       "7FkJTA3ai9BQn635eUhBsvB8bbfyPpGxxIkTOYv75N9L886gy8JbC1EJC2WB8MXULE1mjhD/w6oJ\n",
       "wMs8i0Iok0cwvSS3dR6xOevWwo/3Lx/r6MzFZOBdmi88ydd9oT13P79I+EOr8+2BeX0qMKodW3tF\n",
       "tLnZfTp3sXu95xrMzuI+uwwvGHCWw1oIppOqDn2ZXelUqANlw6B3MzcTAwUBwCysO6csWNE2s6Vn\n",
       "fLq5GY3WspDliXTtKxNyh429CY0aQWSGYnvBse7OLKBjdobyxGOg0ys1LZqS2zI/6HDojeRvD2sb\n",
       "d6ukfW+Bv94Y0HtjcIButLIUNifB84kPstukXOq8llTvnjw75r+QVQtnC6OyNxRV6PNV8qD4jCSy\n",
       "4YdmPZjQGLhdKYZgv1KOMnij3rTX8K3fdYp6NyENX1d6ZiBX1GnW5mgFjcx83mk8Xfxiso6wHwrY\n",
       "RchEvCSpE2K74lvGQBJTLfK3zymGmjezQt3Q9DUCnwxkuB7Vc56VUe+htFfAiXvlKfgyROqS8Lz1\n",
       "/7g8/BZx3XTUuCCZOWQ4GjH//c0bh+y6Yc/f0WwXcOtZqF7ymls0q1nxC5lFlnSVZL20zsrFKM0j\n",
       "PkyUE8EFK1bJtfH0iK5wDFZ1Bx4S4OTrR8deOAtmF45sBgnm1PSV55kqe8R0K+rgPctIyKoCeHdk\n",
       "slz0/W7dd/4bYKAhYQAAArVBmp9J4Q6JlMFNEw3//qeEAABT9Xpu/RdLQdsAAI6NHWSVxdPqDL47\n",
       "d0DoUFu/amXg9uOnuaTpmewe6XiQpcECdUvsYTY2tAEuBGAeTb/klOlcfcCtVnHTgK9pQDBrNxks\n",
       "ZX28wE1oAXM5M7fOqilVbzWTIz953TTUj6hKvIyGTDn7Jue7i93UjjZOfzkgDSVkOdlT02c5/Q3m\n",
       "SXEnKpbHJ6i6GdnNOM9/3tcNzq8jCQaHpoI4ed6uPHRONB89g7N8Rpi+i1LxIHAnyqQ4ZkwFysOg\n",
       "bdjzgrXLrJwVm9/bW3eiJAq24GrTGlq0lFu8WQigujSIlKLHrMPU17Acb5Ab6ZPxJ2oSwfKRLPeH\n",
       "6t5wXIPEJQt2qImSaod+5gZLnWScJpOWmspBeZuFzutvyvtqaMOYmCWnKEj/SgIpY5PoBWNq9M+e\n",
       "SWQwC+KAnVtIiModZwTQ21+nImhpI8k1rQ1/+C9KUFB2BPxJ5lWUUWNY+/sDg8Aj2moCR5kELfhZ\n",
       "ZaJXnQEpdRbrnmoNncPZpxDbtriH97C2WhPgPTqIaklXDXu7hAuteB7MSktu1kbYug9yBOPj5GvV\n",
       "B6OR6nMQiwfwDvVtn9hxq0O2d7YsNu/oIYBNEOyOKbNoCTmIIBh4yNwJ9C0Hny0dWQL1+ulb8jPS\n",
       "75yYAusitnkptZuJE2J5cG6FAAMV5ZT2BlM7F6u1jC9Nz2asUqh+NTSG+f9XLQXrxU80aw9lgvyH\n",
       "4SzrNFp2fxt5MKPuvzfwQorCnAmEUamJiCwIOsudXcNS4LK+MTYJPv2QsAGCNehUOBfshOGe6V/5\n",
       "wHTGs/lU4rBRukXGDo6HpLTvSwqfFzyCyndilhqknPNNlhib1i1oiQrf8FXArARsVsZZSagKWOUG\n",
       "a1GeFbOEKHUGuvZb674VXA3qvH9Zb5joCggAAABIAZ6+akN/AAADAAADAAENjJSMQQSgA2i5/q0K\n",
       "1/d/WnNbZWiulfGPvYpQDaeQfRHxd/+ben67MJ+JgnUG473Dw5FetS6cNgqAAAAEjEGaoEnhDyZT\n",
       "Agh//qpVAAAK331QI4gsGUZhIm7j8T31WPF4aDtsV6JOHA6Yjzy/1RYStcxqzWbzgPLfA0aVe5gW\n",
       "nWO07PsSAG8svOs8tw1eqMjDIjbC9fXKTxuvp871MkVk+FjJ1jl5jp5s7naIgE3LjCOAU6MF2DJr\n",
       "yMxM0DDmmrRAfcJOxKnmULgiDQLKV8leUreO8I2DUAse5gSkcrudm1mZ5hCsoiCLV3Gyh6B9W+BD\n",
       "A0GPbPXuVu8w/oFDexAOvDpTC1RUXh1rU8Msra9aeG/sJ08dcvQCLbqatY/7aB3Q1khV4f+FAaJp\n",
       "flJ73E1B5UBlPoBB0YI+yfqLbaf+iHzcR1T2PHgAcfu5JXEa5XG3kYEo+OqMrYALk2xp8Sn0w/25\n",
       "lKdkXQUkZHX6fVMAW2X4NP/rVANxg646l8FJv9a/ZU8g4Wpt2TuTbHCk/9AQoxRKWcYHTS+4qgNe\n",
       "X0rmBI/Cxhyrh79nuDSm+7PBa1IfGx9sKvlZCF5eV/7PB6Ud8FEZtqqtu8c2VWqMeGkaaKeVcIq+\n",
       "s3mFvotSuHVkKmcK6UNPjT/SK1rb1d4wUkxWaNPrpFd+NcuBgXBlo14B6Xsga83R9lTYaYlfhKxQ\n",
       "oLesaKfjKZA1wN021zpz239sB5kcFj1wcUpVhs18KeQly0zoeTaug/dxETMr5MaRR97bll11GeHA\n",
       "BinTJfeA+vudWBwRWykdmYOsoEjBMrb0A+bFde4jjiBgWUq9VY27GIPZnWecBSsoMhEkvf2ED6P8\n",
       "Ot1CWuD0VKjPdC3rvcbO5aIWr9hYpB1jmirgr0DuHS18zZWZoGyP32fJl91OOZg5KTQdPtuczjFz\n",
       "F9lJy4YmspIxZoSxR5dSo+dvE3VHuZGoOTCJMHpMFx+g/ohLLlIBpLyo4pd5w+/rlU5apjqkIkcg\n",
       "aK8UkzTyuI677K9z7XGCvmG6/sdk/w5w5q/1Xv+N4wif4TZEqJDqcvEnzHSL7pCZU8fKdu18Cup1\n",
       "5anAszrNQU+mznk1MP7by1hX5z65XT26L8L/oQGQNrX9NspKoGNkZS6n2VzHm//ghnNNTkUTBJzW\n",
       "Raxa6rU5RClolSsI29XGKYHY7A+OaxK+P0WTKqnOaPxWYWyZJsnDarUjqzRdp33Jw+9s5HRMrjEs\n",
       "c5whlGoe5khUCKAZ/cq+JyVeG9JjyCbjnRHKovk707d61ac/OZnWgkuGdspzUppOKKrYWviARGGl\n",
       "gM/Rlt0peGkXi5t/WyrgmVmUTwTDQhvTtev+0fjCNvMXlmQ2AAbZmz8rBiTTVRuEtVXsCCCShcu5\n",
       "LX2riCgItN/zs7OIVkVAa4HA0/6gQpH2RxcrBBqKJXlNZk9t1n0PwSegeXk8RjngzclAMu4BnMv7\n",
       "7Wk7nNs8JXhUdZ7XAHCarKX6kGp3lD5k12lyUxJnfQwqMgRXUXbOhUS3EfxU3Y/qYkXG661Ctfqx\n",
       "L0n0X/gEWbF/92kTZaT0s6+Ptz9wUE2uWxttK7hfusHbrohYM/+htRMjnrII7y7Mx5CTBZdchQE4\n",
       "fCw8v9jtJlVIvNYWPcoEjQAAAvdBmsFJ4Q8mUwIIf/6qVQAAAwMVPnvhrYSz8/NLaSgS6a9W+JP6\n",
       "qno0jB3GCh+aPkRdQquzHnks4WIrV47KyMpyn2hdqxtIDnH0vMQFnMb0+M///87ki6J3iCggrSl0\n",
       "DdQR479VjD08rU+N/8aNRZiLBrI3Pb0SW/+F8aSUdWKEBWR4+snCsoZhBN1lrrZV6Z4W15mcbDrv\n",
       "Y1f17JZqZWiEh29wd/mK12vF0HQ3C73aM8zb0yyvyAMBbw3lbIYvx7rik3dZoiDs94UedvXDovcp\n",
       "3+mm9/lFilCHxjoW1SzQ19CzCd0aQmjAiSGkrLvzyAdzV7CwMxPAbgBl0mrHAySQv5FHm3YgN8Xt\n",
       "uV2VeN7Uu/fEMkXYI5WK3p77Yhb/ylO9QlvpBKwK5kd9+RdZGoWj0Y1nC2WGbGMnQjhcNZGWli6b\n",
       "pSSVxtKdbEkUMxueNMDNVE7gGPc9TqmC2AMSPntqEYctoGqGYXQxDnztN7S0H08WwTHrTOQzJF0O\n",
       "d5tFqp7r1bw3nR/qPbm3vFscMfu7s27MwGUzwnsNph7rEMjmY7kixhKixOwA+neYLFrT+rUq6+3t\n",
       "IBWaisPOHe3lkJ0pCLDZvYKpHL1+sPANC9SSb6SkopVZJQOY+DywRC4LsgH5SlIbfH/9FS9ETIYd\n",
       "Mz6yDlZg9ebQS7nSBbnTUnG+oMowmnzn0f6DXlrqtZr52dvuMoLJU5DBQhxPteP/Rcz3chqjxkpO\n",
       "gfxAV/90N123vHP1i88Yt0IA9GiODSfxUz4hiD5r92DMlBalaveRnxIW9GguGQxUcjSIWgYUbMJX\n",
       "BQqfJquVGt10goHj7Kl9zcpzQdHtF/6rxC88eSEMQB1qhaxf4V0z7dFL0DKKmj53P/u3Vt7JE9L6\n",
       "vLb/EfQvWGbU6TIIp/AMMfaVbBfiIgp0fjYrZvhTDE5NRYPwEPa4HaZgL3kcXHpMobSq3FZ2cvCj\n",
       "Y0Qivi6GDkcuERek1vw84QZuB116m+nL7HMeijlnnTJXvZMppKwAAANhQZriSeEPJlMCCP/+tSqA\n",
       "ABQvoMMvZvFpB/BGGwKT7N6wfRVKMAMEUxaGRF/G6Zc7rX+7MM7WJuIa9e4uPOsgc/BYGAoxic29\n",
       "62QhEfk0H5GX6Q1OY701i1t7IJ7QocxEE8nKsH1YWvMrfjfuwvTxZilbviU9CC719YDnHGMDE8NU\n",
       "evJXUiulFuUGlnbRzx4VuG8PY6YvBGNx0e+ivJmesHhLkoMAIm2IwazXmBz9Wwy6gS0wQTgaP+NE\n",
       "pGn2OXLmEUwhEWHQePFVnwBBe2rmTVN0tYjiwx4G57zT7fHGU+Ws5Ahu2TEgrrBhDQWunqAv01vt\n",
       "eiv/4DlidF3rlla0ErI4GVhBr7UDzCa7g0Z30zJqCs/3V26DSRlog/HlkhPWtLP15r75PBjLJqXs\n",
       "9XKGhK07YpF7rwblN0YLlP1WeFt4dHcHE0RTm5i3k09HB682ScosiBQwR4YEQy04uNV5SIKp39xo\n",
       "TezPgIVz78ubf5m7kH/eytTUP4Myle6EQL9XWBcKBVDlU1d8fEkB9hfBH8OD4ma4ucGPDTbbHIbY\n",
       "lcatC0xB1L5fkrxKw4k6kHGpI67uo5TRk7ZfbtuTXD1fg5XDC/ite0QMaCIwqXsn9urPRuR/o/qy\n",
       "6tWmXl/9C4DTFU58yDLwToNGDczjZM2HZCoW9bJSisOjg3dG6vr/u03cHIB09ebuLuxbFIdl4lCx\n",
       "XFUXU0wSAQviadK1QRI+uIeuJ7GREo/B62Nz1wHmZiGae6Tg3vcuKDlS3JNqKjyV/KWTRI2y6jgI\n",
       "dKvjrB/y0Sx4Rq9Lj8qJDEtL1XUXwSEi0Dck6WPtJxxydRGg1wGwBbSNmkMfyeZWeL7Wlx6ZuwfU\n",
       "cdV8TvfUoY6L73vXq65soEhHXkQv+ycXGVm2/R2XkmuxzNLM4pQ7bBubdt10QTToBTTMBHpJGMHx\n",
       "n2rn4r+WNXNmNzAhcHd5vIMzmvvIqcNWcPifeDrQo6K5xR/7NkuP+b3ZEBljvoH8mSyIbNBqqMUP\n",
       "Cv0e02MyVDR0QnkUEalknMn+9hruYezwbk/hD6OtePxo9oDwMCxj3rSdS9zZmpHYNgR8FGvwu2Jk\n",
       "vtxzcJ0kSwRR2qEHn2SRp6AL0pWJNyYl4ueYzIAfm5FsIY66dcX1nFD9iqi599D+896xYQAAAxJB\n",
       "mwVJ4Q8mUwII//61KoAABZSfpAFJvIEA+LNeE90GQTe061CK/3ZhnazY/SVkmN5GyK6Pgyn/Hm+n\n",
       "o03bPppoBWHzk/75hOhVTpIrB/Md7RCGOx95RtruP4gOYm5afOX2IJOtAhaj6iNBbCTdqiupoE1m\n",
       "2Ve58q2rZ93qDYsx0iOT2QDUUp4c3FqeIL9xWabUoMyMt23xWVT18m3ol9L/Dm7yDyowrOH3C8jK\n",
       "D8FQnTqH6vSAm2I9rK/dn4/yIfR9d//Q+o2Px+XrZby5N3OA9SHZ8l6YEgQIVRA6/10kMD/LHAeP\n",
       "8PGpxY3/ANUUWMAAIKepffQHT3jITnyou8XHQw5LTZCeAidEw7LiD/oxRDZQkzQ/BpScd575jmKZ\n",
       "0DcBw5GXEyJdwJKPeXT4Bi3f4qumqCoXMTuJMsWwK15nWEoV4xFJIiiEaO59jocHdBTWzNC/AVWT\n",
       "IYgc1qA85nGKILc3MwdaZozoQ9A6oiStO1Dsh4i0CsfF8f1XWnCLwb5KJ3JN/A+LAG6nRNtvypIL\n",
       "VMAA8CsQTGQ6z9oJlMeBfWrAh38CqWwP9Dk8ryAMBo1o3wS0XfUsB9Dmc+I5Mezql5Qy/hdW4qsp\n",
       "XOAptN59BvEwZDQyI5xCE89I5nzR2slUrPcVTloQRq1NxPaOiUZDN+bzbMGZlEfUFghzJilrNX+j\n",
       "1/+jPPKvV4a5W8kiC3RtBVIiF6MVxORpO3+WbCoaaacjvVK3eLcr89W24Wjjje/J+324SuqT8v4g\n",
       "GbQ+izIFfMogR+EQkdHC+Pe4XSYjXBcPvcOcV1Dg0QGhrIkSGOk5pWICgbA2DPEh14o7VDQqo0xW\n",
       "er1DxFs3F+njZ3zcnigrwwc5mBzuqI4bOOennXDN/op6sWzJxRA2EAKjbWaaUQzQ3L3EVb4KLs3F\n",
       "6E+VknOKfAVOdTi+r+xVavJJYN+5Aj8Al2hZ6PrXXIWkI3WbsvrKjwGVm2WQhrl1CibIfgmGTyee\n",
       "fOdTZhObbjxyufiJIOalXub+EYKA/EK+PPEVMhd4zDE7UHDxbN186paA6YAAAABcQZ8jRRE8N/8A\n",
       "AB5e1hGG8yIARJyAjep8JXbleM8mnlnqsu1LYvMPtYOtgBNJ2O88jyblD6cmgwysTNTjL7jcB39G\n",
       "RxE/arEPKN33FmoISjJx2exLawdjCSLMFBEAAAAcAZ9EakN/AAADAAADAAD7rSzjyuYsECh0wABL\n",
       "wQAAAbRBm0dJqEFomUwU8Ef//rUqgAAAAwAAAwAxVJLjuM9uJABPkBpInitGbiUlvST9R/w9hdFx\n",
       "D/64WjopZ195zUEIYBYFDs3B7SR1cZPMbSz/68KMHeHW5HWfz9J45ZX2zuU8EXx1sEBMU4F/qEGr\n",
       "t2NUOQefCoSLn4g/bmLkDRifs7XA9ZDsyVFVY9mOsIC6d602bOUrAIkvQtL1kEAPkp1npDHhHX3B\n",
       "QXaomdx0e1l9hUiHSI+ouGsa7ijQuYB1fpDs+GFYJk/yp4wVEMcpKBiRKRRttBTCbAG132MW5WQM\n",
       "HYXy7o8DPFaszi8okpHF6f+uyu3S4cKHFZEboXF3ts22HYvVjVVX9v+h8ndmgbVXmuM9uLNCmSJN\n",
       "0kQKM3w2mS9Gk90Ba7/YGX7K2Sljso9vwO9RJtRhpdLxO5oZERXtAkOM21ajI1APPRsjeboZplvJ\n",
       "DiL+MM3MlJNaHdwh+sXXRx2nh4eI7Sv2OplN0PKBfnTQFGPB5yiFZABpM33rZNVu3cHrtVLrHFhq\n",
       "AUikoYDDoqlmHzk35s7q6YmU79Qq2viYrrxw8n2IVEfoXnrAuZUfZSdhAAAANgGfZmpDfwAAAwAA\n",
       "AwABDYyUjDezGvn3q0IEIrCsnK5ZvaiInt4PyTyzgENkNbnOKdLCRnM3oQAAA7tBm2tJ4QpSZTAg\n",
       "j//+tSqAABKeZv4J2CANwjWLZS8wHj7AJqzMO4av8gM3ElBQG92X/Qce8srDMO33SxLbYd3MkNNi\n",
       "XygFVifpzVlMbywJ4gSrnTuH77QZQoodm/eHwiXhx5Rr9+ZHMsHXN1OodIRcP9chLkYzTsQJcguT\n",
       "1YDq1AbW618qz5m2oPGSMEIzbfaO1jY0V3AaHFuBor+YCqG2MHoohNAwHiswLg+ZPLpBukaGM/BZ\n",
       "0oSD49svr4oNfGmUEMHyzXNltPHfavr9J7TvU/jle3Ej6WToZ8bbABhAOlB//1tQT/IoM04UDNmm\n",
       "PTmCenK2/mxYhqfryknfxNNFWVPqe+Z/Jzd0tiPXWIGV0dFaG1x0AiAJjnlPIZCkCMypW3QvUgAv\n",
       "sQZynmsGredlqgsi3EL2Wi57oOP0bqskk6ncugp7raF6AJhYzj5qRHkTcaNCK1KfKp43vkdUVvy3\n",
       "zkTtm3eVEKB3VZPcgMi1CdXlKz9yWCBaer0oPytmxUAW8dFcFFcGxbnBcLExyMXtJHpDyZxfB9Ft\n",
       "QfICurfDUhBx/I0SGa3Ye/OCyZGZ7GwTl7RpXmdzCBo0ltaxSKM/Ei3PoagYlblYKfdy9rKUzlIo\n",
       "VSv1qFyCS6PgqnmdAPFnTFx72yHDhzeRbDTB116qvUot91x4JWHEY19CS9pUjLPrjxNWPobR7Qyc\n",
       "sUgxcLkZDrwxRX/Mbe0K+cBnoWmLhS0lSRgZVMmoECgSHS04Aj6w6vRx9KbKNmbuz8XD5i5yObKR\n",
       "/P+K2W7wpp+W7TgOdaUm8cQG0mr8VBVwjCsbZ/IDVSWiKd7bcXK+uFex/R9ScV6K4RNxhwNQBcxG\n",
       "OQP3rsU5vvT39S8M1mUXMyp6KnvBcvniVtJZBFA4NogCXxBqUo3sSMTmzNbpSLf7OMWoErzt/9I6\n",
       "QtJxZOasOA16LpGb0dTiYayGofQbyHmppKmUIMpdgiaPj69EYAU2f8P5NEQ9NZ/DzzXQTtLAboR+\n",
       "h7HkqDJ97lXeru4jvuqzp2ylvyEydFlIQe2xBbqH/qVIOYX9OconAkrrxesR5sKp/FxYO3aImksI\n",
       "j3BdDoLu7/bE25YHRiq8yZH+5280CvX1/iaTdlD8hzs9aAWBjyR+5AYbgX6u26DEWXBS9aVeRs46\n",
       "zJHXb0e1ggFhmx+fNLO5KMCQ8Fzup5RApPGCcyZsxyXjQDK9HAifxFOv2M/bmT63AtTzM/u8VA+Z\n",
       "xXXgRqESmjUgokPLd4dqAhzkDUpWl5du3d3Sk61SrAMqAAAAXkGfiUU0TDv/AABIHJNl4A7O3MTE\n",
       "7Zkpv5RbOI3s9YYT/1YodloWYDgLDJgSJpYxYFvSTVRPou6zTWFfOEs62lQ3V4RxV0CxYi6nMgCP\n",
       "3BocQ2lOoIXAhcWVRlxeAqoAAABRAZ+odEN/AABm+qpVWK7GM/+Kwp2UwjYsuvxJq2oxf5acm0yE\n",
       "B+96BBtBhU8zYLehjK+SwzTIwiERyduf01bGzp4Q9YU1hTWFNYU1hTk1yDFhAAAAFwGfqmpDfwAA\n",
       "AwAAAwAAAwAABBa9bYbAAAABy0Gbr0moQWiZTAgj//61KoAAEoRcR5tHZ/xiyZ2gIVeQIEeiJOzi\n",
       "XaPDnRMve3LA1KjOzrs+ftScRjZFaUC6PdJY70R0ltKxV8gK32V9Pn8d5lFZtxPXJ/FYruV9glaH\n",
       "V1WHHmw6i0baaZYODR0zUApPpK4RkvxnpSeDR7yWjFp6Vlhb+BbMbFWvZusepAq23z6T6c/mc07Y\n",
       "hnk5OVLjSDBEOaLcgAP/kFIqOjcW3ws0HFYPjZsoTOM9mGiOd3gPaLfrcC2YKz+CR29QcvWHmOwx\n",
       "okJ8QJacwmIZxLSvuTX6OfWQHJyfzaeDhXviQHxdW73LGTIgFqYzb7FGrc1kgmF4/BCe7lZDHeDq\n",
       "A4jch2NVGvlU2xSAnWvXw8XMoTJlGbvmFVOqo09+aGJ8qL/xOq0bO8SDkwRFQGRUBkVAZFQGmPxR\n",
       "SFoV6f+QjBJ4RtBN/rw6X5sxcKy565a/pWkupxBCDRGNi4r7FFYynX7iXkm5vdtu5ilzgHEl5s9F\n",
       "abpImthU1XNCuXFf5tAY2XBslYtXjphQoVOtQlRtv/Km41yU8u9bwJQMqKrcKpq1Vk2xfMDvb2X3\n",
       "5DtQpQBRqDV/l0spw3uXOgbeL8DZgAAAAEBBn81FESw7/wAASCP682xwjSU+vmIYPSvssaWKU2GM\n",
       "nLnLRI9dy5qXQDfyikGJ8a8+Cd9CZOnHr0VgvtNvkAHzAAAAFwGf7HRDfwAAAwAAAwAAAwAABBX2\n",
       "NYbBAAAANwGf7mpDfwAAZwukxBXdZjMoo5U7S9RjB2c5PhSetc6+HH330t1Ka4wG+sWfQ6k2NzfJ\n",
       "TGQsyoMAAAAtQZvzSahBbJlMCCP//rUqgAAFlJq9AKh6bF6/8NA5rzmsKPeQAAADAAADAEnAAAAA\n",
       "GkGeEUUVLDv/AAADAAADAAADAAADAu7hfjrYAAAAFwGeMHRDfwAAAwAAAwAAAwAABBX2NYbBAAAA\n",
       "FwGeMmpDfwAAAwAAAwAAAwAABBa9bYbAAAACaUGaN0moQWyZTAgj//61KoAABZSfpACgosEA+LSg\n",
       "LmZKr3uAA1WBqVGbbvaVyttsBEI11YdvukjhNwI4rAdh3u8yAxaThNViSldzRNmeexwG6Xrt/hKQ\n",
       "29a+HvvH/heFFh/y8EbFee0w8pvrWOmbOjuaUDww1VxKEE1A9JXy0C29nCpJbG1hJ+FZRqSoDVfd\n",
       "1DNkUCfNuMGnrllbAdia9ljkOU4m3jeqwj+4rkcmTcEgUGGln4wol/Eamb2XjdwdSQUr259QY9D/\n",
       "6aSpLPEM9Jwh1VRNTCaJKeWTjHWZKu+7ZANnyOZOia7jVfYoM131crt4ET2UVOoFYLP0v6dffpyE\n",
       "DEZGlTDSuiT7eOlnvkgkjH2IGQ6pqNNziFN2f8TEXE5ePMedVPE6tXFVy0yaksJmuwvdH92L/AMj\n",
       "pWN6ov4WB/l1+b0eUjNn7UNNKczWYedJNxUY4Qu9KtGI7fvXLn9jiHzZJgMubbuO2f3rGLQdM/qF\n",
       "xaAADxrHIurXmC7tv6Lu12Au7a4C7t4zdaf8MRMDfqxOfOUFYYudPBaIdPSbzU2pk7rpCyHQzBzz\n",
       "zJSwVHsYtKQ1sVn9Ig1W+q21tHbqdzguhUlF0Gfr09F04tgruuJ9S/vJJd1cHzSVtCZAwkM3O4Xh\n",
       "93cPDCGW5RiKCcpFeNcQPG3QLDdKsCjmBXCejMDmdeVpyI/G1lKMhXLYxFoTBffdSpoWzhVpo2/d\n",
       "Yfh28CWx64TFRt5eOFWh3xyG4Ax539cJwfmqIqjr9yl1lwoxreXx85WtTViJ54+JLL+3yjoVDFxL\n",
       "LO0m7mbR0B0TJGN80bq+MUlYAAAASUGeVUUVLDv/AAAVwxTcr1j37S/J3+ooSD6SCSDjRV7/+g/R\n",
       "D/lpN2uUybvfvGdC3TAgvMXSt0L4D3ABQEkHR20LOqO4DX0ZsEEAAAA1AZ50dEN/AAAeY97WIDTH\n",
       "cmI+zwlueVaMCwAXGiTjFFmfUiBwXPg33033B/1MG4M6/wNpK6AAAAApAZ52akN/AAAbouuzL3di\n",
       "gDOikyGf/PoltIEYuX0vd8EHrggGQGUUNIEAAAGRQZp7SahBbJlMCCH//qpVAAAKCIVRQrX1KZqE\n",
       "XSXOe2LQn26ZIuw6RlihhQAUau7yLhvY/fvg1DykleBmfW2eNVmP3ZSUGOvvS4iF7pN+HpuUnagb\n",
       "st7ePVMvhGrM9YM503F//3ALMhqT9hr1kZkZFos+8pzk7OePjqka+25eGxOAQxb79IcwsVgmhn4r\n",
       "58ugfq4bL3b8GtEtYT7hwcyYIcOXv5mvM+lCakeAo+x5NlDcoD5fu1/3DSNaPgXX3kdwfz7NoSnc\n",
       "Q9DSjRbVg5luyPqYhreOMB5OOtSXzRgzJo5cMWuTSGvzbIWcAeOumo8eIXwkmVoglp6JijiZp8m6\n",
       "xJynidrAn635cOFDavNjIo7vx87fZFDmiZiavQGR8uosndZoB1DqPTANy2mY0+rI/Pb2t5ipCl08\n",
       "4+1eoCmOFuTPMTdgE1iLinx1YVHgKhEAwA0jb3QfWwWRp9rStrglnf7Xot1k3+Lw3r4+NThDihOg\n",
       "XgHE0rrbN5bD2NwYTkp/YI6ELMJxkOjcpjCddHMtMWEAAABLQZ6ZRRUsO/8AABOHJ7EeD4gRz6SC\n",
       "SDjNuxRDQfpWM7QrQr58BZqGE6ewV7T62/qM3tVdgvvauPxMxY7+JbhvQXpZP1aQHRpDeKmAAAAA\n",
       "GwGeuHRDfwAAG56vQU6QoRT/AAADAAAPlGALMQAAADQBnrpqQ38AAAMCGxnGZzyMg/d/kj3cWJG5\n",
       "lW3s7oELhsXHtD1m2gtX4jk/pKYSuwHMa/26AAABj0Gav0moQWyZTAh///6plgAAAwEIY8ENy53G\n",
       "dowHRIyT8xel/gqMsOD1BQAjKgW/RWNLf0qLUuQqYQstlYXV3DdO9/SYYK+hQf8qIGuzQwe9zxJG\n",
       "04jSbFtv+FdFiROxMPT0SnJxlbA2FmBJyHH4IxmmWhjjRowlav3H8OVB1sBIYT2LUlzwF4f7c/oq\n",
       "Vy0LVEs2AnXpcjKhryK7tvE5WA/EjMYwrBgz2stjIBZp+ZTmtU3yADgQqjWBuXvPwCde7FkgnVbh\n",
       "b6lsxi7hDbVaG/sjWEEW6DbMF8iQZtPT4QVAIiFgqX/3jXrpIo8GzgRIwV2uHYRW5t2EnE8pT5U6\n",
       "bVnXcs7b1nfhABKwxEIiInrcfzC+NsahzvUq8CFkwvlrJCfMiwh22I+PpicJKdrnyvIY5KV0pkyb\n",
       "ejf9aE1fehOmN4D++PHnYRiJudMP8C1+5YyOQpjemSN5pvGjj/jA9syJBdWavJdlQ0SmdMMGx10u\n",
       "2lMwRp2ScMYDnN/NY5cXpKgfBzu9I4m27rS7kPbS2wAAADhBnt1FFSw7/wAAAwAmEf0zdYcO8SHA\n",
       "ppn8nSHCGjr1U4BXBLN0OiCbVlqW/BBty+A1xoe0fHXHdQAAABcBnvx0Q38AAAMAAAMAAAMAAAQV\n",
       "9jWGwAAAADIBnv5qQ38AAAMANgAKGs6zIgBEnJWHviCMOrZDpFWA4So+oes20Fq/Ecn9JTCeOj1v\n",
       "dAAAAVZBmuJJqEFsmUwIb//+p4QAAAMAA3NpmdJG+4Eak6nFt9eSeQszmgNrCU0tGxnYgZAA4Qtf\n",
       "MD8i4U+geofM9qL8jtantbriyozAALr3UCZWiRNPHC7WGGimhSoKMyNrjHz7ear6aakd+ie1RPON\n",
       "x1PX54wXkfD7qUVYoHo9xI8TfpdLylZ+rU8ojEJqqEE8q9FtU4eLmOO1fnWB8InNO72xSBBxJdBp\n",
       "Ady2Gevx8SwEjO1ifgskgvOLKGpYpQOGiaeUHJdokX6ZmogsBeP0NeQ2fi5n7zkLZtKqCvw1Rdwy\n",
       "tmTuRtnhfcVlDghgk4b7+11dheQlpV6O7x4SdMzy/ri4GQfTB12X2A9H7Vf14x7wlb4TJgmuf3EJ\n",
       "Qses1n31gKlLuSEVSGUc/H21NK8Zt+zXecGdciw0Dk9IpmtCs4t79rRbPBElXb2rhzD0Ub9dgOx/\n",
       "ihCJM+EAAAA1QZ8ARRUsN/8AAAMAAT558jnPUsXD+kXM1D0i9P+4d6Ca9Nc6+HH330t1Ka4wG+sW\n",
       "oR1gQ9AAAAAwAZ8hakN/AAADAAE+TpDWdZkQAiTkBG9T//2usBXOhsNj4+oes20Fq/Ecn9z+JFYZ\n",
       "AAAGA21vb3YAAABsbXZoZAAAAAAAAAAAAAAAAAAAA+gAABosAAEAAAEAAAAAAAAAAAAAAAABAAAA\n",
       "AAAAAAAAAAAAAAAAAQAAAAAAAAAAAAAAAAAAQAAAAAAAAAAAAAAAAAAAAAAAAAAAAAAAAAAAAAAA\n",
       "AAIAAAUtdHJhawAAAFx0a2hkAAAAAwAAAAAAAAAAAAAAAQAAAAAAABosAAAAAAAAAAAAAAAAAAAA\n",
       "AAABAAAAAAAAAAAAAAAAAAAAAQAAAAAAAAAAAAAAAAAAQAAAAAMgAAACWAAAAAAAJGVkdHMAAAAc\n",
       "ZWxzdAAAAAAAAAABAAAaLAAACAAAAQAAAAAEpW1kaWEAAAAgbWRoZAAAAAAAAAAAAAAAAAAAKAAA\n",
       "AQwAVcQAAAAAAC1oZGxyAAAAAAAAAAB2aWRlAAAAAAAAAAAAAAAAVmlkZW9IYW5kbGVyAAAABFBt\n",
       "aW5mAAAAFHZtaGQAAAABAAAAAAAAAAAAAAAkZGluZgAAABxkcmVmAAAAAAAAAAEAAAAMdXJsIAAA\n",
       "AAEAAAQQc3RibAAAALRzdHNkAAAAAAAAAAEAAACkYXZjMQAAAAAAAAABAAAAAAAAAAAAAAAAAAAA\n",
       "AAMgAlgASAAAAEgAAAAAAAAAAQAAAAAAAAAAAAAAAAAAAAAAAAAAAAAAAAAAAAAAAAAAABj//wAA\n",
       "ADJhdmNDAWQAH//hABlnZAAfrNlAyBN+WEAAAAMAQAAABQPGDGWAAQAGaOvjyyLAAAAAHHV1aWRr\n",
       "aEDyXyRPxbo5pRvPAyPzAAAAAAAAABhzdHRzAAAAAAAAAAEAAABDAAAEAAAAABRzdHNzAAAAAAAA\n",
       "AAEAAAABAAAB2GN0dHMAAAAAAAAAOQAAAAEAAAgAAAAAAQAADAAAAAABAAAEAAAAAAMAAAgAAAAA\n",
       "AQAAFAAAAAABAAAIAAAAAAEAAAAAAAAAAQAABAAAAAABAAAQAAAAAAIAAAQAAAAABAAACAAAAAAB\n",
       "AAAUAAAAAAEAAAgAAAAAAQAAAAAAAAABAAAEAAAAAAEAAAwAAAAAAQAABAAAAAABAAAUAAAAAAEA\n",
       "AAgAAAAAAQAAAAAAAAABAAAEAAAAAAEAAAwAAAAAAQAABAAAAAABAAAIAAAAAAEAAAwAAAAAAQAA\n",
       "BAAAAAADAAAIAAAAAAEAABAAAAAAAgAABAAAAAABAAAMAAAAAAEAAAQAAAAAAQAAFAAAAAABAAAI\n",
       "AAAAAAEAAAAAAAAAAQAABAAAAAABAAAUAAAAAAEAAAgAAAAAAQAAAAAAAAABAAAEAAAAAAEAABQA\n",
       "AAAAAQAACAAAAAABAAAAAAAAAAEAAAQAAAAAAQAAFAAAAAABAAAIAAAAAAEAAAAAAAAAAQAABAAA\n",
       "AAABAAAUAAAAAAEAAAgAAAAAAQAAAAAAAAABAAAEAAAAAAEAABQAAAAAAQAACAAAAAABAAAAAAAA\n",
       "AAEAAAQAAAAAAQAAEAAAAAACAAAEAAAAABxzdHNjAAAAAAAAAAEAAAABAAAAQwAAAAEAAAEgc3Rz\n",
       "egAAAAAAAAAAAAAAQwAAF/MAAAGrAAAAYAAAAbwAAAJ8AAAEMAAAApcAAABfAAAAZgAAAB8AAAF9\n",
       "AAAAPAAAADAAAAHkAAACZgAAAnwAAAN6AAAB3wAAAEIAAABLAAAAHwAAAw4AAABMAAACOgAAAEAA\n",
       "AAA4AAAAIAAAAY4AAAA5AAADBwAAArkAAABMAAAEkAAAAvsAAANlAAADFgAAAGAAAAAgAAABuAAA\n",
       "ADoAAAO/AAAAYgAAAFUAAAAbAAABzwAAAEQAAAAbAAAAOwAAADEAAAAeAAAAGwAAABsAAAJtAAAA\n",
       "TQAAADkAAAAtAAABlQAAAE8AAAAfAAAAOAAAAZMAAAA8AAAAGwAAADYAAAFaAAAAOQAAADQAAAAU\n",
       "c3RjbwAAAAAAAAABAAAALAAAAGJ1ZHRhAAAAWm1ldGEAAAAAAAAAIWhkbHIAAAAAAAAAAG1kaXJh\n",
       "cHBsAAAAAAAAAAAAAAAALWlsc3QAAAAlqXRvbwAAAB1kYXRhAAAAAQAAAABMYXZmNTguMjkuMTAw\n",
       "\">\n",
       "  Your browser does not support the video tag.\n",
       "</video>"
      ],
      "text/plain": [
       "<IPython.core.display.HTML object>"
      ]
     },
     "metadata": {},
     "output_type": "display_data"
    }
   ],
   "source": [
    "RESULTS = []\n",
    "\n",
    "def partition(arr: list, low: int, high: int):\n",
    "    # pivot (Element to be placed at right position)\n",
    "    pivot = arr[high]\n",
    "\n",
    "    i = low -1\n",
    "    # Index of smaller element and indicates the\n",
    "    # right position of pivot found so far\n",
    "\n",
    "    for j in range(low, high):\n",
    "        # If current element is smaller than the pivot\n",
    "        if arr[j] < pivot:\n",
    "            i += 1 # increment index of smaller element\n",
    "            arr[i], arr[j] = arr[j], arr[i]\n",
    "            RESULTS.append((low, arr.copy(), high))\n",
    "    arr[i+1], arr[high] = pivot, arr[i+1]\n",
    "    RESULTS.append((low, arr.copy(), i+1))\n",
    "    return i+1\n",
    "\n",
    "def quicksort(arr: list, low: int=0, high: int=-1):\n",
    "    if high == -1:\n",
    "        high = len(arr) - 1\n",
    "    if low < high:\n",
    "        # pi is partioning index, arr[pi] is now at right place\n",
    "        pi = partition(arr, low, high)\n",
    "        quicksort(arr, low, pi-1)\n",
    "        quicksort(arr, pi+1, high)\n",
    "    return arr\n",
    "\n",
    "\n",
    "values = [7, 19, 10, 25, 23, 26, 9, 22, 14, 3, 13, 11]\n",
    "values_copy =values.copy()\n",
    "quicksort(values)\n",
    "RESULTS.insert(0, (0,values_copy, -1))\n",
    "low = [i[0] for i in RESULTS]\n",
    "pivot = [i[2] for i in RESULTS]\n",
    "RESULT =  [i[1] for i in RESULTS]\n",
    "\n",
    "animate_bar(RESULT, pivot=pivot, low=low)"
   ]
  }
 ],
 "metadata": {
  "kernelspec": {
   "display_name": "Python 3 (ipykernel)",
   "language": "python",
   "name": "python3"
  },
  "language_info": {
   "codemirror_mode": {
    "name": "ipython",
    "version": 3
   },
   "file_extension": ".py",
   "mimetype": "text/x-python",
   "name": "python",
   "nbconvert_exporter": "python",
   "pygments_lexer": "ipython3",
   "version": "3.10.10"
  },
  "vscode": {
   "interpreter": {
    "hash": "97cc609b13305c559618ec78a438abc56230b9381f827f22d070313b9a1f3777"
   }
  }
 },
 "nbformat": 4,
 "nbformat_minor": 2
}
