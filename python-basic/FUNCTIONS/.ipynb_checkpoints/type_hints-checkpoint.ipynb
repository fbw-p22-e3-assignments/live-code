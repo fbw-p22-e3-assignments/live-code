{
 "cells": [
  {
   "cell_type": "markdown",
   "id": "90eddb01",
   "metadata": {},
   "source": [
    "# Type Hints in Functions"
   ]
  },
  {
   "cell_type": "markdown",
   "id": "19f14e34",
   "metadata": {},
   "source": [
    "*show_count* \n",
    "- takes an integer as 1. argument and a sting as a second argument\n",
    "- returns a string with a singluar or plural word, depending on the count"
   ]
  },
  {
   "cell_type": "code",
   "execution_count": null,
   "id": "60996b2d",
   "metadata": {},
   "outputs": [],
   "source": [
    "def show_count(count, word):\n",
    "    if count == 1:\n",
    "        return '1 ' + word\n",
    "    count_str = str(count) if count else 'no'\n",
    "    return f\"{count_str} {word}s\"\n",
    "    "
   ]
  },
  {
   "cell_type": "code",
   "execution_count": 17,
   "id": "afdc2ac3",
   "metadata": {},
   "outputs": [
    {
     "name": "stdout",
     "output_type": "stream",
     "text": [
      "99 birds\n",
      "1 bird\n",
      "no birds\n"
     ]
    }
   ],
   "source": [
    "print(show_count(99, 'bird'))\n",
    "print(show_count(1, 'bird'))\n",
    "print(show_count(0, 'bird'))"
   ]
  },
  {
   "cell_type": "markdown",
   "id": "4ff82a7b",
   "metadata": {},
   "source": [
    "`mypy main.py`"
   ]
  },
  {
   "cell_type": "markdown",
   "id": "10e3ceca",
   "metadata": {},
   "source": [
    "Success: no issues found in 1 source file"
   ]
  },
  {
   "cell_type": "markdown",
   "id": "5c034d04",
   "metadata": {},
   "source": [
    "## Making Mypy more strict"
   ]
  },
  {
   "cell_type": "markdown",
   "id": "db1b7c77",
   "metadata": {},
   "source": [
    "run ``` mypy --disallow-untyped-defs main.py```"
   ]
  },
  {
   "cell_type": "markdown",
   "id": "d3e03d27",
   "metadata": {},
   "source": [
    "This will throw an error if any of your functions have no types: \n",
    "```Function is missing a type annotation  [no-untyped-def]```"
   ]
  },
  {
   "cell_type": "markdown",
   "id": "7003f647",
   "metadata": {},
   "source": [
    "gradually add types for the parameters and the return value"
   ]
  },
  {
   "cell_type": "code",
   "execution_count": null,
   "id": "c9b739a5",
   "metadata": {},
   "outputs": [],
   "source": [
    "def show_count(count, word)->str:\n",
    "    if count == 1:\n",
    "        return '1 ' + word\n",
    "    count_str = str(count) if count else 'no'\n",
    "    return f\"{count_str} {word}s\""
   ]
  },
  {
   "cell_type": "markdown",
   "id": "8ba60e05",
   "metadata": {},
   "source": [
    "run \n",
    "```\n",
    "mypy --disallow-incomplete-defs-defs main.py\n",
    "```"
   ]
  },
  {
   "cell_type": "markdown",
   "id": "459031bf",
   "metadata": {},
   "source": [
    "`type_hints.py:1: error: Function is missing a type annotation for one or more arguments  [no-untyped-def]`"
   ]
  },
  {
   "cell_type": "code",
   "execution_count": 20,
   "id": "7ef2f67b",
   "metadata": {},
   "outputs": [
    {
     "name": "stdout",
     "output_type": "stream",
     "text": [
      "99 birds\n",
      "1 bird\n",
      "no birds\n"
     ]
    }
   ],
   "source": [
    "def show_count(count: int, word: str)->str:\n",
    "    if count == 1:\n",
    "        return '1 ' + word\n",
    "    count_str = str(count) if count else 'no'\n",
    "    return f\"{count_str} {word}s\"\n",
    "\n",
    "print(show_count(99, 'bird'))\n",
    "print(show_count(1, 'bird'))\n",
    "print(show_count(0, 'bird'))"
   ]
  },
  {
   "cell_type": "markdown",
   "id": "e692f52c",
   "metadata": {},
   "source": [
    "## Default Parameter Value"
   ]
  },
  {
   "cell_type": "markdown",
   "id": "01a16795",
   "metadata": {},
   "source": [
    "type driven development: lets's add a third argument:"
   ]
  },
  {
   "cell_type": "code",
   "execution_count": 25,
   "id": "01f713b5",
   "metadata": {},
   "outputs": [
    {
     "ename": "TypeError",
     "evalue": "show_count() takes 2 positional arguments but 3 were given",
     "output_type": "error",
     "traceback": [
      "\u001b[0;31m---------------------------------------------------------------------------\u001b[0m",
      "\u001b[0;31mTypeError\u001b[0m                                 Traceback (most recent call last)",
      "Cell \u001b[0;32mIn [25], line 1\u001b[0m\n\u001b[0;32m----> 1\u001b[0m \u001b[43mshow_count\u001b[49m\u001b[43m(\u001b[49m\u001b[38;5;241;43m2\u001b[39;49m\u001b[43m,\u001b[49m\u001b[43m \u001b[49m\u001b[38;5;124;43m'\u001b[39;49m\u001b[38;5;124;43mchild\u001b[39;49m\u001b[38;5;124;43m'\u001b[39;49m\u001b[43m,\u001b[49m\u001b[43m \u001b[49m\u001b[38;5;124;43m'\u001b[39;49m\u001b[38;5;124;43mchildren\u001b[39;49m\u001b[38;5;124;43m'\u001b[39;49m\u001b[43m)\u001b[49m\n",
      "\u001b[0;31mTypeError\u001b[0m: show_count() takes 2 positional arguments but 3 were given"
     ]
    }
   ],
   "source": [
    "show_count(2, 'child', 'children')"
   ]
  },
  {
   "cell_type": "markdown",
   "id": "ed69ef20",
   "metadata": {},
   "source": [
    "\n",
    "```mypy --disallow-incomplete-defs-defs main.py```"
   ]
  },
  {
   "cell_type": "markdown",
   "id": "742ef924",
   "metadata": {},
   "source": [
    "error: Too many arguments for \"show_count\"  [call-arg]"
   ]
  },
  {
   "cell_type": "code",
   "execution_count": 29,
   "id": "a71d20c8",
   "metadata": {},
   "outputs": [
    {
     "name": "stdout",
     "output_type": "stream",
     "text": [
      "99 birds\n",
      "1 bird\n",
      "no birds\n",
      "2 children\n",
      "1 child\n",
      "0 children\n"
     ]
    }
   ],
   "source": [
    "def show_count(count:int, singular:str, plural: str = '') ->str:\n",
    "    if count == 1:\n",
    "        return f\"1 {singular}\"\n",
    "    count_str = str(count) if count else 'no'\n",
    "    if plural:\n",
    "        return f\"{count} {plural}\"\n",
    "    return f\"{count_str} {singular}s\"\n",
    "\n",
    "print(show_count(99, 'bird'))\n",
    "print(show_count(1, 'bird'))\n",
    "print(show_count(0, 'bird'))\n",
    "\n",
    "print(show_count(2, 'child', 'children'))\n",
    "print(show_count(1, 'child', 'children'))\n",
    "print(show_count(0, 'child', 'children'))\n"
   ]
  },
  {
   "cell_type": "markdown",
   "id": "93c398c3",
   "metadata": {},
   "source": [
    "# Using None as Default"
   ]
  },
  {
   "cell_type": "code",
   "execution_count": 30,
   "id": "0e4583de",
   "metadata": {},
   "outputs": [
    {
     "name": "stdout",
     "output_type": "stream",
     "text": [
      "99 birds\n",
      "1 bird\n",
      "no birds\n",
      "2 children\n",
      "1 child\n",
      "0 children\n"
     ]
    }
   ],
   "source": [
    "from typing import Optional\n",
    "def show_count(count:int, singular:str, plural: Optional[str] = None) ->str:  \n",
    "    # the default is None, otherwise\n",
    "    # only strings should be passed\n",
    "    \n",
    "    if count == 1:\n",
    "        return f\"1 {singular}\"\n",
    "    count_str = str(count) if count else 'no'\n",
    "    if plural:\n",
    "        return f\"{count} {plural}\"\n",
    "    return f\"{count_str} {singular}s\"\n",
    "\n",
    "print(show_count(99, 'bird'))\n",
    "print(show_count(1, 'bird'))\n",
    "print(show_count(0, 'bird'))\n",
    "\n",
    "print(show_count(2, 'child', 'children'))\n",
    "print(show_count(1, 'child', 'children'))\n",
    "print(show_count(0, 'child', 'children'))\n"
   ]
  },
  {
   "cell_type": "markdown",
   "id": "23a329e6",
   "metadata": {},
   "source": [
    "## Types are Defined by Supported Operations"
   ]
  },
  {
   "cell_type": "markdown",
   "id": "47d686a1",
   "metadata": {},
   "source": [
    "The set of ***supported operations*** is the defining characteristic of type."
   ]
  },
  {
   "cell_type": "code",
   "execution_count": 33,
   "id": "63fd8ba4",
   "metadata": {},
   "outputs": [
    {
     "ename": "TypeError",
     "evalue": "unsupported operand type(s) for %: 'dict' and 'int'",
     "output_type": "error",
     "traceback": [
      "\u001b[0;31m---------------------------------------------------------------------------\u001b[0m",
      "\u001b[0;31mTypeError\u001b[0m                                 Traceback (most recent call last)",
      "Cell \u001b[0;32mIn [33], line 5\u001b[0m\n\u001b[1;32m      1\u001b[0m \u001b[38;5;28;01mdef\u001b[39;00m \u001b[38;5;21mdouble\u001b[39m(x):\n\u001b[1;32m      2\u001b[0m     \u001b[38;5;28;01mreturn\u001b[39;00m x \u001b[38;5;241m%\u001b[39m \u001b[38;5;241m2\u001b[39m\n\u001b[0;32m----> 5\u001b[0m \u001b[38;5;28mprint\u001b[39m(\u001b[43mdouble\u001b[49m\u001b[43m(\u001b[49m\u001b[43m{\u001b[49m\u001b[38;5;241;43m1\u001b[39;49m\u001b[43m:\u001b[49m\u001b[43m \u001b[49m\u001b[38;5;124;43m'\u001b[39;49m\u001b[38;5;124;43mbla\u001b[39;49m\u001b[38;5;124;43m'\u001b[39;49m\u001b[43m}\u001b[49m\u001b[43m)\u001b[49m)\n",
      "Cell \u001b[0;32mIn [33], line 2\u001b[0m, in \u001b[0;36mdouble\u001b[0;34m(x)\u001b[0m\n\u001b[1;32m      1\u001b[0m \u001b[38;5;28;01mdef\u001b[39;00m \u001b[38;5;21mdouble\u001b[39m(x):\n\u001b[0;32m----> 2\u001b[0m     \u001b[38;5;28;01mreturn\u001b[39;00m \u001b[43mx\u001b[49m\u001b[43m \u001b[49m\u001b[38;5;241;43m%\u001b[39;49m\u001b[43m \u001b[49m\u001b[38;5;241;43m2\u001b[39;49m\n",
      "\u001b[0;31mTypeError\u001b[0m: unsupported operand type(s) for %: 'dict' and 'int'"
     ]
    }
   ],
   "source": [
    "def double(x):\n",
    "    return x * 2\n",
    "\n",
    "\n",
    "print(double({1: 'bla'}))"
   ]
  },
  {
   "cell_type": "markdown",
   "id": "d025b8b6",
   "metadata": {},
   "source": [
    "mypy --> `error: Unsupported operand types for * (\"Dict[Any, Any]\" and \"int\")  [operator]`"
   ]
  },
  {
   "cell_type": "markdown",
   "id": "0f7b0a46",
   "metadata": {},
   "source": [
    "## The Any Type"
   ]
  },
  {
   "cell_type": "markdown",
   "id": "5b3757e3",
   "metadata": {},
   "source": [
    "When a type checker sees an untyped function like the *def double(x):* it assumes this: "
   ]
  },
  {
   "cell_type": "code",
   "execution_count": 35,
   "id": "25e03164",
   "metadata": {},
   "outputs": [],
   "source": [
    "from typing import Any\n",
    "def double(x: Any) -> Any:\n",
    "    return x * 2"
   ]
  },
  {
   "cell_type": "markdown",
   "id": "4d2a6edb",
   "metadata": {},
   "source": [
    "That means the x argument and the return value can be of any type. It support every possible operation. "
   ]
  },
  {
   "cell_type": "markdown",
   "id": "3e10455f",
   "metadata": {},
   "source": [
    "## Optional and Union Types"
   ]
  },
  {
   "cell_type": "code",
   "execution_count": 37,
   "id": "a1e0ebd6",
   "metadata": {},
   "outputs": [
    {
     "name": "stdout",
     "output_type": "stream",
     "text": [
      "2 children\n",
      "1 child\n",
      "0 children\n"
     ]
    }
   ],
   "source": [
    "def show_count(count:int, singular:str, plural: Optional[str] = None) ->str: \n",
    "    if count == 1:\n",
    "        return f\"1 {singular}\"\n",
    "    count_str = str(count) if count else 'no'\n",
    "    if plural:\n",
    "        return f\"{count} {plural}\"\n",
    "    return f\"{count_str} {singular}s\"\n",
    "\n",
    "print(show_count(2, 'child', 'children'))\n",
    "print(show_count(1, 'child', 'children'))\n",
    "print(show_count(0, 'child', 'children'))"
   ]
  },
  {
   "cell_type": "markdown",
   "id": "b599d5d9",
   "metadata": {},
   "source": [
    "The construct **Optional[str]** is actually a shortcut for **Union[str, None]**, which means the type of plural may be *str* or *None*"
   ]
  },
  {
   "cell_type": "code",
   "execution_count": 41,
   "id": "c7dd6afc",
   "metadata": {},
   "outputs": [
    {
     "name": "stdout",
     "output_type": "stream",
     "text": [
      "2 children\n",
      "1 child\n",
      "0 children\n"
     ]
    }
   ],
   "source": [
    "from typing import Union\n",
    "def show_count(count:int, singular:str, plural: Union[str, None] = None) ->str: \n",
    "    if count == 1:\n",
    "        return f\"1 {singular}\"\n",
    "    count_str = str(count) if count else 'no'\n",
    "    if plural:\n",
    "        return f\"{count} {plural}\"\n",
    "    return f\"{count_str} {singular}s\"\n",
    "\n",
    "print(show_count(2, 'child', 'children'))\n",
    "print(show_count(1, 'child', 'children'))\n",
    "print(show_count(0, 'child', 'children'))"
   ]
  },
  {
   "cell_type": "markdown",
   "id": "32e9aeed",
   "metadata": {},
   "source": [
    "Here is an example of a funcion that takes a str, but may return a str or a int:"
   ]
  },
  {
   "cell_type": "code",
   "execution_count": 43,
   "id": "af134569",
   "metadata": {},
   "outputs": [
    {
     "name": "stdout",
     "output_type": "stream",
     "text": [
      "123\n",
      "abc\n"
     ]
    }
   ],
   "source": [
    "def parse_token(token: str) -> Union[str, int]:\n",
    "    if token.isnumeric():\n",
    "        return int(token)\n",
    "    return token\n",
    "\n",
    "print(parse_token('123'))\n",
    "print(parse_token('abc'))"
   ]
  },
  {
   "cell_type": "markdown",
   "id": "2bef7d7c",
   "metadata": {},
   "source": [
    "**Union[int, float]** is redundant because *float* will accept *int*."
   ]
  },
  {
   "cell_type": "markdown",
   "id": "4b539d26",
   "metadata": {},
   "source": [
    "### int Is Consitent-With float"
   ]
  },
  {
   "cell_type": "markdown",
   "id": "3d344617",
   "metadata": {},
   "source": [
    "*int* is consistent-with *float* and implements all operations that *float* does, \n",
    "and *int* implements additional operations as well."
   ]
  },
  {
   "cell_type": "markdown",
   "id": "9dac200a",
   "metadata": {},
   "source": [
    "And *float* is consistent-with *complex*"
   ]
  },
  {
   "cell_type": "code",
   "execution_count": 45,
   "id": "132e5ee7",
   "metadata": {},
   "outputs": [
    {
     "data": {
      "text/plain": [
       "3"
      ]
     },
     "execution_count": 45,
     "metadata": {},
     "output_type": "execute_result"
    }
   ],
   "source": [
    "i = 3\n",
    "i.imag\n",
    "i.real"
   ]
  },
  {
   "cell_type": "code",
   "execution_count": 51,
   "id": "711369ac",
   "metadata": {},
   "outputs": [
    {
     "ename": "TypeError",
     "evalue": "'>' not supported between instances of 'complex' and 'complex'",
     "output_type": "error",
     "traceback": [
      "\u001b[0;31m---------------------------------------------------------------------------\u001b[0m",
      "\u001b[0;31mTypeError\u001b[0m                                 Traceback (most recent call last)",
      "Cell \u001b[0;32mIn [51], line 3\u001b[0m\n\u001b[1;32m      1\u001b[0m z1 \u001b[38;5;241m=\u001b[39m \u001b[38;5;241m1\u001b[39m \u001b[38;5;241m+\u001b[39m \u001b[38;5;241m1\u001b[39mj\n\u001b[1;32m      2\u001b[0m z2 \u001b[38;5;241m=\u001b[39m \u001b[38;5;241m2\u001b[39m \u001b[38;5;241m+\u001b[39m \u001b[38;5;241m1\u001b[39mj\n\u001b[0;32m----> 3\u001b[0m \u001b[43mz1\u001b[49m\u001b[43m \u001b[49m\u001b[38;5;241;43m>\u001b[39;49m\u001b[43m \u001b[49m\u001b[43mz2\u001b[49m\n",
      "\u001b[0;31mTypeError\u001b[0m: '>' not supported between instances of 'complex' and 'complex'"
     ]
    }
   ],
   "source": [
    "z1 = 1 + 1j\n",
    "z2 = 2 + 1j\n",
    "z1 > z2"
   ]
  },
  {
   "cell_type": "code",
   "execution_count": null,
   "id": "4d4ccc32",
   "metadata": {},
   "outputs": [],
   "source": []
  }
 ],
 "metadata": {
  "kernelspec": {
   "display_name": "Python 3 (ipykernel)",
   "language": "python",
   "name": "python3"
  },
  "language_info": {
   "codemirror_mode": {
    "name": "ipython",
    "version": 3
   },
   "file_extension": ".py",
   "mimetype": "text/x-python",
   "name": "python",
   "nbconvert_exporter": "python",
   "pygments_lexer": "ipython3",
   "version": "3.8.10"
  },
  "vscode": {
   "interpreter": {
    "hash": "97cc609b13305c559618ec78a438abc56230b9381f827f22d070313b9a1f3777"
   }
  }
 },
 "nbformat": 4,
 "nbformat_minor": 5
}
