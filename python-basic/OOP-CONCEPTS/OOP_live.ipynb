{
 "cells": [
  {
   "attachments": {},
   "cell_type": "markdown",
   "metadata": {},
   "source": [
    "# Object Oriented Programming\n",
    "\n",
    "- Classes provide means of bundling data and functionality together\n",
    "- Creating a new class creates a new type of object, allowing new instances of that type to be made. \n",
    "- Each class instance can have attributes attached to it for maintaining its state. \n",
    "- Class instances can also have methods (defined by its class) for modifying its state."
   ]
  },
  {
   "cell_type": "code",
   "execution_count": null,
   "metadata": {},
   "outputs": [],
   "source": [
    "class ClassName:\n",
    "    <statement-1>\n",
    "    .\n",
    "    .\n",
    "    .\n",
    "    .\n",
    "    <statement-N>"
   ]
  },
  {
   "attachments": {},
   "cell_type": "markdown",
   "metadata": {},
   "source": [
    "### Class Objects\n",
    "\n",
    "Class objects support two kinds of operations:\n",
    "- instantiation\n",
    "- attribute reference\n",
    "\n",
    "*Attribute references* use the standard syntax used for all attribute references in Python: obj.name. "
   ]
  },
  {
   "cell_type": "code",
   "execution_count": 1,
   "metadata": {},
   "outputs": [],
   "source": [
    "class MyClass:\n",
    "    \"\"\"A simple example class\"\"\"\n",
    "    i = 12345\n",
    "\n",
    "    def f(self):\n",
    "        return \"Hello World\""
   ]
  },
  {
   "attachments": {},
   "cell_type": "markdown",
   "metadata": {},
   "source": [
    "MyClass.i and MyClass.f are valid attribute references, returning an integer and a function object."
   ]
  },
  {
   "cell_type": "code",
   "execution_count": 2,
   "metadata": {},
   "outputs": [
    {
     "data": {
      "text/plain": [
       "12345"
      ]
     },
     "execution_count": 2,
     "metadata": {},
     "output_type": "execute_result"
    }
   ],
   "source": [
    "MyClass.i"
   ]
  },
  {
   "cell_type": "code",
   "execution_count": 3,
   "metadata": {},
   "outputs": [
    {
     "data": {
      "text/plain": [
       "<function __main__.MyClass.f(self)>"
      ]
     },
     "execution_count": 3,
     "metadata": {},
     "output_type": "execute_result"
    }
   ],
   "source": [
    "MyClass.f"
   ]
  },
  {
   "cell_type": "code",
   "execution_count": 4,
   "metadata": {},
   "outputs": [
    {
     "data": {
      "text/plain": [
       "'A simple example class'"
      ]
     },
     "execution_count": 4,
     "metadata": {},
     "output_type": "execute_result"
    }
   ],
   "source": [
    "MyClass.__doc__"
   ]
  },
  {
   "attachments": {},
   "cell_type": "markdown",
   "metadata": {},
   "source": [
    "Class instantiation uses function notation (function call). For example"
   ]
  },
  {
   "cell_type": "code",
   "execution_count": 6,
   "metadata": {},
   "outputs": [
    {
     "data": {
      "text/plain": [
       "<__main__.MyClass at 0x7fa5d83dd360>"
      ]
     },
     "execution_count": 6,
     "metadata": {},
     "output_type": "execute_result"
    }
   ],
   "source": [
    "x = MyClass()\n",
    "x"
   ]
  },
  {
   "attachments": {},
   "cell_type": "markdown",
   "metadata": {},
   "source": [
    "creates a new instance of the class and assigns this object to the variable x.\n",
    "\n",
    "- The instantiation operation (“calling” a class object) creates an empty object.\n",
    "- Many classes like to create objects with instances customized to a specific initial state.\n",
    "- A class may define a special method named __ init__() to define the initial state:"
   ]
  },
  {
   "cell_type": "code",
   "execution_count": 47,
   "metadata": {},
   "outputs": [],
   "source": [
    "class MyClass:\n",
    "    \"\"\"A simple example class\"\"\"\n",
    "    i = 12345\n",
    "\n",
    "    def __init__(self): #Constructor\n",
    "        self.data = ['nl']\n",
    "\n",
    "    def f(self, item):\n",
    "        self.data.append(item)\n",
    "        print(self.data)\n",
    "        return \"Hello World\""
   ]
  },
  {
   "cell_type": "code",
   "execution_count": 49,
   "metadata": {},
   "outputs": [
    {
     "name": "stdout",
     "output_type": "stream",
     "text": [
      "['nl', 'world2']\n"
     ]
    },
    {
     "data": {
      "text/plain": [
       "'Hello World'"
      ]
     },
     "execution_count": 49,
     "metadata": {},
     "output_type": "execute_result"
    }
   ],
   "source": [
    "x = MyClass()\n",
    "x.i\n",
    "y = MyClass()\n",
    "y.f('world2')\n",
    "#MyClass.f('bla')"
   ]
  },
  {
   "attachments": {},
   "cell_type": "markdown",
   "metadata": {},
   "source": [
    "When a class defines an __ init__() method, class instantiation automatically invokes __ init__() for the newly created class instance.\n",
    "For greater flexibility, arguments given to the class instantiation operator are passed on to __ init__():"
   ]
  },
  {
   "cell_type": "code",
   "execution_count": 26,
   "metadata": {},
   "outputs": [
    {
     "name": "stdout",
     "output_type": "stream",
     "text": [
      "<__main__.Complex object at 0x7fa5d83df8e0>\n"
     ]
    }
   ],
   "source": [
    "class Complex: #x + i * y\n",
    "    def __init__(self, realpart, imagpart):\n",
    "        print(self)\n",
    "        self.r = realpart\n",
    "        self.i = imagpart\n",
    "\n",
    "z = Complex(3.0, -4.5)\n",
    "#print(z)"
   ]
  },
  {
   "attachments": {},
   "cell_type": "markdown",
   "metadata": {},
   "source": [
    "### Instance Objects\n",
    "The only operations understood by instance objects are attribute references. \n",
    "There are two kinds of valid attribute names:\n",
    "- data attributes\n",
    "- methods\n",
    "\n",
    "*Data attributes* need not be declared; like local variables, they spring into existence when they are first assigned to:"
   ]
  },
  {
   "cell_type": "code",
   "execution_count": 54,
   "metadata": {},
   "outputs": [],
   "source": [
    "class MyClass:\n",
    "    \"\"\"A simple example class\"\"\"\n",
    "    i = 12345\n",
    "\n",
    "    def __init__(self): #Constructor\n",
    "        self.data = ['nl']\n",
    "\n",
    "    def f(self, item):\n",
    "        self.data.append(item)\n",
    "        print(self.data)\n",
    "        return \"Hello World\""
   ]
  },
  {
   "cell_type": "code",
   "execution_count": 60,
   "metadata": {},
   "outputs": [
    {
     "name": "stdout",
     "output_type": "stream",
     "text": [
      "16\n"
     ]
    }
   ],
   "source": [
    "x = MyClass()\n",
    "\n",
    "x.counter = 1\n",
    "\n",
    "while x.counter < 10:\n",
    "    x.counter = x.counter * 2  #1; 2 ; 4 ; 8 ; 16\n",
    "print(x.counter)\n",
    "del x.counter\n"
   ]
  },
  {
   "attachments": {},
   "cell_type": "markdown",
   "metadata": {},
   "source": [
    "A method is a function that “belongs to” an object. \n",
    "By definition, all attributes of a class that are function objects define corresponding methods of its instances.\n",
    "\n",
    "- x.f is a valid method reference, since MyClass.f is a function\n",
    "- But x.f is not the same thing as MyClass.f — x.f is a method object, not a function object."
   ]
  },
  {
   "cell_type": "code",
   "execution_count": 58,
   "metadata": {},
   "outputs": [
    {
     "data": {
      "text/plain": [
       "function"
      ]
     },
     "execution_count": 58,
     "metadata": {},
     "output_type": "execute_result"
    }
   ],
   "source": [
    "type(MyClass.f)"
   ]
  },
  {
   "cell_type": "code",
   "execution_count": 82,
   "metadata": {},
   "outputs": [
    {
     "name": "stdout",
     "output_type": "stream",
     "text": [
      "['bla', 'bla']\n"
     ]
    },
    {
     "data": {
      "text/plain": [
       "['bla', 'bla']"
      ]
     },
     "execution_count": 82,
     "metadata": {},
     "output_type": "execute_result"
    }
   ],
   "source": [
    "type(x.f)\n",
    "\n",
    "mystring = 'bla.bla'\n",
    "#print(type(mystring))\n",
    "print(mystring.split('.')) #split is method of my string object\n",
    "\n",
    "\n",
    "str.split(mystring, '.') # split is a function of the string class"
   ]
  },
  {
   "attachments": {},
   "cell_type": "markdown",
   "metadata": {},
   "source": [
    "### Method Objects\n",
    "\n"
   ]
  },
  {
   "cell_type": "code",
   "execution_count": 65,
   "metadata": {},
   "outputs": [],
   "source": [
    "class MyClass:\n",
    "    \"\"\"A simple example class\"\"\"\n",
    "    i = 12345\n",
    "\n",
    "    def __init__(self): #Constructor\n",
    "        self.data = ['nl']\n",
    "\n",
    "    def f(self):\n",
    "        return \"Hello World\""
   ]
  },
  {
   "cell_type": "code",
   "execution_count": 67,
   "metadata": {},
   "outputs": [
    {
     "data": {
      "text/plain": [
       "'Hello World'"
      ]
     },
     "execution_count": 67,
     "metadata": {},
     "output_type": "execute_result"
    }
   ],
   "source": [
    "x = MyClass()\n",
    "\n",
    "x.f()"
   ]
  },
  {
   "attachments": {},
   "cell_type": "markdown",
   "metadata": {},
   "source": [
    "x.f() was called without an argument above, even though the function definition for f() specified an argument. \n",
    "- the special thing about methods is that the instance object is passed as the first argument of the function.\n",
    "- the call x.f() is exactly equivalent to MyClass.f(x)"
   ]
  },
  {
   "attachments": {},
   "cell_type": "markdown",
   "metadata": {},
   "source": [
    "## Class and Instance Variables\n",
    "\n",
    "- instance variables are unique to each instance and\n",
    "- class variable are shared by all instances of the class "
   ]
  },
  {
   "cell_type": "code",
   "execution_count": 83,
   "metadata": {},
   "outputs": [],
   "source": [
    "class Dog:\n",
    "\n",
    "    kind = 'canine'  # class variable\n",
    "\n",
    "    def __init__(self, name):\n",
    "        self.name = name #instance variable\n",
    "\n",
    "d = Dog('Fido')\n",
    "e = Dog('Buddy')"
   ]
  },
  {
   "cell_type": "code",
   "execution_count": 84,
   "metadata": {},
   "outputs": [
    {
     "data": {
      "text/plain": [
       "'canine'"
      ]
     },
     "execution_count": 84,
     "metadata": {},
     "output_type": "execute_result"
    }
   ],
   "source": [
    "d.kind"
   ]
  },
  {
   "cell_type": "code",
   "execution_count": 85,
   "metadata": {},
   "outputs": [
    {
     "data": {
      "text/plain": [
       "'canine'"
      ]
     },
     "execution_count": 85,
     "metadata": {},
     "output_type": "execute_result"
    }
   ],
   "source": [
    "e.kind"
   ]
  },
  {
   "cell_type": "code",
   "execution_count": 86,
   "metadata": {},
   "outputs": [
    {
     "data": {
      "text/plain": [
       "'Fido'"
      ]
     },
     "execution_count": 86,
     "metadata": {},
     "output_type": "execute_result"
    }
   ],
   "source": [
    "d.name"
   ]
  },
  {
   "cell_type": "code",
   "execution_count": 87,
   "metadata": {},
   "outputs": [
    {
     "data": {
      "text/plain": [
       "'Buddy'"
      ]
     },
     "execution_count": 87,
     "metadata": {},
     "output_type": "execute_result"
    }
   ],
   "source": [
    "e.name"
   ]
  },
  {
   "attachments": {},
   "cell_type": "markdown",
   "metadata": {},
   "source": [
    "shared data can have possible surprising effects with involving mutable objects such as lists and dictionaries:"
   ]
  },
  {
   "cell_type": "code",
   "execution_count": 6,
   "metadata": {},
   "outputs": [
    {
     "name": "stdout",
     "output_type": "stream",
     "text": [
      "{'roll over', 'play dead'}\n"
     ]
    }
   ],
   "source": [
    "class Dog:\n",
    "\n",
    "    #trick = []                     #mistaken use of a class variable\n",
    "    trick_set = set()\n",
    "\n",
    "    def __init__(self, name):\n",
    "        self.name = name\n",
    "\n",
    "    def add_trick(self,trick):\n",
    "        #self.trick.append(trick) \n",
    "        self.trick_set.add(trick)\n",
    "\n",
    "d = Dog('Fido')\n",
    "e = Dog('Buddy')\n",
    "d.add_trick('roll over')\n",
    "e.add_trick('play dead')\n",
    "\n",
    "#d.trick_set\n",
    "print(e.trick_set)"
   ]
  },
  {
   "attachments": {},
   "cell_type": "markdown",
   "metadata": {},
   "source": [
    "Correct design of the class should use an instance variable instead:"
   ]
  },
  {
   "cell_type": "code",
   "execution_count": 4,
   "metadata": {},
   "outputs": [
    {
     "name": "stdout",
     "output_type": "stream",
     "text": [
      "__init__ is called\n",
      "__init__ is called\n"
     ]
    },
    {
     "data": {
      "text/plain": [
       "['first_trick', 'play dead']"
      ]
     },
     "execution_count": 4,
     "metadata": {},
     "output_type": "execute_result"
    }
   ],
   "source": [
    "class Dog:\n",
    "\n",
    "\n",
    "    def __init__(self, name, first_trick='first_trick'):\n",
    "        self.name = name\n",
    "        print('__init__ is called')\n",
    "        self.trick = [first_trick]    #creates a new empty list for each dog\n",
    "\n",
    "    def add_trick(self,trick):\n",
    "        self.trick.append(trick)\n",
    "\n",
    "d = Dog('Fido') #here I'm calling __init\n",
    "e = Dog('Buddy')\n",
    "d.add_trick('roll over')\n",
    "e.add_trick('play dead')\n",
    "\n",
    "d.trick\n",
    "e.trick"
   ]
  },
  {
   "attachments": {},
   "cell_type": "markdown",
   "metadata": {},
   "source": [
    "# Inheritance\n",
    "\n",
    "There is a significant backlash against overuse of inheritance in general, because superclasses and sub classes are tightly coupled.\n",
    "\n",
    "However, we may have to use frameworks that forces us to use inheritance sometimes. There are partical uses of multiple inheritance with the standard library and the Django web framework."
   ]
  },
  {
   "cell_type": "code",
   "execution_count": null,
   "metadata": {},
   "outputs": [],
   "source": [
    "class DerivedClassName(BaseClassName):\n",
    "    <statments-1>\n",
    "    .\n",
    "    .\n",
    "    .\n",
    "    <statements-N>"
   ]
  },
  {
   "attachments": {},
   "cell_type": "markdown",
   "metadata": {},
   "source": [
    "- When the class object is constructed, the base class is remembered\n",
    "- if a requested attribute is not found in the class, the search proceeds to look in the base\n",
    "- Derived classes may override methods of their base classes.\n",
    "- An overriding method in a derived class may in fact want to extend rather than simply replace the base class method of the same name."
   ]
  },
  {
   "cell_type": "code",
   "execution_count": 29,
   "metadata": {},
   "outputs": [
    {
     "data": {
      "text/plain": [
       "8"
      ]
     },
     "execution_count": 29,
     "metadata": {},
     "output_type": "execute_result"
    }
   ],
   "source": [
    "class Rectangle:\n",
    "    \"\"\"A class of Python object that describes the properties of a rectangle\"\"\"\n",
    "    def __init__(self, width, height, center=(0,0)):\n",
    "        self.width = width\n",
    "        self.height = height\n",
    "        self.center = center\n",
    "\n",
    "    def __repr__(self):\n",
    "         return f\"Rectangle(width={self.width}, height={self.height}, center={self.center})\"\n",
    "\n",
    "    def compute_area(self):\n",
    "        return self.width * self.height\n",
    "\n",
    "r = Rectangle(2, 4, (1,2))\n",
    "r\n",
    "r.compute_area()"
   ]
  },
  {
   "cell_type": "code",
   "execution_count": 52,
   "metadata": {},
   "outputs": [
    {
     "name": "stdout",
     "output_type": "stream",
     "text": [
      "string\n"
     ]
    }
   ],
   "source": [
    "class Square(Rectangle):\n",
    "    def __init__(self, side, center=(0,0)):\n",
    "        self.side = side\n",
    "        #center = (1,2)\n",
    "        super().__init__(side, side, center)\n",
    "        #Rectangle.__init__(self, side, side, center)\n",
    "    def change_center(self, t):\n",
    "        self.center = t\n",
    "\n",
    "    def __repr__(self):\n",
    "        return 'hello world'\n",
    "        # return f\"Square(side={self.side}, center={self.center})\"\n",
    "    def __str__(self):\n",
    "        return \"string\"\n",
    "\n",
    "my_square = Square(2)\n",
    "my_square.compute_area()\n",
    "#my_square.change_center((22,33))\n",
    "my_square\n",
    "print(my_square)"
   ]
  },
  {
   "cell_type": "code",
   "execution_count": 42,
   "metadata": {},
   "outputs": [
    {
     "data": {
      "text/plain": [
       "2"
      ]
     },
     "execution_count": 42,
     "metadata": {},
     "output_type": "execute_result"
    }
   ],
   "source": [
    "class Mammals:\n",
    "    def __init__(self, legs=4):\n",
    "        self.legs = legs\n",
    "\n",
    "class Dogs(Mammals):\n",
    "    def __init__(self, legs=4):\n",
    "        super().__init__(legs)\n",
    "\n",
    "class Human(Mammals):\n",
    "    def __init__(self, legs=2):\n",
    "        super().__init__(legs)\n",
    "\n",
    "d = Dogs()\n",
    "h = Human()\n",
    "d.legs\n",
    "h.legs"
   ]
  }
 ],
 "metadata": {
  "kernelspec": {
   "display_name": "Python 3",
   "language": "python",
   "name": "python3"
  },
  "language_info": {
   "codemirror_mode": {
    "name": "ipython",
    "version": 3
   },
   "file_extension": ".py",
   "mimetype": "text/x-python",
   "name": "python",
   "nbconvert_exporter": "python",
   "pygments_lexer": "ipython3",
   "version": "3.10.9"
  },
  "orig_nbformat": 4,
  "vscode": {
   "interpreter": {
    "hash": "97cc609b13305c559618ec78a438abc56230b9381f827f22d070313b9a1f3777"
   }
  }
 },
 "nbformat": 4,
 "nbformat_minor": 2
}
