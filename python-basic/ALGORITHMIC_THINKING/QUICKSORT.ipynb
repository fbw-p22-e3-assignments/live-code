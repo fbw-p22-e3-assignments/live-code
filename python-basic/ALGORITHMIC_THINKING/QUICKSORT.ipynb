{
 "cells": [
  {
   "cell_type": "code",
   "execution_count": 5,
   "metadata": {},
   "outputs": [
    {
     "data": {
      "text/plain": [
       "[1, 1, 2, 3, 4, 5, 5]"
      ]
     },
     "execution_count": 5,
     "metadata": {},
     "output_type": "execute_result"
    }
   ],
   "source": [
    "def partition_rec(arr, pivot, lo=0, hi=None):\n",
    "    if hi==None:\n",
    "        hi = len(arr) - 1\n",
    "\n",
    "    while lo < hi and arr[lo] < pivot:\n",
    "        lo += 1\n",
    "    \n",
    "    while lo < hi and arr[hi] > pivot:\n",
    "        hi -= 1\n",
    "    arr[lo], arr[hi] = arr[hi], arr[lo]\n",
    "    if lo != hi:\n",
    "        partition_rec(arr, pivot,lo=lo, hi=hi-1)\n",
    "    return lo, hi\n",
    "\n",
    "def quicksort(arr, lo=0, hi=None):\n",
    "    if hi==None:\n",
    "        hi = len(arr) - 1\n",
    "    pivot = arr[hi]           # upgrade to median\n",
    "    \n",
    "    if lo == hi:\n",
    "        return\n",
    "    \n",
    "    hipart = partition_rec(arr, pivot, lo, hi)[1]\n",
    "\n",
    "    quicksort(arr, lo=lo, hi=hipart-1)\n",
    "    quicksort(arr, lo=hipart, hi=hi)\n",
    "\n",
    "values = [1,1,5,5,2,4,3]\n",
    "\n",
    "quicksort(values)\n",
    "values"
   ]
  }
 ],
 "metadata": {
  "kernelspec": {
   "display_name": "Python 3.10.9 64-bit",
   "language": "python",
   "name": "python3"
  },
  "language_info": {
   "codemirror_mode": {
    "name": "ipython",
    "version": 3
   },
   "file_extension": ".py",
   "mimetype": "text/x-python",
   "name": "python",
   "nbconvert_exporter": "python",
   "pygments_lexer": "ipython3",
   "version": "3.10.9"
  },
  "orig_nbformat": 4,
  "vscode": {
   "interpreter": {
    "hash": "97cc609b13305c559618ec78a438abc56230b9381f827f22d070313b9a1f3777"
   }
  }
 },
 "nbformat": 4,
 "nbformat_minor": 2
}
