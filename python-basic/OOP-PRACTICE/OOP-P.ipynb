{
 "cells": [
  {
   "cell_type": "markdown",
   "metadata": {},
   "source": [
    "# OOP in Practice\n",
    "## Abstract class\n",
    "\n",
    "- Sometimes, it can be desirable to define a class that only serves as a base class and are not meant to be instantiated.\n",
    "- we call these classes abstract classes"
   ]
  },
  {
   "cell_type": "markdown",
   "metadata": {},
   "source": [
    "The Animal class can be instantiated."
   ]
  },
  {
   "cell_type": "code",
   "execution_count": 2,
   "metadata": {},
   "outputs": [
    {
     "name": "stdout",
     "output_type": "stream",
     "text": [
      "None\n"
     ]
    }
   ],
   "source": [
    "class Animal:\n",
    "    def reproduce(self):\n",
    "        pass\n",
    "\n",
    "class Whale(Animal):\n",
    "    def reproduce(self):\n",
    "        return Whale()\n",
    "\n",
    "willy = Animal()\n",
    "print(willy.reproduce())"
   ]
  },
  {
   "cell_type": "markdown",
   "metadata": {},
   "source": [
    "By using the @abstractmethod decorator an method becomes abstract and can't be used on it's own."
   ]
  },
  {
   "cell_type": "code",
   "execution_count": 8,
   "metadata": {},
   "outputs": [
    {
     "ename": "TypeError",
     "evalue": "Can't instantiate abstract class Animal with abstract method reproduce",
     "output_type": "error",
     "traceback": [
      "\u001b[0;31m---------------------------------------------------------------------------\u001b[0m",
      "\u001b[0;31mTypeError\u001b[0m                                 Traceback (most recent call last)",
      "Cell \u001b[0;32mIn [8], line 12\u001b[0m\n\u001b[1;32m      9\u001b[0m     \u001b[39mdef\u001b[39;00m \u001b[39mreproduce\u001b[39m(\u001b[39mself\u001b[39m):\n\u001b[1;32m     10\u001b[0m         \u001b[39mreturn\u001b[39;00m Whale()\n\u001b[0;32m---> 12\u001b[0m willy \u001b[39m=\u001b[39m Animal()\n\u001b[1;32m     13\u001b[0m \u001b[39mprint\u001b[39m(willy\u001b[39m.\u001b[39mreproduce())\n",
      "\u001b[0;31mTypeError\u001b[0m: Can't instantiate abstract class Animal with abstract method reproduce"
     ]
    }
   ],
   "source": [
    "from abc import ABC, abstractmethod\n",
    "\n",
    "class Animal(ABC):\n",
    "    @abstractmethod\n",
    "    def reproduce(self):\n",
    "        pass\n",
    "\n",
    "class Whale(Animal):\n",
    "    def reproduce(self):\n",
    "        return Whale()\n",
    "\n",
    "willy = Animal()\n",
    "print(willy.reproduce())"
   ]
  },
  {
   "cell_type": "code",
   "execution_count": 22,
   "metadata": {},
   "outputs": [
    {
     "ename": "TypeError",
     "evalue": "Can't instantiate abstract class Whale with abstract method reproduce",
     "output_type": "error",
     "traceback": [
      "\u001b[0;31m---------------------------------------------------------------------------\u001b[0m",
      "\u001b[0;31mTypeError\u001b[0m                                 Traceback (most recent call last)",
      "Cell \u001b[0;32mIn [22], line 11\u001b[0m\n\u001b[1;32m      8\u001b[0m \u001b[39mclass\u001b[39;00m \u001b[39mWhale\u001b[39;00m(Animal):\n\u001b[1;32m      9\u001b[0m     \u001b[39mpass\u001b[39;00m\n\u001b[0;32m---> 11\u001b[0m willy \u001b[39m=\u001b[39m Whale()\n\u001b[1;32m     12\u001b[0m \u001b[39mprint\u001b[39m(willy\u001b[39m.\u001b[39mreproduce())\n",
      "\u001b[0;31mTypeError\u001b[0m: Can't instantiate abstract class Whale with abstract method reproduce"
     ]
    }
   ],
   "source": [
    "from abc import ABC, abstractmethod\n",
    "\n",
    "class Animal(ABC):\n",
    "    @abstractmethod\n",
    "    def reproduce(self):\n",
    "        pass\n",
    "\n",
    "class Whale(Animal):\n",
    "    pass\n",
    "\n",
    "willy = Whale()\n",
    "print(willy.reproduce())"
   ]
  },
  {
   "cell_type": "markdown",
   "metadata": {},
   "source": [
    "Abstract methods must be overwritten by methods from a subclass:"
   ]
  },
  {
   "cell_type": "code",
   "execution_count": 26,
   "metadata": {},
   "outputs": [
    {
     "name": "stdout",
     "output_type": "stream",
     "text": [
      "<__main__.Whale object at 0x7f20187a3430>\n"
     ]
    },
    {
     "data": {
      "text/plain": [
       "(__main__.Animal, abc.ABC, object)"
      ]
     },
     "execution_count": 26,
     "metadata": {},
     "output_type": "execute_result"
    }
   ],
   "source": [
    "from abc import ABC, abstractmethod\n",
    "\n",
    "class Animal(ABC):\n",
    "\n",
    "    @abstractmethod\n",
    "    def reproduce(self):\n",
    "        pass\n",
    "\n",
    "class Whale(Animal):\n",
    "    def reproduce(self):\n",
    "        return Whale()\n",
    "\n",
    "willy = Whale()\n",
    "print(willy.reproduce())\n",
    "\n",
    "Animal.__mro__"
   ]
  },
  {
   "cell_type": "code",
   "execution_count": 28,
   "metadata": {},
   "outputs": [],
   "source": [
    "#dir(Animal.reproduce)"
   ]
  },
  {
   "cell_type": "markdown",
   "metadata": {},
   "source": [
    "## Singleton Pattern\n",
    "\n",
    "- A singleton pattern is a class where only one instance is ever created.\n",
    "- Can be used instead of global variables\n",
    "- This means that they act as a global scope manager."
   ]
  },
  {
   "cell_type": "markdown",
   "metadata": {},
   "source": [
    "Example:\n",
    "- unique school\n",
    "- has teachers and students"
   ]
  },
  {
   "cell_type": "markdown",
   "metadata": {},
   "source": [
    "# Version 1"
   ]
  },
  {
   "cell_type": "code",
   "execution_count": 35,
   "metadata": {},
   "outputs": [
    {
     "name": "stdout",
     "output_type": "stream",
     "text": [
      "139775901052176\n",
      "139775901052176\n"
     ]
    }
   ],
   "source": [
    "class School:\n",
    "    class __School:\n",
    "        def __init__(self, population) -> None:\n",
    "            self.population = population\n",
    "\n",
    "        def __str__(self) -> str:\n",
    "            return f\"School({self.population})\"\n",
    "        \n",
    "        def add_popu(self, population):\n",
    "            self.population += population\n",
    "    \n",
    "    __instance = None\n",
    "    def __new__(cls, population):\n",
    "        if not cls.__instance:\n",
    "            cls.__instance = cls.__School(population)\n",
    "        #     return cls.__instance\n",
    "        # old_instance = cls.__instance\n",
    "        # old_instance.add_popu(population)\n",
    "        return cls.__instance\n",
    "        \n",
    "\n",
    "\n",
    "school1 = School(1)\n",
    "print(id(school1))\n",
    "school2 = School(2000)\n",
    "print(id(school2))\n"
   ]
  },
  {
   "cell_type": "markdown",
   "metadata": {},
   "source": [
    "# @Singleton Decorator"
   ]
  },
  {
   "cell_type": "markdown",
   "metadata": {},
   "source": [
    "# Recap Decorator\n",
    "\n",
    "- decorator function takes *func* and is used as free variable in the closure( innner is part of the closure)\n",
    "- closure is a function with extended scope"
   ]
  },
  {
   "cell_type": "code",
   "execution_count": 73,
   "metadata": {},
   "outputs": [
    {
     "data": {
      "text/plain": [
       "4"
      ]
     },
     "execution_count": 73,
     "metadata": {},
     "output_type": "execute_result"
    }
   ],
   "source": [
    "def power(func):\n",
    "    def inner(*args, **kwargs):\n",
    "        result = func(*args, **kwargs)\n",
    "        return result ** 2\n",
    "    return inner\n",
    "\n",
    "\n",
    "@power\n",
    "def add(a, b):\n",
    "    return a + b\n",
    "\n",
    "# add = power(add)\n",
    "add(1,1)"
   ]
  },
  {
   "cell_type": "markdown",
   "metadata": {},
   "source": [
    "# Version 2"
   ]
  },
  {
   "cell_type": "code",
   "execution_count": 72,
   "metadata": {},
   "outputs": [
    {
     "data": {
      "text/plain": [
       "(1, 1)"
      ]
     },
     "execution_count": 72,
     "metadata": {},
     "output_type": "execute_result"
    }
   ],
   "source": [
    "# instances = {}\n",
    "\n",
    "def singleton(class_):\n",
    "    instances = {}\n",
    "\n",
    "    def get_instance(*args, **kwargs):\n",
    "        if class_ not in instances:\n",
    "            instances[class_] = class_(*args, **kwargs)\n",
    "        return instances[class_]\n",
    "    return get_instance\n",
    "\n",
    "@singleton\n",
    "class FirstClass:\n",
    "    def __init__(self, m):\n",
    "        self.val = m\n",
    "\n",
    "a = FirstClass(1)\n",
    "b = FirstClass(23)\n",
    "\n",
    "@singleton\n",
    "class SecondClass:\n",
    "    def __init__(self):\n",
    "        self.val = 0\n",
    "\n",
    "\n",
    "c = SecondClass()\n",
    "d = SecondClass()\n",
    "\n",
    "id(a), id(b)\n",
    "a.val,b.val\n",
    "\n"
   ]
  },
  {
   "cell_type": "markdown",
   "metadata": {},
   "source": [
    "# Class decorators\n",
    "\n",
    "- There are classes which mimic normal function by calling the __ call__ method\n",
    "\n",
    "Let's first look on the magical __ call__ method:"
   ]
  },
  {
   "cell_type": "code",
   "execution_count": 60,
   "metadata": {},
   "outputs": [
    {
     "data": {
      "text/plain": [
       "<__main__.Mimic at 0x7f20187e48e0>"
      ]
     },
     "execution_count": 60,
     "metadata": {},
     "output_type": "execute_result"
    }
   ],
   "source": [
    "class Mimic:\n",
    "    def __call__(self): \n",
    "        return 'Hello world'\n",
    "\n",
    "mimic_instance = Mimic()\n",
    "mimic_instance"
   ]
  },
  {
   "cell_type": "code",
   "execution_count": 61,
   "metadata": {},
   "outputs": [
    {
     "data": {
      "text/plain": [
       "'Hello world'"
      ]
     },
     "execution_count": 61,
     "metadata": {},
     "output_type": "execute_result"
    }
   ],
   "source": [
    "mimic_instance() #when we use the invokation operator, () on a object, then the __call__ method is invoked"
   ]
  },
  {
   "cell_type": "markdown",
   "metadata": {},
   "source": [
    "A decorator has to take a function as an argument:"
   ]
  },
  {
   "cell_type": "code",
   "execution_count": null,
   "metadata": {},
   "outputs": [],
   "source": [
    "class Power:\n",
    "    def __init__(self, func) -> None:\n",
    "        self._func\n",
    "\n",
    "    def __call__(self, *args, **kwargs):\n",
    "        return self._func(*args, **kwargs) ** 2\n",
    "\n",
    "\n",
    "@Power\n",
    "def add(a, b):\n",
    "    return a + b\n",
    "\n"
   ]
  },
  {
   "cell_type": "markdown",
   "metadata": {},
   "source": [
    "# Version 3"
   ]
  },
  {
   "cell_type": "code",
   "execution_count": 102,
   "metadata": {},
   "outputs": [
    {
     "name": "stdout",
     "output_type": "stream",
     "text": [
      "{<class '__main__.FirstClass'>: <__main__.FirstClass object at 0x7f2018797250>, <class '__main__.SecondClass'>: <__main__.SecondClass object at 0x7f2018794b20>}\n"
     ]
    },
    {
     "data": {
      "text/plain": [
       "{'_class': __main__.FirstClass}"
      ]
     },
     "execution_count": 102,
     "metadata": {},
     "output_type": "execute_result"
    }
   ],
   "source": [
    "class Singleton:\n",
    "    _instances = {}\n",
    "\n",
    "    def __init__(self, class_):\n",
    "        self._class = class_\n",
    "        # self._instances = {}\n",
    "\n",
    "    def __call__(self, *args, **kwargs):\n",
    "        if self._class not in self._instances:\n",
    "            self._instances[self._class] = self._class(*args, **kwargs)\n",
    "        return self._instances[self._class]\n",
    "\n",
    "@Singleton\n",
    "class FirstClass:\n",
    "    def __init__(self, m):\n",
    "        self.val = m\n",
    "\n",
    "a = FirstClass(1)\n",
    "b = FirstClass(23)\n",
    "\n",
    "@Singleton\n",
    "class SecondClass:\n",
    "    def __init__(self):\n",
    "        self.val = 0\n",
    "\n",
    "\n",
    "c = SecondClass()\n",
    "d = SecondClass()\n",
    "\n",
    "print(Singleton('dummy')._instances)\n",
    "id(a), id(b)\n",
    "#a.val,b.val"
   ]
  },
  {
   "cell_type": "markdown",
   "metadata": {},
   "source": [
    "## Factory pattern (Factory method)\n",
    "\n",
    "- A decorator factory is a function that returns a decorator. "
   ]
  },
  {
   "cell_type": "code",
   "execution_count": 83,
   "metadata": {},
   "outputs": [
    {
     "name": "stdout",
     "output_type": "stream",
     "text": [
      "0.15278005599975586\n"
     ]
    },
    {
     "data": {
      "text/plain": [
       "'Hello World'"
      ]
     },
     "execution_count": 83,
     "metadata": {},
     "output_type": "execute_result"
    }
   ],
   "source": [
    "from time import time\n",
    "\n",
    "def decorator_factory(loops_num=1):\n",
    "    def decorator(func):\n",
    "        def inner(*args, **kwargs):\n",
    "            total_elapsed = 0\n",
    "            for i in range(loops_num):\n",
    "                start = time()\n",
    "                result = func(*args, **kwargs)\n",
    "                elapsed = time() - start\n",
    "                total_elapsed += elapsed \n",
    "            print(total_elapsed)\n",
    "            return result\n",
    "        return inner\n",
    "    return decorator\n",
    "\n",
    "@decorator_factory(loops_num=1000000)  # creates a different decorator at runtime\n",
    "def hello():\n",
    "    return 'Hello World'\n",
    "\n",
    "hello()"
   ]
  },
  {
   "cell_type": "markdown",
   "metadata": {},
   "source": [
    "Sometimes, a new class needs to be created on runtime with input parameters.\n",
    "- a factory is a function that returns instances of different classes\n",
    "- Factory Method allows a class to create an object"
   ]
  },
  {
   "cell_type": "markdown",
   "metadata": {},
   "source": [
    "Suppose we have a translation app:"
   ]
  },
  {
   "cell_type": "code",
   "execution_count": 89,
   "metadata": {},
   "outputs": [
    {
     "name": "stdout",
     "output_type": "stream",
     "text": [
      "***************\n",
      "translate:car\n",
      "***************\n",
      "voiture\n",
      "car\n",
      "coche\n",
      "***************\n",
      "translate:bicycle\n",
      "***************\n",
      "bicycle\n",
      "bicycle\n",
      "bicycle\n",
      "***************\n",
      "translate:cycle\n",
      "***************\n",
      "cyclette\n",
      "cycle\n",
      "ciclo\n"
     ]
    }
   ],
   "source": [
    "class FrenchLocalizer:\n",
    " \n",
    "    \"\"\" it simply returns the french version \"\"\"\n",
    " \n",
    "    def __init__(self):\n",
    " \n",
    "        self.translations = {\"car\": \"voiture\", \"bike\": \"bicyclette\",\n",
    "                             \"cycle\":\"cyclette\"}\n",
    " \n",
    "    def localize(self, msg):\n",
    " \n",
    "        \"\"\"change the message using translations\"\"\"\n",
    "        return self.translations.get(msg, msg)\n",
    " \n",
    "class SpanishLocalizer:\n",
    "    \"\"\"it simply returns the spanish version\"\"\"\n",
    " \n",
    "    def __init__(self):\n",
    " \n",
    "        self.translations = {\"car\": \"coche\", \"bike\": \"bicicleta\",\n",
    "                             \"cycle\":\"ciclo\"}\n",
    " \n",
    "    def localize(self, msg):\n",
    " \n",
    "        \"\"\"change the message using translations\"\"\"\n",
    "        return self.translations.get(msg, msg)\n",
    " \n",
    "class EnglishLocalizer:\n",
    "    \"\"\"Simply return the same message\"\"\"\n",
    " \n",
    "    def localize(self, msg):\n",
    "        return msg\n",
    " \n",
    "\n",
    " \n",
    "    \n",
    "f = FrenchLocalizer()\n",
    "e = EnglishLocalizer()\n",
    "s = SpanishLocalizer()\n",
    "\n",
    "words = ['car', 'bicycle', 'cycle']\n",
    "for word in words:\n",
    "    print('***************')\n",
    "    print(f\"translate:{word}\")\n",
    "    print('***************')\n",
    "    print(f.localize(word))\n",
    "    print(e.localize(word))\n",
    "    print(s.localize(word))"
   ]
  },
  {
   "cell_type": "markdown",
   "metadata": {},
   "source": [
    "With the factory pattern we are centralizing the instantiation of classes of similar type. "
   ]
  },
  {
   "cell_type": "code",
   "execution_count": null,
   "metadata": {},
   "outputs": [],
   "source": [
    "def factory(language =\"English\"):\n",
    " \n",
    "    \"\"\"Factory Method\"\"\"\n",
    "    localizers = {\n",
    "        \"French\": FrenchLocalizer,\n",
    "        \"English\": EnglishLocalizer,\n",
    "        \"Spanish\": SpanishLocalizer,\n",
    "    }\n",
    " \n",
    "    return localizers[language]()\n",
    "\n",
    "f = factory('French')\n",
    "e = factory()\n",
    "s = factory('Spanisch')\n",
    "\n"
   ]
  },
  {
   "cell_type": "code",
   "execution_count": 92,
   "metadata": {},
   "outputs": [
    {
     "data": {
      "text/plain": [
       "'<div>BobDoe</div>'"
      ]
     },
     "execution_count": 92,
     "metadata": {},
     "output_type": "execute_result"
    }
   ],
   "source": [
    "def surround(tags='div'):\n",
    "    def decorator(func):\n",
    "        def inner(*args, **kwargs):\n",
    "            return f\"<{tags}>{func(*args, **kwargs)}</{tags}>\"\n",
    "        return inner\n",
    "    return decorator\n",
    "\n",
    "@surround()\n",
    "def div(fname, lname):\n",
    "    return fname + lname\n",
    "\n",
    "@surround(tags='p')\n",
    "def p(fname, lname):\n",
    "    return fname + ' ' + lname\n",
    "\n",
    "div('Bob', 'Doe')\n",
    "# p('John', 'Snow')"
   ]
  },
  {
   "cell_type": "code",
   "execution_count": 99,
   "metadata": {},
   "outputs": [
    {
     "data": {
      "text/plain": [
       "<p>Bob Doe</p>"
      ]
     },
     "execution_count": 99,
     "metadata": {},
     "output_type": "execute_result"
    }
   ],
   "source": [
    "class P:\n",
    "    def __init__(self, fname, lname):\n",
    "        self.fname = fname\n",
    "        self.lname = lname\n",
    "        self.fullname = f\"{fname} {lname}\"\n",
    "\n",
    "    def __repr__(self):\n",
    "        name = type(self).__name__.lower()\n",
    "        return f\"<{name}>{self.fullname}</{name}>\"\n",
    "\n",
    "class Div:\n",
    "    def __init__(self, fname, lname):\n",
    "        self.fname = fname\n",
    "        self.lname = lname\n",
    "        self.fullname = f\"{fname} {lname}\"\n",
    "\n",
    "    def __repr__(self):\n",
    "        name = type(self).__name__.lower()\n",
    "        return f\"<{name}>{self.fullname}</{name}>\"\n",
    "\n",
    "def factory(tags='div'):\n",
    "    tag_dict = {\n",
    "        'p': P,\n",
    "        'div': Div,\n",
    "    }\n",
    "    return tag_dict[tags]\n",
    "\n",
    "div = factory()\n",
    "p = factory('p')\n",
    "div('John', 'Snow')\n",
    "p('Bob', 'Doe')\n"
   ]
  },
  {
   "cell_type": "code",
   "execution_count": 101,
   "metadata": {},
   "outputs": [
    {
     "data": {
      "text/plain": [
       "<div>John Snow</div>"
      ]
     },
     "execution_count": 101,
     "metadata": {},
     "output_type": "execute_result"
    }
   ],
   "source": [
    "class Factory:\n",
    "    @staticmethod\n",
    "    def create_object(tags='div'):\n",
    "        tag_dict = {\n",
    "            'p': P,\n",
    "            'div': Div,\n",
    "            }\n",
    "        return tag_dict[tags]\n",
    "\n",
    "div = Factory.create_object()\n",
    "p = Factory.create_object(tags='p')\n",
    "\n",
    "div('John', 'Snow')\n",
    "# p('Bob', 'Doe')"
   ]
  },
  {
   "cell_type": "code",
   "execution_count": null,
   "metadata": {},
   "outputs": [],
   "source": []
  }
 ],
 "metadata": {
  "kernelspec": {
   "display_name": "Python 3 (ipykernel)",
   "language": "python",
   "name": "python3"
  },
  "language_info": {
   "codemirror_mode": {
    "name": "ipython",
    "version": 3
   },
   "file_extension": ".py",
   "mimetype": "text/x-python",
   "name": "python",
   "nbconvert_exporter": "python",
   "pygments_lexer": "ipython3",
   "version": "3.10.9"
  },
  "vscode": {
   "interpreter": {
    "hash": "97cc609b13305c559618ec78a438abc56230b9381f827f22d070313b9a1f3777"
   }
  }
 },
 "nbformat": 4,
 "nbformat_minor": 2
}
