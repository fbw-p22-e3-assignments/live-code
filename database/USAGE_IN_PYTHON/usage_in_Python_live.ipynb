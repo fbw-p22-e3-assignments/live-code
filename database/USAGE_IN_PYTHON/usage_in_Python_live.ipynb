{
 "cells": [
  {
   "attachments": {},
   "cell_type": "markdown",
   "metadata": {},
   "source": [
    "# Usage in Python\n",
    "- Python has support for working with different databases:\n",
    "1. sqlite\n",
    "2. mysql\n",
    "3. postgres\n",
    "4. etc."
   ]
  },
  {
   "attachments": {},
   "cell_type": "markdown",
   "metadata": {},
   "source": [
    "## Psycopg\n",
    "- Psycopg is the most popular PostgreSQL database adapter for python\n",
    "- Psycopg 2 is mostly implemented in C\n",
    "- Many Python types are supported and adapted to matching PostgreSQL data types"
   ]
  },
  {
   "attachments": {},
   "cell_type": "markdown",
   "metadata": {},
   "source": [
    "### Basic module usage\n",
    "\n",
    "> python3 -m pip install psycopg2\n",
    "\n",
    "> create database python_db;"
   ]
  },
  {
   "cell_type": "code",
   "execution_count": 27,
   "metadata": {},
   "outputs": [
    {
     "data": {
      "text/plain": [
       "[(1, 100, \"abc'def\"),\n",
       " (2, 100, \"abc'def\"),\n",
       " (4, 100, \"abc'def\"),\n",
       " (5, 100, \"abc'def\"),\n",
       " (6, 100, \"abc'def\"),\n",
       " (7, 100, \"abc'def\"),\n",
       " (8, 100, \"abc'def\"),\n",
       " (9, 100, \"abc'def\"),\n",
       " (10, 100, \"abc'def\")]"
      ]
     },
     "execution_count": 27,
     "metadata": {},
     "output_type": "execute_result"
    }
   ],
   "source": [
    "import psycopg2\n",
    "\n",
    "#Connect to an existing database\n",
    "conn = psycopg2.connect(\n",
    "    host=\"localhost\", #or\n",
    "    #host=\"127.0.0.1\", \n",
    "    database=\"python_db\",\n",
    "    user='postgres',\n",
    "    password='password'\n",
    ")\n",
    "\n",
    "#Open a cursor to perform database operations\n",
    "cursor = conn.cursor()\n",
    "\n",
    "#Execute a command: this creates a new table\n",
    "\n",
    "# try:\n",
    "#     cursor.execute(\"create table test (id serial primary key, num integer, data varchar(50))\")\n",
    "# except Exception as e:\n",
    "#     print('Error:', e)\n",
    "\n",
    "cursor.execute(\"create table if not exists test (id serial primary key, num integer, data varchar(50))\")\n",
    "\n",
    "#Pass data to fill a query placeholders \n",
    "cursor.execute(\"insert into test (num, data) values (%s, %s)\", (100, \"abc'def\"))\n",
    "\n",
    "#Query the database and obtain data as python objects \n",
    "cursor.execute(\"select * from test;\")\n",
    "data = cursor.fetchall()\n",
    "\n",
    "# Make the change to the database persistent\n",
    "conn.commit()\n",
    "\n",
    "#Close communication wih the database\n",
    "cursor.close()\n",
    "#conn.close()\n",
    "data\n",
    "\n"
   ]
  },
  {
   "attachments": {},
   "cell_type": "markdown",
   "metadata": {},
   "source": [
    "- connect() creates a new database session"
   ]
  },
  {
   "cell_type": "code",
   "execution_count": 25,
   "metadata": {},
   "outputs": [
    {
     "name": "stdout",
     "output_type": "stream",
     "text": [
      "<class 'psycopg2.extensions.connection'>\n"
     ]
    }
   ],
   "source": [
    "print(type(conn))"
   ]
  },
  {
   "attachments": {},
   "cell_type": "markdown",
   "metadata": {},
   "source": [
    "- each connection/session can create new cursor instances\n",
    "- cursor instances can execute database commands\n",
    "- commands are sent by the following methods:\n",
    "1. execute()\n",
    "2. executemany()\n",
    "- to retrieve data use the following cursor methods:\n",
    "1. fetchall() - gets all row of the query\n",
    "2. fetchone() - gets one row of the query\n",
    "3. fetchmany() - gets as many rows as specified e.g. fetchmany(5)"
   ]
  },
  {
   "attachments": {},
   "cell_type": "markdown",
   "metadata": {},
   "source": [
    "### Access Data From a cursor\n",
    "- You can have many cursors sharing the same connection to a database.\n",
    "- Cursors created from the same connection are not isolated\n",
    "- i.e. any changes done to the database by a cursor are visible by other cursor\n",
    "\n",
    "- a query can potentially match very large sets of data\n",
    "- Read operations do not immediately return all values matching the query\n",
    "- these operations rely on cursors\n",
    "\n",
    "- cursors fetches data in batches to reduce memory consumption\n",
    "\n",
    "- Closing the cursor frees resources associated to the queries.\n",
    "- It would not eliminate the connection to the database itself.\n",
    "(Therefore, there is no need for reauthentication)\n",
    "\n"
   ]
  },
  {
   "attachments": {},
   "cell_type": "markdown",
   "metadata": {},
   "source": [
    "### Connections and Cursors\n",
    "- Connections and cursors can be used as context managers and commits if no exception occurs. \n",
    "- the connection is not closed by the context\n",
    "- the cursor is closed by the context"
   ]
  },
  {
   "cell_type": "code",
   "execution_count": 32,
   "metadata": {},
   "outputs": [
    {
     "name": "stdout",
     "output_type": "stream",
     "text": [
      "<cursor object at 0x7fca4f39eb80; closed: 0>\n",
      "<cursor object at 0x7fca4f39eb80; closed: -1>\n"
     ]
    },
    {
     "data": {
      "text/plain": [
       "[(1, 100, \"abc'def\"),\n",
       " (2, 100, \"abc'def\"),\n",
       " (4, 100, \"abc'def\"),\n",
       " (5, 100, \"abc'def\"),\n",
       " (6, 100, \"abc'def\"),\n",
       " (7, 100, \"abc'def\"),\n",
       " (8, 100, \"abc'def\"),\n",
       " (9, 100, \"abc'def\"),\n",
       " (10, 100, \"abc'def\")]"
      ]
     },
     "execution_count": 32,
     "metadata": {},
     "output_type": "execute_result"
    }
   ],
   "source": [
    "with conn:\n",
    "    with conn.cursor() as curs:\n",
    "        curs.execute(\"CREATE TABLE if not exists test3 (id serial PRIMARY KEY, num integer, data varchar)\")\n",
    "        curs.execute('select * from test')\n",
    "        data = curs.fetchall()\n",
    "        print(curs)\n",
    "print(curs)\n",
    "#conn.commit happens\n",
    "#curs.close() happens\n",
    "data\n"
   ]
  },
  {
   "attachments": {},
   "cell_type": "markdown",
   "metadata": {},
   "source": [
    "### Passing parameters to SQL queries\n",
    "### execute and executemany()\n",
    "- Execute a database operation \n",
    "- Parameters may be provided \n",
    "- For positional variables binding, the second argument must always be a sequence"
   ]
  },
  {
   "cell_type": "code",
   "execution_count": 33,
   "metadata": {},
   "outputs": [
    {
     "name": "stdout",
     "output_type": "stream",
     "text": [
      "[(1, 100, \"abc'def\"), (2, 100, \"abc'def\"), (4, 100, \"abc'def\"), (5, 100, \"abc'def\"), (6, 100, \"abc'def\"), (7, 100, \"abc'def\"), (8, 100, \"abc'def\"), (9, 100, \"abc'def\"), (10, 100, \"abc'def\"), (11, 22, 'BLA')]\n"
     ]
    }
   ],
   "source": [
    "with conn:\n",
    "    with conn.cursor() as curs:\n",
    "        curs.execute(\"\"\"\n",
    "        insert into test (num, data)\n",
    "        values (%s, %s)\n",
    "        \"\"\", (22, 'BLA'))\n",
    "        curs.execute(\"select * from test\")\n",
    "        print(curs.fetchall())"
   ]
  },
  {
   "attachments": {},
   "cell_type": "markdown",
   "metadata": {},
   "source": [
    "- Named arguments are supported too using %(name)s placeholders in the query\n",
    "- allows to specify the values in any order and to repeat the same value"
   ]
  },
  {
   "cell_type": "code",
   "execution_count": 34,
   "metadata": {},
   "outputs": [
    {
     "name": "stdout",
     "output_type": "stream",
     "text": [
      "[(1, 100, \"abc'def\"), (2, 100, \"abc'def\"), (4, 100, \"abc'def\"), (5, 100, \"abc'def\"), (6, 100, \"abc'def\"), (7, 100, \"abc'def\"), (8, 100, \"abc'def\"), (9, 100, \"abc'def\"), (10, 100, \"abc'def\"), (11, 22, 'BLA'), (12, 100, 'DATA')]\n"
     ]
    }
   ],
   "source": [
    "with conn:\n",
    "    with conn.cursor() as curs:\n",
    "        curs.execute(\"\"\"\n",
    "        insert into test (num, data)\n",
    "        values (%(value1)s, %(value2)s)\n",
    "        \"\"\", {'value1':100, 'value2':'DATA'})\n",
    "        curs.execute(\"select * from test\")\n",
    "        print(curs.fetchall())"
   ]
  },
  {
   "attachments": {},
   "cell_type": "markdown",
   "metadata": {},
   "source": [
    "### The problem with the query parameters - SQL Injection"
   ]
  },
  {
   "cell_type": "code",
   "execution_count": 47,
   "metadata": {},
   "outputs": [
    {
     "name": "stdout",
     "output_type": "stream",
     "text": [
      "[(1, 100, \"abc'def\"), (2, 100, \"abc'def\"), (4, 100, \"abc'def\"), (5, 100, \"abc'def\"), (6, 100, \"abc'def\"), (7, 100, \"abc'def\"), (8, 100, \"abc'def\"), (9, 100, \"abc'def\"), (10, 100, \"abc'def\"), (11, 22, 'BLA'), (12, 100, 'DATA'), (16, 100, \"abc'def\"), (17, 100, 'DATA'), (19, None, 'Bla'), (20, None, 'Bla'), (21, None, 'Bla'), (22, None, 'Bla'), (25, None, 'Bla')]\n"
     ]
    }
   ],
   "source": [
    "with conn:\n",
    "   with conn.cursor() as curs:\n",
    "      SQL = \"insert into test (data) values ('%s');\" # don't use quotes around %s\n",
    "      #user_input = \"Bla'); select * from test where '1' in ('1\"\n",
    "      user_input = input('please give data to store')\n",
    "      curs.execute(SQL % user_input) #NEVER DO THIS\n",
    "      print(curs.fetchall())\n"
   ]
  },
  {
   "cell_type": "code",
   "execution_count": 35,
   "metadata": {},
   "outputs": [
    {
     "data": {
      "text/plain": [
       "'Hello bla'"
      ]
     },
     "execution_count": 35,
     "metadata": {},
     "output_type": "execute_result"
    }
   ],
   "source": [
    "'Hello %s' % 'bla'"
   ]
  },
  {
   "cell_type": "code",
   "execution_count": 58,
   "metadata": {},
   "outputs": [],
   "source": [
    "with conn:\n",
    "   with conn.cursor() as curs:\n",
    "      SQL = \"insert into test (data) values (%s);\" # don't use quotes around %s\n",
    "      user_input = \"HELLO WORLD'); select * from test where '1' in ('1\"\n",
    "      #user_input = 'HELLO WORLD'\n",
    "      #user_input = input('please give data to store')\n",
    "      curs.execute(SQL, (user_input,)) # DO IT THIS WAY\n",
    "      "
   ]
  },
  {
   "attachments": {},
   "cell_type": "markdown",
   "metadata": {},
   "source": [
    "<span style=color:red;>Warning: Never, never, NEVER use Python string concatenation (+) or string parameters interpolation (%) to pass variables to a SQL query string. </span>"
   ]
  },
  {
   "cell_type": "code",
   "execution_count": null,
   "metadata": {},
   "outputs": [],
   "source": [
    "SQL = \"insert into test (data) values (%s);\""
   ]
  },
  {
   "attachments": {},
   "cell_type": "markdown",
   "metadata": {},
   "source": [
    "![](exploits_of_a_mom.png)"
   ]
  },
  {
   "attachments": {},
   "cell_type": "markdown",
   "metadata": {},
   "source": [
    "### executemany\n",
    "\n"
   ]
  },
  {
   "cell_type": "code",
   "execution_count": null,
   "metadata": {},
   "outputs": [],
   "source": []
  },
  {
   "cell_type": "code",
   "execution_count": null,
   "metadata": {},
   "outputs": [],
   "source": []
  },
  {
   "cell_type": "code",
   "execution_count": null,
   "metadata": {},
   "outputs": [],
   "source": []
  },
  {
   "cell_type": "code",
   "execution_count": 61,
   "metadata": {},
   "outputs": [],
   "source": [
    "with conn:\n",
    "    with conn.cursor() as curs:\n",
    "        number = (1000,)\n",
    "        numbers = [(1000,), (2000,), (3000,)]\n",
    "        SQL = \"insert into test (num) values (%s)\"\n",
    "        # curs.execute(SQL, number) #single insert\n",
    "        curs.executemany(SQL, numbers) # multiple inserts \n",
    "\n"
   ]
  },
  {
   "attachments": {},
   "cell_type": "markdown",
   "metadata": {},
   "source": [
    "- Parameters are bounded to the query using the same rules described in the execute() method.\n",
    "- In its current implementation this method is not faster than executing execute() in a loop"
   ]
  }
 ],
 "metadata": {
  "kernelspec": {
   "display_name": "Python 3",
   "language": "python",
   "name": "python3"
  },
  "language_info": {
   "codemirror_mode": {
    "name": "ipython",
    "version": 3
   },
   "file_extension": ".py",
   "mimetype": "text/x-python",
   "name": "python",
   "nbconvert_exporter": "python",
   "pygments_lexer": "ipython3",
   "version": "3.8.10"
  },
  "orig_nbformat": 4,
  "vscode": {
   "interpreter": {
    "hash": "916dbcbb3f70747c44a77c7bcd40155683ae19c65e1c03b4aa3499c5328201f1"
   }
  }
 },
 "nbformat": 4,
 "nbformat_minor": 2
}
