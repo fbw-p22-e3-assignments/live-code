{
 "cells": [
  {
   "cell_type": "markdown",
   "metadata": {},
   "source": [
    "Problem:  Suppose We search the number 100 in a sorted list of 100 elements ranging from 1 to 100.\n",
    "We could search from the  start until the end of the list:\n",
    "\n",
    "-  [1,2,3,4,....100]\n",
    "-  [2,3,4,...,100] 1.step (to low, go on)\n",
    "-  [3,4,...,100] 2.step (to low, go on)\n",
    "-  [4,...,100] 3.step (to low, go on)\n",
    "- .....\n",
    "- ....\n",
    "- ....\n",
    "- [99, 100] 99.step \n",
    "- [100] 100. Step (FOUND!)\n",
    "\n",
    "We have a algorithm with a time complexity of $O(N)$: The algo would take 100 steps (operations) if we would search for the number 100.\n",
    "\n",
    "- $O(N)$ --> linear complexity       $f(N) = N$\n",
    "- $O(1)$ --> constant complexity     $f(N) = 1$\n",
    "- $O(N * N)$ --> quadratic complexity $f(N) = N^{2}$\n"
   ]
  },
  {
   "cell_type": "code",
   "execution_count": null,
   "metadata": {},
   "outputs": [],
   "source": [
    "l1 = list(range(1,101))\n",
    "length_step1 = len(l1)\n",
    "length_step1"
   ]
  },
  {
   "cell_type": "code",
   "execution_count": null,
   "metadata": {},
   "outputs": [],
   "source": [
    "middle = int((len(l2))/2)\n",
    "middle\n",
    "print(l2[middle])\n",
    "l3 = l2[:middle]\n",
    "print(*l3)"
   ]
  },
  {
   "cell_type": "code",
   "execution_count": null,
   "metadata": {},
   "outputs": [],
   "source": [
    "middle = int(len(l4)/2)\n",
    "middle"
   ]
  },
  {
   "cell_type": "markdown",
   "metadata": {},
   "source": [
    " Introduction\n",
    "\n",
    " - an algorith (*algo*) is a set of instructions\n",
    " - there are different algos for the same task\n",
    " - each algo has a trade-off"
   ]
  },
  {
   "cell_type": "code",
   "execution_count": 2,
   "metadata": {},
   "outputs": [
    {
     "data": {
      "text/plain": [
       "100"
      ]
     },
     "execution_count": 2,
     "metadata": {},
     "output_type": "execute_result"
    }
   ],
   "source": [
    "l1 = list(range(1,101))\n",
    "length_step1 = len(l1)\n",
    "length_step1"
   ]
  },
  {
   "cell_type": "code",
   "execution_count": 19,
   "metadata": {},
   "outputs": [
    {
     "name": "stdout",
     "output_type": "stream",
     "text": [
      "76\n",
      "51 52 53 54 55 56 57 58 59 60 61 62 63 64 65 66 67 68 69 70 71 72 73 74 75\n"
     ]
    }
   ],
   "source": [
    "middle = int((len(l2))/2)\n",
    "middle\n",
    "print(l2[middle])\n",
    "l3 = l2[:middle]\n",
    "print(*l3)"
   ]
  },
  {
   "cell_type": "code",
   "execution_count": 22,
   "metadata": {},
   "outputs": [
    {
     "name": "stdout",
     "output_type": "stream",
     "text": [
      "51 52 53 54 55 56 57 58 59 60 61 62 63\n"
     ]
    }
   ],
   "source": [
    "middle = int(len(l3)/2) + 1   # int(25 / 2) = 12  but the middle of 25 is 13 therefore +1\n",
    "l3[middle]\n",
    "l4 = l3[:middle]\n",
    "print(*l4)"
   ]
  },
  {
   "cell_type": "code",
   "execution_count": 26,
   "metadata": {},
   "outputs": [
    {
     "data": {
      "text/plain": [
       "57"
      ]
     },
     "execution_count": 26,
     "metadata": {},
     "output_type": "execute_result"
    }
   ],
   "source": [
    "middle = int(len(l4)/2)\n",
    "middle\n",
    "l4[middle] "
   ]
  },
  {
   "cell_type": "markdown",
   "metadata": {},
   "source": [
    "In total it took us four steps: \n",
    "1step(100->50)\n",
    "2.step(50->25),\n",
    "3.step(25->12)\n",
    "4.Step(found)\n",
    "\n",
    "With a simple search it would us take 57 steps.\n",
    "\n",
    "With each step of binary search, you cut the number of numbers in half until you found your number."
   ]
  },
  {
   "cell_type": "code",
   "execution_count": null,
   "metadata": {},
   "outputs": [],
   "source": [
    "#def binary_search(my_list_to_search, item_to_find):\n",
    "    #algo\n",
    "    #return Tru if found otherwise False"
   ]
  },
  {
   "cell_type": "markdown",
   "metadata": {},
   "source": [
    "## Exercise:\n",
    "\n",
    "- Write the simple search algo to find an item in a sorted list.\n",
    "- Now do the same with the binary search algo.\n",
    "\n",
    "- ```simple_search([1,2,....,99,100], 3)  ->true, number of steps```\n",
    "\n",
    "- ```simple_search([1,2,....,99,100], 101)  ->false, number of steps```\n",
    "\n",
    "- ```binary_search([1,2,....,99,100], 3)  ->true, number of steps```\n",
    "\n",
    "- ```binary_search([1,2,....,99,100], 101)  ->false, number of steps```\n",
    "\n",
    "- Compare the number of steps of both algos.\n",
    "\n",
    "- run the binary_search algo for each sorted lists with the following *sizes*: [100, 1_000, 10_000, 100_000, 1_000_000_, 10_000_000]\n",
    "- each list should start with 1\n",
    "- search each list with the last element\n",
    "- save the result in a *results* list for each list sizes\n",
    "\n",
    "plot each your results: \n",
    "- the x-axis will represent your list size\n",
    "- the y-axis will represent your number of steps\n",
    "\n",
    "Result:\n",
    "![](big_o_binary_search.png)\n",
    "\n",
    "data: [(100, 7), (1000, 10), (10000, 14), (100000, 17), (1000000, 20)"
   ]
  },
  {
   "cell_type": "markdown",
   "metadata": {},
   "source": [
    "Binary search will take only 20 steps for 1 millon items in a sequence.\n",
    "In general, for any list of n, binary search will take $log_{2}n$ steps to run in the worst case, whereas simple search will take n steps."
   ]
  },
  {
   "cell_type": "markdown",
   "metadata": {},
   "source": [
    " ## Logarithms \n",
    "\n",
    " $log_{10} 100$ is like asking 'How many times do we have to multiply 10 with itself to get 100?'\n",
    " The answer is: 10 * 10, therefore 2 times. $log_{10} 100 = 2$\n",
    " $10^{2} = 100$\n",
    " * Logs are flips of exponentials. You can also say, the log function is the inverse function of the exponential function.\n",
    " "
   ]
  },
  {
   "cell_type": "markdown",
   "metadata": {},
   "source": [
    "|exponential|log|\n",
    "|:--:|:--:|\n",
    "|$2^{3}=8$|3 = $log_{2}8$|\n",
    "|$2^{4}=16$|4 = $log_{2}16$|\n",
    "|$2^{5}=32$|5 = $log_{2}32$|"
   ]
  },
  {
   "cell_type": "markdown",
   "metadata": {},
   "source": [
    "Therefore, for a list of 32 elements you'd have to check 5 numbers at most.\n",
    "-  Your list of 32 elements can be halved a maximum of 5 times. That would be worse case."
   ]
  },
  {
   "cell_type": "markdown",
   "metadata": {},
   "source": [
    "### Running time\n",
    "\n",
    "IN simple search the maximum number of guesses ia the same as the size of the list. This is called *linear time*. Binary search runs in *logarithmic time*.\n",
    "\n",
    "|simple search|Binary Search|\n",
    "|:--:|:--:|\n",
    "|4.000.000.000 Items ->4.000.000.000 Guesses| 4.000.000.000 Items -> 32 Guesses|\n",
    "|$O(N)$|$O(log N)$|\n"
   ]
  },
  {
   "cell_type": "markdown",
   "metadata": {},
   "source": [
    "- Big O notation tells you how fast an algo is (for worse case)\n",
    "- Big O natation lets you compare the number of operations\n",
    "- $O(N)$, where $N$ is the number of operations."
   ]
  },
  {
   "cell_type": "markdown",
   "metadata": {},
   "source": [
    "## Selection Sort"
   ]
  },
  {
   "cell_type": "code",
   "execution_count": 31,
   "metadata": {},
   "outputs": [
    {
     "data": {
      "text/plain": [
       "2"
      ]
     },
     "execution_count": 31,
     "metadata": {},
     "output_type": "execute_result"
    }
   ],
   "source": [
    "l = [156, 141, 35, 94, 88, 61, 111]\n",
    "\n",
    "def findSmallest(arr):\n",
    "    smallest = arr[0]\n",
    "    smallest_index = 0\n",
    "    for i in range(1, len(arr)):\n",
    "        if arr[i] < smallest:\n",
    "            smallest = arr[i]\n",
    "            smallest_index = i\n",
    "    return smallest_index\n",
    "\n",
    "def selectionSort(arr):\n",
    "    newArr = []\n",
    "    for i in range(len(arr)):\n",
    "        smallest_index = findSmallest(arr)\n",
    "        newArr.append(arr.pop(smallest_index))\n",
    "    return newArr\n",
    "\n",
    "#selectionSort(l)\n",
    "findSmallest(l)\n"
   ]
  },
  {
   "cell_type": "markdown",
   "metadata": {},
   "source": [
    "This takes $O(n * n)$ time or $O(n^{2})$."
   ]
  }
 ],
 "metadata": {
  "kernelspec": {
   "display_name": "Python 3.10.9 64-bit",
   "language": "python",
   "name": "python3"
  },
  "language_info": {
   "codemirror_mode": {
    "name": "ipython",
    "version": 3
   },
   "file_extension": ".py",
   "mimetype": "text/x-python",
   "name": "python",
   "nbconvert_exporter": "python",
   "pygments_lexer": "ipython3",
   "version": "3.10.9"
  },
  "orig_nbformat": 4,
  "vscode": {
   "interpreter": {
    "hash": "97cc609b13305c559618ec78a438abc56230b9381f827f22d070313b9a1f3777"
   }
  }
 },
 "nbformat": 4,
 "nbformat_minor": 2
}
