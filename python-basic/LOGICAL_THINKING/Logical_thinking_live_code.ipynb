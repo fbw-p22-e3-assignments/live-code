{
 "cells": [
  {
   "cell_type": "markdown",
   "id": "e4ad806b",
   "metadata": {},
   "source": [
    "# Logical Thinking\n",
    "\n",
    "## Recap\n",
    " \n",
    " |Term | Definiton|\n",
    " | :---: | :--------: |\n",
    " | Boolean| A data type that has 2 possible values: **True/False**\n",
    " | Predicate | An expression that evaluates/returns a Boolean\n",
    " | Logical Operator | A symbol that performs a logical operation: **and, or, not**\n",
    " | Logical expression | A set of predicates and operators that produce a single Boolean.\n",
    " | Evaluation | The result of executing an expression or a predicate."
   ]
  },
  {
   "cell_type": "code",
   "execution_count": 1,
   "id": "47e26716",
   "metadata": {},
   "outputs": [
    {
     "data": {
      "text/plain": [
       "True"
      ]
     },
     "execution_count": 1,
     "metadata": {},
     "output_type": "execute_result"
    }
   ],
   "source": [
    "True # boolean"
   ]
  },
  {
   "cell_type": "code",
   "execution_count": 2,
   "id": "58a97ce0",
   "metadata": {},
   "outputs": [
    {
     "data": {
      "text/plain": [
       "True"
      ]
     },
     "execution_count": 2,
     "metadata": {},
     "output_type": "execute_result"
    }
   ],
   "source": [
    "'x' in 'abcx'    # Membership operator   #This expression is also called predicate"
   ]
  },
  {
   "cell_type": "code",
   "execution_count": 3,
   "id": "b77cd633",
   "metadata": {},
   "outputs": [
    {
     "data": {
      "text/plain": [
       "True"
      ]
     },
     "execution_count": 3,
     "metadata": {},
     "output_type": "execute_result"
    }
   ],
   "source": [
    "'x' == 'x'       # Comparison Operator/ Relational Operator    # predicat"
   ]
  },
  {
   "cell_type": "code",
   "execution_count": 4,
   "id": "626ac8b1",
   "metadata": {},
   "outputs": [
    {
     "data": {
      "text/plain": [
       "True"
      ]
     },
     "execution_count": 4,
     "metadata": {},
     "output_type": "execute_result"
    }
   ],
   "source": [
    "'x' in 'abcx' and 'x' == 'x'   # This Logical expression evaluates to True"
   ]
  },
  {
   "cell_type": "markdown",
   "id": "cab67cd2",
   "metadata": {},
   "source": [
    "### Recap Truth Tables\n",
    "\n",
    "Truth Tables help us evaluate if a logical expression is doing what we think it does.\n",
    "\n",
    "### AND\n",
    "\n",
    "|AND | True | False\n",
    "| :--: |:--:| :--:\n",
    "|True  |True|False\n",
    "|False |False|False"
   ]
  },
  {
   "cell_type": "markdown",
   "id": "502d0892",
   "metadata": {},
   "source": [
    "## OR\n",
    "|OR | True | False\n",
    "| :--: |:--:| :--:\n",
    "|True  |True|True\n",
    "|False |True|False"
   ]
  },
  {
   "cell_type": "code",
   "execution_count": 5,
   "id": "2a3c3167",
   "metadata": {},
   "outputs": [
    {
     "data": {
      "text/plain": [
       "False"
      ]
     },
     "execution_count": 5,
     "metadata": {},
     "output_type": "execute_result"
    }
   ],
   "source": [
    "not 'x' == 'x'"
   ]
  },
  {
   "cell_type": "markdown",
   "id": "f8630f6e",
   "metadata": {},
   "source": [
    "## NOT \n",
    "\n",
    "|A     | Expression \n",
    "| :--: |:--:\n",
    "|True  |False\n",
    "|False |True"
   ]
  },
  {
   "cell_type": "markdown",
   "id": "69b62455",
   "metadata": {},
   "source": [
    "XOR: !=\n",
    "\n",
    "*Exclusive or* or exclusive disjunction is a logical operation that is true if and only if its arguments differ. \n",
    "\n",
    "|A     |B| Expression \n",
    "| :--: |:--:|:--:\n",
    "|True  |True | False\n",
    "|True  |False | True\n",
    "|False |True | True\n",
    "|False |False | False"
   ]
  },
  {
   "cell_type": "code",
   "execution_count": 6,
   "id": "1fd6b52c",
   "metadata": {},
   "outputs": [
    {
     "data": {
      "text/plain": [
       "False"
      ]
     },
     "execution_count": 6,
     "metadata": {},
     "output_type": "execute_result"
    }
   ],
   "source": [
    "a= True\n",
    "b = True\n",
    "\n",
    "a != b"
   ]
  },
  {
   "cell_type": "markdown",
   "id": "183804ac",
   "metadata": {},
   "source": [
    "## NAND: not(A and B)\n",
    "The negation of the conjunction operation, expressed in ordinary language as \"not both\". \n",
    "\n",
    "|A     |B| Expression \n",
    "| :--: |:--:|:--:\n",
    "|True  |True | False\n",
    "|True  |False | True\n",
    "|False |True | True\n",
    "|False |False | True\n",
    "\n"
   ]
  },
  {
   "cell_type": "code",
   "execution_count": 7,
   "id": "8590f4ea",
   "metadata": {},
   "outputs": [
    {
     "data": {
      "text/plain": [
       "False"
      ]
     },
     "execution_count": 7,
     "metadata": {},
     "output_type": "execute_result"
    }
   ],
   "source": [
    "a= True\n",
    "b = True\n",
    "\n",
    "not (a and b)"
   ]
  },
  {
   "cell_type": "markdown",
   "id": "73a0e4ec",
   "metadata": {},
   "source": [
    "# NOR: not(A or B)\n",
    "\n",
    "\n",
    "The logical nor or joint denial is a operator which produces a result that is the negation of logical or.\n",
    "\n",
    "|A     |B| Expression \n",
    "| :--: |:--:|:--:\n",
    "|True  |True | False\n",
    "|True  |False | False\n",
    "|False |True | False\n",
    "|False |False | True"
   ]
  },
  {
   "cell_type": "markdown",
   "id": "25fe11d2",
   "metadata": {},
   "source": [
    "# XNOR A == B\n",
    "\n",
    "|A     |B| Expression \n",
    "| :--: |:--:|:--:\n",
    "|True  |True | True\n",
    "|True  |False | False\n",
    "|False |True | False\n",
    "|False |False | True"
   ]
  },
  {
   "cell_type": "markdown",
   "id": "29ca799d",
   "metadata": {},
   "source": [
    "## Truthy and Falsy Values\n",
    "\n",
    "\n",
    "|| Truthy | Falsy|\n",
    "|:--:| :---: | :---:  |\n",
    "| True | x\n",
    "| False | | x\n",
    "| [] | | x\n",
    "| '' | | x\n",
    "| {} | | x\n",
    "| 'Hello'| x\n",
    "| 1 | x\n",
    "| None | | x\n",
    "|0 | | x"
   ]
  },
  {
   "cell_type": "code",
   "execution_count": 8,
   "id": "fe66240e",
   "metadata": {},
   "outputs": [
    {
     "data": {
      "text/plain": [
       "False"
      ]
     },
     "execution_count": 8,
     "metadata": {},
     "output_type": "execute_result"
    }
   ],
   "source": [
    "my_string = ''\n",
    "\n",
    "if my_string:\n",
    "    print(my_string)"
   ]
  },
  {
   "cell_type": "code",
   "execution_count": 15,
   "id": "293d30f9",
   "metadata": {},
   "outputs": [
    {
     "data": {
      "text/plain": [
       "False"
      ]
     },
     "execution_count": 15,
     "metadata": {},
     "output_type": "execute_result"
    }
   ],
   "source": [
    "\n",
    "\n",
    "not not 0 #bool(0)"
   ]
  },
  {
   "cell_type": "markdown",
   "id": "f7273e35",
   "metadata": {},
   "source": [
    "## Short Circuiting\n",
    "### Logical AND\n",
    "\n",
    "- if both operands are truthy, the operator returns a truthy value. Otherwise the operator returns a falsy value.\n",
    "- This operator starts by evaluating its 1st operand.\n",
    "- if the value of the 1st operand is falsy, the value of the entire logical expression must be falsy: *and* simply returns the value of the 1st operand and does not even evaluate the expression of the 2nd operand\n",
    "- if the value of the 1st operand is truthy, then the **overall** value of the expression depends on the value of the second operand\n",
    "- So when the value of the 1st operand is truthy, the *and* operator evaluates and returns the value of the 2nd operand\n"
   ]
  },
  {
   "cell_type": "code",
   "execution_count": 18,
   "id": "b4a266cc",
   "metadata": {},
   "outputs": [
    {
     "data": {
      "text/plain": [
       "'second truthy'"
      ]
     },
     "execution_count": 18,
     "metadata": {},
     "output_type": "execute_result"
    }
   ],
   "source": [
    "truthy1 = 'first truthy'\n",
    "truthy2 = 'second truthy'\n",
    "falsy1 = 0\n",
    "falsy2 = ''\n",
    "\n",
    "truthy1 and truthy2"
   ]
  },
  {
   "cell_type": "code",
   "execution_count": 20,
   "id": "9906181a",
   "metadata": {},
   "outputs": [
    {
     "data": {
      "text/plain": [
       "0"
      ]
     },
     "execution_count": 20,
     "metadata": {},
     "output_type": "execute_result"
    }
   ],
   "source": [
    "falsy1 and falsy2"
   ]
  },
  {
   "cell_type": "code",
   "execution_count": 30,
   "id": "d9c0481d",
   "metadata": {},
   "outputs": [
    {
     "data": {
      "text/plain": [
       "False"
      ]
     },
     "execution_count": 30,
     "metadata": {},
     "output_type": "execute_result"
    }
   ],
   "source": [
    "x = 0            # edge case if x is zero; with short circuiting we can avoid errors\n",
    "\n",
    "y = x != 0 and 1/x != 1    \n",
    "\n",
    "y\n"
   ]
  },
  {
   "cell_type": "code",
   "execution_count": 41,
   "id": "e5d6df92",
   "metadata": {},
   "outputs": [
    {
     "data": {
      "text/plain": [
       "'Bla'"
      ]
     },
     "execution_count": 41,
     "metadata": {},
     "output_type": "execute_result"
    }
   ],
   "source": [
    "x = True\n",
    "\n",
    "y = (x and 'Bla')\n",
    "\n",
    "y"
   ]
  },
  {
   "cell_type": "code",
   "execution_count": null,
   "id": "75b158e2",
   "metadata": {},
   "outputs": [],
   "source": [
    "def AND(op1, op2):\n",
    "    if op1:\n",
    "        return op1\n",
    "    else:\n",
    "        return op2"
   ]
  },
  {
   "cell_type": "markdown",
   "id": "51bb45f4",
   "metadata": {},
   "source": [
    "### Logical Or\n",
    "\n",
    "- If one or both operands is truthy, it returns a truthy value.\n",
    "- If both operands are falsy, it returns a falsy value.\n",
    "- This operator starts by evaluating its first operand.\n",
    "- If the value of the first operand is truthy, it *short-circuits* and returns that truthy value without ever evaluating the 2nd operand expression\n",
    "- If the value of the first operand is falsy, then the *or*-operator evaluates its 2nd operand and returns the value of the second expression\n"
   ]
  },
  {
   "cell_type": "code",
   "execution_count": 45,
   "id": "53afa390",
   "metadata": {},
   "outputs": [
    {
     "data": {
      "text/plain": [
       "'8000'"
      ]
     },
     "execution_count": 45,
     "metadata": {},
     "output_type": "execute_result"
    }
   ],
   "source": [
    "x = '8000'\n",
    "\n",
    "y = (x or 3000)\n",
    "\n",
    "y"
   ]
  },
  {
   "cell_type": "code",
   "execution_count": 46,
   "id": "2a688733",
   "metadata": {},
   "outputs": [
    {
     "data": {
      "text/plain": [
       "'first truthy'"
      ]
     },
     "execution_count": 46,
     "metadata": {},
     "output_type": "execute_result"
    }
   ],
   "source": [
    "truthy1 or truthy2"
   ]
  },
  {
   "cell_type": "code",
   "execution_count": 47,
   "id": "8132f788",
   "metadata": {},
   "outputs": [
    {
     "data": {
      "text/plain": [
       "'first truthy'"
      ]
     },
     "execution_count": 47,
     "metadata": {},
     "output_type": "execute_result"
    }
   ],
   "source": [
    "truthy1 or falsy2"
   ]
  },
  {
   "cell_type": "code",
   "execution_count": 48,
   "id": "d979a797",
   "metadata": {},
   "outputs": [
    {
     "data": {
      "text/plain": [
       "'second truthy'"
      ]
     },
     "execution_count": 48,
     "metadata": {},
     "output_type": "execute_result"
    }
   ],
   "source": [
    "falsy1 or truthy2"
   ]
  },
  {
   "cell_type": "code",
   "execution_count": 50,
   "id": "89c311d3",
   "metadata": {},
   "outputs": [
    {
     "data": {
      "text/plain": [
       "'first truthy'"
      ]
     },
     "execution_count": 50,
     "metadata": {},
     "output_type": "execute_result"
    }
   ],
   "source": [
    "(falsy1 or falsy2) or truthy1"
   ]
  },
  {
   "cell_type": "code",
   "execution_count": 52,
   "id": "17995213",
   "metadata": {},
   "outputs": [
    {
     "data": {
      "text/plain": [
       "''"
      ]
     },
     "execution_count": 52,
     "metadata": {},
     "output_type": "execute_result"
    }
   ],
   "source": [
    "(falsy1 or falsy2) and truthy1"
   ]
  },
  {
   "cell_type": "code",
   "execution_count": 55,
   "id": "d9ea6bdb",
   "metadata": {},
   "outputs": [
    {
     "data": {
      "text/plain": [
       "'first truthy'"
      ]
     },
     "execution_count": 55,
     "metadata": {},
     "output_type": "execute_result"
    }
   ],
   "source": [
    "(truthy1 and falsy2) or truthy1"
   ]
  },
  {
   "cell_type": "markdown",
   "id": "9aee47a1",
   "metadata": {},
   "source": [
    "Logical NOT\n",
    "\n",
    "- The *not* operator is a unary operator; it is placed before a single operand.\n",
    "- unlike *and* and *or* operators, the *not* operator converts its operands to boolean values "
   ]
  },
  {
   "cell_type": "code",
   "execution_count": 56,
   "id": "56efb342",
   "metadata": {},
   "outputs": [
    {
     "data": {
      "text/plain": [
       "False"
      ]
     },
     "execution_count": 56,
     "metadata": {},
     "output_type": "execute_result"
    }
   ],
   "source": [
    "not not ''"
   ]
  },
  {
   "cell_type": "code",
   "execution_count": 57,
   "id": "8c1189df",
   "metadata": {},
   "outputs": [
    {
     "data": {
      "text/plain": [
       "False"
      ]
     },
     "execution_count": 57,
     "metadata": {},
     "output_type": "execute_result"
    }
   ],
   "source": [
    "bool('')"
   ]
  },
  {
   "cell_type": "markdown",
   "id": "785086d4",
   "metadata": {},
   "source": [
    "You can apply the *not* operator to achieve the same result that can be achieved with the bool function."
   ]
  },
  {
   "cell_type": "markdown",
   "id": "1e7e41bd",
   "metadata": {},
   "source": [
    "# Exercise\n",
    "\n",
    "Look at two laws of Boolean algebra (DeMorgan's Laws):\n",
    "\n",
    "$ \\neg (P\\lor Q)\\iff (\\neg P)\\land (\\neg Q) $\n",
    "\n",
    "\n",
    "$ \\neg (P\\land Q)\\iff (\\neg P)\\lor (\\neg Q) $\n",
    "\n",
    "\n",
    "- $ \\neg $ is the negation logic operator (NOT)\n",
    "- $ \\land $ is the conjunction logic operator (AND),\n",
    "- $ \\lor $ is the disjunction logic operator (OR),\n",
    "\n",
    "1. Proof the Demorgan's Laws with Truth Tables\n",
    "2. For each DeMorgan's Law, write a function that checks the validity of these laws."
   ]
  }
 ],
 "metadata": {
  "kernelspec": {
   "display_name": "Python 3 (ipykernel)",
   "language": "python",
   "name": "python3"
  },
  "language_info": {
   "codemirror_mode": {
    "name": "ipython",
    "version": 3
   },
   "file_extension": ".py",
   "mimetype": "text/x-python",
   "name": "python",
   "nbconvert_exporter": "python",
   "pygments_lexer": "ipython3",
   "version": "3.8.10"
  }
 },
 "nbformat": 4,
 "nbformat_minor": 5
}
