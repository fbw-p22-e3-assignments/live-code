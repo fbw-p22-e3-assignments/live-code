{
 "cells": [
  {
   "cell_type": "markdown",
   "id": "5713d693",
   "metadata": {},
   "source": [
    "# Datetime"
   ]
  },
  {
   "cell_type": "markdown",
   "id": "bedc3ded",
   "metadata": {},
   "source": [
    "### The time Module"
   ]
  },
  {
   "cell_type": "markdown",
   "id": "3a014e2d",
   "metadata": {},
   "source": [
    "- *time* module is built-in\n",
    "- *time.time()* and the time.sleep() are the most useful functions"
   ]
  },
  {
   "cell_type": "markdown",
   "id": "e2182cd2",
   "metadata": {},
   "source": [
    "### The time.time() Function"
   ]
  },
  {
   "cell_type": "markdown",
   "id": "732ef21b",
   "metadata": {},
   "source": [
    "- the *Unix epoch* is a time reference commonly used in programming\n",
    "- this *Unix* timestamp started at 12AM on January 1, 1970, Coordinated Universal Time (UTC)\n",
    "- *time.time()* returns the seconds since that moment\n",
    "- this moment is called the epoch *timestamp*"
   ]
  },
  {
   "cell_type": "code",
   "execution_count": 1,
   "id": "935d4ec7",
   "metadata": {},
   "outputs": [
    {
     "data": {
      "text/plain": [
       "1668672873.3232152"
      ]
     },
     "execution_count": 1,
     "metadata": {},
     "output_type": "execute_result"
    }
   ],
   "source": [
    "import time\n",
    "time.time()"
   ]
  },
  {
   "cell_type": "markdown",
   "id": "c396f5a8",
   "metadata": {},
   "source": [
    "The return value is how many **seconds** have passed between the *Unix epoch* and the moment the *time.time()* was called"
   ]
  },
  {
   "cell_type": "markdown",
   "id": "b100cebe",
   "metadata": {},
   "source": [
    "- measure how long a piece of code takes to run:"
   ]
  },
  {
   "cell_type": "code",
   "execution_count": 4,
   "id": "43be2303",
   "metadata": {},
   "outputs": [
    {
     "name": "stdout",
     "output_type": "stream",
     "text": [
      "To calculate the result the function takes 2.541248321533203s\n"
     ]
    }
   ],
   "source": [
    "import time\n",
    "def calcProd():\n",
    "# Calculate the product of the first 100000 numbers.\n",
    "    product = 1\n",
    "    for i in range(1, 100000):\n",
    "        product = product * i\n",
    "    return product\n",
    "startTime = time.time() # measure the seconds since UNIX Epoch\n",
    "prod = calcProd()\n",
    "endTime = time.time()\n",
    "print(f\"To calculate the result the function takes {endTime - startTime}s\")"
   ]
  },
  {
   "cell_type": "markdown",
   "id": "bea7459c",
   "metadata": {},
   "source": [
    "### Make it human-readable"
   ]
  },
  {
   "cell_type": "markdown",
   "id": "a6dc576b",
   "metadata": {},
   "source": [
    "- time.ctime() function returns a string description of the current time\n",
    "- optionally pass the number of seconds since the *Unix epoch*"
   ]
  },
  {
   "cell_type": "code",
   "execution_count": 8,
   "id": "e579254c",
   "metadata": {},
   "outputs": [
    {
     "data": {
      "text/plain": [
       "'Thu Nov 17 09:33:56 2022'"
      ]
     },
     "execution_count": 8,
     "metadata": {},
     "output_type": "execute_result"
    }
   ],
   "source": [
    "time.ctime()"
   ]
  },
  {
   "cell_type": "code",
   "execution_count": 9,
   "id": "bcf83ed9",
   "metadata": {},
   "outputs": [
    {
     "data": {
      "text/plain": [
       "'Thu Nov 17 09:33:57 2022'"
      ]
     },
     "execution_count": 9,
     "metadata": {},
     "output_type": "execute_result"
    }
   ],
   "source": [
    "now = time.time()\n",
    "time.ctime(now)"
   ]
  },
  {
   "cell_type": "code",
   "execution_count": 6,
   "id": "c79e5dee",
   "metadata": {},
   "outputs": [
    {
     "data": {
      "text/plain": [
       "'Thu Jan  1 01:00:00 1970'"
      ]
     },
     "execution_count": 6,
     "metadata": {},
     "output_type": "execute_result"
    }
   ],
   "source": [
    "time.ctime(0)"
   ]
  },
  {
   "cell_type": "markdown",
   "id": "1962bf68",
   "metadata": {},
   "source": [
    "### The time.sleep() Function"
   ]
  },
  {
   "cell_type": "markdown",
   "id": "b461d077",
   "metadata": {},
   "source": [
    "- useful to pause a program:"
   ]
  },
  {
   "cell_type": "code",
   "execution_count": 10,
   "id": "9be74f6c",
   "metadata": {},
   "outputs": [
    {
     "name": "stdout",
     "output_type": "stream",
     "text": [
      "Tick\n",
      "Tock\n",
      "Tick\n",
      "Tock\n",
      "Tick\n",
      "Tock\n"
     ]
    }
   ],
   "source": [
    "for i in range(3):\n",
    "    print('Tick')\n",
    "    time.sleep(1)\n",
    "    print('Tock')\n",
    "    time.sleep(1)"
   ]
  },
  {
   "cell_type": "markdown",
   "id": "63b433ee",
   "metadata": {},
   "source": [
    "## The datetime Module"
   ]
  },
  {
   "cell_type": "markdown",
   "id": "9e68e91a",
   "metadata": {},
   "source": [
    "With the datetime we can conviently work with dates:\n",
    "- doing arithmetics\n",
    "- working with different timezone\n",
    "\n",
    "- datetime has it's data type: datetime"
   ]
  },
  {
   "cell_type": "code",
   "execution_count": 12,
   "id": "265d96ae",
   "metadata": {},
   "outputs": [
    {
     "data": {
      "text/plain": [
       "datetime.datetime(2022, 11, 17, 9, 39, 59, 250707)"
      ]
     },
     "execution_count": 12,
     "metadata": {},
     "output_type": "execute_result"
    }
   ],
   "source": [
    "import datetime\n",
    "datetime.datetime.now()"
   ]
  },
  {
   "cell_type": "code",
   "execution_count": 13,
   "id": "36231521",
   "metadata": {},
   "outputs": [
    {
     "data": {
      "text/plain": [
       "datetime.datetime"
      ]
     },
     "execution_count": 13,
     "metadata": {},
     "output_type": "execute_result"
    }
   ],
   "source": [
    "type(datetime.datetime.now())"
   ]
  },
  {
   "cell_type": "code",
   "execution_count": 14,
   "id": "cf960cf0",
   "metadata": {},
   "outputs": [],
   "source": [
    "dt = datetime.datetime(2019, 10, 21, 16, 29, 0)"
   ]
  },
  {
   "cell_type": "markdown",
   "id": "d30c8c75",
   "metadata": {},
   "source": [
    "we can get all date entites like:\n",
    "- year\n",
    "- month\n",
    "- day\n",
    "- hour\n",
    "- minute\n",
    "- second"
   ]
  },
  {
   "cell_type": "code",
   "execution_count": 17,
   "id": "cb3f84a6",
   "metadata": {},
   "outputs": [
    {
     "data": {
      "text/plain": [
       "(2019, 10, 21, 16, 29, 0, 0)"
      ]
     },
     "execution_count": 17,
     "metadata": {},
     "output_type": "execute_result"
    }
   ],
   "source": [
    "dt.year, dt.month, dt.day, dt.hour, dt.minute, dt.second, dt.microsecond"
   ]
  },
  {
   "cell_type": "code",
   "execution_count": 18,
   "id": "21928693",
   "metadata": {},
   "outputs": [
    {
     "data": {
      "text/plain": [
       "['__add__',\n",
       " '__class__',\n",
       " '__delattr__',\n",
       " '__dir__',\n",
       " '__doc__',\n",
       " '__eq__',\n",
       " '__format__',\n",
       " '__ge__',\n",
       " '__getattribute__',\n",
       " '__gt__',\n",
       " '__hash__',\n",
       " '__init__',\n",
       " '__init_subclass__',\n",
       " '__le__',\n",
       " '__lt__',\n",
       " '__ne__',\n",
       " '__new__',\n",
       " '__radd__',\n",
       " '__reduce__',\n",
       " '__reduce_ex__',\n",
       " '__repr__',\n",
       " '__rsub__',\n",
       " '__setattr__',\n",
       " '__sizeof__',\n",
       " '__str__',\n",
       " '__sub__',\n",
       " '__subclasshook__',\n",
       " 'astimezone',\n",
       " 'combine',\n",
       " 'ctime',\n",
       " 'date',\n",
       " 'day',\n",
       " 'dst',\n",
       " 'fold',\n",
       " 'fromisocalendar',\n",
       " 'fromisoformat',\n",
       " 'fromordinal',\n",
       " 'fromtimestamp',\n",
       " 'hour',\n",
       " 'isocalendar',\n",
       " 'isoformat',\n",
       " 'isoweekday',\n",
       " 'max',\n",
       " 'microsecond',\n",
       " 'min',\n",
       " 'minute',\n",
       " 'month',\n",
       " 'now',\n",
       " 'replace',\n",
       " 'resolution',\n",
       " 'second',\n",
       " 'strftime',\n",
       " 'strptime',\n",
       " 'time',\n",
       " 'timestamp',\n",
       " 'timetuple',\n",
       " 'timetz',\n",
       " 'today',\n",
       " 'toordinal',\n",
       " 'tzinfo',\n",
       " 'tzname',\n",
       " 'utcfromtimestamp',\n",
       " 'utcnow',\n",
       " 'utcoffset',\n",
       " 'utctimetuple',\n",
       " 'weekday',\n",
       " 'year']"
      ]
     },
     "execution_count": 18,
     "metadata": {},
     "output_type": "execute_result"
    }
   ],
   "source": [
    "dir(dt)"
   ]
  },
  {
   "cell_type": "code",
   "execution_count": 19,
   "id": "968ef8d4",
   "metadata": {},
   "outputs": [
    {
     "data": {
      "text/plain": [
       "<function datetime.weekday>"
      ]
     },
     "execution_count": 19,
     "metadata": {},
     "output_type": "execute_result"
    }
   ],
   "source": [
    "dt.weekday"
   ]
  },
  {
   "cell_type": "code",
   "execution_count": 20,
   "id": "4f3d35e9",
   "metadata": {},
   "outputs": [
    {
     "data": {
      "text/plain": [
       "0"
      ]
     },
     "execution_count": 20,
     "metadata": {},
     "output_type": "execute_result"
    }
   ],
   "source": [
    "dt.weekday()"
   ]
  },
  {
   "cell_type": "markdown",
   "id": "02f85661",
   "metadata": {},
   "source": [
    "### Convert UNIX Epoch\n",
    "- convert the seconds since the unix epoch timestamp to human-readable format"
   ]
  },
  {
   "cell_type": "code",
   "execution_count": 22,
   "id": "e3a8020c",
   "metadata": {},
   "outputs": [
    {
     "data": {
      "text/plain": [
       "datetime.datetime(1970, 1, 12, 14, 46, 40)"
      ]
     },
     "execution_count": 22,
     "metadata": {},
     "output_type": "execute_result"
    }
   ],
   "source": [
    "datetime.datetime.fromtimestamp(1000000)"
   ]
  },
  {
   "cell_type": "code",
   "execution_count": 24,
   "id": "d20a005e",
   "metadata": {},
   "outputs": [],
   "source": [
    "#dir(datetime.time)"
   ]
  },
  {
   "cell_type": "code",
   "execution_count": 28,
   "id": "94655ac5",
   "metadata": {},
   "outputs": [
    {
     "data": {
      "text/plain": [
       "1668676096.1893144"
      ]
     },
     "execution_count": 28,
     "metadata": {},
     "output_type": "execute_result"
    }
   ],
   "source": [
    "seconds = time.time()\n",
    "seconds"
   ]
  },
  {
   "cell_type": "code",
   "execution_count": 29,
   "id": "6d174b01",
   "metadata": {},
   "outputs": [
    {
     "data": {
      "text/plain": [
       "datetime.datetime(2022, 11, 17, 10, 8, 16, 189314)"
      ]
     },
     "execution_count": 29,
     "metadata": {},
     "output_type": "execute_result"
    }
   ],
   "source": [
    "datetime.datetime.fromtimestamp(seconds)"
   ]
  },
  {
   "cell_type": "markdown",
   "id": "5d5f1ac1",
   "metadata": {},
   "source": [
    "### Arithmetics with Datetime"
   ]
  },
  {
   "cell_type": "code",
   "execution_count": 42,
   "id": "330b7d94",
   "metadata": {},
   "outputs": [],
   "source": [
    "helloween2019 = datetime.datetime(2019, 10, 31, 0, 0, 0)\n",
    "newyears2020 = datetime.datetime(2020, 1, 1, 0, 0, 0)\n",
    "oct31_2019 = datetime.datetime(2019, 10, 31, 0, 0, 0)"
   ]
  },
  {
   "cell_type": "code",
   "execution_count": 45,
   "id": "09786fa2",
   "metadata": {},
   "outputs": [
    {
     "data": {
      "text/plain": [
       "datetime.timedelta(seconds=18000)"
      ]
     },
     "execution_count": 45,
     "metadata": {},
     "output_type": "execute_result"
    }
   ],
   "source": [
    "helloween2019 - oct31_2019"
   ]
  },
  {
   "cell_type": "code",
   "execution_count": 35,
   "id": "73f1b946",
   "metadata": {},
   "outputs": [
    {
     "data": {
      "text/plain": [
       "True"
      ]
     },
     "execution_count": 35,
     "metadata": {},
     "output_type": "execute_result"
    }
   ],
   "source": [
    "(helloween2019 - oct31_2019).days == 0"
   ]
  },
  {
   "cell_type": "code",
   "execution_count": 36,
   "id": "230c4ff0",
   "metadata": {},
   "outputs": [
    {
     "data": {
      "text/plain": [
       "True"
      ]
     },
     "execution_count": 36,
     "metadata": {},
     "output_type": "execute_result"
    }
   ],
   "source": [
    "helloween2019 == oct31_2019"
   ]
  },
  {
   "cell_type": "code",
   "execution_count": 37,
   "id": "c2462928",
   "metadata": {},
   "outputs": [
    {
     "data": {
      "text/plain": [
       "False"
      ]
     },
     "execution_count": 37,
     "metadata": {},
     "output_type": "execute_result"
    }
   ],
   "source": [
    "helloween2019 > newyears2020"
   ]
  },
  {
   "cell_type": "code",
   "execution_count": 38,
   "id": "2a894f1c",
   "metadata": {},
   "outputs": [
    {
     "data": {
      "text/plain": [
       "True"
      ]
     },
     "execution_count": 38,
     "metadata": {},
     "output_type": "execute_result"
    }
   ],
   "source": [
    "helloween2019 < newyears2020"
   ]
  },
  {
   "cell_type": "code",
   "execution_count": 39,
   "id": "94feb3f4",
   "metadata": {},
   "outputs": [
    {
     "data": {
      "text/plain": [
       "True"
      ]
     },
     "execution_count": 39,
     "metadata": {},
     "output_type": "execute_result"
    }
   ],
   "source": [
    "newyears2020 != oct31_2019"
   ]
  },
  {
   "cell_type": "markdown",
   "id": "f7891850",
   "metadata": {},
   "source": [
    "### The timedelta Data Type "
   ]
  },
  {
   "cell_type": "markdown",
   "id": "3266a191",
   "metadata": {},
   "source": [
    "- represents a duration of time rather than a moment in time"
   ]
  },
  {
   "cell_type": "code",
   "execution_count": 46,
   "id": "080a0d92",
   "metadata": {},
   "outputs": [
    {
     "data": {
      "text/plain": [
       "datetime.timedelta(days=11, seconds=36548)"
      ]
     },
     "execution_count": 46,
     "metadata": {},
     "output_type": "execute_result"
    }
   ],
   "source": [
    "delta = datetime.timedelta(days=11, hours=10, minutes=9, seconds=8)\n",
    "delta"
   ]
  },
  {
   "cell_type": "code",
   "execution_count": 47,
   "id": "e06fd3c7",
   "metadata": {},
   "outputs": [
    {
     "data": {
      "text/plain": [
       "(11, 36548, 0)"
      ]
     },
     "execution_count": 47,
     "metadata": {},
     "output_type": "execute_result"
    }
   ],
   "source": [
    "delta.days, delta.seconds, delta.microseconds"
   ]
  },
  {
   "cell_type": "code",
   "execution_count": 48,
   "id": "39e52497",
   "metadata": {},
   "outputs": [
    {
     "data": {
      "text/plain": [
       "datetime.timedelta"
      ]
     },
     "execution_count": 48,
     "metadata": {},
     "output_type": "execute_result"
    }
   ],
   "source": [
    "type(delta)"
   ]
  },
  {
   "cell_type": "code",
   "execution_count": 50,
   "id": "01a7f548",
   "metadata": {},
   "outputs": [],
   "source": [
    "#dir(delta)"
   ]
  },
  {
   "cell_type": "code",
   "execution_count": 51,
   "id": "5e267d99",
   "metadata": {},
   "outputs": [
    {
     "data": {
      "text/plain": [
       "datetime.timedelta(seconds=36548)"
      ]
     },
     "execution_count": 51,
     "metadata": {},
     "output_type": "execute_result"
    }
   ],
   "source": [
    "datetime.timedelta(hours=10, minutes=9, seconds=8)"
   ]
  },
  {
   "cell_type": "code",
   "execution_count": 52,
   "id": "e6a6289e",
   "metadata": {},
   "outputs": [
    {
     "data": {
      "text/plain": [
       "datetime.timedelta(days=11, seconds=36548)"
      ]
     },
     "execution_count": 52,
     "metadata": {},
     "output_type": "execute_result"
    }
   ],
   "source": [
    "delta"
   ]
  },
  {
   "cell_type": "code",
   "execution_count": 55,
   "id": "8139cff2",
   "metadata": {},
   "outputs": [
    {
     "data": {
      "text/plain": [
       "36548"
      ]
     },
     "execution_count": 55,
     "metadata": {},
     "output_type": "execute_result"
    }
   ],
   "source": [
    "delta.seconds"
   ]
  },
  {
   "cell_type": "code",
   "execution_count": 58,
   "id": "3001e852",
   "metadata": {},
   "outputs": [
    {
     "data": {
      "text/plain": [
       "986948.0"
      ]
     },
     "execution_count": 58,
     "metadata": {},
     "output_type": "execute_result"
    }
   ],
   "source": [
    "delta.total_seconds()"
   ]
  },
  {
   "cell_type": "code",
   "execution_count": 56,
   "id": "ad6f26d1",
   "metadata": {},
   "outputs": [],
   "source": [
    "#dir(delta)"
   ]
  },
  {
   "cell_type": "code",
   "execution_count": 59,
   "id": "59c96ef4",
   "metadata": {},
   "outputs": [
    {
     "data": {
      "text/plain": [
       "'11 days, 10:09:08'"
      ]
     },
     "execution_count": 59,
     "metadata": {},
     "output_type": "execute_result"
    }
   ],
   "source": [
    "str(delta)"
   ]
  },
  {
   "cell_type": "markdown",
   "id": "7f6a6102",
   "metadata": {},
   "source": [
    "### Arithmetics with timedelta"
   ]
  },
  {
   "cell_type": "code",
   "execution_count": 60,
   "id": "40073265",
   "metadata": {},
   "outputs": [
    {
     "data": {
      "text/plain": [
       "datetime.datetime(2022, 11, 17, 10, 59, 33, 32983)"
      ]
     },
     "execution_count": 60,
     "metadata": {},
     "output_type": "execute_result"
    }
   ],
   "source": [
    "dt = datetime.datetime.now()\n",
    "thousandDays = datetime.timedelta(days=1000)\n",
    "dt"
   ]
  },
  {
   "cell_type": "code",
   "execution_count": 61,
   "id": "4524fe02",
   "metadata": {},
   "outputs": [
    {
     "data": {
      "text/plain": [
       "datetime.datetime(2025, 8, 13, 10, 59, 33, 32983)"
      ]
     },
     "execution_count": 61,
     "metadata": {},
     "output_type": "execute_result"
    }
   ],
   "source": [
    "dt + thousandDays"
   ]
  },
  {
   "cell_type": "code",
   "execution_count": 62,
   "id": "a9225af6",
   "metadata": {},
   "outputs": [
    {
     "data": {
      "text/plain": [
       "datetime.datetime(2020, 2, 21, 10, 59, 33, 32983)"
      ]
     },
     "execution_count": 62,
     "metadata": {},
     "output_type": "execute_result"
    }
   ],
   "source": [
    "dt - thousandDays"
   ]
  },
  {
   "cell_type": "code",
   "execution_count": 65,
   "id": "c96c2eff",
   "metadata": {},
   "outputs": [],
   "source": [
    "minusthousandDays = datetime.timedelta(days=-1000)"
   ]
  },
  {
   "cell_type": "code",
   "execution_count": 66,
   "id": "ba4af809",
   "metadata": {},
   "outputs": [
    {
     "data": {
      "text/plain": [
       "datetime.datetime(2020, 2, 21, 10, 59, 33, 32983)"
      ]
     },
     "execution_count": 66,
     "metadata": {},
     "output_type": "execute_result"
    }
   ],
   "source": [
    "dt + minusthousandDays"
   ]
  },
  {
   "cell_type": "code",
   "execution_count": 70,
   "id": "7174a090",
   "metadata": {},
   "outputs": [
    {
     "data": {
      "text/plain": [
       "datetime.datetime(2019, 10, 21, 16, 29, 1)"
      ]
     },
     "execution_count": 70,
     "metadata": {},
     "output_type": "execute_result"
    }
   ],
   "source": [
    "oct21st = datetime.datetime(2019, 10, 21, 16, 29, 1)\n",
    "oct21st"
   ]
  },
  {
   "cell_type": "markdown",
   "id": "8d37a0ed",
   "metadata": {},
   "source": [
    "### Converting datetime Objects into Strings"
   ]
  },
  {
   "cell_type": "markdown",
   "id": "95604763",
   "metadata": {},
   "source": [
    "- use *strftime()* to make datetime object human-readable"
   ]
  },
  {
   "cell_type": "markdown",
   "id": "972be365",
   "metadata": {},
   "source": [
    "strftime() directive | Meaning\n",
    "--- | ---\n",
    "%Y | Year\n",
    "%y | Year (last two digit)\n",
    "%m | Month\n",
    "%B | Month full name\n",
    "%b | Month name abbrevation\n",
    "%d | day of onth\n",
    "%j | day of year\n",
    "%w | day of week\n",
    "%A | weekday fullname\n",
    "%a | weekday name\n",
    "%H | hours (24h)\n",
    "%I | hours (12h)\n",
    "%M | Minute\n",
    "%S | Seconds\n",
    "%p | 'AM' or 'PM'"
   ]
  },
  {
   "cell_type": "code",
   "execution_count": 71,
   "id": "62a45bb2",
   "metadata": {},
   "outputs": [
    {
     "data": {
      "text/plain": [
       "'2019/10/21 16:29:01'"
      ]
     },
     "execution_count": 71,
     "metadata": {},
     "output_type": "execute_result"
    }
   ],
   "source": [
    "oct21st.strftime('%Y/%m/%d %H:%M:%S')"
   ]
  },
  {
   "cell_type": "code",
   "execution_count": 73,
   "id": "17e20060",
   "metadata": {},
   "outputs": [
    {
     "data": {
      "text/plain": [
       "'2019/October/21 16:29:01'"
      ]
     },
     "execution_count": 73,
     "metadata": {},
     "output_type": "execute_result"
    }
   ],
   "source": [
    "oct21st.strftime('%Y/%B/%d %H:%M:%S')"
   ]
  },
  {
   "cell_type": "code",
   "execution_count": 77,
   "id": "e7e28537",
   "metadata": {},
   "outputs": [
    {
     "data": {
      "text/plain": [
       "'19-Oct-21 16:29:01'"
      ]
     },
     "execution_count": 77,
     "metadata": {},
     "output_type": "execute_result"
    }
   ],
   "source": [
    "oct21st.strftime('%y-%b-%d %H:%M:%S')"
   ]
  },
  {
   "cell_type": "code",
   "execution_count": 80,
   "id": "7db705ef",
   "metadata": {},
   "outputs": [
    {
     "data": {
      "text/plain": [
       "'During 2019 I entered the bar at 04:29 PM.'"
      ]
     },
     "execution_count": 80,
     "metadata": {},
     "output_type": "execute_result"
    }
   ],
   "source": [
    "oct21st.strftime('During %Y I entered the bar at %I:%M %p.')"
   ]
  },
  {
   "cell_type": "code",
   "execution_count": null,
   "id": "f4e97cd1",
   "metadata": {},
   "outputs": [],
   "source": []
  },
  {
   "cell_type": "markdown",
   "id": "768e6455",
   "metadata": {},
   "source": [
    "### Converting Strings into datetime Objects"
   ]
  },
  {
   "cell_type": "markdown",
   "id": "29b3c26b",
   "metadata": {},
   "source": [
    "- the *strptime()* function is the inverse of the *strftime()* function"
   ]
  },
  {
   "cell_type": "code",
   "execution_count": 86,
   "id": "12c77f25",
   "metadata": {},
   "outputs": [],
   "source": [
    "datetime_string = \"Oct 21, 2019\"\n",
    "dt = datetime.datetime.strptime(datetime_string, '%b %d, %Y')"
   ]
  },
  {
   "cell_type": "code",
   "execution_count": 84,
   "id": "49ded718",
   "metadata": {},
   "outputs": [
    {
     "data": {
      "text/plain": [
       "'11 2022 17'"
      ]
     },
     "execution_count": 84,
     "metadata": {},
     "output_type": "execute_result"
    }
   ],
   "source": [
    "dt.strftime('%m %Y %d')"
   ]
  },
  {
   "cell_type": "markdown",
   "id": "5d826087",
   "metadata": {},
   "source": [
    "### dateutil"
   ]
  },
  {
   "cell_type": "markdown",
   "id": "5c0d643d",
   "metadata": {},
   "source": [
    "- install: python3 -m pip install python-dateutil\n",
    "- support timezones\n"
   ]
  },
  {
   "cell_type": "code",
   "execution_count": 87,
   "id": "01595d4c",
   "metadata": {},
   "outputs": [],
   "source": [
    "from dateutil import tz"
   ]
  },
  {
   "cell_type": "markdown",
   "id": "6a1d2a09",
   "metadata": {},
   "source": [
    "##### Convert between different timezones"
   ]
  },
  {
   "cell_type": "markdown",
   "id": "a012776e",
   "metadata": {},
   "source": [
    "look at the timezone default of the tz module:"
   ]
  },
  {
   "cell_type": "code",
   "execution_count": 88,
   "id": "6d46432d",
   "metadata": {},
   "outputs": [
    {
     "data": {
      "text/plain": [
       "tzfile('/etc/localtime')"
      ]
     },
     "execution_count": 88,
     "metadata": {},
     "output_type": "execute_result"
    }
   ],
   "source": [
    "tz.gettz()"
   ]
  },
  {
   "cell_type": "markdown",
   "id": "f94c46b6",
   "metadata": {},
   "source": [
    "- This function is also the preferred way to map IANA tz database keys to tzfile objects\n",
    "- Internet Assigned Number Authority (IANA)\n",
    "- Create an tz object with another timezone"
   ]
  },
  {
   "cell_type": "code",
   "execution_count": 96,
   "id": "76f75399",
   "metadata": {},
   "outputs": [
    {
     "data": {
      "text/plain": [
       "tzfile('/usr/share/zoneinfo/America/Los_Angeles')"
      ]
     },
     "execution_count": 96,
     "metadata": {},
     "output_type": "execute_result"
    }
   ],
   "source": [
    "usa = \"America/Los_Angeles\"\n",
    "usa_tz = tz.gettz(usa)\n",
    "usa_tz"
   ]
  },
  {
   "cell_type": "markdown",
   "id": "55a966bd",
   "metadata": {},
   "source": [
    "##### set the tz in datetime:"
   ]
  },
  {
   "cell_type": "code",
   "execution_count": 98,
   "id": "f840cea3",
   "metadata": {},
   "outputs": [
    {
     "data": {
      "text/plain": [
       "datetime.datetime(2021, 8, 1, 13, 35, tzinfo=tzfile('/usr/share/zoneinfo/America/Los_Angeles'))"
      ]
     },
     "execution_count": 98,
     "metadata": {},
     "output_type": "execute_result"
    }
   ],
   "source": [
    "meeting_LA = datetime.datetime(2021, 8, 1, 13, 35, tzinfo=usa_tz)\n",
    "meeting_LA"
   ]
  },
  {
   "cell_type": "markdown",
   "id": "b2192cfa",
   "metadata": {},
   "source": [
    "###### convert with *.astimezone()*:"
   ]
  },
  {
   "cell_type": "code",
   "execution_count": 100,
   "id": "33837270",
   "metadata": {},
   "outputs": [
    {
     "data": {
      "text/plain": [
       "datetime.datetime(2021, 8, 1, 22, 35, tzinfo=tzfile('/etc/localtime'))"
      ]
     },
     "execution_count": 100,
     "metadata": {},
     "output_type": "execute_result"
    }
   ],
   "source": [
    "meeting_LA.astimezone(tz.gettz())"
   ]
  },
  {
   "cell_type": "code",
   "execution_count": 101,
   "id": "ae3e33c3",
   "metadata": {},
   "outputs": [
    {
     "data": {
      "text/plain": [
       "datetime.datetime(2021, 8, 1, 22, 35, tzinfo=tzfile('/usr/share/zoneinfo/Europe/Berlin'))"
      ]
     },
     "execution_count": 101,
     "metadata": {},
     "output_type": "execute_result"
    }
   ],
   "source": [
    "meeting_LA.astimezone(tz.gettz('Europe/Berlin'))"
   ]
  },
  {
   "cell_type": "code",
   "execution_count": 103,
   "id": "87446160",
   "metadata": {},
   "outputs": [
    {
     "data": {
      "text/plain": [
       "'1970 Jan 01, 01 AM'"
      ]
     },
     "execution_count": 103,
     "metadata": {},
     "output_type": "execute_result"
    }
   ],
   "source": [
    "unix_epoch = datetime.datetime.fromtimestamp(0)\n",
    "unix_epoch.strftime('%Y %b %d, %I %p')"
   ]
  },
  {
   "cell_type": "code",
   "execution_count": 104,
   "id": "687c7b1d",
   "metadata": {},
   "outputs": [
    {
     "data": {
      "text/plain": [
       "'1970 Jan 01, 12 AM'"
      ]
     },
     "execution_count": 104,
     "metadata": {},
     "output_type": "execute_result"
    }
   ],
   "source": [
    "unix_epoch.astimezone(tz.gettz('UTC')).strftime('%Y %b %d, %I %p')"
   ]
  }
 ],
 "metadata": {
  "kernelspec": {
   "display_name": "Python 3 (ipykernel)",
   "language": "python",
   "name": "python3"
  },
  "language_info": {
   "codemirror_mode": {
    "name": "ipython",
    "version": 3
   },
   "file_extension": ".py",
   "mimetype": "text/x-python",
   "name": "python",
   "nbconvert_exporter": "python",
   "pygments_lexer": "ipython3",
   "version": "3.8.10"
  }
 },
 "nbformat": 4,
 "nbformat_minor": 5
}
