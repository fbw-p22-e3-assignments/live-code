{
 "cells": [
  {
   "attachments": {},
   "cell_type": "markdown",
   "metadata": {},
   "source": [
    "## Consistency\n",
    "\n",
    "- Consistency is the property of a transaction \n",
    "- that guarantees that the changes done will be following all the defined rules."
   ]
  },
  {
   "attachments": {},
   "cell_type": "markdown",
   "metadata": {},
   "source": [
    "### Database Transaction\n",
    "\n",
    "- a single change in database\n",
    "- a transaction can involve multiple operations\n",
    "- e.g. money transfer (**transaction**):\n",
    "1. subtraction from buyer\n",
    "2. addition to seller\n",
    "- e.g. item transfer\n",
    "\n",
    "- money and item transfer could be also one transfer\n",
    "\n",
    "What is a transaction/operation depends on the nature of the application."
   ]
  },
  {
   "attachments": {},
   "cell_type": "markdown",
   "metadata": {},
   "source": [
    "## ACID\n",
    "- The properties \n",
    "1. atomic \n",
    "2. consistent\n",
    "3. isolated\n",
    "4. durable \n",
    "are commonly known as the ACID properties transactions."
   ]
  },
  {
   "attachments": {},
   "cell_type": "markdown",
   "metadata": {},
   "source": [
    "### Atomicity:\n",
    "\n",
    "A database transaction must be done as a whole or not done at all."
   ]
  },
  {
   "attachments": {},
   "cell_type": "markdown",
   "metadata": {},
   "source": [
    "### Consistency\n",
    "- Data is in a consistent state when a transaction starts and when it ends.\n",
    "e.g.an application that transfers funds from one account to another:\n",
    "the consistency property ensures that\n",
    "\n",
    "the *total value of funds in both the accounts* is the same at the start and end of each transaction.\n"
   ]
  },
  {
   "attachments": {},
   "cell_type": "markdown",
   "metadata": {},
   "source": [
    "### Isolation\n",
    "\n",
    "- A database transaction must also be isolated.\n",
    "- A higher level of isolation has higher chances of one transaction blocking another.\n",
    "- A lower level of isolation has higher chances of producing concurrency undesired effects."
   ]
  },
  {
   "attachments": {},
   "cell_type": "markdown",
   "metadata": {},
   "source": [
    "### Durability\n",
    "- A database transaction must also be durable.\n",
    "- The changes should be persistent.\n",
    "- Once a change is done, it is written on the file system\n",
    "- only another change will remove that change."
   ]
  },
  {
   "attachments": {},
   "cell_type": "markdown",
   "metadata": {},
   "source": [
    "### ACID COMPLIANCE\n",
    "- postgres\n",
    "- mysql\n",
    "- sqlite\n",
    "\n",
    "All Relational DBMS are, or can be, ACID compliant.\n",
    "\n",
    "Some NoSQL DBMS can be ACID compliant:\n",
    "\n",
    "- MongoDB\n",
    "- CouchDB\n",
    "- Db2\n",
    "\n",
    "But ACID is a relational concept and most NoSQL use the BASE properties\n",
    "- BASE properties focus on availability rather than consistency\n"
   ]
  },
  {
   "attachments": {},
   "cell_type": "markdown",
   "metadata": {},
   "source": [
    "### BASE Transaction Properties\n",
    "\n",
    "Most NoSQL databases use transactions that are basically available, soft state and eventually consistent.\n",
    "\n",
    "- Basically Available\n",
    "1. The data is spread in different systems to increase availability. \n",
    "2. Having data easily available is more important than having a current version of the data.\n",
    "- Soft State\n",
    "1. The database does not ensure consistency\n",
    "2. it is the application developer who must ensure it \n",
    "- Eventually Consistent\n",
    "1. The database will eventually be consistent. \n",
    "2. when an update is made in a distributed database, that update will be reflected in all database nodes \n",
    "3. that results in the same response every time the data is queried"
   ]
  },
  {
   "attachments": {},
   "cell_type": "markdown",
   "metadata": {},
   "source": [
    "#### Eventually Consistent\n",
    "![](event_consistent.png)\n"
   ]
  },
  {
   "attachments": {},
   "cell_type": "markdown",
   "metadata": {},
   "source": [
    "ACID versus BASE\n",
    "\n",
    "- NoSQL databases provide so-called BASE guarantees\n",
    "- sacrifice a degree of consistency in order to increase availability\n",
    "- Rather than providing strong consistency, they provide eventual consistency\n",
    "- a datastore that provides BASE guarantees can occasionally fail to return the result of the latest WRITE\n",
    "\n",
    "In a typical example, an eventual consistency NoSQL database might permit a hotel room to be reserved on the same night by two different customers, one in Hong Kong and the other in New York City.\n",
    "\n",
    "For many business applications, this is not a problem.\n",
    "\n",
    "The resilience, availability, and low-latency afforded by NoSQL are well worth the tradeoff. \n",
    "\n",
    "The hotel can provide perks to a disgruntled customer, but, by contrast, a regional outage could create significant churn.\n",
    "\n",
    "\n"
   ]
  },
  {
   "attachments": {},
   "cell_type": "markdown",
   "metadata": {},
   "source": [
    "## Database Concurrency\n",
    "- is the ability to execute two or more transactions at the same time.\n",
    "\n",
    "\n"
   ]
  },
  {
   "attachments": {},
   "cell_type": "markdown",
   "metadata": {},
   "source": [
    "### READ vs. write\n",
    "- Reading transactions can be executed simultaneously.\n",
    "- Writing transactions very often cannot be executed simultaneously.\n",
    "\n",
    "The nature of the transactions determines how the concurrent transactions are managed."
   ]
  },
  {
   "attachments": {},
   "cell_type": "markdown",
   "metadata": {},
   "source": [
    "### Concurrency Issues\n",
    "The isolation property prevents the occurrence of some undesired behavior due to concurrent writing transactions.\n",
    "\n",
    "1. Dirty reads\n",
    "- A transaction reads data written by concurrent uncommitted transactions.\n",
    "- we are not sure about the consistency of the data that is read because we don’t know the result of the open transaction\n",
    "2. Non-repeatable reads\n",
    "- A transaction re-reads data it has previously read and finds that data has been modified by another transaction\n",
    "- occurs, when during the course of a transaction, a row is retrieved twice and the values within the row differ between reads.\n",
    "- user b commits between two queries of user a\n",
    "3. Phantom reads\n",
    "- the result changes if executed again, due to another recently-committed transaction.\n",
    "- All the rows in the query have the same value before and after, but different rows are being selected (because B has deleted or inserted some)\n",
    "- when reading from committed INSERTS and/or DELETES from another transaction.\n"
   ]
  },
  {
   "attachments": {},
   "cell_type": "markdown",
   "metadata": {},
   "source": [
    "### Concurrent Writing Transactions\n",
    "\n",
    "- Concurrent writing transactions are executed sequentially to prevent isolation issues.\n",
    "- While the system executes the first transaction the rest stays “on hold”, waiting for the first to finish."
   ]
  },
  {
   "attachments": {},
   "cell_type": "markdown",
   "metadata": {},
   "source": [
    "- So how do Write Transaction 2 & 3 know they need to wait?\n",
    "1. A writing transaction request arrives. It checks if it has access to the data. It does, so it executes.\n",
    "2. When the transaction is executed, a lock is added to the database.\n",
    "3. A second transaction request arrives. It checks if it has access to the data. It finds the lock, so it waits.\n",
    "4. When the first transaction finishes, the lock is released and the next transaction checks again.\n",
    "5. A COMMIT; and a ROLLBACK; will release the lock.\n"
   ]
  },
  {
   "attachments": {},
   "cell_type": "markdown",
   "metadata": {},
   "source": [
    "### Some writing transactions can be done simultaneously.\n",
    "\n",
    "- Each new transaction has a lock and a key. \n",
    "- Checks if the key fits in the current lock.\n",
    "- If the key fits, adds its own lock and executes.\n",
    "- A third transaction will try to open every lock it finds on its way to the data. \n",
    "- If it succeeds, adds a new lock and executes."
   ]
  },
  {
   "attachments": {},
   "cell_type": "markdown",
   "metadata": {},
   "source": [
    "### Lock Modes in PostgreSQL\n",
    "1. ACCESS SHARE\n",
    "- It accesses the contents and is compatible with all lock modes, except ACCESS EXCLUSIVE.\n",
    "2. ACCESS EXCLUSIVE\n",
    "- guarantees that the current transaction is the only one with any kind of access. \n",
    "- (Used by DROP TABLE and other commands.)\n",
    "3. EXCLUSIVE\n",
    "- allows only reading access to the table\n",
    "- (used by REFRESH MATERIALIZED VIEW CONCURRENTLY.)\n",
    "4. ROW EXCLUSIVE\n",
    "-  is used by UPDATE, DELETE and INSERT operations. \n",
    "- It conflicts with SHARE, SHARE ROW EXCLUSIVE, EXCLUSIVE, and ACCESS EXCLUSIVE lock modes.\n",
    "5. SHARE\n",
    "- is triggered by CREATE INDEX. \n",
    "- Conflicts with ROW EXCLUSIVE and all lock modes used by DDL commands"
   ]
  },
  {
   "attachments": {},
   "cell_type": "markdown",
   "metadata": {},
   "source": [
    "### Locking in Postgres\n",
    "- Locks and keys are managed with Lock Modes. \n",
    "- The most common ones are used on tables.\n",
    "\n",
    "1. select\n",
    "- only blocks some ALTER TABLE and all DROP TABLE and VACUUM commands.\n",
    "2. update, insert, delete\n",
    "- block the same as the SELECT, plus CREATE INDEX.\n",
    "3. alter table\n",
    "- may use different locks depending on what it does. \n",
    "- Some of them use the ACCESS EXCLUSIVE lock mode.\n"
   ]
  }
 ],
 "metadata": {
  "language_info": {
   "name": "python"
  },
  "orig_nbformat": 4
 },
 "nbformat": 4,
 "nbformat_minor": 2
}
