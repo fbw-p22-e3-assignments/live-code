{
 "cells": [
  {
   "cell_type": "markdown",
   "id": "f257a37a",
   "metadata": {},
   "source": [
    "# Iterators"
   ]
  },
  {
   "cell_type": "markdown",
   "id": "20744253",
   "metadata": {},
   "source": [
    "**Iteration**: run a block statement repeatedly\n",
    "- for statement (for loop)\n",
    "- while statement (while loop)"
   ]
  },
  {
   "cell_type": "markdown",
   "id": "67118acd",
   "metadata": {},
   "source": [
    "## Recap: Reassignment\n",
    "**a=b**: equality is not a symmetric relationship "
   ]
  },
  {
   "cell_type": "code",
   "execution_count": 3,
   "id": "22c95875",
   "metadata": {},
   "outputs": [
    {
     "data": {
      "text/plain": [
       "5"
      ]
     },
     "execution_count": 3,
     "metadata": {},
     "output_type": "execute_result"
    }
   ],
   "source": [
    "a = 5\n",
    "b = a\n",
    "a = 3  # changes value of a but not the value of b\n",
    "b"
   ]
  },
  {
   "cell_type": "markdown",
   "id": "09eff30f",
   "metadata": {},
   "source": [
    "- use reassignment with caution\n",
    "- often reassignment of an variable is hard to read and to debug"
   ]
  },
  {
   "cell_type": "markdown",
   "id": "eb3c5054",
   "metadata": {},
   "source": [
    "## Recap: While Loop"
   ]
  },
  {
   "cell_type": "code",
   "execution_count": 8,
   "id": "fc1da67d",
   "metadata": {},
   "outputs": [
    {
     "name": "stdout",
     "output_type": "stream",
     "text": [
      "3\n",
      "2\n",
      "1\n",
      "Go\n"
     ]
    }
   ],
   "source": [
    "def countdown(n):\n",
    "    while n > 0:   #While n is greater than 0, display the value of n and decrement n\n",
    "        print(n)\n",
    "        n = n -1\n",
    "    print('Go')\n",
    "countdown(3)"
   ]
  },
  {
   "cell_type": "markdown",
   "id": "2f4bf2a0",
   "metadata": {},
   "source": [
    "# Break\n"
   ]
  },
  {
   "cell_type": "markdown",
   "id": "4ba349be",
   "metadata": {},
   "source": [
    "You already have seen that for exiting a while loop you can use a break statement:"
   ]
  },
  {
   "cell_type": "code",
   "execution_count": 9,
   "id": "438314e3",
   "metadata": {},
   "outputs": [
    {
     "name": "stdout",
     "output_type": "stream",
     "text": [
      "> hello\n",
      "hello\n",
      "> done\n",
      "Done!\n"
     ]
    }
   ],
   "source": [
    "while True:\n",
    "    line = input('> ')\n",
    "    if line == 'done':\n",
    "        break\n",
    "    print(line)\n",
    "print('Done!')"
   ]
  },
  {
   "cell_type": "code",
   "execution_count": 14,
   "id": "2e0891f6",
   "metadata": {},
   "outputs": [
    {
     "name": "stdout",
     "output_type": "stream",
     "text": [
      "duck\n",
      "dog\n"
     ]
    }
   ],
   "source": [
    "for i in ['duck', 'dog', 'cat']:\n",
    "    if i == 'cat':\n",
    "        break\n",
    "    print(i)"
   ]
  },
  {
   "cell_type": "markdown",
   "id": "38608da4",
   "metadata": {},
   "source": [
    "## Continue"
   ]
  },
  {
   "cell_type": "markdown",
   "id": "9edb62b5",
   "metadata": {},
   "source": [
    "If the continue statement is reached, the loop instantly jumps to the next iteration:"
   ]
  },
  {
   "cell_type": "code",
   "execution_count": 15,
   "id": "f7cfc223",
   "metadata": {},
   "outputs": [
    {
     "name": "stdout",
     "output_type": "stream",
     "text": [
      "9\n",
      "7\n",
      "5\n",
      "3\n",
      "1\n"
     ]
    }
   ],
   "source": [
    "n = 10\n",
    "while n >= 1:\n",
    "    n = n - 1\n",
    "    if n % 2 == 0:\n",
    "        continue\n",
    "    print(n)"
   ]
  },
  {
   "cell_type": "code",
   "execution_count": 17,
   "id": "74f1a73f",
   "metadata": {},
   "outputs": [
    {
     "name": "stdout",
     "output_type": "stream",
     "text": [
      "0\n",
      "2\n",
      "4\n",
      "6\n",
      "8\n"
     ]
    }
   ],
   "source": [
    "for i in range(10):\n",
    "    if i % 2 != 0:\n",
    "        continue\n",
    "    print(i)"
   ]
  },
  {
   "cell_type": "markdown",
   "id": "7e840f26",
   "metadata": {},
   "source": [
    "![Diagram](continue.png \"Loop with continue statement\")"
   ]
  },
  {
   "cell_type": "markdown",
   "id": "3a6018e0",
   "metadata": {},
   "source": [
    "## Iterators"
   ]
  },
  {
   "cell_type": "markdown",
   "id": "e1ae7528",
   "metadata": {},
   "source": [
    "An iterable is an object that provides an iterator.\n",
    "Python uses iterators to support the following operations:\n",
    "- for loops\n",
    "- unpacking assignments\n",
    "- list, dict, set comprehension (we will talk about them later in this course)\n"
   ]
  },
  {
   "cell_type": "markdown",
   "id": "1035629e",
   "metadata": {},
   "source": [
    "## Excursion: Classes, Objects / Instances"
   ]
  },
  {
   "cell_type": "markdown",
   "id": "eadef7bf",
   "metadata": {},
   "source": [
    "### Using objects\n",
    "\n",
    "Python provides many built-in objects:"
   ]
  },
  {
   "cell_type": "code",
   "execution_count": 18,
   "id": "45c899fe",
   "metadata": {},
   "outputs": [],
   "source": [
    "stuff = list()         # a list is constructed: stuff is a list object and list() is a class\n",
    "stuff.append('python') # the append methd is called\n",
    "\n",
    "\n"
   ]
  },
  {
   "cell_type": "markdown",
   "id": "e867879f",
   "metadata": {},
   "source": [
    "In the above code snippet an object or instance of the class list is constructed"
   ]
  },
  {
   "cell_type": "markdown",
   "id": "d6316665",
   "metadata": {},
   "source": [
    "Let's define a class:"
   ]
  },
  {
   "cell_type": "code",
   "execution_count": 22,
   "id": "05ea64b4",
   "metadata": {},
   "outputs": [
    {
     "name": "stdout",
     "output_type": "stream",
     "text": [
      "<__main__.MyClass object at 0x7fb33c22c280>\n",
      "I'm the constructor\n",
      "<__main__.MyClass object at 0x7fb33c22c280>\n",
      "I'm a method of MyClass\n",
      "<__main__.MyClass object at 0x7fb3444d82b0>\n",
      "I'm the constructor\n"
     ]
    }
   ],
   "source": [
    "class MyClass():\n",
    "    def __init__(self):\n",
    "        print(self)\n",
    "        print(\"I'm the constructor\")\n",
    "    \n",
    "    def doSomething(self):\n",
    "        print(self)\n",
    "        print(\"I'm a method of MyClass\")\n",
    "        \n",
    "obj_of_myclass = MyClass() #constructing a object of Myclass\n",
    "\n",
    "obj_of_myclass.doSomething()\n",
    "\n",
    "obj2 = MyClass()"
   ]
  },
  {
   "cell_type": "markdown",
   "id": "2046c6a3",
   "metadata": {},
   "source": [
    "All methods defined in a class have a special first parameter that we name by convention self.\n",
    "When the *doSomething()* method of an object is called, the first parameter points to the **particular instance (here:obj_of_myclass)** of the Myclass-object that *doSomething()* is called from."
   ]
  },
  {
   "cell_type": "code",
   "execution_count": 28,
   "id": "db3853a7",
   "metadata": {},
   "outputs": [
    {
     "name": "stdout",
     "output_type": "stream",
     "text": [
      "I'm constructed with x.\n",
      "12\n",
      "12\n"
     ]
    }
   ],
   "source": [
    "class MyClass():\n",
    "    def __init__(self, x):\n",
    "        self.x = x  #The x within self!\n",
    "        print('I\\'m constructed with x.')\n",
    "        \n",
    "    def doSomething(self, y):\n",
    "        print(self.x + y)\n",
    "    \n",
    "obj1 = MyClass(10)\n",
    "obj1.doSomething(2)\n",
    "#MyClass.doSomething(obj1,2) #we access the mehtod from within the class and explicitly pass the object pointer \n",
    "#obj1 as the first argument. # obj1.doSomething(2) is the shorthand version\n",
    "#\n",
    "        "
   ]
  },
  {
   "cell_type": "markdown",
   "id": "274de02c",
   "metadata": {},
   "source": [
    "`self.x` This syntax is using the *dot* operator is saying 'the x within self. "
   ]
  },
  {
   "cell_type": "code",
   "execution_count": 30,
   "id": "d5905625",
   "metadata": {},
   "outputs": [
    {
     "name": "stdout",
     "output_type": "stream",
     "text": [
      "I'm constructed with x.\n",
      "12\n",
      "I'm destructed!\n"
     ]
    }
   ],
   "source": [
    "class MyClass():\n",
    "    def __init__(self, x):\n",
    "        self.x = x  #The x within self!\n",
    "        print('I\\'m constructed with x.')\n",
    "        \n",
    "    def doSomething(self, y):\n",
    "        print(self.x + y)\n",
    "        \n",
    "    def __del__(self):\n",
    "        print('I\\'m destructed!')\n",
    "    \n",
    "obj1 = MyClass(10)\n",
    "obj1.doSomething(2)\n",
    "obj1 = 42           # 'throws our object away': when our object is destroyed __del__ is called automatically "
   ]
  },
  {
   "cell_type": "markdown",
   "id": "456a62af",
   "metadata": {},
   "source": [
    "## A Sequence of Words\n",
    "\n",
    "We will implement a *Sentence* Class. Instances of this class will be iterable:"
   ]
  },
  {
   "cell_type": "code",
   "execution_count": 63,
   "id": "c06dedd3",
   "metadata": {},
   "outputs": [],
   "source": [
    "import re \n",
    "\n",
    "class Sentence:\n",
    "    \n",
    "    def __init__(self, text):\n",
    "        self.text = text\n",
    "        self.words = re.findall('\\w+', text)\n",
    "        \n",
    "    def __getitem__(self, index):\n",
    "        return self.words[index]     # do some slicing\n",
    "    \n",
    "    def __len__(self):\n",
    "        return len(self.words)\n",
    "    \n",
    "    def __repr__(self):\n",
    "        return f'Sentence({self.text})'\n",
    "    \n",
    "s = Sentence(\"Hello world again\")\n"
   ]
  },
  {
   "cell_type": "code",
   "execution_count": 64,
   "id": "cc9c2b6d",
   "metadata": {},
   "outputs": [
    {
     "data": {
      "text/plain": [
       "Sentence(Hello world again)"
      ]
     },
     "execution_count": 64,
     "metadata": {},
     "output_type": "execute_result"
    }
   ],
   "source": [
    "s  #__repr__ returning the object representation"
   ]
  },
  {
   "cell_type": "code",
   "execution_count": 65,
   "id": "0fe42af5",
   "metadata": {},
   "outputs": [
    {
     "name": "stdout",
     "output_type": "stream",
     "text": [
      "Hello\n",
      "world\n",
      "again\n"
     ]
    }
   ],
   "source": [
    "for word in s:      \n",
    "    print(word)"
   ]
  },
  {
   "cell_type": "code",
   "execution_count": 66,
   "id": "970db9fd",
   "metadata": {},
   "outputs": [
    {
     "data": {
      "text/plain": [
       "['Hello', 'world', 'again']"
      ]
     },
     "execution_count": 66,
     "metadata": {},
     "output_type": "execute_result"
    }
   ],
   "source": [
    "list(s)"
   ]
  },
  {
   "cell_type": "code",
   "execution_count": 67,
   "id": "d6998c15",
   "metadata": {},
   "outputs": [
    {
     "data": {
      "text/plain": [
       "('Hello', 'world')"
      ]
     },
     "execution_count": 67,
     "metadata": {},
     "output_type": "execute_result"
    }
   ],
   "source": [
    "s[0], s[1]"
   ]
  },
  {
   "cell_type": "code",
   "execution_count": 70,
   "id": "98fc1372",
   "metadata": {},
   "outputs": [
    {
     "data": {
      "text/plain": [
       "['Hello', 'world', 'again']"
      ]
     },
     "execution_count": 70,
     "metadata": {},
     "output_type": "execute_result"
    }
   ],
   "source": [
    "len(s)\n",
    "[*s]"
   ]
  },
  {
   "cell_type": "markdown",
   "id": "c8b9ee84",
   "metadata": {},
   "source": [
    "## Why Sequences Are Iterable: The iter Function\n",
    "\n",
    "Whenever Python needs to iterate over an object x, it automatically calls iter(x)\n",
    "\n",
    "The iter built-in function:\n",
    "\n",
    "- Checks wheather the object implements __ iter__, and calls that to obtain an iterator.\n",
    "- If __ iter__ is not implemented, but __ getitem__ is, then iter() creates an iterator that tries to fetch \n",
    "items by index, starting from 0\n",
    "- If that fails, Python raises TypeError.\n",
    "\n",
    "By definition Sequences implement __ getitem__ to access elements via indices. Therefore, all sequences are iterable. "
   ]
  },
  {
   "cell_type": "markdown",
   "id": "f9e7cd40",
   "metadata": {},
   "source": [
    "## Iterators vs. iterables"
   ]
  },
  {
   "cell_type": "markdown",
   "id": "68ec3297",
   "metadata": {},
   "source": [
    "Iterables: Any object which the __ iter__ function can obtain an iterator.\n",
    "Example:"
   ]
  },
  {
   "cell_type": "code",
   "execution_count": 71,
   "id": "058cfbbc",
   "metadata": {},
   "outputs": [
    {
     "name": "stdout",
     "output_type": "stream",
     "text": [
      "A\n",
      "B\n",
      "C\n"
     ]
    }
   ],
   "source": [
    "s = 'ABC'\n",
    "for char in s:     #behind the curtains an iterator is obtained\n",
    "    print(char)"
   ]
  },
  {
   "cell_type": "markdown",
   "id": "e3fad622",
   "metadata": {},
   "source": [
    "With out the for loop:"
   ]
  },
  {
   "cell_type": "code",
   "execution_count": 72,
   "id": "54919e32",
   "metadata": {},
   "outputs": [
    {
     "data": {
      "text/plain": [
       "'A'"
      ]
     },
     "execution_count": 72,
     "metadata": {},
     "output_type": "execute_result"
    }
   ],
   "source": [
    "it = iter(s)\n",
    "next(it)"
   ]
  },
  {
   "cell_type": "code",
   "execution_count": 73,
   "id": "41fdf6d8",
   "metadata": {},
   "outputs": [
    {
     "data": {
      "text/plain": [
       "'B'"
      ]
     },
     "execution_count": 73,
     "metadata": {},
     "output_type": "execute_result"
    }
   ],
   "source": [
    "next(it)"
   ]
  },
  {
   "cell_type": "code",
   "execution_count": 74,
   "id": "1dcc3a89",
   "metadata": {},
   "outputs": [
    {
     "data": {
      "text/plain": [
       "'C'"
      ]
     },
     "execution_count": 74,
     "metadata": {},
     "output_type": "execute_result"
    }
   ],
   "source": [
    "next(it)"
   ]
  },
  {
   "cell_type": "code",
   "execution_count": 75,
   "id": "85dc3b5c",
   "metadata": {},
   "outputs": [
    {
     "ename": "StopIteration",
     "evalue": "",
     "output_type": "error",
     "traceback": [
      "\u001b[0;31m---------------------------------------------------------------------------\u001b[0m",
      "\u001b[0;31mStopIteration\u001b[0m                             Traceback (most recent call last)",
      "Cell \u001b[0;32mIn [75], line 1\u001b[0m\n\u001b[0;32m----> 1\u001b[0m \u001b[38;5;28;43mnext\u001b[39;49m\u001b[43m(\u001b[49m\u001b[43mit\u001b[49m\u001b[43m)\u001b[49m\n",
      "\u001b[0;31mStopIteration\u001b[0m: "
     ]
    }
   ],
   "source": [
    "next(it)"
   ]
  },
  {
   "cell_type": "markdown",
   "id": "ac6cfa59",
   "metadata": {},
   "source": [
    "- iter() builds an iterator it from iterable\n",
    "- next() returns the next item\n",
    "- if there are no further items StopIteration is raised"
   ]
  },
  {
   "cell_type": "code",
   "execution_count": 76,
   "id": "140725b2",
   "metadata": {},
   "outputs": [
    {
     "data": {
      "text/plain": [
       "['A', 'B', 'C']"
      ]
     },
     "execution_count": 76,
     "metadata": {},
     "output_type": "execute_result"
    }
   ],
   "source": [
    "[*s]"
   ]
  },
  {
   "cell_type": "markdown",
   "id": "f6b1ee9a",
   "metadata": {},
   "source": [
    "Python's standard interface for an iterator has two methods:\n",
    "- __ next__: Return the next item in the series, raise StopIteration if there are no more.\n",
    "- __ iter__: Returns self; this allows iterators to be used where an iterable is expected, for example,\n",
    "in a for loop"
   ]
  },
  {
   "cell_type": "code",
   "execution_count": 78,
   "id": "6e07b469",
   "metadata": {},
   "outputs": [
    {
     "name": "stdout",
     "output_type": "stream",
     "text": [
      "A\n",
      "B\n",
      "C\n"
     ]
    }
   ],
   "source": [
    "for char in iter(s):\n",
    "    print(char)"
   ]
  },
  {
   "cell_type": "code",
   "execution_count": 80,
   "id": "b8d1b97c",
   "metadata": {},
   "outputs": [],
   "source": [
    "#dir(iter(s))\n"
   ]
  },
  {
   "cell_type": "markdown",
   "id": "a652e902",
   "metadata": {},
   "source": [
    "Because the only methods required of an iterator are __ next__ and __ iter__, there is no way to check whether there are remaining items, other than to call __ next__() and catch StopIteration. It's not possible to reset an iterator. "
   ]
  }
 ],
 "metadata": {
  "kernelspec": {
   "display_name": "Python 3 (ipykernel)",
   "language": "python",
   "name": "python3"
  },
  "language_info": {
   "codemirror_mode": {
    "name": "ipython",
    "version": 3
   },
   "file_extension": ".py",
   "mimetype": "text/x-python",
   "name": "python",
   "nbconvert_exporter": "python",
   "pygments_lexer": "ipython3",
   "version": "3.8.10"
  }
 },
 "nbformat": 4,
 "nbformat_minor": 5
}
