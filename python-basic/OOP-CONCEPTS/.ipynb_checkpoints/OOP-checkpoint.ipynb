{
 "cells": [
  {
   "cell_type": "markdown",
   "metadata": {},
   "source": [
    "# Object Oriented Programming - Classes\n",
    "\n",
    "- Classes provide a means of bundling data and functionality together. \n",
    "- Creating a new class creates a new type of object, allowing new instances of that type to be made. \n",
    "- Each class instance can have attributes attached to it for maintaining its state. \n",
    "- Class instances can also have methods (defined by its class) for modifying its state.\n",
    "\n"
   ]
  },
  {
   "cell_type": "code",
   "execution_count": 1,
   "metadata": {},
   "outputs": [
    {
     "ename": "SyntaxError",
     "evalue": "invalid syntax (2253895616.py, line 4)",
     "output_type": "error",
     "traceback": [
      "\u001b[0;36m  Cell \u001b[0;32mIn [1], line 4\u001b[0;36m\u001b[0m\n\u001b[0;31m    <statement-1>\u001b[0m\n\u001b[0m    ^\u001b[0m\n\u001b[0;31mSyntaxError\u001b[0m\u001b[0;31m:\u001b[0m invalid syntax\n"
     ]
    }
   ],
   "source": [
    "#The simplest form of class definition looks like this:\n",
    "\n",
    "class ClassName:\n",
    "    <statement-1>\n",
    "    .\n",
    "    .\n",
    "    .\n",
    "    <statement-N>"
   ]
  },
  {
   "cell_type": "markdown",
   "metadata": {},
   "source": [
    "### Class Objects\n",
    "\n",
    "Class objects support two kinds of operations:\n",
    "- attribute references\n",
    "- instantiation"
   ]
  },
  {
   "cell_type": "markdown",
   "metadata": {},
   "source": [
    "*Attribute references* use the standard syntax used for all attribute references in Python: obj.name. \n",
    "So, if the class definition looked like this:\n",
    "\n"
   ]
  },
  {
   "cell_type": "code",
   "execution_count": 2,
   "metadata": {},
   "outputs": [],
   "source": [
    "class MyClass:\n",
    "    \"\"\"A simple example class\"\"\"\n",
    "    i = 12345\n",
    "\n",
    "    def f(self):\n",
    "        return 'hello world'"
   ]
  },
  {
   "cell_type": "markdown",
   "metadata": {},
   "source": [
    "then MyClass.i and MyClass.f are valid attribute references, returning an integer and a function object, respectively. \n",
    "- Class attributes can also be assigned to.\n",
    "- __ doc__ is also a valid attribute, returning the docstring belonging to the class."
   ]
  },
  {
   "cell_type": "code",
   "execution_count": 3,
   "metadata": {},
   "outputs": [
    {
     "data": {
      "text/plain": [
       "12345"
      ]
     },
     "execution_count": 3,
     "metadata": {},
     "output_type": "execute_result"
    }
   ],
   "source": [
    "MyClass.i"
   ]
  },
  {
   "cell_type": "code",
   "execution_count": 6,
   "metadata": {},
   "outputs": [
    {
     "data": {
      "text/plain": [
       "<function __main__.MyClass.f(self)>"
      ]
     },
     "execution_count": 6,
     "metadata": {},
     "output_type": "execute_result"
    }
   ],
   "source": [
    "MyClass.f"
   ]
  },
  {
   "cell_type": "code",
   "execution_count": 7,
   "metadata": {},
   "outputs": [
    {
     "data": {
      "text/plain": [
       "'A simple example class'"
      ]
     },
     "execution_count": 7,
     "metadata": {},
     "output_type": "execute_result"
    }
   ],
   "source": [
    "MyClass.__doc__"
   ]
  },
  {
   "cell_type": "markdown",
   "metadata": {},
   "source": [
    "Class *instantiation* uses function notation. For example "
   ]
  },
  {
   "cell_type": "code",
   "execution_count": 14,
   "metadata": {},
   "outputs": [],
   "source": [
    "x = MyClass()"
   ]
  },
  {
   "cell_type": "markdown",
   "metadata": {},
   "source": [
    "creates a new *instance* of the class and assigns this object to the variable x.\n",
    "\n",
    "- The instantiation operation (“calling” a class object) creates an empty object. \n",
    "- Many classes like to create objects with instances customized to a specific initial state. \n",
    "- A class may define a special method named __ init__() to define the initial state:"
   ]
  },
  {
   "cell_type": "code",
   "execution_count": 15,
   "metadata": {},
   "outputs": [],
   "source": [
    "class MyClass:\n",
    "    \"\"\"A simple example class\"\"\"\n",
    "    i = 12345\n",
    "\n",
    "    def __init__(self):\n",
    "        self.data = []\n",
    "\n",
    "    def f(self):\n",
    "        return 'hello world'"
   ]
  },
  {
   "cell_type": "markdown",
   "metadata": {},
   "source": [
    "When a class defines an __ init__() method, class instantiation automatically invokes __ init__() for the newly created class instance. \n",
    "\n",
    "For greater flexibility, arguments given to the class instantiation operator are passed on to __ init__():"
   ]
  },
  {
   "cell_type": "code",
   "execution_count": 16,
   "metadata": {},
   "outputs": [
    {
     "data": {
      "text/plain": [
       "(3.0, -4.5)"
      ]
     },
     "execution_count": 16,
     "metadata": {},
     "output_type": "execute_result"
    }
   ],
   "source": [
    "class Complex:\n",
    "    def __init__(self, realpart, imagpart):\n",
    "        self.r = realpart\n",
    "        self.i = imagpart\n",
    "\n",
    "z = Complex(3.0, -4.5)\n",
    "z.r, z.i"
   ]
  },
  {
   "cell_type": "markdown",
   "metadata": {},
   "source": [
    "### Instance Objects\n",
    "\n",
    "The only operations understood by instance objects are attribute references. \n",
    "There are two kinds of valid attribute names:\n",
    "- data attributes\n",
    "- methods\n",
    "\n",
    "Data attributes need not be declared; like local variables, they spring into existence when they are first assigned to:"
   ]
  },
  {
   "cell_type": "code",
   "execution_count": 11,
   "metadata": {},
   "outputs": [
    {
     "name": "stdout",
     "output_type": "stream",
     "text": [
      "16\n"
     ]
    }
   ],
   "source": [
    "x.counter = 1\n",
    "while x.counter < 10:\n",
    "    x.counter = x.counter * 2\n",
    "print(x.counter) # returns 16\n",
    "del x.counter # deletes data attribute"
   ]
  },
  {
   "cell_type": "markdown",
   "metadata": {},
   "source": [
    "A method is a function that “belongs to” an object.\n",
    "By definition, all attributes of a class that are function objects define corresponding methods of its instances.\n",
    "- x.f is a valid method reference, since MyClass.f is a function\n",
    "- But x.f is not the same thing as MyClass.f — x.f is a method object, not a function object."
   ]
  },
  {
   "cell_type": "code",
   "execution_count": 19,
   "metadata": {},
   "outputs": [
    {
     "data": {
      "text/plain": [
       "function"
      ]
     },
     "execution_count": 19,
     "metadata": {},
     "output_type": "execute_result"
    }
   ],
   "source": [
    "type(MyClass.f)"
   ]
  },
  {
   "cell_type": "code",
   "execution_count": 20,
   "metadata": {},
   "outputs": [
    {
     "data": {
      "text/plain": [
       "method"
      ]
     },
     "execution_count": 20,
     "metadata": {},
     "output_type": "execute_result"
    }
   ],
   "source": [
    "type(x.f)"
   ]
  },
  {
   "cell_type": "markdown",
   "metadata": {},
   "source": [
    "### Method Objects\n",
    "\n",
    "Usually, a method is called right after it is bound:"
   ]
  },
  {
   "cell_type": "code",
   "execution_count": 21,
   "metadata": {},
   "outputs": [
    {
     "data": {
      "text/plain": [
       "'hello world'"
      ]
     },
     "execution_count": 21,
     "metadata": {},
     "output_type": "execute_result"
    }
   ],
   "source": [
    "x.f()"
   ]
  },
  {
   "cell_type": "markdown",
   "metadata": {},
   "source": [
    "x.f() was called without an argument above, even though the function definition for f() specified an argument. \n",
    "- the special thing about methods is that the instance object is passed as the first argument of the function.\n",
    "- the call x.f() is exactly equivalent to MyClass.f(x)"
   ]
  },
  {
   "cell_type": "markdown",
   "metadata": {},
   "source": [
    "### Class and Instance Variables\n",
    "\n",
    "Generally speaking, \n",
    "- instance variables are unique to each instance and \n",
    "- class variables are shared by all instances of the class:"
   ]
  },
  {
   "cell_type": "code",
   "execution_count": 22,
   "metadata": {},
   "outputs": [],
   "source": [
    "class Dog:\n",
    "\n",
    "    kind = 'canine'         # class variable shared by all instances\n",
    "\n",
    "    def __init__(self, name):\n",
    "        self.name = name    # instance variable unique to each instance\n",
    "\n",
    "d = Dog('Fido')\n",
    "e = Dog('Buddy')"
   ]
  },
  {
   "cell_type": "code",
   "execution_count": 23,
   "metadata": {},
   "outputs": [
    {
     "data": {
      "text/plain": [
       "'canine'"
      ]
     },
     "execution_count": 23,
     "metadata": {},
     "output_type": "execute_result"
    }
   ],
   "source": [
    "d.kind"
   ]
  },
  {
   "cell_type": "code",
   "execution_count": 24,
   "metadata": {},
   "outputs": [
    {
     "data": {
      "text/plain": [
       "'canine'"
      ]
     },
     "execution_count": 24,
     "metadata": {},
     "output_type": "execute_result"
    }
   ],
   "source": [
    "e.kind"
   ]
  },
  {
   "cell_type": "code",
   "execution_count": 25,
   "metadata": {},
   "outputs": [
    {
     "data": {
      "text/plain": [
       "'Fido'"
      ]
     },
     "execution_count": 25,
     "metadata": {},
     "output_type": "execute_result"
    }
   ],
   "source": [
    "d.name"
   ]
  },
  {
   "cell_type": "code",
   "execution_count": 26,
   "metadata": {},
   "outputs": [
    {
     "data": {
      "text/plain": [
       "'Buddy'"
      ]
     },
     "execution_count": 26,
     "metadata": {},
     "output_type": "execute_result"
    }
   ],
   "source": [
    "e.name"
   ]
  },
  {
   "cell_type": "markdown",
   "metadata": {},
   "source": [
    "shared data can have possibly surprising effects with involving mutable objects such as lists and dictionaries:"
   ]
  },
  {
   "cell_type": "code",
   "execution_count": 27,
   "metadata": {},
   "outputs": [
    {
     "data": {
      "text/plain": [
       "['roll over', 'play dead']"
      ]
     },
     "execution_count": 27,
     "metadata": {},
     "output_type": "execute_result"
    }
   ],
   "source": [
    "class Dog:\n",
    "\n",
    "    tricks = []             # mistaken use of a class variable\n",
    "\n",
    "    def __init__(self, name):\n",
    "        self.name = name\n",
    "\n",
    "    def add_trick(self, trick):\n",
    "        self.tricks.append(trick)\n",
    "\n",
    "d = Dog('Fido')\n",
    "e = Dog('Buddy')\n",
    "d.add_trick('roll over')\n",
    "e.add_trick('play dead')\n",
    "d.tricks"
   ]
  },
  {
   "cell_type": "markdown",
   "metadata": {},
   "source": [
    "Correct design of the class should use an instance variable instead:"
   ]
  },
  {
   "cell_type": "code",
   "execution_count": 28,
   "metadata": {},
   "outputs": [
    {
     "data": {
      "text/plain": [
       "['roll over']"
      ]
     },
     "execution_count": 28,
     "metadata": {},
     "output_type": "execute_result"
    }
   ],
   "source": [
    "class Dog:\n",
    "\n",
    "    def __init__(self, name):\n",
    "        self.name = name\n",
    "        self.tricks = []    # creates a new empty list for each dog\n",
    "\n",
    "    def add_trick(self, trick):\n",
    "        self.tricks.append(trick)\n",
    "\n",
    "d = Dog('Fido')\n",
    "e = Dog('Buddy')\n",
    "d.add_trick('roll over')\n",
    "e.add_trick('play dead')\n",
    "d.tricks"
   ]
  },
  {
   "cell_type": "markdown",
   "metadata": {},
   "source": [
    "# A Pythonic Object\n",
    "\n",
    "## Special Methods\n",
    "Special methods (magic or dunder(double-underscore) methods) effect an object’s high level behavior and its interactions with operators. \n",
    "\n",
    "- __ init__ is an example of a special method; recall that it controls the process of creating instances of a class. \n",
    "- __ add__ controls the behavior of an object when it is operated on by the + symbol.\n",
    "\n"
   ]
  },
  {
   "cell_type": "code",
   "execution_count": 36,
   "metadata": {},
   "outputs": [
    {
     "name": "stdout",
     "output_type": "stream",
     "text": [
      "[True, False, True, False]\n"
     ]
    },
    {
     "data": {
      "text/plain": [
       "'Python Like You Mean It'"
      ]
     },
     "execution_count": 36,
     "metadata": {},
     "output_type": "execute_result"
    }
   ],
   "source": [
    "# Demonstrating (mis)use of special methods\n",
    "class SillyClass:\n",
    "    def __getitem__(self, key):\n",
    "        \"\"\" Determines behavior of `self[key]` \"\"\"\n",
    "        return [True, False, True, False]\n",
    "\n",
    "    def __pow__(self, other):\n",
    "        \"\"\" Determines behavior of `self ** other` \"\"\"\n",
    "        return \"Python Like You Mean It\"\n",
    "\n",
    "silly = SillyClass()\n",
    "print(silly['bla'])\n",
    "silly ** 2"
   ]
  },
  {
   "cell_type": "markdown",
   "metadata": {},
   "source": [
    "Your application class probably don't need and should not implement as many special methods.\n",
    "- But if you write a lib or a framework, the programmers who will use them may expect them to behave like the classes that python provides.\n",
    "- Fulfilling that expectation is one way of being \"Pythonic\".\n",
    "\n",
    "\n",
    "# Custom Vector Class\n",
    "\n",
    "In order to demonstrate the many methods used to generate object representations, we will implement a 2 dimensional Vector class: *Vector2d* "
   ]
  },
  {
   "cell_type": "code",
   "execution_count": 61,
   "metadata": {},
   "outputs": [],
   "source": [
    "import math\n",
    "\n",
    "class Vector2d:\n",
    "\n",
    "    def __init__(self, x, y):   #constructor\n",
    "        self.x = float(x)       # converting x an y to floats catches errors early\n",
    "        self.y = float(y)\n",
    "\n",
    "    def __repr__(self):        # string representation in console \n",
    "        class_name = type(self).__name__\n",
    "        return f\"{class_name}({self.x} {self.y})\"\n",
    "\n",
    "    def __str__(self):\n",
    "        return str((self.x, self.y))\n",
    "\n",
    "    def __eq__(self, other):\n",
    "        return (self.x, self.y) == (other.x, other.y)\n",
    "    \n",
    "    def __abs__(self):\n",
    "        return math.hypot(self.x, self.y)\n",
    "\n",
    "    def __bool__(self):\n",
    "        return bool(abs(self))\n",
    "\n",
    "    def angle(self):\n",
    "        rad = math.atan2(self.y, self.x)\n",
    "        return math.degrees(rad)"
   ]
  },
  {
   "cell_type": "code",
   "execution_count": 62,
   "metadata": {},
   "outputs": [
    {
     "name": "stdout",
     "output_type": "stream",
     "text": [
      "(1.0, 2.0)\n",
      "(4.0, 3.0)\n"
     ]
    },
    {
     "data": {
      "text/plain": [
       "180.0"
      ]
     },
     "execution_count": 62,
     "metadata": {},
     "output_type": "execute_result"
    }
   ],
   "source": [
    "v1 = Vector2d(1,2)\n",
    "print(v1)   #string representation; it's what you get when you print an object\n",
    "v2 = Vector2d(4,3)\n",
    "print(v2)\n",
    "v1 == v2\n",
    "\n",
    "abs(v2)\n",
    "bool(v2)\n",
    "\n",
    "v3 = Vector2d(0,0)\n",
    "bool(v3)\n",
    "\n",
    "v4 = Vector2d(-1,0)\n",
    "v4.angle()\n"
   ]
  },
  {
   "cell_type": "markdown",
   "metadata": {},
   "source": [
    "## classmethod Versus staticmethod\n",
    "\n",
    "- classmethod decorator changes the way the method is called, so it receives the class itself as the first argument, instead of an instance. Its most common use is for alternative constructors\n",
    "- in contrast, the staticmethod decorator changes a method so that it receives no special first argument.\n",
    "- in essence, a static method is just like a plain function that happens to live in a a class body, instead of being defined at the module level"
   ]
  },
  {
   "cell_type": "code",
   "execution_count": 38,
   "metadata": {},
   "outputs": [
    {
     "name": "stdout",
     "output_type": "stream",
     "text": [
      "<class '__main__.Demo'>\n",
      "bla\n"
     ]
    }
   ],
   "source": [
    "class Demo:\n",
    "    @classmethod\n",
    "    def klassmeth(args):\n",
    "        return args\n",
    "    \n",
    "    @staticmethod #good usecases are rare\n",
    "    def statmeth(args):\n",
    "        return args\n",
    "\n",
    "print(Demo.klassmeth())\n",
    "print(Demo.statmeth('bla'))"
   ]
  },
  {
   "cell_type": "markdown",
   "metadata": {},
   "source": [
    "## A Hashable Vector2d\n",
    "\n",
    "As defined, so far our Vector2d instances are unhashable:"
   ]
  },
  {
   "cell_type": "code",
   "execution_count": 63,
   "metadata": {},
   "outputs": [
    {
     "ename": "TypeError",
     "evalue": "unhashable type: 'Vector2d'",
     "output_type": "error",
     "traceback": [
      "\u001b[0;31m---------------------------------------------------------------------------\u001b[0m",
      "\u001b[0;31mTypeError\u001b[0m                                 Traceback (most recent call last)",
      "Cell \u001b[0;32mIn [63], line 2\u001b[0m\n\u001b[1;32m      1\u001b[0m v1 \u001b[39m=\u001b[39m Vector2d(\u001b[39m1\u001b[39m,\u001b[39m2\u001b[39m)\n\u001b[0;32m----> 2\u001b[0m \u001b[39mhash\u001b[39;49m(v1)\n",
      "\u001b[0;31mTypeError\u001b[0m: unhashable type: 'Vector2d'"
     ]
    }
   ],
   "source": [
    "v1 = Vector2d(1,2)\n",
    "hash(v1)"
   ]
  },
  {
   "cell_type": "markdown",
   "metadata": {},
   "source": [
    "- special method __ hash__\n",
    "- Vector instances must be immutable"
   ]
  },
  {
   "cell_type": "code",
   "execution_count": 74,
   "metadata": {},
   "outputs": [],
   "source": [
    "class Vector2d:\n",
    "\n",
    "    def __init__(self, x, y):   \n",
    "        self.__x = float(x)       # underscores make attribute private\n",
    "        self.__y = float(y)\n",
    "\n",
    "    @property  #marks the getter method of a property\n",
    "    def x(self): # named after the public property it exposes: x\n",
    "        return self.__x\n",
    "\n",
    "    @property  #marks the getter method of a property\n",
    "    def y(self): # named after the public property it exposes: x\n",
    "        return self.__y\n",
    "\n",
    "    def __repr__(self):        # string representation in console \n",
    "        class_name = type(self).__name__\n",
    "        return f\"{class_name}({self.x} {self.y})\"\n",
    "\n",
    "    def __str__(self):\n",
    "        return str((self.x, self.y))\n",
    "\n",
    "    def __eq__(self, other):\n",
    "        return (self.x, self.y) == (other.x, other.y)\n",
    "    \n",
    "    def __abs__(self):\n",
    "        return math.hypot(self.x, self.y)\n",
    "\n",
    "    def __bool__(self):\n",
    "        return bool(abs(self))\n",
    "\n",
    "    def angle(self):\n",
    "        rad = math.atan2(self.y, self.x)\n",
    "        return math.degrees(rad)\n",
    "\n",
    "    def __hash__(self):\n",
    "        return hash((self.x, self.y))"
   ]
  },
  {
   "cell_type": "code",
   "execution_count": 75,
   "metadata": {},
   "outputs": [
    {
     "data": {
      "text/plain": [
       "8389048192121911274"
      ]
     },
     "execution_count": 75,
     "metadata": {},
     "output_type": "execute_result"
    }
   ],
   "source": [
    "v1 = Vector2d(1,1)\n",
    "v2 = Vector2d(1.2,1)\n",
    "# v1.__x = 2\n",
    "hash(v1)\n"
   ]
  },
  {
   "cell_type": "code",
   "execution_count": 128,
   "metadata": {},
   "outputs": [
    {
     "ename": "AttributeError",
     "evalue": "'Test' object has no attribute 'x'",
     "output_type": "error",
     "traceback": [
      "\u001b[0;31m---------------------------------------------------------------------------\u001b[0m",
      "\u001b[0;31mAttributeError\u001b[0m                            Traceback (most recent call last)",
      "Cell \u001b[0;32mIn [128], line 30\u001b[0m\n\u001b[1;32m     26\u001b[0m     \u001b[39m# def x(self):\u001b[39;00m\n\u001b[1;32m     27\u001b[0m     \u001b[39m#     return self.__x\u001b[39;00m\n\u001b[1;32m     29\u001b[0m t1 \u001b[39m=\u001b[39m Test(\u001b[39m1\u001b[39m,\u001b[39m2\u001b[39m) \n\u001b[0;32m---> 30\u001b[0m t1\u001b[39m.\u001b[39;49mx\n",
      "\u001b[0;31mAttributeError\u001b[0m: 'Test' object has no attribute 'x'"
     ]
    }
   ],
   "source": [
    "class MYProperty:\n",
    "    def __init__(self, fget=None, fset=None, fdel=None, doc=None):\n",
    "        self.fget = fget\n",
    "\n",
    "    def __get__(self, obj, objtype=None):\n",
    "        # if obj is None:\n",
    "        #     return self\n",
    "        # if self.fget is None:\n",
    "        #     raise AttributeError(f\"property '{self._name}' has no getter\")\n",
    "        # return self.fget(obj)\n",
    "        return 'bla'\n",
    "\n",
    "\n",
    "class Test:\n",
    "\n",
    "    def __init__(self, x, y):\n",
    "        self.__x = x\n",
    "        self.__y = y\n",
    "\n",
    "    # @MYProperty\n",
    "    def __get__(self, instance, owner):\n",
    "        return self.__x\n",
    "\n",
    "    # def x(self):\n",
    "    #     return self.__x\n",
    "\n",
    "t1 = Test(1,2) \n",
    "t1.x\n"
   ]
  },
  {
   "cell_type": "markdown",
   "metadata": {},
   "source": [
    "You should only implement these special methods if your application needs them. End users don't care if the objects that make up an application are \"Pythonic\" or not."
   ]
  },
  {
   "cell_type": "markdown",
   "metadata": {},
   "source": [
    "## Private and \"Protected\" Attributes in Python\n",
    "\n",
    "“Private” instance variables that cannot be accessed except from inside an object don’t exist in Python. However, there is a convention that is followed by most Python code: a name prefixed with an underscore (e.g. _spam) should be treated as a non-public part of the API and is therefore \"private\" by convention.\n",
    "\n",
    "\n",
    "\n",
    "Suppose you have a Dog class that uses a *mood* instance attribute internally, without exposing it.\n",
    "If you subclass Dog as Beagle and create your own *mood* instance attributey, you will clobber (overwrite) the *mood*\n",
    "attribute used by the methods inherited from Dog.\n",
    "\n",
    "To prevent this you add 2 leadding underscores. Python stores the name in __ dict__: *__ mood* \n",
    "becomes *_dog__mood*\n",
    "\n",
    "This language feature goes by the name *name mangling*.\n",
    "\n"
   ]
  },
  {
   "cell_type": "code",
   "execution_count": 88,
   "metadata": {},
   "outputs": [
    {
     "data": {
      "text/plain": [
       "{'mood': 'good'}"
      ]
     },
     "execution_count": 88,
     "metadata": {},
     "output_type": "execute_result"
    }
   ],
   "source": [
    "class Dog:\n",
    "\n",
    "    def __init__(self):\n",
    "        self.__mood = 'good'\n",
    "\n",
    "chiwauwau = Dog()\n",
    "\n",
    "chiwauwau.__dict__"
   ]
  },
  {
   "cell_type": "code",
   "execution_count": 89,
   "metadata": {},
   "outputs": [
    {
     "data": {
      "text/plain": [
       "{'mood': 'Bla'}"
      ]
     },
     "execution_count": 89,
     "metadata": {},
     "output_type": "execute_result"
    }
   ],
   "source": [
    "class Beagle(Dog):\n",
    "\n",
    "    def __init__(self):\n",
    "        super().__init__()\n",
    "        self.__mood ='Bla'\n",
    "        \n",
    "frank = Beagle()\n",
    "frank.__dict__"
   ]
  },
  {
   "cell_type": "markdown",
   "metadata": {},
   "source": [
    "- Be aware *name mangling* is about safety, not security: it's designed to prevent accidental access and not malicous prying.\n",
    "\n",
    "\n",
    "The single underscore prefix has no special meaning to the Python interpreter when used in attributes names, but it's a very strong convention among Python programmers that you should not access such attribues from outside the class.\n",
    "\n",
    "- single _prefixed attributes are called private.\n",
    "- double __preficed attributes are called \"protected\""
   ]
  },
  {
   "cell_type": "markdown",
   "metadata": {},
   "source": [
    "#### Futher conventions\n",
    "- class names start with a uppercase letters\n",
    "- constant variables are uppercase: self.PI = 3.14\n",
    "- methods are snake-case "
   ]
  },
  {
   "cell_type": "markdown",
   "metadata": {},
   "source": [
    "# Vector2d to N-dim Vector"
   ]
  },
  {
   "cell_type": "code",
   "execution_count": 201,
   "metadata": {},
   "outputs": [],
   "source": [
    "# Vector2d to N-dim Vector\n",
    "\n",
    "import reprlib\n",
    "\n",
    "class Vector:\n",
    "\n",
    "    def __init__(self, components):   \n",
    "        self._components = components\n",
    "\n",
    "    def __iter__(self):\n",
    "        return iter(self._components)\n",
    "\n",
    "    def __repr__(self):        # string representation in console \n",
    "        components = reprlib.repr(self._components[:7]) # returns string in form of '[0,1,2,3,4,5, ...]\n",
    "        components = components[1:-1] + ', ' + str(self._components[7:])[1:-1]\n",
    "        return f\"Vector({components})\"\n",
    "\n",
    "    def __str__(self):\n",
    "        return str(tuple(self))\n",
    "\n",
    "    def __eq__(self, other):\n",
    "        return tuple(self) == tuple(other)\n",
    "    \n",
    "    def __abs__(self):\n",
    "        return math.hypot(*self)\n",
    "\n",
    "    def __bool__(self):\n",
    "        return bool(abs(self))\n",
    "\n",
    "    def __len__(self):\n",
    "        return len(self._components)\n",
    "\n",
    "    def __getitem__(self, index):\n",
    "        return self._components[index]"
   ]
  },
  {
   "cell_type": "markdown",
   "metadata": {},
   "source": [
    "## A slice-Aware __getitem__\n",
    "\n",
    "Slice support can be achieved by __ getitem__"
   ]
  },
  {
   "cell_type": "code",
   "execution_count": 202,
   "metadata": {},
   "outputs": [
    {
     "data": {
      "text/plain": [
       "list"
      ]
     },
     "execution_count": 202,
     "metadata": {},
     "output_type": "execute_result"
    }
   ],
   "source": [
    "v1 = Vector([*range(8)])\n",
    "len(v1)\n",
    "type(v1[2:6])"
   ]
  },
  {
   "cell_type": "markdown",
   "metadata": {},
   "source": [
    "- but the return value is of type list\n",
    "- It would be better if a slice of a vector was also a Vector instance and not a list."
   ]
  },
  {
   "cell_type": "markdown",
   "metadata": {},
   "source": [
    "But lets firat look on the built-in slice object:"
   ]
  },
  {
   "cell_type": "code",
   "execution_count": 203,
   "metadata": {},
   "outputs": [
    {
     "name": "stdout",
     "output_type": "stream",
     "text": [
      "1\n",
      "slice(1, 4, None)\n",
      "slice(1, 4, 2)\n",
      "(slice(1, 4, 2), 9)\n",
      "(slice(1, 4, 2), slice(7, 9, None))\n"
     ]
    }
   ],
   "source": [
    "class MySeq:\n",
    "    def __getitem__(self, index):\n",
    "        return index\n",
    "\n",
    "s = MySeq()\n",
    "print(s[1])\n",
    "print(s[1:4]) #slice object\n",
    "print(s[1:4:2])\n",
    "print(s[1:4:2, 9]) #Surprise: the presence of a comma returns a tuple of \n",
    "print(s[1:4:2, 7:9])"
   ]
  },
  {
   "cell_type": "markdown",
   "metadata": {},
   "source": [
    "- slice has a method called *indices* which exposes the logic that's implemented to gracefully handle missing or negative indices and slices that are longer than the original sequence."
   ]
  },
  {
   "cell_type": "code",
   "execution_count": 204,
   "metadata": {},
   "outputs": [
    {
     "data": {
      "text/plain": [
       "(0, 5, 2)"
      ]
     },
     "execution_count": 204,
     "metadata": {},
     "output_type": "execute_result"
    }
   ],
   "source": [
    "slice(None, 10, 2).indices(5)   # 'ABCDE'[:10:2] is the same as 'ABCDE'[0:5:2]"
   ]
  },
  {
   "cell_type": "code",
   "execution_count": 205,
   "metadata": {},
   "outputs": [
    {
     "data": {
      "text/plain": [
       "(2, 5, 1)"
      ]
     },
     "execution_count": 205,
     "metadata": {},
     "output_type": "execute_result"
    }
   ],
   "source": [
    "slice(-3, None, None).indices(5)  # 'ABCDE'[-3:] is the same as 'ABCDE'[2:5:1]"
   ]
  },
  {
   "cell_type": "code",
   "execution_count": 206,
   "metadata": {},
   "outputs": [],
   "source": [
    "class Vector:\n",
    "\n",
    "    def __init__(self, components):   \n",
    "        self._components = components\n",
    "\n",
    "    def __iter__(self):\n",
    "        return iter(self._components)\n",
    "\n",
    "    def __repr__(self):        # string representation in console \n",
    "        components = reprlib.repr(self._components[:7]) # returns string in form of '[0,1,2,3,4,5, ...]\n",
    "        components = components[1:-1] + ', ' + str(self._components[7:])[1:-1]\n",
    "        return f\"Vector({components})\"\n",
    "\n",
    "    def __str__(self):\n",
    "        return str(tuple(self))\n",
    "\n",
    "    def __eq__(self, other):\n",
    "        return tuple(self) == tuple(other)\n",
    "    \n",
    "    def __abs__(self):\n",
    "        return math.hypot(*self)\n",
    "\n",
    "    def __bool__(self):\n",
    "        return bool(abs(self))\n",
    "\n",
    "    def __len__(self):\n",
    "        return len(self._components)\n",
    "\n",
    "    def __getitem__(self, key):\n",
    "        print(key)\n",
    "        if isinstance(key, slice):\n",
    "            cls = type(self)\n",
    "            return cls(self._components[key])\n",
    "        else:\n",
    "            return self._components[key]"
   ]
  },
  {
   "cell_type": "code",
   "execution_count": 199,
   "metadata": {},
   "outputs": [
    {
     "name": "stdout",
     "output_type": "stream",
     "text": [
      "-1\n",
      "6\n",
      "slice(1, 4, None)\n",
      "(1, 2, 3)\n",
      "slice(-1, None, None)\n",
      "(6,)\n",
      "(1, 2)\n"
     ]
    },
    {
     "ename": "TypeError",
     "evalue": "list indices must be integers or slices, not tuple",
     "output_type": "error",
     "traceback": [
      "\u001b[0;31m---------------------------------------------------------------------------\u001b[0m",
      "\u001b[0;31mTypeError\u001b[0m                                 Traceback (most recent call last)",
      "Cell \u001b[0;32mIn [199], line 5\u001b[0m\n\u001b[1;32m      3\u001b[0m \u001b[39mprint\u001b[39m(v1[\u001b[39m1\u001b[39m:\u001b[39m4\u001b[39m])\n\u001b[1;32m      4\u001b[0m \u001b[39mprint\u001b[39m(v1[\u001b[39m-\u001b[39m\u001b[39m1\u001b[39m:])\n\u001b[0;32m----> 5\u001b[0m \u001b[39mprint\u001b[39m(v1[\u001b[39m1\u001b[39;49m,\u001b[39m2\u001b[39;49m]) \u001b[39m# Vector does not support multidimensional indexing\u001b[39;00m\n",
      "Cell \u001b[0;32mIn [189], line 35\u001b[0m, in \u001b[0;36mVector.__getitem__\u001b[0;34m(self, key)\u001b[0m\n\u001b[1;32m     33\u001b[0m     \u001b[39mreturn\u001b[39;00m \u001b[39mcls\u001b[39m(\u001b[39mself\u001b[39m\u001b[39m.\u001b[39m_components[key])\n\u001b[1;32m     34\u001b[0m \u001b[39melse\u001b[39;00m:\n\u001b[0;32m---> 35\u001b[0m     \u001b[39mreturn\u001b[39;00m \u001b[39mself\u001b[39;49m\u001b[39m.\u001b[39;49m_components[key]\n",
      "\u001b[0;31mTypeError\u001b[0m: list indices must be integers or slices, not tuple"
     ]
    }
   ],
   "source": [
    "v1 = Vector([*range(7)])\n",
    "print(v1[-1])\n",
    "print(v1[1:4])\n",
    "print(v1[-1:])\n",
    "print(v1[1,2]) # Vector does not support multidimensional indexing"
   ]
  },
  {
   "cell_type": "markdown",
   "metadata": {},
   "source": [
    "# Hashing\n",
    "\n",
    "Now we may be dealing with thousand of components, so building a tuple may be too costly.\n",
    "Instead, I will apply the ^ (xor) to the hashes of every components in succession: v[0] ^ v[1] ^ v[2]"
   ]
  },
  {
   "cell_type": "code",
   "execution_count": 221,
   "metadata": {},
   "outputs": [],
   "source": [
    "import functools\n",
    "import operator\n",
    "class Vector:\n",
    "\n",
    "    def __init__(self, components):   \n",
    "        self._components = components\n",
    "\n",
    "    def __iter__(self):\n",
    "        return iter(self._components)\n",
    "\n",
    "    def __repr__(self):        # string representation in console \n",
    "        components = reprlib.repr(self._components[:7]) # returns string in form of '[0,1,2,3,4,5, ...]\n",
    "        components = components[1:-1] + ', ' + str(self._components[7:])[1:-1]\n",
    "        return f\"Vector({components})\"\n",
    "\n",
    "    def __str__(self):\n",
    "        return str(tuple(self))\n",
    "\n",
    "    def __eq__(self, other):\n",
    "        # return tuple(self) == tuple(other)\n",
    "        if len(self) != len(other):\n",
    "            return False\n",
    "        for a,b in zip(self, other):\n",
    "            if a != b:\n",
    "                return False\n",
    "        return True\n",
    "\n",
    "    def __hash__(self):\n",
    "        hashes = map(hash, self._components)\n",
    "        # return functools.reduce(lambda acc, cur: acc ^ cur, hashes, 0)\n",
    "        return functools.reduce(operator.xor, hashes, 0)\n",
    "    \n",
    "    def __abs__(self):\n",
    "        return math.hypot(*self)\n",
    "\n",
    "    def __bool__(self):\n",
    "        return bool(abs(self))\n",
    "\n",
    "    def __len__(self):\n",
    "        return len(self._components)\n",
    "\n",
    "    def __getitem__(self, key):\n",
    "        print(key)\n",
    "        if isinstance(key, slice):\n",
    "            cls = type(self)\n",
    "            return cls(self._components[key])\n",
    "        else:\n",
    "            return self._components[key]\n",
    "\n",
    "    "
   ]
  },
  {
   "cell_type": "code",
   "execution_count": 222,
   "metadata": {},
   "outputs": [
    {
     "name": "stdout",
     "output_type": "stream",
     "text": [
      "True\n",
      "8\n",
      "8\n"
     ]
    }
   ],
   "source": [
    "v1 = Vector([*range(9)])\n",
    "v2 = Vector([*range(9)])\n",
    "print(v1 == v2)\n",
    "print(hash(v1))\n",
    "print(hash(v2))"
   ]
  },
  {
   "cell_type": "markdown",
   "metadata": {},
   "source": [
    "# Inheritance\n",
    "\n",
    "As of 2021, there is a significant backlash against overuse of inheritance in general, because superclasses and subclasses are tightly coupled.\n",
    "Tight coupling means that changes to one part of the programm may have unexpected and far-reaching effectsin other parts, making systems brittle and hard to understand.\n",
    "\n",
    "However, we may have to use frameworks that forces us to use inheritance sometimes. There are partical uses of multiple inheritance with the standard library and the Django web framework.\n",
    "\n",
    "- super()\n",
    "- pitfalls of subclassing and methods of built-in types\n",
    "- multiple inheritance"
   ]
  },
  {
   "cell_type": "code",
   "execution_count": null,
   "metadata": {},
   "outputs": [],
   "source": [
    "class DerivedClassName(BaseClassName):\n",
    "    <statement-1>\n",
    "    .\n",
    "    .\n",
    "    .\n",
    "    <statement-N>"
   ]
  },
  {
   "cell_type": "markdown",
   "metadata": {},
   "source": [
    "- When the class object is constructed, the base class is remembered. \n",
    "- if a requested attribute is not found in the class, the search proceeds to look in the base class.\n",
    "- Derived classes may override methods of their base classes. \n",
    "- An overriding method in a derived class may in fact want to extend rather than simply replace the base class method of the same name.\n",
    "\n",
    "Let’s immediately consider an example of inheritance in action:"
   ]
  },
  {
   "cell_type": "code",
   "execution_count": 30,
   "metadata": {},
   "outputs": [],
   "source": [
    "class Rectangle:\n",
    "    \"\"\" A class of Python object that describes the properties of a rectangle\"\"\"\n",
    "    def __init__(self, width, height, center=(0, 0)):\n",
    "        self.width = width\n",
    "        self.height = height\n",
    "        self.center = center\n",
    "\n",
    "    def __repr__(self):\n",
    "        return \"Rectangle(width={w}, height={h}, center={c})\".format(h=self.height,\n",
    "                                                                     w=self.width,\n",
    "                                                                     c=self.center)\n",
    "\n",
    "    def compute_area(self):\n",
    "        return self.width * self.height"
   ]
  },
  {
   "cell_type": "markdown",
   "metadata": {},
   "source": [
    "Now suppose that we also want to write a Square class, such that only a single side length need be specified to determine its size. "
   ]
  },
  {
   "cell_type": "code",
   "execution_count": 31,
   "metadata": {},
   "outputs": [],
   "source": [
    "# Creating Square, a subclass of Rectangle\n",
    "class Square(Rectangle):\n",
    "    def __init__(self, side, center=(0, 0)):\n",
    "        # equivalent to `Rectangle.__init__(self, side, side, center)`\n",
    "        super().__init__(side, side, center)"
   ]
  },
  {
   "cell_type": "code",
   "execution_count": 32,
   "metadata": {},
   "outputs": [
    {
     "data": {
      "text/plain": [
       "4"
      ]
     },
     "execution_count": 32,
     "metadata": {},
     "output_type": "execute_result"
    }
   ],
   "source": [
    "my_square = Square(2)\n",
    "my_square.compute_area()"
   ]
  },
  {
   "cell_type": "code",
   "execution_count": 33,
   "metadata": {},
   "outputs": [
    {
     "data": {
      "text/plain": [
       "Rectangle(width=2, height=2, center=(0, 0))"
      ]
     },
     "execution_count": 33,
     "metadata": {},
     "output_type": "execute_result"
    }
   ],
   "source": [
    "my_square # a square is a rectangle with equal height/width"
   ]
  },
  {
   "cell_type": "markdown",
   "metadata": {},
   "source": [
    "## The super() Function\n",
    "\n",
    "To override a method of a superclass, the overriding method needs to call the **corresponding method** of the superclass."
   ]
  },
  {
   "cell_type": "code",
   "execution_count": 240,
   "metadata": {},
   "outputs": [
    {
     "data": {
      "text/plain": [
       "OrderedDict([('a', 'bla'), ('b', 2), ('c', 3)])"
      ]
     },
     "execution_count": 240,
     "metadata": {},
     "output_type": "execute_result"
    }
   ],
   "source": [
    "from collections import OrderedDict\n",
    "d = OrderedDict({'a':1, 'c':3, 'b':2})\n",
    "# d.move_to_end('c', last=False)\n",
    "d.move_to_end('c')\n",
    "d['a'] = 'bla'\n",
    "d\n"
   ]
  },
  {
   "cell_type": "markdown",
   "metadata": {},
   "source": [
    "Suppose you want after each update move the Key to the end of the dictionary"
   ]
  },
  {
   "cell_type": "code",
   "execution_count": 244,
   "metadata": {},
   "outputs": [
    {
     "data": {
      "text/plain": [
       "LastUpdatedOrderedDict([('c', 3), ('b', 2), ('a', 'bla')])"
      ]
     },
     "execution_count": 244,
     "metadata": {},
     "output_type": "execute_result"
    }
   ],
   "source": [
    "class LastUpdatedOrderedDict(OrderedDict):\n",
    "    'Store items in the order the keys were last updated'\n",
    "\n",
    "    def __setitem__(self, key, value):\n",
    "        super().__setitem__(key, value) # calls the __setitem__ on the superclass\n",
    "        # OrderedDict.__setitem__(self, key, value) # NOT RECOMMENDED! 1. super class is hardcoded \n",
    "        # 2. super() implements logic to handle class hierarchies with multiple inheritance \n",
    "\n",
    "        self.move_to_end(key) # ensure the updated key is in the last position\n",
    "\n",
    "d = LastUpdatedOrderedDict({'a':1, 'c':3, 'b':2})\n",
    "d['a'] = 'bla'\n",
    "d"
   ]
  },
  {
   "cell_type": "markdown",
   "metadata": {},
   "source": [
    "it is useful to review how we had to call it in python 2, because the old signature with two arguments is revealing: \n",
    "\n",
    "\n",
    "(A function signature (or type signature, or method signature) defines input and output of functions or methods)"
   ]
  },
  {
   "cell_type": "code",
   "execution_count": 245,
   "metadata": {},
   "outputs": [],
   "source": [
    "class LastUpdatedOrderedDict(OrderedDict):\n",
    "    'Store items in the order the keys were last updated'\n",
    "\n",
    "    def __setitem__(self, key, value):\n",
    "        super(LastUpdatedOrderedDict, self).__setitem__(key, value) \n",
    "        self.move_to_end(key) \n"
   ]
  },
  {
   "cell_type": "markdown",
   "metadata": {},
   "source": [
    "Both arguments are optinal."
   ]
  },
  {
   "cell_type": "markdown",
   "metadata": {},
   "source": [
    "Invoking an overridden __ init__ method is particularly important to allow superclasses to do their part in initializing the instance."
   ]
  },
  {
   "cell_type": "code",
   "execution_count": null,
   "metadata": {},
   "outputs": [],
   "source": [
    "class SubClass(SuperClass):\n",
    "    def __init__(self, a, b) -> None:\n",
    "        super().__init__(a,b)"
   ]
  },
  {
   "attachments": {
    "image-2.png": {
     "image/png": "[encoded data removed]"
    }
   },
   "cell_type": "markdown",
   "metadata": {},
   "source": [
    "## Multiple Inheritance\n",
    "\n",
    "Any language implementing multiple inheritance needs to deal with potential naming conflicts when superclasses implement a method by the same name.\n",
    "This is called the *\"diamond problem\"*:\n",
    "\n",
    "<div style=\"text-align: center;\">\n",
    "\n",
    "![image.png](attachment:image-2.png)\n",
    "\n",
    "*Activation sequence for leaf1.ping()*\n",
    "</div>\n",
    "\n"
   ]
  },
  {
   "cell_type": "code",
   "execution_count": 270,
   "metadata": {},
   "outputs": [
    {
     "name": "stdout",
     "output_type": "stream",
     "text": [
      "(<class '__main__.Leaf'>, <class '__main__.A'>, <class '__main__.B'>, <class '__main__.Root'>, <class 'object'>)\n",
      "INSTANCE of Leaf.ping() in Leaf\n",
      "INSTANCE of Leaf.ping() in A\n",
      "INSTANCE of Leaf.ping() in B\n",
      "INSTANCE of Leaf.ping() in ROOT\n"
     ]
    }
   ],
   "source": [
    "class Root:\n",
    "    def ping(self):\n",
    "        print(f\"{self}.ping() in ROOT\")\n",
    "\n",
    "    def pong(self):\n",
    "        print(f\"{self}.pong() in ROOT\")\n",
    "\n",
    "    def __repr__(self):\n",
    "        return f\"INSTANCE of {type(self).__name__}\"\n",
    "\n",
    "class A(Root):\n",
    "    def ping(self):\n",
    "        print(f\"{self}.ping() in A\")\n",
    "        super().ping()\n",
    "\n",
    "    def pong(self):\n",
    "        print(f\"{self}.pong() in A\")\n",
    "        super().pong()\n",
    "\n",
    "    def __repr__(self):\n",
    "        return f\"INSTANCE of {type(self).__name__}\"\n",
    "\n",
    "class B(Root):\n",
    "    def ping(self):\n",
    "        print(f\"{self}.ping() in B\")\n",
    "        super().ping()\n",
    "\n",
    "    def pong(self):\n",
    "        print(f\"{self}.pong() in B\")\n",
    "\n",
    "    def __repr__(self):\n",
    "        return f\"INSTANCE of {type(self).__name__}\"\n",
    "\n",
    "\n",
    "class Leaf(A,B):\n",
    "    def ping(self):\n",
    "        print(f\"{self}.ping() in Leaf\")\n",
    "        super().ping()\n",
    "\n",
    "\n",
    "print(Leaf.__mro__)\n",
    "\n",
    "leaf = Leaf()\n",
    "leaf.ping()\n"
   ]
  },
  {
   "attachments": {
    "image.png": {
     "image/png": "[encoded data removed]"
    }
   },
   "cell_type": "markdown",
   "metadata": {},
   "source": [
    "\n",
    "\n",
    "<div style=\"text-align: center;\">\n",
    "\n",
    "![image.png](attachment:image.png)\n",
    "\n",
    "*Activation sequence for leaf1.pong()*\n",
    "</div>\n"
   ]
  },
  {
   "cell_type": "code",
   "execution_count": 271,
   "metadata": {},
   "outputs": [
    {
     "name": "stdout",
     "output_type": "stream",
     "text": [
      "\n",
      "INSTANCE of Leaf.pong() in A\n",
      "INSTANCE of Leaf.pong() in B\n"
     ]
    }
   ],
   "source": [
    "print()\n",
    "leaf.pong()"
   ]
  },
  {
   "cell_type": "markdown",
   "metadata": {},
   "source": [
    "The activation sequence are determined by two factors:\n",
    "- The method resolution order of the Leaf class.\n",
    "- The use of super() in each method.\n",
    "\n",
    "The __ mro__ attributes holds a tuple of references to the superclasses in method resolution order, from the current class all the way to the object class.\n",
    "- The MRO is computed by a algorithm called C3. \n",
    "- The MRO only determines the activation order, but weather a particular method will be activated in each of the classes depends on weather each implementation calls super() or not.\n"
   ]
  },
  {
   "cell_type": "code",
   "execution_count": 272,
   "metadata": {},
   "outputs": [
    {
     "name": "stdout",
     "output_type": "stream",
     "text": [
      "(<class '__main__.Leaf'>, <class '__main__.B'>, <class '__main__.A'>, <class '__main__.Root'>, <class 'object'>)\n",
      "\n",
      "INSTANCE of Leaf.pong() in B\n"
     ]
    }
   ],
   "source": [
    "class Leaf(B,A):\n",
    "    def ping(self):\n",
    "        print(f\"{self}.ping() in Leaf\")\n",
    "        super().ping()\n",
    "\n",
    "\n",
    "print(Leaf.__mro__)\n",
    "\n",
    "leaf = Leaf()\n",
    "print()\n",
    "leaf.pong()"
   ]
  },
  {
   "cell_type": "markdown",
   "metadata": {},
   "source": [
    "The MRO takes the order in which superclasses are listed in a subclass declaration into account.\n",
    "- Therefore, for Leaf(B,A) class B appears before  class A.\n",
    "- B.pong() would be activated, but A and Root would never run, because B.pong doesn't call super().\n",
    "\n",
    "- When a method calls super(), it is a *cooperative method*.\n",
    "- Cooperative methods enable *cooperative multiple inheritance*.\n",
    "- In order to work, multiple inheritance in Python requires the active cooperation of the methods involved.\n",
    "- In the B class, ping cooperates, but pong does not.\n",
    "- A noncooperative method can cause subtle bugs. Many coders may expect that when A.pong calls super().pong(), that will ultimately activate Root.pong().\n",
    "- Because B.pong() is activated before Root.pong() and does not call super().pong() Root.pong() will never be called.\n",
    "- Therefore, it is recommended that every method *m* of a nonroot class should call super().m(). "
   ]
  },
  {
   "cell_type": "markdown",
   "metadata": {},
   "source": [
    "The interaction of super with the MRO is dynamic. The following example shows a surprising result of this dynamic behavior:"
   ]
  },
  {
   "cell_type": "code",
   "execution_count": 278,
   "metadata": {},
   "outputs": [
    {
     "name": "stdout",
     "output_type": "stream",
     "text": [
      "(<class '__main__.U'>, <class 'object'>)\n",
      "U.ping in U\n"
     ]
    },
    {
     "ename": "AttributeError",
     "evalue": "'super' object has no attribute 'ping'",
     "output_type": "error",
     "traceback": [
      "\u001b[0;31m---------------------------------------------------------------------------\u001b[0m",
      "\u001b[0;31mAttributeError\u001b[0m                            Traceback (most recent call last)",
      "Cell \u001b[0;32mIn [278], line 17\u001b[0m\n\u001b[1;32m     15\u001b[0m \u001b[39mprint\u001b[39m(U\u001b[39m.\u001b[39m\u001b[39m__mro__\u001b[39m)\n\u001b[1;32m     16\u001b[0m u \u001b[39m=\u001b[39m U()\n\u001b[0;32m---> 17\u001b[0m u\u001b[39m.\u001b[39;49mping()\n\u001b[1;32m     19\u001b[0m leaf2 \u001b[39m=\u001b[39m LeafUA()\n\u001b[1;32m     20\u001b[0m leaf2\u001b[39m.\u001b[39mping()\n",
      "Cell \u001b[0;32mIn [278], line 4\u001b[0m, in \u001b[0;36mU.ping\u001b[0;34m(self)\u001b[0m\n\u001b[1;32m      2\u001b[0m \u001b[39mdef\u001b[39;00m \u001b[39mping\u001b[39m(\u001b[39mself\u001b[39m):\n\u001b[1;32m      3\u001b[0m     \u001b[39mprint\u001b[39m(\u001b[39mf\u001b[39m\u001b[39m'\u001b[39m\u001b[39m{\u001b[39;00m\u001b[39mself\u001b[39m\u001b[39m}\u001b[39;00m\u001b[39m.ping in U\u001b[39m\u001b[39m'\u001b[39m)\n\u001b[0;32m----> 4\u001b[0m     \u001b[39msuper\u001b[39;49m()\u001b[39m.\u001b[39;49mping()\n",
      "\u001b[0;31mAttributeError\u001b[0m: 'super' object has no attribute 'ping'"
     ]
    }
   ],
   "source": [
    "class U():\n",
    "    def ping(self):\n",
    "        print(f'{self}.ping in U')\n",
    "        super().ping()\n",
    "\n",
    "    def __repr__(self) -> str:\n",
    "        return f\"{type(self).__name__}\"\n",
    "\n",
    "class LeafUA(A, U):\n",
    "    def ping(self):\n",
    "        print(f'{self}.ping in LeafUA')\n",
    "        super().ping()\n",
    "\n",
    "# print(LeafUA.__mro__)\n",
    "print(U.__mro__)\n",
    "u = U()\n",
    "u.ping()\n",
    "\n",
    "leaf2 = LeafUA()\n",
    "leaf2.ping()"
   ]
  },
  {
   "cell_type": "markdown",
   "metadata": {},
   "source": [
    "The MRO has two classes: U and object. Object has no ping method."
   ]
  },
  {
   "cell_type": "code",
   "execution_count": 279,
   "metadata": {},
   "outputs": [
    {
     "name": "stdout",
     "output_type": "stream",
     "text": [
      "(<class '__main__.LeafUA'>, <class '__main__.A'>, <class '__main__.Root'>, <class '__main__.U'>, <class 'object'>)\n",
      "INSTANCE of LeafUA.ping in LeafUA\n",
      "INSTANCE of LeafUA.ping() in A\n",
      "INSTANCE of LeafUA.ping() in ROOT\n"
     ]
    }
   ],
   "source": [
    "print(LeafUA.__mro__)\n",
    "leaf2 = LeafUA()\n",
    "leaf2.ping()"
   ]
  },
  {
   "cell_type": "markdown",
   "metadata": {},
   "source": [
    "The super.ping() call in LeafUA activates U.ping, which cooperates by calling super().ping() too, activating A.ping, and eventually Root.ping.\n",
    "\n",
    "In a real program, a class like U  could be a *mixin*: a class intended to be used together with other classes in multiple inheritance, to provide additional functionality."
   ]
  },
  {
   "cell_type": "markdown",
   "metadata": {},
   "source": [
    "## Mixin Classes\n",
    "\n",
    "A mixin class is designed to be subclassed together with at least one other class in multiple inheritance arrangement.\n",
    "\n",
    "- mixin classes are a convention with no explicit language support in Python."
   ]
  },
  {
   "cell_type": "code",
   "execution_count": 47,
   "metadata": {},
   "outputs": [
    {
     "name": "stdout",
     "output_type": "stream",
     "text": [
      "{'a': 1, 'b': 2} Hello world\n",
      "ReprCounter({'a': 3, 'n': 2, 'B': 1}) Hello world\n"
     ]
    }
   ],
   "source": [
    "class ReprMixin:\n",
    "    def __repr__(self) -> str:\n",
    "        return f\"{super().__repr__()} Hello world\"\n",
    "\n",
    "import collections\n",
    "\n",
    "class ReprDict(ReprMixin, collections.UserDict):\n",
    "    pass\n",
    "\n",
    "class ReprCounter(ReprMixin, collections.Counter):\n",
    "    pass\n",
    "\n",
    "d = ReprDict({'a':1, 'b':2})\n",
    "c = ReprCounter('Banana')\n",
    "print(d)\n",
    "print(c)"
   ]
  },
  {
   "cell_type": "markdown",
   "metadata": {},
   "source": [
    "To make it contribute, a mixin usually needs to appear before other classes in the MRO of a subclass that uses it."
   ]
  },
  {
   "cell_type": "markdown",
   "metadata": {},
   "source": [
    "# SOLVE TRANSPORT OFFICE ASSIGNMENT"
   ]
  }
 ],
 "metadata": {
  "kernelspec": {
   "display_name": "Python 3 (ipykernel)",
   "language": "python",
   "name": "python3"
  },
  "language_info": {
   "codemirror_mode": {
    "name": "ipython",
    "version": 3
   },
   "file_extension": ".py",
   "mimetype": "text/x-python",
   "name": "python",
   "nbconvert_exporter": "python",
   "pygments_lexer": "ipython3",
   "version": "3.10.9"
  },
  "vscode": {
   "interpreter": {
    "hash": "97cc609b13305c559618ec78a438abc56230b9381f827f22d070313b9a1f3777"
   }
  }
 },
 "nbformat": 4,
 "nbformat_minor": 2
}
