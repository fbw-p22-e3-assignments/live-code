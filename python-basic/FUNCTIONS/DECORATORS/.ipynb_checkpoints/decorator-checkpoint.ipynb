{
 "cells": [
  {
   "cell_type": "markdown",
   "id": "0f31d4a2",
   "metadata": {},
   "source": [
    "# Decorators and Closures\n",
    "\n",
    "- let us mark functions\n",
    "- enhances behavior of functions\n",
    "\n",
    "We also need to understand closures before we can master decorators:\n",
    "\n",
    "- How Python decides wheather a variable is local\n",
    "- Why closures exist and how they work\n",
    "\n",
    "A decorator is a function that takes another function as argument.\n",
    "\n",
    "A decorator may perform some processing with the decorated Function and returns \n",
    "it or replaced it with another fnction object.\n",
    "\n",
    "The following code:"
   ]
  },
  {
   "cell_type": "code",
   "execution_count": 8,
   "id": "1f58eafd",
   "metadata": {},
   "outputs": [],
   "source": [
    "def decorate(func):\n",
    "    func()\n",
    "    def inner():\n",
    "        print('running inner()')\n",
    "    return inner   # returns its inner function object"
   ]
  },
  {
   "cell_type": "code",
   "execution_count": 9,
   "id": "154260c8",
   "metadata": {},
   "outputs": [
    {
     "name": "stdout",
     "output_type": "stream",
     "text": [
      "running target()\n",
      "running inner()\n"
     ]
    }
   ],
   "source": [
    "@decorate #target is decorated\n",
    "def target():\n",
    "    print('running target()')\n",
    "    \n",
    "target() # invoking the decorated target actually runs inner"
   ]
  },
  {
   "cell_type": "markdown",
   "id": "93d77155",
   "metadata": {},
   "source": [
    "has the same effect as writing this:"
   ]
  },
  {
   "cell_type": "code",
   "execution_count": 11,
   "id": "5aa416b0",
   "metadata": {},
   "outputs": [
    {
     "name": "stdout",
     "output_type": "stream",
     "text": [
      "running target()\n",
      "running inner()\n"
     ]
    }
   ],
   "source": [
    "def target():\n",
    "    print('running target()')\n",
    "    \n",
    "target = decorate(target)\n",
    "target()"
   ]
  },
  {
   "cell_type": "markdown",
   "id": "921cb2cd",
   "metadata": {},
   "source": [
    "Strictly speaking decorators are just syntactic sugar.\n",
    "\n",
    "- decorators are functions\n",
    "\n",
    "\n"
   ]
  },
  {
   "cell_type": "markdown",
   "id": "66392009",
   "metadata": {},
   "source": [
    "Decorators usually define an inner function and return  it to replace the decorated function. \n",
    "Code that uses inner functions almost always depends on closures.\n",
    "\n",
    "To understand closures , we need to take a step back and review how variable scopes work in Python: "
   ]
  },
  {
   "cell_type": "code",
   "execution_count": 12,
   "id": "1f37905e",
   "metadata": {},
   "outputs": [
    {
     "name": "stdout",
     "output_type": "stream",
     "text": [
      "3\n"
     ]
    },
    {
     "ename": "NameError",
     "evalue": "name 'b' is not defined",
     "output_type": "error",
     "traceback": [
      "\u001b[0;31m---------------------------------------------------------------------------\u001b[0m",
      "\u001b[0;31mNameError\u001b[0m                                 Traceback (most recent call last)",
      "Cell \u001b[0;32mIn [12], line 5\u001b[0m\n\u001b[1;32m      2\u001b[0m     \u001b[38;5;28mprint\u001b[39m(a)\n\u001b[1;32m      3\u001b[0m     \u001b[38;5;28mprint\u001b[39m(b)\n\u001b[0;32m----> 5\u001b[0m \u001b[43mf1\u001b[49m\u001b[43m(\u001b[49m\u001b[38;5;241;43m3\u001b[39;49m\u001b[43m)\u001b[49m\n",
      "Cell \u001b[0;32mIn [12], line 3\u001b[0m, in \u001b[0;36mf1\u001b[0;34m(a)\u001b[0m\n\u001b[1;32m      1\u001b[0m \u001b[38;5;28;01mdef\u001b[39;00m \u001b[38;5;21mf1\u001b[39m(a):\n\u001b[1;32m      2\u001b[0m     \u001b[38;5;28mprint\u001b[39m(a)\n\u001b[0;32m----> 3\u001b[0m     \u001b[38;5;28mprint\u001b[39m(\u001b[43mb\u001b[49m)\n",
      "\u001b[0;31mNameError\u001b[0m: name 'b' is not defined"
     ]
    }
   ],
   "source": [
    "def f1(a):\n",
    "    print(a)\n",
    "    print(b)\n",
    "    \n",
    "f1(3)"
   ]
  },
  {
   "cell_type": "markdown",
   "id": "b2335e16",
   "metadata": {},
   "source": [
    "Since b is global and not defined a NameError was raised.\n"
   ]
  },
  {
   "cell_type": "code",
   "execution_count": 13,
   "id": "47f9a193",
   "metadata": {},
   "outputs": [
    {
     "name": "stdout",
     "output_type": "stream",
     "text": [
      "3\n",
      "6\n"
     ]
    }
   ],
   "source": [
    "b = 6\n",
    "f1(3)"
   ]
  },
  {
   "cell_type": "markdown",
   "id": "031916e2",
   "metadata": {},
   "source": [
    "Now let's see an example that may surprise you:\n"
   ]
  },
  {
   "cell_type": "code",
   "execution_count": 16,
   "id": "facb0516",
   "metadata": {},
   "outputs": [
    {
     "name": "stdout",
     "output_type": "stream",
     "text": [
      "3\n"
     ]
    },
    {
     "ename": "UnboundLocalError",
     "evalue": "local variable 'b' referenced before assignment",
     "output_type": "error",
     "traceback": [
      "\u001b[0;31m---------------------------------------------------------------------------\u001b[0m",
      "\u001b[0;31mUnboundLocalError\u001b[0m                         Traceback (most recent call last)",
      "Cell \u001b[0;32mIn [16], line 6\u001b[0m\n\u001b[1;32m      4\u001b[0m     \u001b[38;5;28mprint\u001b[39m(b)\n\u001b[1;32m      5\u001b[0m     b \u001b[38;5;241m=\u001b[39m \u001b[38;5;241m9\u001b[39m\n\u001b[0;32m----> 6\u001b[0m \u001b[43mf2\u001b[49m\u001b[43m(\u001b[49m\u001b[38;5;241;43m3\u001b[39;49m\u001b[43m)\u001b[49m\n",
      "Cell \u001b[0;32mIn [16], line 4\u001b[0m, in \u001b[0;36mf2\u001b[0;34m(a)\u001b[0m\n\u001b[1;32m      2\u001b[0m \u001b[38;5;28;01mdef\u001b[39;00m \u001b[38;5;21mf2\u001b[39m(a):\n\u001b[1;32m      3\u001b[0m     \u001b[38;5;28mprint\u001b[39m(a)\n\u001b[0;32m----> 4\u001b[0m     \u001b[38;5;28mprint\u001b[39m(\u001b[43mb\u001b[49m)\n\u001b[1;32m      5\u001b[0m     b \u001b[38;5;241m=\u001b[39m \u001b[38;5;241m9\u001b[39m\n",
      "\u001b[0;31mUnboundLocalError\u001b[0m: local variable 'b' referenced before assignment"
     ]
    }
   ],
   "source": [
    "b = 6\n",
    "def f2(a):\n",
    "    print(a)\n",
    "    print(b)    #this statement never runs\n",
    "    b = 9\n",
    "f2(3)"
   ]
  },
  {
   "cell_type": "markdown",
   "id": "8688818b",
   "metadata": {},
   "source": [
    "When Python compiles the body of the function , it decides that b is a local variable because it is assigned within the function. \n",
    "\n",
    "Python does not require you to declare variables, but assumes that a variable assigned in the body of a function \n",
    "is local. \n",
    "\n",
    "If we want the interpreter to treat b here as a global variable, we use the global declaration:"
   ]
  },
  {
   "cell_type": "code",
   "execution_count": 17,
   "id": "21290200",
   "metadata": {},
   "outputs": [
    {
     "name": "stdout",
     "output_type": "stream",
     "text": [
      "3\n",
      "6\n"
     ]
    }
   ],
   "source": [
    "b = 6\n",
    "def f2(a):\n",
    "    global b\n",
    "    print(a)\n",
    "    print(b)    #this statement never runs\n",
    "    b = 9\n",
    "f2(3)"
   ]
  },
  {
   "cell_type": "markdown",
   "id": "f0f9723d",
   "metadata": {},
   "source": [
    "We have seen two  scopes in action:\n",
    "\n",
    "*The module global scope*\n",
    "    Made of names assigned to values outside of any class or function block.\n",
    "    \n",
    "*The f3 function local scope*\n",
    "    Made of names assigned to values as parameters, or directly in the body of the function."
   ]
  },
  {
   "cell_type": "markdown",
   "id": "1842e33c",
   "metadata": {},
   "source": [
    "## Closures\n",
    "\n",
    "A closure is a function *f* with an extended scope that includes variables referenced in the body of *f* that are not global or local variables of *f*. \n",
    "\n",
    "It can access nonglobal variables defined outside funtions *f* body.\n",
    "\n",
    "Consider an *avg* function that computes the mean of an continuously growing series of values.\n"
   ]
  },
  {
   "cell_type": "code",
   "execution_count": 18,
   "id": "c68d8272",
   "metadata": {},
   "outputs": [],
   "source": [
    "def make_averager():\n",
    "    series = []\n",
    "    \n",
    "    def averager(new_value):\n",
    "        series.append(new_value)\n",
    "        total = sum(series)\n",
    "        return total/len(series)\n",
    "    \n",
    "    return averager"
   ]
  },
  {
   "cell_type": "markdown",
   "id": "43cd9740",
   "metadata": {},
   "source": [
    "When invoked, *make_average* returns an *average* function object."
   ]
  },
  {
   "cell_type": "code",
   "execution_count": 19,
   "id": "bbfa7180",
   "metadata": {},
   "outputs": [
    {
     "data": {
      "text/plain": [
       "10.0"
      ]
     },
     "execution_count": 19,
     "metadata": {},
     "output_type": "execute_result"
    }
   ],
   "source": [
    "avg = make_averager()\n",
    "avg(10)"
   ]
  },
  {
   "cell_type": "code",
   "execution_count": 20,
   "id": "a159a600",
   "metadata": {},
   "outputs": [
    {
     "data": {
      "text/plain": [
       "10.5"
      ]
     },
     "execution_count": 20,
     "metadata": {},
     "output_type": "execute_result"
    }
   ],
   "source": [
    "avg(11)"
   ]
  },
  {
   "cell_type": "code",
   "execution_count": 21,
   "id": "bffde895",
   "metadata": {},
   "outputs": [
    {
     "data": {
      "text/plain": [
       "12.0"
      ]
     },
     "execution_count": 21,
     "metadata": {},
     "output_type": "execute_result"
    }
   ],
   "source": [
    "avg(15)"
   ]
  },
  {
   "cell_type": "markdown",
   "id": "362a21d1",
   "metadata": {},
   "source": [
    "Where does the *avg* function find the series? \n",
    "\n",
    "Note that **series** is a local variable of *make_averager* because the assignment **series** = [] happens in the body of that function. But when *avg(10)* is called, *make_averager* has already returned, and its local scope is long gone.\n",
    "\n",
    "Within *averager*, **series** is a *free variable*."
   ]
  },
  {
   "cell_type": "markdown",
   "id": "8daa9814",
   "metadata": {},
   "source": [
    "![closure](free_var.png)\n",
    "Figure 1. *The closure of the average extends the scope of that function to include the binding for the free variable series.*"
   ]
  },
  {
   "cell_type": "markdown",
   "id": "c86c0ad7",
   "metadata": {},
   "source": [
    "We can the return function that we called *avg* by looking at the __ code__ attribute. __ code__ represents the compiled body of the function."
   ]
  },
  {
   "cell_type": "code",
   "execution_count": 23,
   "id": "0fbdcf7a",
   "metadata": {},
   "outputs": [
    {
     "data": {
      "text/plain": [
       "('new_value', 'total')"
      ]
     },
     "execution_count": 23,
     "metadata": {},
     "output_type": "execute_result"
    }
   ],
   "source": [
    "avg.__code__.co_varnames"
   ]
  },
  {
   "cell_type": "code",
   "execution_count": 24,
   "id": "5f6cea65",
   "metadata": {},
   "outputs": [
    {
     "data": {
      "text/plain": [
       "('series',)"
      ]
     },
     "execution_count": 24,
     "metadata": {},
     "output_type": "execute_result"
    }
   ],
   "source": [
    "avg.__code__.co_freevars"
   ]
  },
  {
   "cell_type": "code",
   "execution_count": 25,
   "id": "e26dd7b9",
   "metadata": {},
   "outputs": [
    {
     "data": {
      "text/plain": [
       "(<cell at 0x7f652cfa8ee0: list object at 0x7f652cea5100>,)"
      ]
     },
     "execution_count": 25,
     "metadata": {},
     "output_type": "execute_result"
    }
   ],
   "source": [
    "avg.__closure__"
   ]
  },
  {
   "cell_type": "code",
   "execution_count": 27,
   "id": "07f0657d",
   "metadata": {},
   "outputs": [
    {
     "data": {
      "text/plain": [
       "[10, 11, 15]"
      ]
     },
     "execution_count": 27,
     "metadata": {},
     "output_type": "execute_result"
    }
   ],
   "source": [
    "avg.__closure__[0].cell_contents"
   ]
  },
  {
   "cell_type": "markdown",
   "id": "0d7e0f36",
   "metadata": {},
   "source": [
    "The body of a function is evaluated in the environment where the function is defined, not the environment\n",
    "where the function is called. [lexical scope](https://courses.cs.washington.edu/courses/cse341/17au/unit3notes.pdf)\n",
    "The scope where a object was defined we also call *lexical* scope.\n",
    "\n",
    "A closure is a function that retains the bindings of the free variables that exists when the function is defined, so that they can be used later when the function is invoked and the defining scope is no longer available.\n",
    "    "
   ]
  },
  {
   "cell_type": "markdown",
   "id": "633ef0ca",
   "metadata": {},
   "source": [
    "Let's try to make *make_averager* more efficient:"
   ]
  },
  {
   "cell_type": "code",
   "execution_count": 37,
   "id": "f9cea58a",
   "metadata": {},
   "outputs": [
    {
     "ename": "UnboundLocalError",
     "evalue": "local variable 'count' referenced before assignment",
     "output_type": "error",
     "traceback": [
      "\u001b[0;31m---------------------------------------------------------------------------\u001b[0m",
      "\u001b[0;31mUnboundLocalError\u001b[0m                         Traceback (most recent call last)",
      "Cell \u001b[0;32mIn [37], line 13\u001b[0m\n\u001b[1;32m     10\u001b[0m     \u001b[38;5;28;01mreturn\u001b[39;00m averager\n\u001b[1;32m     12\u001b[0m avg \u001b[38;5;241m=\u001b[39m make_averager()\n\u001b[0;32m---> 13\u001b[0m \u001b[43mavg\u001b[49m\u001b[43m(\u001b[49m\u001b[38;5;241;43m10\u001b[39;49m\u001b[43m)\u001b[49m\n",
      "Cell \u001b[0;32mIn [37], line 6\u001b[0m, in \u001b[0;36mmake_averager.<locals>.averager\u001b[0;34m(new_value)\u001b[0m\n\u001b[1;32m      5\u001b[0m \u001b[38;5;28;01mdef\u001b[39;00m \u001b[38;5;21maverager\u001b[39m(new_value):\n\u001b[0;32m----> 6\u001b[0m     count \u001b[38;5;241m+\u001b[39m\u001b[38;5;241m=\u001b[39m \u001b[38;5;241m1\u001b[39m\n\u001b[1;32m      7\u001b[0m     total \u001b[38;5;241m+\u001b[39m\u001b[38;5;241m=\u001b[39m new_value\n\u001b[1;32m      8\u001b[0m     \u001b[38;5;28;01mreturn\u001b[39;00m total \u001b[38;5;241m/\u001b[39m count\n",
      "\u001b[0;31mUnboundLocalError\u001b[0m: local variable 'count' referenced before assignment"
     ]
    }
   ],
   "source": [
    "def make_averager():\n",
    "    count = 0\n",
    "    total = 0\n",
    "    \n",
    "    def averager(new_value):\n",
    "        count += 1\n",
    "        total += new_value\n",
    "        return total / count\n",
    "    \n",
    "    return averager\n",
    "\n",
    "avg = make_averager()\n",
    "avg(10)"
   ]
  },
  {
   "cell_type": "markdown",
   "id": "33f8ffb1",
   "metadata": {},
   "source": [
    "*count* and *total* are immutable and all you can do is read, never update. If you try to rebind them, as in *count = count + 1*, then you are implicitly creating a local variable *count*. Therefore, it's not longer a free variable, but a local variable and will be not saved in the closure.\n",
    "\n",
    "To declare variabl as free variable us the **nonlocal** keyword:"
   ]
  },
  {
   "cell_type": "code",
   "execution_count": null,
   "id": "c727d4c9",
   "metadata": {},
   "outputs": [],
   "source": [
    "def make_averager():\n",
    "    count = 0\n",
    "    total = 0\n",
    "    \n",
    "    def averager(new_value):\n",
    "        nonlocal count, total\n",
    "        count += 1\n",
    "        total += new_value\n",
    "        return total / count\n",
    "    \n",
    "    return averager\n",
    "\n",
    "avg = make_averager()\n",
    "avg(10)"
   ]
  },
  {
   "cell_type": "markdown",
   "id": "cc864582",
   "metadata": {},
   "source": [
    "## Implementing a Simple Decorator\n",
    "\n"
   ]
  },
  {
   "cell_type": "code",
   "execution_count": 102,
   "id": "e161d1b4",
   "metadata": {},
   "outputs": [],
   "source": [
    "import time\n",
    "\n",
    "def clock(fun):\n",
    "    def clocked(n):  #### inner function\n",
    "        t0 = time.time()\n",
    "        result = fun(n)  ### fun is the free variable of the closure\n",
    "        elapsed = time.time() - t0\n",
    "        print(f\"{elapsed:0.8f}s func({n}) --> {result}\")\n",
    "        return result\n",
    "    return clocked ## return the inner function to replace the decorated function"
   ]
  },
  {
   "cell_type": "code",
   "execution_count": 110,
   "id": "5854c105",
   "metadata": {},
   "outputs": [],
   "source": [
    "\n",
    "def snooze(s):\n",
    "    time.sleep(s)\n",
    "    \n"
   ]
  },
  {
   "cell_type": "markdown",
   "id": "5670d7f6",
   "metadata": {},
   "source": [
    "This is same as writing:"
   ]
  },
  {
   "cell_type": "code",
   "execution_count": 111,
   "id": "497f15e4",
   "metadata": {
    "scrolled": true
   },
   "outputs": [],
   "source": [
    "snooze = clock(snooze)\n"
   ]
  },
  {
   "cell_type": "code",
   "execution_count": 113,
   "id": "0b7a746e",
   "metadata": {},
   "outputs": [
    {
     "name": "stdout",
     "output_type": "stream",
     "text": [
      "0.50065780s func(0.5) --> None\n"
     ]
    }
   ],
   "source": [
    "snooze(.5)"
   ]
  },
  {
   "cell_type": "code",
   "execution_count": 117,
   "id": "ceee0484",
   "metadata": {},
   "outputs": [],
   "source": [
    "@clock\n",
    "def fac(n):\n",
    "    result = 1\n",
    "    while n >= 1:\n",
    "        result = result * n\n",
    "        n -= 1\n",
    "    return result"
   ]
  },
  {
   "cell_type": "code",
   "execution_count": 118,
   "id": "bd65ee08",
   "metadata": {},
   "outputs": [],
   "source": [
    "fac = clock(fac)\n"
   ]
  },
  {
   "cell_type": "code",
   "execution_count": 123,
   "id": "cf54c735",
   "metadata": {},
   "outputs": [
    {
     "name": "stdout",
     "output_type": "stream",
     "text": [
      "0.00000787s func(6) --> 720\n",
      "0.00018740s func(6) --> 720\n"
     ]
    },
    {
     "data": {
      "text/plain": [
       "720"
      ]
     },
     "execution_count": 123,
     "metadata": {},
     "output_type": "execute_result"
    }
   ],
   "source": [
    "fac(6)"
   ]
  },
  {
   "cell_type": "code",
   "execution_count": null,
   "id": "b6942e35",
   "metadata": {},
   "outputs": [],
   "source": []
  },
  {
   "cell_type": "code",
   "execution_count": null,
   "id": "d657bd7e",
   "metadata": {},
   "outputs": [],
   "source": []
  },
  {
   "cell_type": "code",
   "execution_count": null,
   "id": "b113d0b8",
   "metadata": {},
   "outputs": [],
   "source": []
  },
  {
   "cell_type": "code",
   "execution_count": null,
   "id": "dc85be59",
   "metadata": {},
   "outputs": [],
   "source": []
  },
  {
   "cell_type": "code",
   "execution_count": null,
   "id": "cf4e8d6a",
   "metadata": {},
   "outputs": [],
   "source": []
  },
  {
   "cell_type": "code",
   "execution_count": null,
   "id": "451bf5cc",
   "metadata": {},
   "outputs": [],
   "source": []
  },
  {
   "cell_type": "code",
   "execution_count": null,
   "id": "a940266d",
   "metadata": {},
   "outputs": [],
   "source": []
  },
  {
   "cell_type": "code",
   "execution_count": null,
   "id": "9286ab9a",
   "metadata": {},
   "outputs": [],
   "source": []
  }
 ],
 "metadata": {
  "kernelspec": {
   "display_name": "Python 3 (ipykernel)",
   "language": "python",
   "name": "python3"
  },
  "language_info": {
   "codemirror_mode": {
    "name": "ipython",
    "version": 3
   },
   "file_extension": ".py",
   "mimetype": "text/x-python",
   "name": "python",
   "nbconvert_exporter": "python",
   "pygments_lexer": "ipython3",
   "version": "3.8.10"
  }
 },
 "nbformat": 4,
 "nbformat_minor": 5
}
