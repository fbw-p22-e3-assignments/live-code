{
 "cells": [
  {
   "cell_type": "code",
   "execution_count": 14,
   "id": "861e90f0",
   "metadata": {},
   "outputs": [
    {
     "data": {
      "text/plain": [
       "['cyan', 'black', 'white']"
      ]
     },
     "execution_count": 14,
     "metadata": {},
     "output_type": "execute_result"
    }
   ],
   "source": [
    "colors = ['cyan', 'magenta', 'green', 'yellow', 'black', 'white', 'white']\n",
    "\n",
    "\n",
    "colors = list(dict.fromkeys(colors).keys()) #whiteout duplicates\n",
    "\n",
    "colors_to_exclude = ['magenta', 'green', 'yellow']\n",
    "\n",
    "#for ex_color in colors_to_exclude:\n",
    "#    colors.remove(ex_color)\n",
    "    \n",
    "[colors.remove(ex_color) for ex_color in colors_to_exclude]\n",
    "colors\n"
   ]
  }
 ],
 "metadata": {
  "kernelspec": {
   "display_name": "Python 3 (ipykernel)",
   "language": "python",
   "name": "python3"
  },
  "language_info": {
   "codemirror_mode": {
    "name": "ipython",
    "version": 3
   },
   "file_extension": ".py",
   "mimetype": "text/x-python",
   "name": "python",
   "nbconvert_exporter": "python",
   "pygments_lexer": "ipython3",
   "version": "3.8.10"
  }
 },
 "nbformat": 4,
 "nbformat_minor": 5
}
