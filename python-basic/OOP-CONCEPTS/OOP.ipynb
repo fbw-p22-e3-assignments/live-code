{
 "cells": [
  {
   "attachments": {},
   "cell_type": "markdown",
   "metadata": {},
   "source": [
    "# A Pythonic Object\n",
    "\n",
    "Your application class probably don't need and should not implement as many special methods.\n",
    "- But if you write a lib or a framework, the programmers who will use them may expect them to behave like the classes that python provides.\n",
    "- Fulfilling that expectation is one way of being \"Pythonic\".\n",
    "\n",
    "\n",
    "# Custom Vector Class\n",
    "\n",
    "In order to demonstrate the many methods used to generate object representations, we will implement a 2 dimensional Vector class: *Vector2d* "
   ]
  },
  {
   "cell_type": "code",
   "execution_count": 61,
   "metadata": {},
   "outputs": [],
   "source": [
    "import math\n",
    "\n",
    "class Vector2d:\n",
    "\n",
    "    def __init__(self, x, y):   #constructor\n",
    "        self.x = float(x)       # converting x an y to floats catches errors early\n",
    "        self.y = float(y)\n",
    "\n",
    "    def __repr__(self):        # string representation in console \n",
    "        class_name = type(self).__name__\n",
    "        return f\"{class_name}({self.x} {self.y})\"\n",
    "\n",
    "    def __str__(self):\n",
    "        return str((self.x, self.y))\n",
    "\n",
    "    def __eq__(self, other):\n",
    "        return (self.x, self.y) == (other.x, other.y)\n",
    "    \n",
    "    def __abs__(self):\n",
    "        return math.hypot(self.x, self.y)\n",
    "\n",
    "    def __bool__(self):\n",
    "        return bool(abs(self))\n",
    "\n",
    "    def angle(self):\n",
    "        rad = math.atan2(self.y, self.x)\n",
    "        return math.degrees(rad)"
   ]
  },
  {
   "cell_type": "code",
   "execution_count": 62,
   "metadata": {},
   "outputs": [
    {
     "name": "stdout",
     "output_type": "stream",
     "text": [
      "(1.0, 2.0)\n",
      "(4.0, 3.0)\n"
     ]
    },
    {
     "data": {
      "text/plain": [
       "180.0"
      ]
     },
     "execution_count": 62,
     "metadata": {},
     "output_type": "execute_result"
    }
   ],
   "source": [
    "v1 = Vector2d(1,2)\n",
    "print(v1)   #string representation; it's what you get when you print an object\n",
    "v2 = Vector2d(4,3)\n",
    "print(v2)\n",
    "v1 == v2\n",
    "\n",
    "abs(v2)\n",
    "bool(v2)\n",
    "\n",
    "v3 = Vector2d(0,0)\n",
    "bool(v3)\n",
    "\n",
    "v4 = Vector2d(-1,0)\n",
    "v4.angle()\n"
   ]
  },
  {
   "attachments": {},
   "cell_type": "markdown",
   "metadata": {},
   "source": [
    "## classmethod Versus staticmethod\n",
    "\n",
    "- classmethod decorator changes the way the method is called, so it receives the class itself as the first argument, instead of an instance. Its most common use is for alternative constructors\n",
    "- in contrast, the staticmethod decorator changes a method so that it receives no special first argument.\n",
    "- in essence, a static method is just like a plain function that happens to live in a a class body, instead of being defined at the module level"
   ]
  },
  {
   "cell_type": "code",
   "execution_count": 49,
   "metadata": {},
   "outputs": [
    {
     "name": "stdout",
     "output_type": "stream",
     "text": [
      "<class '__main__.Demo'>\n",
      "bla\n"
     ]
    }
   ],
   "source": [
    "class Demo:\n",
    "    @classmethod\n",
    "    def klassmeth(args):\n",
    "        return args\n",
    "    \n",
    "    @staticmethod #good usecases are rare\n",
    "    def statmeth(args):\n",
    "        return args\n",
    "\n",
    "print(Demo.klassmeth())\n",
    "print(Demo.statmeth('bla'))"
   ]
  },
  {
   "attachments": {},
   "cell_type": "markdown",
   "metadata": {},
   "source": [
    "## A Hashable Vector2d\n",
    "\n",
    "As defined, so far our Vector2d instances are unhashable:"
   ]
  },
  {
   "cell_type": "code",
   "execution_count": 63,
   "metadata": {},
   "outputs": [
    {
     "ename": "TypeError",
     "evalue": "unhashable type: 'Vector2d'",
     "output_type": "error",
     "traceback": [
      "\u001b[0;31m---------------------------------------------------------------------------\u001b[0m",
      "\u001b[0;31mTypeError\u001b[0m                                 Traceback (most recent call last)",
      "Cell \u001b[0;32mIn [63], line 2\u001b[0m\n\u001b[1;32m      1\u001b[0m v1 \u001b[39m=\u001b[39m Vector2d(\u001b[39m1\u001b[39m,\u001b[39m2\u001b[39m)\n\u001b[0;32m----> 2\u001b[0m \u001b[39mhash\u001b[39;49m(v1)\n",
      "\u001b[0;31mTypeError\u001b[0m: unhashable type: 'Vector2d'"
     ]
    }
   ],
   "source": [
    "v1 = Vector2d(1,2)\n",
    "hash(v1)"
   ]
  },
  {
   "attachments": {},
   "cell_type": "markdown",
   "metadata": {},
   "source": [
    "- special method __ hash__\n",
    "- Vector instances must be immutable"
   ]
  },
  {
   "cell_type": "code",
   "execution_count": 74,
   "metadata": {},
   "outputs": [],
   "source": [
    "class Vector2d:\n",
    "\n",
    "    def __init__(self, x, y):   \n",
    "        self.__x = float(x)       # underscores make attribute private\n",
    "        self.__y = float(y)\n",
    "\n",
    "    @property  #marks the getter method of a property\n",
    "    def x(self): # named after the public property it exposes: x\n",
    "        return self.__x\n",
    "\n",
    "    @property  #marks the getter method of a property\n",
    "    def y(self): # named after the public property it exposes: x\n",
    "        return self.__y\n",
    "\n",
    "    def __repr__(self):        # string representation in console \n",
    "        class_name = type(self).__name__\n",
    "        return f\"{class_name}({self.x} {self.y})\"\n",
    "\n",
    "    def __str__(self):\n",
    "        return str((self.x, self.y))\n",
    "\n",
    "    def __eq__(self, other):\n",
    "        return (self.x, self.y) == (other.x, other.y)\n",
    "    \n",
    "    def __abs__(self):\n",
    "        return math.hypot(self.x, self.y)\n",
    "\n",
    "    def __bool__(self):\n",
    "        return bool(abs(self))\n",
    "\n",
    "    def angle(self):\n",
    "        rad = math.atan2(self.y, self.x)\n",
    "        return math.degrees(rad)\n",
    "\n",
    "    def __hash__(self):\n",
    "        return hash((self.x, self.y))"
   ]
  },
  {
   "cell_type": "code",
   "execution_count": 75,
   "metadata": {},
   "outputs": [
    {
     "data": {
      "text/plain": [
       "8389048192121911274"
      ]
     },
     "execution_count": 75,
     "metadata": {},
     "output_type": "execute_result"
    }
   ],
   "source": [
    "v1 = Vector2d(1,1)\n",
    "v2 = Vector2d(1.2,1)\n",
    "# v1.__x = 2\n",
    "hash(v1)\n"
   ]
  },
  {
   "cell_type": "code",
   "execution_count": 128,
   "metadata": {},
   "outputs": [
    {
     "ename": "AttributeError",
     "evalue": "'Test' object has no attribute 'x'",
     "output_type": "error",
     "traceback": [
      "\u001b[0;31m---------------------------------------------------------------------------\u001b[0m",
      "\u001b[0;31mAttributeError\u001b[0m                            Traceback (most recent call last)",
      "Cell \u001b[0;32mIn [128], line 30\u001b[0m\n\u001b[1;32m     26\u001b[0m     \u001b[39m# def x(self):\u001b[39;00m\n\u001b[1;32m     27\u001b[0m     \u001b[39m#     return self.__x\u001b[39;00m\n\u001b[1;32m     29\u001b[0m t1 \u001b[39m=\u001b[39m Test(\u001b[39m1\u001b[39m,\u001b[39m2\u001b[39m) \n\u001b[0;32m---> 30\u001b[0m t1\u001b[39m.\u001b[39;49mx\n",
      "\u001b[0;31mAttributeError\u001b[0m: 'Test' object has no attribute 'x'"
     ]
    }
   ],
   "source": [
    "class MYProperty:\n",
    "    def __init__(self, fget=None, fset=None, fdel=None, doc=None):\n",
    "        self.fget = fget\n",
    "\n",
    "    def __get__(self, obj, objtype=None):\n",
    "        # if obj is None:\n",
    "        #     return self\n",
    "        # if self.fget is None:\n",
    "        #     raise AttributeError(f\"property '{self._name}' has no getter\")\n",
    "        # return self.fget(obj)\n",
    "        return 'bla'\n",
    "\n",
    "\n",
    "class Test:\n",
    "\n",
    "    def __init__(self, x, y):\n",
    "        self.__x = x\n",
    "        self.__y = y\n",
    "\n",
    "    # @MYProperty\n",
    "    def __get__(self, instance, owner):\n",
    "        return self.__x\n",
    "\n",
    "    # def x(self):\n",
    "    #     return self.__x\n",
    "\n",
    "t1 = Test(1,2) \n",
    "t1.x\n"
   ]
  },
  {
   "attachments": {},
   "cell_type": "markdown",
   "metadata": {},
   "source": [
    "You should only implement these special methods if your application needs them. End users don't care if the objects that make up an application are \"Pythonic\" or not."
   ]
  },
  {
   "attachments": {},
   "cell_type": "markdown",
   "metadata": {},
   "source": [
    "## Private and \"Protected\" Attributes in Python\n",
    "\n",
    "Suppose you have a Dog class that uses a *mood* instance attribute internally, without exposing it.\n",
    "If you subclass Dog as Beagle and create your own *mood* instance attributey, you will clobber (overwrite) the *mood*\n",
    "attribute used by the methods inherited from Dog.\n",
    "\n",
    "To prevent this you add 2 leadding underscores. Python stores the name in __ dict__: *__ mood* \n",
    "becomes *_dog__mood*\n",
    "\n",
    "This language feature goes by the name *name mangling*.\n",
    "\n"
   ]
  },
  {
   "cell_type": "code",
   "execution_count": 88,
   "metadata": {},
   "outputs": [
    {
     "data": {
      "text/plain": [
       "{'mood': 'good'}"
      ]
     },
     "execution_count": 88,
     "metadata": {},
     "output_type": "execute_result"
    }
   ],
   "source": [
    "class Dog:\n",
    "\n",
    "    def __init__(self):\n",
    "        self.__mood = 'good'\n",
    "\n",
    "chiwauwau = Dog()\n",
    "\n",
    "chiwauwau.__dict__"
   ]
  },
  {
   "cell_type": "code",
   "execution_count": 89,
   "metadata": {},
   "outputs": [
    {
     "data": {
      "text/plain": [
       "{'mood': 'Bla'}"
      ]
     },
     "execution_count": 89,
     "metadata": {},
     "output_type": "execute_result"
    }
   ],
   "source": [
    "class Beagle(Dog):\n",
    "\n",
    "    def __init__(self):\n",
    "        super().__init__()\n",
    "        self.__mood ='Bla'\n",
    "        \n",
    "frank = Beagle()\n",
    "frank.__dict__"
   ]
  },
  {
   "attachments": {},
   "cell_type": "markdown",
   "metadata": {},
   "source": [
    "- Be aware *name mangling* is about safety, not security: it's designed to prevent accidental access and not malicous prying.\n",
    "\n",
    "\n",
    "The single underscore prefix has no special meaning to the Python interpreter when used in attributes names, but it's a very strong convention among Python programmers that you should not access such attribues from outside the class.\n",
    "\n",
    "- single _prefixed attributes are called \"protected\" some even call it private."
   ]
  },
  {
   "attachments": {},
   "cell_type": "markdown",
   "metadata": {},
   "source": [
    "# Vector2d to N-dim Vector"
   ]
  },
  {
   "cell_type": "code",
   "execution_count": 201,
   "metadata": {},
   "outputs": [],
   "source": [
    "# Vector2d to N-dim Vector\n",
    "\n",
    "import reprlib\n",
    "\n",
    "class Vector:\n",
    "\n",
    "    def __init__(self, components):   \n",
    "        self._components = components\n",
    "\n",
    "    def __iter__(self):\n",
    "        return iter(self._components)\n",
    "\n",
    "    def __repr__(self):        # string representation in console \n",
    "        components = reprlib.repr(self._components[:7]) # returns string in form of '[0,1,2,3,4,5, ...]\n",
    "        components = components[1:-1] + ', ' + str(self._components[7:])[1:-1]\n",
    "        return f\"Vector({components})\"\n",
    "\n",
    "    def __str__(self):\n",
    "        return str(tuple(self))\n",
    "\n",
    "    def __eq__(self, other):\n",
    "        return tuple(self) == tuple(other)\n",
    "    \n",
    "    def __abs__(self):\n",
    "        return math.hypot(*self)\n",
    "\n",
    "    def __bool__(self):\n",
    "        return bool(abs(self))\n",
    "\n",
    "    def __len__(self):\n",
    "        return len(self._components)\n",
    "\n",
    "    def __getitem__(self, index):\n",
    "        return self._components[index]"
   ]
  },
  {
   "attachments": {},
   "cell_type": "markdown",
   "metadata": {},
   "source": [
    "## A slice-Aware __getitem__\n",
    "\n",
    "Slice support can be achieved by __ getitem__"
   ]
  },
  {
   "cell_type": "code",
   "execution_count": 202,
   "metadata": {},
   "outputs": [
    {
     "data": {
      "text/plain": [
       "list"
      ]
     },
     "execution_count": 202,
     "metadata": {},
     "output_type": "execute_result"
    }
   ],
   "source": [
    "v1 = Vector([*range(8)])\n",
    "len(v1)\n",
    "type(v1[2:6])"
   ]
  },
  {
   "attachments": {},
   "cell_type": "markdown",
   "metadata": {},
   "source": [
    "- but the return value is of type list\n",
    "- It would be better if a slice of a vector was also a Vector instance and not a list."
   ]
  },
  {
   "attachments": {},
   "cell_type": "markdown",
   "metadata": {},
   "source": [
    "But lets firat look on the built-in slice object:"
   ]
  },
  {
   "cell_type": "code",
   "execution_count": 203,
   "metadata": {},
   "outputs": [
    {
     "name": "stdout",
     "output_type": "stream",
     "text": [
      "1\n",
      "slice(1, 4, None)\n",
      "slice(1, 4, 2)\n",
      "(slice(1, 4, 2), 9)\n",
      "(slice(1, 4, 2), slice(7, 9, None))\n"
     ]
    }
   ],
   "source": [
    "class MySeq:\n",
    "    def __getitem__(self, index):\n",
    "        return index\n",
    "\n",
    "s = MySeq()\n",
    "print(s[1])\n",
    "print(s[1:4]) #slice object\n",
    "print(s[1:4:2])\n",
    "print(s[1:4:2, 9]) #Surprise: the presence of a comma returns a tuple of \n",
    "print(s[1:4:2, 7:9])"
   ]
  },
  {
   "attachments": {},
   "cell_type": "markdown",
   "metadata": {},
   "source": [
    "- slice has a method called *indices* which exposes the logic that's implemented to gracefully handle missing or negative indices and slices that are longer than the original sequence."
   ]
  },
  {
   "cell_type": "code",
   "execution_count": 204,
   "metadata": {},
   "outputs": [
    {
     "data": {
      "text/plain": [
       "(0, 5, 2)"
      ]
     },
     "execution_count": 204,
     "metadata": {},
     "output_type": "execute_result"
    }
   ],
   "source": [
    "slice(None, 10, 2).indices(5)   # 'ABCDE'[:10:2] is the same as 'ABCDE'[0:5:2]"
   ]
  },
  {
   "cell_type": "code",
   "execution_count": 205,
   "metadata": {},
   "outputs": [
    {
     "data": {
      "text/plain": [
       "(2, 5, 1)"
      ]
     },
     "execution_count": 205,
     "metadata": {},
     "output_type": "execute_result"
    }
   ],
   "source": [
    "slice(-3, None, None).indices(5)  # 'ABCDE'[-3:] is the same as 'ABCDE'[2:5:1]"
   ]
  },
  {
   "cell_type": "code",
   "execution_count": 206,
   "metadata": {},
   "outputs": [],
   "source": [
    "class Vector:\n",
    "\n",
    "    def __init__(self, components):   \n",
    "        self._components = components\n",
    "\n",
    "    def __iter__(self):\n",
    "        return iter(self._components)\n",
    "\n",
    "    def __repr__(self):        # string representation in console \n",
    "        components = reprlib.repr(self._components[:7]) # returns string in form of '[0,1,2,3,4,5, ...]\n",
    "        components = components[1:-1] + ', ' + str(self._components[7:])[1:-1]\n",
    "        return f\"Vector({components})\"\n",
    "\n",
    "    def __str__(self):\n",
    "        return str(tuple(self))\n",
    "\n",
    "    def __eq__(self, other):\n",
    "        return tuple(self) == tuple(other)\n",
    "    \n",
    "    def __abs__(self):\n",
    "        return math.hypot(*self)\n",
    "\n",
    "    def __bool__(self):\n",
    "        return bool(abs(self))\n",
    "\n",
    "    def __len__(self):\n",
    "        return len(self._components)\n",
    "\n",
    "    def __getitem__(self, key):\n",
    "        print(key)\n",
    "        if isinstance(key, slice):\n",
    "            cls = type(self)\n",
    "            return cls(self._components[key])\n",
    "        else:\n",
    "            return self._components[key]"
   ]
  },
  {
   "cell_type": "code",
   "execution_count": 199,
   "metadata": {},
   "outputs": [
    {
     "name": "stdout",
     "output_type": "stream",
     "text": [
      "-1\n",
      "6\n",
      "slice(1, 4, None)\n",
      "(1, 2, 3)\n",
      "slice(-1, None, None)\n",
      "(6,)\n",
      "(1, 2)\n"
     ]
    },
    {
     "ename": "TypeError",
     "evalue": "list indices must be integers or slices, not tuple",
     "output_type": "error",
     "traceback": [
      "\u001b[0;31m---------------------------------------------------------------------------\u001b[0m",
      "\u001b[0;31mTypeError\u001b[0m                                 Traceback (most recent call last)",
      "Cell \u001b[0;32mIn [199], line 5\u001b[0m\n\u001b[1;32m      3\u001b[0m \u001b[39mprint\u001b[39m(v1[\u001b[39m1\u001b[39m:\u001b[39m4\u001b[39m])\n\u001b[1;32m      4\u001b[0m \u001b[39mprint\u001b[39m(v1[\u001b[39m-\u001b[39m\u001b[39m1\u001b[39m:])\n\u001b[0;32m----> 5\u001b[0m \u001b[39mprint\u001b[39m(v1[\u001b[39m1\u001b[39;49m,\u001b[39m2\u001b[39;49m]) \u001b[39m# Vector does not support multidimensional indexing\u001b[39;00m\n",
      "Cell \u001b[0;32mIn [189], line 35\u001b[0m, in \u001b[0;36mVector.__getitem__\u001b[0;34m(self, key)\u001b[0m\n\u001b[1;32m     33\u001b[0m     \u001b[39mreturn\u001b[39;00m \u001b[39mcls\u001b[39m(\u001b[39mself\u001b[39m\u001b[39m.\u001b[39m_components[key])\n\u001b[1;32m     34\u001b[0m \u001b[39melse\u001b[39;00m:\n\u001b[0;32m---> 35\u001b[0m     \u001b[39mreturn\u001b[39;00m \u001b[39mself\u001b[39;49m\u001b[39m.\u001b[39;49m_components[key]\n",
      "\u001b[0;31mTypeError\u001b[0m: list indices must be integers or slices, not tuple"
     ]
    }
   ],
   "source": [
    "v1 = Vector([*range(7)])\n",
    "print(v1[-1])\n",
    "print(v1[1:4])\n",
    "print(v1[-1:])\n",
    "print(v1[1,2]) # Vector does not support multidimensional indexing"
   ]
  },
  {
   "attachments": {},
   "cell_type": "markdown",
   "metadata": {},
   "source": [
    "# Hashing\n",
    "\n",
    "Now we may be dealing with thousand of components, so building a tuple may be too costly.\n",
    "Instead, I will apply the ^ (xor) to the hashes of every components in succession: v[0] ^ v[1] ^ v[2]"
   ]
  },
  {
   "cell_type": "code",
   "execution_count": 221,
   "metadata": {},
   "outputs": [],
   "source": [
    "import functools\n",
    "import operator\n",
    "class Vector:\n",
    "\n",
    "    def __init__(self, components):   \n",
    "        self._components = components\n",
    "\n",
    "    def __iter__(self):\n",
    "        return iter(self._components)\n",
    "\n",
    "    def __repr__(self):        # string representation in console \n",
    "        components = reprlib.repr(self._components[:7]) # returns string in form of '[0,1,2,3,4,5, ...]\n",
    "        components = components[1:-1] + ', ' + str(self._components[7:])[1:-1]\n",
    "        return f\"Vector({components})\"\n",
    "\n",
    "    def __str__(self):\n",
    "        return str(tuple(self))\n",
    "\n",
    "    def __eq__(self, other):\n",
    "        # return tuple(self) == tuple(other)\n",
    "        if len(self) != len(other):\n",
    "            return False\n",
    "        for a,b in zip(self, other):\n",
    "            if a != b:\n",
    "                return False\n",
    "        return True\n",
    "\n",
    "    def __hash__(self):\n",
    "        hashes = map(hash, self._components)\n",
    "        # return functools.reduce(lambda acc, cur: acc ^ cur, hashes, 0)\n",
    "        return functools.reduce(operator.xor, hashes, 0)\n",
    "    \n",
    "    def __abs__(self):\n",
    "        return math.hypot(*self)\n",
    "\n",
    "    def __bool__(self):\n",
    "        return bool(abs(self))\n",
    "\n",
    "    def __len__(self):\n",
    "        return len(self._components)\n",
    "\n",
    "    def __getitem__(self, key):\n",
    "        print(key)\n",
    "        if isinstance(key, slice):\n",
    "            cls = type(self)\n",
    "            return cls(self._components[key])\n",
    "        else:\n",
    "            return self._components[key]\n",
    "\n",
    "    "
   ]
  },
  {
   "cell_type": "code",
   "execution_count": 222,
   "metadata": {},
   "outputs": [
    {
     "name": "stdout",
     "output_type": "stream",
     "text": [
      "True\n",
      "8\n",
      "8\n"
     ]
    }
   ],
   "source": [
    "v1 = Vector([*range(9)])\n",
    "v2 = Vector([*range(9)])\n",
    "print(v1 == v2)\n",
    "print(hash(v1))\n",
    "print(hash(v2))"
   ]
  },
  {
   "attachments": {},
   "cell_type": "markdown",
   "metadata": {},
   "source": [
    "# Inheritance\n",
    "\n",
    "- super()\n",
    "- "
   ]
  }
 ],
 "metadata": {
  "kernelspec": {
   "display_name": "Python 3",
   "language": "python",
   "name": "python3"
  },
  "language_info": {
   "codemirror_mode": {
    "name": "ipython",
    "version": 3
   },
   "file_extension": ".py",
   "mimetype": "text/x-python",
   "name": "python",
   "nbconvert_exporter": "python",
   "pygments_lexer": "ipython3",
   "version": "3.10.9"
  },
  "orig_nbformat": 4,
  "vscode": {
   "interpreter": {
    "hash": "97cc609b13305c559618ec78a438abc56230b9381f827f22d070313b9a1f3777"
   }
  }
 },
 "nbformat": 4,
 "nbformat_minor": 2
}
