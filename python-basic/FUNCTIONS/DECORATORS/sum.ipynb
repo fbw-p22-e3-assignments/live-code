{
 "cells": [
  {
   "cell_type": "markdown",
   "id": "5fd0cd5f",
   "metadata": {},
   "source": [
    "# Summation\n",
    "\n",
    "- addition of any kind of numbers (called *summands*)\n",
    "- result is their sum\n",
    "\n",
    "$ 1 + 2 + 3 = 6$"
   ]
  },
  {
   "cell_type": "markdown",
   "id": "62457e83",
   "metadata": {},
   "source": [
    "The summations of long sequences may be represented with most summands replaced by ellipses. For example, summation of the first 100 natural numbers may be written as\n",
    "$ 1 + 2 + ... + 100 $.\n",
    "\n",
    "Otherwise ummation is denoted by the Greek capital letter sigma $ \\Sigma $.For example,\n",
    "$ \\displaystyle\\sum_{i=1}^{100} = 1 + 2 + 3 + ... + 100$."
   ]
  },
  {
   "cell_type": "markdown",
   "id": "e93132c2",
   "metadata": {},
   "source": [
    "In Python you can calculate the sum with a for loop:"
   ]
  },
  {
   "cell_type": "code",
   "execution_count": 1,
   "id": "90ebce06",
   "metadata": {},
   "outputs": [
    {
     "name": "stdout",
     "output_type": "stream",
     "text": [
      "5050\n"
     ]
    }
   ],
   "source": [
    "result = 0\n",
    "for i in range(101):\n",
    "       result = result + i\n",
    "print(result)"
   ]
  },
  {
   "cell_type": "markdown",
   "id": "d2d6ec30",
   "metadata": {},
   "source": [
    "We can define a function to compute the following sum:\n",
    "$ \\displaystyle\\sum_{i=1}^{N} = 1 + 2 + 3 + ... + N $"
   ]
  },
  {
   "cell_type": "code",
   "execution_count": 2,
   "id": "34295853",
   "metadata": {},
   "outputs": [
    {
     "data": {
      "text/plain": [
       "5050"
      ]
     },
     "execution_count": 2,
     "metadata": {},
     "output_type": "execute_result"
    }
   ],
   "source": [
    "def sum(N):\n",
    "    result = 0\n",
    "    for i in range(N+1):\n",
    "        result += i\n",
    "    return result\n",
    "\n",
    "sum(100)"
   ]
  },
  {
   "cell_type": "markdown",
   "id": "79f72569",
   "metadata": {},
   "source": [
    "More complex pattern could look like:\n",
    "$ \\displaystyle\\sum_{i}^{N} a_{i} $\n",
    "\n"
   ]
  },
  {
   "cell_type": "markdown",
   "id": "9bdc6972",
   "metadata": {},
   "source": [
    "for $ a_{i} = \\frac{1}{i}$"
   ]
  },
  {
   "cell_type": "markdown",
   "id": "81162340",
   "metadata": {},
   "source": [
    "$ \\displaystyle\\sum_{i}^{N} \\frac{1}{i} = \\frac{1}{1} + \\frac{1}{2} + ... + \\frac{1}{N} $"
   ]
  },
  {
   "cell_type": "markdown",
   "id": "da5c57a6",
   "metadata": {},
   "source": [
    "## Analogous to Summation you can define Products of Sequences\n",
    "$ \\displaystyle\\prod_{i}^{N} i = 1 \\cdot 2 \\cdot  ...  \\cdot N $\n"
   ]
  },
  {
   "cell_type": "markdown",
   "id": "c843bcb0",
   "metadata": {},
   "source": [
    "Example: Faculty:\n",
    "\n",
    "$ n! = \\displaystyle\\prod_{i}^{n} i = 1 \\cdot  $"
   ]
  },
  {
   "cell_type": "markdown",
   "id": "ef267c66",
   "metadata": {},
   "source": [
    "## Series\n",
    "\n",
    "In mathematics, a series is, roughly speaking, a description of the operation of adding infinitely many quantities, one after the other, to a given starting quantity:\n",
    "\n",
    "$\\displaystyle\\sum_{i=1}^{\\infty} i$"
   ]
  },
  {
   "cell_type": "markdown",
   "id": "d0ccbf21",
   "metadata": {},
   "source": [
    "## Convergent series\n",
    "\n",
    "Some series have value:\n",
    "*a geometric series*:\n",
    "$ \\displaystyle\\sum_{i=0}^{\\infty} z^{i} = \\frac {1}{1-z} $ for converges for $\\lvert z \\rvert < 1$\n",
    "\n",
    "*alternating harmonic series*:\n",
    "$ \\displaystyle\\sum_{i=1}^{\\infty} \\frac{(-1)^{i}}{2i-1} = -\\frac {\\pi}{4} $\n"
   ]
  },
  {
   "cell_type": "markdown",
   "id": "59a1e0f1",
   "metadata": {},
   "source": [
    "# Exercise 0.1\n",
    "- Write a function which returns the Faculty: *faculty(N)* "
   ]
  },
  {
   "cell_type": "markdown",
   "id": "cac136fb",
   "metadata": {},
   "source": [
    "# Exercises 1.1:\n",
    "\n",
    "- Write down the first four summands of $ \\displaystyle\\sum_{i=0}^{\\infty} \\frac{1}{3^{i}} $.\n",
    "- Compare your results with a partner.\n",
    "- write a function which takes one positional argument *N* and calculates $ \\displaystyle\\sum_{i=0}^{N} \\frac{1}{3^{i}} $\n",
    "- Run your function for different *N*. For which *N* does our series converge (returns the same result)?\n",
    "- What is the return value?\n",
    "- Can you find *N* programmatically for which the series converges? "
   ]
  },
  {
   "cell_type": "markdown",
   "id": "a867619b",
   "metadata": {},
   "source": [
    "# Exersice 1.2\n",
    "\n",
    "- Look at the geometric series.\n",
    "- Again write down the first four summands and compare your result with partner.\n",
    "- Write a function: *geometrical_series(N, z)*\n",
    "- Run your function with different z smaller 1 and different N\n"
   ]
  },
  {
   "cell_type": "markdown",
   "id": "9d3a433b",
   "metadata": {},
   "source": [
    "# Exercises 1.3:\n",
    "\n",
    "- Repeate the steps of Exercise 1.1 for the alternating harmonic series.\n",
    "- Your Function should look like *alt_harmonics(N)*"
   ]
  },
  {
   "cell_type": "markdown",
   "id": "91448aed",
   "metadata": {},
   "source": [
    "# Exercise 1.4:\n",
    "- see page 70 in the thinkpython.pdf book"
   ]
  }
 ],
 "metadata": {
  "kernelspec": {
   "display_name": "Python 3 (ipykernel)",
   "language": "python",
   "name": "python3"
  },
  "language_info": {
   "codemirror_mode": {
    "name": "ipython",
    "version": 3
   },
   "file_extension": ".py",
   "mimetype": "text/x-python",
   "name": "python",
   "nbconvert_exporter": "python",
   "pygments_lexer": "ipython3",
   "version": "3.8.10"
  }
 },
 "nbformat": 4,
 "nbformat_minor": 5
}
