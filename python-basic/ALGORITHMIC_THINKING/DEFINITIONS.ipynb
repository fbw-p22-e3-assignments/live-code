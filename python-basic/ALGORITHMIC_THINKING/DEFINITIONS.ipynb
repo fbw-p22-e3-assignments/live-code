{
 "cells": [
  {
   "cell_type": "markdown",
   "metadata": {},
   "source": [
    "- **Records** group related data and are the units into which a database is divided.\n",
    "- Records are usually divided into several **Fields**. Each field holds a particular kind of data.\n",
    "\n",
    "- **Data organizations** are ways data is arranged in the computer using its various storage media and how that data is interpreted to represent something.\n",
    "- **Algoritms** are these procedures used to manipulate the data in these structures.\n",
    "- Together, the data organization and the algorithm form a **data structure**.\n",
    "\n",
    "- data structures are important to properly model the meaning of data\n",
    "- data structures *model systems by assigning specific meaning to each of the pieces and how they interact.*\n",
    "- The *systems* are real world things like first-come etc."
   ]
  }
 ],
 "metadata": {
  "kernelspec": {
   "display_name": "Python 3.10.9 64-bit",
   "language": "python",
   "name": "python3"
  },
  "language_info": {
   "name": "python",
   "version": "3.10.10"
  },
  "orig_nbformat": 4,
  "vscode": {
   "interpreter": {
    "hash": "97cc609b13305c559618ec78a438abc56230b9381f827f22d070313b9a1f3777"
   }
  }
 },
 "nbformat": 4,
 "nbformat_minor": 2
}
