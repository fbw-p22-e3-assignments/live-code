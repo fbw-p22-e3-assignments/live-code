{
 "cells": [
  {
   "cell_type": "markdown",
   "id": "baea662c",
   "metadata": {},
   "source": [
    "## Iterators"
   ]
  },
  {
   "cell_type": "markdown",
   "id": "174b7b17",
   "metadata": {},
   "source": [
    "Iteration: run a block statement repeatedly\n",
    "- for statement (for loop)\n",
    "- while statement (while loop)"
   ]
  },
  {
   "cell_type": "markdown",
   "id": "c0f24fe0",
   "metadata": {},
   "source": [
    "### Rcap: While Loop"
   ]
  },
  {
   "cell_type": "code",
   "execution_count": 4,
   "id": "e613824b",
   "metadata": {},
   "outputs": [
    {
     "name": "stdout",
     "output_type": "stream",
     "text": [
      "3\n",
      "2\n",
      "1\n",
      "Go\n"
     ]
    }
   ],
   "source": [
    "def contdown(n):\n",
    "    while n > 0:\n",
    "        print(n)\n",
    "        n = n - 1\n",
    "    print('Go')\n",
    "contdown(3)"
   ]
  },
  {
   "cell_type": "markdown",
   "id": "797ed47a",
   "metadata": {},
   "source": [
    "### Break"
   ]
  },
  {
   "cell_type": "markdown",
   "id": "ad7d6dfe",
   "metadata": {},
   "source": [
    "You already have seen that for exiting a while loop you can use a break statement:"
   ]
  },
  {
   "cell_type": "code",
   "execution_count": 5,
   "id": "df5db906",
   "metadata": {},
   "outputs": [
    {
     "name": "stdout",
     "output_type": "stream",
     "text": [
      "duck\n",
      "dog\n"
     ]
    }
   ],
   "source": [
    "for i in ['duck', 'dog', 'cat', 'goose']:\n",
    "    #print(i)\n",
    "    if i == 'cat':\n",
    "        break      # here we are exiting the loop instantly\n",
    "    print(i)       # everything after the break inside the for loop\n",
    "                    # will be ignored\n"
   ]
  },
  {
   "cell_type": "code",
   "execution_count": 6,
   "id": "4d1ec9b6",
   "metadata": {},
   "outputs": [
    {
     "name": "stdout",
     "output_type": "stream",
     "text": [
      "Done!\n"
     ]
    }
   ],
   "source": [
    "while True:\n",
    "    line = input('Please say something: ')\n",
    "    if line == 'done':\n",
    "        break\n",
    "    print(line)\n",
    "print('Done!')"
   ]
  },
  {
   "cell_type": "markdown",
   "id": "e8cef1c9",
   "metadata": {},
   "source": [
    "## Continue\n",
    "\n",
    "If the continue statement is reached, the for loop instantly jumps to \n",
    "the next iteration:"
   ]
  },
  {
   "cell_type": "code",
   "execution_count": 7,
   "id": "c94e3e0d",
   "metadata": {},
   "outputs": [
    {
     "name": "stdout",
     "output_type": "stream",
     "text": [
      "9\n",
      "7\n",
      "5\n",
      "3\n",
      "1\n"
     ]
    }
   ],
   "source": [
    "n = 10\n",
    "while n >= 1:\n",
    "    n = n -1\n",
    "    if n % 2 == 0:\n",
    "        continue\n",
    "    print(n)"
   ]
  },
  {
   "cell_type": "code",
   "execution_count": 8,
   "id": "595ec18b",
   "metadata": {},
   "outputs": [
    {
     "name": "stdout",
     "output_type": "stream",
     "text": [
      "0\n",
      "2\n",
      "4\n",
      "6\n",
      "8\n"
     ]
    }
   ],
   "source": [
    "for i in range(10):\n",
    "    if i % 2 != 0:\n",
    "        continue\n",
    "    print(i)"
   ]
  },
  {
   "cell_type": "markdown",
   "id": "159148f9",
   "metadata": {},
   "source": [
    "![Graph](continue.png)"
   ]
  },
  {
   "cell_type": "markdown",
   "id": "9f93a043",
   "metadata": {},
   "source": [
    "## Iterators\n",
    "\n",
    "An iterable is an object that provides an iterator. Python uses iterators to support the following operations:\n",
    "\n",
    "- for loops\n",
    "- unpacking assignments\n",
    "- list, dict, set comprehensions (We will talk later about them)"
   ]
  },
  {
   "cell_type": "markdown",
   "id": "8de3ba1c",
   "metadata": {},
   "source": [
    "## Excursion: Classes, Objects / Instances\n",
    "\n",
    "#### Using objects\n",
    "Python provides many built-in objects:\n"
   ]
  },
  {
   "cell_type": "code",
   "execution_count": 9,
   "id": "022561b3",
   "metadata": {},
   "outputs": [
    {
     "data": {
      "text/plain": [
       "['py']"
      ]
     },
     "execution_count": 9,
     "metadata": {},
     "output_type": "execute_result"
    }
   ],
   "source": [
    "stuff = list()  # a list constructed by list(): stuff is a list o object\n",
    "                # list() is a class\n",
    "stuff.append('py') # the append method is called\n",
    "stuff"
   ]
  },
  {
   "cell_type": "markdown",
   "id": "cad4edac",
   "metadata": {},
   "source": [
    "In the above cod snippet an object / instance of the class list is\n",
    "constructed\n",
    "\n",
    "Let's define a simple class:"
   ]
  },
  {
   "cell_type": "code",
   "execution_count": 19,
   "id": "91275883",
   "metadata": {},
   "outputs": [
    {
     "name": "stdout",
     "output_type": "stream",
     "text": [
      "yellow\n",
      "black\n",
      "black\n",
      "pink\n"
     ]
    }
   ],
   "source": [
    "class Cat():\n",
    "    def __init__(self, name, haircolor):\n",
    "        self.name = name\n",
    "        self.haircolor = haircolor\n",
    "    def eat(self):\n",
    "        print('Cat eats.')\n",
    "    def colorHair(self, newColor):\n",
    "        self.haircolor = newColor\n",
    "        \n",
    "cat_obj1 = Cat('Mitzi', 'yellow')\n",
    "print(cat_obj1.haircolor)      #property\n",
    "cat_obj1.colorHair('black')    # method\n",
    "print(cat_obj1.haircolor) \n",
    "cat_obj2 = Cat('sonja', 'red')\n",
    "print(cat_obj1.haircolor)\n",
    "cat_obj1.colorHair('pink')\n",
    "print(cat_obj1.haircolor)\n",
    "#dir(cat_obj1)"
   ]
  },
  {
   "cell_type": "code",
   "execution_count": 43,
   "id": "2a3c3a7a",
   "metadata": {},
   "outputs": [
    {
     "name": "stdout",
     "output_type": "stream",
     "text": [
      "{'weight': '800kg', 'height': '1m'}\n",
      "Num of Wheels:  4\n",
      "Engine:  diesel\n",
      "Num of doors:  4\n",
      "color:  red\n",
      "Style:  bmw\n",
      "Speed:  0\n",
      "{'weight': '800kg', 'height': '1m'}\n",
      "Num of Wheels:  4\n",
      "Engine:  diesel\n",
      "Num of doors:  6\n",
      "color:  pink\n",
      "Style:  vw\n",
      "Speed:  10.0\n"
     ]
    },
    {
     "data": {
      "text/plain": [
       "'pink'"
      ]
     },
     "execution_count": 43,
     "metadata": {},
     "output_type": "execute_result"
    }
   ],
   "source": [
    "class Car:\n",
    "    def __init__(self, distance, dict_properties, engine, doors, color, style, wheels=4):\n",
    "        self.wheels = wheels\n",
    "        self.engine = engine\n",
    "        self.doors = doors\n",
    "        self.color = color\n",
    "        self.style = style\n",
    "        self.dict = dict_properties\n",
    "        self.speed = 0\n",
    "        self.distance = distance\n",
    "        \n",
    "    def calc_speed(self, time):\n",
    "        self.speed = self.distance / time\n",
    "        return f\"{self.speed} m/s\"\n",
    "        #return str(self.speed) + ' m/s'\n",
    "        \n",
    "    def changeDoors(self, doors):\n",
    "        self.doors = doors\n",
    "    \n",
    "    def reconstruct(self, newDoors, newColor, newStyle):\n",
    "        self.doors = newDoors\n",
    "        self.color = newColor\n",
    "        self.style = newStyle\n",
    "        \n",
    "    def getAllProperties(self):\n",
    "        print(self.dict)\n",
    "        print('Num of Wheels: ',self.wheels)\n",
    "        print('Engine: ', self.engine)\n",
    "        print('Num of doors: ',self.doors)\n",
    "        print('color: ',self.color)\n",
    "        print('Style: ', self.style)\n",
    "        print('Speed: ', self.speed)\n",
    "        \n",
    "my_dict = {'weight': '800kg', 'height': '1m'}\n",
    "car_obj = Car(100, my_dict, 'diesel', 4, 'red', 'bmw')\n",
    "car_obj.getAllProperties()\n",
    "car_obj.calc_speed(10)\n",
    "car_obj.reconstruct(6, 'pink', 'vw')\n",
    "car_obj.getAllProperties()\n",
    "car_obj.doors\n",
    "car_obj.color\n",
    "        "
   ]
  },
  {
   "cell_type": "code",
   "execution_count": 26,
   "id": "4b8b5e1b",
   "metadata": {},
   "outputs": [
    {
     "data": {
      "text/plain": [
       "2"
      ]
     },
     "execution_count": 26,
     "metadata": {},
     "output_type": "execute_result"
    }
   ],
   "source": [
    "car_obj.engine\n",
    "car_obj.changeDoors(2)\n",
    "car_obj.doors"
   ]
  },
  {
   "cell_type": "code",
   "execution_count": 17,
   "id": "bdd8d475",
   "metadata": {},
   "outputs": [
    {
     "name": "stdout",
     "output_type": "stream",
     "text": [
      "<__main__.MyClass object at 0x7fdeffb8cee0>\n",
      "I'm the constructor\n",
      "<__main__.MyClass object at 0x7fdeffb8cee0>\n",
      "I'm a method of MyClass\n",
      "<__main__.MyClass object at 0x7fdeff6736d0>\n",
      "I'm the constructor\n"
     ]
    }
   ],
   "source": [
    "class MyClass():\n",
    "    def __init__(self):\n",
    "        print(self)\n",
    "        print(\"I\\'m the constructor\")\n",
    "    def doSomething(self):\n",
    "        print(self)\n",
    "        print(\"I\\'m a method of MyClass\")\n",
    "\n",
    "obj_of_myclass = MyClass()\n",
    "obj_of_myclass.doSomething()\n",
    "\n",
    "obj2 = MyClass()"
   ]
  },
  {
   "cell_type": "markdown",
   "id": "967e400b",
   "metadata": {},
   "source": [
    "All methods in a class have a special first parameter that we name\n",
    "    by convention self. When the *doSomething()* method of an object is called, the first parameter points to the **particular instance\n",
    "    (here: obj_of_myclass)** of the MyClass-object that the *doSomething()* is called from."
   ]
  },
  {
   "cell_type": "code",
   "execution_count": 48,
   "id": "274bcea2",
   "metadata": {},
   "outputs": [
    {
     "name": "stdout",
     "output_type": "stream",
     "text": [
      "I'm the constructor\n",
      "<__main__.MyClass object at 0x7fdeff5ebfa0>\n",
      "12\n",
      "<__main__.MyClass object at 0x7fdeff5ebfa0>\n",
      "12\n"
     ]
    }
   ],
   "source": [
    "class MyClass():\n",
    "    def __init__(self, x):\n",
    "        self.x = x\n",
    "        print(\"I\\'m the constructor\")\n",
    "    def doSomething(self, y):\n",
    "        print(self)\n",
    "        print(self.x + y)\n",
    "\n",
    "obj_of_myclass = MyClass(10)\n",
    "obj_of_myclass.doSomething(2)\n",
    "MyClass.doSomething(obj_of_myclass, 2)  # we acces the method from\n",
    "#within the class and explicitly pass the object pointer obj_of_myclass\n",
    "#as the first argument.\n"
   ]
  },
  {
   "cell_type": "markdown",
   "id": "4eb312f8",
   "metadata": {},
   "source": [
    "`self.x` This syntax is using the dor operator is say 'the x within self'."
   ]
  },
  {
   "cell_type": "markdown",
   "id": "164b088f",
   "metadata": {},
   "source": [
    "## A Sequence of Words\n",
    "\n",
    "We will implement a Sentence Class. Instances of this class will be iterable:"
   ]
  },
  {
   "cell_type": "code",
   "execution_count": 71,
   "id": "da20c866",
   "metadata": {},
   "outputs": [
    {
     "name": "stdout",
     "output_type": "stream",
     "text": [
      "Hello\n",
      "world\n",
      "again\n"
     ]
    }
   ],
   "source": [
    "import re\n",
    "\n",
    "class Sentence():\n",
    "    def __init__(self, text):\n",
    "        self.text = text\n",
    "        self.words = re.findall('\\w+', text)\n",
    "          \n",
    "    def __len__(self):\n",
    "        return len(self.words)\n",
    "    \n",
    "    def __getitem__(self, index):\n",
    "        return self.words[index]\n",
    "    \n",
    "    def __repr__(self):\n",
    "        return f'Sentence({self.words})'\n",
    "\n",
    "s = Sentence('Hello world again')\n",
    "\n",
    "for word in s:\n",
    "    print(word)\n",
    "    \n"
   ]
  },
  {
   "cell_type": "code",
   "execution_count": 72,
   "id": "ad9cb882",
   "metadata": {},
   "outputs": [
    {
     "data": {
      "text/plain": [
       "Sentence(['Hello', 'world', 'again'])"
      ]
     },
     "execution_count": 72,
     "metadata": {},
     "output_type": "execute_result"
    }
   ],
   "source": [
    "s # representation"
   ]
  },
  {
   "cell_type": "code",
   "execution_count": 73,
   "id": "0d72a6d4",
   "metadata": {},
   "outputs": [
    {
     "data": {
      "text/plain": [
       "3"
      ]
     },
     "execution_count": 73,
     "metadata": {},
     "output_type": "execute_result"
    }
   ],
   "source": [
    "len(s)"
   ]
  },
  {
   "cell_type": "code",
   "execution_count": 75,
   "id": "728c0125",
   "metadata": {},
   "outputs": [
    {
     "data": {
      "text/plain": [
       "('Hello', 'world')"
      ]
     },
     "execution_count": 75,
     "metadata": {},
     "output_type": "execute_result"
    }
   ],
   "source": [
    "s[0], s[1]"
   ]
  },
  {
   "cell_type": "code",
   "execution_count": 76,
   "id": "d78bbe85",
   "metadata": {},
   "outputs": [
    {
     "data": {
      "text/plain": [
       "['Hello', 'world', 'again']"
      ]
     },
     "execution_count": 76,
     "metadata": {},
     "output_type": "execute_result"
    }
   ],
   "source": [
    "[*s]"
   ]
  },
  {
   "cell_type": "markdown",
   "id": "0f3308dc",
   "metadata": {},
   "source": [
    "## Why Sequence Are Iterable: The iter Function"
   ]
  },
  {
   "cell_type": "markdown",
   "id": "3ba6a08f",
   "metadata": {},
   "source": [
    "Whenever Python needs to iterate over an object x, it automatically\n",
    "calls iter(x)"
   ]
  },
  {
   "cell_type": "markdown",
   "id": "0f11d74e",
   "metadata": {},
   "source": [
    "The iter built-in function:\n",
    "- Checks weather the object implements __ iter__, and calls that to obtain an iterator.\n",
    "- If __ iter__ is not implemented, but __ getitem__ is, then iter() creates an **iterator** that tries to fetch items by index, starting from 0\n",
    "- if that fails, Python raises TypeError"
   ]
  },
  {
   "cell_type": "markdown",
   "id": "96840e81",
   "metadata": {},
   "source": [
    "## Iterators vs. Iterables\n",
    "\n",
    "Iterables: Any object which the __ iter__ function can obtain an iterator. Example:\n"
   ]
  },
  {
   "cell_type": "code",
   "execution_count": 77,
   "id": "cd85bab2",
   "metadata": {},
   "outputs": [
    {
     "name": "stdout",
     "output_type": "stream",
     "text": [
      "A\n",
      "B\n",
      "C\n"
     ]
    }
   ],
   "source": [
    "s = 'ABC'\n",
    "for char in s:\n",
    "    print(char)"
   ]
  },
  {
   "cell_type": "markdown",
   "id": "96510c14",
   "metadata": {},
   "source": [
    "Without the for loop:"
   ]
  },
  {
   "cell_type": "code",
   "execution_count": 87,
   "id": "b6fcd288",
   "metadata": {},
   "outputs": [
    {
     "data": {
      "text/plain": [
       "<str_iterator at 0x7fdeff677310>"
      ]
     },
     "execution_count": 87,
     "metadata": {},
     "output_type": "execute_result"
    }
   ],
   "source": [
    "it = iter(s)\n",
    "it\n"
   ]
  },
  {
   "cell_type": "code",
   "execution_count": 82,
   "id": "e6755f2f",
   "metadata": {},
   "outputs": [
    {
     "data": {
      "text/plain": [
       "['__class__',\n",
       " '__delattr__',\n",
       " '__dir__',\n",
       " '__doc__',\n",
       " '__eq__',\n",
       " '__format__',\n",
       " '__ge__',\n",
       " '__getattribute__',\n",
       " '__gt__',\n",
       " '__hash__',\n",
       " '__init__',\n",
       " '__init_subclass__',\n",
       " '__iter__',\n",
       " '__le__',\n",
       " '__length_hint__',\n",
       " '__lt__',\n",
       " '__ne__',\n",
       " '__new__',\n",
       " '__next__',\n",
       " '__reduce__',\n",
       " '__reduce_ex__',\n",
       " '__repr__',\n",
       " '__setattr__',\n",
       " '__setstate__',\n",
       " '__sizeof__',\n",
       " '__str__',\n",
       " '__subclasshook__']"
      ]
     },
     "execution_count": 82,
     "metadata": {},
     "output_type": "execute_result"
    }
   ],
   "source": [
    "dir(it)"
   ]
  },
  {
   "cell_type": "code",
   "execution_count": 88,
   "id": "a97c7af0",
   "metadata": {},
   "outputs": [
    {
     "data": {
      "text/plain": [
       "'A'"
      ]
     },
     "execution_count": 88,
     "metadata": {},
     "output_type": "execute_result"
    }
   ],
   "source": [
    "next(it)"
   ]
  },
  {
   "cell_type": "code",
   "execution_count": 89,
   "id": "40f8ae2c",
   "metadata": {},
   "outputs": [
    {
     "data": {
      "text/plain": [
       "'B'"
      ]
     },
     "execution_count": 89,
     "metadata": {},
     "output_type": "execute_result"
    }
   ],
   "source": [
    "next(it)\n"
   ]
  },
  {
   "cell_type": "code",
   "execution_count": 90,
   "id": "c93b3679",
   "metadata": {},
   "outputs": [
    {
     "data": {
      "text/plain": [
       "'C'"
      ]
     },
     "execution_count": 90,
     "metadata": {},
     "output_type": "execute_result"
    }
   ],
   "source": [
    "next(it)"
   ]
  },
  {
   "cell_type": "code",
   "execution_count": 91,
   "id": "6ce8e940",
   "metadata": {},
   "outputs": [
    {
     "ename": "StopIteration",
     "evalue": "",
     "output_type": "error",
     "traceback": [
      "\u001b[0;31m---------------------------------------------------------------------------\u001b[0m",
      "\u001b[0;31mStopIteration\u001b[0m                             Traceback (most recent call last)",
      "Cell \u001b[0;32mIn [91], line 1\u001b[0m\n\u001b[0;32m----> 1\u001b[0m \u001b[38;5;28;43mnext\u001b[39;49m\u001b[43m(\u001b[49m\u001b[43mit\u001b[49m\u001b[43m)\u001b[49m\n",
      "\u001b[0;31mStopIteration\u001b[0m: "
     ]
    }
   ],
   "source": [
    "next(it)"
   ]
  }
 ],
 "metadata": {
  "kernelspec": {
   "display_name": "Python 3 (ipykernel)",
   "language": "python",
   "name": "python3"
  },
  "language_info": {
   "codemirror_mode": {
    "name": "ipython",
    "version": 3
   },
   "file_extension": ".py",
   "mimetype": "text/x-python",
   "name": "python",
   "nbconvert_exporter": "python",
   "pygments_lexer": "ipython3",
   "version": "3.8.10"
  },
  "vscode": {
   "interpreter": {
    "hash": "916dbcbb3f70747c44a77c7bcd40155683ae19c65e1c03b4aa3499c5328201f1"
   }
  }
 },
 "nbformat": 4,
 "nbformat_minor": 5
}
