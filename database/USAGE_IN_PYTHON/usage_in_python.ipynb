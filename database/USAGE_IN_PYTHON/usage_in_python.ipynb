{
 "cells": [
  {
   "attachments": {},
   "cell_type": "markdown",
   "metadata": {},
   "source": [
    "# Usage in Python\n",
    "\n",
    "- Python has support for working with different databases:\n",
    "1. sqlite\n",
    "2. mysql\n",
    "3. postgres\n",
    "4. etc."
   ]
  },
  {
   "attachments": {},
   "cell_type": "markdown",
   "metadata": {},
   "source": [
    "## Psycopg\n",
    "- Psycopg is the most popular PostgreSQL database adapter for python\n",
    "- Psycopg 2 is mostly implemented in C\n",
    "- Many Python types are supported and adapted to matching PostgreSQL data types"
   ]
  },
  {
   "cell_type": "markdown",
   "metadata": {},
   "source": [
    "## Basic module usage"
   ]
  },
  {
   "attachments": {},
   "cell_type": "markdown",
   "metadata": {},
   "source": [
    "> python3 -m pip install psycopg2 "
   ]
  },
  {
   "attachments": {},
   "cell_type": "markdown",
   "metadata": {},
   "source": [
    "> create database python_db;"
   ]
  },
  {
   "cell_type": "code",
   "execution_count": 1,
   "metadata": {},
   "outputs": [
    {
     "data": {
      "text/plain": [
       "(1, 100, \"abc'def\")"
      ]
     },
     "execution_count": 1,
     "metadata": {},
     "output_type": "execute_result"
    }
   ],
   "source": [
    "import psycopg2\n",
    "\n",
    "#Connect to an existing database\n",
    "conn = psycopg2.connect(\n",
    "    host=\"localhost\",\n",
    "    database=\"python_db\",\n",
    "    user=\"postgres\",\n",
    "    password=\"password\"\n",
    ")\n",
    "\n",
    "#Open a cursor to perform database operations\n",
    "cursor = conn.cursor()\n",
    "\n",
    "#Execute a command: this creates a new table\n",
    "cursor.execute(\"CREATE TABLE if not exists test (id serial PRIMARY KEY, num integer, data varchar);\")\n",
    "\n",
    "#Pass data to fill a query placeholders \n",
    "cursor.execute(\"INSERT INTO test (num, data) VALUES (%s, %s);\", (100, \"abc'def\"))\n",
    "\n",
    "# Query the database and obtain data as Python objects\n",
    "cursor.execute(\"SELECT * FROM test;\")\n",
    "data = cursor.fetchone()\n",
    "\n",
    "# Make the changes to the database persistent\n",
    "conn.commit()\n",
    "\n",
    "# Close communication with the database\n",
    "#cursor.close()\n",
    "#conn.close()\n",
    "data"
   ]
  },
  {
   "cell_type": "code",
   "execution_count": 2,
   "metadata": {},
   "outputs": [
    {
     "data": {
      "text/plain": [
       "[(1, 100, \"abc'def\"),\n",
       " (2, 100, \"abc'def\"),\n",
       " (4, 100, \"abc'def\"),\n",
       " (5, 100, \"abc'def\"),\n",
       " (6, 100, \"abc'def\"),\n",
       " (7, 100, \"abc'def\"),\n",
       " (8, 100, \"abc'def\"),\n",
       " (9, 100, \"abc'def\"),\n",
       " (10, 100, \"abc'def\"),\n",
       " (11, 22, 'BLA'),\n",
       " (12, 100, 'DATA'),\n",
       " (16, 100, \"abc'def\"),\n",
       " (17, 100, 'DATA'),\n",
       " (19, None, 'Bla'),\n",
       " (20, None, 'Bla'),\n",
       " (21, None, 'Bla'),\n",
       " (22, None, 'Bla'),\n",
       " (25, None, 'Bla'),\n",
       " (31, None, 'HELLO WORLD'),\n",
       " (32, None, \"HELLO WORLD'); select * from test where '1' in ('1\"),\n",
       " (33, 1, None),\n",
       " (34, 1000, None),\n",
       " (35, 1000, None),\n",
       " (36, 2000, None),\n",
       " (37, 3000, None),\n",
       " (38, 1000, None),\n",
       " (39, 2000, None),\n",
       " (40, 3000, None),\n",
       " (41, 100, \"abc'def\")]"
      ]
     },
     "execution_count": 2,
     "metadata": {},
     "output_type": "execute_result"
    }
   ],
   "source": [
    "cursor.execute(\"select * from test;\")\n",
    "cursor.fetchall()"
   ]
  },
  {
   "attachments": {},
   "cell_type": "markdown",
   "metadata": {},
   "source": [
    "- connect() creates a new database session\n",
    "(a new connection instance is returned)"
   ]
  },
  {
   "cell_type": "code",
   "execution_count": 3,
   "metadata": {},
   "outputs": [
    {
     "name": "stdout",
     "output_type": "stream",
     "text": [
      "<class 'psycopg2.extensions.connection'>\n"
     ]
    }
   ],
   "source": [
    "print(type(conn))"
   ]
  },
  {
   "attachments": {},
   "cell_type": "markdown",
   "metadata": {},
   "source": [
    "- each connection/session can create new cursor instances\n",
    "- cursor instances can execute database commands\n",
    "- commands are sent by the following methods:\n",
    "1. execute()\n",
    "2. executemany()\n",
    "- to retrieve data use following cursor methods:\n",
    "1. fetchone() - gets one row of the query\n",
    "2. fetchall() - gets all available rows\n",
    "3. fetchmany() - gets as many rows as specified e.g. fetchmany(5)"
   ]
  },
  {
   "attachments": {},
   "cell_type": "markdown",
   "metadata": {},
   "source": [
    "### Access Data From a cursor\n",
    "- You can have many cursors sharing the same connection to a database.\n",
    "\n",
    "\n",
    "- a query can potentially match very large sets of data\n",
    "- Read operations do not immediately return all values matching the query\n",
    "- these operations rely on cursors\n",
    "- cursors fetches data in batches to reduce memory consumption\n",
    "\n",
    "- Closing the cursor frees resources associated to the queries.\n",
    "- It would not eliminate the connection to the database itself.\n",
    "(Therefore, there is no need for reauthentication)\n",
    "\n",
    "- Cursors created from the same connection are not isolated\n",
    "- i.e. any changes done to the database by a cursor are visible by other cursor\n"
   ]
  },
  {
   "attachments": {},
   "cell_type": "markdown",
   "metadata": {},
   "source": [
    "### Connections and Cursors\n",
    "- Connections and cursors can be used as context managers and commits if no exception occurs. \n",
    "- the connection is not closed by the context\n",
    "- the cursor is closed by the context"
   ]
  },
  {
   "cell_type": "code",
   "execution_count": 4,
   "metadata": {},
   "outputs": [
    {
     "name": "stdout",
     "output_type": "stream",
     "text": [
      "[(29,)]\n"
     ]
    }
   ],
   "source": [
    "with conn:\n",
    "    with conn.cursor() as curs:\n",
    "        cursor.execute(\"CREATE TABLE if not exists test3 (id serial PRIMARY KEY, num integer, data varchar);\")\n",
    "        curs.execute(\"SELECT * FROM test;\")\n",
    "        curs.execute(\"SELECT count(*) FROM test;\")\n",
    "        print(curs.fetchall())\n",
    "# curs.fetchall()"
   ]
  },
  {
   "attachments": {},
   "cell_type": "markdown",
   "metadata": {},
   "source": [
    "### Passing parameters to SQL queries \n",
    "### execute and executemany()\n",
    "- Execute a database operation \n",
    "- Parameters may be provided \n",
    "- For positional variables binding, the second argument must always be a sequence"
   ]
  },
  {
   "cell_type": "code",
   "execution_count": 5,
   "metadata": {},
   "outputs": [
    {
     "name": "stdout",
     "output_type": "stream",
     "text": [
      "[(1, 100, \"abc'def\"), (2, 100, \"abc'def\"), (4, 100, \"abc'def\"), (5, 100, \"abc'def\"), (6, 100, \"abc'def\"), (7, 100, \"abc'def\"), (8, 100, \"abc'def\"), (9, 100, \"abc'def\"), (10, 100, \"abc'def\"), (11, 22, 'BLA'), (12, 100, 'DATA'), (16, 100, \"abc'def\"), (17, 100, 'DATA'), (19, None, 'Bla'), (20, None, 'Bla'), (21, None, 'Bla'), (22, None, 'Bla'), (25, None, 'Bla'), (31, None, 'HELLO WORLD'), (32, None, \"HELLO WORLD'); select * from test where '1' in ('1\"), (33, 1, None), (34, 1000, None), (35, 1000, None), (36, 2000, None), (37, 3000, None), (38, 1000, None), (39, 2000, None), (40, 3000, None), (41, 100, \"abc'def\"), (23, 22, 'BLA')]\n"
     ]
    }
   ],
   "source": [
    "with conn:\n",
    "    with conn.cursor() as curs:\n",
    "#INSERT INTO some_table (an_int, a_date, a_string)\n",
    "#VALUES (21, 22, 'BLA');\n",
    "        curs.execute(\"\"\"\n",
    "        insert into test (id, num, data)\n",
    "        values (%s, %s, %s)\n",
    "        \"\"\", (23, 22, 'BLA'))\n",
    "        curs.execute(\"select * from test;\")\n",
    "        print(curs.fetchall())"
   ]
  },
  {
   "attachments": {},
   "cell_type": "markdown",
   "metadata": {},
   "source": [
    "- Named arguments are supported too using %(name)s placeholders in the query\n",
    "- allows to specify the values in any order and to repeat the same value"
   ]
  },
  {
   "cell_type": "code",
   "execution_count": 6,
   "metadata": {},
   "outputs": [
    {
     "name": "stdout",
     "output_type": "stream",
     "text": [
      "[(1, 100, \"abc'def\"), (2, 100, \"abc'def\"), (4, 100, \"abc'def\"), (5, 100, \"abc'def\"), (6, 100, \"abc'def\"), (7, 100, \"abc'def\"), (8, 100, \"abc'def\"), (9, 100, \"abc'def\"), (10, 100, \"abc'def\"), (11, 22, 'BLA'), (12, 100, 'DATA'), (16, 100, \"abc'def\"), (17, 100, 'DATA'), (19, None, 'Bla'), (20, None, 'Bla'), (21, None, 'Bla'), (22, None, 'Bla'), (25, None, 'Bla'), (31, None, 'HELLO WORLD'), (32, None, \"HELLO WORLD'); select * from test where '1' in ('1\"), (33, 1, None), (34, 1000, None), (35, 1000, None), (36, 2000, None), (37, 3000, None), (38, 1000, None), (39, 2000, None), (40, 3000, None), (41, 100, \"abc'def\"), (23, 22, 'BLA'), (42, 100, 'DATA')]\n"
     ]
    }
   ],
   "source": [
    "with conn:\n",
    "    with conn.cursor() as curs:\n",
    "        curs.execute(\"\"\"\n",
    "        insert into test (num, data)\n",
    "        values (%(value1)s, %(value2)s)\n",
    "        \"\"\", {'value1':100, 'value2': 'DATA'})\n",
    "        curs.execute(\"select * from test;\")\n",
    "        print(curs.fetchall())"
   ]
  },
  {
   "attachments": {},
   "cell_type": "markdown",
   "metadata": {},
   "source": [
    "### Context and context object\n",
    "- shows that its the same connection"
   ]
  },
  {
   "cell_type": "code",
   "execution_count": 7,
   "metadata": {},
   "outputs": [
    {
     "name": "stdout",
     "output_type": "stream",
     "text": [
      "[(1, 100, \"abc'def\"), (2, 100, \"abc'def\"), (4, 100, \"abc'def\"), (5, 100, \"abc'def\"), (6, 100, \"abc'def\"), (7, 100, \"abc'def\"), (8, 100, \"abc'def\"), (9, 100, \"abc'def\"), (10, 100, \"abc'def\"), (11, 22, 'BLA'), (12, 100, 'DATA'), (16, 100, \"abc'def\"), (17, 100, 'DATA'), (19, None, 'Bla'), (20, None, 'Bla'), (21, None, 'Bla'), (22, None, 'Bla'), (25, None, 'Bla'), (31, None, 'HELLO WORLD'), (32, None, \"HELLO WORLD'); select * from test where '1' in ('1\"), (33, 1, None), (34, 1000, None), (35, 1000, None), (36, 2000, None), (37, 3000, None), (38, 1000, None), (39, 2000, None), (40, 3000, None), (41, 100, \"abc'def\"), (23, 22, 'BLA'), (42, 100, 'DATA')]\n",
      "<connection object at 0x7f25d7b80680; dsn: 'user=postgres password=xxx dbname=python_db host=localhost', closed: 0>\n"
     ]
    }
   ],
   "source": [
    "with conn as conn_val:\n",
    "    with conn.cursor() as curs:\n",
    "        curs.execute(\"select * from test;\")\n",
    "        print(curs.fetchall())\n",
    "        print(conn_val)"
   ]
  },
  {
   "cell_type": "code",
   "execution_count": 8,
   "metadata": {},
   "outputs": [
    {
     "name": "stdout",
     "output_type": "stream",
     "text": [
      "[(1, 100, \"abc'def\"), (2, 100, \"abc'def\"), (4, 100, \"abc'def\"), (5, 100, \"abc'def\"), (6, 100, \"abc'def\"), (7, 100, \"abc'def\"), (8, 100, \"abc'def\"), (9, 100, \"abc'def\"), (10, 100, \"abc'def\"), (11, 22, 'BLA'), (12, 100, 'DATA'), (16, 100, \"abc'def\"), (17, 100, 'DATA'), (19, None, 'Bla'), (20, None, 'Bla'), (21, None, 'Bla'), (22, None, 'Bla'), (25, None, 'Bla'), (31, None, 'HELLO WORLD'), (32, None, \"HELLO WORLD'); select * from test where '1' in ('1\"), (33, 1, None), (34, 1000, None), (35, 1000, None), (36, 2000, None), (37, 3000, None), (38, 1000, None), (39, 2000, None), (40, 3000, None), (41, 100, \"abc'def\"), (23, 22, 'BLA'), (42, 100, 'DATA')]\n",
      "<connection object at 0x7f25d7b80680; dsn: 'user=postgres password=xxx dbname=python_db host=localhost', closed: 0>\n",
      "<connection object at 0x7f25d7b80680; dsn: 'user=postgres password=xxx dbname=python_db host=localhost', closed: 0>\n"
     ]
    }
   ],
   "source": [
    "with conn as conn_val:\n",
    "    with conn.cursor() as curs:\n",
    "        curs.execute(\"select * from test;\")\n",
    "        print(curs.fetchall())\n",
    "        print(conn_val)\n",
    "print(conn_val)\n",
    "# conn.close()\n",
    "# print(conn_val)"
   ]
  },
  {
   "attachments": {},
   "cell_type": "markdown",
   "metadata": {},
   "source": [
    "### The problem with the query parameters - SQL Injection"
   ]
  },
  {
   "cell_type": "code",
   "execution_count": 9,
   "metadata": {},
   "outputs": [
    {
     "name": "stdout",
     "output_type": "stream",
     "text": [
      "[(1, 100, \"abc'def\"), (2, 100, \"abc'def\"), (4, 100, \"abc'def\"), (5, 100, \"abc'def\"), (6, 100, \"abc'def\"), (7, 100, \"abc'def\"), (8, 100, \"abc'def\"), (9, 100, \"abc'def\"), (10, 100, \"abc'def\"), (11, 22, 'BLA'), (12, 100, 'DATA'), (16, 100, \"abc'def\"), (17, 100, 'DATA'), (19, None, 'Bla'), (20, None, 'Bla'), (21, None, 'Bla'), (22, None, 'Bla'), (25, None, 'Bla'), (31, None, 'HELLO WORLD'), (32, None, \"HELLO WORLD'); select * from test where '1' in ('1\"), (33, 1, None), (34, 1000, None), (35, 1000, None), (36, 2000, None), (37, 3000, None), (38, 1000, None), (39, 2000, None), (40, 3000, None), (41, 100, \"abc'def\"), (23, 22, 'BLA'), (42, 100, 'DATA'), (43, 1, None)]\n"
     ]
    }
   ],
   "source": [
    "with conn as conn_val:\n",
    "    with conn.cursor() as curs:\n",
    "        SQL = \"INSERT INTO test (num) VALUES (%s);\" # Note: no quotes, even without quotes\n",
    "        user_input = (\"1); select * from test where 1 in (1\", ) #Malicious input\n",
    "        curs.execute(SQL % user_input)\n",
    "        print(curs.fetchall())"
   ]
  },
  {
   "cell_type": "code",
   "execution_count": 10,
   "metadata": {},
   "outputs": [
    {
     "ename": "InvalidTextRepresentation",
     "evalue": "invalid input syntax for type integer: \"1); select * from test where 1 in (1\"\nLINE 1: INSERT INTO test (num) VALUES ('1); select * from test where...\n                                       ^\n",
     "output_type": "error",
     "traceback": [
      "\u001b[0;31m---------------------------------------------------------------------------\u001b[0m",
      "\u001b[0;31mInvalidTextRepresentation\u001b[0m                 Traceback (most recent call last)",
      "Cell \u001b[0;32mIn [10], line 5\u001b[0m\n\u001b[1;32m      3\u001b[0m SQL \u001b[39m=\u001b[39m \u001b[39m\"\u001b[39m\u001b[39mINSERT INTO test (num) VALUES (\u001b[39m\u001b[39m%s\u001b[39;00m\u001b[39m);\u001b[39m\u001b[39m\"\u001b[39m \u001b[39m# Note: no quotes, even without quotes\u001b[39;00m\n\u001b[1;32m      4\u001b[0m user_input \u001b[39m=\u001b[39m (\u001b[39m\"\u001b[39m\u001b[39m1); select * from test where 1 in (1\u001b[39m\u001b[39m\"\u001b[39m, ) \u001b[39m#Malicious input\u001b[39;00m\n\u001b[0;32m----> 5\u001b[0m curs\u001b[39m.\u001b[39;49mexecute(SQL, user_input)\u001b[39m# handling the quote; prevents injection\u001b[39;00m\n\u001b[1;32m      6\u001b[0m \u001b[39mprint\u001b[39m(curs\u001b[39m.\u001b[39mfetchall())\n",
      "\u001b[0;31mInvalidTextRepresentation\u001b[0m: invalid input syntax for type integer: \"1); select * from test where 1 in (1\"\nLINE 1: INSERT INTO test (num) VALUES ('1); select * from test where...\n                                       ^\n"
     ]
    }
   ],
   "source": [
    "with conn as conn_val:\n",
    "    with conn.cursor() as curs:\n",
    "        SQL = \"INSERT INTO test (num) VALUES (%s);\" # Note: no quotes, even without quotes\n",
    "        user_input = (\"1); select * from test where 1 in (1\", ) #Malicious input\n",
    "        curs.execute(SQL, user_input)# handling the quote; prevents injection\n",
    "        print(curs.fetchall())"
   ]
  },
  {
   "attachments": {},
   "cell_type": "markdown",
   "metadata": {},
   "source": [
    "<span style=color:red;>Warning: Never, never, NEVER use Python string concatenation (+) or string parameters interpolation (%) to pass variables to a SQL query string. </span>"
   ]
  },
  {
   "attachments": {},
   "cell_type": "markdown",
   "metadata": {},
   "source": [
    "![](exploits_of_a_mom.png)"
   ]
  },
  {
   "attachments": {},
   "cell_type": "markdown",
   "metadata": {},
   "source": [
    "### executemany"
   ]
  },
  {
   "cell_type": "code",
   "execution_count": 11,
   "metadata": {},
   "outputs": [
    {
     "name": "stdout",
     "output_type": "stream",
     "text": [
      "[(1, 100, \"abc'def\"), (2, 100, \"abc'def\"), (4, 100, \"abc'def\"), (5, 100, \"abc'def\"), (6, 100, \"abc'def\"), (7, 100, \"abc'def\"), (8, 100, \"abc'def\"), (9, 100, \"abc'def\"), (10, 100, \"abc'def\"), (11, 22, 'BLA'), (12, 100, 'DATA'), (16, 100, \"abc'def\"), (17, 100, 'DATA'), (19, None, 'Bla'), (20, None, 'Bla'), (21, None, 'Bla'), (22, None, 'Bla'), (25, None, 'Bla'), (31, None, 'HELLO WORLD'), (32, None, \"HELLO WORLD'); select * from test where '1' in ('1\"), (33, 1, None), (34, 1000, None), (35, 1000, None), (36, 2000, None), (37, 3000, None), (38, 1000, None), (39, 2000, None), (40, 3000, None), (41, 100, \"abc'def\"), (23, 22, 'BLA'), (42, 100, 'DATA'), (43, 1, None), (44, 1, None), (45, 5, None), (46, 10, None)]\n"
     ]
    }
   ],
   "source": [
    "with conn:\n",
    "    with conn.cursor() as curs:\n",
    "        nums = ((1,), (5,), (10,)) #tuple of tuple\n",
    "        curs.executemany(\"INSERT INTO test (num) VALUES (%s)\", nums)\n",
    "        curs.execute(\"select * from test\")\n",
    "        print(curs.fetchall())\n"
   ]
  },
  {
   "attachments": {},
   "cell_type": "markdown",
   "metadata": {},
   "source": [
    "- Parameters are bounded to the query using the same rules described in the execute() method.\n",
    "- In its current implementation this method is not faster than executing execute() in a loop"
   ]
  },
  {
   "attachments": {},
   "cell_type": "markdown",
   "metadata": {},
   "source": [
    "### Adaptation of Python values to SQL types\n",
    "- There is default mapping to convert Python types into PostgreSQL types, and vice versa\n",
    "\n",
    "- None <-->NULL\n",
    "- bool <-->bool\n",
    "- decimal <--> numeric\n",
    "- str <--> varchar\n",
    "- float <--> real or double\n",
    "- int <--> smallint or integer or bigint\n",
    "- date <--> date\n",
    "- time <--> timetz"
   ]
  },
  {
   "attachments": {},
   "cell_type": "markdown",
   "metadata": {},
   "source": [
    "#### mogrify\n",
    "- Return a query string after arguments binding. \n",
    "- The string returned is exactly the one that would be sent by execute() method.\n"
   ]
  },
  {
   "cell_type": "code",
   "execution_count": 12,
   "metadata": {},
   "outputs": [
    {
     "name": "stdout",
     "output_type": "stream",
     "text": [
      "b\"\\n        INSERT INTO test (num, data) VALUES (10, 'BLA');\\n        \"\n"
     ]
    }
   ],
   "source": [
    "with conn:\n",
    "    with conn.cursor() as curs:\n",
    "        query1 = curs.mogrify(\"INSERT INTO test (num, data) VALUES (10, 'bal');\")\n",
    "        query2 = curs.mogrify(\"\"\"\n",
    "        INSERT INTO test (num, data) VALUES (%s, %s);\n",
    "        \"\"\", (10,'BLA'))\n",
    "        print(query2)"
   ]
  },
  {
   "attachments": {},
   "cell_type": "markdown",
   "metadata": {},
   "source": [
    "- the returned value is always a byte string"
   ]
  },
  {
   "attachments": {},
   "cell_type": "markdown",
   "metadata": {},
   "source": [
    "### Constants adaptation\n",
    "- Python None, True and False are converted into the proper SQL literals:"
   ]
  },
  {
   "cell_type": "code",
   "execution_count": 13,
   "metadata": {},
   "outputs": [
    {
     "name": "stdout",
     "output_type": "stream",
     "text": [
      "b'\\n        SELECT NULL, true, false;'\n"
     ]
    }
   ],
   "source": [
    "\n",
    "with conn:\n",
    "    with conn.cursor() as curs:\n",
    "        query = curs.mogrify(\"\"\"\n",
    "        SELECT %s, %s, %s;\"\"\",(None, True, False))\n",
    "        print(query)"
   ]
  },
  {
   "attachments": {},
   "cell_type": "markdown",
   "metadata": {},
   "source": [
    "### Numeric adaptation"
   ]
  },
  {
   "cell_type": "code",
   "execution_count": 14,
   "metadata": {},
   "outputs": [
    {
     "name": "stdout",
     "output_type": "stream",
     "text": [
      "b'\\n        SELECT 10, 10.0, 10.00;'\n"
     ]
    }
   ],
   "source": [
    "from decimal import Decimal\n",
    "with conn:\n",
    "    with conn.cursor() as curs:\n",
    "        query = curs.mogrify(\"\"\"\n",
    "        SELECT %s, %s, %s;\"\"\",(10, 10.00, Decimal(\"10.00\")))\n",
    "        print(query)"
   ]
  },
  {
   "attachments": {},
   "cell_type": "markdown",
   "metadata": {},
   "source": [
    "- sometimes you may prefer to receive numeric data as float instead:\n",
    "- you can configure an adapter to cast PostgreSQL numeric to Python float.\n"
   ]
  },
  {
   "attachments": {},
   "cell_type": "markdown",
   "metadata": {},
   "source": [
    "### Date/Time objects adaptation"
   ]
  },
  {
   "cell_type": "code",
   "execution_count": 15,
   "metadata": {},
   "outputs": [
    {
     "name": "stdout",
     "output_type": "stream",
     "text": [
      "b\"\\n        SELECT '2023-03-13T21:04:01.501091'::timestamp, '2023-03-13'::date, '21:04:01.501091'::time;\"\n"
     ]
    }
   ],
   "source": [
    "from datetime import datetime\n",
    "dt = datetime.now()\n",
    "dt\n",
    "with conn:\n",
    "    with conn.cursor() as curs:\n",
    "        query = curs.mogrify(\"\"\"\n",
    "        SELECT %s, %s, %s;\"\"\",(dt,dt.date(),dt.time()))\n",
    "        print(query)\n"
   ]
  },
  {
   "attachments": {},
   "cell_type": "markdown",
   "metadata": {},
   "source": [
    "### Lists adaptation\n"
   ]
  },
  {
   "cell_type": "code",
   "execution_count": 16,
   "metadata": {},
   "outputs": [
    {
     "name": "stdout",
     "output_type": "stream",
     "text": [
      "b'\\n        SELECT ARRAY[10,20,30];'\n"
     ]
    }
   ],
   "source": [
    "with conn:\n",
    "    with conn.cursor() as curs:\n",
    "        query = curs.mogrify(\"\"\"\n",
    "        SELECT %s;\"\"\",([10, 20, 30], ))\n",
    "        print(query)"
   ]
  },
  {
   "attachments": {},
   "cell_type": "markdown",
   "metadata": {},
   "source": [
    "### Transactions\n",
    "\n",
    "- Transactions are handled by the connection class\n",
    "- the first time a command is sent to the database, a new transaction is created.\n",
    "- All db commands will be executed in the context of the same transaction\n",
    "- all cursors created by the same connection share the same transaction\n",
    "\n",
    "Should any command fail, the transaction will be aborted \n",
    "- no further command will be executed until rollback is called."
   ]
  },
  {
   "cell_type": "code",
   "execution_count": 127,
   "metadata": {},
   "outputs": [],
   "source": [
    "conn1 = psycopg2.connect(\n",
    "    host=\"localhost\",\n",
    "    database=\"python_db\",\n",
    "    user=\"postgres\",\n",
    "    password=\"password\"\n",
    ")\n",
    "\n",
    "conn2 = psycopg2.connect(\n",
    "    host=\"localhost\",\n",
    "    database=\"python_db\",\n",
    "    user=\"postgres\",\n",
    "    password=\"password\"\n",
    ")\n"
   ]
  },
  {
   "cell_type": "code",
   "execution_count": 153,
   "metadata": {},
   "outputs": [
    {
     "name": "stdout",
     "output_type": "stream",
     "text": [
      "relation \"bla\" does not exist\n",
      "LINE 1: select * from bla\n",
      "                      ^\n",
      "\n",
      "[(1, 100, \"abc'def\"), (2, 22, 'BLA'), (3, 100, 'DATA'), (8, 123, 'HELLO'), (9, 123, 'HELLO'), (10, 123, 'HELLO'), (11, 123, 'HELLO2'), (15, 123, 'HELLO2'), (16, 123, 'HELLO2'), (17, 123, 'HELLO2')]\n"
     ]
    },
    {
     "ename": "InFailedSqlTransaction",
     "evalue": "current transaction is aborted, commands ignored until end of transaction block\n",
     "output_type": "error",
     "traceback": [
      "\u001b[0;31m---------------------------------------------------------------------------\u001b[0m",
      "\u001b[0;31mInFailedSqlTransaction\u001b[0m                    Traceback (most recent call last)",
      "Cell \u001b[0;32mIn [153], line 13\u001b[0m\n\u001b[1;32m     10\u001b[0m curs2_1\u001b[39m.\u001b[39mexecute(\u001b[39m'\u001b[39m\u001b[39mselect * from test\u001b[39m\u001b[39m'\u001b[39m)\n\u001b[1;32m     11\u001b[0m \u001b[39mprint\u001b[39m(curs2_1\u001b[39m.\u001b[39mfetchall())\n\u001b[0;32m---> 13\u001b[0m curs2\u001b[39m.\u001b[39;49mexecute(\u001b[39m'\u001b[39;49m\u001b[39mselect * from test\u001b[39;49m\u001b[39m'\u001b[39;49m)\n\u001b[1;32m     14\u001b[0m curs2\u001b[39m.\u001b[39mfetchall()\n",
      "\u001b[0;31mInFailedSqlTransaction\u001b[0m: current transaction is aborted, commands ignored until end of transaction block\n"
     ]
    }
   ],
   "source": [
    "curs1 = conn1.cursor()\n",
    "curs2 = conn1.cursor()\n",
    "curs2_1 = conn2.cursor()\n",
    "conn1.rollback()\n",
    "try:\n",
    "    curs1.execute('select * from bla')\n",
    "except Exception as e:\n",
    "    print(e)\n",
    "\n",
    "curs2_1.execute('select * from test')\n",
    "print(curs2_1.fetchall())\n",
    "\n",
    "curs2.execute('select * from test')\n",
    "curs2.fetchall()"
   ]
  },
  {
   "attachments": {},
   "cell_type": "markdown",
   "metadata": {},
   "source": [
    "- Postgres relies heavily on transactions to keep data consistent across concurrent connections and parallel activities.\n",
    "- transactions allow a database to implement the ACID properties:\n",
    "the db must be able:\n",
    "1. to handle units of work on its whole (Atomicity)\n",
    "2. to store data without inter-mixed changes to the data (consistency)\n",
    "3. to store data in a way that concurrency actions are executed as if they were\n",
    "alone (isolation) \n",
    "2. to store data in a permanent way (Durability)\n",
    "\n",
    "- An atomic transaction is an indivisible and irreducible series of database operations such that either all occurs, or nothing occurs.\n",
    "\n",
    "- every action issued against the database is executed within a transaction\n",
    "- any transaction is assigned a unique number: *xid*\n",
    "- you can get the xid by inspecting the hidden column *xmin*"
   ]
  },
  {
   "cell_type": "code",
   "execution_count": 166,
   "metadata": {},
   "outputs": [],
   "source": [
    "SQL_xid = 'select txid_current()'\n",
    "SQL_insert = \"insert into test(num, data) values(123, 'HELLO')\"\n",
    "SQL_xmin = 'select xmin, txid_current(),  * from test'"
   ]
  },
  {
   "cell_type": "code",
   "execution_count": 170,
   "metadata": {},
   "outputs": [
    {
     "data": {
      "text/plain": [
       "[('3005', 3043, 1, 100, \"abc'def\"),\n",
       " ('3007', 3043, 2, 22, 'BLA'),\n",
       " ('3008', 3043, 3, 100, 'DATA'),\n",
       " ('3016', 3043, 8, 123, 'HELLO'),\n",
       " ('3017', 3043, 9, 123, 'HELLO'),\n",
       " ('3018', 3043, 10, 123, 'HELLO'),\n",
       " ('3019', 3043, 11, 123, 'HELLO2'),\n",
       " ('3023', 3043, 15, 123, 'HELLO2'),\n",
       " ('3024', 3043, 16, 123, 'HELLO2'),\n",
       " ('3025', 3043, 17, 123, 'HELLO2'),\n",
       " ('3034', 3043, 30, 123, 'HELLO WORLD'),\n",
       " ('3034', 3043, 31, 123, 'HELLO WORLD'),\n",
       " ('3035', 3043, 32, 123, 'HELLO WORLD'),\n",
       " ('3037', 3043, 33, 123, 'HELLO'),\n",
       " ('3037', 3043, 34, 123, 'HELLO'),\n",
       " ('3037', 3043, 35, 123, 'HELLO'),\n",
       " ('3039', 3043, 39, 123, 'HELLO'),\n",
       " ('3039', 3043, 40, 123, 'HELLO'),\n",
       " ('3039', 3043, 41, 123, 'HELLO'),\n",
       " ('3041', 3043, 45, 123, 'HELLO'),\n",
       " ('3041', 3043, 46, 123, 'HELLO'),\n",
       " ('3043', 3043, 48, 123, 'HELLO'),\n",
       " ('3043', 3043, 49, 123, 'HELLO'),\n",
       " ('3043', 3043, 50, 123, 'HELLO')]"
      ]
     },
     "execution_count": 170,
     "metadata": {},
     "output_type": "execute_result"
    }
   ],
   "source": [
    "conn1.rollback()\n",
    "curs1.execute(SQL_insert)\n",
    "curs1.execute(SQL_insert)\n",
    "curs2_1.execute(SQL_insert) # will not be committed\n",
    "conn1.commit() #old transaction is committed and new transaction starts\n",
    "curs1.execute(SQL_insert)\n",
    "curs1.execute(SQL_insert)\n",
    "curs2.execute(SQL_insert)\n",
    "curs1.execute(SQL_xmin)\n",
    "curs1.fetchall()"
   ]
  },
  {
   "attachments": {},
   "cell_type": "markdown",
   "metadata": {},
   "source": [
    "- to do multiple transactions in psql:\n",
    "```\n",
    "begin;\n",
    "insert into test(num, data) values(123, 'HELLO WORLD')\n",
    "insert into test(num, data) values(123, 'HELLO WORLD')\n",
    "commit;\n",
    "``` \n",
    "- rollback: postgres throws away our changes and keeps the pre.transaction state\n",
    "\n",
    "- when postgres issues an error, it aborts the current transaction\n",
    "- it will not honor any following command nor commit and will issue a rollback:\n",
    "\n",
    "```\n",
    "begin;\n",
    "select * from table_that_does_not_exists; --causes error \n",
    "select * from test;\n",
    "commit;\n",
    "``` "
   ]
  },
  {
   "attachments": {},
   "cell_type": "markdown",
   "metadata": {},
   "source": [
    "### Connection Pooling\n",
    "\n",
    "- connections pools are cached database connections\n",
    "- those connections are created and maintained to get reused\n",
    "- main benefit: performance improvement\n",
    "\n",
    "Connection pooling is the process of having a pool of active connections on the backend servers. \n",
    "- These can be used any time a user sends a request.\n",
    "- The server will assign an active connection to the user."
   ]
  },
  {
   "attachments": {},
   "cell_type": "markdown",
   "metadata": {},
   "source": [
    "![](pooling.png)"
   ]
  },
  {
   "attachments": {},
   "cell_type": "markdown",
   "metadata": {},
   "source": [
    "### Example\n",
    "\n",
    "### SimpleConnectionPool:\n",
    "\n"
   ]
  },
  {
   "attachments": {},
   "cell_type": "markdown",
   "metadata": {},
   "source": [
    "```\n",
    "conn = psycopg2.connect(\n",
    "    host=\"localhost\",\n",
    "    database=\"python_db\",\n",
    "    user=\"postgres\",\n",
    "    password=\"password\"\n",
    ")\n",
    "```"
   ]
  },
  {
   "cell_type": "code",
   "execution_count": 178,
   "metadata": {},
   "outputs": [],
   "source": [
    "from psycopg2.pool import SimpleConnectionPool\n",
    "\n",
    "pool = SimpleConnectionPool(minconn=1, maxconn=20,\n",
    "                        host=\"localhost\",\n",
    "                        database=\"python_db\",\n",
    "                        user=\"postgres\",\n",
    "                        password=\"password\"\n",
    "                        )"
   ]
  },
  {
   "cell_type": "code",
   "execution_count": 91,
   "metadata": {},
   "outputs": [],
   "source": [
    "SQL_active_db = \"select usename, client_addr, state from pg_stat_activity where datname='python_db'\"\n"
   ]
  },
  {
   "cell_type": "code",
   "execution_count": 55,
   "metadata": {},
   "outputs": [],
   "source": [
    "SQL_killall = \"\"\"\n",
    "select pg_terminate_backend(pid) from pg_stat_activity where datname='python_db'\n",
    "\"\"\""
   ]
  },
  {
   "cell_type": "code",
   "execution_count": 63,
   "metadata": {},
   "outputs": [],
   "source": [
    "SQL_active = \"select datname from pg_stat_activity\""
   ]
  },
  {
   "cell_type": "code",
   "execution_count": 174,
   "metadata": {},
   "outputs": [],
   "source": [
    "SQL_select = \"Select * from test\" \n",
    "SQL_insert = \"insert into test(num, data) values(123, 'HELLO POOL')\"\n",
    "SQL_xmin = 'select xmin, txid_current(),  * from test'"
   ]
  },
  {
   "cell_type": "code",
   "execution_count": 182,
   "metadata": {},
   "outputs": [
    {
     "data": {
      "text/plain": [
       "[('3005', 3060, 1, 100, \"abc'def\"),\n",
       " ('3007', 3060, 2, 22, 'BLA'),\n",
       " ('3008', 3060, 3, 100, 'DATA'),\n",
       " ('3016', 3060, 8, 123, 'HELLO'),\n",
       " ('3017', 3060, 9, 123, 'HELLO'),\n",
       " ('3018', 3060, 10, 123, 'HELLO'),\n",
       " ('3019', 3060, 11, 123, 'HELLO2'),\n",
       " ('3023', 3060, 15, 123, 'HELLO2'),\n",
       " ('3024', 3060, 16, 123, 'HELLO2'),\n",
       " ('3025', 3060, 17, 123, 'HELLO2'),\n",
       " ('3034', 3060, 30, 123, 'HELLO WORLD'),\n",
       " ('3034', 3060, 31, 123, 'HELLO WORLD'),\n",
       " ('3035', 3060, 32, 123, 'HELLO WORLD'),\n",
       " ('3037', 3060, 33, 123, 'HELLO'),\n",
       " ('3037', 3060, 34, 123, 'HELLO'),\n",
       " ('3037', 3060, 35, 123, 'HELLO'),\n",
       " ('3039', 3060, 39, 123, 'HELLO'),\n",
       " ('3039', 3060, 40, 123, 'HELLO'),\n",
       " ('3039', 3060, 41, 123, 'HELLO'),\n",
       " ('3041', 3060, 45, 123, 'HELLO'),\n",
       " ('3041', 3060, 46, 123, 'HELLO'),\n",
       " ('3044', 3060, 51, 123, 'HELLO'),\n",
       " ('3046', 3060, 52, 123, 'HELLO POOL'),\n",
       " ('3046', 3060, 53, 123, 'HELLO POOL'),\n",
       " ('3048', 3060, 54, 123, 'HELLO POOL'),\n",
       " ('3048', 3060, 55, 123, 'HELLO POOL'),\n",
       " ('3050', 3060, 56, 123, 'HELLO POOL'),\n",
       " ('3050', 3060, 57, 123, 'HELLO POOL'),\n",
       " ('3055', 3060, 62, 123, 'HELLO POOL'),\n",
       " ('3055', 3060, 63, 123, 'HELLO POOL'),\n",
       " ('3058', 3060, 65, 123, 'HELLO POOL'),\n",
       " ('3058', 3060, 66, 123, 'HELLO POOL')]"
      ]
     },
     "execution_count": 182,
     "metadata": {},
     "output_type": "execute_result"
    }
   ],
   "source": [
    "conn = pool.getconn()\n",
    "conn2 = pool.getconn()\n",
    "curs = conn.cursor()\n",
    "curs2 = conn.cursor()\n",
    "curs2_1 = conn2.cursor()\n",
    "curs.execute(SQL_insert)\n",
    "curs2.execute(SQL_insert)\n",
    "curs2_1.execute(SQL_insert)\n",
    "conn.commit() #To save any changes in the database\n",
    "curs.execute(SQL_xmin)\n",
    "data = curs.fetchall()\n",
    "# print(curs.closed)\n",
    "# curs.close()\n",
    "# print(curs.closed)\n",
    "\n",
    "# release the connection object and send back to connection pool\n",
    "pool.putconn(conn)\n",
    "data"
   ]
  },
  {
   "attachments": {},
   "cell_type": "markdown",
   "metadata": {},
   "source": [
    "### Simple Pooling with Context Manager"
   ]
  },
  {
   "cell_type": "code",
   "execution_count": 119,
   "metadata": {},
   "outputs": [],
   "source": [
    "SQL_insert = \"insert into test(num, data) values(123, 'HELLO2')\""
   ]
  },
  {
   "cell_type": "code",
   "execution_count": 120,
   "metadata": {},
   "outputs": [
    {
     "name": "stdout",
     "output_type": "stream",
     "text": [
      "[(1, 100, \"abc'def\"), (2, 22, 'BLA'), (3, 100, 'DATA'), (8, 123, 'HELLO'), (9, 123, 'HELLO'), (10, 123, 'HELLO'), (11, 123, 'HELLO2')]\n"
     ]
    }
   ],
   "source": [
    "with pool.getconn() as conn:\n",
    "    with conn.cursor() as curs:\n",
    "        # curs.execute(SQL_active_db) \n",
    "        curs.execute(SQL_insert) \n",
    "        curs.execute(SQL_select)\n",
    "        print(curs.fetchall())\n",
    "pool.putconn(conn)\n"
   ]
  }
 ],
 "metadata": {
  "kernelspec": {
   "display_name": "Python 3",
   "language": "python",
   "name": "python3"
  },
  "language_info": {
   "codemirror_mode": {
    "name": "ipython",
    "version": 3
   },
   "file_extension": ".py",
   "mimetype": "text/x-python",
   "name": "python",
   "nbconvert_exporter": "python",
   "pygments_lexer": "ipython3",
   "version": "3.8.10"
  },
  "orig_nbformat": 4,
  "vscode": {
   "interpreter": {
    "hash": "916dbcbb3f70747c44a77c7bcd40155683ae19c65e1c03b4aa3499c5328201f1"
   }
  }
 },
 "nbformat": 4,
 "nbformat_minor": 2
}
