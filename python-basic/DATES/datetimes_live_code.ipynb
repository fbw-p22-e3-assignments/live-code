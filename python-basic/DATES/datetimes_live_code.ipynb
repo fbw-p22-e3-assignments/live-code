{
 "cells": [
  {
   "cell_type": "markdown",
   "id": "e4b763ab",
   "metadata": {},
   "source": [
    "# Datetime"
   ]
  },
  {
   "cell_type": "markdown",
   "id": "28b2877c",
   "metadata": {},
   "source": [
    "### The time Module"
   ]
  },
  {
   "cell_type": "markdown",
   "id": "3ed928d9",
   "metadata": {},
   "source": [
    "- *time* module is built-in\n",
    "- *time.time()* and the time.sleep() are the most useful functions"
   ]
  },
  {
   "cell_type": "markdown",
   "id": "562e01a5",
   "metadata": {},
   "source": [
    "### The time.time() Function"
   ]
  },
  {
   "cell_type": "markdown",
   "id": "35bb96c6",
   "metadata": {},
   "source": [
    "- the *Unix epoch* is a time reference commonly used in programming\n",
    "- this *Unix* timestamp started at 12AM on January 1, 1970, Coordinated Universal Time (UTC)\n",
    "- *time.time()* returns the seconds since that moment\n",
    "- this moment is called the epoch *timestamp*"
   ]
  },
  {
   "cell_type": "code",
   "execution_count": 1,
   "id": "3ddb9786",
   "metadata": {},
   "outputs": [
    {
     "data": {
      "text/plain": [
       "1668672873.3232152"
      ]
     },
     "execution_count": 1,
     "metadata": {},
     "output_type": "execute_result"
    }
   ],
   "source": [
    "import time\n",
    "time.time()"
   ]
  },
  {
   "cell_type": "markdown",
   "id": "8f241f52",
   "metadata": {},
   "source": [
    "The return value is how many **seconds** have passed between the *Unix epoch* and the moment the *time.time()* was called"
   ]
  },
  {
   "cell_type": "markdown",
   "id": "0441a8ef",
   "metadata": {},
   "source": [
    "- measure how long a piece of code takes to run:"
   ]
  },
  {
   "cell_type": "code",
   "execution_count": 4,
   "id": "b7daa064",
   "metadata": {},
   "outputs": [
    {
     "name": "stdout",
     "output_type": "stream",
     "text": [
      "To calculate the result the function takes 2.541248321533203s\n"
     ]
    }
   ],
   "source": [
    "import time\n",
    "def calcProd():\n",
    "# Calculate the product of the first 100000 numbers.\n",
    "    product = 1\n",
    "    for i in range(1, 100000):\n",
    "        product = product * i\n",
    "    return product\n",
    "startTime = time.time() # measure the seconds since UNIX Epoch\n",
    "prod = calcProd()\n",
    "endTime = time.time()\n",
    "print(f\"To calculate the result the function takes {endTime - startTime}s\")"
   ]
  },
  {
   "cell_type": "markdown",
   "id": "2a8aa399",
   "metadata": {},
   "source": [
    "### Make it human-readable"
   ]
  },
  {
   "cell_type": "markdown",
   "id": "a7a06007",
   "metadata": {},
   "source": [
    "- time.ctime() function returns a string description of the current time\n",
    "- optionally pass the number of seconds since the *Unix epoch*"
   ]
  },
  {
   "cell_type": "code",
   "execution_count": 8,
   "id": "72d989d7",
   "metadata": {},
   "outputs": [
    {
     "data": {
      "text/plain": [
       "'Thu Nov 17 09:33:56 2022'"
      ]
     },
     "execution_count": 8,
     "metadata": {},
     "output_type": "execute_result"
    }
   ],
   "source": [
    "time.ctime()"
   ]
  },
  {
   "cell_type": "code",
   "execution_count": 9,
   "id": "a5a45d4f",
   "metadata": {},
   "outputs": [
    {
     "data": {
      "text/plain": [
       "'Thu Nov 17 09:33:57 2022'"
      ]
     },
     "execution_count": 9,
     "metadata": {},
     "output_type": "execute_result"
    }
   ],
   "source": [
    "now = time.time()\n",
    "time.ctime(now)"
   ]
  },
  {
   "cell_type": "code",
   "execution_count": 6,
   "id": "b91f2e53",
   "metadata": {},
   "outputs": [
    {
     "data": {
      "text/plain": [
       "'Thu Jan  1 01:00:00 1970'"
      ]
     },
     "execution_count": 6,
     "metadata": {},
     "output_type": "execute_result"
    }
   ],
   "source": [
    "time.ctime(0)"
   ]
  },
  {
   "cell_type": "markdown",
   "id": "c569f548",
   "metadata": {},
   "source": [
    "### The time.sleep() Function"
   ]
  },
  {
   "cell_type": "markdown",
   "id": "80e2260f",
   "metadata": {},
   "source": [
    "- useful to pause a program:"
   ]
  },
  {
   "cell_type": "code",
   "execution_count": 10,
   "id": "fbf1b452",
   "metadata": {},
   "outputs": [
    {
     "name": "stdout",
     "output_type": "stream",
     "text": [
      "Tick\n",
      "Tock\n",
      "Tick\n",
      "Tock\n",
      "Tick\n",
      "Tock\n"
     ]
    }
   ],
   "source": [
    "for i in range(3):\n",
    "    print('Tick')\n",
    "    time.sleep(1)\n",
    "    print('Tock')\n",
    "    time.sleep(1)"
   ]
  },
  {
   "cell_type": "markdown",
   "id": "166e592a",
   "metadata": {},
   "source": [
    "## The datetime Module"
   ]
  },
  {
   "cell_type": "markdown",
   "id": "ce28cf7e",
   "metadata": {},
   "source": [
    "With the datetime we can conviently work with dates:\n",
    "- doing arithmetics\n",
    "- working with different timezone\n",
    "\n",
    "- datetime has it's data type: datetime"
   ]
  },
  {
   "cell_type": "code",
   "execution_count": 12,
   "id": "88f9e9e4",
   "metadata": {},
   "outputs": [
    {
     "data": {
      "text/plain": [
       "datetime.datetime(2022, 11, 17, 9, 39, 59, 250707)"
      ]
     },
     "execution_count": 12,
     "metadata": {},
     "output_type": "execute_result"
    }
   ],
   "source": [
    "import datetime\n",
    "datetime.datetime.now()"
   ]
  },
  {
   "cell_type": "code",
   "execution_count": 13,
   "id": "e28bb73d",
   "metadata": {},
   "outputs": [
    {
     "data": {
      "text/plain": [
       "datetime.datetime"
      ]
     },
     "execution_count": 13,
     "metadata": {},
     "output_type": "execute_result"
    }
   ],
   "source": [
    "type(datetime.datetime.now())"
   ]
  },
  {
   "cell_type": "code",
   "execution_count": 14,
   "id": "c37d5a83",
   "metadata": {},
   "outputs": [],
   "source": [
    "dt = datetime.datetime(2019, 10, 21, 16, 29, 0)"
   ]
  },
  {
   "cell_type": "markdown",
   "id": "d4effe56",
   "metadata": {},
   "source": [
    "we can get all date entites like:\n",
    "- year\n",
    "- month\n",
    "- day\n",
    "- hour\n",
    "- minute\n",
    "- second"
   ]
  },
  {
   "cell_type": "code",
   "execution_count": 17,
   "id": "2f687fda",
   "metadata": {},
   "outputs": [
    {
     "data": {
      "text/plain": [
       "(2019, 10, 21, 16, 29, 0, 0)"
      ]
     },
     "execution_count": 17,
     "metadata": {},
     "output_type": "execute_result"
    }
   ],
   "source": [
    "dt.year, dt.month, dt.day, dt.hour, dt.minute, dt.second, dt.microsecond"
   ]
  },
  {
   "cell_type": "code",
   "execution_count": 18,
   "id": "333dab1d",
   "metadata": {},
   "outputs": [
    {
     "data": {
      "text/plain": [
       "['__add__',\n",
       " '__class__',\n",
       " '__delattr__',\n",
       " '__dir__',\n",
       " '__doc__',\n",
       " '__eq__',\n",
       " '__format__',\n",
       " '__ge__',\n",
       " '__getattribute__',\n",
       " '__gt__',\n",
       " '__hash__',\n",
       " '__init__',\n",
       " '__init_subclass__',\n",
       " '__le__',\n",
       " '__lt__',\n",
       " '__ne__',\n",
       " '__new__',\n",
       " '__radd__',\n",
       " '__reduce__',\n",
       " '__reduce_ex__',\n",
       " '__repr__',\n",
       " '__rsub__',\n",
       " '__setattr__',\n",
       " '__sizeof__',\n",
       " '__str__',\n",
       " '__sub__',\n",
       " '__subclasshook__',\n",
       " 'astimezone',\n",
       " 'combine',\n",
       " 'ctime',\n",
       " 'date',\n",
       " 'day',\n",
       " 'dst',\n",
       " 'fold',\n",
       " 'fromisocalendar',\n",
       " 'fromisoformat',\n",
       " 'fromordinal',\n",
       " 'fromtimestamp',\n",
       " 'hour',\n",
       " 'isocalendar',\n",
       " 'isoformat',\n",
       " 'isoweekday',\n",
       " 'max',\n",
       " 'microsecond',\n",
       " 'min',\n",
       " 'minute',\n",
       " 'month',\n",
       " 'now',\n",
       " 'replace',\n",
       " 'resolution',\n",
       " 'second',\n",
       " 'strftime',\n",
       " 'strptime',\n",
       " 'time',\n",
       " 'timestamp',\n",
       " 'timetuple',\n",
       " 'timetz',\n",
       " 'today',\n",
       " 'toordinal',\n",
       " 'tzinfo',\n",
       " 'tzname',\n",
       " 'utcfromtimestamp',\n",
       " 'utcnow',\n",
       " 'utcoffset',\n",
       " 'utctimetuple',\n",
       " 'weekday',\n",
       " 'year']"
      ]
     },
     "execution_count": 18,
     "metadata": {},
     "output_type": "execute_result"
    }
   ],
   "source": [
    "dir(dt)"
   ]
  },
  {
   "cell_type": "code",
   "execution_count": 19,
   "id": "ea311bdc",
   "metadata": {},
   "outputs": [
    {
     "data": {
      "text/plain": [
       "<function datetime.weekday>"
      ]
     },
     "execution_count": 19,
     "metadata": {},
     "output_type": "execute_result"
    }
   ],
   "source": [
    "dt.weekday"
   ]
  },
  {
   "cell_type": "code",
   "execution_count": 20,
   "id": "a6b723bc",
   "metadata": {},
   "outputs": [
    {
     "data": {
      "text/plain": [
       "0"
      ]
     },
     "execution_count": 20,
     "metadata": {},
     "output_type": "execute_result"
    }
   ],
   "source": [
    "dt.weekday()"
   ]
  },
  {
   "cell_type": "markdown",
   "id": "3b866876",
   "metadata": {},
   "source": [
    "### Convert UNIX Epoch\n",
    "- convert the seconds since the unix epoch timestamp to human-readable format"
   ]
  },
  {
   "cell_type": "code",
   "execution_count": 22,
   "id": "b8e9b522",
   "metadata": {},
   "outputs": [
    {
     "data": {
      "text/plain": [
       "datetime.datetime(1970, 1, 12, 14, 46, 40)"
      ]
     },
     "execution_count": 22,
     "metadata": {},
     "output_type": "execute_result"
    }
   ],
   "source": [
    "datetime.datetime.fromtimestamp(1000000)"
   ]
  },
  {
   "cell_type": "code",
   "execution_count": 24,
   "id": "fab72990",
   "metadata": {},
   "outputs": [],
   "source": [
    "#dir(datetime.time)"
   ]
  },
  {
   "cell_type": "code",
   "execution_count": 28,
   "id": "5e7af384",
   "metadata": {},
   "outputs": [
    {
     "data": {
      "text/plain": [
       "1668676096.1893144"
      ]
     },
     "execution_count": 28,
     "metadata": {},
     "output_type": "execute_result"
    }
   ],
   "source": [
    "seconds = time.time()\n",
    "seconds"
   ]
  },
  {
   "cell_type": "code",
   "execution_count": 29,
   "id": "d8c50b8f",
   "metadata": {},
   "outputs": [
    {
     "data": {
      "text/plain": [
       "datetime.datetime(2022, 11, 17, 10, 8, 16, 189314)"
      ]
     },
     "execution_count": 29,
     "metadata": {},
     "output_type": "execute_result"
    }
   ],
   "source": [
    "datetime.datetime.fromtimestamp(seconds)"
   ]
  },
  {
   "cell_type": "markdown",
   "id": "c5398051",
   "metadata": {},
   "source": [
    "### Arithmetics with Datetime"
   ]
  },
  {
   "cell_type": "code",
   "execution_count": 42,
   "id": "505427b6",
   "metadata": {},
   "outputs": [],
   "source": [
    "helloween2019 = datetime.datetime(2019, 10, 31, 0, 0, 0)\n",
    "newyears2020 = datetime.datetime(2020, 1, 1, 0, 0, 0)\n",
    "oct31_2019 = datetime.datetime(2019, 10, 31, 0, 0, 0)"
   ]
  },
  {
   "cell_type": "code",
   "execution_count": 45,
   "id": "7a7c2864",
   "metadata": {},
   "outputs": [
    {
     "data": {
      "text/plain": [
       "datetime.timedelta(seconds=18000)"
      ]
     },
     "execution_count": 45,
     "metadata": {},
     "output_type": "execute_result"
    }
   ],
   "source": [
    "helloween2019 - oct31_2019"
   ]
  },
  {
   "cell_type": "code",
   "execution_count": 35,
   "id": "4202f4ee",
   "metadata": {},
   "outputs": [
    {
     "data": {
      "text/plain": [
       "True"
      ]
     },
     "execution_count": 35,
     "metadata": {},
     "output_type": "execute_result"
    }
   ],
   "source": [
    "(helloween2019 - oct31_2019).days == 0"
   ]
  },
  {
   "cell_type": "code",
   "execution_count": 36,
   "id": "26b144bb",
   "metadata": {},
   "outputs": [
    {
     "data": {
      "text/plain": [
       "True"
      ]
     },
     "execution_count": 36,
     "metadata": {},
     "output_type": "execute_result"
    }
   ],
   "source": [
    "helloween2019 == oct31_2019"
   ]
  },
  {
   "cell_type": "code",
   "execution_count": 37,
   "id": "2924944c",
   "metadata": {},
   "outputs": [
    {
     "data": {
      "text/plain": [
       "False"
      ]
     },
     "execution_count": 37,
     "metadata": {},
     "output_type": "execute_result"
    }
   ],
   "source": [
    "helloween2019 > newyears2020"
   ]
  },
  {
   "cell_type": "code",
   "execution_count": 38,
   "id": "a078dfe9",
   "metadata": {},
   "outputs": [
    {
     "data": {
      "text/plain": [
       "True"
      ]
     },
     "execution_count": 38,
     "metadata": {},
     "output_type": "execute_result"
    }
   ],
   "source": [
    "helloween2019 < newyears2020"
   ]
  },
  {
   "cell_type": "code",
   "execution_count": 39,
   "id": "62183b03",
   "metadata": {},
   "outputs": [
    {
     "data": {
      "text/plain": [
       "True"
      ]
     },
     "execution_count": 39,
     "metadata": {},
     "output_type": "execute_result"
    }
   ],
   "source": [
    "newyears2020 != oct31_2019"
   ]
  },
  {
   "cell_type": "markdown",
   "id": "18399cb1",
   "metadata": {},
   "source": [
    "### The timedelta Data Type "
   ]
  },
  {
   "cell_type": "markdown",
   "id": "337b94d9",
   "metadata": {},
   "source": [
    "- represents a duration of time rather than a moment in time"
   ]
  },
  {
   "cell_type": "code",
   "execution_count": 46,
   "id": "b7140a8c",
   "metadata": {},
   "outputs": [
    {
     "data": {
      "text/plain": [
       "datetime.timedelta(days=11, seconds=36548)"
      ]
     },
     "execution_count": 46,
     "metadata": {},
     "output_type": "execute_result"
    }
   ],
   "source": [
    "delta = datetime.timedelta(days=11, hours=10, minutes=9, seconds=8)\n",
    "delta"
   ]
  },
  {
   "cell_type": "code",
   "execution_count": 47,
   "id": "016f1fe8",
   "metadata": {},
   "outputs": [
    {
     "data": {
      "text/plain": [
       "(11, 36548, 0)"
      ]
     },
     "execution_count": 47,
     "metadata": {},
     "output_type": "execute_result"
    }
   ],
   "source": [
    "delta.days, delta.seconds, delta.microseconds"
   ]
  },
  {
   "cell_type": "code",
   "execution_count": 48,
   "id": "cea00f06",
   "metadata": {},
   "outputs": [
    {
     "data": {
      "text/plain": [
       "datetime.timedelta"
      ]
     },
     "execution_count": 48,
     "metadata": {},
     "output_type": "execute_result"
    }
   ],
   "source": [
    "type(delta)"
   ]
  },
  {
   "cell_type": "code",
   "execution_count": 50,
   "id": "50c7c51c",
   "metadata": {},
   "outputs": [],
   "source": [
    "#dir(delta)"
   ]
  },
  {
   "cell_type": "code",
   "execution_count": 51,
   "id": "96a7d0e5",
   "metadata": {},
   "outputs": [
    {
     "data": {
      "text/plain": [
       "datetime.timedelta(seconds=36548)"
      ]
     },
     "execution_count": 51,
     "metadata": {},
     "output_type": "execute_result"
    }
   ],
   "source": [
    "datetime.timedelta(hours=10, minutes=9, seconds=8)"
   ]
  },
  {
   "cell_type": "code",
   "execution_count": 52,
   "id": "ae5f94fe",
   "metadata": {},
   "outputs": [
    {
     "data": {
      "text/plain": [
       "datetime.timedelta(days=11, seconds=36548)"
      ]
     },
     "execution_count": 52,
     "metadata": {},
     "output_type": "execute_result"
    }
   ],
   "source": [
    "delta"
   ]
  },
  {
   "cell_type": "code",
   "execution_count": 55,
   "id": "57832919",
   "metadata": {},
   "outputs": [
    {
     "data": {
      "text/plain": [
       "36548"
      ]
     },
     "execution_count": 55,
     "metadata": {},
     "output_type": "execute_result"
    }
   ],
   "source": [
    "delta.seconds"
   ]
  },
  {
   "cell_type": "code",
   "execution_count": 58,
   "id": "c6026227",
   "metadata": {},
   "outputs": [
    {
     "data": {
      "text/plain": [
       "986948.0"
      ]
     },
     "execution_count": 58,
     "metadata": {},
     "output_type": "execute_result"
    }
   ],
   "source": [
    "delta.total_seconds()"
   ]
  },
  {
   "cell_type": "code",
   "execution_count": 56,
   "id": "32f2bba6",
   "metadata": {},
   "outputs": [],
   "source": [
    "#dir(delta)"
   ]
  },
  {
   "cell_type": "code",
   "execution_count": 59,
   "id": "af08cb96",
   "metadata": {},
   "outputs": [
    {
     "data": {
      "text/plain": [
       "'11 days, 10:09:08'"
      ]
     },
     "execution_count": 59,
     "metadata": {},
     "output_type": "execute_result"
    }
   ],
   "source": [
    "str(delta)"
   ]
  },
  {
   "cell_type": "markdown",
   "id": "df6561cd",
   "metadata": {},
   "source": [
    "### Arithmetics with timedelta"
   ]
  },
  {
   "cell_type": "code",
   "execution_count": 60,
   "id": "4909e1f1",
   "metadata": {},
   "outputs": [
    {
     "data": {
      "text/plain": [
       "datetime.datetime(2022, 11, 17, 10, 59, 33, 32983)"
      ]
     },
     "execution_count": 60,
     "metadata": {},
     "output_type": "execute_result"
    }
   ],
   "source": [
    "dt = datetime.datetime.now()\n",
    "thousandDays = datetime.timedelta(days=1000)\n",
    "dt"
   ]
  },
  {
   "cell_type": "code",
   "execution_count": 61,
   "id": "758e844b",
   "metadata": {},
   "outputs": [
    {
     "data": {
      "text/plain": [
       "datetime.datetime(2025, 8, 13, 10, 59, 33, 32983)"
      ]
     },
     "execution_count": 61,
     "metadata": {},
     "output_type": "execute_result"
    }
   ],
   "source": [
    "dt + thousandDays"
   ]
  },
  {
   "cell_type": "code",
   "execution_count": 62,
   "id": "501bfe75",
   "metadata": {},
   "outputs": [
    {
     "data": {
      "text/plain": [
       "datetime.datetime(2020, 2, 21, 10, 59, 33, 32983)"
      ]
     },
     "execution_count": 62,
     "metadata": {},
     "output_type": "execute_result"
    }
   ],
   "source": [
    "dt - thousandDays"
   ]
  },
  {
   "cell_type": "code",
   "execution_count": 65,
   "id": "b54b7d4b",
   "metadata": {},
   "outputs": [],
   "source": [
    "minusthousandDays = datetime.timedelta(days=-1000)"
   ]
  },
  {
   "cell_type": "code",
   "execution_count": 66,
   "id": "81e9db15",
   "metadata": {},
   "outputs": [
    {
     "data": {
      "text/plain": [
       "datetime.datetime(2020, 2, 21, 10, 59, 33, 32983)"
      ]
     },
     "execution_count": 66,
     "metadata": {},
     "output_type": "execute_result"
    }
   ],
   "source": [
    "dt + minusthousandDays"
   ]
  },
  {
   "cell_type": "code",
   "execution_count": 70,
   "id": "f56f0b5b",
   "metadata": {},
   "outputs": [
    {
     "data": {
      "text/plain": [
       "datetime.datetime(2019, 10, 21, 16, 29, 1)"
      ]
     },
     "execution_count": 70,
     "metadata": {},
     "output_type": "execute_result"
    }
   ],
   "source": [
    "oct21st = datetime.datetime(2019, 10, 21, 16, 29, 1)\n",
    "oct21st"
   ]
  },
  {
   "cell_type": "markdown",
   "id": "6b56c862",
   "metadata": {},
   "source": [
    "### Converting datetime Objects into Strings"
   ]
  },
  {
   "cell_type": "markdown",
   "id": "70afd598",
   "metadata": {},
   "source": [
    "- use *strftime()* to make datetime object human-readable"
   ]
  },
  {
   "cell_type": "markdown",
   "id": "7fb0e260",
   "metadata": {},
   "source": [
    "strftime() directive | Meaning\n",
    "--- | ---\n",
    "%Y | Year\n",
    "%y | Year (last two digit)\n",
    "%m | Month\n",
    "%B | Month full name\n",
    "%b | Month name abbrevation\n",
    "%d | day of onth\n",
    "%j | day of year\n",
    "%w | day of week\n",
    "%A | weekday fullname\n",
    "%a | weekday name\n",
    "%H | hours (24h)\n",
    "%I | hours (12h)\n",
    "%M | Minute\n",
    "%S | Seconds\n",
    "%p | 'AM' or 'PM'"
   ]
  },
  {
   "cell_type": "code",
   "execution_count": 71,
   "id": "95119813",
   "metadata": {},
   "outputs": [
    {
     "data": {
      "text/plain": [
       "'2019/10/21 16:29:01'"
      ]
     },
     "execution_count": 71,
     "metadata": {},
     "output_type": "execute_result"
    }
   ],
   "source": [
    "oct21st.strftime('%Y/%m/%d %H:%M:%S')"
   ]
  },
  {
   "cell_type": "code",
   "execution_count": 73,
   "id": "084367df",
   "metadata": {},
   "outputs": [
    {
     "data": {
      "text/plain": [
       "'2019/October/21 16:29:01'"
      ]
     },
     "execution_count": 73,
     "metadata": {},
     "output_type": "execute_result"
    }
   ],
   "source": [
    "oct21st.strftime('%Y/%B/%d %H:%M:%S')"
   ]
  },
  {
   "cell_type": "code",
   "execution_count": 77,
   "id": "3bad9d12",
   "metadata": {},
   "outputs": [
    {
     "data": {
      "text/plain": [
       "'19-Oct-21 16:29:01'"
      ]
     },
     "execution_count": 77,
     "metadata": {},
     "output_type": "execute_result"
    }
   ],
   "source": [
    "oct21st.strftime('%y-%b-%d %H:%M:%S')"
   ]
  },
  {
   "cell_type": "code",
   "execution_count": 80,
   "id": "294b38e4",
   "metadata": {},
   "outputs": [
    {
     "data": {
      "text/plain": [
       "'During 2019 I entered the bar at 04:29 PM.'"
      ]
     },
     "execution_count": 80,
     "metadata": {},
     "output_type": "execute_result"
    }
   ],
   "source": [
    "oct21st.strftime('During %Y I entered the bar at %I:%M %p.')"
   ]
  },
  {
   "cell_type": "code",
   "execution_count": null,
   "id": "9680c935",
   "metadata": {},
   "outputs": [],
   "source": []
  },
  {
   "cell_type": "markdown",
   "id": "15a65334",
   "metadata": {},
   "source": [
    "### Converting Strings into datetime Objects"
   ]
  },
  {
   "cell_type": "markdown",
   "id": "f0fde3a5",
   "metadata": {},
   "source": [
    "- the *strptime()* function is the inverse of the *strftime()* function"
   ]
  },
  {
   "cell_type": "code",
   "execution_count": 86,
   "id": "d077152e",
   "metadata": {},
   "outputs": [],
   "source": [
    "datetime_string = \"Oct 21, 2019\"\n",
    "dt = datetime.datetime.strptime(datetime_string, '%b %d, %Y')"
   ]
  },
  {
   "cell_type": "code",
   "execution_count": 84,
   "id": "e3fa9742",
   "metadata": {},
   "outputs": [
    {
     "data": {
      "text/plain": [
       "'11 2022 17'"
      ]
     },
     "execution_count": 84,
     "metadata": {},
     "output_type": "execute_result"
    }
   ],
   "source": [
    "dt.strftime('%m %Y %d')"
   ]
  },
  {
   "cell_type": "markdown",
   "id": "30a20113",
   "metadata": {},
   "source": [
    "### dateutil"
   ]
  },
  {
   "cell_type": "markdown",
   "id": "073b28e4",
   "metadata": {},
   "source": [
    "- install: python3 -m pip install python-dateutil\n",
    "- support timezones\n"
   ]
  },
  {
   "cell_type": "code",
   "execution_count": 87,
   "id": "dd1e467d",
   "metadata": {},
   "outputs": [],
   "source": [
    "from dateutil import tz"
   ]
  },
  {
   "cell_type": "markdown",
   "id": "1e938c39",
   "metadata": {},
   "source": [
    "##### Convert between different timezones"
   ]
  },
  {
   "cell_type": "markdown",
   "id": "39b68b96",
   "metadata": {},
   "source": [
    "look at the timezone default of the tz module:"
   ]
  },
  {
   "cell_type": "code",
   "execution_count": 88,
   "id": "348e2861",
   "metadata": {},
   "outputs": [
    {
     "data": {
      "text/plain": [
       "tzfile('/etc/localtime')"
      ]
     },
     "execution_count": 88,
     "metadata": {},
     "output_type": "execute_result"
    }
   ],
   "source": [
    "tz.gettz()"
   ]
  },
  {
   "cell_type": "markdown",
   "id": "f876f53d",
   "metadata": {},
   "source": [
    "- This function is also the preferred way to map IANA tz database keys to tzfile objects\n",
    "- Internet Assigned Number Authority (IANA)\n",
    "- Create an tz object with another timezone"
   ]
  },
  {
   "cell_type": "code",
   "execution_count": 96,
   "id": "f2c46bd8",
   "metadata": {},
   "outputs": [
    {
     "data": {
      "text/plain": [
       "tzfile('/usr/share/zoneinfo/America/Los_Angeles')"
      ]
     },
     "execution_count": 96,
     "metadata": {},
     "output_type": "execute_result"
    }
   ],
   "source": [
    "usa = \"America/Los_Angeles\"\n",
    "usa_tz = tz.gettz(usa)\n",
    "usa_tz"
   ]
  },
  {
   "cell_type": "markdown",
   "id": "224047c5",
   "metadata": {},
   "source": [
    "##### set the tz in datetime:"
   ]
  },
  {
   "cell_type": "code",
   "execution_count": 98,
   "id": "0da3016b",
   "metadata": {},
   "outputs": [
    {
     "data": {
      "text/plain": [
       "datetime.datetime(2021, 8, 1, 13, 35, tzinfo=tzfile('/usr/share/zoneinfo/America/Los_Angeles'))"
      ]
     },
     "execution_count": 98,
     "metadata": {},
     "output_type": "execute_result"
    }
   ],
   "source": [
    "meeting_LA = datetime.datetime(2021, 8, 1, 13, 35, tzinfo=usa_tz)\n",
    "meeting_LA"
   ]
  },
  {
   "cell_type": "markdown",
   "id": "c5a8b0f4",
   "metadata": {},
   "source": [
    "###### convert with *.astimezone()*:"
   ]
  },
  {
   "cell_type": "code",
   "execution_count": 100,
   "id": "09f6abef",
   "metadata": {},
   "outputs": [
    {
     "data": {
      "text/plain": [
       "datetime.datetime(2021, 8, 1, 22, 35, tzinfo=tzfile('/etc/localtime'))"
      ]
     },
     "execution_count": 100,
     "metadata": {},
     "output_type": "execute_result"
    }
   ],
   "source": [
    "meeting_LA.astimezone(tz.gettz())"
   ]
  },
  {
   "cell_type": "code",
   "execution_count": 101,
   "id": "edb1dc86",
   "metadata": {},
   "outputs": [
    {
     "data": {
      "text/plain": [
       "datetime.datetime(2021, 8, 1, 22, 35, tzinfo=tzfile('/usr/share/zoneinfo/Europe/Berlin'))"
      ]
     },
     "execution_count": 101,
     "metadata": {},
     "output_type": "execute_result"
    }
   ],
   "source": [
    "meeting_LA.astimezone(tz.gettz('Europe/Berlin'))"
   ]
  },
  {
   "cell_type": "code",
   "execution_count": 103,
   "id": "d4de6187",
   "metadata": {},
   "outputs": [
    {
     "data": {
      "text/plain": [
       "'1970 Jan 01, 01 AM'"
      ]
     },
     "execution_count": 103,
     "metadata": {},
     "output_type": "execute_result"
    }
   ],
   "source": [
    "unix_epoch = datetime.datetime.fromtimestamp(0)\n",
    "unix_epoch.strftime('%Y %b %d, %I %p')"
   ]
  },
  {
   "cell_type": "code",
   "execution_count": 104,
   "id": "e4105416",
   "metadata": {},
   "outputs": [
    {
     "data": {
      "text/plain": [
       "'1970 Jan 01, 12 AM'"
      ]
     },
     "execution_count": 104,
     "metadata": {},
     "output_type": "execute_result"
    }
   ],
   "source": [
    "unix_epoch.astimezone(tz.gettz('UTC')).strftime('%Y %b %d, %I %p')"
   ]
  }
 ],
 "metadata": {
  "kernelspec": {
   "display_name": "Python 3 (ipykernel)",
   "language": "python",
   "name": "python3"
  },
  "language_info": {
   "codemirror_mode": {
    "name": "ipython",
    "version": 3
   },
   "file_extension": ".py",
   "mimetype": "text/x-python",
   "name": "python",
   "nbconvert_exporter": "python",
   "pygments_lexer": "ipython3",
   "version": "3.8.10"
  }
 },
 "nbformat": 4,
 "nbformat_minor": 5
}
