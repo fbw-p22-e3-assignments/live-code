{
 "cells": [
  {
   "cell_type": "markdown",
   "id": "f292167c",
   "metadata": {},
   "source": [
    "# Closures\n",
    "\n",
    "- recap of scope\n",
    "- we hav global scope and local scope\n",
    "- scope affects  our variable"
   ]
  },
  {
   "cell_type": "code",
   "execution_count": 2,
   "id": "5482968d",
   "metadata": {},
   "outputs": [
    {
     "name": "stdout",
     "output_type": "stream",
     "text": [
      "3\n"
     ]
    },
    {
     "ename": "NameError",
     "evalue": "name 'b' is not defined",
     "output_type": "error",
     "traceback": [
      "\u001b[0;31m---------------------------------------------------------------------------\u001b[0m",
      "\u001b[0;31mNameError\u001b[0m                                 Traceback (most recent call last)",
      "Cell \u001b[0;32mIn [2], line 5\u001b[0m\n\u001b[1;32m      2\u001b[0m     \u001b[38;5;28mprint\u001b[39m(a)\n\u001b[1;32m      3\u001b[0m     \u001b[38;5;28mprint\u001b[39m(b)\n\u001b[0;32m----> 5\u001b[0m \u001b[43mf1\u001b[49m\u001b[43m(\u001b[49m\u001b[38;5;241;43m3\u001b[39;49m\u001b[43m)\u001b[49m\n",
      "Cell \u001b[0;32mIn [2], line 3\u001b[0m, in \u001b[0;36mf1\u001b[0;34m(a)\u001b[0m\n\u001b[1;32m      1\u001b[0m \u001b[38;5;28;01mdef\u001b[39;00m \u001b[38;5;21mf1\u001b[39m(a):\n\u001b[1;32m      2\u001b[0m     \u001b[38;5;28mprint\u001b[39m(a)\n\u001b[0;32m----> 3\u001b[0m     \u001b[38;5;28mprint\u001b[39m(\u001b[43mb\u001b[49m)\n",
      "\u001b[0;31mNameError\u001b[0m: name 'b' is not defined"
     ]
    }
   ],
   "source": [
    "def f1(a):\n",
    "    print(a)\n",
    "    print(b)\n",
    "\n",
    "f1(3)"
   ]
  },
  {
   "cell_type": "code",
   "execution_count": 3,
   "id": "2941e378",
   "metadata": {},
   "outputs": [
    {
     "name": "stdout",
     "output_type": "stream",
     "text": [
      "3\n",
      "6\n"
     ]
    }
   ],
   "source": [
    "b = 6\n",
    "f1(3)"
   ]
  },
  {
   "cell_type": "code",
   "execution_count": 12,
   "id": "c54e322b",
   "metadata": {},
   "outputs": [
    {
     "name": "stdout",
     "output_type": "stream",
     "text": [
      "3\n"
     ]
    },
    {
     "ename": "UnboundLocalError",
     "evalue": "local variable 'b' referenced before assignment",
     "output_type": "error",
     "traceback": [
      "\u001b[0;31m---------------------------------------------------------------------------\u001b[0m",
      "\u001b[0;31mUnboundLocalError\u001b[0m                         Traceback (most recent call last)",
      "Cell \u001b[0;32mIn [12], line 6\u001b[0m\n\u001b[1;32m      4\u001b[0m     \u001b[38;5;28mprint\u001b[39m(\u001b[38;5;124m'\u001b[39m\u001b[38;5;124mb\u001b[39m\u001b[38;5;124m'\u001b[39m,b)\n\u001b[1;32m      5\u001b[0m     b \u001b[38;5;241m=\u001b[39m \u001b[38;5;241m2\u001b[39m\n\u001b[0;32m----> 6\u001b[0m \u001b[43mf2\u001b[49m\u001b[43m(\u001b[49m\u001b[38;5;241;43m3\u001b[39;49m\u001b[43m)\u001b[49m\n",
      "Cell \u001b[0;32mIn [12], line 4\u001b[0m, in \u001b[0;36mf2\u001b[0;34m(a)\u001b[0m\n\u001b[1;32m      2\u001b[0m \u001b[38;5;28;01mdef\u001b[39;00m \u001b[38;5;21mf2\u001b[39m(a):\n\u001b[1;32m      3\u001b[0m     \u001b[38;5;28mprint\u001b[39m(a)\n\u001b[0;32m----> 4\u001b[0m     \u001b[38;5;28mprint\u001b[39m(\u001b[38;5;124m'\u001b[39m\u001b[38;5;124mb\u001b[39m\u001b[38;5;124m'\u001b[39m,\u001b[43mb\u001b[49m)\n\u001b[1;32m      5\u001b[0m     b \u001b[38;5;241m=\u001b[39m \u001b[38;5;241m2\u001b[39m\n",
      "\u001b[0;31mUnboundLocalError\u001b[0m: local variable 'b' referenced before assignment"
     ]
    }
   ],
   "source": [
    "b = 2\n",
    "def f2(a):\n",
    "    print(a)\n",
    "    print('b',b)\n",
    "    b = 2\n",
    "f2(3)"
   ]
  },
  {
   "cell_type": "markdown",
   "id": "0aa1a549",
   "metadata": {},
   "source": [
    "When Python compiles the body of the function, it decides that *b* is a local variabe because it is assigned within the function.\n",
    "\n",
    "Python does not require you to declare variables, but assumes that a variable assigned in the body of a function is **local**.\n",
    "\n",
    "If we want the interpreter to treat *b* here as **global** variable, we use the global declaration:"
   ]
  },
  {
   "cell_type": "code",
   "execution_count": 22,
   "id": "284b760c",
   "metadata": {},
   "outputs": [
    {
     "name": "stdout",
     "output_type": "stream",
     "text": [
      "3\n",
      "b adw\n",
      "{'a': 3}\n",
      "afdwa\n",
      "afdwa\n"
     ]
    }
   ],
   "source": [
    "b = 'hello'\n",
    "b = 2\n",
    "def f2(a):\n",
    "    global b   #global declaration\n",
    "    print(a)\n",
    "    b = 'adw'\n",
    "    print('b',b)\n",
    "    print(locals())\n",
    "    b = 'afdwa'\n",
    "    print(b)\n",
    "f2(3)\n",
    "print(b)"
   ]
  },
  {
   "cell_type": "markdown",
   "id": "8120cc00",
   "metadata": {},
   "source": [
    "We have seen two scopes in action:\n",
    "\n",
    "*The module global scope* Made of names assigned to values outside of any class or function block.\n",
    "\n",
    "*The f2 function local scope* Made of names assigned to values as parameters, or directly in the body of the function."
   ]
  },
  {
   "cell_type": "markdown",
   "id": "994cf85d",
   "metadata": {},
   "source": [
    "## Closures"
   ]
  },
  {
   "cell_type": "markdown",
   "id": "ce33295d",
   "metadata": {},
   "source": [
    "A closure is a function *f* with an extended scope that includes variables referenced in the body of f that are not global or local variables of *f*.\n",
    "Iz can access nonglobal variables outside the function *f* body."
   ]
  },
  {
   "cell_type": "code",
   "execution_count": 40,
   "id": "4ca74d5a",
   "metadata": {},
   "outputs": [],
   "source": [
    "\n",
    "def make_averager():\n",
    "    series = []\n",
    "    series2 = []\n",
    "    def averager(new_value):\n",
    "        print(series2)\n",
    "        series.append(new_value)\n",
    "        total = sum(series)\n",
    "        return total / len(series)\n",
    "    def t2():\n",
    "        pass\n",
    "    return averager"
   ]
  },
  {
   "cell_type": "code",
   "execution_count": 41,
   "id": "203a49c8",
   "metadata": {},
   "outputs": [
    {
     "name": "stdout",
     "output_type": "stream",
     "text": [
      "[]\n"
     ]
    },
    {
     "data": {
      "text/plain": [
       "10.0"
      ]
     },
     "execution_count": 41,
     "metadata": {},
     "output_type": "execute_result"
    }
   ],
   "source": [
    "\n",
    "avg = make_averager()\n",
    "avg(10)"
   ]
  },
  {
   "cell_type": "code",
   "execution_count": 42,
   "id": "ef600800",
   "metadata": {},
   "outputs": [
    {
     "name": "stdout",
     "output_type": "stream",
     "text": [
      "[]\n"
     ]
    },
    {
     "data": {
      "text/plain": [
       "10.5"
      ]
     },
     "execution_count": 42,
     "metadata": {},
     "output_type": "execute_result"
    }
   ],
   "source": [
    "avg(11)"
   ]
  },
  {
   "cell_type": "code",
   "execution_count": 43,
   "id": "281b8a24",
   "metadata": {},
   "outputs": [
    {
     "name": "stdout",
     "output_type": "stream",
     "text": [
      "[]\n"
     ]
    },
    {
     "data": {
      "text/plain": [
       "11.0"
      ]
     },
     "execution_count": 43,
     "metadata": {},
     "output_type": "execute_result"
    }
   ],
   "source": [
    "avg(12)"
   ]
  },
  {
   "cell_type": "markdown",
   "id": "3546bbd9",
   "metadata": {},
   "source": [
    "Where does the *avg* function find the series?\n",
    "\n",
    "Note that **series** is a local variable of *make_averager* because the assignment **series** =[] happens in the body of the function.\n",
    "But when *avg(10)* is called, *make_averager* has already returned, and its local scope is lon gone.\n",
    "\n",
    "Within *averager*, **series** is a *free variable*. \n",
    "\n",
    "\n",
    "![closure](free_var.png)"
   ]
  },
  {
   "cell_type": "markdown",
   "id": "60ccc135",
   "metadata": {},
   "source": [
    "We can look at the variables of our function by looking at the __ code__ attributes. __ code__ represents the compiled body of the function.\n"
   ]
  },
  {
   "cell_type": "code",
   "execution_count": 44,
   "id": "7c34a356",
   "metadata": {},
   "outputs": [
    {
     "data": {
      "text/plain": [
       "('new_value', 'total')"
      ]
     },
     "execution_count": 44,
     "metadata": {},
     "output_type": "execute_result"
    }
   ],
   "source": [
    "avg.__code__.co_varnames"
   ]
  },
  {
   "cell_type": "code",
   "execution_count": 45,
   "id": "9f9da528",
   "metadata": {},
   "outputs": [
    {
     "data": {
      "text/plain": [
       "('series', 'series2')"
      ]
     },
     "execution_count": 45,
     "metadata": {},
     "output_type": "execute_result"
    }
   ],
   "source": [
    "avg.__code__.co_freevars"
   ]
  },
  {
   "cell_type": "code",
   "execution_count": 46,
   "id": "688e65c6",
   "metadata": {},
   "outputs": [
    {
     "data": {
      "text/plain": [
       "(<cell at 0x7f57a09398b0: list object at 0x7f57a08b2b80>,\n",
       " <cell at 0x7f57a0939e80: list object at 0x7f57a083f580>)"
      ]
     },
     "execution_count": 46,
     "metadata": {},
     "output_type": "execute_result"
    }
   ],
   "source": [
    "avg.__closure__"
   ]
  },
  {
   "cell_type": "code",
   "execution_count": 47,
   "id": "ecb41c63",
   "metadata": {},
   "outputs": [
    {
     "data": {
      "text/plain": [
       "[]"
      ]
     },
     "execution_count": 47,
     "metadata": {},
     "output_type": "execute_result"
    }
   ],
   "source": [
    "avg.__closure__[1].cell_contents"
   ]
  },
  {
   "cell_type": "code",
   "execution_count": 39,
   "id": "db6efc07",
   "metadata": {},
   "outputs": [
    {
     "ename": "IndexError",
     "evalue": "tuple index out of range",
     "output_type": "error",
     "traceback": [
      "\u001b[0;31m---------------------------------------------------------------------------\u001b[0m",
      "\u001b[0;31mIndexError\u001b[0m                                Traceback (most recent call last)",
      "Cell \u001b[0;32mIn [39], line 1\u001b[0m\n\u001b[0;32m----> 1\u001b[0m \u001b[43mavg\u001b[49m\u001b[38;5;241;43m.\u001b[39;49m\u001b[38;5;18;43m__closure__\u001b[39;49m\u001b[43m[\u001b[49m\u001b[38;5;241;43m1\u001b[39;49m\u001b[43m]\u001b[49m\n",
      "\u001b[0;31mIndexError\u001b[0m: tuple index out of range"
     ]
    }
   ],
   "source": [
    "avg.__closure__"
   ]
  },
  {
   "cell_type": "markdown",
   "id": "db5d2951",
   "metadata": {},
   "source": [
    "A closure is a function that keeps the binding of the free variable that exists when the function is defined, so that they can be used later when the function is called and the defining scope is no longer available.\n",
    "\n",
    "*lexical scope*: The body of a function is evaluated in the environment where the function is defined, not the environment where the function is called. \n",
    "The scope where a object was defined we also call *lexical scope*."
   ]
  },
  {
   "cell_type": "code",
   "execution_count": 75,
   "id": "c2ad2348",
   "metadata": {},
   "outputs": [
    {
     "ename": "UnboundLocalError",
     "evalue": "local variable 'count' referenced before assignment",
     "output_type": "error",
     "traceback": [
      "\u001b[0;31m---------------------------------------------------------------------------\u001b[0m",
      "\u001b[0;31mUnboundLocalError\u001b[0m                         Traceback (most recent call last)",
      "Cell \u001b[0;32mIn [75], line 12\u001b[0m\n\u001b[1;32m      9\u001b[0m     \u001b[38;5;28;01mreturn\u001b[39;00m averager\n\u001b[1;32m     11\u001b[0m avg \u001b[38;5;241m=\u001b[39m make_averager()\n\u001b[0;32m---> 12\u001b[0m \u001b[43mavg\u001b[49m\u001b[43m(\u001b[49m\u001b[38;5;241;43m10\u001b[39;49m\u001b[43m)\u001b[49m\n",
      "Cell \u001b[0;32mIn [75], line 6\u001b[0m, in \u001b[0;36mmake_averager.<locals>.averager\u001b[0;34m(new_value)\u001b[0m\n\u001b[1;32m      5\u001b[0m \u001b[38;5;28;01mdef\u001b[39;00m \u001b[38;5;21maverager\u001b[39m(new_value):\n\u001b[0;32m----> 6\u001b[0m     count \u001b[38;5;241m=\u001b[39m \u001b[43mcount\u001b[49m \u001b[38;5;241m+\u001b[39m \u001b[38;5;241m1\u001b[39m\n\u001b[1;32m      7\u001b[0m     total \u001b[38;5;241m=\u001b[39m total \u001b[38;5;241m+\u001b[39m new_value\n\u001b[1;32m      8\u001b[0m     \u001b[38;5;28;01mreturn\u001b[39;00m total \u001b[38;5;241m/\u001b[39m count\n",
      "\u001b[0;31mUnboundLocalError\u001b[0m: local variable 'count' referenced before assignment"
     ]
    }
   ],
   "source": [
    "def make_averager():\n",
    "    count = 0\n",
    "    total = 0\n",
    "    \n",
    "    def averager(new_value):\n",
    "        count = count + 1\n",
    "        total = total + new_value\n",
    "        return total / count\n",
    "    return averager\n",
    "    \n",
    "avg = make_averager()\n",
    "avg(10)"
   ]
  },
  {
   "cell_type": "code",
   "execution_count": 76,
   "id": "14d04d74",
   "metadata": {},
   "outputs": [
    {
     "data": {
      "text/plain": [
       "('new_value', 'count', 'total')"
      ]
     },
     "execution_count": 76,
     "metadata": {},
     "output_type": "execute_result"
    }
   ],
   "source": [
    "avg.__code__.co_varnames"
   ]
  },
  {
   "cell_type": "code",
   "execution_count": 77,
   "id": "ceaf5833",
   "metadata": {},
   "outputs": [
    {
     "data": {
      "text/plain": [
       "()"
      ]
     },
     "execution_count": 77,
     "metadata": {},
     "output_type": "execute_result"
    }
   ],
   "source": [
    "avg.__code__.co_freevars"
   ]
  },
  {
   "cell_type": "code",
   "execution_count": 78,
   "id": "74b57bb7",
   "metadata": {},
   "outputs": [
    {
     "data": {
      "text/plain": [
       "10.0"
      ]
     },
     "execution_count": 78,
     "metadata": {},
     "output_type": "execute_result"
    }
   ],
   "source": [
    "def make_averager():\n",
    "    count = 0\n",
    "    total = 0\n",
    "    \n",
    "    def averager(new_value):\n",
    "        nonlocal count, total\n",
    "        count = count + 1\n",
    "        total = total + new_value\n",
    "        return total / count\n",
    "    return averager\n",
    "    \n",
    "avg = make_averager()\n",
    "avg(10)"
   ]
  },
  {
   "cell_type": "code",
   "execution_count": 79,
   "id": "e5f1769c",
   "metadata": {},
   "outputs": [
    {
     "data": {
      "text/plain": [
       "('new_value',)"
      ]
     },
     "execution_count": 79,
     "metadata": {},
     "output_type": "execute_result"
    }
   ],
   "source": [
    "avg.__code__.co_varnames"
   ]
  },
  {
   "cell_type": "code",
   "execution_count": 80,
   "id": "446f9530",
   "metadata": {},
   "outputs": [
    {
     "data": {
      "text/plain": [
       "('count', 'total')"
      ]
     },
     "execution_count": 80,
     "metadata": {},
     "output_type": "execute_result"
    }
   ],
   "source": [
    "avg.__code__.co_freevars"
   ]
  },
  {
   "cell_type": "markdown",
   "id": "691eccf6",
   "metadata": {},
   "source": [
    "*count* and *total* are immutable and all you can do is read, never update. If you try to rebind them, as in *count= count + 1*, then you are implicitly creating a local variable *count*. Therefore, it's not longer a free variable, but a local variable and will be not saved in the closure.\n",
    "\n",
    "To declare variables as free variables us the **nonlocal** keyword."
   ]
  },
  {
   "cell_type": "markdown",
   "id": "0537c19a",
   "metadata": {},
   "source": [
    "# Exercise\n"
   ]
  },
  {
   "cell_type": "code",
   "execution_count": 81,
   "id": "d2e33109",
   "metadata": {},
   "outputs": [
    {
     "data": {
      "text/plain": [
       "18"
      ]
     },
     "execution_count": 81,
     "metadata": {},
     "output_type": "execute_result"
    }
   ],
   "source": [
    "def triple():\n",
    "    a = 3\n",
    "    def multiply(b):\n",
    "        return a * b\n",
    "    return multiply\n",
    "triple()(6)\n"
   ]
  },
  {
   "cell_type": "markdown",
   "id": "580a41f6",
   "metadata": {},
   "source": [
    "what is the free variable and the local variable?\n",
    "what is the closure?\n",
    "use _.co_varnames, __ code__.co_freevars, and __ closure__[0].cell_contents"
   ]
  },
  {
   "cell_type": "code",
   "execution_count": 3,
   "id": "0ebbd9df",
   "metadata": {},
   "outputs": [
    {
     "data": {
      "text/plain": [
       "4"
      ]
     },
     "execution_count": 3,
     "metadata": {},
     "output_type": "execute_result"
    }
   ],
   "source": [
    "def double():\n",
    "    a = 2\n",
    "    def multiply(b):\n",
    "        return a * b\n",
    "    return multiply\n",
    "\n",
    "db = double()\n",
    "db(2)"
   ]
  },
  {
   "cell_type": "code",
   "execution_count": 4,
   "id": "04aa6188",
   "metadata": {},
   "outputs": [
    {
     "data": {
      "text/plain": [
       "6"
      ]
     },
     "execution_count": 4,
     "metadata": {},
     "output_type": "execute_result"
    }
   ],
   "source": [
    "db(3)"
   ]
  },
  {
   "cell_type": "code",
   "execution_count": 9,
   "id": "607a2951",
   "metadata": {},
   "outputs": [
    {
     "data": {
      "text/plain": [
       "6"
      ]
     },
     "execution_count": 9,
     "metadata": {},
     "output_type": "execute_result"
    }
   ],
   "source": [
    "def deco(func):\n",
    "    def inner(a,b):\n",
    "        return 3 * func(a,b)\n",
    "    return inner\n",
    "\n",
    "def multiply(a,b):\n",
    "    return a * b\n",
    "\n",
    "decorated = deco(multiply)\n",
    "decorated.__code__.co_freevars\n",
    "decorated(1,2)"
   ]
  },
  {
   "cell_type": "code",
   "execution_count": 10,
   "id": "c56d8a0a",
   "metadata": {},
   "outputs": [
    {
     "data": {
      "text/plain": [
       "12"
      ]
     },
     "execution_count": 10,
     "metadata": {},
     "output_type": "execute_result"
    }
   ],
   "source": [
    "decorated(2,2)"
   ]
  },
  {
   "cell_type": "markdown",
   "id": "5170da7e",
   "metadata": {},
   "source": [
    "# Decorators\n",
    "\n",
    "- let us mark functions\n",
    "- enhance behavior of function\n",
    "\n",
    "A decorator is a function that takes another function as argument.\n",
    "A decorator may perform some processing with the decorated Function and returns it or replace it with another function object."
   ]
  },
  {
   "cell_type": "code",
   "execution_count": 11,
   "id": "f43f8c62",
   "metadata": {},
   "outputs": [],
   "source": [
    "def decorate(func):\n",
    "    func()\n",
    "    def inner():\n",
    "        print('runnning inner()')\n",
    "    return inner"
   ]
  },
  {
   "cell_type": "code",
   "execution_count": 12,
   "id": "f12a7d0d",
   "metadata": {},
   "outputs": [
    {
     "name": "stdout",
     "output_type": "stream",
     "text": [
      "running target()\n"
     ]
    }
   ],
   "source": [
    "def target():\n",
    "    print('running target()')\n",
    "    \n",
    "target = decorate(target)"
   ]
  },
  {
   "cell_type": "code",
   "execution_count": 13,
   "id": "4fcea9c5",
   "metadata": {},
   "outputs": [
    {
     "name": "stdout",
     "output_type": "stream",
     "text": [
      "runnning inner()\n"
     ]
    }
   ],
   "source": [
    "target()"
   ]
  },
  {
   "cell_type": "code",
   "execution_count": 14,
   "id": "12020c1d",
   "metadata": {},
   "outputs": [
    {
     "name": "stdout",
     "output_type": "stream",
     "text": [
      "running target()\n"
     ]
    }
   ],
   "source": [
    "@decorate\n",
    "def target():\n",
    "    print('running target()')"
   ]
  },
  {
   "cell_type": "code",
   "execution_count": 15,
   "id": "3742de1d",
   "metadata": {},
   "outputs": [
    {
     "name": "stdout",
     "output_type": "stream",
     "text": [
      "runnning inner()\n"
     ]
    }
   ],
   "source": [
    "target()"
   ]
  },
  {
   "cell_type": "markdown",
   "id": "79682fec",
   "metadata": {},
   "source": [
    "Strictly speaking decorators are just syntactic sugar.\n",
    "- decorators are functions\n",
    "- they usually define an inner function and return it to replace the decorated function. Code that uses inner functions almost always depends on closures"
   ]
  },
  {
   "cell_type": "markdown",
   "id": "83f4fee2",
   "metadata": {},
   "source": [
    "## Implementing a Simple Decorator"
   ]
  },
  {
   "cell_type": "code",
   "execution_count": 41,
   "id": "dfa95f5f",
   "metadata": {},
   "outputs": [],
   "source": [
    "import time\n",
    "\n",
    "def clock(fun):\n",
    "    def clocked():      ####inner function\n",
    "        t0 = time.time()\n",
    "        result = fun()  ### fun is the free variable of the closure\n",
    "        elapsed = time.time() - t0\n",
    "        print(\"{elapsed}s func --> {result}\".format(elapsed=elapsed, result=result))\n",
    "        return result\n",
    "    return clocked # return the inner function to replace the decorated function"
   ]
  },
  {
   "cell_type": "code",
   "execution_count": 42,
   "id": "934a7bb6",
   "metadata": {},
   "outputs": [],
   "source": [
    "def snooze():\n",
    "    return 'Hello'"
   ]
  },
  {
   "cell_type": "code",
   "execution_count": 43,
   "id": "5b73d86c",
   "metadata": {},
   "outputs": [],
   "source": [
    "snooze = clock(snooze)"
   ]
  },
  {
   "cell_type": "code",
   "execution_count": 44,
   "id": "83541513",
   "metadata": {},
   "outputs": [
    {
     "name": "stdout",
     "output_type": "stream",
     "text": [
      "9.5367431640625e-07s func --> Hello\n"
     ]
    },
    {
     "data": {
      "text/plain": [
       "'Hello'"
      ]
     },
     "execution_count": 44,
     "metadata": {},
     "output_type": "execute_result"
    }
   ],
   "source": [
    "snooze()"
   ]
  },
  {
   "cell_type": "code",
   "execution_count": 45,
   "id": "479866ff",
   "metadata": {},
   "outputs": [],
   "source": [
    "@clock\n",
    "def snooze():\n",
    "    return 'Hello'"
   ]
  },
  {
   "cell_type": "code",
   "execution_count": 46,
   "id": "e1d9ce1b",
   "metadata": {},
   "outputs": [
    {
     "name": "stdout",
     "output_type": "stream",
     "text": [
      "2.86102294921875e-06s func --> Hello\n"
     ]
    },
    {
     "data": {
      "text/plain": [
       "'Hello'"
      ]
     },
     "execution_count": 46,
     "metadata": {},
     "output_type": "execute_result"
    }
   ],
   "source": [
    "snooze()"
   ]
  },
  {
   "cell_type": "code",
   "execution_count": 47,
   "id": "4f1d8245",
   "metadata": {},
   "outputs": [],
   "source": [
    "def snooze(s):\n",
    "    time.sleep(s)"
   ]
  },
  {
   "cell_type": "code",
   "execution_count": 48,
   "id": "a590bc3a",
   "metadata": {},
   "outputs": [],
   "source": [
    "snooze = clock(snooze)"
   ]
  },
  {
   "cell_type": "code",
   "execution_count": 49,
   "id": "58ddd420",
   "metadata": {},
   "outputs": [
    {
     "ename": "TypeError",
     "evalue": "clocked() takes 0 positional arguments but 1 was given",
     "output_type": "error",
     "traceback": [
      "\u001b[0;31m---------------------------------------------------------------------------\u001b[0m",
      "\u001b[0;31mTypeError\u001b[0m                                 Traceback (most recent call last)",
      "Cell \u001b[0;32mIn [49], line 1\u001b[0m\n\u001b[0;32m----> 1\u001b[0m \u001b[43msnooze\u001b[49m\u001b[43m(\u001b[49m\u001b[38;5;241;43m1\u001b[39;49m\u001b[43m)\u001b[49m\n",
      "\u001b[0;31mTypeError\u001b[0m: clocked() takes 0 positional arguments but 1 was given"
     ]
    }
   ],
   "source": [
    "snooze(1)"
   ]
  },
  {
   "cell_type": "code",
   "execution_count": 54,
   "id": "cad75691",
   "metadata": {},
   "outputs": [],
   "source": [
    "import time\n",
    "\n",
    "def clock(fun):\n",
    "    def clocked(n):      ####inner function\n",
    "        t0 = time.time()\n",
    "        result = fun(n)  # the parameter n is passed further down to fun, which is the\n",
    "        # decorated function or target function\n",
    "        elapsed = time.time() - t0\n",
    "        print(\"{elapsed}s func --> {result}\".format(elapsed=elapsed, result=result))\n",
    "        return result\n",
    "    return clocked # return the inner function to replace the decorated "
   ]
  },
  {
   "cell_type": "code",
   "execution_count": 51,
   "id": "0d7d100f",
   "metadata": {},
   "outputs": [],
   "source": [
    "def snooze(s):  ### snooze is my clocked function which takes n\n",
    "    time.sleep(s)"
   ]
  },
  {
   "cell_type": "code",
   "execution_count": 52,
   "id": "40c21034",
   "metadata": {},
   "outputs": [],
   "source": [
    "snooze = clock(snooze) "
   ]
  },
  {
   "cell_type": "code",
   "execution_count": 53,
   "id": "fe99314a",
   "metadata": {},
   "outputs": [
    {
     "name": "stdout",
     "output_type": "stream",
     "text": [
      "1.0010242462158203s func --> None\n"
     ]
    }
   ],
   "source": [
    "snooze(1)"
   ]
  },
  {
   "cell_type": "code",
   "execution_count": 55,
   "id": "87d7d555",
   "metadata": {},
   "outputs": [],
   "source": [
    "@clock\n",
    "def snooze(s):\n",
    "    time.sleep(s)"
   ]
  },
  {
   "cell_type": "code",
   "execution_count": 56,
   "id": "2c0e180c",
   "metadata": {},
   "outputs": [
    {
     "name": "stdout",
     "output_type": "stream",
     "text": [
      "5.004662275314331s func --> None\n"
     ]
    }
   ],
   "source": [
    "snooze(5)"
   ]
  },
  {
   "cell_type": "markdown",
   "id": "34899368",
   "metadata": {},
   "source": [
    "Faculty: $n!= 1 * 2 * .... * (n-1) * n$"
   ]
  },
  {
   "cell_type": "code",
   "execution_count": 66,
   "id": "5e6b1819",
   "metadata": {},
   "outputs": [
    {
     "name": "stdout",
     "output_type": "stream",
     "text": [
      "2.6226043701171875e-06s func --> 1307674368000\n"
     ]
    },
    {
     "data": {
      "text/plain": [
       "1307674368000"
      ]
     },
     "execution_count": 66,
     "metadata": {},
     "output_type": "execute_result"
    }
   ],
   "source": [
    "@clock\n",
    "def fac(n):\n",
    "    result = 1\n",
    "    if n < 1:\n",
    "        return 1\n",
    "    while n >= 1:\n",
    "        result = result * n\n",
    "        n = n - 1\n",
    "    return result\n",
    "\n",
    "fac(15)"
   ]
  },
  {
   "cell_type": "code",
   "execution_count": 70,
   "id": "fc63237f",
   "metadata": {},
   "outputs": [
    {
     "name": "stdout",
     "output_type": "stream",
     "text": [
      "4.291534423828125e-06s func --> 1307674368000\n"
     ]
    },
    {
     "data": {
      "text/plain": [
       "1307674368000"
      ]
     },
     "execution_count": 70,
     "metadata": {},
     "output_type": "execute_result"
    }
   ],
   "source": [
    "def fac(n):\n",
    "    result = 1\n",
    "    if n < 1:\n",
    "        return 1\n",
    "    while n >= 1:\n",
    "        result = result * n\n",
    "        n = n - 1\n",
    "    return result\n",
    "\n",
    "fac = clock(fac)\n",
    "fac(15)"
   ]
  },
  {
   "cell_type": "markdown",
   "id": "8eed4cc5",
   "metadata": {},
   "source": [
    "- the decorator replaces the decorated function with a new function (inner)\n",
    "- it accepts the same argument and\n",
    "- (usually) returns whatever the decorated funbction was suppose to return\n",
    "- does extra processing\n",
    "- attaches additional responsibilities dynamically"
   ]
  },
  {
   "cell_type": "code",
   "execution_count": null,
   "id": "94e42842",
   "metadata": {},
   "outputs": [],
   "source": []
  },
  {
   "cell_type": "code",
   "execution_count": null,
   "id": "d6f18873",
   "metadata": {},
   "outputs": [],
   "source": []
  },
  {
   "cell_type": "code",
   "execution_count": null,
   "id": "b5b91fe5",
   "metadata": {},
   "outputs": [],
   "source": []
  },
  {
   "cell_type": "code",
   "execution_count": null,
   "id": "3c8d235d",
   "metadata": {},
   "outputs": [],
   "source": []
  },
  {
   "cell_type": "code",
   "execution_count": null,
   "id": "82d5cb4d",
   "metadata": {},
   "outputs": [],
   "source": []
  },
  {
   "cell_type": "code",
   "execution_count": null,
   "id": "c2b87541",
   "metadata": {},
   "outputs": [],
   "source": []
  },
  {
   "cell_type": "code",
   "execution_count": null,
   "id": "4f00f918",
   "metadata": {},
   "outputs": [],
   "source": []
  },
  {
   "cell_type": "code",
   "execution_count": null,
   "id": "79aa2e59",
   "metadata": {},
   "outputs": [],
   "source": []
  }
 ],
 "metadata": {
  "kernelspec": {
   "display_name": "Python 3 (ipykernel)",
   "language": "python",
   "name": "python3"
  },
  "language_info": {
   "codemirror_mode": {
    "name": "ipython",
    "version": 3
   },
   "file_extension": ".py",
   "mimetype": "text/x-python",
   "name": "python",
   "nbconvert_exporter": "python",
   "pygments_lexer": "ipython3",
   "version": "3.8.10"
  }
 },
 "nbformat": 4,
 "nbformat_minor": 5
}
