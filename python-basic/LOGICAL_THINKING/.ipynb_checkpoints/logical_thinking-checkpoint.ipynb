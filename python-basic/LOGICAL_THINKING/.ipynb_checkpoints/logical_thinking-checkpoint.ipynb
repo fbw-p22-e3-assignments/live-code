{
 "cells": [
  {
   "cell_type": "markdown",
   "id": "1b696e22",
   "metadata": {},
   "source": [
    "# Logical Thinking\n",
    "\n",
    "### Recap\n",
    "\n",
    "|Term | Definiton|\n",
    "| :---: | :--------: |\n",
    "| Boolean| A data type that has 2 possible values: **True/False**.|\n",
    "| Predicate | An expression that evaluates/returns a Boolean. |\n",
    "| Logical Operator (**and, or, not**) | A symbol that performs a logical operation. |\n",
    "| Logical expression | A set of predicates and operators that produce a single Boolean. |\n",
    "| Evaluation | The result of executing an expression or a predicate. |\n",
    "\n"
   ]
  },
  {
   "cell_type": "code",
   "execution_count": 27,
   "id": "78f40173",
   "metadata": {},
   "outputs": [
    {
     "data": {
      "text/plain": [
       "True"
      ]
     },
     "execution_count": 27,
     "metadata": {},
     "output_type": "execute_result"
    }
   ],
   "source": [
    "True #Boolean and at the same time a predicated"
   ]
  },
  {
   "cell_type": "code",
   "execution_count": 28,
   "id": "1295b7ba",
   "metadata": {},
   "outputs": [
    {
     "data": {
      "text/plain": [
       "True"
      ]
     },
     "execution_count": 28,
     "metadata": {},
     "output_type": "execute_result"
    }
   ],
   "source": [
    "'x' in 'abcx' #Predicate (with Membership Operator)"
   ]
  },
  {
   "cell_type": "code",
   "execution_count": 29,
   "id": "501395cc",
   "metadata": {},
   "outputs": [
    {
     "data": {
      "text/plain": [
       "True"
      ]
     },
     "execution_count": 29,
     "metadata": {},
     "output_type": "execute_result"
    }
   ],
   "source": [
    "'x' == 'x' #Predicate  (with Comparison Operator/Relational operators)"
   ]
  },
  {
   "cell_type": "code",
   "execution_count": 30,
   "id": "8a8250de",
   "metadata": {},
   "outputs": [
    {
     "data": {
      "text/plain": [
       "True"
      ]
     },
     "execution_count": 30,
     "metadata": {},
     "output_type": "execute_result"
    }
   ],
   "source": [
    "'x' in 'abcx' and 'x' == 'x' # The Logical expression evaluates to True; can you spot the logical operator"
   ]
  },
  {
   "cell_type": "markdown",
   "id": "3b0bfb14",
   "metadata": {},
   "source": [
    "### Recap Truth Tables\n",
    "\n",
    "Truth Tables help us evaluate if a logical expression is doing what we think it does.\n",
    "\n",
    "### AND\n",
    "\n",
    "|AND | True | False\n",
    "| :--: |:--:| :--:\n",
    "|True  |True|False\n",
    "|False |False|False"
   ]
  },
  {
   "cell_type": "markdown",
   "id": "9cd0f1c4",
   "metadata": {},
   "source": [
    "## OR\n",
    "|OR | True | False\n",
    "| :--: |:--:| :--:\n",
    "|True  |True|True\n",
    "|False |True|False\n"
   ]
  },
  {
   "cell_type": "markdown",
   "id": "1cd0a9e2",
   "metadata": {},
   "source": [
    "## NOT \n",
    "\n",
    "|A     | Expression \n",
    "| :--: |:--:\n",
    "|True  |False\n",
    "|False |True"
   ]
  },
  {
   "cell_type": "markdown",
   "id": "d7337399",
   "metadata": {},
   "source": [
    "## XOR:  !=\n",
    "\n",
    "|A     |B| Expression \n",
    "| :--: |:--:|:--:\n",
    "|True  |True\n",
    "|True  |False\n",
    "|False |True\n",
    "|False |False"
   ]
  },
  {
   "cell_type": "markdown",
   "id": "a26e27e4",
   "metadata": {},
   "source": [
    "## NAND: not(A and B)\n",
    "\n",
    "|A     |B| Expression \n",
    "| :--: |:--:|:--:\n",
    "|True  |True\n",
    "|True  |False\n",
    "|False |True\n",
    "|False |False"
   ]
  },
  {
   "cell_type": "markdown",
   "id": "24e68a31",
   "metadata": {},
   "source": [
    "## NOR: not(A or B)\n",
    "\n",
    "|A     |B| Expression \n",
    "| :--: |:--:|:--:\n",
    "|True  |True\n",
    "|True  |False\n",
    "|False |True\n",
    "|False |False"
   ]
  },
  {
   "cell_type": "markdown",
   "id": "a339f3a6",
   "metadata": {},
   "source": [
    "## XNOR: A == B\n",
    "\n",
    "|A     |B| Expression \n",
    "| :--: |:--:|:--:\n",
    "|True  |True\n",
    "|True  |False\n",
    "|False |True\n",
    "|False |False"
   ]
  },
  {
   "cell_type": "markdown",
   "id": "27fffbf4",
   "metadata": {},
   "source": [
    "## Truthy and Falsy Values\n",
    "\n",
    "|| Truthy | Falsy|\n",
    "|:--:| :---: | :---:  |\n",
    "|True | x ||\n",
    "|False| | x |\n",
    "|[]|  | x |\n",
    "|''|| | x |\n",
    "|{}|  | x |\n",
    "|'Hello' | x | |\n",
    "| 1 | x | |\n",
    "|None| | x |\n",
    "| 0 | | x |\n"
   ]
  },
  {
   "cell_type": "markdown",
   "id": "b834e5fc",
   "metadata": {},
   "source": [
    "## Short Circuiting is Supported by the Logical Or and the Logical And\n",
    "\n",
    "### Logical AND\n",
    "\n",
    "- If **both** operands are **truthy**, the operator returns a **truthy value**. **Otherwise** the operator returns a **falsy value**. \n",
    "- Notice that this description says that the operator returns \"a truthy value\" or a \"falsy value\" but does not specify what that value is.\n",
    "- This operator starts by evaluating its 1st operand.\n",
    "- if the value of the 1st operand is falsy, the value of the entire logical expression must be falsy: *and* simply returns the value of the 1st operand and does not even evaluate the expression of the 2nd operand\n",
    "- if the value of the 1st operand is truthy, then the **overall** value of the expression depends on the value of the second operand\n",
    "- So when the value of the 1st operand is truthy, the *and* operator evaluates and returns the value of the 2nd operand:\n"
   ]
  },
  {
   "cell_type": "code",
   "execution_count": 94,
   "id": "f7849e24",
   "metadata": {},
   "outputs": [
    {
     "data": {
      "text/plain": [
       "'second truthy'"
      ]
     },
     "execution_count": 94,
     "metadata": {},
     "output_type": "execute_result"
    }
   ],
   "source": [
    "truthy1 = 'first truthy'\n",
    "truthy2 = 'second truthy'\n",
    "falsy1 = 0\n",
    "falsy2 = ''\n",
    "\n",
    "truthy1 and truthy2"
   ]
  },
  {
   "cell_type": "code",
   "execution_count": 95,
   "id": "02395c41",
   "metadata": {},
   "outputs": [
    {
     "data": {
      "text/plain": [
       "''"
      ]
     },
     "execution_count": 95,
     "metadata": {},
     "output_type": "execute_result"
    }
   ],
   "source": [
    "truthy1 and falsy2"
   ]
  },
  {
   "cell_type": "code",
   "execution_count": 96,
   "id": "3e021824",
   "metadata": {},
   "outputs": [
    {
     "data": {
      "text/plain": [
       "0"
      ]
     },
     "execution_count": 96,
     "metadata": {},
     "output_type": "execute_result"
    }
   ],
   "source": [
    "falsy1 and truthy2"
   ]
  },
  {
   "cell_type": "code",
   "execution_count": 97,
   "id": "1c201380",
   "metadata": {},
   "outputs": [
    {
     "data": {
      "text/plain": [
       "0"
      ]
     },
     "execution_count": 97,
     "metadata": {},
     "output_type": "execute_result"
    }
   ],
   "source": [
    "falsy1 and falsy2"
   ]
  },
  {
   "cell_type": "markdown",
   "id": "2a9e3015",
   "metadata": {},
   "source": [
    "Can be used to catch errors:"
   ]
  },
  {
   "cell_type": "code",
   "execution_count": 98,
   "id": "0071aac2",
   "metadata": {},
   "outputs": [
    {
     "data": {
      "text/plain": [
       "False"
      ]
     },
     "execution_count": 98,
     "metadata": {},
     "output_type": "execute_result"
    }
   ],
   "source": [
    "x = 0\n",
    "\n",
    "x != 0 and 1 / x > 0\n"
   ]
  },
  {
   "cell_type": "markdown",
   "id": "04d10fb2",
   "metadata": {},
   "source": [
    "### Logical OR\n",
    "\n",
    "- If one or both operands is truthy, it returns a truthy value.\n",
    "- If both operands are falsy, it returns a falsy value.\n",
    "- This operator starts by evaluating its first operand.\n",
    "- If the value of the first operand is truthy, it *short-circuits* and returns that truthy value without ever evaluating the 2nd operand expression\n",
    "- If the value of the first operand is falsy, then the *or*-operator evaluates its 2nd operand and returns the value of the second expression"
   ]
  },
  {
   "cell_type": "code",
   "execution_count": 99,
   "id": "9d789473",
   "metadata": {},
   "outputs": [
    {
     "data": {
      "text/plain": [
       "'first truthy'"
      ]
     },
     "execution_count": 99,
     "metadata": {},
     "output_type": "execute_result"
    }
   ],
   "source": [
    "truthy1 or truthy2"
   ]
  },
  {
   "cell_type": "code",
   "execution_count": 100,
   "id": "2c107314",
   "metadata": {},
   "outputs": [
    {
     "data": {
      "text/plain": [
       "'first truthy'"
      ]
     },
     "execution_count": 100,
     "metadata": {},
     "output_type": "execute_result"
    }
   ],
   "source": [
    "truthy1 or falsy2"
   ]
  },
  {
   "cell_type": "code",
   "execution_count": 101,
   "id": "9c1c4f13",
   "metadata": {},
   "outputs": [
    {
     "data": {
      "text/plain": [
       "'second truthy'"
      ]
     },
     "execution_count": 101,
     "metadata": {},
     "output_type": "execute_result"
    }
   ],
   "source": [
    "falsy1 or truthy2"
   ]
  },
  {
   "cell_type": "code",
   "execution_count": 102,
   "id": "89cbb72a",
   "metadata": {},
   "outputs": [
    {
     "data": {
      "text/plain": [
       "''"
      ]
     },
     "execution_count": 102,
     "metadata": {},
     "output_type": "execute_result"
    }
   ],
   "source": [
    "falsy1 or falsy2"
   ]
  },
  {
   "cell_type": "markdown",
   "id": "d0f8e7e0",
   "metadata": {},
   "source": [
    "### Logical NOT\n",
    "\n",
    "- The *not* operator is a unary operator; it is placed before a single operand.\n",
    "- unlike *and* and *or* operators, the *not* operator converts its operands to boolean values "
   ]
  },
  {
   "cell_type": "code",
   "execution_count": 103,
   "id": "42f9dd58",
   "metadata": {},
   "outputs": [
    {
     "data": {
      "text/plain": [
       "False"
      ]
     },
     "execution_count": 103,
     "metadata": {},
     "output_type": "execute_result"
    }
   ],
   "source": [
    "not truthy1"
   ]
  },
  {
   "cell_type": "markdown",
   "id": "89d5baa5",
   "metadata": {},
   "source": [
    "You can apply the *not* operator to achieve the same result that can be achieved with the bool function."
   ]
  },
  {
   "cell_type": "code",
   "execution_count": 104,
   "id": "7415b52c",
   "metadata": {},
   "outputs": [
    {
     "data": {
      "text/plain": [
       "True"
      ]
     },
     "execution_count": 104,
     "metadata": {},
     "output_type": "execute_result"
    }
   ],
   "source": [
    "not not truthy1"
   ]
  },
  {
   "cell_type": "code",
   "execution_count": 105,
   "id": "244a5e01",
   "metadata": {},
   "outputs": [
    {
     "data": {
      "text/plain": [
       "'second truthy'"
      ]
     },
     "execution_count": 105,
     "metadata": {},
     "output_type": "execute_result"
    }
   ],
   "source": [
    "not not truthy1 and truthy2"
   ]
  },
  {
   "cell_type": "code",
   "execution_count": 106,
   "id": "e5ad92e1",
   "metadata": {},
   "outputs": [
    {
     "data": {
      "text/plain": [
       "True"
      ]
     },
     "execution_count": 106,
     "metadata": {},
     "output_type": "execute_result"
    }
   ],
   "source": [
    "not not (truthy1 and truthy2)"
   ]
  },
  {
   "cell_type": "markdown",
   "id": "1eac9eae",
   "metadata": {},
   "source": [
    "# Exercise\n",
    "\n",
    "Look at two laws of Boolean algebra (DeMorgan's Laws):\n",
    "\n",
    "$ \\neg (P\\lor Q)\\iff (\\neg P)\\land (\\neg Q) $\n",
    "\n",
    "\n",
    "$ \\neg (P\\land Q)\\iff (\\neg P)\\lor (\\neg Q) $\n",
    "\n",
    "\n",
    "- $ \\neg $ is the negation logic operator (NOT)\n",
    "- $ \\lor $ is the conjunction logic operator (AND),\n",
    "- $ \\land $ is the disjunction logic operator (OR),\n",
    "\n",
    "1. Proof the Demorgan's Laws with Truth Tables\n",
    "2. For each DeMorgan's Law, write a function that checks the validity of these laws."
   ]
  },
  {
   "cell_type": "code",
   "execution_count": 107,
   "id": "aa6f466d",
   "metadata": {},
   "outputs": [],
   "source": [
    "p = True\n",
    "q = True"
   ]
  },
  {
   "cell_type": "code",
   "execution_count": 108,
   "id": "bd2b313d",
   "metadata": {},
   "outputs": [],
   "source": [
    "def deMorgan1(p, q):\n",
    "    print(p, bool(p), q, bool(q))\n",
    "    return not(p and q) == (not p or not q)  # true for all values of p and q"
   ]
  },
  {
   "cell_type": "code",
   "execution_count": 109,
   "id": "9378b94b",
   "metadata": {},
   "outputs": [],
   "source": [
    "def deMorgan2(p, q):\n",
    "    print(p, bool(p), q, bool(q))\n",
    "    return not (p or q) == (not p and not q)"
   ]
  },
  {
   "cell_type": "code",
   "execution_count": 110,
   "id": "d9aaea72",
   "metadata": {},
   "outputs": [
    {
     "name": "stdout",
     "output_type": "stream",
     "text": [
      "0 False 0 False\n",
      "True\n",
      "0 False 1 True\n",
      "True\n",
      "1 True 0 False\n",
      "True\n",
      "1 True 1 True\n",
      "True\n"
     ]
    }
   ],
   "source": [
    "for p in range(2):\n",
    "    for q in range(2):\n",
    "        print(deMorgan1(p, q))"
   ]
  },
  {
   "cell_type": "code",
   "execution_count": 111,
   "id": "23d51bbb",
   "metadata": {},
   "outputs": [
    {
     "name": "stdout",
     "output_type": "stream",
     "text": [
      "0 False 0 False\n",
      "True\n",
      "0 False 1 True\n",
      "True\n",
      "1 True 0 False\n",
      "True\n",
      "1 True 1 True\n",
      "True\n"
     ]
    }
   ],
   "source": [
    "for p in range(2):\n",
    "    for q in range(2):\n",
    "        print(deMorgan2(p, q))"
   ]
  }
 ],
 "metadata": {
  "kernelspec": {
   "display_name": "Python 3 (ipykernel)",
   "language": "python",
   "name": "python3"
  },
  "language_info": {
   "codemirror_mode": {
    "name": "ipython",
    "version": 3
   },
   "file_extension": ".py",
   "mimetype": "text/x-python",
   "name": "python",
   "nbconvert_exporter": "python",
   "pygments_lexer": "ipython3",
   "version": "3.8.10"
  }
 },
 "nbformat": 4,
 "nbformat_minor": 5
}
