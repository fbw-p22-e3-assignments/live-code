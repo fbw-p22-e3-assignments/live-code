{
 "cells": [
  {
   "cell_type": "markdown",
   "id": "b29abad0",
   "metadata": {},
   "source": [
    "# Introduction to Algorithms\n",
    "\n",
    "- search algorithm (binary search)\n",
    "- run time of an algorithm (binary search)\n",
    "- run time of a algorithms (Big O notation)\n",
    "                                        \n"
   ]
  },
  {
   "cell_type": "markdown",
   "id": "90755936",
   "metadata": {},
   "source": [
    "## Introduction \n",
    "\n",
    "- an *algorithm* (*algo*) is a set of instructions for accomplishing a task\n",
    "- there are different *algo*s for the same task\n",
    "- each algo has trade-off\n",
    "- we will compare these trade offs (for example: merge sort vs. quick sort)"
   ]
  },
  {
   "cell_type": "markdown",
   "id": "bfb1e41e",
   "metadata": {},
   "source": [
    "Problem: Suppose We search the number 100 in a sorted list of 100 elements ranging from 1 to 100:\n",
    "We could either search from the start until the end of the list:\n",
    "-  [1,2,3,4,....100]\n",
    "-  [2,3,4,...,100] 1.step (to low, go on)\n",
    "-  [3,4,...,100] 2.step (to low, go on)\n",
    "-  [4,...,100] 3.step (to low, go on)\n",
    "- .....\n",
    "- ....\n",
    "- ....\n",
    "- [99, 100] 99.step (FOUND!)\n",
    "\n",
    "We have a algorithm with a time complexity of O(N): The algo would take 100 steps if we would search for 100 \n",
    "\n"
   ]
  },
  {
   "cell_type": "markdown",
   "id": "c794465f",
   "metadata": {},
   "source": [
    "## A better way to search - Binary Search\n",
    "\n",
    "- suppose we have a list of [1,2,3,4,..,49,50,51,..100] and we want to search for the number 57:\n",
    "\n",
    "1. start at the middle: Guess: 50; Too low, but you just eliminated *half* the numbers! Now you know that 1 - 50 are all too low.\n",
    "[51,52,53,54,55,56,57,58,59,60,61,62,63,64,65,66,67,68,69,70,71,72,73,74,75,76,77,78,79,80,81,82,83,84,85,86,87,88,89,90,91,92,93,94,95,96,97,98,99,100]\n",
    "2. Next guess: 75. Too high, but you cut down half of the remaining numbers!\n",
    "[51,52,53,54,55,55,56,57,58,59,60,61,62,63,64,65,66,67,68,69,70,71,72,73,74]\n",
    "*With binary search, you guess the middle number and eliminate half the remaining numbers every time.*\n",
    "3. Next guess: \n"
   ]
  },
  {
   "cell_type": "code",
   "execution_count": 45,
   "id": "9629ae51",
   "metadata": {},
   "outputs": [
    {
     "data": {
      "text/plain": [
       "50"
      ]
     },
     "execution_count": 45,
     "metadata": {},
     "output_type": "execute_result"
    }
   ],
   "source": [
    "l1 = [51,52,53,54,55,56,57,58,59,60,61,62,63,64,65,66,67,68,69,70,71,72,73,74,75,76,77,78,79,80,81,82,83,84,85,86,87,88,89,90,91,92,93,94,95,96,97,98,99,100]\n",
    "length_step1 = len(l1)\n",
    "length_step1"
   ]
  },
  {
   "cell_type": "code",
   "execution_count": 46,
   "id": "6d7ca879",
   "metadata": {},
   "outputs": [
    {
     "name": "stdout",
     "output_type": "stream",
     "text": [
      "76\n",
      "51 52 53 54 55 56 57 58 59 60 61 62 63 64 65 66 67 68 69 70 71 72 73 74 75\n"
     ]
    },
    {
     "data": {
      "text/plain": [
       "25"
      ]
     },
     "execution_count": 46,
     "metadata": {},
     "output_type": "execute_result"
    }
   ],
   "source": [
    "print(l1[len(l1)//2]) #is this higher or lower than my item: 76 > 57 ---> slice this half away\n",
    "l2 = l1[:len(l1)//2]\n",
    "print(*l2)\n",
    "length_step2 = len(l2)\n",
    "length_step2"
   ]
  },
  {
   "cell_type": "code",
   "execution_count": 47,
   "id": "0a5b9c33",
   "metadata": {},
   "outputs": [
    {
     "name": "stdout",
     "output_type": "stream",
     "text": [
      "63\n",
      "51 52 53 54 55 56 57 58 59 60 61 62\n"
     ]
    },
    {
     "data": {
      "text/plain": [
       "12"
      ]
     },
     "execution_count": 47,
     "metadata": {},
     "output_type": "execute_result"
    }
   ],
   "source": [
    "print(l2[len(l2)//2]) #63 > 57\n",
    "l3 = l2[:len(l2)//2]\n",
    "print(*l3)\n",
    "length_step3 = len(l3)\n",
    "length_step3"
   ]
  },
  {
   "cell_type": "code",
   "execution_count": 48,
   "id": "1d1f8349",
   "metadata": {},
   "outputs": [
    {
     "name": "stdout",
     "output_type": "stream",
     "text": [
      "57\n"
     ]
    }
   ],
   "source": [
    "print(l3[len(l3)//2]) # 57 == 57  #found\n"
   ]
  },
  {
   "cell_type": "markdown",
   "id": "4e004a56",
   "metadata": {},
   "source": [
    "In total it took us four steps 1Step(100->50), 2.step(50->25), 3.step(25->12), 4.Step(**found**)! With a simple search it would us take 57 steps."
   ]
  },
  {
   "cell_type": "markdown",
   "id": "421d3d3c",
   "metadata": {},
   "source": [
    "With each step of binary search, you cut the number of numbers in half until you found your number."
   ]
  },
  {
   "cell_type": "markdown",
   "id": "cf5bd1f2",
   "metadata": {},
   "source": [
    "## Exercise:\n",
    "\n",
    "- Write the simple search algo to find an item in a sorted list.\n",
    "- Now do the same with the binary search algo.\n",
    "\n",
    "- ```simple_search([1,2,....,99,100], 3)  ->true, number of steps```\n",
    "\n",
    "- ```simple_search([1,2,....,99,100], 101)  ->false, number of steps```\n",
    "\n",
    "- ```binary_search([1,2,....,99,100], 3)  ->true, number of steps```\n",
    "\n",
    "- ```binary_search([1,2,....,99,100], 101)  ->false, number of steps```\n",
    "\n",
    "- Compare the number of steps of both algos.\n",
    "\n",
    "- run the binary_search algo for each sorted lists with the following *sizes*: [100, 1_000, 10_000, 100_000, 1_000_000_, 10_000_000]\n",
    "- each list should start with 1\n",
    "- search each list with the last element\n",
    "- save the result in a *results* list for each list sizes\n",
    "\n",
    "plot each your results: \n",
    "- the x-axis will represent your list size\n",
    "- the y-axis will represent your number of steps"
   ]
  },
  {
   "cell_type": "markdown",
   "id": "304f6dbc",
   "metadata": {},
   "source": [
    "Results:\n",
    "\n",
    "![](big_o_binary_search.png)\n",
    "\n",
    "data: [(100, 7), (1000, 10), (10000, 14), (100000, 17), (1000000, 20)"
   ]
  },
  {
   "cell_type": "markdown",
   "id": "4c4756f6",
   "metadata": {},
   "source": [
    "Binary search will take only 20 steps for 1 million.\n",
    "\n",
    "In general, for any list of n, binary search will take $log_{2} n$ steps to run in the worst case, whereas simple search will take n steps. "
   ]
  },
  {
   "cell_type": "markdown",
   "id": "483e8f03",
   "metadata": {},
   "source": [
    "### Logarithms\n",
    "\n",
    "$log_{10} 100$ is like asking, 'How many times do we have to multiply 10 with itself to get 100?'\n",
    "The answere is: 10*10, therefore 2 times. $log_{10} 100 = 2$\n",
    "Logs are the flip of exponentials. You can also say, the log function is the inverse function of the exponential function.\n",
    "$100 = 10^{2}$"
   ]
  },
  {
   "cell_type": "markdown",
   "id": "0454411f",
   "metadata": {},
   "source": [
    "\n",
    "|exponential|log|\n",
    "|:--:|:--:|\n",
    "|$2^{3}=8$|3 = $log_{2}8$|\n",
    "|$2^{4}=16$|4 = $log_{2}16$|\n",
    "|$2^{5}=32$|5 = $log_{2}32$|"
   ]
  },
  {
   "cell_type": "markdown",
   "id": "f79d76f0",
   "metadata": {},
   "source": [
    "Therefore, for a list of 32 elements you'd have to check 5 numbers at most.\n",
    "-  Your list of 32 elements can be halved a maximum of 5 times. That would be worse case."
   ]
  },
  {
   "cell_type": "markdown",
   "id": "051f4721",
   "metadata": {},
   "source": [
    "### Running time\n",
    "\n",
    "In simple search the maximum number of guesses is the same as the size of the list. This is called *linear time*.\n",
    "Binary search runs in logarithmic time.\n",
    "\n",
    "|simple search|Binary Search|\n",
    "|:--:|:--:|\n",
    "|4.000.000.000 Items ->4.000.000.000 Guesses| 4.000.000.000 Items -> 32 Guesses|\n",
    "|$O(N)$|$O(log N)$|\n",
    "\n",
    "- Big O notation tells you how fast an algo is.\n",
    "- Big O notation lets you compare the number of operations.\n",
    "- It tells you how fast an algo grows.\n",
    "- $O(N)$, where $N$ is the number of operations\n",
    "- Big O notation is about the worst-case scenario\n"
   ]
  },
  {
   "cell_type": "markdown",
   "id": "5a664e57",
   "metadata": {},
   "source": [
    "## Selection Sort\n",
    "\n",
    "### How memory works\n",
    "\n",
    "You can imagine the memory as chest of drawers. The computer is like a gigantic set of drawers, and each drawer has an address.\n",
    "If you want to store an item in memory, your computer allocates memory space for your item.\n",
    "\n",
    "- multiple item are stored as *array* or *lists*.\n",
    "\n",
    "| array | list |\n",
    "|:--:| :--:|\n",
    "|stores items **contiguously** (next to each other)|lists are linked (items can be stored anywhere in memory)|\n",
    "|look up element instantly  | if you are going to keep jumping around, linked lists are terrible|\n",
    "| Reading $O(1)$| $O(N)$ WHY?|\n",
    "| Insertion in the middle  $O(N)$| $O(1)$|\n",
    "| Deletion  $O(N)$| $O(1)$|\n",
    "| random access | sequential access|\n",
    "\n",
    "Insertion: for arrays, you have to shift all the rest of the elements down. And if there is no space, you have to copy everything to a new location."
   ]
  },
  {
   "cell_type": "code",
   "execution_count": 10,
   "id": "1ec4a89c",
   "metadata": {},
   "outputs": [
    {
     "data": {
      "text/plain": [
       "[2, 3, 5, 6, 10]"
      ]
     },
     "execution_count": 10,
     "metadata": {},
     "output_type": "execute_result"
    }
   ],
   "source": [
    "l = [156, 141,35, 94, 88, 61, 111]\n",
    "\n",
    "def findSmallest(arr):\n",
    "    smallest = arr[0]\n",
    "    smallest_index = 0\n",
    "    for i in range(1, len(arr)):\n",
    "        if arr[i] < smallest:\n",
    "            smallest = arr[i]\n",
    "            smallest_index = i\n",
    "    return smallest_index\n",
    "\n",
    "def selectionSort(arr):\n",
    "    newArr = []\n",
    "    for i in range(len(arr)):\n",
    "        smallest = findSmallest(arr)\n",
    "        newArr.append(arr.pop(smallest))\n",
    "    return newArr\n",
    "selectionSort([5, 3, 6, 2, 10])\n"
   ]
  },
  {
   "cell_type": "markdown",
   "id": "b0cc432b",
   "metadata": {},
   "source": [
    "# Recursion"
   ]
  },
  {
   "cell_type": "markdown",
   "id": "92093773",
   "metadata": {},
   "source": [
    "Recursion is a coding technique used in many algos. For example in the bubblesort algo, you had to use recursion.\n",
    "\n",
    "A common example to demonstrate recursion is the faculty function:"
   ]
  },
  {
   "cell_type": "code",
   "execution_count": 5,
   "id": "610316fd",
   "metadata": {},
   "outputs": [
    {
     "data": {
      "text/plain": [
       "120"
      ]
     },
     "execution_count": 5,
     "metadata": {},
     "output_type": "execute_result"
    }
   ],
   "source": [
    "def fac(n):\n",
    "    result = 1\n",
    "    for i in range(1,n+1):\n",
    "        result *= i\n",
    "    return result\n",
    "\n",
    "fac(5)\n"
   ]
  },
  {
   "cell_type": "code",
   "execution_count": 10,
   "id": "21a4c059",
   "metadata": {},
   "outputs": [
    {
     "data": {
      "text/plain": [
       "120"
      ]
     },
     "execution_count": 10,
     "metadata": {},
     "output_type": "execute_result"
    }
   ],
   "source": [
    "def fac(n):\n",
    "    if n == 1:    #stopping condition or base case\n",
    "        return 1\n",
    "    else:\n",
    "        return n * fac(n-1)\n",
    "\n",
    "fac(5)"
   ]
  },
  {
   "cell_type": "markdown",
   "id": "66fb2518",
   "metadata": {},
   "source": [
    "fac(5) ----> 5 * f(4) --> 5 * ( 4 * f(3) ) --> 5 * ( 4 * (3 * f(2)))  --> 5 * ( 4 * (3 * (2 * 1)))"
   ]
  },
  {
   "cell_type": "markdown",
   "id": "3dce28a8",
   "metadata": {},
   "source": [
    "\n",
    "\n",
    "Let's look  on another problem.\n",
    "Suppose you have a box of boxes. These boxes contain more boxes, with more boxes inside those boxes. The key is in a box somewhere. What's your algo to search for the key?\n",
    "\n",
    "One approach:\n",
    "\n",
    "![](boxes.png)"
   ]
  },
  {
   "cell_type": "markdown",
   "id": "524f3f29",
   "metadata": {},
   "source": [
    "1. Make a pile of Boxes to look through.\n",
    "2. Grab a box, and look through it.\n",
    "3. If you find a box, add it to the pile to look through later.\n",
    "4. If you find a key, you're done!\n",
    "5. Repeat."
   ]
  },
  {
   "cell_type": "markdown",
   "id": "9fd0392a",
   "metadata": {},
   "source": [
    "An alternative approach:\n",
    "\n",
    "![](boxes_rec.png)"
   ]
  },
  {
   "cell_type": "markdown",
   "id": "a4a51897",
   "metadata": {},
   "source": [
    "1. Look through the box.\n",
    "2. If you find a box, go to step 1.\n",
    "3. If you find a key, you are done!"
   ]
  },
  {
   "cell_type": "code",
   "execution_count": 11,
   "id": "ec6ed5d6",
   "metadata": {},
   "outputs": [
    {
     "name": "stdout",
     "output_type": "stream",
     "text": [
      "found the key in box box8\n",
      "box8\n"
     ]
    }
   ],
   "source": [
    "boxes = [{ 'box1': [{'box2': 0}]  }, { 'box3': [  {'box4': ''}, {'box5':  [{'box6':  [{'box7':0}, {'box8': 'key'}]  }] }  ]  }]\n",
    "\n",
    "# boxes = [{ 'box1': 0 }, {'box2': 'key'}]\n",
    "\n",
    "# boxes = [{ 'box1': 0 }, {'box2':  [{'box3': 0}, {'box4': 'key'}] }]\n",
    "\n",
    "def look_for_key(main_box):\n",
    "    pile = main_box.copy()\n",
    "    while pile:\n",
    "        box = pile.pop()\n",
    "        for box, content in box.items():\n",
    "            if content == 'key':\n",
    "                print('found the key in box', box)\n",
    "                return box\n",
    "            elif isinstance(content, list):\n",
    "                for inner_box in content:\n",
    "                    pile.append(inner_box)\n",
    "\n",
    "print(look_for_key(boxes))\n",
    "\n"
   ]
  },
  {
   "cell_type": "code",
   "execution_count": 12,
   "id": "90ee34ba",
   "metadata": {},
   "outputs": [
    {
     "name": "stdout",
     "output_type": "stream",
     "text": [
      "found the key in box box8\n"
     ]
    }
   ],
   "source": [
    "def look_for_key2(main_box):\n",
    "    for box in main_box:\n",
    "        for box, content in box.items():\n",
    "            if content == 'key':\n",
    "                print('found the key in box', box)\n",
    "                return box\n",
    "            elif isinstance(content, list):\n",
    "                look_for_key2(content)\n",
    "\n",
    "look_for_key2(boxes)"
   ]
  },
  {
   "cell_type": "markdown",
   "id": "f62a7343",
   "metadata": {},
   "source": [
    "But there is no performance benefit to using recursion.\n",
    "\n",
    "Notice that you need a stopping condition to exit your recursive function.\n",
    "\n",
    "You have a recursive part and stopping condition.\n",
    "\n",
    "Without the stopping condition you are creating an infinite loop.\n",
    "\n",
    "'''\n",
    "def fac(n):\n",
    "    if n == 1: # Exit condition\n",
    "        return 1\n",
    "    else:\n",
    "        return n * fac(n-1)\n",
    "\n",
    "'''"
   ]
  },
  {
   "cell_type": "markdown",
   "id": "886096e6",
   "metadata": {},
   "source": [
    "### The Stack\n",
    "\n",
    "A stack is like a stack of sticky notes. When you add insert an element, it gets added to the top of the sticky notes.\n",
    "When you read an item, you only read the topmost item, and it's taken off the stack of sticky notes.\n",
    "\n",
    "A stack works like the sticky notes and is a simple data structure.\n",
    "\n",
    "\n",
    "### The Call Stack\n",
    "The computer uses a stack internally called call stack:\n"
   ]
  },
  {
   "cell_type": "code",
   "execution_count": null,
   "id": "380ba4cc",
   "metadata": {},
   "outputs": [
    {
     "name": "stdout",
     "output_type": "stream",
     "text": [
      "Hello hannah\n",
      "greet2\n",
      "bye\n"
     ]
    }
   ],
   "source": [
    "def greet2(name):\n",
    "    print('greet2')\n",
    "\n",
    "def bye():\n",
    "    print('bye')\n",
    "\n",
    "def greet(name):\n",
    "    print ('Hello ' + name)\n",
    "    greet2(name)\n",
    "    bye()\n",
    "\n",
    "\n",
    "greet('hannah')"
   ]
  },
  {
   "cell_type": "markdown",
   "id": "1607d83f",
   "metadata": {},
   "source": [
    "- The variable name 'hannah' is saved in memory.\n",
    "- every time you make a function call, all the values for all variables for that call are stored in memory\n",
    "- after printing 'hello' you make another function call; again memory for this call and all associated variables is allocated\n",
    "- After greet2 is done, the top box is popped off.\n",
    "- When greet2 was called greet was *partially completed*\n",
    "\n",
    "When you call a function from within another function, the calling function is paused in a partially completed state.\n",
    "\n",
    "![](call_stack_box.png)"
   ]
  },
  {
   "cell_type": "markdown",
   "id": "64c4d06b",
   "metadata": {},
   "source": [
    "the  same happens when the bye function is called.\n",
    "\n",
    "This stack, used to save the variables for multiple functions, is called stack.\n",
    "\n",
    "The call stack plays a big part in recursion\n",
    "\n",
    "'''\n",
    "def fac(n):\n",
    "    if n == 1: # Exit condition\n",
    "        return 1\n",
    "    else:\n",
    "        return n * fac(n-1)\n",
    "\n",
    "'''\n",
    "\n",
    "each call to fac has its own copy of n. You can't access a different function's copy of n."
   ]
  },
  {
   "cell_type": "markdown",
   "id": "7b888941",
   "metadata": {},
   "source": [
    "Remember our Box of Boxes example?\n",
    "Using here the stack is convenient because you don't have to keep track of a pile of boxes yourself - the stack does it for you.\n",
    "\n",
    "But there is a cost: each of those function calls takes uo some memory, and when your stack is too tall, that means your computer is saving info for many function calls.\n"
   ]
  },
  {
   "cell_type": "markdown",
   "id": "0869152e",
   "metadata": {},
   "source": [
    "# Quicksort"
   ]
  },
  {
   "cell_type": "markdown",
   "id": "8bfa3cad",
   "metadata": {},
   "source": [
    "# Pseudo code\n",
    "\n",
    "```BEGIN QuickSort(list, low=0, high=-1)\n",
    "  IF high == -1\n",
    "    high = LENGTH OF list -1\n",
    "  ENDIF\n",
    "  IF low < high\n",
    "    pi = Partition(list, low, high)\n",
    "    QuickSort(list, low, pi - 1)\n",
    "    QuickSort(list, pi + 1, high)\n",
    "  ENDIF\n",
    "END QuickSort\n",
    "\n",
    "BEGIN Partition(list, low, high)\n",
    "  pivot = list[high]  \n",
    "  i = low - 1\n",
    "  FOR j FROM low TO (high MINUS 1)\n",
    "    IF list[j] < pivot\n",
    "      i++\n",
    "      SWAP list[i] AND list[j]\n",
    "    ENDIF\n",
    "  ENDFOR\n",
    "  SWAP list[i + 1] AND LIST[high]\n",
    "  RETURN i + 1\n",
    "END Partition```"
   ]
  },
  {
   "cell_type": "markdown",
   "id": "02e7151e",
   "metadata": {},
   "source": [
    "- divide and conquer is a general technique used for algos\n",
    "\n",
    "\n",
    "Suppose you want to divide a plot of land in:\n",
    "- squares\n",
    "- evenly\n",
    "- big as possible"
   ]
  },
  {
   "cell_type": "markdown",
   "id": "a91a0ef0",
   "metadata": {},
   "source": [
    "D & C\n",
    "\n",
    "1. Figure out Base case\n",
    "2. divide or decrease your Problem until it becomes your base case\n",
    "\n",
    "The easiest case would be if one side was a multiple of the other side: example 50m * 100m\n",
    "\n",
    "For the land start with the shorter site and fill in the space with squares: e.g. Two 64m squares.\n",
    "\n",
    "Then we have 40 m left. (168 -(64 + 64))\n",
    "\n",
    "\n",
    "\n",
    "Take the 64m x 40m Segment: \n",
    "\n",
    "*If you find the biggest box that will work for this size, that will be the biggets box that will work for the entire farm.*\n",
    "\n"
   ]
  },
  {
   "cell_type": "markdown",
   "id": "641a2412",
   "metadata": {},
   "source": [
    "# Euclid's division algorithm\n",
    "\n",
    "What is the highest common factor(HCF) of two number?"
   ]
  },
  {
   "cell_type": "code",
   "execution_count": 5,
   "id": "ba895dd1",
   "metadata": {},
   "outputs": [
    {
     "data": {
      "text/plain": [
       "8"
      ]
     },
     "execution_count": 5,
     "metadata": {},
     "output_type": "execute_result"
    }
   ],
   "source": [
    "32 % 12"
   ]
  },
  {
   "cell_type": "code",
   "execution_count": 6,
   "id": "4c278d74",
   "metadata": {},
   "outputs": [
    {
     "data": {
      "text/plain": [
       "4"
      ]
     },
     "execution_count": 6,
     "metadata": {},
     "output_type": "execute_result"
    }
   ],
   "source": [
    "12 % 8"
   ]
  },
  {
   "cell_type": "code",
   "execution_count": 7,
   "id": "55c58981",
   "metadata": {},
   "outputs": [
    {
     "data": {
      "text/plain": [
       "0"
      ]
     },
     "execution_count": 7,
     "metadata": {},
     "output_type": "execute_result"
    }
   ],
   "source": [
    "8 % 4"
   ]
  },
  {
   "cell_type": "code",
   "execution_count": 11,
   "id": "5711a0cb",
   "metadata": {},
   "outputs": [
    {
     "data": {
      "text/plain": [
       "4"
      ]
     },
     "execution_count": 11,
     "metadata": {},
     "output_type": "execute_result"
    }
   ],
   "source": [
    "def hcf(a, b):\n",
    "    if a%b == 0:\n",
    "        return b\n",
    "    else:\n",
    "        return hcf(b, a%b)\n",
    "    \n",
    "\n",
    "hcf(32,12)"
   ]
  },
  {
   "cell_type": "code",
   "execution_count": 13,
   "id": "11e571b8",
   "metadata": {},
   "outputs": [
    {
     "data": {
      "text/plain": [
       "3"
      ]
     },
     "execution_count": 13,
     "metadata": {},
     "output_type": "execute_result"
    }
   ],
   "source": [
    "hcf(33,27)"
   ]
  },
  {
   "cell_type": "code",
   "execution_count": 14,
   "id": "f6b4a62b",
   "metadata": {},
   "outputs": [
    {
     "data": {
      "text/plain": [
       "3"
      ]
     },
     "execution_count": 14,
     "metadata": {},
     "output_type": "execute_result"
    }
   ],
   "source": [
    "hcf(627, 45)"
   ]
  },
  {
   "cell_type": "code",
   "execution_count": 15,
   "id": "05247e0a",
   "metadata": {},
   "outputs": [
    {
     "data": {
      "text/plain": [
       "8"
      ]
     },
     "execution_count": 15,
     "metadata": {},
     "output_type": "execute_result"
    }
   ],
   "source": [
    "hcf(168, 64)"
   ]
  },
  {
   "cell_type": "code",
   "execution_count": 16,
   "id": "5c7560b3",
   "metadata": {},
   "outputs": [
    {
     "data": {
      "text/plain": [
       "1"
      ]
     },
     "execution_count": 16,
     "metadata": {},
     "output_type": "execute_result"
    }
   ],
   "source": [
    "hcf(1318, 125)"
   ]
  },
  {
   "cell_type": "markdown",
   "id": "92c9ae89",
   "metadata": {},
   "source": [
    "Quicksort uses D&C\n",
    "\n",
    "```[33, 15, 10]```\n",
    "\n",
    "break down this list until you're at the base case.\n",
    "\n",
    "1. pick an element from the list. This element is called the pivot. For example 33\n",
    "2. Find the element smaller than pivot and the element larger than the pivot\n",
    "\n",
    "smaller: ``` [15, 10] ``` bigger: ```[]```\n",
    "\n",
    "This is called partitioning. Now you have\n",
    "\n",
    "- a sub-list of all numbers less than the pivot\n",
    "- the pivot\n",
    "- A sub-list of all numbers greater than pivot\n",
    "\n",
    "If they were sorted you could write *left list + pivot + right list*:"
   ]
  },
  {
   "cell_type": "code",
   "execution_count": 17,
   "id": "1ad67f1a",
   "metadata": {},
   "outputs": [
    {
     "data": {
      "text/plain": [
       "[10, 15, 33]"
      ]
     },
     "execution_count": 17,
     "metadata": {},
     "output_type": "execute_result"
    }
   ],
   "source": [
    "[10, 15] + [33] + []"
   ]
  },
  {
   "cell_type": "code",
   "execution_count": null,
   "id": "eec4c689",
   "metadata": {},
   "outputs": [],
   "source": [
    "def quicksort():\n",
    "    pass\n",
    "\n",
    "quicksort([15, 10]) + [33] + quicksort([]) "
   ]
  },
  {
   "cell_type": "markdown",
   "id": "1e1bad4b",
   "metadata": {},
   "source": [
    "```[2,1,3,5,4]```\n"
   ]
  },
  {
   "cell_type": "code",
   "execution_count": null,
   "id": "6227f329",
   "metadata": {},
   "outputs": [],
   "source": [
    "quicksort([2, 1]) + [3] + quicksort([5,4])\n",
    "#1,2,3,4,5"
   ]
  },
  {
   "cell_type": "code",
   "execution_count": 32,
   "id": "fe6113d6",
   "metadata": {},
   "outputs": [
    {
     "name": "stdout",
     "output_type": "stream",
     "text": [
      "[2, 3, 4, 4, 5, 10]\n"
     ]
    }
   ],
   "source": [
    "def quicksort(array):\n",
    "    if len(array) < 2:\n",
    "        return array\n",
    "    else:\n",
    "        pivot = array[0]  # Why zero index?\n",
    "        less = [i for i in array[1:] if i <= pivot] # Why <= ? for duplicated\n",
    "\n",
    "        greater = [i for i in array[1:] if i> pivot]\n",
    "\n",
    "        return quicksort(less) + [pivot] + quicksort(greater)\n",
    "\n",
    "print(quicksort([10,5,2,3,4,4]))"
   ]
  },
  {
   "cell_type": "code",
   "execution_count": 33,
   "id": "4460935c",
   "metadata": {},
   "outputs": [
    {
     "name": "stdout",
     "output_type": "stream",
     "text": [
      "[2, 3, 4, 4, 5, 10]\n"
     ]
    }
   ],
   "source": [
    "def quicksort(array):\n",
    "    if len(array) < 2:\n",
    "        return array\n",
    "    else:\n",
    "        pivot = array[1]  # Why zero index?\n",
    "        less = [i for i in array[0:1] + array[2:] if i <= pivot] # Why <= ? for duplicated\n",
    "\n",
    "        greater = [i for i in array[0:1] + array[2:] if i> pivot]\n",
    "\n",
    "        return quicksort(less) + [pivot] + quicksort(greater)\n",
    "\n",
    "print(quicksort([10,5,2,3,4,4]))"
   ]
  }
 ],
 "metadata": {
  "kernelspec": {
   "display_name": "Python 3 (ipykernel)",
   "language": "python",
   "name": "python3"
  },
  "language_info": {
   "codemirror_mode": {
    "name": "ipython",
    "version": 3
   },
   "file_extension": ".py",
   "mimetype": "text/x-python",
   "name": "python",
   "nbconvert_exporter": "python",
   "pygments_lexer": "ipython3",
   "version": "3.10.9"
  },
  "vscode": {
   "interpreter": {
    "hash": "97cc609b13305c559618ec78a438abc56230b9381f827f22d070313b9a1f3777"
   }
  }
 },
 "nbformat": 4,
 "nbformat_minor": 5
}
