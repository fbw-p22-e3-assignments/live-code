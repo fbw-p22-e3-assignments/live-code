{
 "cells": [
  {
   "cell_type": "markdown",
   "metadata": {},
   "source": [
    "Problem:  Suppose We search the number 100 in a sorted list of 100 elements ranging from 1 to 100.\n",
    "We could search from the  start until the end of the list:\n",
    "\n",
    "-  [1,2,3,4,....100]\n",
    "-  [2,3,4,...,100] 1.step (to low, go on)\n",
    "-  [3,4,...,100] 2.step (to low, go on)\n",
    "-  [4,...,100] 3.step (to low, go on)\n",
    "- .....\n",
    "- ....\n",
    "- ....\n",
    "- [99, 100] 99.step \n",
    "- [100] 100. Step (FOUND!)\n",
    "\n",
    "We have a algorithm with a time complexity of $O(N)$: The algo would take 100 steps (operations) if we would search for the number 100.\n",
    "\n",
    "- $O(N)$ --> linear complexity       $f(N) = N$\n",
    "- $O(1)$ --> constant complexity     $f(N) = 1$\n",
    "- $O(N * N)$ --> quadratic complexity $f(N) = N^{2}$\n"
   ]
  },
  {
   "cell_type": "code",
   "execution_count": null,
   "metadata": {},
   "outputs": [],
   "source": [
    "l1 = list(range(1,101))\n",
    "length_step1 = len(l1)\n",
    "length_step1"
   ]
  },
  {
   "cell_type": "code",
   "execution_count": null,
   "metadata": {},
   "outputs": [],
   "source": [
    "middle = int((len(l1))/2)\n",
    "middle\n",
    "print(l1[middle])\n",
    "l2 = l1[:middle]\n",
    "print(*l2)"
   ]
  },
  {
   "cell_type": "code",
   "execution_count": null,
   "metadata": {},
   "outputs": [],
   "source": [
    "middle = int(len(l2)/2)\n",
    "middle"
   ]
  },
  {
   "cell_type": "markdown",
   "metadata": {},
   "source": [
    " Introduction\n",
    "\n",
    " - an algorith (*algo*) is a set of instructions\n",
    " - there are different algos for the same task\n",
    " - each algo has a trade-off"
   ]
  },
  {
   "cell_type": "code",
   "execution_count": null,
   "metadata": {},
   "outputs": [],
   "source": [
    "l1 = list(range(1,101))\n",
    "length_step1 = len(l1)\n",
    "length_step1"
   ]
  },
  {
   "cell_type": "code",
   "execution_count": null,
   "metadata": {},
   "outputs": [],
   "source": [
    "middle = int((len(l2))/2)\n",
    "middle\n",
    "print(l2[middle])\n",
    "l3 = l2[:middle]\n",
    "print(*l3)"
   ]
  },
  {
   "cell_type": "code",
   "execution_count": null,
   "metadata": {},
   "outputs": [],
   "source": [
    "middle = int(len(l3)/2) + 1   # int(25 / 2) = 12  but the middle of 25 is 13 therefore +1\n",
    "l3[middle]\n",
    "l4 = l3[:middle]\n",
    "print(*l4)"
   ]
  },
  {
   "cell_type": "code",
   "execution_count": null,
   "metadata": {},
   "outputs": [],
   "source": [
    "middle = int(len(l4)/2)\n",
    "middle\n",
    "l4[middle] "
   ]
  },
  {
   "cell_type": "markdown",
   "metadata": {},
   "source": [
    "In total it took us four steps: \n",
    "1step(100->50)\n",
    "2.step(50->25),\n",
    "3.step(25->12)\n",
    "4.Step(found)\n",
    "\n",
    "With a simple search it would us take 57 steps.\n",
    "\n",
    "With each step of binary search, you cut the number of numbers in half until you found your number."
   ]
  },
  {
   "cell_type": "code",
   "execution_count": null,
   "metadata": {},
   "outputs": [],
   "source": [
    "#def binary_search(my_list_to_search, item_to_find):\n",
    "    #algo\n",
    "    #return Tru if found otherwise False"
   ]
  },
  {
   "cell_type": "markdown",
   "metadata": {},
   "source": [
    "## Exercise:\n",
    "\n",
    "- Write the simple search algo to find an item in a sorted list.\n",
    "- Now do the same with the binary search algo.\n",
    "\n",
    "- ```simple_search([1,2,....,99,100], 3)  ->true, number of steps```\n",
    "\n",
    "- ```simple_search([1,2,....,99,100], 101)  ->false, number of steps```\n",
    "\n",
    "- ```binary_search([1,2,....,99,100], 3)  ->true, number of steps```\n",
    "\n",
    "- ```binary_search([1,2,....,99,100], 101)  ->false, number of steps```\n",
    "\n",
    "- Compare the number of steps of both algos.\n",
    "\n",
    "- run the binary_search algo for each sorted lists with the following *sizes*: [100, 1_000, 10_000, 100_000, 1_000_000_, 10_000_000]\n",
    "- each list should start with 1\n",
    "- search each list with the last element\n",
    "- save the result in a *results* list for each list sizes\n",
    "\n",
    "plot each your results: \n",
    "- the x-axis will represent your list size\n",
    "- the y-axis will represent your number of steps\n",
    "\n",
    "Result:\n",
    "![](big_o_binary_search.png)\n",
    "\n",
    "data: [(100, 7), (1000, 10), (10000, 14), (100000, 17), (1000000, 20)"
   ]
  },
  {
   "cell_type": "markdown",
   "metadata": {},
   "source": [
    "Binary search will take only 20 steps for 1 millon items in a sequence.\n",
    "In general, for any list of n, binary search will take $log_{2}n$ steps to run in the worst case, whereas simple search will take n steps."
   ]
  },
  {
   "cell_type": "markdown",
   "metadata": {},
   "source": [
    " ## Logarithms \n",
    "\n",
    " $log_{10} 100$ is like asking 'How many times do we have to multiply 10 with itself to get 100?'\n",
    " The answer is: 10 * 10, therefore 2 times. $log_{10} 100 = 2$\n",
    " $10^{2} = 100$\n",
    " * Logs are flips of exponentials. You can also say, the log function is the inverse function of the exponential function.\n",
    " "
   ]
  },
  {
   "cell_type": "markdown",
   "metadata": {},
   "source": [
    "|exponential|log|\n",
    "|:--:|:--:|\n",
    "|$2^{3}=8$|3 = $log_{2}8$|\n",
    "|$2^{4}=16$|4 = $log_{2}16$|\n",
    "|$2^{5}=32$|5 = $log_{2}32$|"
   ]
  },
  {
   "cell_type": "markdown",
   "metadata": {},
   "source": [
    "Therefore, for a list of 32 elements you'd have to check 5 numbers at most.\n",
    "-  Your list of 32 elements can be halved a maximum of 5 times. That would be worse case."
   ]
  },
  {
   "cell_type": "markdown",
   "metadata": {},
   "source": [
    "### Running time\n",
    "\n",
    "IN simple search the maximum number of guesses ia the same as the size of the list. This is called *linear time*. Binary search runs in *logarithmic time*.\n",
    "\n",
    "|simple search|Binary Search|\n",
    "|:--:|:--:|\n",
    "|4.000.000.000 Items ->4.000.000.000 Guesses| 4.000.000.000 Items -> 32 Guesses|\n",
    "|$O(N)$|$O(log N)$|\n"
   ]
  },
  {
   "cell_type": "markdown",
   "metadata": {},
   "source": [
    "- Big O notation tells you how fast an algo is (for worse case)\n",
    "- Big O natation lets you compare the number of operations\n",
    "- $O(N)$, where $N$ is the number of operations."
   ]
  },
  {
   "cell_type": "markdown",
   "metadata": {},
   "source": [
    "## Selection Sort"
   ]
  },
  {
   "cell_type": "code",
   "execution_count": null,
   "metadata": {},
   "outputs": [],
   "source": [
    "l = [156, 141, 35, 94, 88, 61, 111]\n",
    "\n",
    "def findSmallest(arr):\n",
    "    smallest = arr[0]\n",
    "    smallest_index = 0\n",
    "    for i in range(1, len(arr)):\n",
    "        if arr[i] < smallest:\n",
    "            smallest = arr[i]\n",
    "            smallest_index = i\n",
    "    return smallest_index\n",
    "\n",
    "def selectionSort(arr):\n",
    "    newArr = []\n",
    "    for i in range(len(arr)):\n",
    "        smallest_index = findSmallest(arr)\n",
    "        newArr.append(arr.pop(smallest_index))\n",
    "    return newArr\n",
    "\n",
    "#selectionSort(l)\n",
    "findSmallest(l)\n"
   ]
  },
  {
   "cell_type": "markdown",
   "metadata": {},
   "source": [
    "This takes $O(n * n)$ time or $O(n^{2})$."
   ]
  },
  {
   "cell_type": "markdown",
   "metadata": {},
   "source": [
    "# Recursion\n",
    "\n",
    "Recursion is a coding technique used in many algos. For example in the bubblesort algo, you had to use recursion.\n",
    "\n",
    "A common example to demonstrate recursion is the faculty function: 5! = 1 * 2 * 3 * 4* 5"
   ]
  },
  {
   "cell_type": "code",
   "execution_count": null,
   "metadata": {},
   "outputs": [],
   "source": [
    "def fac(n):\n",
    "    result = 1\n",
    "    for i in range(1,n+1):\n",
    "        result *= i\n",
    "    return result\n",
    "\n",
    "fac(5)"
   ]
  },
  {
   "cell_type": "code",
   "execution_count": null,
   "metadata": {},
   "outputs": [],
   "source": [
    "def fac(n):\n",
    "    if n == 1:     # stopping condition ; base case\n",
    "        return 1\n",
    "    else:           # recursive case\n",
    "        result = n * fac(n-1)\n",
    "        return result\n",
    "\n",
    "fac(5)"
   ]
  },
  {
   "cell_type": "markdown",
   "metadata": {},
   "source": [
    "fac(5) ----> 5 * fac(4) --> 5 * ( 4 * fac(3)) --> 5 * ( 4 * ( 3 * fac(2) ) ) -->  5 * ( 4 * ( 3 * ( 2 * fac(1) ) ) )\n",
    "--> 5 * ( 4 * ( 3 * ( 2 * 1 ) ) ) = 5 * 4 * 3 * 2 * 1 = n!"
   ]
  },
  {
   "cell_type": "markdown",
   "metadata": {},
   "source": [
    "### The Stack\n",
    "\n",
    "A stack is like a stack of sticky notes. When you add an element, it gets added to the top of the sticky notes.\n",
    "When you read an item, you only read the topmost item, and it's taken off the stack of sticky notes.\n",
    "\n",
    "A stack works like the sticky notes and is a simple data structure.\n",
    "\n",
    "### The Call Stack\n",
    "The computer uses a stack internally called call stack:\n"
   ]
  },
  {
   "cell_type": "code",
   "execution_count": null,
   "metadata": {},
   "outputs": [],
   "source": [
    "def greet2(name):\n",
    "    print('greet2')\n",
    "    return 'whatever'\n",
    "\n",
    "def bye():\n",
    "    print('bye')\n",
    "\n",
    "def greet(name):\n",
    "    greet2(name)\n",
    "    bye()\n",
    "\n",
    "greet('hannah')"
   ]
  },
  {
   "cell_type": "markdown",
   "metadata": {},
   "source": [
    " - The variable name 'hannah' is saved in memory\n",
    " - every time you make a funtion call, all values for all variables for that call are stored in memory\n",
    " - after greet2 you make a further function call (bye()); again memory for this call and all associated variables is allocated\n",
    " - after greet2() and bye() is done, the top box is popped off the call stack\n",
    " - When greet2 was called greet() was only *partially completed*\n",
    "\n",
    " When you call a function from within a function , the calling function is paused in a *partially complete state*.\n",
    "\n",
    " ![](call_stack_box.png)"
   ]
  },
  {
   "cell_type": "markdown",
   "metadata": {},
   "source": [
    "fac(3) ----> 3 * fac(2) --> 3 * ( 2* fac(1))) --> 3 * 2 * 1  "
   ]
  },
  {
   "cell_type": "markdown",
   "metadata": {},
   "source": [
    "# Divide and Conquer\n",
    "\n",
    "- D & C is a general technique used for algos\n",
    "\n",
    "Suppose you want to divide a plot of land in:\n",
    "\n",
    "- square\n",
    "- even\n",
    "- big as possible"
   ]
  },
  {
   "cell_type": "code",
   "execution_count": null,
   "metadata": {},
   "outputs": [],
   "source": [
    "32 % 12"
   ]
  },
  {
   "cell_type": "code",
   "execution_count": null,
   "metadata": {},
   "outputs": [],
   "source": [
    "12 % 8"
   ]
  },
  {
   "cell_type": "code",
   "execution_count": null,
   "metadata": {},
   "outputs": [],
   "source": [
    "8 % 4"
   ]
  },
  {
   "cell_type": "code",
   "execution_count": null,
   "metadata": {},
   "outputs": [],
   "source": [
    "def hcf(a,b):\n",
    "    remainder = a % b\n",
    "    if remainder == 0:\n",
    "        return b\n",
    "    else:\n",
    "        return str(remainder) + ' ' + str(hcf(b, remainder))\n",
    "\n",
    "hcf(32, 12)"
   ]
  },
  {
   "cell_type": "markdown",
   "metadata": {},
   "source": [
    "return hcf(32, 12) --> hcf(12, 8) ---> hcf(8, 4) --> since 8 % 4 == 0 ---> 4"
   ]
  },
  {
   "cell_type": "code",
   "execution_count": null,
   "metadata": {},
   "outputs": [],
   "source": [
    "hcf(168, 64)"
   ]
  },
  {
   "cell_type": "markdown",
   "metadata": {},
   "source": [
    "![](divide_conquer.png)"
   ]
  },
  {
   "cell_type": "markdown",
   "metadata": {},
   "source": [
    "## Quicksort\n",
    "\n",
    "- uses an D & C\n",
    "\n",
    "[33, 15, 10]\n",
    "\n",
    "break down this list until you're at the base case.\n",
    "\n",
    "1. pick on element from the list. This element is called pivot. for example 33\n",
    "2. Find the element for smaller than pivot and the elements larger than the pivot\n",
    "\n",
    "smaller: ```[15,10]``` bigger ```[]```\n",
    "\n",
    "This is called partitioning. We have now:\n",
    "\n",
    "- a sub-list of all numbers less than the pivot\n",
    "- the pivot\n",
    "- a sub-list of all numbers greater than pivot\n",
    "\n",
    "If they were sorted we could write: *left list + pivot + right list* "
   ]
  },
  {
   "cell_type": "code",
   "execution_count": null,
   "metadata": {},
   "outputs": [],
   "source": [
    "[10, 15] + [33] + []"
   ]
  },
  {
   "cell_type": "code",
   "execution_count": null,
   "metadata": {},
   "outputs": [],
   "source": [
    "def quicksort():\n",
    "    pass\n",
    "\n",
    "#quicksort([12, 10]) + [33] + quicksort([])"
   ]
  },
  {
   "cell_type": "code",
   "execution_count": null,
   "metadata": {},
   "outputs": [],
   "source": [
    "def quicksort(array):\n",
    "    print(len(array))\n",
    "    if len(array) < 2:\n",
    "        return array\n",
    "    else:\n",
    "        pivot = array[1]\n",
    "        less = [ element for element in array[:1] + array[2:] if element <= pivot ]  #why do we need the <=?\n",
    "        greater = [ element for element in array[:1] + array[2:] if element > pivot ]\n",
    "        print(f\"less: {less}\")\n",
    "        print(f\"pivot:  {pivot}\")\n",
    "        print(f\"greater:{greater}\")\n",
    "    return quicksort(less) + [pivot] + quicksort(greater)\n",
    "\n",
    "\n",
    "quicksort([10,5,2,3,4,4])"
   ]
  },
  {
   "cell_type": "markdown",
   "metadata": {},
   "source": [
    "\n",
    "\n",
    "\n",
    "\n",
    "Quicksort : worse case: $O(N^{2})$ average: $O(N * log N)$\n",
    "\n",
    "mergesort: worse case: $O(N * log N)$\n",
    "\n"
   ]
  },
  {
   "cell_type": "code",
   "execution_count": null,
   "metadata": {},
   "outputs": [],
   "source": [
    "import matplotlib.pyplot as plt\n",
    "import math\n",
    "\n",
    "def plot(sizes, results):\n",
    "    plt.plot(sizes, results, marker='x')\n",
    "    plt.xlabel('size of list')\n",
    "    plt.ylabel('steps')\n",
    "    plt.legend()\n",
    "    plt.show()\n",
    "\n",
    "sizes = [*range(1, 5)]\n",
    "logN = [math.log(ele) for ele in sizes ]\n",
    "NlogN = [ele * math.log(ele) for ele in sizes ]\n",
    "N = [ele for ele in sizes ]\n",
    "N_square = [ele**2 for ele in sizes]\n",
    "N_exp =  [math.exp(ele) for ele in sizes]\n",
    "N_fac = [fac(ele) for ele in sizes]\n",
    "\n",
    "plt.plot(sizes, logN, label='logN')\n",
    "plt.plot(sizes, N, label='N')\n",
    "plt.plot(sizes, NlogN, label='NlogN')\n",
    "plt.plot(sizes, N_square, label='N_square')\n",
    "plt.plot(sizes, N_exp, label='N_exp')\n",
    "plt.plot(sizes, N_fac, label='N!')\n",
    "plt.xlabel('size of list')\n",
    "plt.ylabel('steps')\n",
    "plt.legend()\n",
    "plt.show()"
   ]
  },
  {
   "cell_type": "markdown",
   "metadata": {},
   "source": [
    "|Array size| logN | N | N log N | N^{2}|\n",
    "|:--:|:--:|:--:|:--:|:--:|\n",
    "|10|0.3s|1s|3.3s|10s\n",
    "|100|0.6s|10 s|66.4s|16.6min\n",
    "|1000|1 s|100s|996|27.7hours"
   ]
  },
  {
   "cell_type": "markdown",
   "metadata": {},
   "source": [
    "Suppose these constants:\n",
    "\n",
    "|Simple Search| binary search|\n",
    "|:--:|:--:|\n",
    "|10ms * N|1sec * log (N)"
   ]
  },
  {
   "cell_type": "markdown",
   "metadata": {},
   "source": [
    "simple search with N = 4Billon --> 10ms * 4Billon = 463 days\n",
    "binary search with N = 4Billon --> 1s * log(4Billons) = 32 seconds"
   ]
  },
  {
   "cell_type": "markdown",
   "metadata": {},
   "source": [
    "\n",
    "Quicksort : worse case: $O(N^{2})$ average: $O(N * log N)$\n",
    "\n",
    "mergesort: worse case: $O(N * log N)$\n",
    "\n",
    "\n",
    "for mergesort and quicksort the constant makes a difference.\n",
    "quicksort hits the average case way more often than the worse case.\n"
   ]
  },
  {
   "cell_type": "markdown",
   "metadata": {},
   "source": [
    "### The traveling salesperson: O(N!)\n",
    "\n",
    "Some people believe it can't be improved.\n",
    "Unsolved problems in computer science.\n",
    "The best we can do is come up with an approximation.\n",
    "\n",
    "#### Exact algorithms (see wikipedia)\n",
    "The most direct solution would be to try all permutations (ordered combinations) and see which one is cheapest (using brute-force search). The running time for this approach lies within a polynomial factor of $O(n!)$, the factorial of the number of cities, so this solution becomes impractical even for only 20 cities.\n",
    "\n",
    "### Non Exact algorithms\n",
    "Modern methods can find solutions for extremely large problems (millions of cities) within a reasonable time which are with a high probability just 2–3% away from the optimal solution.\n",
    "\n",
    "- nearest neighbour (NN) algorithm\n",
    "- The Algorithm of Christofides and Serdyukov"
   ]
  }
 ],
 "metadata": {
  "kernelspec": {
   "display_name": "Python 3 (ipykernel)",
   "language": "python",
   "name": "python3"
  },
  "language_info": {
   "codemirror_mode": {
    "name": "ipython",
    "version": 3
   },
   "file_extension": ".py",
   "mimetype": "text/x-python",
   "name": "python",
   "nbconvert_exporter": "python",
   "pygments_lexer": "ipython3",
   "version": "3.10.9"
  },
  "vscode": {
   "interpreter": {
    "hash": "97cc609b13305c559618ec78a438abc56230b9381f827f22d070313b9a1f3777"
   }
  }
 },
 "nbformat": 4,
 "nbformat_minor": 2
}
