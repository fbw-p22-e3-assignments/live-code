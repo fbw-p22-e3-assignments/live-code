{
 "cells": [
  {
   "attachments": {},
   "cell_type": "markdown",
   "metadata": {},
   "source": [
    "# Tools and Libraries\n",
    "\n",
    "```$ python3 calculate.py```"
   ]
  },
  {
   "attachments": {},
   "cell_type": "markdown",
   "metadata": {},
   "source": [
    "#### Using ‘__name__’ Variable in Scripts\n",
    "\n",
    "- The __name__  variable gets its value depending on how we execute the containing script.\n",
    "\n",
    "- Functions of a script can be reused in other scripts by importing them.\n",
    "\n",
    "- Thanks to this special variable, you can decide whether you want to run the script."
   ]
  },
  {
   "attachments": {},
   "cell_type": "markdown",
   "metadata": {},
   "source": [
    "If we want to re-use myFunction in another script, for example importingScript.py, we can import nameScript.py as a module:"
   ]
  },
  {
   "attachments": {},
   "cell_type": "markdown",
   "metadata": {},
   "source": [
    "## Namespaces in Python"
   ]
  },
  {
   "attachments": {},
   "cell_type": "markdown",
   "metadata": {},
   "source": [
    "- A namespace is a collection of currently defined symbolic names along with information about the object that each name references.\n",
    "\n",
    "- You can think of a namespace as a dictionary in which the keys are the object names and the values are the objects themselves. Each key-value pair maps a name to its corresponding object."
   ]
  },
  {
   "attachments": {},
   "cell_type": "markdown",
   "metadata": {},
   "source": [
    "types of namespaces:\n",
    "- Built-In\n",
    "- Global\n",
    "- Enclosing or nonlocal\n",
    "- Local"
   ]
  },
  {
   "attachments": {},
   "cell_type": "markdown",
   "metadata": {},
   "source": [
    "### LEGB Rule\n",
    "\n",
    "the interpreter searches first from\n",
    "1. local\n",
    "2. enclosing\n",
    "3. global\n",
    "4. built-in\n",
    "scope"
   ]
  },
  {
   "cell_type": "code",
   "execution_count": 30,
   "metadata": {},
   "outputs": [
    {
     "name": "stdout",
     "output_type": "stream",
     "text": [
      "None\n",
      "***************\n",
      "bla_global\n",
      "****************\n",
      "<built-in function sum>\n",
      "****************\n",
      "None\n",
      "local_bla\n"
     ]
    }
   ],
   "source": [
    "import builtins\n",
    "\n",
    "def check_variable():\n",
    "    print(locals().get('sum'))\n",
    "    print('***************')\n",
    "    print(globals().get('sum'))\n",
    "    print('****************')\n",
    "    print(vars(builtins).get('sum'))\n",
    "    print('****************')\n",
    "\n",
    "#sum # built-in\n",
    "sum = 'bla_global'\n",
    "check_variable()\n",
    "# sum = 'global'\n",
    "def outer():\n",
    "    sum = 'nonlocal'\n",
    "    def inner():\n",
    "        #nonlocal sum\n",
    "        print(locals().get('sum'))\n",
    "        sum = 'local_bla'\n",
    "        print(locals().get('sum'))\n",
    "        \n",
    "    inner()\n",
    "\n",
    "outer()\n"
   ]
  },
  {
   "attachments": {},
   "cell_type": "markdown",
   "metadata": {},
   "source": [
    "- If the interpreter doesn’t find the name in any of these locations, then Python raises a NameError exception."
   ]
  },
  {
   "attachments": {},
   "cell_type": "markdown",
   "metadata": {},
   "source": [
    "- LEGB rule defines the look-up order for given names\n",
    "- Names in lower-level (e.g. local) override higher-level names"
   ]
  },
  {
   "cell_type": "code",
   "execution_count": 40,
   "metadata": {},
   "outputs": [
    {
     "data": {
      "text/plain": [
       "True"
      ]
     },
     "execution_count": 40,
     "metadata": {},
     "output_type": "execute_result"
    }
   ],
   "source": [
    "'sum' in dir(__builtins__)"
   ]
  },
  {
   "attachments": {},
   "cell_type": "markdown",
   "metadata": {},
   "source": [
    "#### Symbol table\n",
    "- The python globals function is a built-in function that is used to modify and return a dictionary and its values of the current **global symbol table**.\n",
    "\n",
    "- A symbol table is a data structure maintained and constructed by the Python compiler that contains all of the essential information about each identifier found in the source code of the program.\n",
    "\n",
    "- A dictionary returned by the globals() function stores the collection of symbols available to the interpreter\n",
    "- A dictionary returned by the locals() function stores the values of the current **local symbol table**"
   ]
  },
  {
   "attachments": {},
   "cell_type": "markdown",
   "metadata": {},
   "source": [
    "#### Built-in namespace"
   ]
  },
  {
   "attachments": {},
   "cell_type": "markdown",
   "metadata": {},
   "source": [
    "- The Python interpreter creates the built-in namespace when it starts up. "
   ]
  },
  {
   "attachments": {},
   "cell_type": "markdown",
   "metadata": {},
   "source": [
    "#### Global namespace"
   ]
  },
  {
   "attachments": {},
   "cell_type": "markdown",
   "metadata": {},
   "source": [
    "- The global namespace contains any names defined at the level of the main program.\n",
    "- Python creates the global namespace when the main program body starts."
   ]
  },
  {
   "attachments": {},
   "cell_type": "markdown",
   "metadata": {},
   "source": [
    "#### Local Namespace"
   ]
  },
  {
   "attachments": {},
   "cell_type": "markdown",
   "metadata": {},
   "source": [
    "- The Python interpreter creates a new namespace whenever a function executes. \n",
    "- That namespace is local to the function and remains in existence until the function terminates."
   ]
  },
  {
   "attachments": {},
   "cell_type": "markdown",
   "metadata": {},
   "source": [
    "## Modules\n",
    "\n",
    "- Modular programming refers to the process of breaking a large programming task into separate, smaller, more manageable subtasks or modules. \n",
    "\n",
    "- Individual modules can then be connected together\n",
    "- Technically, modules correspond to files, and Python creates a module object to contain all the names defined in the file"
   ]
  },
  {
   "attachments": {},
   "cell_type": "markdown",
   "metadata": {},
   "source": [
    "- module are object that serves as an organizational unit\n",
    "- Modules have a namespace containing arbitrary Python objects. \n",
    "- Modules are loaded into Python by the process of importing."
   ]
  },
  {
   "attachments": {},
   "cell_type": "markdown",
   "metadata": {},
   "source": [
    "### Module creation\n",
    "\n",
    "- a module can be written in python or C (example re)\n",
    "- built-in modules don't need to be installed: e.g. math, collections "
   ]
  },
  {
   "attachments": {},
   "cell_type": "markdown",
   "metadata": {},
   "source": [
    "### Modules files"
   ]
  },
  {
   "attachments": {},
   "cell_type": "markdown",
   "metadata": {},
   "source": [
    "- modules are intended in to be imported in other scripts or modules\n",
    "- modules often contain classes, functions, variables "
   ]
  },
  {
   "cell_type": "code",
   "execution_count": 41,
   "metadata": {},
   "outputs": [],
   "source": [
    "#add.py\n",
    "\n",
    "def add(a,b):\n",
    "    return a + b"
   ]
  },
  {
   "cell_type": "markdown",
   "metadata": {},
   "source": [
    "The module add.py is not intended to be run directly!"
   ]
  },
  {
   "attachments": {},
   "cell_type": "markdown",
   "metadata": {},
   "source": [
    "## Import statements"
   ]
  },
  {
   "attachments": {},
   "cell_type": "markdown",
   "metadata": {},
   "source": [
    "- Module contents are made available to the caller with the import statement. "
   ]
  },
  {
   "cell_type": "code",
   "execution_count": 43,
   "metadata": {},
   "outputs": [
    {
     "data": {
      "text/plain": [
       "4"
      ]
     },
     "execution_count": 43,
     "metadata": {},
     "output_type": "execute_result"
    }
   ],
   "source": [
    "import calculate\n",
    "\n",
    "calculate.add(2,2)"
   ]
  },
  {
   "attachments": {},
   "cell_type": "markdown",
   "metadata": {},
   "source": [
    "- a module creates a separate namespace."
   ]
  },
  {
   "attachments": {},
   "cell_type": "markdown",
   "metadata": {},
   "source": [
    "#### Import Objects from Module\n",
    "- accessed the local context of s module\n",
    "- Each module has its own private symbol table (servers as the global symbol table for all global objects in the module)"
   ]
  },
  {
   "cell_type": "code",
   "execution_count": 44,
   "metadata": {},
   "outputs": [
    {
     "data": {
      "text/plain": [
       "3.141592653589793"
      ]
     },
     "execution_count": 44,
     "metadata": {},
     "output_type": "execute_result"
    }
   ],
   "source": [
    "import math   \n",
    "\n",
    "math.pi # accessed the local context of the module"
   ]
  },
  {
   "attachments": {},
   "cell_type": "markdown",
   "metadata": {},
   "source": [
    "- Every name that is assigned a value at the top level of a module file (i.e., not in a function body) becomes an attribute of that module."
   ]
  },
  {
   "cell_type": "code",
   "execution_count": 52,
   "metadata": {},
   "outputs": [
    {
     "data": {
      "text/plain": [
       "1"
      ]
     },
     "execution_count": 52,
     "metadata": {},
     "output_type": "execute_result"
    }
   ],
   "source": [
    "import M\n",
    "M.X # the name X becomes an attribute of M"
   ]
  },
  {
   "cell_type": "code",
   "execution_count": 46,
   "metadata": {},
   "outputs": [
    {
     "data": {
      "text/plain": [
       "3.141592653589793"
      ]
     },
     "execution_count": 46,
     "metadata": {},
     "output_type": "execute_result"
    }
   ],
   "source": [
    "from math import pi # import pi directly in the caller's symbol table \n",
    "pi"
   ]
  },
  {
   "attachments": {},
   "cell_type": "markdown",
   "metadata": {},
   "source": [
    "#### Import all objects from a Module"
   ]
  },
  {
   "cell_type": "code",
   "execution_count": 48,
   "metadata": {},
   "outputs": [
    {
     "data": {
      "text/plain": [
       "<function calculate.add(a, b)>"
      ]
     },
     "execution_count": 48,
     "metadata": {},
     "output_type": "execute_result"
    }
   ],
   "source": [
    "from calculate import * # import all objects from the module to the caller's symbol table (available in global scope)\n",
    "\n",
    "globals()['add']"
   ]
  },
  {
   "attachments": {},
   "cell_type": "markdown",
   "metadata": {},
   "source": [
    "- this is not recommended as you might polluting the caller's symbol table with all objects from a module "
   ]
  },
  {
   "attachments": {},
   "cell_type": "markdown",
   "metadata": {},
   "source": [
    "#### Import with Alternate Name"
   ]
  },
  {
   "cell_type": "code",
   "execution_count": 49,
   "metadata": {},
   "outputs": [
    {
     "data": {
      "text/plain": [
       "3.141592653589793"
      ]
     },
     "execution_count": 49,
     "metadata": {},
     "output_type": "execute_result"
    }
   ],
   "source": [
    "from math import pi as PI_NUMBER\n",
    "\n",
    "PI_NUMBER"
   ]
  },
  {
   "cell_type": "code",
   "execution_count": 50,
   "metadata": {},
   "outputs": [
    {
     "data": {
      "text/plain": [
       "3.141592653589793"
      ]
     },
     "execution_count": 50,
     "metadata": {},
     "output_type": "execute_result"
    }
   ],
   "source": [
    "import math as mathematics\n",
    "\n",
    "mathematics.pi"
   ]
  },
  {
   "attachments": {},
   "cell_type": "markdown",
   "metadata": {},
   "source": [
    "#### Module Files Are Namespaces"
   ]
  },
  {
   "attachments": {},
   "cell_type": "markdown",
   "metadata": {},
   "source": [
    "- module acts as a namespace (a place where names are created)\n",
    "- And names that live in a module are called its attributes."
   ]
  },
  {
   "attachments": {},
   "cell_type": "markdown",
   "metadata": {},
   "source": [
    "# Packages\n",
    "\n",
    "- A Python module which can contain submodules or recursively, subpackages.\n",
    "- a package is still a module\n",
    "- As a user, you usually don’t need to worry about whether you’re importing a module or a package.\n",
    "- modules that work together\n",
    "- A package folder will often contain a special __init__.py file that tells Python it’s a package"
   ]
  },
  {
   "attachments": {},
   "cell_type": "markdown",
   "metadata": {},
   "source": [
    "Example: project folder\n",
    "**package2** directory has three files: \n",
    "- two modules:\n",
    "1. module3.py\n",
    "2. module4.py\n",
    "- an initialization file __ init__.py"
   ]
  },
  {
   "attachments": {},
   "cell_type": "markdown",
   "metadata": {},
   "source": [
    "- You must give a detailed path for each package or file, from the top-level package folder. \n",
    "- This is somewhat similar to its file path, but we use a dot (.) instead of a slash (/).\n"
   ]
  },
  {
   "attachments": {},
   "cell_type": "markdown",
   "metadata": {},
   "source": [
    "Run packages:\n",
    "python3 -m package1.module1\n",
    "python3 -m package2.subpackage2.module6"
   ]
  },
  {
   "attachments": {},
   "cell_type": "markdown",
   "metadata": {},
   "source": [
    "- absolute imports vs relative imports"
   ]
  },
  {
   "attachments": {},
   "cell_type": "markdown",
   "metadata": {},
   "source": [
    "#### Style guide\n",
    "\n",
    "- Keep imports at the top of the file.\n",
    "- ordered by groups:\n",
    "1. first standard library imports\n",
    "2. then third-party imports.\n",
    "3. and finally local application or library imports.\n",
    "- Order imports alphabetically within each group.\n",
    "- Avoid import *."
   ]
  }
 ],
 "metadata": {
  "kernelspec": {
   "display_name": "Python 3",
   "language": "python",
   "name": "python3"
  },
  "language_info": {
   "codemirror_mode": {
    "name": "ipython",
    "version": 3
   },
   "file_extension": ".py",
   "mimetype": "text/x-python",
   "name": "python",
   "nbconvert_exporter": "python",
   "pygments_lexer": "ipython3",
   "version": "3.10.9"
  },
  "orig_nbformat": 4,
  "vscode": {
   "interpreter": {
    "hash": "97cc609b13305c559618ec78a438abc56230b9381f827f22d070313b9a1f3777"
   }
  }
 },
 "nbformat": 4,
 "nbformat_minor": 2
}
