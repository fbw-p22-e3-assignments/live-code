{
 "cells": [
  {
   "cell_type": "markdown",
   "id": "a42ee172",
   "metadata": {},
   "source": [
    "###### An Array of Sequences\n",
    "\n",
    "## Overview of Built-In Sequences \n",
    "\n",
    "Another way of grouping sequence types (instead of mutability):\n",
    "\n",
    "*Container sequnces*\n",
    "    Can hold items of different types, including nested containers, For example: *list, typles, collections.deque*\n",
    "    \n",
    "*Flat sequences*\n",
    "    Hold items of one simple type. For example: *str* and *array.array*"
   ]
  },
  {
   "cell_type": "code",
   "execution_count": 1,
   "id": "af4f1493",
   "metadata": {},
   "outputs": [
    {
     "data": {
      "text/plain": [
       "(9.46, 'cat', [2.08, 4.29])"
      ]
     },
     "execution_count": 1,
     "metadata": {},
     "output_type": "execute_result"
    }
   ],
   "source": [
    "(9.46, 'cat', [2.08, 4.29]) # The tuple has an array of references to its items\n",
    "# each item is a seperate Python object, possibly holding references to other Python objects"
   ]
  },
  {
   "cell_type": "code",
   "execution_count": 35,
   "id": "1ed95bda",
   "metadata": {},
   "outputs": [
    {
     "data": {
      "text/plain": [
       "array('d', [1.0, 2.08, 4.29, 1.0, 1.0])"
      ]
     },
     "execution_count": 35,
     "metadata": {},
     "output_type": "execute_result"
    }
   ],
   "source": [
    "import array\n",
    "arr = array.array('d', [9.46, 2.08, 4.29, 1]) \n",
    "#array of type float (d stands for double which corrensponds to python floats)\n",
    "arr[0] =1\n",
    "\n",
    "arr.append(1)\n",
    "arr\n"
   ]
  },
  {
   "cell_type": "markdown",
   "id": "79f446ea",
   "metadata": {},
   "source": [
    "Draw in Excalidraw pg. 23"
   ]
  },
  {
   "cell_type": "markdown",
   "id": "c043c8fe",
   "metadata": {},
   "source": [
    "- A *container sequence* holds references  to the objects it holds, which may be of any type.\n",
    "- A *flat sequence* stores the value of its contents iin its own memory space, not as **distinct Python object**."
   ]
  },
  {
   "cell_type": "markdown",
   "id": "b62bef14",
   "metadata": {},
   "source": [
    "Every Python object in memory has a header with metadata.\n",
    "Thus, flat sequences are more compact, but they limited to one simple type."
   ]
  },
  {
   "cell_type": "markdown",
   "id": "b4054f95",
   "metadata": {},
   "source": [
    "## List Comprehension\n",
    "\n",
    "A quick way to build a sequence is using a list comprehension (*listcomps*)."
   ]
  },
  {
   "cell_type": "markdown",
   "id": "e0771c5f",
   "metadata": {},
   "source": [
    "Compare those two code snippets:"
   ]
  },
  {
   "cell_type": "code",
   "execution_count": 3,
   "id": "b2fdb3f7",
   "metadata": {},
   "outputs": [
    {
     "data": {
      "text/plain": [
       "[5, 5, 5, 3]"
      ]
     },
     "execution_count": 3,
     "metadata": {},
     "output_type": "execute_result"
    }
   ],
   "source": [
    "strings = ['Hello', 'world', 'again', 'bla']\n",
    "\n",
    "length = []\n",
    "\n",
    "for word in strings:\n",
    "    length.append(len(word))\n",
    "length"
   ]
  },
  {
   "cell_type": "code",
   "execution_count": 4,
   "id": "6a0f7891",
   "metadata": {},
   "outputs": [
    {
     "data": {
      "text/plain": [
       "[5, 5, 5, 3]"
      ]
     },
     "execution_count": 4,
     "metadata": {},
     "output_type": "execute_result"
    }
   ],
   "source": [
    "length = [len(word) for word in strings]\n",
    "length"
   ]
  },
  {
   "cell_type": "markdown",
   "id": "a97ffd6b",
   "metadata": {},
   "source": [
    "A for loop can be used to do many different things: scanning, count or any number of other tasks.\n",
    "In contrast, a listcomp is more explicit. Its goal is **always** to build a new list."
   ]
  },
  {
   "cell_type": "markdown",
   "id": "a09f2987",
   "metadata": {},
   "source": [
    "## Mapping and Filtering with Listcomps "
   ]
  },
  {
   "cell_type": "code",
   "execution_count": 5,
   "id": "773aae06",
   "metadata": {},
   "outputs": [
    {
     "data": {
      "text/plain": [
       "['HELLO', 'WORLD', 'AGAIN', 'BLA']"
      ]
     },
     "execution_count": 5,
     "metadata": {},
     "output_type": "execute_result"
    }
   ],
   "source": [
    "[word.upper() for word in strings] # Mapping"
   ]
  },
  {
   "cell_type": "markdown",
   "id": "fcf1db08",
   "metadata": {},
   "source": [
    "Lets look at nested lists:"
   ]
  },
  {
   "cell_type": "code",
   "execution_count": 6,
   "id": "f8548f71",
   "metadata": {},
   "outputs": [],
   "source": [
    "list_numbers = [[5, 6, 3], [8, 3, 1], [9, 10, 4], [8, 4, 2]]"
   ]
  },
  {
   "cell_type": "markdown",
   "id": "0716103a",
   "metadata": {},
   "source": [
    "Lets calculate the sum of each list by mapping each element to its length: \n",
    "```list_numbers -->  [14, 12, 23, 14]```"
   ]
  },
  {
   "cell_type": "code",
   "execution_count": 7,
   "id": "8b8d8f64",
   "metadata": {},
   "outputs": [
    {
     "data": {
      "text/plain": [
       "[14, 12, 23, 14]"
      ]
     },
     "execution_count": 7,
     "metadata": {},
     "output_type": "execute_result"
    }
   ],
   "source": [
    "[sum(num) for num in list_numbers]"
   ]
  },
  {
   "cell_type": "code",
   "execution_count": 8,
   "id": "f129587a",
   "metadata": {},
   "outputs": [
    {
     "data": {
      "text/plain": [
       "[5, 5, 5]"
      ]
     },
     "execution_count": 8,
     "metadata": {},
     "output_type": "execute_result"
    }
   ],
   "source": [
    "length_gt_3 = [len(word) for word in strings if len(word) > 3] # filtering\n",
    "length_gt_3"
   ]
  },
  {
   "cell_type": "markdown",
   "id": "27310039",
   "metadata": {},
   "source": [
    "## Cartasian Products\n",
    "\n",
    "![cartasian_prod](cartasian_prod.png)"
   ]
  },
  {
   "cell_type": "code",
   "execution_count": 9,
   "id": "36a62f69",
   "metadata": {},
   "outputs": [
    {
     "data": {
      "text/plain": [
       "[('x', 1),\n",
       " ('x', 2),\n",
       " ('x', 3),\n",
       " ('y', 1),\n",
       " ('y', 2),\n",
       " ('y', 3),\n",
       " ('z', 1),\n",
       " ('z', 2),\n",
       " ('z', 3)]"
      ]
     },
     "execution_count": 9,
     "metadata": {},
     "output_type": "execute_result"
    }
   ],
   "source": [
    "A = ['x', 'y', 'z']\n",
    "B = [1, 2, 3]\n",
    "\n",
    "def cartasian_prod(A,B):\n",
    "    result= []\n",
    "    for item1 in A:\n",
    "        for item2 in B:\n",
    "            result.append((item1, item2))\n",
    "    return result\n",
    "\n",
    "cartasian_prod(A, B)\n",
    "            "
   ]
  },
  {
   "cell_type": "markdown",
   "id": "7ea21a04",
   "metadata": {},
   "source": [
    "Now let's do this with listcomps"
   ]
  },
  {
   "cell_type": "code",
   "execution_count": 10,
   "id": "c5b3997a",
   "metadata": {},
   "outputs": [
    {
     "data": {
      "text/plain": [
       "[('x', 1),\n",
       " ('x', 2),\n",
       " ('x', 3),\n",
       " ('y', 1),\n",
       " ('y', 2),\n",
       " ('y', 3),\n",
       " ('z', 1),\n",
       " ('z', 2),\n",
       " ('z', 3)]"
      ]
     },
     "execution_count": 10,
     "metadata": {},
     "output_type": "execute_result"
    }
   ],
   "source": [
    "def cartasian_prod(A, B):\n",
    "    return[(item1, item2) for item1 in A\n",
    "                           for item2 in B] \n",
    "# This generates a list of tuples arranged by letter,then numbers\n",
    "    \n",
    "cartasian_prod(A, B)"
   ]
  },
  {
   "cell_type": "code",
   "execution_count": 11,
   "id": "5677b7c9",
   "metadata": {},
   "outputs": [
    {
     "data": {
      "text/plain": [
       "[('x', 1),\n",
       " ('y', 1),\n",
       " ('z', 1),\n",
       " ('x', 2),\n",
       " ('y', 2),\n",
       " ('z', 2),\n",
       " ('x', 3),\n",
       " ('y', 3),\n",
       " ('z', 3)]"
      ]
     },
     "execution_count": 11,
     "metadata": {},
     "output_type": "execute_result"
    }
   ],
   "source": [
    "def cartasian_prod(A, B):\n",
    "    return[(item1, item2) for item2 in B\n",
    "                           for item1 in A] \n",
    "# To get the items arranged by numbers, then letters, just rearrange the for clauses\n",
    "    \n",
    "cartasian_prod(A, B)"
   ]
  },
  {
   "cell_type": "markdown",
   "id": "cd1e9252",
   "metadata": {},
   "source": [
    "### Building List of Lists\n",
    "\n"
   ]
  },
  {
   "cell_type": "code",
   "execution_count": 12,
   "id": "859f97a6",
   "metadata": {},
   "outputs": [
    {
     "data": {
      "text/plain": [
       "[['_', '_', '_'], ['_', '_', '_'], ['_', '_', '_']]"
      ]
     },
     "execution_count": 12,
     "metadata": {},
     "output_type": "execute_result"
    }
   ],
   "source": [
    "board = [ ['_'] * 3 for i in range(3)] # Create a list of three lists of three items each. Inspect the structure.\n",
    "board"
   ]
  },
  {
   "cell_type": "code",
   "execution_count": 13,
   "id": "bba5cf32",
   "metadata": {},
   "outputs": [
    {
     "data": {
      "text/plain": [
       "[['_', '_', '_'], ['_', '_', 'X'], ['_', '_', '_']]"
      ]
     },
     "execution_count": 13,
     "metadata": {},
     "output_type": "execute_result"
    }
   ],
   "source": [
    "board[1][2] = 'X'\n",
    "board"
   ]
  },
  {
   "cell_type": "markdown",
   "id": "a41783f5",
   "metadata": {},
   "source": [
    "A tempting, but wrong, shortcut: "
   ]
  },
  {
   "cell_type": "code",
   "execution_count": 14,
   "id": "ffbba898",
   "metadata": {},
   "outputs": [
    {
     "data": {
      "text/plain": [
       "[['_', '_', 'O'], ['_', '_', 'O'], ['_', '_', 'O']]"
      ]
     },
     "execution_count": 14,
     "metadata": {},
     "output_type": "execute_result"
    }
   ],
   "source": [
    "weird_board = [ ['_'] * 3] * 3 # The outer list is made of three references to the same inner list.\n",
    "weird_board[1][2] = 'O' # all rows are aliases referring to the same object, pg. 52\n",
    "weird_board"
   ]
  },
  {
   "cell_type": "markdown",
   "id": "6e60fba9",
   "metadata": {},
   "source": [
    "###### Now let's move on to the other fundamental sequence type in Python: the typle."
   ]
  },
  {
   "cell_type": "markdown",
   "id": "640e8468",
   "metadata": {},
   "source": [
    "### list.sort Versus the sort Built-In\n",
    "\n",
    "The list.*sort* method sorts a list in place. \n",
    "\n",
    "In contrast, the built-in function *sorted* creates a new list and returns it. \n",
    "It accepts any iterable object as an argument, including immutable sequences and generators. It always returns a newly created list.\n",
    "\n",
    "Both list.*sort* and *sorted*  take two optional, keyword-only arguments: \n",
    "\n",
    "- reverse: accepts a boolean\n",
    "- key: accepts a one-arguments function "
   ]
  },
  {
   "cell_type": "code",
   "execution_count": 25,
   "id": "841e2584",
   "metadata": {},
   "outputs": [
    {
     "data": {
      "text/plain": [
       "['apple', 'banana', 'grape', 'raspberry']"
      ]
     },
     "execution_count": 25,
     "metadata": {},
     "output_type": "execute_result"
    }
   ],
   "source": [
    "fruits = ['grape', 'raspberry', 'apple', 'banana']\n",
    "sorted(fruits)"
   ]
  },
  {
   "cell_type": "code",
   "execution_count": 26,
   "id": "9a6b167e",
   "metadata": {},
   "outputs": [
    {
     "data": {
      "text/plain": [
       "['raspberry', 'grape', 'banana', 'apple']"
      ]
     },
     "execution_count": 26,
     "metadata": {},
     "output_type": "execute_result"
    }
   ],
   "source": [
    "sorted(fruits, reverse=True)"
   ]
  },
  {
   "cell_type": "code",
   "execution_count": 27,
   "id": "85e56d70",
   "metadata": {},
   "outputs": [
    {
     "data": {
      "text/plain": [
       "['grape', 'apple', 'banana', 'raspberry']"
      ]
     },
     "execution_count": 27,
     "metadata": {},
     "output_type": "execute_result"
    }
   ],
   "source": [
    "sorted(fruits, key=len)"
   ]
  },
  {
   "cell_type": "code",
   "execution_count": 28,
   "id": "17feff6e",
   "metadata": {},
   "outputs": [
    {
     "data": {
      "text/plain": [
       "['apple', 'banana', 'grape', 'raspberry']"
      ]
     },
     "execution_count": 28,
     "metadata": {},
     "output_type": "execute_result"
    }
   ],
   "source": [
    "fruits.sort()\n",
    "fruits"
   ]
  },
  {
   "cell_type": "code",
   "execution_count": 24,
   "id": "9eef7dfa",
   "metadata": {},
   "outputs": [
    {
     "data": {
      "text/plain": [
       "[('Again', 2), ('Hello', 3), ('World', 1)]"
      ]
     },
     "execution_count": 24,
     "metadata": {},
     "output_type": "execute_result"
    }
   ],
   "source": [
    "books = [('hello', 3), ('world', 1), ('again', 2)]\n",
    "\n",
    "def sort_helper(item):\n",
    "    return item[0]\n",
    "\n",
    "sorted(books, key=sort_helper)"
   ]
  },
  {
   "cell_type": "code",
   "execution_count": null,
   "id": "785d245d",
   "metadata": {},
   "outputs": [],
   "source": []
  },
  {
   "cell_type": "code",
   "execution_count": null,
   "id": "c5819b2b",
   "metadata": {},
   "outputs": [],
   "source": []
  },
  {
   "cell_type": "code",
   "execution_count": null,
   "id": "47b2dce0",
   "metadata": {},
   "outputs": [],
   "source": []
  },
  {
   "cell_type": "code",
   "execution_count": null,
   "id": "d9ca6546",
   "metadata": {},
   "outputs": [],
   "source": []
  },
  {
   "cell_type": "code",
   "execution_count": null,
   "id": "9b0cbafa",
   "metadata": {},
   "outputs": [],
   "source": []
  },
  {
   "cell_type": "markdown",
   "id": "bff80e04",
   "metadata": {},
   "source": [
    "## Tuples Are Not Just Immuatable Lists\n",
    "\n",
    "- used as immuatable lists\n",
    "- used as records with no field names\n",
    "\n",
    "### Tuples as Records\n",
    "\n",
    "Tuples holds records: each item in the tuple holds the data for one field, and the position of the item gves its meaning."
   ]
  },
  {
   "cell_type": "code",
   "execution_count": 15,
   "id": "e424dbb2",
   "metadata": {},
   "outputs": [],
   "source": [
    "lax_coordinates = (33.9425, -118.408056) # Latitude and Longitude of L.A. Airport"
   ]
  },
  {
   "cell_type": "code",
   "execution_count": 16,
   "id": "89481472",
   "metadata": {},
   "outputs": [],
   "source": [
    "travelers_ids = [('USA', '934234'), ('BRA', '234324'), \n",
    "                 ('ESP', '124314')]  #List of tuples"
   ]
  },
  {
   "cell_type": "code",
   "execution_count": 17,
   "id": "a2df7750",
   "metadata": {},
   "outputs": [
    {
     "name": "stdout",
     "output_type": "stream",
     "text": [
      "BRA/234324\n",
      "ESP/124314\n",
      "USA/934234\n"
     ]
    }
   ],
   "source": [
    "for passport in sorted(travelers_ids): # iterate over sorted tuple  \n",
    "    print('%s/%s' % passport) \n",
    "    # The % formatting operator understands tuples and treats each item as separate field."
   ]
  },
  {
   "cell_type": "code",
   "execution_count": 18,
   "id": "3f9b80cf",
   "metadata": {},
   "outputs": [
    {
     "name": "stdout",
     "output_type": "stream",
     "text": [
      "USA\n",
      "BRA\n",
      "ESP\n"
     ]
    }
   ],
   "source": [
    "for country, _ in travelers_ids: \n",
    "    print(country) \n",
    "    #The for loop knows how to retrieve the items of a tuple separately-this called unpacking"
   ]
  },
  {
   "cell_type": "markdown",
   "id": "6cae1a78",
   "metadata": {},
   "source": [
    "### Tuples as Immutable Lists\n",
    "\n",
    "Two benefits:\n",
    "\n",
    "- *Clarity*: you know its length willnever change\n",
    "- *Performance*: A tuple uses less memory than a list of the same length, and it allows Python to do some optimizations.\n",
    "\n",
    "**!!!** References in a tuple cannot changed, but if one of those references points to a mutable object, and that object is changed, then the value of the tuple changes."
   ]
  },
  {
   "cell_type": "code",
   "execution_count": 19,
   "id": "7ba50b21",
   "metadata": {},
   "outputs": [],
   "source": [
    "a = (10, 'alpha', [1, 2])\n",
    "a[-1].append(99)\n"
   ]
  },
  {
   "cell_type": "code",
   "execution_count": 20,
   "id": "1a7df588",
   "metadata": {},
   "outputs": [],
   "source": [
    "# Excalidraw page 33"
   ]
  },
  {
   "cell_type": "code",
   "execution_count": null,
   "id": "0ea86a0c",
   "metadata": {},
   "outputs": [],
   "source": []
  },
  {
   "cell_type": "code",
   "execution_count": null,
   "id": "d0a2ed15",
   "metadata": {},
   "outputs": [],
   "source": []
  },
  {
   "cell_type": "code",
   "execution_count": null,
   "id": "9b177deb",
   "metadata": {},
   "outputs": [],
   "source": []
  },
  {
   "cell_type": "code",
   "execution_count": null,
   "id": "8d2e5657",
   "metadata": {},
   "outputs": [],
   "source": []
  }
 ],
 "metadata": {
  "kernelspec": {
   "display_name": "Python 3 (ipykernel)",
   "language": "python",
   "name": "python3"
  },
  "language_info": {
   "codemirror_mode": {
    "name": "ipython",
    "version": 3
   },
   "file_extension": ".py",
   "mimetype": "text/x-python",
   "name": "python",
   "nbconvert_exporter": "python",
   "pygments_lexer": "ipython3",
   "version": "3.8.10"
  }
 },
 "nbformat": 4,
 "nbformat_minor": 5
}
