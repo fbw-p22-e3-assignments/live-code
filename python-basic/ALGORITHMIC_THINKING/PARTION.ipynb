{
 "cells": [
  {
   "cell_type": "markdown",
   "metadata": {},
   "source": [
    "# Partition\n",
    "\n",
    "- divides data into groups\n",
    "\n",
    "## Algo\n",
    "- couple of index pointers at the two ends\n",
    "- these pointers move towards the middle, searching for an item which is not in this partition"
   ]
  },
  {
   "cell_type": "code",
   "execution_count": 34,
   "metadata": {},
   "outputs": [
    {
     "name": "stdout",
     "output_type": "stream",
     "text": [
      "++++++++++++\n",
      "7\n",
      "++++++++++++\n",
      "##################\n",
      "lo: 2, hi: 6\n",
      "##################\n",
      "----------------\n",
      "BEFORE\n",
      "[1, 1, 5, 5, 2, 4, 3]\n",
      "AFTER\n",
      "[1, 1, 3, 5, 2, 4, 5]\n",
      "---------\n",
      "************\n",
      "lo: 2, hi: 6\n",
      "************\n",
      "##################\n",
      "lo: 3, hi: 5\n",
      "##################\n",
      "----------------\n",
      "BEFORE\n",
      "[1, 1, 3, 5, 2, 4, 5]\n",
      "AFTER\n",
      "[1, 1, 3, 4, 2, 5, 5]\n",
      "---------\n",
      "************\n",
      "lo: 3, hi: 5\n",
      "************\n",
      "##################\n",
      "lo: 4, hi: 4\n",
      "##################\n",
      "----------------\n",
      "BEFORE\n",
      "[1, 1, 3, 4, 2, 5, 5]\n",
      "AFTER\n",
      "[1, 1, 3, 4, 2, 5, 5]\n",
      "---------\n",
      "(2, 6)\n"
     ]
    }
   ],
   "source": [
    "def partition_rec(arr, pivot, lo=0, hi=None):\n",
    "    if hi==None:\n",
    "        hi = len(arr) - 1\n",
    "        print('++++++++++++')\n",
    "        print(len(arr))\n",
    "        print('++++++++++++')\n",
    "\n",
    "    while lo < hi and arr[lo] < pivot:\n",
    "        lo += 1\n",
    "    \n",
    "    while lo < hi and arr[hi] > pivot:\n",
    "        hi -= 1\n",
    "    print('##################')\n",
    "    print(f\"lo: {lo}, hi: {hi}\")\n",
    "    print('##################')\n",
    "    print('----------------')\n",
    "    print('BEFORE')\n",
    "    print(arr)\n",
    "    arr[lo], arr[hi] = arr[hi], arr[lo]\n",
    "    print('AFTER')\n",
    "    print(arr)\n",
    "    print('---------')\n",
    "\n",
    "    if lo != hi:\n",
    "        print('************')\n",
    "        print(f\"lo: {lo}, hi: {hi}\")\n",
    "        print('************')\n",
    "        partition_rec(arr, pivot,lo=lo, hi=hi-1)\n",
    "    return lo, hi\n",
    "values = [1,1,5,5,2,4,3]\n",
    "\n",
    "print(partition_rec(values, 5))\n"
   ]
  }
 ],
 "metadata": {
  "kernelspec": {
   "display_name": "Python 3.10.9 64-bit",
   "language": "python",
   "name": "python3"
  },
  "language_info": {
   "codemirror_mode": {
    "name": "ipython",
    "version": 3
   },
   "file_extension": ".py",
   "mimetype": "text/x-python",
   "name": "python",
   "nbconvert_exporter": "python",
   "pygments_lexer": "ipython3",
   "version": "3.10.10"
  },
  "orig_nbformat": 4,
  "vscode": {
   "interpreter": {
    "hash": "97cc609b13305c559618ec78a438abc56230b9381f827f22d070313b9a1f3777"
   }
  }
 },
 "nbformat": 4,
 "nbformat_minor": 2
}
