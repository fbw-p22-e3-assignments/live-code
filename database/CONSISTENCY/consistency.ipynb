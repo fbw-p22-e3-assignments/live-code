{
 "cells": [
  {
   "attachments": {},
   "cell_type": "markdown",
   "metadata": {},
   "source": [
    "## Consistency\n",
    "\n",
    "- Consistency is the property of a transaction \n",
    "- that guarantees that the changes done will be following all the defined rules."
   ]
  },
  {
   "attachments": {},
   "cell_type": "markdown",
   "metadata": {},
   "source": [
    "### Database Transaction\n",
    "\n",
    "- a single change in database\n",
    "- a transaction can involve multiple operations\n",
    "- e.g. money transfer (**transaction**):\n",
    "1. subtraction from buyer\n",
    "2. addition to seller\n",
    "- e.g. item transfer\n",
    "\n",
    "- money and item transfer could be also one transfer\n",
    "\n",
    "What is a transaction/operation depends on the nature of the application."
   ]
  },
  {
   "attachments": {},
   "cell_type": "markdown",
   "metadata": {},
   "source": [
    "## ACID\n",
    "- The properties \n",
    "1. atomic \n",
    "2. consistent\n",
    "3. isolated\n",
    "4. durable \n",
    "are commonly known as the ACID properties transactions."
   ]
  },
  {
   "attachments": {},
   "cell_type": "markdown",
   "metadata": {},
   "source": [
    "### Atomicity:\n",
    "\n",
    "A database transaction must be done as a whole or not done at all."
   ]
  },
  {
   "attachments": {},
   "cell_type": "markdown",
   "metadata": {},
   "source": [
    "### Consistency\n",
    "- Data is in a consistent state when a transaction starts and when it ends.\n",
    "e.g.an application that transfers funds from one account to another:\n",
    "the consistency property ensures that\n",
    "\n",
    "the *total value of funds in both the accounts* is the same at the start and end of each transaction.\n"
   ]
  },
  {
   "attachments": {},
   "cell_type": "markdown",
   "metadata": {},
   "source": [
    "### Isolation\n",
    "\n",
    "- A database transaction must also be isolated.\n",
    "- A higher level of isolation has higher chances of one transaction blocking another.\n",
    "- A lower level of isolation has higher chances of producing concurrency undesired effects."
   ]
  },
  {
   "attachments": {},
   "cell_type": "markdown",
   "metadata": {},
   "source": [
    "### Durability\n",
    "- A database transaction must also be durable.\n",
    "- The changes should be persistent.\n",
    "- Once a change is done, it is written on the file system\n",
    "- only another change will remove that change."
   ]
  },
  {
   "attachments": {},
   "cell_type": "markdown",
   "metadata": {},
   "source": [
    "### ACID COMPLIANCE\n",
    "- postgres\n",
    "- mysql\n",
    "- sqlite\n",
    "\n",
    "All Relational DBMS are, or can be, ACID compliant.\n",
    "\n",
    "Some NoSQL DBMS can be ACID compliant:\n",
    "\n",
    "- MongoDB\n",
    "- CouchDB\n",
    "- Db2\n",
    "\n",
    "But ACID is a relational concept and most NoSQL use the BASE properties\n",
    "- BASE properties focus on availability rather than consistency\n"
   ]
  },
  {
   "attachments": {},
   "cell_type": "markdown",
   "metadata": {},
   "source": [
    "### BASE Transaction Properties\n",
    "\n",
    "Most NoSQL databases use transactions that are basically available, soft state and eventually consistent.\n",
    "\n",
    "- Basically Available\n",
    "1. The data is spread in different systems to increase availability. \n",
    "2. Having data easily available is more important than having a current version of the data.\n",
    "- Soft State\n",
    "1. The database does not ensure consistency\n",
    "2. it is the application developer who must ensure it \n",
    "- Eventually Consistent\n",
    "1. The database will eventually be consistent. \n",
    "2. when an update is made in a distributed database, that update will be reflected in all database nodes \n",
    "3. that results in the same response every time the data is queried"
   ]
  },
  {
   "attachments": {},
   "cell_type": "markdown",
   "metadata": {},
   "source": [
    "#### Eventually Consistent\n",
    "![](event_consistent.png)\n"
   ]
  },
  {
   "attachments": {},
   "cell_type": "markdown",
   "metadata": {},
   "source": [
    "ACID versus BASE\n",
    "\n",
    "- NoSQL databases provide so-called BASE guarantees\n",
    "- sacrifice a degree of consistency in order to increase availability\n",
    "- Rather than providing strong consistency, they provide eventual consistency\n",
    "- a datastore that provides BASE guarantees can occasionally fail to return the result of the latest WRITE\n",
    "\n",
    "In a typical example, an eventual consistency NoSQL database might permit a hotel room to be reserved on the same night by two different customers, one in Hong Kong and the other in New York City.\n",
    "\n",
    "For many business applications, this is not a problem.\n",
    "\n",
    "The resilience, availability, and low-latency afforded by NoSQL are well worth the tradeoff. \n",
    "\n",
    "The hotel can provide perks to a disgruntled customer, but, by contrast, a regional outage could create significant churn.\n",
    "\n",
    "\n"
   ]
  }
 ],
 "metadata": {
  "language_info": {
   "name": "python"
  },
  "orig_nbformat": 4
 },
 "nbformat": 4,
 "nbformat_minor": 2
}
