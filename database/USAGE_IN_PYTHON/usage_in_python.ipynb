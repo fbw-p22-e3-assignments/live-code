{
 "cells": [
  {
   "attachments": {},
   "cell_type": "markdown",
   "metadata": {},
   "source": [
    "# Usage in Python\n",
    "\n",
    "- Python has support for working with different databases:\n",
    "1. sqlite\n",
    "2. mysql\n",
    "3. postgres\n",
    "4. etc."
   ]
  },
  {
   "attachments": {},
   "cell_type": "markdown",
   "metadata": {},
   "source": [
    "## Psycopg\n",
    "- Psycopg is the most popular PostgreSQL database adapter for python\n",
    "- Psycopg 2 is mostly implemented in C\n",
    "- Many Python types are supported and adapted to matching PostgreSQL data types"
   ]
  },
  {
   "cell_type": "markdown",
   "metadata": {},
   "source": [
    "## Basic module usage"
   ]
  },
  {
   "attachments": {},
   "cell_type": "markdown",
   "metadata": {},
   "source": [
    "> python3 -m pip install psycopg2 "
   ]
  },
  {
   "attachments": {},
   "cell_type": "markdown",
   "metadata": {},
   "source": [
    "> create database python_db;"
   ]
  },
  {
   "cell_type": "code",
   "execution_count": 122,
   "metadata": {},
   "outputs": [
    {
     "data": {
      "text/plain": [
       "(1, 100, \"abc'def\")"
      ]
     },
     "execution_count": 122,
     "metadata": {},
     "output_type": "execute_result"
    }
   ],
   "source": [
    "import psycopg2\n",
    "\n",
    "#Connect to an existing database\n",
    "conn = psycopg2.connect(\n",
    "    host=\"localhost\",\n",
    "    database=\"python_db\",\n",
    "    user=\"postgres\",\n",
    "    password=\"password\"\n",
    ")\n",
    "\n",
    "#Open a cursor to perform database operations\n",
    "cursor = conn.cursor()\n",
    "\n",
    "#Execute a command: this creates a new table\n",
    "cursor.execute(\"CREATE TABLE if not exists test (id serial PRIMARY KEY, num integer, data varchar);\")\n",
    "\n",
    "#Pass data to fill a query placeholders \n",
    "cursor.execute(\"INSERT INTO test (num, data) VALUES (%s, %s);\", (100, \"abc'def\"))\n",
    "\n",
    "# Query the database and obtain data as Python objects\n",
    "cursor.execute(\"SELECT * FROM test;\")\n",
    "data = cursor.fetchone()\n",
    "\n",
    "# Make the changes to the database persistent\n",
    "conn.commit()\n",
    "\n",
    "# Close communication with the database\n",
    "#cursor.close()\n",
    "#conn.close()\n",
    "data"
   ]
  },
  {
   "cell_type": "code",
   "execution_count": 123,
   "metadata": {},
   "outputs": [
    {
     "data": {
      "text/plain": [
       "[(1, 100, \"abc'def\"),\n",
       " (23, 22, 'BLA'),\n",
       " (2, 100, 'DATA'),\n",
       " (3, None, 'Bla'),\n",
       " (4, None, 'Bla'),\n",
       " (5, None, 'Bla'),\n",
       " (6, None, 'Bla'),\n",
       " (8, None, 'Bla'),\n",
       " (9, None, 'Bla'),\n",
       " (10, None, '(\"Bla'),\n",
       " (11, None, 'Bla'),\n",
       " (12, None, 'Bla'),\n",
       " (15, 1, None),\n",
       " (16, 1, None),\n",
       " (17, 1, None),\n",
       " (18, 1, None),\n",
       " (19, 1, None),\n",
       " (20, 5, None),\n",
       " (21, 10, None),\n",
       " (24, 100, \"abc'def\")]"
      ]
     },
     "execution_count": 123,
     "metadata": {},
     "output_type": "execute_result"
    }
   ],
   "source": [
    "cursor.execute(\"select * from test;\")\n",
    "cursor.fetchall()"
   ]
  },
  {
   "attachments": {},
   "cell_type": "markdown",
   "metadata": {},
   "source": [
    "- connect() creates a new database session\n",
    "(a new connection instance is returned)"
   ]
  },
  {
   "cell_type": "code",
   "execution_count": 124,
   "metadata": {},
   "outputs": [
    {
     "name": "stdout",
     "output_type": "stream",
     "text": [
      "<class 'psycopg2.extensions.connection'>\n"
     ]
    }
   ],
   "source": [
    "print(type(conn))"
   ]
  },
  {
   "attachments": {},
   "cell_type": "markdown",
   "metadata": {},
   "source": [
    "- each connection/session can create new cursor instances\n",
    "- cursor instances can execute database commands\n",
    "- commands are sent by the following methods:\n",
    "1. execute()\n",
    "2. executemany()\n",
    "- to retrieve data use following cursor methods:\n",
    "1. fetchone() - gets one row of the query\n",
    "2. fetchall() - gets all available rows\n",
    "3. fetchmany() - gets as many rows as specified e.g. fetchmany(5)"
   ]
  },
  {
   "attachments": {},
   "cell_type": "markdown",
   "metadata": {},
   "source": [
    "### Access Data From a cursor\n",
    "- You can have many cursors sharing the same connection to a database.\n",
    "\n",
    "\n",
    "- a query can potentially match very large sets of data\n",
    "- Read operations do not immediately return all values matching the query\n",
    "- these operations rely on cursors\n",
    "- cursors fetches data in batches to reduce memory consumption\n",
    "\n",
    "- Closing the cursor frees resources associated to the queries.\n",
    "- It would not eliminate the connection to the database itself.\n",
    "(Therefore, there is no need for reauthentication)\n",
    "\n",
    "- Cursors created from the same connection are not isolated\n",
    "- i.e. any changes done to the database by a cursor are visible by other cursor\n"
   ]
  },
  {
   "attachments": {},
   "cell_type": "markdown",
   "metadata": {},
   "source": [
    "### Connections and Cursors\n",
    "- Connections and cursors can be used as context managers and commits if no exception occurs. \n",
    "- the connection is not closed by the context\n",
    "- the cursor is closed by the context"
   ]
  },
  {
   "cell_type": "code",
   "execution_count": 125,
   "metadata": {},
   "outputs": [
    {
     "name": "stdout",
     "output_type": "stream",
     "text": [
      "[(20,)]\n"
     ]
    }
   ],
   "source": [
    "with conn:\n",
    "    with conn.cursor() as curs:\n",
    "        cursor.execute(\"CREATE TABLE if not exists test3 (id serial PRIMARY KEY, num integer, data varchar);\")\n",
    "        curs.execute(\"SELECT * FROM test;\")\n",
    "        curs.execute(\"SELECT count(*) FROM test;\")\n",
    "        print(curs.fetchall())\n",
    "# curs.fetchall()"
   ]
  },
  {
   "attachments": {},
   "cell_type": "markdown",
   "metadata": {},
   "source": [
    "### Passing parameters to SQL queries \n",
    "### execute and executemany()\n",
    "- Execute a database operation \n",
    "- Parameters may be provided \n",
    "- For positional variables binding, the second argument must always be a sequence"
   ]
  },
  {
   "cell_type": "code",
   "execution_count": 126,
   "metadata": {},
   "outputs": [
    {
     "ename": "UniqueViolation",
     "evalue": "duplicate key value violates unique constraint \"test_pkey\"\nDETAIL:  Key (id)=(23) already exists.\n",
     "output_type": "error",
     "traceback": [
      "\u001b[0;31m---------------------------------------------------------------------------\u001b[0m",
      "\u001b[0;31mUniqueViolation\u001b[0m                           Traceback (most recent call last)",
      "Cell \u001b[0;32mIn [126], line 5\u001b[0m\n\u001b[1;32m      1\u001b[0m \u001b[39mwith\u001b[39;00m conn:\n\u001b[1;32m      2\u001b[0m     \u001b[39mwith\u001b[39;00m conn\u001b[39m.\u001b[39mcursor() \u001b[39mas\u001b[39;00m curs:\n\u001b[1;32m      3\u001b[0m \u001b[39m#INSERT INTO some_table (an_int, a_date, a_string)\u001b[39;00m\n\u001b[1;32m      4\u001b[0m \u001b[39m#VALUES (21, 22, 'BLA');\u001b[39;00m\n\u001b[0;32m----> 5\u001b[0m         curs\u001b[39m.\u001b[39;49mexecute(\u001b[39m\"\"\"\u001b[39;49m\n\u001b[1;32m      6\u001b[0m \u001b[39m        insert into test (id, num, data)\u001b[39;49m\n\u001b[1;32m      7\u001b[0m \u001b[39m        values (\u001b[39;49m\u001b[39m%s\u001b[39;49;00m\u001b[39m, \u001b[39;49m\u001b[39m%s\u001b[39;49;00m\u001b[39m, \u001b[39;49m\u001b[39m%s\u001b[39;49;00m\u001b[39m)\u001b[39;49m\n\u001b[1;32m      8\u001b[0m \u001b[39m        \u001b[39;49m\u001b[39m\"\"\"\u001b[39;49m, (\u001b[39m23\u001b[39;49m, \u001b[39m22\u001b[39;49m, \u001b[39m'\u001b[39;49m\u001b[39mBLA\u001b[39;49m\u001b[39m'\u001b[39;49m))\n\u001b[1;32m      9\u001b[0m         curs\u001b[39m.\u001b[39mexecute(\u001b[39m\"\u001b[39m\u001b[39mselect * from test;\u001b[39m\u001b[39m\"\u001b[39m)\n\u001b[1;32m     10\u001b[0m         \u001b[39mprint\u001b[39m(curs\u001b[39m.\u001b[39mfetchall())\n",
      "\u001b[0;31mUniqueViolation\u001b[0m: duplicate key value violates unique constraint \"test_pkey\"\nDETAIL:  Key (id)=(23) already exists.\n"
     ]
    }
   ],
   "source": [
    "with conn:\n",
    "    with conn.cursor() as curs:\n",
    "#INSERT INTO some_table (an_int, a_date, a_string)\n",
    "#VALUES (21, 22, 'BLA');\n",
    "        curs.execute(\"\"\"\n",
    "        insert into test (id, num, data)\n",
    "        values (%s, %s, %s)\n",
    "        \"\"\", (23, 22, 'BLA'))\n",
    "        curs.execute(\"select * from test;\")\n",
    "        print(curs.fetchall())"
   ]
  },
  {
   "attachments": {},
   "cell_type": "markdown",
   "metadata": {},
   "source": [
    "- Named arguments are supported too using %(name)s placeholders in the query\n",
    "- allows to specify the values in any order and to repeat the same value"
   ]
  },
  {
   "cell_type": "code",
   "execution_count": null,
   "metadata": {},
   "outputs": [
    {
     "name": "stdout",
     "output_type": "stream",
     "text": [
      "[(1, 100, \"abc'def\"), (23, 22, 'BLA'), (2, 100, 'DATA')]\n"
     ]
    }
   ],
   "source": [
    "with conn:\n",
    "    with conn.cursor() as curs:\n",
    "        curs.execute(\"\"\"\n",
    "        insert into test (num, data)\n",
    "        values (%(value1)s, %(value2)s)\n",
    "        \"\"\", {'value1':100, 'value2': 'DATA'})\n",
    "        curs.execute(\"select * from test;\")\n",
    "        print(curs.fetchall())"
   ]
  },
  {
   "attachments": {},
   "cell_type": "markdown",
   "metadata": {},
   "source": [
    "### Context and context object\n",
    "- shows that its the same connection"
   ]
  },
  {
   "cell_type": "code",
   "execution_count": null,
   "metadata": {},
   "outputs": [
    {
     "name": "stdout",
     "output_type": "stream",
     "text": [
      "[(1, 100, \"abc'def\"), (23, 22, 'BLA'), (2, 100, 'DATA')]\n",
      "<connection object at 0x7fa506012e00; dsn: 'user=postgres password=xxx dbname=python_db host=localhost', closed: 0>\n"
     ]
    }
   ],
   "source": [
    "with conn as conn_val:\n",
    "    with conn.cursor() as curs:\n",
    "        curs.execute(\"select * from test;\")\n",
    "        print(curs.fetchall())\n",
    "        print(conn_val)"
   ]
  },
  {
   "cell_type": "code",
   "execution_count": null,
   "metadata": {},
   "outputs": [
    {
     "name": "stdout",
     "output_type": "stream",
     "text": [
      "[(1, 100, \"abc'def\"), (23, 22, 'BLA'), (2, 100, 'DATA')]\n",
      "<connection object at 0x7fa506012e00; dsn: 'user=postgres password=xxx dbname=python_db host=localhost', closed: 0>\n",
      "<connection object at 0x7fa506012e00; dsn: 'user=postgres password=xxx dbname=python_db host=localhost', closed: 0>\n"
     ]
    }
   ],
   "source": [
    "with conn as conn_val:\n",
    "    with conn.cursor() as curs:\n",
    "        curs.execute(\"select * from test;\")\n",
    "        print(curs.fetchall())\n",
    "        print(conn_val)\n",
    "print(conn_val)\n",
    "# conn.close()\n",
    "# print(conn_val)"
   ]
  },
  {
   "attachments": {},
   "cell_type": "markdown",
   "metadata": {},
   "source": [
    "### The problem with the query parameters - SQL Injection"
   ]
  },
  {
   "cell_type": "code",
   "execution_count": null,
   "metadata": {},
   "outputs": [
    {
     "ename": "InvalidTextRepresentation",
     "evalue": "invalid input syntax for type integer: \"1); select * from test where 1 in (1\"\nLINE 1: INSERT INTO test (num) VALUES ('1); select * from test where...\n                                       ^\n",
     "output_type": "error",
     "traceback": [
      "\u001b[0;31m---------------------------------------------------------------------------\u001b[0m",
      "\u001b[0;31mInvalidTextRepresentation\u001b[0m                 Traceback (most recent call last)",
      "Cell \u001b[0;32mIn [115], line 5\u001b[0m\n\u001b[1;32m      3\u001b[0m SQL \u001b[39m=\u001b[39m \u001b[39m\"\u001b[39m\u001b[39mINSERT INTO test (num) VALUES (\u001b[39m\u001b[39m%s\u001b[39;00m\u001b[39m);\u001b[39m\u001b[39m\"\u001b[39m \u001b[39m# Note: no quotes, even without quotes\u001b[39;00m\n\u001b[1;32m      4\u001b[0m user_input \u001b[39m=\u001b[39m (\u001b[39m\"\u001b[39m\u001b[39m1); select * from test where 1 in (1\u001b[39m\u001b[39m\"\u001b[39m, ) \u001b[39m#Malicious input\u001b[39;00m\n\u001b[0;32m----> 5\u001b[0m curs\u001b[39m.\u001b[39;49mexecute(SQL, user_input) \u001b[39m# Note: no % operator\u001b[39;00m\n\u001b[1;32m      6\u001b[0m \u001b[39mprint\u001b[39m(curs\u001b[39m.\u001b[39mfetchall())\n",
      "\u001b[0;31mInvalidTextRepresentation\u001b[0m: invalid input syntax for type integer: \"1); select * from test where 1 in (1\"\nLINE 1: INSERT INTO test (num) VALUES ('1); select * from test where...\n                                       ^\n"
     ]
    }
   ],
   "source": [
    "with conn as conn_val:\n",
    "    with conn.cursor() as curs:\n",
    "        SQL = \"INSERT INTO test (num) VALUES (%s);\" # Note: no quotes, even without quotes\n",
    "        user_input = (\"1); select * from test where 1 in (1\", ) #Malicious input\n",
    "        curs.execute(SQL % user_input)\n",
    "        print(curs.fetchall())"
   ]
  },
  {
   "cell_type": "code",
   "execution_count": null,
   "metadata": {},
   "outputs": [
    {
     "ename": "InvalidTextRepresentation",
     "evalue": "invalid input syntax for type integer: \"1); select * from test where 1 in (1\"\nLINE 1: INSERT INTO test (num) VALUES ('1); select * from test where...\n                                       ^\n",
     "output_type": "error",
     "traceback": [
      "\u001b[0;31m---------------------------------------------------------------------------\u001b[0m",
      "\u001b[0;31mInvalidTextRepresentation\u001b[0m                 Traceback (most recent call last)",
      "Cell \u001b[0;32mIn [119], line 5\u001b[0m\n\u001b[1;32m      3\u001b[0m SQL \u001b[39m=\u001b[39m \u001b[39m\"\u001b[39m\u001b[39mINSERT INTO test (num) VALUES (\u001b[39m\u001b[39m%s\u001b[39;00m\u001b[39m);\u001b[39m\u001b[39m\"\u001b[39m \u001b[39m# Note: no quotes, even without quotes\u001b[39;00m\n\u001b[1;32m      4\u001b[0m user_input \u001b[39m=\u001b[39m (\u001b[39m\"\u001b[39m\u001b[39m1); select * from test where 1 in (1\u001b[39m\u001b[39m\"\u001b[39m, ) \u001b[39m#Malicious input\u001b[39;00m\n\u001b[0;32m----> 5\u001b[0m curs\u001b[39m.\u001b[39;49mexecute(SQL, user_input)\n\u001b[1;32m      6\u001b[0m \u001b[39mprint\u001b[39m(curs\u001b[39m.\u001b[39mfetchall())\n",
      "\u001b[0;31mInvalidTextRepresentation\u001b[0m: invalid input syntax for type integer: \"1); select * from test where 1 in (1\"\nLINE 1: INSERT INTO test (num) VALUES ('1); select * from test where...\n                                       ^\n"
     ]
    }
   ],
   "source": [
    "with conn as conn_val:\n",
    "    with conn.cursor() as curs:\n",
    "        SQL = \"INSERT INTO test (num) VALUES (%s);\" # Note: no quotes, even without quotes\n",
    "        user_input = (\"1); select * from test where 1 in (1\", ) #Malicious input\n",
    "        curs.execute(SQL, user_input)# handling the quote; prevents injection\n",
    "        print(curs.fetchall())"
   ]
  },
  {
   "attachments": {},
   "cell_type": "markdown",
   "metadata": {},
   "source": [
    "<span style=color:red;>Warning: Never, never, NEVER use Python string concatenation (+) or string parameters interpolation (%) to pass variables to a SQL query string. </span>"
   ]
  },
  {
   "attachments": {},
   "cell_type": "markdown",
   "metadata": {},
   "source": [
    "![](exploits_of_a_mom.png)"
   ]
  },
  {
   "attachments": {},
   "cell_type": "markdown",
   "metadata": {},
   "source": [
    "### executemany"
   ]
  },
  {
   "cell_type": "code",
   "execution_count": 127,
   "metadata": {},
   "outputs": [
    {
     "name": "stdout",
     "output_type": "stream",
     "text": [
      "[(1, 100, \"abc'def\"), (23, 22, 'BLA'), (2, 100, 'DATA'), (3, None, 'Bla'), (4, None, 'Bla'), (5, None, 'Bla'), (6, None, 'Bla'), (8, None, 'Bla'), (9, None, 'Bla'), (10, None, '(\"Bla'), (11, None, 'Bla'), (12, None, 'Bla'), (15, 1, None), (16, 1, None), (17, 1, None), (18, 1, None), (19, 1, None), (20, 5, None), (21, 10, None), (24, 100, \"abc'def\"), (25, 1, None), (26, 5, None), (27, 10, None)]\n"
     ]
    }
   ],
   "source": [
    "with conn:\n",
    "    with conn.cursor() as curs:\n",
    "        nums = ((1,), (5,), (10,)) #tuple of tuple\n",
    "        curs.executemany(\"INSERT INTO test (num) VALUES (%s)\", nums)\n",
    "        curs.execute(\"select * from test\")\n",
    "        print(curs.fetchall())\n"
   ]
  },
  {
   "attachments": {},
   "cell_type": "markdown",
   "metadata": {},
   "source": [
    "- Parameters are bounded to the query using the same rules described in the execute() method.\n",
    "- In its current implementation this method is not faster than executing execute() in a loop"
   ]
  },
  {
   "attachments": {},
   "cell_type": "markdown",
   "metadata": {},
   "source": [
    "### Adaptation of Python values to SQL types\n",
    "- There is default mapping to convert Python types into PostgreSQL types, and vice versa\n",
    "\n",
    "- None <-->NULL\n",
    "- bool <-->bool\n",
    "- decimal <--> numeric\n",
    "- str <--> varchar\n",
    "- float <--> real or double\n",
    "- int <--> smallint or integer or bigint\n",
    "- date <--> date\n",
    "- time <--> timetz"
   ]
  },
  {
   "attachments": {},
   "cell_type": "markdown",
   "metadata": {},
   "source": [
    "#### mogrify\n",
    "- Return a query string after arguments binding. \n",
    "- The string returned is exactly the one that would be sent by execute() method.\n"
   ]
  },
  {
   "cell_type": "code",
   "execution_count": 131,
   "metadata": {},
   "outputs": [
    {
     "name": "stdout",
     "output_type": "stream",
     "text": [
      "b\"\\n        INSERT INTO test (num, data) VALUES (10, 'BLA');\\n        \"\n"
     ]
    }
   ],
   "source": [
    "with conn:\n",
    "    with conn.cursor() as curs:\n",
    "        query1 = curs.mogrify(\"INSERT INTO test (num, data) VALUES (10, 'bal');\")\n",
    "        query2 = curs.mogrify(\"\"\"\n",
    "        INSERT INTO test (num, data) VALUES (%s, %s);\n",
    "        \"\"\", (10,'BLA'))\n",
    "        print(query2)"
   ]
  },
  {
   "attachments": {},
   "cell_type": "markdown",
   "metadata": {},
   "source": [
    "- the returned value is always a byte string"
   ]
  },
  {
   "attachments": {},
   "cell_type": "markdown",
   "metadata": {},
   "source": [
    "### Constants adaptation\n",
    "- Python None, True and False are converted into the proper SQL literals:"
   ]
  },
  {
   "cell_type": "code",
   "execution_count": 136,
   "metadata": {},
   "outputs": [
    {
     "name": "stdout",
     "output_type": "stream",
     "text": [
      "b'\\n        SELECT NULL, true, false;'\n"
     ]
    }
   ],
   "source": [
    "\n",
    "with conn:\n",
    "    with conn.cursor() as curs:\n",
    "        query = curs.mogrify(\"\"\"\n",
    "        SELECT %s, %s, %s;\"\"\",(None, True, False))\n",
    "        print(query)"
   ]
  },
  {
   "attachments": {},
   "cell_type": "markdown",
   "metadata": {},
   "source": [
    "### Numeric adaptation"
   ]
  },
  {
   "cell_type": "code",
   "execution_count": 137,
   "metadata": {},
   "outputs": [
    {
     "name": "stdout",
     "output_type": "stream",
     "text": [
      "b'\\n        SELECT 10, 10.0, 10.00;'\n"
     ]
    }
   ],
   "source": [
    "from decimal import Decimal\n",
    "with conn:\n",
    "    with conn.cursor() as curs:\n",
    "        query = curs.mogrify(\"\"\"\n",
    "        SELECT %s, %s, %s;\"\"\",(10, 10.00, Decimal(\"10.00\")))\n",
    "        print(query)"
   ]
  },
  {
   "attachments": {},
   "cell_type": "markdown",
   "metadata": {},
   "source": [
    "- sometimes you may prefer to receive numeric data as float instead:\n",
    "- you can configure an adapter to cast PostgreSQL numeric to Python float.\n"
   ]
  },
  {
   "attachments": {},
   "cell_type": "markdown",
   "metadata": {},
   "source": [
    "### Date/Time objects adaptation"
   ]
  },
  {
   "cell_type": "code",
   "execution_count": 139,
   "metadata": {},
   "outputs": [
    {
     "name": "stdout",
     "output_type": "stream",
     "text": [
      "b\"\\n        SELECT '2023-03-09T01:06:00.642316'::timestamp, '2023-03-09'::date, '01:06:00.642316'::time;\"\n"
     ]
    }
   ],
   "source": [
    "from datetime import datetime\n",
    "dt = datetime.now()\n",
    "dt\n",
    "with conn:\n",
    "    with conn.cursor() as curs:\n",
    "        query = curs.mogrify(\"\"\"\n",
    "        SELECT %s, %s, %s;\"\"\",(dt,dt.date(),dt.time()))\n",
    "        print(query)\n"
   ]
  },
  {
   "attachments": {},
   "cell_type": "markdown",
   "metadata": {},
   "source": [
    "### Lists adaptation\n"
   ]
  },
  {
   "cell_type": "code",
   "execution_count": 143,
   "metadata": {},
   "outputs": [
    {
     "name": "stdout",
     "output_type": "stream",
     "text": [
      "b'\\n        select * from my_table where num in ARRAY[10,20,30];'\n"
     ]
    }
   ],
   "source": [
    "with conn:\n",
    "    with conn.cursor() as curs:\n",
    "        query = curs.mogrify(\"\"\"\n",
    "        SELECT %s;\"\"\",([10, 20, 30], ))\n",
    "        print(query)"
   ]
  }
 ],
 "metadata": {
  "kernelspec": {
   "display_name": "Python 3",
   "language": "python",
   "name": "python3"
  },
  "language_info": {
   "codemirror_mode": {
    "name": "ipython",
    "version": 3
   },
   "file_extension": ".py",
   "mimetype": "text/x-python",
   "name": "python",
   "nbconvert_exporter": "python",
   "pygments_lexer": "ipython3",
   "version": "3.8.10"
  },
  "orig_nbformat": 4,
  "vscode": {
   "interpreter": {
    "hash": "916dbcbb3f70747c44a77c7bcd40155683ae19c65e1c03b4aa3499c5328201f1"
   }
  }
 },
 "nbformat": 4,
 "nbformat_minor": 2
}
