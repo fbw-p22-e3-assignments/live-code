{
 "cells": [
  {
   "cell_type": "markdown",
   "id": "ced99e53",
   "metadata": {},
   "source": [
    "# Collections \n",
    "\n",
    "# An Array of Sequences\n",
    "\n",
    "### Overview of Built-In Sequences:\n",
    "\n",
    "We group sequences by mutability:\n",
    "*mutable*:\n",
    "- list\n",
    "- dictionary\n",
    "\n",
    "*immutable*:\n",
    "- string\n",
    "- tuple\n",
    "\n",
    "Another way of grouping sequence types:\n",
    "\n",
    "*Container sequences*\n",
    "- Can hold items of different types, including nested containers, for example: *list, tuples, collection.deque*\n",
    "\n",
    "*Flat sequences*\n",
    "- Hold items of one simple type. For example, *str* and *array.array*"
   ]
  },
  {
   "cell_type": "code",
   "execution_count": 1,
   "id": "0b019656",
   "metadata": {},
   "outputs": [
    {
     "data": {
      "text/plain": [
       "(9.46, 'cat', [2.08, 4.29, 100])"
      ]
     },
     "execution_count": 1,
     "metadata": {},
     "output_type": "execute_result"
    }
   ],
   "source": [
    "t = (9.46, 'cat', [2.08, 4.29]) #tuple\n",
    "#t[0] = 1 #not possible because it's immutable\n",
    "t[-1].append(1)\n",
    "t[-1][-1] = 100 \n",
    "#References in tuple cannot changed, but if one of those references\n",
    "#points to a mutable object, and that object is changed, then the\n",
    "#value of the tuple changes\n",
    "t"
   ]
  },
  {
   "cell_type": "code",
   "execution_count": 65,
   "id": "555a6aa7",
   "metadata": {},
   "outputs": [
    {
     "data": {
      "text/plain": [
       "array('d', [9.46, 2.08, 4.28, 1.0])"
      ]
     },
     "execution_count": 65,
     "metadata": {},
     "output_type": "execute_result"
    }
   ],
   "source": [
    "from array import array # import array array.array('d', [9.46, 2.08,4.28])\n",
    "\n",
    "arr = array('d', [9.46, 2.08,4.28])\n",
    "arr.append(1)\n",
    "arr[0]\n",
    "#arr[-1]\n",
    "arr\n"
   ]
  },
  {
   "cell_type": "markdown",
   "id": "8210696a",
   "metadata": {},
   "source": [
    "- A *container sequence* holds references  to the objects it holds, which may be of any type.\n",
    "- A *flat sequence* stores the value of its contents in its own memory space, not as **distinct Python object**.\n",
    "\n",
    "Every Python object in memory has a header with metadata.\n",
    "Thus, flat sequences are more compact, but they limited to one simple type.\n",
    "\n"
   ]
  },
  {
   "cell_type": "markdown",
   "id": "739f1b20",
   "metadata": {},
   "source": [
    "![flat_vs_container_seq](flat_vs_container_seq.png)\n",
    "\n"
   ]
  },
  {
   "cell_type": "markdown",
   "id": "4434f366",
   "metadata": {},
   "source": [
    "## List Comprehension\n",
    "\n",
    "A quick way of build a squence is using list comprehension (*listcomp*)."
   ]
  },
  {
   "cell_type": "code",
   "execution_count": 3,
   "id": "1f92c89c",
   "metadata": {},
   "outputs": [
    {
     "data": {
      "text/plain": [
       "['', 'A', 'AA', 'AAA', 'AAAA']"
      ]
     },
     "execution_count": 3,
     "metadata": {},
     "output_type": "execute_result"
    }
   ],
   "source": [
    "result = []\n",
    "for i in range(5):\n",
    "    result.append(i*'A')\n",
    "\n",
    "result"
   ]
  },
  {
   "cell_type": "code",
   "execution_count": 4,
   "id": "b08c5eeb",
   "metadata": {},
   "outputs": [
    {
     "data": {
      "text/plain": [
       "['', 'A', 'AA', 'AAA', 'AAAA']"
      ]
     },
     "execution_count": 4,
     "metadata": {},
     "output_type": "execute_result"
    }
   ],
   "source": [
    "result = [i*'A' for i in range(5)]\n",
    "# [element processing  for loop ]\n",
    "result"
   ]
  },
  {
   "cell_type": "code",
   "execution_count": 5,
   "id": "fe8727df",
   "metadata": {},
   "outputs": [
    {
     "data": {
      "text/plain": [
       "['AAAA']"
      ]
     },
     "execution_count": 5,
     "metadata": {},
     "output_type": "execute_result"
    }
   ],
   "source": [
    "result = [i*'A' for i in range(5) if i > 3]\n",
    "# [element processing  for loop ]\n",
    "result"
   ]
  },
  {
   "cell_type": "markdown",
   "id": "f5747148",
   "metadata": {},
   "source": [
    "A for loop can be used to do many different things: scanning, count or any number of other tasks.\n",
    "In contrast, a listcomp is more explicit. Its goal is **always** to build a new list."
   ]
  },
  {
   "cell_type": "markdown",
   "id": "ee8dae97",
   "metadata": {},
   "source": [
    "## Mapping and Filtering with Listcomps "
   ]
  },
  {
   "cell_type": "code",
   "execution_count": 6,
   "id": "8b35dec9",
   "metadata": {},
   "outputs": [
    {
     "data": {
      "text/plain": [
       "[5, 5, 5, 3]"
      ]
     },
     "execution_count": 6,
     "metadata": {},
     "output_type": "execute_result"
    }
   ],
   "source": [
    "strings = ['Hello', 'world', 'again', 'bla'] #-> [5, 5, 5, 3]\n",
    "length = [len(word) for word in strings]\n",
    "length"
   ]
  },
  {
   "cell_type": "code",
   "execution_count": 7,
   "id": "87412512",
   "metadata": {},
   "outputs": [
    {
     "data": {
      "text/plain": [
       "['HELLO', 'WORLD', 'AGAIN', 'BLA']"
      ]
     },
     "execution_count": 7,
     "metadata": {},
     "output_type": "execute_result"
    }
   ],
   "source": [
    "upper_list = [word.upper() for word in strings]\n",
    "upper_list"
   ]
  },
  {
   "cell_type": "code",
   "execution_count": 8,
   "id": "e299cddc",
   "metadata": {},
   "outputs": [
    {
     "data": {
      "text/plain": [
       "['HELLO', 'WORLD', 'AGAIN', 'BLA']"
      ]
     },
     "execution_count": 8,
     "metadata": {},
     "output_type": "execute_result"
    }
   ],
   "source": [
    "def map_list(item):\n",
    "    return item.upper()\n",
    "\n",
    "list(map(map_list, strings))"
   ]
  },
  {
   "cell_type": "markdown",
   "id": "df867e8c",
   "metadata": {},
   "source": [
    "Lets look at nested lists:"
   ]
  },
  {
   "cell_type": "code",
   "execution_count": 9,
   "id": "2851bb36",
   "metadata": {},
   "outputs": [],
   "source": [
    "list_numbers = [[5, 6, 3], [8, 3, 1], [9, 10, 4], [8, 4, 2]]"
   ]
  },
  {
   "cell_type": "markdown",
   "id": "71c54a5f",
   "metadata": {},
   "source": [
    "Lets calculate the sum of each list by mapping each element to its length: \n",
    "```list_numbers -->  [14, 12, 23, 14]```\n"
   ]
  },
  {
   "cell_type": "code",
   "execution_count": 10,
   "id": "ec3b49b2",
   "metadata": {},
   "outputs": [
    {
     "data": {
      "text/plain": [
       "[14, 12, 23, 14]"
      ]
     },
     "execution_count": 10,
     "metadata": {},
     "output_type": "execute_result"
    }
   ],
   "source": [
    "[sum(list_num) for list_num in list_numbers ]"
   ]
  },
  {
   "cell_type": "markdown",
   "id": "9f86f41d",
   "metadata": {},
   "source": [
    "## Filter"
   ]
  },
  {
   "cell_type": "code",
   "execution_count": 11,
   "id": "4a7d2f50",
   "metadata": {},
   "outputs": [],
   "source": [
    "list_numbers = [[5, 6, 3], [8, 3, 1], [9, 10, 4], [8, 4, 2], [1,2]]"
   ]
  },
  {
   "cell_type": "code",
   "execution_count": 12,
   "id": "7e5f51fb",
   "metadata": {},
   "outputs": [
    {
     "data": {
      "text/plain": [
       "[[5, 6, 3], [8, 3, 1], [9, 10, 4], [8, 4, 2]]"
      ]
     },
     "execution_count": 12,
     "metadata": {},
     "output_type": "execute_result"
    }
   ],
   "source": [
    "length_gte_3 = [list_num for list_num in list_numbers if len(list_num) >= 3]\n",
    "length_gte_3"
   ]
  },
  {
   "cell_type": "code",
   "execution_count": 13,
   "id": "c2971494",
   "metadata": {},
   "outputs": [
    {
     "data": {
      "text/plain": [
       "['bla']"
      ]
     },
     "execution_count": 13,
     "metadata": {},
     "output_type": "execute_result"
    }
   ],
   "source": [
    "strings = ['Hello', 'world', 'again', 'bla']\n",
    "\n",
    "length_gt_3 = [word for word in strings if len(word) <= 3 ]\n",
    "length_gt_3"
   ]
  },
  {
   "cell_type": "markdown",
   "id": "333f25c0",
   "metadata": {},
   "source": [
    "### Cartasian Products\n",
    "\n",
    "![cartasian_prod](cartasian_prod.png)"
   ]
  },
  {
   "cell_type": "code",
   "execution_count": 14,
   "id": "bd48eb6b",
   "metadata": {},
   "outputs": [
    {
     "data": {
      "text/plain": [
       "[('x', 1),\n",
       " ('x', 2),\n",
       " ('x', 3),\n",
       " ('y', 1),\n",
       " ('y', 2),\n",
       " ('y', 3),\n",
       " ('z', 1),\n",
       " ('z', 2),\n",
       " ('z', 3)]"
      ]
     },
     "execution_count": 14,
     "metadata": {},
     "output_type": "execute_result"
    }
   ],
   "source": [
    "A = ['x', 'y', 'z']\n",
    "B = [1, 2, 3]\n",
    "\n",
    "def cartasian_prod(A,B):\n",
    "    result = []\n",
    "    for item1 in A:\n",
    "        for item2 in B:\n",
    "            result.append((item1, item2))\n",
    "    return result\n",
    "\n",
    "cartasian_prod(A, B)\n"
   ]
  },
  {
   "cell_type": "markdown",
   "id": "cf7cfacf",
   "metadata": {},
   "source": [
    "Now let's do this with listcomps\n"
   ]
  },
  {
   "cell_type": "code",
   "execution_count": 15,
   "id": "d1c2958b",
   "metadata": {},
   "outputs": [
    {
     "data": {
      "text/plain": [
       "[('x', 1),\n",
       " ('x', 2),\n",
       " ('x', 3),\n",
       " ('y', 1),\n",
       " ('y', 2),\n",
       " ('y', 3),\n",
       " ('z', 1),\n",
       " ('z', 2),\n",
       " ('z', 3)]"
      ]
     },
     "execution_count": 15,
     "metadata": {},
     "output_type": "execute_result"
    }
   ],
   "source": [
    "def cartasian_prod(A,B):\n",
    "    return [(item1, item2) for item1 in A \n",
    "                            for item2 in B]\n",
    "# This generates a list of tuples arranged by letter,then numbers\n",
    "cartasian_prod(A, B)"
   ]
  },
  {
   "cell_type": "code",
   "execution_count": 16,
   "id": "3efaa659",
   "metadata": {},
   "outputs": [
    {
     "data": {
      "text/plain": [
       "[('x', 1),\n",
       " ('y', 1),\n",
       " ('z', 1),\n",
       " ('x', 2),\n",
       " ('y', 2),\n",
       " ('z', 2),\n",
       " ('x', 3),\n",
       " ('y', 3),\n",
       " ('z', 3)]"
      ]
     },
     "execution_count": 16,
     "metadata": {},
     "output_type": "execute_result"
    }
   ],
   "source": [
    "def cartasian_prod(A,B):\n",
    "    return [(item1, item2) for item2 in B\n",
    "                               for item1 in A]\n",
    "# To get the items arranged by numbers, then letters,\n",
    "#just rearrange the for clauses\n",
    "cartasian_prod(A,B)"
   ]
  },
  {
   "cell_type": "markdown",
   "id": "88dec00d",
   "metadata": {},
   "source": [
    "### Building List of Lists"
   ]
  },
  {
   "cell_type": "code",
   "execution_count": 17,
   "id": "0581728a",
   "metadata": {},
   "outputs": [
    {
     "data": {
      "text/plain": [
       "[['_', '_', '_'], ['_', '_', 'X'], ['_', '_', '_']]"
      ]
     },
     "execution_count": 17,
     "metadata": {},
     "output_type": "execute_result"
    }
   ],
   "source": [
    "board = [ ['_' for i in range(3)] for j in range(3) ]\n",
    "#[['_', '_', '_'], ['_', '_', '_'], ['_', '_', '_']]\n",
    "board\n",
    "\n",
    "board[1][2] = 'X'\n",
    "board\n"
   ]
  },
  {
   "cell_type": "code",
   "execution_count": 31,
   "id": "474ed9c9",
   "metadata": {},
   "outputs": [
    {
     "name": "stdout",
     "output_type": "stream",
     "text": [
      "[['_', '_', '_'], ['_', '_', 'X'], ['_', '_', '_']]\n",
      "139713252341952 139713252356992 139713252343104\n",
      "139713819599808\n",
      "[['_', '_', 'O'], ['_', '_', 'O'], ['_', '_', 'O']]\n",
      "139713819599808 139713819599808 139713819599808\n"
     ]
    }
   ],
   "source": [
    "board = [ ['_', '_', '_']  for i in range(3) ]\n",
    "board = [ ['_'] * 3  for i in range(3) ]\n",
    "board[1][2] = 'X'\n",
    "print(board)\n",
    "\n",
    "print(id(board[0]) ,id(board[1]), id(board[2]))\n",
    "\n",
    "row = ['_', '_','_']\n",
    "print(id(row))\n",
    "board_row = [ row for i in range(3) ]\n",
    "board_row[1][2] = 'O'\n",
    "\n",
    "print(board_row)\n",
    "print(id(board_row[0]) ,id(board_row[1]), id(board_row[2]))\n",
    "\n",
    "\n"
   ]
  },
  {
   "cell_type": "markdown",
   "id": "aa9ff404",
   "metadata": {},
   "source": [
    "A tempting, but wrong, shortcut:"
   ]
  },
  {
   "cell_type": "code",
   "execution_count": 19,
   "id": "429c1d19",
   "metadata": {},
   "outputs": [
    {
     "data": {
      "text/plain": [
       "[['_', '_', 'O'], ['_', '_', 'O'], ['_', '_', 'O']]"
      ]
     },
     "execution_count": 19,
     "metadata": {},
     "output_type": "execute_result"
    }
   ],
   "source": [
    "weird_board = [['_', '_', '_']] * 3 #The outer list is made of three\n",
    "#references to the same inner list\n",
    "weird_board\n",
    "weird_board[1][2] = 'O' #all rows are aliases referring to the same \n",
    "#object\n",
    "weird_board"
   ]
  },
  {
   "cell_type": "code",
   "execution_count": 20,
   "id": "3c548e93",
   "metadata": {},
   "outputs": [
    {
     "data": {
      "text/plain": [
       "[['_', '_', 'O'], ['_', '_', 'O'], ['_', '_', 'O']]"
      ]
     },
     "execution_count": 20,
     "metadata": {},
     "output_type": "execute_result"
    }
   ],
   "source": [
    "row = ['_', '_','_']\n",
    "weird_board = []\n",
    "for i in range(3):\n",
    "    weird_board.append(row)\n",
    "    \n",
    "weird_board\n",
    "weird_board[1][2] = 'O'\n",
    "weird_board"
   ]
  },
  {
   "cell_type": "markdown",
   "id": "3d372ac3",
   "metadata": {},
   "source": [
    "### list.sort Versus sort Built-In\n",
    "The list.*sort* method sorts a list in place. \n",
    "\n",
    "In contrast, the built-in function *sorted* creates a new list and returns it. \n",
    "It accepts any iterable object as an argument, including immutable sequences.\n",
    "\n",
    "Both list.*sort* and *sorted*  take two optional, keyword-only arguments:\n",
    "\n",
    "- reverse: accepts a boolean. The default is False\n",
    "- key: accepts a one-arguments function \n"
   ]
  },
  {
   "cell_type": "code",
   "execution_count": 33,
   "id": "1890c9c6",
   "metadata": {},
   "outputs": [
    {
     "data": {
      "text/plain": [
       "['apple', 'banana', 'grape', 'raspberry']"
      ]
     },
     "execution_count": 33,
     "metadata": {},
     "output_type": "execute_result"
    }
   ],
   "source": [
    "fruits = ['grape', 'raspberry', 'apple', 'banana']\n",
    "new_List = sorted(fruits) #returns a new list, which is sorted\n",
    "new_List"
   ]
  },
  {
   "cell_type": "code",
   "execution_count": 42,
   "id": "24f31ac2",
   "metadata": {},
   "outputs": [
    {
     "data": {
      "text/plain": [
       "['raspberry', 'grape', 'banana', 'apple']"
      ]
     },
     "execution_count": 42,
     "metadata": {},
     "output_type": "execute_result"
    }
   ],
   "source": [
    "sorted(fruits, reverse=True)"
   ]
  },
  {
   "cell_type": "code",
   "execution_count": 43,
   "id": "4768ad05",
   "metadata": {},
   "outputs": [
    {
     "data": {
      "text/plain": [
       "['grape', 'apple', 'banana', 'raspberry']"
      ]
     },
     "execution_count": 43,
     "metadata": {},
     "output_type": "execute_result"
    }
   ],
   "source": [
    "sorted(fruits, key=len)"
   ]
  },
  {
   "cell_type": "code",
   "execution_count": 45,
   "id": "53d5f80d",
   "metadata": {},
   "outputs": [
    {
     "data": {
      "text/plain": [
       "['raspberry', 'banana', 'grape', 'apple']"
      ]
     },
     "execution_count": 45,
     "metadata": {},
     "output_type": "execute_result"
    }
   ],
   "source": [
    "sorted(fruits, key=len, reverse=True)"
   ]
  },
  {
   "cell_type": "code",
   "execution_count": 40,
   "id": "e71cc7a8",
   "metadata": {},
   "outputs": [
    {
     "data": {
      "text/plain": [
       "['raspberry', 'grape', 'banana', 'apple']"
      ]
     },
     "execution_count": 40,
     "metadata": {},
     "output_type": "execute_result"
    }
   ],
   "source": [
    "fruits.sort() # changes the fruits list in place\n",
    "fruits\n",
    "#print(fruits.sort())\n",
    "fruits.reverse()\n",
    "fruits"
   ]
  },
  {
   "cell_type": "code",
   "execution_count": 53,
   "id": "862a3628",
   "metadata": {},
   "outputs": [
    {
     "data": {
      "text/plain": [
       "[('again', 2), ('hello', 3), ('world', 1)]"
      ]
     },
     "execution_count": 53,
     "metadata": {},
     "output_type": "execute_result"
    }
   ],
   "source": [
    "books = [('hello', 3), ('world', 1), ('again', 2)]\n",
    "\n",
    "def sort_helper(item):\n",
    "    return item\n",
    "\n",
    "sorted(books, key=sort_helper)\n"
   ]
  }
 ],
 "metadata": {
  "kernelspec": {
   "display_name": "Python 3 (ipykernel)",
   "language": "python",
   "name": "python3"
  },
  "language_info": {
   "codemirror_mode": {
    "name": "ipython",
    "version": 3
   },
   "file_extension": ".py",
   "mimetype": "text/x-python",
   "name": "python",
   "nbconvert_exporter": "python",
   "pygments_lexer": "ipython3",
   "version": "3.8.10"
  },
  "vscode": {
   "interpreter": {
    "hash": "97cc609b13305c559618ec78a438abc56230b9381f827f22d070313b9a1f3777"
   }
  }
 },
 "nbformat": 4,
 "nbformat_minor": 5
}
