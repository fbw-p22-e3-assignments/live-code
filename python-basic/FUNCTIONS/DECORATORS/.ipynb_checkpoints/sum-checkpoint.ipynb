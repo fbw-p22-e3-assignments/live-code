{
 "cells": [
  {
   "cell_type": "markdown",
   "id": "50e50c12",
   "metadata": {},
   "source": [
    "# Summation\n",
    "\n",
    "- addition of any kind of numbers (called *summands*)\n",
    "- result is their sum\n",
    "\n",
    "$ 1 + 2 + 3 = 6$"
   ]
  },
  {
   "cell_type": "markdown",
   "id": "0d835421",
   "metadata": {},
   "source": [
    "The summations of long sequences may be represented with most summands replaced by ellipses. For example, summation of the first 100 natural numbers may be written as\n",
    "$ 1 + 2 + ... + 100 $.\n",
    "\n",
    "Otherwise ummation is denoted by the Greek capital letter sigma $ \\Sigma $.For example,\n",
    "$ \\displaystyle\\sum_{i=1}^{100} = 1 + 2 + 3 + ... + 100$."
   ]
  },
  {
   "cell_type": "markdown",
   "id": "26c68e67",
   "metadata": {},
   "source": [
    "In Python you can calculate the sum with a for loop:"
   ]
  },
  {
   "cell_type": "code",
   "execution_count": 7,
   "id": "649f2cad",
   "metadata": {},
   "outputs": [
    {
     "name": "stdout",
     "output_type": "stream",
     "text": [
      "5050\n"
     ]
    }
   ],
   "source": [
    "result = 0\n",
    "for i in range(101):\n",
    "       result = result + i\n",
    "print(result)"
   ]
  },
  {
   "cell_type": "markdown",
   "id": "0dfd50e7",
   "metadata": {},
   "source": [
    "We can define a function to compute the following sum:\n",
    "$ \\displaystyle\\sum_{i=1}^{N} = 1 + 2 + 3 + ... + N $"
   ]
  },
  {
   "cell_type": "code",
   "execution_count": 5,
   "id": "48365123",
   "metadata": {},
   "outputs": [
    {
     "data": {
      "text/plain": [
       "5050"
      ]
     },
     "execution_count": 5,
     "metadata": {},
     "output_type": "execute_result"
    }
   ],
   "source": [
    "def sum(N):\n",
    "    result = 0\n",
    "    for i in range(N+1):\n",
    "        result += i\n",
    "    return result\n",
    "\n",
    "sum(100)"
   ]
  },
  {
   "cell_type": "markdown",
   "id": "fa426076",
   "metadata": {},
   "source": [
    "More complex pattern could look like:\n",
    "$ \\displaystyle\\sum_{i}^{N} a_{i} $\n",
    "\n"
   ]
  },
  {
   "cell_type": "markdown",
   "id": "30242359",
   "metadata": {},
   "source": [
    "for $ a_{i} = \\frac{1}{i}$"
   ]
  },
  {
   "cell_type": "markdown",
   "id": "793c7c53",
   "metadata": {},
   "source": [
    "$ \\displaystyle\\sum_{i}^{N} \\frac{1}{i} = \\frac{1}{1} + \\frac{1}{2} + ... + \\frac{1}{N} $"
   ]
  },
  {
   "cell_type": "markdown",
   "id": "cfa884fe",
   "metadata": {},
   "source": [
    "## Analogous to Summation you can define Products of Sequences\n",
    "$ \\displaystyle\\prod_{i}^{N} i = 1 \\cdot 2 \\cdot  ...  \\cdot N $\n"
   ]
  },
  {
   "cell_type": "markdown",
   "id": "f7b5ca28",
   "metadata": {},
   "source": [
    "Example: Faculty:\n",
    "\n",
    "$ n! = \\displaystyle\\prod_{i}^{n} i = 1 \\cdot  $"
   ]
  },
  {
   "cell_type": "markdown",
   "id": "48cf124d",
   "metadata": {},
   "source": [
    "## Series\n",
    "\n",
    "In mathematics, a series is, roughly speaking, a description of the operation of adding infinitely many quantities, one after the other, to a given starting quantity:\n",
    "\n",
    "$\\displaystyle\\sum_{i=1}^{\\infty} i$"
   ]
  },
  {
   "cell_type": "markdown",
   "id": "521c84ec",
   "metadata": {},
   "source": [
    "## Convergent series\n",
    "\n",
    "Some series have value:\n",
    "*a geometric series*:\n",
    "$ \\displaystyle\\sum_{i=0}^{\\infty} \\frac{1}{3^{i}} = \\frac {1}{1-\\frac{1}{3}} $\n",
    "\n",
    "\n",
    "*alternating harmonic series*:\n",
    "$ \\displaystyle\\sum_{i=1}^{\\infty} \\frac{(-1)^{i}}{2i-1} = -\\frac {\\pi}{4} $\n"
   ]
  },
  {
   "cell_type": "markdown",
   "id": "8f75551d",
   "metadata": {},
   "source": [
    "# Exercises:\n",
    "\n",
    "- write down the first four summands of $ \\displaystyle\\sum_{i=0}^{\\infty} \\frac{1}{3^{i}} $\n",
    "- compare your results with a partner"
   ]
  },
  {
   "cell_type": "code",
   "execution_count": null,
   "id": "0d7a06be",
   "metadata": {},
   "outputs": [],
   "source": []
  },
  {
   "cell_type": "code",
   "execution_count": null,
   "id": "cf52b825",
   "metadata": {},
   "outputs": [],
   "source": []
  },
  {
   "cell_type": "code",
   "execution_count": null,
   "id": "5d20cb48",
   "metadata": {},
   "outputs": [],
   "source": []
  },
  {
   "cell_type": "code",
   "execution_count": null,
   "id": "19c610bd",
   "metadata": {},
   "outputs": [],
   "source": []
  }
 ],
 "metadata": {
  "kernelspec": {
   "display_name": "Python 3 (ipykernel)",
   "language": "python",
   "name": "python3"
  },
  "language_info": {
   "codemirror_mode": {
    "name": "ipython",
    "version": 3
   },
   "file_extension": ".py",
   "mimetype": "text/x-python",
   "name": "python",
   "nbconvert_exporter": "python",
   "pygments_lexer": "ipython3",
   "version": "3.8.10"
  }
 },
 "nbformat": 4,
 "nbformat_minor": 5
}
