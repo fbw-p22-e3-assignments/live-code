{
 "cells": [
  {
   "attachments": {},
   "cell_type": "markdown",
   "metadata": {},
   "source": [
    "# Object Oriented Programming\n",
    "\n",
    "- Classes provide means of bundling data and functionality together\n",
    "- Creating a new class creates a new type of object, allowing new instances of that type to be made. \n",
    "- Each class instance can have attributes attached to it for maintaining its state. \n",
    "- Class instances can also have methods (defined by its class) for modifying its state."
   ]
  },
  {
   "cell_type": "code",
   "execution_count": null,
   "metadata": {},
   "outputs": [],
   "source": [
    "class ClassName:\n",
    "    <statement-1>\n",
    "    .\n",
    "    .\n",
    "    .\n",
    "    .\n",
    "    <statement-N>"
   ]
  },
  {
   "attachments": {},
   "cell_type": "markdown",
   "metadata": {},
   "source": [
    "### Class Objects\n",
    "\n",
    "Class objects support two kinds of operations:\n",
    "- instantiation\n",
    "- attribute reference\n",
    "\n",
    "*Attribute references* use the standard syntax used for all attribute references in Python: obj.name. "
   ]
  },
  {
   "cell_type": "code",
   "execution_count": 1,
   "metadata": {},
   "outputs": [],
   "source": [
    "class MyClass:\n",
    "    \"\"\"A simple example class\"\"\"\n",
    "    i = 12345\n",
    "\n",
    "    def f(self):\n",
    "        return \"Hello World\""
   ]
  },
  {
   "attachments": {},
   "cell_type": "markdown",
   "metadata": {},
   "source": [
    "MyClass.i and MyClass.f are valid attribute references, returning an integer and a function object."
   ]
  },
  {
   "cell_type": "code",
   "execution_count": 2,
   "metadata": {},
   "outputs": [
    {
     "data": {
      "text/plain": [
       "12345"
      ]
     },
     "execution_count": 2,
     "metadata": {},
     "output_type": "execute_result"
    }
   ],
   "source": [
    "MyClass.i"
   ]
  },
  {
   "cell_type": "code",
   "execution_count": 3,
   "metadata": {},
   "outputs": [
    {
     "data": {
      "text/plain": [
       "<function __main__.MyClass.f(self)>"
      ]
     },
     "execution_count": 3,
     "metadata": {},
     "output_type": "execute_result"
    }
   ],
   "source": [
    "MyClass.f"
   ]
  },
  {
   "cell_type": "code",
   "execution_count": 4,
   "metadata": {},
   "outputs": [
    {
     "data": {
      "text/plain": [
       "'A simple example class'"
      ]
     },
     "execution_count": 4,
     "metadata": {},
     "output_type": "execute_result"
    }
   ],
   "source": [
    "MyClass.__doc__"
   ]
  },
  {
   "attachments": {},
   "cell_type": "markdown",
   "metadata": {},
   "source": [
    "Class instantiation uses function notation (function call). For example"
   ]
  },
  {
   "cell_type": "code",
   "execution_count": 6,
   "metadata": {},
   "outputs": [
    {
     "data": {
      "text/plain": [
       "<__main__.MyClass at 0x7fa5d83dd360>"
      ]
     },
     "execution_count": 6,
     "metadata": {},
     "output_type": "execute_result"
    }
   ],
   "source": [
    "x = MyClass()\n",
    "x"
   ]
  },
  {
   "attachments": {},
   "cell_type": "markdown",
   "metadata": {},
   "source": [
    "creates a new instance of the class and assigns this object to the variable x.\n",
    "\n",
    "- The instantiation operation (“calling” a class object) creates an empty object.\n",
    "- Many classes like to create objects with instances customized to a specific initial state.\n",
    "- A class may define a special method named __ init__() to define the initial state:"
   ]
  },
  {
   "cell_type": "code",
   "execution_count": 47,
   "metadata": {},
   "outputs": [],
   "source": [
    "class MyClass:\n",
    "    \"\"\"A simple example class\"\"\"\n",
    "    i = 12345\n",
    "\n",
    "    def __init__(self): #Constructor\n",
    "        self.data = ['nl']\n",
    "\n",
    "    def f(self, item):\n",
    "        self.data.append(item)\n",
    "        print(self.data)\n",
    "        return \"Hello World\""
   ]
  },
  {
   "cell_type": "code",
   "execution_count": 49,
   "metadata": {},
   "outputs": [
    {
     "name": "stdout",
     "output_type": "stream",
     "text": [
      "['nl', 'world2']\n"
     ]
    },
    {
     "data": {
      "text/plain": [
       "'Hello World'"
      ]
     },
     "execution_count": 49,
     "metadata": {},
     "output_type": "execute_result"
    }
   ],
   "source": [
    "x = MyClass()\n",
    "x.i\n",
    "y = MyClass()\n",
    "y.f('world2')\n",
    "#MyClass.f('bla')"
   ]
  },
  {
   "attachments": {},
   "cell_type": "markdown",
   "metadata": {},
   "source": [
    "When a class defines an __ init__() method, class instantiation automatically invokes __ init__() for the newly created class instance.\n",
    "For greater flexibility, arguments given to the class instantiation operator are passed on to __ init__():"
   ]
  },
  {
   "cell_type": "code",
   "execution_count": 26,
   "metadata": {},
   "outputs": [
    {
     "name": "stdout",
     "output_type": "stream",
     "text": [
      "<__main__.Complex object at 0x7fa5d83df8e0>\n"
     ]
    }
   ],
   "source": [
    "class Complex: #x + i * y\n",
    "    def __init__(self, realpart, imagpart):\n",
    "        print(self)\n",
    "        self.r = realpart\n",
    "        self.i = imagpart\n",
    "\n",
    "z = Complex(3.0, -4.5)\n",
    "#print(z)"
   ]
  },
  {
   "attachments": {},
   "cell_type": "markdown",
   "metadata": {},
   "source": [
    "### Method Objects\n",
    "\n"
   ]
  },
  {
   "cell_type": "code",
   "execution_count": 65,
   "metadata": {},
   "outputs": [],
   "source": [
    "class MyClass:\n",
    "    \"\"\"A simple example class\"\"\"\n",
    "    i = 12345\n",
    "\n",
    "    def __init__(self): #Constructor\n",
    "        self.data = ['nl']\n",
    "\n",
    "    def f(self):\n",
    "        return \"Hello World\""
   ]
  },
  {
   "attachments": {},
   "cell_type": "markdown",
   "metadata": {},
   "source": [
    "## Class and Instance Variables\n",
    "\n",
    "- instance variables are unique to each instance and\n",
    "- class variable are shared by all instances of the class "
   ]
  },
  {
   "cell_type": "code",
   "execution_count": 83,
   "metadata": {},
   "outputs": [],
   "source": [
    "class Dog:\n",
    "\n",
    "    kind = 'canine'  # class variable\n",
    "\n",
    "    def __init__(self, name):\n",
    "        self.name = name #instance variable\n",
    "\n",
    "d = Dog('Fido')\n",
    "e = Dog('Buddy')"
   ]
  },
  {
   "cell_type": "code",
   "execution_count": 84,
   "metadata": {},
   "outputs": [
    {
     "data": {
      "text/plain": [
       "'canine'"
      ]
     },
     "execution_count": 84,
     "metadata": {},
     "output_type": "execute_result"
    }
   ],
   "source": [
    "d.kind"
   ]
  },
  {
   "cell_type": "code",
   "execution_count": 85,
   "metadata": {},
   "outputs": [
    {
     "data": {
      "text/plain": [
       "'canine'"
      ]
     },
     "execution_count": 85,
     "metadata": {},
     "output_type": "execute_result"
    }
   ],
   "source": [
    "e.kind"
   ]
  },
  {
   "cell_type": "code",
   "execution_count": 86,
   "metadata": {},
   "outputs": [
    {
     "data": {
      "text/plain": [
       "'Fido'"
      ]
     },
     "execution_count": 86,
     "metadata": {},
     "output_type": "execute_result"
    }
   ],
   "source": [
    "d.name"
   ]
  },
  {
   "cell_type": "code",
   "execution_count": 87,
   "metadata": {},
   "outputs": [
    {
     "data": {
      "text/plain": [
       "'Buddy'"
      ]
     },
     "execution_count": 87,
     "metadata": {},
     "output_type": "execute_result"
    }
   ],
   "source": [
    "e.name"
   ]
  },
  {
   "attachments": {},
   "cell_type": "markdown",
   "metadata": {},
   "source": [
    "shared data can have possible surprising effects with involving mutable objects such as lists and dictionaries:"
   ]
  },
  {
   "cell_type": "code",
   "execution_count": 6,
   "metadata": {},
   "outputs": [
    {
     "name": "stdout",
     "output_type": "stream",
     "text": [
      "{'roll over', 'play dead'}\n"
     ]
    }
   ],
   "source": [
    "class Dog:\n",
    "\n",
    "    #trick = []                     #mistaken use of a class variable\n",
    "    trick_set = set()\n",
    "\n",
    "    def __init__(self, name):\n",
    "        self.name = name\n",
    "\n",
    "    def add_trick(self,trick):\n",
    "        #self.trick.append(trick) \n",
    "        self.trick_set.add(trick)\n",
    "\n",
    "d = Dog('Fido')\n",
    "e = Dog('Buddy')\n",
    "d.add_trick('roll over')\n",
    "e.add_trick('play dead')\n",
    "\n",
    "#d.trick_set\n",
    "print(e.trick_set)"
   ]
  },
  {
   "attachments": {},
   "cell_type": "markdown",
   "metadata": {},
   "source": [
    "Correct design of the class should use an instance variable instead:"
   ]
  },
  {
   "cell_type": "code",
   "execution_count": 4,
   "metadata": {},
   "outputs": [
    {
     "name": "stdout",
     "output_type": "stream",
     "text": [
      "__init__ is called\n",
      "__init__ is called\n"
     ]
    },
    {
     "data": {
      "text/plain": [
       "['first_trick', 'play dead']"
      ]
     },
     "execution_count": 4,
     "metadata": {},
     "output_type": "execute_result"
    }
   ],
   "source": [
    "class Dog:\n",
    "\n",
    "\n",
    "    def __init__(self, name, first_trick='first_trick'):\n",
    "        self.name = name\n",
    "        print('__init__ is called')\n",
    "        self.trick = [first_trick]    #creates a new empty list for each dog\n",
    "\n",
    "    def add_trick(self,trick):\n",
    "        self.trick.append(trick)\n",
    "\n",
    "d = Dog('Fido') #here I'm calling __init\n",
    "e = Dog('Buddy')\n",
    "d.add_trick('roll over')\n",
    "e.add_trick('play dead')\n",
    "\n",
    "d.trick\n",
    "e.trick"
   ]
  },
  {
   "attachments": {},
   "cell_type": "markdown",
   "metadata": {},
   "source": [
    "# Inheritance\n",
    "\n",
    "There is a significant backlash against overuse of inheritance in general, because superclasses and sub classes are tightly coupled.\n",
    "\n",
    "However, we may have to use frameworks that forces us to use inheritance sometimes. There are partical uses of multiple inheritance with the standard library and the Django web framework."
   ]
  },
  {
   "cell_type": "code",
   "execution_count": null,
   "metadata": {},
   "outputs": [],
   "source": [
    "class DerivedClassName(BaseClassName):\n",
    "    <statments-1>\n",
    "    .\n",
    "    .\n",
    "    .\n",
    "    <statements-N>"
   ]
  },
  {
   "attachments": {},
   "cell_type": "markdown",
   "metadata": {},
   "source": [
    "- When the class object is constructed, the base class is remembered\n",
    "- if a requested attribute is not found in the class, the search proceeds to look in the base\n",
    "- Derived classes may override methods of their base classes.\n",
    "- An overriding method in a derived class may in fact want to extend rather than simply replace the base class method of the same name."
   ]
  },
  {
   "cell_type": "code",
   "execution_count": 29,
   "metadata": {},
   "outputs": [
    {
     "data": {
      "text/plain": [
       "8"
      ]
     },
     "execution_count": 29,
     "metadata": {},
     "output_type": "execute_result"
    }
   ],
   "source": [
    "class Rectangle:\n",
    "    \"\"\"A class of Python object that describes the properties of a rectangle\"\"\"\n",
    "    def __init__(self, width, height, center=(0,0)):\n",
    "        self.width = width\n",
    "        self.height = height\n",
    "        self.center = center\n",
    "\n",
    "    def __repr__(self):\n",
    "         return f\"Rectangle(width={self.width}, height={self.height}, center={self.center})\"\n",
    "\n",
    "    def compute_area(self):\n",
    "        return self.width * self.height\n",
    "\n",
    "r = Rectangle(2, 4, (1,2))\n",
    "r\n",
    "r.compute_area()"
   ]
  },
  {
   "cell_type": "code",
   "execution_count": 52,
   "metadata": {},
   "outputs": [
    {
     "name": "stdout",
     "output_type": "stream",
     "text": [
      "string\n"
     ]
    }
   ],
   "source": [
    "class Square(Rectangle):\n",
    "    def __init__(self, side, center=(0,0)):\n",
    "        self.side = side\n",
    "        #center = (1,2)\n",
    "        super().__init__(side, side, center)\n",
    "        #Rectangle.__init__(self, side, side, center)\n",
    "    def change_center(self, t):\n",
    "        self.center = t\n",
    "\n",
    "    def __repr__(self):\n",
    "        return 'hello world'\n",
    "        # return f\"Square(side={self.side}, center={self.center})\"\n",
    "    def __str__(self):\n",
    "        return \"string\"\n",
    "\n",
    "my_square = Square(2)\n",
    "my_square.compute_area()\n",
    "#my_square.change_center((22,33))\n",
    "my_square\n",
    "print(my_square)"
   ]
  },
  {
   "cell_type": "code",
   "execution_count": 42,
   "metadata": {},
   "outputs": [
    {
     "data": {
      "text/plain": [
       "2"
      ]
     },
     "execution_count": 42,
     "metadata": {},
     "output_type": "execute_result"
    }
   ],
   "source": [
    "class Mammals:\n",
    "    def __init__(self, legs=4):\n",
    "        self.legs = legs\n",
    "\n",
    "class Dogs(Mammals):\n",
    "    def __init__(self, legs=4):\n",
    "        super().__init__(legs)\n",
    "\n",
    "class Human(Mammals):\n",
    "    def __init__(self, legs=2):\n",
    "        super().__init__(legs)\n",
    "\n",
    "d = Dogs()\n",
    "h = Human()\n",
    "d.legs\n",
    "h.legs"
   ]
  },
  {
   "attachments": {},
   "cell_type": "markdown",
   "metadata": {},
   "source": [
    "## The super() Function\n",
    "\n",
    "To override a method of a superclass, the overriding method needs to call the **corresponding method** of the superclass."
   ]
  },
  {
   "cell_type": "code",
   "execution_count": 57,
   "metadata": {},
   "outputs": [
    {
     "data": {
      "text/plain": [
       "OrderedDict([('a', 'bla'), ('b', 2), ('c', 3)])"
      ]
     },
     "execution_count": 57,
     "metadata": {},
     "output_type": "execute_result"
    }
   ],
   "source": [
    "from collections import OrderedDict\n",
    "\n",
    "d = OrderedDict({'a': 1, 'c':3, 'b': 2})\n",
    "d.move_to_end('c')\n",
    "d['a'] = 'bla'\n",
    "d"
   ]
  },
  {
   "cell_type": "code",
   "execution_count": 78,
   "metadata": {},
   "outputs": [
    {
     "name": "stdout",
     "output_type": "stream",
     "text": [
      "LastUpdateOrderedDict([('a', 1), ('c', 3), ('b', 2)])\n"
     ]
    }
   ],
   "source": [
    "class LastUpdateOrderedDict(OrderedDict):\n",
    "    \"\"\"Store items in the order the keys were last updated\"\"\"\n",
    "\n",
    "    def __setitem__(self, key, value):\n",
    "        super().__setitem__(key, value)  #Triggers when a value is set to an specific key\n",
    "        #OrderedDict.__setitem__(self, key, value) # NOT RECOMMENDED.  1. the super class is hardcoded\n",
    "        # 2. super() implements logic to handle class hierarchies with multiple inheritance\n",
    "        self.move_to_end(key)\n",
    "        #print('Item Updated')\n",
    "\n",
    "d = LastUpdateOrderedDict({'a': 1, 'c':3, 'b': 2})\n",
    "print(d)\n",
    "d['a'] = 'bla'\n",
    "#dir(d) #get all attributes\n"
   ]
  },
  {
   "attachments": {},
   "cell_type": "markdown",
   "metadata": {},
   "source": [
    "in Python2 we had to call super with 2 arguments: Subclass and an instance of this class"
   ]
  },
  {
   "cell_type": "code",
   "execution_count": null,
   "metadata": {},
   "outputs": [],
   "source": [
    "class LastUpdateOrderedDict(OrderedDict):\n",
    "    \"\"\"Store items in the order the keys were last updated\"\"\"\n",
    "\n",
    "    def __setitem__(self, key, value):\n",
    "        super(LastUpdateOrderedDict, self).__setitem__(key, value)  \n",
    "        self.move_to_end(key)\n",
    "        \n",
    "d = LastUpdateOrderedDict({'a': 1, 'c':3, 'b': 2})"
   ]
  },
  {
   "attachments": {},
   "cell_type": "markdown",
   "metadata": {},
   "source": [
    " Both arguments are optional"
   ]
  },
  {
   "attachments": {
    "image.png": {
     "image/png": "[encoded data removed]"
    }
   },
   "cell_type": "markdown",
   "metadata": {},
   "source": [
    " Multiple Inheritance\n",
    "\n",
    " Any language implementing multiple inheritance needs to deal with potential naming conflicts when superclasses implement a method by the same name.\n",
    " This is called the *diamond problem*:\n",
    "\n",
    "\n",
    " ![image.png](attachment:image.png)\n",
    "\n",
    " Activation sequence (dashed arrow)\n",
    "\n"
   ]
  },
  {
   "cell_type": "code",
   "execution_count": 86,
   "metadata": {},
   "outputs": [
    {
     "name": "stdout",
     "output_type": "stream",
     "text": [
      "INSTANCE of Leaf.ping() in Leaf\n",
      "INSTANCE of Leaf.ping() in B\n",
      "INSTANCE of Leaf.ping() in A\n"
     ]
    },
    {
     "data": {
      "text/plain": [
       "(__main__.Leaf, __main__.B, __main__.A, __main__.Root, object)"
      ]
     },
     "execution_count": 86,
     "metadata": {},
     "output_type": "execute_result"
    }
   ],
   "source": [
    "class Root:\n",
    "    def ping(self):\n",
    "        print(f\"{self}.ping() in ROOT\")\n",
    "\n",
    "    def pong(self):\n",
    "        print(f\"{self}.pong() in ROOT\")\n",
    "\n",
    "    def __repr__(self):\n",
    "        return f\"INSTANCE of {type(self).__name__}\"\n",
    "\n",
    "class A(Root):\n",
    "    def ping(self):\n",
    "        print(f\"{self}.ping() in A\")\n",
    "        super().ping()   # calls ping in B because B is after A in my Method Resolution Order\n",
    "    \n",
    "    def pong(self):\n",
    "        print(f\"{self}.pong() in A\")\n",
    "        super().pong()\n",
    "\n",
    "    def __repr__(self):\n",
    "        return f\"INSTANCE of {type(self).__name__}\"\n",
    "\n",
    "class B(Root):\n",
    "    def ping(self):\n",
    "        print(f\"{self}.ping() in B\")\n",
    "        super().ping()   #  calls Root, because Root comes after B in the Resolution Order \n",
    "    \n",
    "    def pong(self):\n",
    "        print(f\"{self}.pong() in B\")\n",
    "    \n",
    "\n",
    "    def __repr__(self):\n",
    "        return f\"INSTANCE of {type(self).__name__}\"\n",
    "\n",
    "class Leaf(A,B):    # the order of my superclasses affect my Resolution order\n",
    "    def ping(self):\n",
    "        print('Hello')\n",
    "        #print(f\"{self}.ping() in Leaf\")\n",
    "        #super().ping()\n",
    "\n",
    "leaf = Leaf()\n",
    "leaf.ping()\n",
    "Leaf.__mro__"
   ]
  },
  {
   "cell_type": "code",
   "execution_count": 98,
   "metadata": {},
   "outputs": [
    {
     "data": {
      "text/plain": [
       "'3Hello world'"
      ]
     },
     "execution_count": 98,
     "metadata": {},
     "output_type": "execute_result"
    }
   ],
   "source": [
    "class Grand:\n",
    "    def __init__(self, a):\n",
    "        self.a = a\n",
    "        \n",
    "    def __add__(self, other):\n",
    "        return self.a + other.a\n",
    "\n",
    "class ParentA(Grand):\n",
    "    def __init__(self, a):\n",
    "        self.a = a\n",
    "        super().__init__(a)\n",
    "        \n",
    "    def __add__(self, other):\n",
    "        super().__add__(other)\n",
    "        return self.a + other.a\n",
    "\n",
    "class ParentB(Grand):\n",
    "    def __init__(self, a):\n",
    "        self.a = a\n",
    "        super().__init__(a)\n",
    "        \n",
    "    def __add__(self, other):\n",
    "        return super().__add__(other)\n",
    "        #return self.a + other.a\n",
    "\n",
    "class Child(ParentA, ParentB):\n",
    "    def __init__(self, a):\n",
    "        self.a = a\n",
    "        super().__init__(a)\n",
    "\n",
    "    def __add__(self, other):\n",
    "        return str(super().__add__(other)) + 'Hello world'\n",
    "        # return str(self.a + other.a) + 'Hello World' \n",
    "\n",
    "\n",
    "g = Grand(1)\n",
    "g2 = Grand(2)\n",
    "g + g2\n",
    "\n",
    "p1 = ParentB(1)\n",
    "p2 = ParentB(2)\n",
    "\n",
    "p1 + p2\n",
    "\n",
    "c1 = Child(1)\n",
    "c2 = Child(2)\n",
    "\n",
    "c1 + c2"
   ]
  },
  {
   "cell_type": "code",
   "execution_count": 101,
   "metadata": {},
   "outputs": [
    {
     "ename": "AttributeError",
     "evalue": "'super' object has no attribute 'stop'",
     "output_type": "error",
     "traceback": [
      "\u001b[0;31m---------------------------------------------------------------------------\u001b[0m",
      "\u001b[0;31mAttributeError\u001b[0m                            Traceback (most recent call last)",
      "Cell \u001b[0;32mIn [101], line 32\u001b[0m\n\u001b[1;32m     30\u001b[0m v \u001b[39m=\u001b[39m Vehicle()\n\u001b[1;32m     31\u001b[0m \u001b[39m# print(v.ride())\u001b[39;00m\n\u001b[0;32m---> 32\u001b[0m \u001b[39mprint\u001b[39m(v\u001b[39m.\u001b[39;49mstop())\n\u001b[1;32m     33\u001b[0m \u001b[39m# print(v.swimm())\u001b[39;00m\n\u001b[1;32m     34\u001b[0m \u001b[39mprint\u001b[39m(Vehicle\u001b[39m.\u001b[39m\u001b[39m__mro__\u001b[39m)\n",
      "Cell \u001b[0;32mIn [101], line 24\u001b[0m, in \u001b[0;36mVehicle.stop\u001b[0;34m(self)\u001b[0m\n\u001b[1;32m     23\u001b[0m \u001b[39mdef\u001b[39;00m \u001b[39mstop\u001b[39m(\u001b[39mself\u001b[39m):\n\u001b[0;32m---> 24\u001b[0m     \u001b[39mreturn\u001b[39;00m \u001b[39m'\u001b[39m\u001b[39mVehicle \u001b[39m\u001b[39m'\u001b[39m \u001b[39m+\u001b[39m \u001b[39msuper\u001b[39;49m()\u001b[39m.\u001b[39;49mstop()\n",
      "Cell \u001b[0;32mIn [101], line 15\u001b[0m, in \u001b[0;36mBoat.stop\u001b[0;34m(self)\u001b[0m\n\u001b[1;32m     14\u001b[0m \u001b[39mdef\u001b[39;00m \u001b[39mstop\u001b[39m(\u001b[39mself\u001b[39m):\n\u001b[0;32m---> 15\u001b[0m     \u001b[39mreturn\u001b[39;00m \u001b[39m'\u001b[39m\u001b[39mstops slowly \u001b[39m\u001b[39m'\u001b[39m \u001b[39m+\u001b[39m \u001b[39msuper\u001b[39;49m()\u001b[39m.\u001b[39;49mstop()\n",
      "Cell \u001b[0;32mIn [101], line 7\u001b[0m, in \u001b[0;36mCar.stop\u001b[0;34m(self)\u001b[0m\n\u001b[1;32m      6\u001b[0m \u001b[39mdef\u001b[39;00m \u001b[39mstop\u001b[39m(\u001b[39mself\u001b[39m):\n\u001b[0;32m----> 7\u001b[0m     \u001b[39mreturn\u001b[39;00m \u001b[39m'\u001b[39m\u001b[39mstops quickly\u001b[39m\u001b[39m'\u001b[39m \u001b[39m+\u001b[39m \u001b[39msuper\u001b[39;49m()\u001b[39m.\u001b[39;49mstop()\n",
      "\u001b[0;31mAttributeError\u001b[0m: 'super' object has no attribute 'stop'"
     ]
    }
   ],
   "source": [
    "class Car:\n",
    "\n",
    "    def ride(self):\n",
    "        return 'riding'\n",
    "\n",
    "    def stop(self):\n",
    "        return 'stops quickly' + super().stop()\n",
    "\n",
    "class Boat:\n",
    "\n",
    "    def swimm(self):\n",
    "        return 'swimming'\n",
    "\n",
    "    def stop(self):\n",
    "        return 'stops slowly ' + super().stop()\n",
    "\n",
    "\n",
    "\n",
    "class Vehicle(Boat, Car):\n",
    "    def ride(self):\n",
    "        return 'Vehicle ' + super().ride()\n",
    "    \n",
    "    def stop(self):\n",
    "        return 'Vehicle ' + super().stop()\n",
    "\n",
    "    def swimm(self):\n",
    "        return 'Vehicle is not ' + super().swimm()\n",
    "\n",
    "\n",
    "v = Vehicle()\n",
    "# print(v.ride())\n",
    "print(v.stop())\n",
    "# print(v.swimm())\n",
    "print(Vehicle.__mro__)"
   ]
  },
  {
   "cell_type": "code",
   "execution_count": 127,
   "metadata": {},
   "outputs": [
    {
     "name": "stdout",
     "output_type": "stream",
     "text": [
      "INSTANCE of Leaf.pong() in A\n",
      "INSTANCE of Leaf.pong() in B\n",
      "INSTANCE of Leaf.pong() in ROOT\n"
     ]
    }
   ],
   "source": [
    "class Root:\n",
    "    def ping(self):\n",
    "        print(f\"{self}.ping() in ROOT\")\n",
    "\n",
    "    def pong(self):\n",
    "        print(f\"{self}.pong() in ROOT\")\n",
    "\n",
    "    def __repr__(self):\n",
    "        return f\"INSTANCE of {type(self).__name__}\"\n",
    "\n",
    "class A(Root):\n",
    "    def ping(self):\n",
    "        print(f\"{self}.ping() in A\")\n",
    "        super().ping()   # calls ping in B because B is after A in my Method Resolution Order\n",
    "    \n",
    "    def pong(self):\n",
    "        print(f\"{self}.pong() in A\")\n",
    "        super().pong()\n",
    "\n",
    "    def __repr__(self):\n",
    "        return f\"INSTANCE of {type(self).__name__}\"\n",
    "\n",
    "class B(Root):\n",
    "    def ping(self):\n",
    "        print(f\"{self}.ping() in B\")\n",
    "        super().ping()   #  calls Root, because Root comes after B in the Resolution Order \n",
    "    \n",
    "    def pong(self):\n",
    "        print(f\"{self}.pong() in B\")\n",
    "        super().pong()\n",
    "    \n",
    "\n",
    "    def __repr__(self):\n",
    "        return f\"INSTANCE of {type(self).__name__}\"\n",
    "\n",
    "class Leaf(A,B):    # the order of my superclasses affect my Resolution order\n",
    "    def ping(self):\n",
    "        print('Hello')\n",
    "        #print(f\"{self}.ping() in Leaf\")\n",
    "        #super().ping()\n",
    "\n",
    "leaf = Leaf()\n",
    "#leaf.ping()\n",
    "Leaf.__mro__\n",
    "leaf.pong()"
   ]
  },
  {
   "attachments": {
    "image.png": {
     "image/png": "[encoded data removed]"
    }
   },
   "cell_type": "markdown",
   "metadata": {},
   "source": [
    "![image.png](attachment:image.png)"
   ]
  },
  {
   "attachments": {},
   "cell_type": "markdown",
   "metadata": {},
   "source": [
    "The activation sequence are determined by two factors:\n",
    "\n",
    "- the method resolution order of the class Leaf\n",
    "- the use of super() in each method\n",
    "\n",
    "The __ mro__ attributes holds a tuple of references to the superclasses in method resolution order, from the current class all the way to the object class.\n",
    "\n",
    "The MRO only determines the activation order, but weather a particular method will be activated in each of the classes depends on weather each implementation calls super() or not.\n"
   ]
  },
  {
   "attachments": {},
   "cell_type": "markdown",
   "metadata": {},
   "source": [
    "- When a method calls super(), it is a *cooperative method*.\n",
    "- Cooperative methods enable *cooperative multiple inheritance*.\n",
    "- it is recommended that every method that is overridden should call super()"
   ]
  },
  {
   "attachments": {},
   "cell_type": "markdown",
   "metadata": {},
   "source": [
    "THe interaction of super with the MRO is dynamic. "
   ]
  },
  {
   "cell_type": "code",
   "execution_count": 112,
   "metadata": {},
   "outputs": [
    {
     "name": "stdout",
     "output_type": "stream",
     "text": [
      "LeafUA\n",
      "INSTANCE of LeafUA.ping() in A\n",
      "INSTANCE of LeafUA.ping() in ROOT\n",
      "U.ping in U\n"
     ]
    },
    {
     "ename": "AttributeError",
     "evalue": "'super' object has no attribute 'ping'",
     "output_type": "error",
     "traceback": [
      "\u001b[0;31m---------------------------------------------------------------------------\u001b[0m",
      "\u001b[0;31mAttributeError\u001b[0m                            Traceback (most recent call last)",
      "Cell \u001b[0;32mIn [112], line 17\u001b[0m\n\u001b[1;32m     15\u001b[0m u\u001b[39m.\u001b[39mping()\n\u001b[1;32m     16\u001b[0m u \u001b[39m=\u001b[39m U()\n\u001b[0;32m---> 17\u001b[0m u\u001b[39m.\u001b[39;49mping()\n\u001b[1;32m     18\u001b[0m LeafUA\u001b[39m.\u001b[39m\u001b[39m__mro__\u001b[39m\n",
      "Cell \u001b[0;32mIn [112], line 4\u001b[0m, in \u001b[0;36mU.ping\u001b[0;34m(self)\u001b[0m\n\u001b[1;32m      2\u001b[0m \u001b[39mdef\u001b[39;00m \u001b[39mping\u001b[39m(\u001b[39mself\u001b[39m):\n\u001b[1;32m      3\u001b[0m     \u001b[39mprint\u001b[39m(\u001b[39mf\u001b[39m\u001b[39m'\u001b[39m\u001b[39m{\u001b[39;00m\u001b[39mself\u001b[39m\u001b[39m}\u001b[39;00m\u001b[39m.ping in U\u001b[39m\u001b[39m'\u001b[39m)\n\u001b[0;32m----> 4\u001b[0m     \u001b[39msuper\u001b[39;49m()\u001b[39m.\u001b[39;49mping()\n",
      "\u001b[0;31mAttributeError\u001b[0m: 'super' object has no attribute 'ping'"
     ]
    }
   ],
   "source": [
    "class U:\n",
    "    def ping(self):\n",
    "        print(f'{self}.ping in U')\n",
    "        super().ping()\n",
    "\n",
    "    def __repr__(self):\n",
    "        return f\"{type(self).__name__}\"\n",
    "\n",
    "class LeafUA(A, U):\n",
    "    def ping(self):\n",
    "        print(f\"{type(self).__name__}\")\n",
    "        super().ping()\n",
    "\n",
    "u = LeafUA()\n",
    "u.ping()\n",
    "u = U()\n",
    "u.ping()\n",
    "LeafUA.__mro__\n",
    "    "
   ]
  },
  {
   "attachments": {},
   "cell_type": "markdown",
   "metadata": {},
   "source": [
    "THe super.ping() call in LeafUA activates U.ping, which *cooparates* by calling super().ping() too, activating A.ping, and eventually Root.ping.\n"
   ]
  },
  {
   "attachments": {},
   "cell_type": "markdown",
   "metadata": {},
   "source": [
    "In a real program, a class like U could b a mixin: a class intended to be used together with other classes in multiple inheritance, to provide additional functionality."
   ]
  },
  {
   "attachments": {},
   "cell_type": "markdown",
   "metadata": {},
   "source": [
    " ## Mixin Classes\n",
    "\n",
    " A mixin class is designed to be subclassed together with at least one other class in multiple inheritance arrangement.\n",
    "\n",
    " - mixin classes are a convention with no explicit language support in Python."
   ]
  },
  {
   "cell_type": "code",
   "execution_count": 128,
   "metadata": {},
   "outputs": [
    {
     "name": "stdout",
     "output_type": "stream",
     "text": [
      "<__main__.ReprMixin object at 0x7f1d463f4040> Hello World\n"
     ]
    },
    {
     "data": {
      "text/plain": [
       "(__main__.ReprMixin, object)"
      ]
     },
     "execution_count": 128,
     "metadata": {},
     "output_type": "execute_result"
    }
   ],
   "source": [
    "class ReprMixin:\n",
    "    def __repr__(self):\n",
    "        return f\"{super().__repr__() } Hello World\"\n",
    "\n",
    "import collections\n",
    "\n",
    "class ReprDict(ReprMixin, collections.UserDict):\n",
    "    pass\n",
    "\n",
    "class ReprCounter(ReprMixin, collections.Counter):\n",
    "    pass\n",
    "\n",
    "d = ReprDict({'a':1, 'b':2})\n",
    "d\n",
    "\n",
    "c = ReprCounter([1,1,1, 3,3,3])\n",
    "c\n",
    "\n",
    "mixin = ReprMixin()\n",
    "print(mixin)\n",
    "ReprMixin.__mro__\n",
    "\n",
    "#dir(object)"
   ]
  },
  {
   "attachments": {},
   "cell_type": "markdown",
   "metadata": {},
   "source": [
    "## Private and \"Protected\" Attributes in Python\n",
    "\n",
    "Private” instance variables that cannot be accessed except from inside an object don’t exist in Python.\n",
    "\n",
    "- However, there is a convention that is followed by most Python code: a name prefixed with an underscore (e.g. _spam) should be treated as a non-public part of t"
   ]
  },
  {
   "cell_type": "code",
   "execution_count": 130,
   "metadata": {},
   "outputs": [
    {
     "data": {
      "text/plain": [
       "'You should not call me'"
      ]
     },
     "execution_count": 130,
     "metadata": {},
     "output_type": "execute_result"
    }
   ],
   "source": [
    "class Test:\n",
    "    def __init__(self):\n",
    "        self.public_var = 'Hello world'\n",
    "        self._privat_var = 'You should not call me' #private\n",
    "\n",
    "t = Test()\n",
    "t.public_var\n",
    "t._privat_var"
   ]
  },
  {
   "attachments": {},
   "cell_type": "markdown",
   "metadata": {},
   "source": [
    " Suppose you have a Dog class that uses a *mood* instance attribute internally, without exposing it. \n",
    " If you subclass Dog as Beagle and create your own *mood* instance attribute, you will overwrite the *mood* attribute used by the methods inherited from Dog.\n",
    "\n",
    " To prevent this you add 2 leading underscores.\n",
    "\n",
    "\n",
    "Python  stores the name in __ dict__: *__mood*\n",
    "becomes *_dog__mood*\n",
    "\n",
    "\n",
    "This language feature goes by the name *name mangling*"
   ]
  },
  {
   "cell_type": "code",
   "execution_count": 156,
   "metadata": {},
   "outputs": [
    {
     "data": {
      "text/plain": [
       "{'_Dog__mood': 'good'}"
      ]
     },
     "execution_count": 156,
     "metadata": {},
     "output_type": "execute_result"
    }
   ],
   "source": [
    "class Dog:\n",
    "\n",
    "    def jump(self):\n",
    "        print('jump')\n",
    "    def __init__(self):\n",
    "       self.__mood = 'good'    #protected variable\n",
    "\n",
    "dog = Dog()\n",
    "\n",
    "dog.__dict__"
   ]
  },
  {
   "cell_type": "code",
   "execution_count": 159,
   "metadata": {},
   "outputs": [
    {
     "name": "stdout",
     "output_type": "stream",
     "text": [
      "{'_Dog__mood': 'good', '_Beagle__mood': 'Bad'}\n",
      "good\n"
     ]
    }
   ],
   "source": [
    "class Beagle(Dog):\n",
    "\n",
    "    def __init__(self):\n",
    "        #Dog.__init__(self)\n",
    "        super().__init__()\n",
    "        self.__mood = 'Bad'\n",
    "\n",
    "frank = Beagle()\n",
    "print(frank.__dict__)\n",
    "\n",
    "dir(object)\n",
    "\n",
    "Dog.__mro__\n",
    "print(frank._Dog__mood)\n",
    "\n"
   ]
  },
  {
   "attachments": {},
   "cell_type": "markdown",
   "metadata": {},
   "source": [
    "- Be aware *name mangling* is about safety, but not security.\n",
    "\n",
    "The single underscore prefix has no special meaning to the Python interpreter when used in attributes names\n",
    "\n",
    "- but it's a very strong convention among Python programmers that you should not access such attribues from outside the class.\n",
    "\n",
    "- single _prefixed attributes are called private\n",
    "- double __prefixed attributes are called \"protected\"\n",
    "\n",
    "#### Further Convention\n",
    "\n",
    "- class names are in PascalCase\n",
    "- constant variables are uppercase: self.PI = 3.14\n",
    "- methods are in snake_case"
   ]
  }
 ],
 "metadata": {
  "kernelspec": {
   "display_name": "Python 3",
   "language": "python",
   "name": "python3"
  },
  "language_info": {
   "codemirror_mode": {
    "name": "ipython",
    "version": 3
   },
   "file_extension": ".py",
   "mimetype": "text/x-python",
   "name": "python",
   "nbconvert_exporter": "python",
   "pygments_lexer": "ipython3",
   "version": "3.10.9"
  },
  "orig_nbformat": 4,
  "vscode": {
   "interpreter": {
    "hash": "97cc609b13305c559618ec78a438abc56230b9381f827f22d070313b9a1f3777"
   }
  }
 },
 "nbformat": 4,
 "nbformat_minor": 2
}
