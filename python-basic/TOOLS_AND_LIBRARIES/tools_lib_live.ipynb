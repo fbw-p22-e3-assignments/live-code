{
 "cells": [
  {
   "attachments": {},
   "cell_type": "markdown",
   "metadata": {},
   "source": [
    "# Tools and Libraries"
   ]
  },
  {
   "attachments": {},
   "cell_type": "markdown",
   "metadata": {},
   "source": [
    "#### Using ‘__ name__’ Variable in Scripts\n",
    "\n",
    "- The name variable gets its value depending on how we execute the containing script.\n",
    "- Functions of a script can be reused in other scripts by importing them.\n",
    "- Thanks to this special variable, you can decide whether you want to run the script."
   ]
  },
  {
   "cell_type": "code",
   "execution_count": 25,
   "metadata": {},
   "outputs": [
    {
     "name": "stdout",
     "output_type": "stream",
     "text": [
      "__main__\n"
     ]
    }
   ],
   "source": [
    "print(__name__)\n",
    "\n"
   ]
  },
  {
   "attachments": {},
   "cell_type": "markdown",
   "metadata": {},
   "source": [
    "## Namespaces in Python\n",
    "\n",
    "- A namespace is a collection of currently defined symbolic names along with information about the object that each name references.\n",
    "- You can think of a namespace as a dictionary in which the keys are the object names and the values are the objects themselves. Each key-value pair maps a name to its corresponding object."
   ]
  },
  {
   "attachments": {},
   "cell_type": "markdown",
   "metadata": {},
   "source": [
    "types of namespaces:\n",
    "\n",
    "- built-In\n",
    "- Global\n",
    "- Enclosing or Nonlocal\n",
    "- Local"
   ]
  },
  {
   "attachments": {},
   "cell_type": "markdown",
   "metadata": {},
   "source": [
    "LEGB RULE\n",
    "\n",
    "the interpreter searches first from\n",
    "\n",
    "1. local\n",
    "2. enclosing\n",
    "3. global\n",
    "4. built-in\n",
    "scope"
   ]
  },
  {
   "attachments": {},
   "cell_type": "markdown",
   "metadata": {},
   "source": [
    "- If the interpreter doesn’t find the name in any of these locations, then Python raises a NameError exception.\n",
    "- LEGB rule defines the look-up order for given names\n",
    "- Names in lower-level (e.g. local) override higher-level (e.g.non-local) names\n",
    "- highest level built-ins scope "
   ]
  },
  {
   "cell_type": "code",
   "execution_count": 26,
   "metadata": {},
   "outputs": [],
   "source": [
    "X = 1\n",
    "globals()\n",
    "\n",
    "def outer():\n",
    "    X = 2\n",
    "    print(locals())\n",
    "\n",
    "\n",
    "#outer()\n",
    "#locals()"
   ]
  },
  {
   "attachments": {},
   "cell_type": "markdown",
   "metadata": {},
   "source": [
    "- A namespace is a collection of currently defined symbolic names along with information about the object that each name references.\n",
    "- You can think of a namespace as a dictionary in which the keys are the object names and the values are the objects themselves. Each key-value pair maps a name to its corresponding object."
   ]
  },
  {
   "attachments": {},
   "cell_type": "markdown",
   "metadata": {},
   "source": [
    "#### Symbol table\n",
    "\n",
    "- The python globals function is a built-in function that is used to modify and return a dictionary and its values of the current **global symbol table**.\n",
    "\n",
    "- A symbol table is a data structure maintained and constructed by the Python compiler that contains all of the essential information about each identifier found in the source code of the program.\n",
    "\n",
    "- A dictionary returned by the *globals()* function stores the collection of symbols available to the interpreter\n",
    "- A dictionary returned by the *locals()* function stores the values of the current **local symbol table**"
   ]
  },
  {
   "attachments": {},
   "cell_type": "markdown",
   "metadata": {},
   "source": [
    "#### Built-in namespace\n",
    "\n",
    "- The Python interpreter creates the built-in namespace when it starts up. \n"
   ]
  },
  {
   "attachments": {},
   "cell_type": "markdown",
   "metadata": {},
   "source": [
    "#### Global namespace\n",
    "- The global namespace contains any names defined at the level of the main program.\n",
    "- Python creates the global namespace when the main program body starts."
   ]
  },
  {
   "attachments": {},
   "cell_type": "markdown",
   "metadata": {},
   "source": [
    "#### Local Namespace\n",
    "\n",
    "- The Python interpreter creates a new namespace whenever a function executes.\n",
    "- That namespace is local to the function and remains in existence until the function terminates."
   ]
  },
  {
   "attachments": {},
   "cell_type": "markdown",
   "metadata": {},
   "source": [
    "## Modules\n",
    "\n",
    "- Modular programming refers to the process of breaking a large programming task into separate, smaller, more manageable subtasks or modules.\n",
    "- Individual modules can then be connected together\n",
    "- Technically, modules correspond to files, and Python creates a module object to contain all the names defined in the file"
   ]
  },
  {
   "cell_type": "code",
   "execution_count": 27,
   "metadata": {},
   "outputs": [],
   "source": [
    "import math\n",
    "import nameScript"
   ]
  },
  {
   "attachments": {},
   "cell_type": "markdown",
   "metadata": {},
   "source": [
    "- module are object that serves as an organizational unit\n",
    "- Modules have a namespace containing arbitrary Python objects. \n",
    "- Modules are loaded into Python by the process of importing."
   ]
  },
  {
   "attachments": {},
   "cell_type": "markdown",
   "metadata": {},
   "source": [
    "### Module creation\n",
    "\n",
    "- a module can be written in python or C (example re)\n",
    "- built-in modules don't need to be installed: e.g. math, collections "
   ]
  },
  {
   "attachments": {},
   "cell_type": "markdown",
   "metadata": {},
   "source": [
    "### Module files\n",
    "\n",
    "- modules are intended in to be imported in other scripts or modules\n",
    "- modules often contain classes, functions, variables "
   ]
  },
  {
   "cell_type": "code",
   "execution_count": 1,
   "metadata": {},
   "outputs": [
    {
     "ename": "NameError",
     "evalue": "name 'Test' is not defined",
     "output_type": "error",
     "traceback": [
      "\u001b[0;31m---------------------------------------------------------------------------\u001b[0m",
      "\u001b[0;31mNameError\u001b[0m                                 Traceback (most recent call last)",
      "Cell \u001b[0;32mIn [1], line 5\u001b[0m\n\u001b[1;32m      1\u001b[0m \u001b[39mfrom\u001b[39;00m \u001b[39mcalculate\u001b[39;00m \u001b[39mimport\u001b[39;00m add\n\u001b[1;32m      4\u001b[0m add(\u001b[39m2\u001b[39m,\u001b[39m2\u001b[39m)\n\u001b[0;32m----> 5\u001b[0m Test()\n",
      "\u001b[0;31mNameError\u001b[0m: name 'Test' is not defined"
     ]
    }
   ],
   "source": [
    "from calculate import add\n",
    "\n",
    "\n",
    "add(2,2)\n",
    "Test()"
   ]
  },
  {
   "cell_type": "code",
   "execution_count": 29,
   "metadata": {},
   "outputs": [
    {
     "data": {
      "text/plain": [
       "<calculate.Test at 0x7f0555b33580>"
      ]
     },
     "execution_count": 29,
     "metadata": {},
     "output_type": "execute_result"
    }
   ],
   "source": [
    "import calculate\n",
    "\n",
    "calculate.add(2,2)\n",
    "calculate.Test()"
   ]
  },
  {
   "cell_type": "code",
   "execution_count": 30,
   "metadata": {},
   "outputs": [
    {
     "data": {
      "text/plain": [
       "<calculate.Test at 0x7f056711ecd0>"
      ]
     },
     "execution_count": 30,
     "metadata": {},
     "output_type": "execute_result"
    }
   ],
   "source": [
    "import calculate as c\n",
    "\n",
    "c.add(2,2)\n",
    "Test()"
   ]
  },
  {
   "cell_type": "code",
   "execution_count": 31,
   "metadata": {},
   "outputs": [],
   "source": [
    "# from calculate import *\n",
    "\n",
    "# add(2,2)\n",
    "# sum()"
   ]
  },
  {
   "cell_type": "code",
   "execution_count": 6,
   "metadata": {},
   "outputs": [
    {
     "data": {
      "text/plain": [
       "4"
      ]
     },
     "execution_count": 6,
     "metadata": {},
     "output_type": "execute_result"
    }
   ],
   "source": [
    "from calculate import add as sum\n",
    "\n",
    "sum(2,2)"
   ]
  },
  {
   "attachments": {},
   "cell_type": "markdown",
   "metadata": {},
   "source": [
    "## Import statements\n",
    "\n",
    "- Module contents are made available to the caller with the import statement. \n",
    "- a module creates a separate namespace.\n",
    "- accessed the local context of a module\n",
    "- Each module has its own private symbol table (servers as the global symbol table for all global objects in the module)"
   ]
  },
  {
   "cell_type": "code",
   "execution_count": 2,
   "metadata": {},
   "outputs": [
    {
     "data": {
      "text/plain": [
       "3.141592653589793"
      ]
     },
     "execution_count": 2,
     "metadata": {},
     "output_type": "execute_result"
    }
   ],
   "source": [
    "import math \n",
    "\n",
    "math.pi"
   ]
  },
  {
   "cell_type": "code",
   "execution_count": 4,
   "metadata": {},
   "outputs": [
    {
     "data": {
      "text/plain": [
       "3.141592653589793"
      ]
     },
     "execution_count": 4,
     "metadata": {},
     "output_type": "execute_result"
    }
   ],
   "source": [
    "from math import pi\n",
    "pi"
   ]
  },
  {
   "cell_type": "code",
   "execution_count": 5,
   "metadata": {},
   "outputs": [
    {
     "data": {
      "text/plain": [
       "3.141592653589793"
      ]
     },
     "execution_count": 5,
     "metadata": {},
     "output_type": "execute_result"
    }
   ],
   "source": [
    "from math import pi as PI_NUMBER\n",
    "\n",
    "PI_NUMBER"
   ]
  },
  {
   "attachments": {},
   "cell_type": "markdown",
   "metadata": {},
   "source": [
    "- Every name that is assigned a value at the top level of a module file (i.e., not in a function body) becomes an attribute of that module."
   ]
  },
  {
   "cell_type": "code",
   "execution_count": 2,
   "metadata": {},
   "outputs": [
    {
     "data": {
      "text/plain": [
       "<function calculate.add(a, b)>"
      ]
     },
     "execution_count": 2,
     "metadata": {},
     "output_type": "execute_result"
    }
   ],
   "source": [
    "#globals()['add']\n",
    "from calculate import *\n",
    "\n",
    "globals()['add']"
   ]
  },
  {
   "attachments": {},
   "cell_type": "markdown",
   "metadata": {},
   "source": [
    "- this is not recommended as you might polluting the caller's symbol table with all objects from a module"
   ]
  },
  {
   "attachments": {},
   "cell_type": "markdown",
   "metadata": {},
   "source": [
    "- module acts as a namespace (a place where names are created)\n",
    "- - And names that live in a module are called its attributes."
   ]
  },
  {
   "attachments": {},
   "cell_type": "markdown",
   "metadata": {},
   "source": [
    "## Packages\n",
    "\n",
    "- A Python module can contain submodules\n",
    "- a package is still a module\n",
    "- As a user, you usually don’t need to worry about whether you’re importing a module or a package.\n",
    "- A package folder will often contain a special init.py file that tells Python it’s a package\n"
   ]
  },
  {
   "attachments": {},
   "cell_type": "markdown",
   "metadata": {},
   "source": [
    "Example: project folder package2 directory has three files:\n",
    "- two modules\n",
    "1. module3.py\n",
    "2. module4.py\n",
    "- an initialization file __ init__.py"
   ]
  },
  {
   "attachments": {},
   "cell_type": "markdown",
   "metadata": {},
   "source": [
    "- You must give a detailed path for each package or file, from the top-level package folder.\n",
    "- This is somewhat similar to its file path, but we use a dot (.) instead of a slash (/)."
   ]
  },
  {
   "attachments": {},
   "cell_type": "markdown",
   "metadata": {},
   "source": [
    "### Absolute imports\n",
    "\n",
    "- in the main.py file which is in the top-level package folder you can use absolute import statements\n",
    "\n",
    "e.g.:\n",
    "\n",
    "- from package1 import module2\n",
    "- import package2 as pg2\n",
    "- from package2.subpackage1.module5 import function2\n",
    "- import package2 as pg2\n",
    "- from package1.module2 import *"
   ]
  },
  {
   "attachments": {},
   "cell_type": "markdown",
   "metadata": {},
   "source": [
    "To run a package you have to use the -m flag:\n",
    "- python3 -m package2.subpackage2.module6\n",
    "\n",
    "here you can use relative import statements:\n",
    "- from ..subpackage1.module5 import function2 as func2\n",
    "- from .module7 import function2"
   ]
  },
  {
   "attachments": {},
   "cell_type": "markdown",
   "metadata": {},
   "source": [
    "#### Style guide\n",
    "\n",
    "- Keep imports at the top of the file.\n",
    "- ordered by groups:\n",
    "1. first standard library imports\n",
    "2. then third-party imports.\n",
    "3. and finally local application or library imports.\n",
    "- Order imports alphabetically within each group.\n",
    "- Avoid import *."
   ]
  },
  {
   "attachments": {},
   "cell_type": "markdown",
   "metadata": {},
   "source": [
    "# 19.02.2023 - piet\n",
    "\n",
    "## Packaging\n",
    "\n",
    "### Package\n",
    "- A Python module which can contain submodules.\n",
    "- A package is still a module.\n",
    "- A package is a collection of related modules that work together.\n",
    "- In practice, a package typically corresponds to a file directory containing Python files and other directories. \n",
    "\n",
    "## Why Packages:\n",
    "- grouping and organizing modules\n",
    "- help to avoid collision between module names  (module1.function1 and module2.function1)\n",
    "- (modules help avoid collisions between global variable names )\n",
    "\n",
    "## Importing Packing\n",
    "- You can technically import the package as well.\n",
    "- But it's not helpful, because it does not place any of the modules into the local namespace"
   ]
  },
  {
   "cell_type": "code",
   "execution_count": 2,
   "metadata": {},
   "outputs": [
    {
     "ename": "AttributeError",
     "evalue": "module 'project.package1' has no attribute 'module1'",
     "output_type": "error",
     "traceback": [
      "\u001b[0;31m---------------------------------------------------------------------------\u001b[0m",
      "\u001b[0;31mAttributeError\u001b[0m                            Traceback (most recent call last)",
      "Cell \u001b[0;32mIn [2], line 3\u001b[0m\n\u001b[1;32m      1\u001b[0m \u001b[39mimport\u001b[39;00m \u001b[39mproject\u001b[39;00m\u001b[39m.\u001b[39;00m\u001b[39mpackage1\u001b[39;00m \u001b[39mas\u001b[39;00m \u001b[39mpkg1\u001b[39;00m\n\u001b[0;32m----> 3\u001b[0m pkg1\u001b[39m.\u001b[39;49mmodule1\n",
      "\u001b[0;31mAttributeError\u001b[0m: module 'project.package1' has no attribute 'module1'"
     ]
    }
   ],
   "source": [
    "import project.package1 as pkg1\n",
    "\n",
    "pkg1.module1\n",
    "\n"
   ]
  },
  {
   "attachments": {},
   "cell_type": "markdown",
   "metadata": {},
   "source": [
    "- If a file named __init__.py is present in a package directory, it is invoked when the package or a module in the package is imported.\n",
    "- when you execute import pkg, modules mod1 and mod2 are imported automatically"
   ]
  },
  {
   "cell_type": "code",
   "execution_count": 6,
   "metadata": {},
   "outputs": [],
   "source": [
    "import pkg\n",
    "\n",
    "# pkg.A\n",
    "# pkg.mod1\n",
    "# pkg.mod2"
   ]
  },
  {
   "attachments": {},
   "cell_type": "markdown",
   "metadata": {},
   "source": [
    "- Python defines two types of packages:\n",
    "\n",
    "1. regular packages\n",
    "2. namespace packages\n",
    "\n",
    "### Regular Package\n",
    "\n",
    "- Regular packages are traditional packages as they existed in Python 3.2 and earlier.\n",
    "- A regular package is typically implemented as a directory containing an __init__.py file."
   ]
  },
  {
   "attachments": {},
   "cell_type": "markdown",
   "metadata": {},
   "source": [
    "### Namespace Package\n",
    "\n",
    "- As of Python 3.3, we get namespace packages.\n",
    "- Namespace packages are packages without the __init__.py.\n",
    "- These are a special kind of package that allows you to **unify two packages** with the same name at different points on your Python-path."
   ]
  },
  {
   "cell_type": "markdown",
   "metadata": {},
   "source": [
    "To add path1 and path2 to PYTHONPATH we could type following commands in Unix-like systems:\n",
    "- export PYTHONPATH=\"${PYTHONPATH}\":/home/dci-student/PYDCI/live-code/python-basic/TOOLS_AND_LIBRARIES/path1\n",
    "- export PYTHONPATH=\"${PYTHONPATH}\":/home/dci-student/PYDCI/live-code/python-basic/TOOLS_AND_LIBRARIES/path2"
   ]
  },
  {
   "attachments": {},
   "cell_type": "markdown",
   "metadata": {},
   "source": [
    "#### sys — System-specific parameters and functions\n",
    "\n",
    "This module provides access to some variables used or maintained by the interpreter and to functions that interact strongly with the interpreter. It is always available.\n",
    "\n",
    "sys.path\n",
    "A list of strings that specifies the search path for modules. Initialized from the environment variable PYTHONPATH, plus an installation-dependent default."
   ]
  },
  {
   "attachments": {},
   "cell_type": "markdown",
   "metadata": {},
   "source": [
    "the above export commands add  paths to sys.path\n",
    "\n",
    "- The PYTHONPATH, also sys.path in code, is a list of locations to look for Python packages.\n",
    "- (The first value, the null or empty string, in sys.path is the current working directory)"
   ]
  },
  {
   "attachments": {},
   "cell_type": "markdown",
   "metadata": {},
   "source": [
    "- And now we can get the unification of two packages with the same name in a single namespace:\n",
    "\n",
    "```from namespace import module1, module3```"
   ]
  },
  {
   "attachments": {},
   "cell_type": "markdown",
   "metadata": {},
   "source": [
    "- If either one of them gain an __ init__.py that becomes the regular package\n",
    "1. other directory is ignored\n",
    "2. f both of them have an __ init__.py, the first one in the PYTHONPATH is the one used."
   ]
  },
  {
   "attachments": {},
   "cell_type": "markdown",
   "metadata": {},
   "source": [
    "## Creating a Package (on PyPI - Python Package Index) \n",
    "\n",
    "1. PyPI: Python Package Index hosted at https://pypi.org/\n",
    "2. TestPyPI: a separate instance of the Python Package Index (PyPI) that allows you to try out the distribution tools; https://test.pypi.org\n"
   ]
  },
  {
   "cell_type": "code",
   "execution_count": 1,
   "metadata": {},
   "outputs": [
    {
     "data": {
      "text/plain": [
       "<module 'datetime' from '/usr/lib/python3.10/datetime.py'>"
      ]
     },
     "execution_count": 1,
     "metadata": {},
     "output_type": "execute_result"
    }
   ],
   "source": [
    "# Example of built in packages\n",
    "import math\n",
    "import collections\n",
    "import datetime\n",
    "\n",
    "datetime"
   ]
  },
  {
   "attachments": {},
   "cell_type": "markdown",
   "metadata": {},
   "source": [
    "- Installed Python Versions: ll /usr/bin/python*"
   ]
  },
  {
   "cell_type": "code",
   "execution_count": 1,
   "metadata": {},
   "outputs": [
    {
     "data": {
      "text/plain": [
       "<module 'numpy' from '/home/dci-student/.local/lib/python3.10/site-packages/numpy/__init__.py'>"
      ]
     },
     "execution_count": 1,
     "metadata": {},
     "output_type": "execute_result"
    }
   ],
   "source": [
    "import numpy\n",
    "numpy\n",
    "\n"
   ]
  },
  {
   "cell_type": "code",
   "execution_count": 2,
   "metadata": {},
   "outputs": [
    {
     "data": {
      "text/plain": [
       "<module 'ansible' from '/usr/lib/python3/dist-packages/ansible/__init__.py'>"
      ]
     },
     "execution_count": 2,
     "metadata": {},
     "output_type": "execute_result"
    }
   ],
   "source": [
    "# install via sudo apt-add-repository ppa:ansible/ansible\n",
    "import ansible\n",
    "ansible"
   ]
  },
  {
   "attachments": {},
   "cell_type": "markdown",
   "metadata": {},
   "source": [
    "### Create Hello World Package \n",
    "![](dir_structur.png)\n",
    "\n",
    "1. Create folder and files and create a virtual environment\n",
    "2. define your setup.py file\n",
    "3. Generate distribution archives (compressed files that help your package to be deployed across multiple platforms)"
   ]
  },
  {
   "attachments": {},
   "cell_type": "markdown",
   "metadata": {},
   "source": [
    "> pip install -U setuptools wheel\n",
    "\n",
    "> python setup.py sdist bdist_wheel"
   ]
  },
  {
   "attachments": {},
   "cell_type": "markdown",
   "metadata": {},
   "source": [
    "![](setuptool.png)"
   ]
  },
  {
   "attachments": {},
   "cell_type": "markdown",
   "metadata": {},
   "source": [
    "#### Install local package:\n",
    "> pip install -e ."
   ]
  },
  {
   "cell_type": "code",
   "execution_count": 5,
   "metadata": {},
   "outputs": [
    {
     "name": "stdout",
     "output_type": "stream",
     "text": [
      "<module 'hello_world' from '/home/dci-student/PYDCI/live-code/python-basic/TOOLS_AND_LIBRARIES/hello-world-package2/hello-world-piet2/src/hello_world.py'>\n",
      "Hello World\n"
     ]
    }
   ],
   "source": [
    "import hello_world\n",
    "\n",
    "print(hello_world)\n",
    "hello_world.print_world()"
   ]
  },
  {
   "attachments": {},
   "cell_type": "markdown",
   "metadata": {},
   "source": [
    "### Publish package\n",
    "\n",
    "- on testPyPi\n",
    "\n",
    "1. Register on https://test.pypi.org\n",
    "2. > pip install -U twine (Installing twine)\n",
    "3. > twine upload --repository-url https://test.pypi.org/legacy/ dist/*\n",
    "\n",
    "\n",
    "![](testPyPi_hello.png)\n",
    "\n",
    "### install published package\n",
    "\n",
    "1. pip uninstall hello-world-piet2\n",
    "2. pip install -i https://test.pypi.org/simple/ hello-world-piet2==0.0.1\n"
   ]
  },
  {
   "cell_type": "code",
   "execution_count": 1,
   "metadata": {},
   "outputs": [
    {
     "name": "stdout",
     "output_type": "stream",
     "text": [
      "Hello World\n"
     ]
    }
   ],
   "source": [
    "import hello_world\n",
    "hello_world.print_world()"
   ]
  },
  {
   "attachments": {},
   "cell_type": "markdown",
   "metadata": {},
   "source": [
    "![](lifecycle.png)\n"
   ]
  },
  {
   "attachments": {},
   "cell_type": "markdown",
   "metadata": {},
   "source": [
    "![](steps_pypi.png)"
   ]
  }
 ],
 "metadata": {
  "kernelspec": {
   "display_name": "my-env",
   "language": "python",
   "name": "python3"
  },
  "language_info": {
   "codemirror_mode": {
    "name": "ipython",
    "version": 3
   },
   "file_extension": ".py",
   "mimetype": "text/x-python",
   "name": "python",
   "nbconvert_exporter": "python",
   "pygments_lexer": "ipython3",
   "version": "3.8.10"
  },
  "orig_nbformat": 4,
  "vscode": {
   "interpreter": {
    "hash": "b947dacb0eb49d78b1c0ef0c2e0b826c4c0ebf828bdf77dcc438a8cfd1bb5799"
   }
  }
 },
 "nbformat": 4,
 "nbformat_minor": 2
}
