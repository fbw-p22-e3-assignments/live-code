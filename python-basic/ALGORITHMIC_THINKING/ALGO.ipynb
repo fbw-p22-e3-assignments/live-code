{
 "cells": [
  {
   "cell_type": "markdown",
   "id": "b29abad0",
   "metadata": {},
   "source": [
    "# Introduction to Algorithms\n",
    "\n",
    "- search algorithm (binary search)\n",
    "- run time of an algorithm (binary search)\n",
    "- run time of a algorithms (Big O notation)\n",
    "                                        \n"
   ]
  },
  {
   "cell_type": "markdown",
   "id": "90755936",
   "metadata": {},
   "source": [
    "## Introduction \n",
    "\n",
    "- an *algorithm* (*algo*) is a set of instructions for accomplishing a task\n",
    "- there are different *algo*s for the same task\n",
    "- each algo has trade-off\n",
    "- we will compare these trade offs (for example: merge sort vs. quick sort)"
   ]
  },
  {
   "cell_type": "markdown",
   "id": "bfb1e41e",
   "metadata": {},
   "source": [
    "Problem: Suppose We search the number 100 in a sorted list of 100 elements ranging from 1 to 100:\n",
    "We could either search from the start until the end of the list:\n",
    "-  [1,2,3,4,....100]\n",
    "-  [2,3,4,...,100] 1.step (to low, go on)\n",
    "-  [3,4,...,100] 2.step (to low, go on)\n",
    "-  [4,...,100] 3.step (to low, go on)\n",
    "- .....\n",
    "- ....\n",
    "- ....\n",
    "- [99, 100] 99.step (FOUND!)\n",
    "\n",
    "We have a algorithm with a time complexity of O(N): The algo would take 100 steps if we would search for 100 \n",
    "\n"
   ]
  },
  {
   "cell_type": "markdown",
   "id": "c794465f",
   "metadata": {},
   "source": [
    "## A better way to search - Binary Search\n",
    "\n",
    "- suppose we have a list of [1,2,3,4,..,49,50,51,..100] and we want to search for the number 57:\n",
    "\n",
    "1. start at the middle: Guess: 50; Too low, but you just eliminated *half* the numbers! Now you know that 1 - 50 are all too low.\n",
    "[51,52,53,54,55,56,57,58,59,60,61,62,63,64,65,66,67,68,69,70,71,72,73,74,75,76,77,78,79,80,81,82,83,84,85,86,87,88,89,90,91,92,93,94,95,96,97,98,99,100]\n",
    "2. Next guess: 75. Too high, but you cut down half of the remaining numbers!\n",
    "[51,52,53,54,55,55,56,57,58,59,60,61,62,63,64,65,66,67,68,69,70,71,72,73,74]\n",
    "*With binary search, you guess the middle number and eliminate half the remaining numbers every time.*\n",
    "3. Next guess: \n"
   ]
  },
  {
   "cell_type": "code",
   "execution_count": 45,
   "id": "9629ae51",
   "metadata": {},
   "outputs": [
    {
     "data": {
      "text/plain": [
       "50"
      ]
     },
     "execution_count": 45,
     "metadata": {},
     "output_type": "execute_result"
    }
   ],
   "source": [
    "l1 = [51,52,53,54,55,56,57,58,59,60,61,62,63,64,65,66,67,68,69,70,71,72,73,74,75,76,77,78,79,80,81,82,83,84,85,86,87,88,89,90,91,92,93,94,95,96,97,98,99,100]\n",
    "length_step1 = len(l1)\n",
    "length_step1"
   ]
  },
  {
   "cell_type": "code",
   "execution_count": 46,
   "id": "6d7ca879",
   "metadata": {},
   "outputs": [
    {
     "name": "stdout",
     "output_type": "stream",
     "text": [
      "76\n",
      "51 52 53 54 55 56 57 58 59 60 61 62 63 64 65 66 67 68 69 70 71 72 73 74 75\n"
     ]
    },
    {
     "data": {
      "text/plain": [
       "25"
      ]
     },
     "execution_count": 46,
     "metadata": {},
     "output_type": "execute_result"
    }
   ],
   "source": [
    "print(l1[len(l1)//2]) #is this higher or lower than my item: 76 > 57 ---> slice this half away\n",
    "l2 = l1[:len(l1)//2]\n",
    "print(*l2)\n",
    "length_step2 = len(l2)\n",
    "length_step2"
   ]
  },
  {
   "cell_type": "code",
   "execution_count": 47,
   "id": "0a5b9c33",
   "metadata": {},
   "outputs": [
    {
     "name": "stdout",
     "output_type": "stream",
     "text": [
      "63\n",
      "51 52 53 54 55 56 57 58 59 60 61 62\n"
     ]
    },
    {
     "data": {
      "text/plain": [
       "12"
      ]
     },
     "execution_count": 47,
     "metadata": {},
     "output_type": "execute_result"
    }
   ],
   "source": [
    "print(l2[len(l2)//2]) #63 > 57\n",
    "l3 = l2[:len(l2)//2]\n",
    "print(*l3)\n",
    "length_step3 = len(l3)\n",
    "length_step3"
   ]
  },
  {
   "cell_type": "code",
   "execution_count": 48,
   "id": "1d1f8349",
   "metadata": {},
   "outputs": [
    {
     "name": "stdout",
     "output_type": "stream",
     "text": [
      "57\n"
     ]
    }
   ],
   "source": [
    "print(l3[len(l3)//2]) # 57 == 57  #found\n"
   ]
  },
  {
   "cell_type": "markdown",
   "id": "4e004a56",
   "metadata": {},
   "source": [
    "In total it took us four steps 1Step(100->50), 2.step(50->25), 3.step(25->12), 4.Step(**found**)! With a simple search it would us take 57 steps."
   ]
  },
  {
   "cell_type": "markdown",
   "id": "421d3d3c",
   "metadata": {},
   "source": [
    "With each step of binary search, you cut the number of numbers in half until you found your number."
   ]
  },
  {
   "cell_type": "markdown",
   "id": "cf5bd1f2",
   "metadata": {},
   "source": [
    "## Exercise:\n",
    "\n",
    "- Write the simple search algo to find an item in a sorted list.\n",
    "- Now do the same with the binary search algo.\n",
    "\n",
    "- ```simple_search([1,2,....,99,100], 3)  ->true, number of steps```\n",
    "\n",
    "- ```simple_search([1,2,....,99,100], 101)  ->false, number of steps```\n",
    "\n",
    "- ```binary_search([1,2,....,99,100], 3)  ->true, number of steps```\n",
    "\n",
    "- ```binary_search([1,2,....,99,100], 101)  ->false, number of steps```\n",
    "\n",
    "- Compare the number of steps of both algos.\n",
    "\n",
    "- run the binary_search algo for each sorted lists with the following *sizes*: [100, 1_000, 10_000, 100_000, 1_000_000_, 10_000_000]\n",
    "- each list should start with 1\n",
    "- search each list with the last element\n",
    "- save the result in a *results* list for each list sizes\n",
    "\n",
    "plot each your results: \n",
    "- the x-axis will represent your list size\n",
    "- the y-axis will represent your number of steps"
   ]
  },
  {
   "cell_type": "markdown",
   "id": "304f6dbc",
   "metadata": {},
   "source": [
    "Results:\n",
    "\n",
    "![](big_o_binary_search.png)\n",
    "\n",
    "data: [(100, 7), (1000, 10), (10000, 14), (100000, 17), (1000000, 20)"
   ]
  },
  {
   "cell_type": "markdown",
   "id": "4c4756f6",
   "metadata": {},
   "source": [
    "Binary search will take only 20 steps for 1 million.\n",
    "\n",
    "In general, for any list of n, binary search will take $log_{2} n$ steps to run in the worst case, whereas simple search will take n steps. "
   ]
  },
  {
   "cell_type": "markdown",
   "id": "483e8f03",
   "metadata": {},
   "source": [
    "### Logarithms\n",
    "\n",
    "$log_{10} 100$ is like asking, 'How many times do we have to multiply 10 with itself to get 100?'\n",
    "The answere is: 10*10, therefore 2 times. $log_{10} 100 = 2$\n",
    "Logs are the flip of exponentials. You can also say, the log function is the inverse function of the exponential function.\n",
    "$100 = 10^{2}$"
   ]
  },
  {
   "cell_type": "markdown",
   "id": "0454411f",
   "metadata": {},
   "source": [
    "\n",
    "|exponential|log|\n",
    "|:--:|:--:|\n",
    "|$2^{3}=8$|3 = $log_{2}8$|\n",
    "|$2^{4}=16$|4 = $log_{2}16$|\n",
    "|$2^{5}=32$|5 = $log_{2}32$|"
   ]
  },
  {
   "cell_type": "markdown",
   "id": "f79d76f0",
   "metadata": {},
   "source": [
    "Therefore, for a list of 32 elements you'd have to check 5 numbers at most.\n",
    "-  Your list of 32 elements can be halved a maximum of 5 times. That would be worse case."
   ]
  },
  {
   "cell_type": "markdown",
   "id": "051f4721",
   "metadata": {},
   "source": [
    "### Running time\n",
    "\n",
    "In simple search the maximum number of guesses is the same as the size of the list. This is called *linear time*.\n",
    "Binary search runs in logarithmic time.\n",
    "\n",
    "|simple search|Binary Search|\n",
    "|:--:|:--:|\n",
    "|4.000.000.000 Items ->4.000.000.000 Guesses| 4.000.000.000 Items -> 32 Guesses|\n",
    "|$O(N)$|$O(log N)$|\n",
    "\n",
    "- Big O notation tells you how fast an algo is.\n",
    "- Big O notation lets you compare the number of operations.\n",
    "- It tells you how fast an algo grows.\n",
    "- $O(N)$, where $N$ is the number of operations\n",
    "- Big O notation is about the worst-case scenario\n"
   ]
  },
  {
   "cell_type": "markdown",
   "id": "5a664e57",
   "metadata": {},
   "source": [
    "## Selection Sort\n",
    "\n",
    "### How memory works\n",
    "\n",
    "You can imagine the memory as chest of drawers. The computer is like a gigantic set of drawers, and each drawer has an address.\n",
    "If you want to store an item in memory, your computer allocates memory space for your item.\n",
    "\n",
    "- multiple item are stored as *array* or *lists*.\n",
    "\n",
    "| array | list |\n",
    "|:--:| :--:|\n",
    "|stores items **contiguously** (next to each other)|lists are linked (items can be stored anywhere in memory)|\n",
    "|look up element instantly  | if you are going to keep jumping around, linked lists are terrible|\n",
    "| Reading $O(1)$| $O(N)$ WHY?|\n",
    "| Insertion in the middle  $O(N)$| $O(1)$|\n",
    "| Deletion  $O(N)$| $O(1)$|\n",
    "| random access | sequential access|\n",
    "\n",
    "Insertion: for arrays, you have to shift all the rest of the elements down. And if there is no space, you have to copy everything to a new location."
   ]
  },
  {
   "cell_type": "code",
   "execution_count": 10,
   "id": "1ec4a89c",
   "metadata": {},
   "outputs": [
    {
     "data": {
      "text/plain": [
       "[2, 3, 5, 6, 10]"
      ]
     },
     "execution_count": 10,
     "metadata": {},
     "output_type": "execute_result"
    }
   ],
   "source": [
    "l = [156, 141,35, 94, 88, 61, 111]\n",
    "\n",
    "def findSmallest(arr):\n",
    "    smallest = arr[0]\n",
    "    smallest_index = 0\n",
    "    for i in range(1, len(arr)):\n",
    "        if arr[i] < smallest:\n",
    "            smallest = arr[i]\n",
    "            smallest_index = i\n",
    "    return smallest_index\n",
    "\n",
    "def selectionSort(arr):\n",
    "    newArr = []\n",
    "    for i in range(len(arr)):\n",
    "        smallest = findSmallest(arr)\n",
    "        newArr.append(arr.pop(smallest))\n",
    "    return newArr\n",
    "selectionSort([5, 3, 6, 2, 10])\n"
   ]
  },
  {
   "cell_type": "code",
   "execution_count": null,
   "id": "b0cc432b",
   "metadata": {},
   "outputs": [],
   "source": []
  },
  {
   "cell_type": "code",
   "execution_count": null,
   "id": "92093773",
   "metadata": {},
   "outputs": [],
   "source": []
  },
  {
   "cell_type": "code",
   "execution_count": null,
   "id": "524f3f29",
   "metadata": {},
   "outputs": [],
   "source": []
  },
  {
   "cell_type": "code",
   "execution_count": null,
   "id": "9fd0392a",
   "metadata": {},
   "outputs": [],
   "source": []
  },
  {
   "cell_type": "code",
   "execution_count": null,
   "id": "a4a51897",
   "metadata": {},
   "outputs": [],
   "source": []
  },
  {
   "cell_type": "code",
   "execution_count": null,
   "id": "ec6ed5d6",
   "metadata": {},
   "outputs": [],
   "source": []
  },
  {
   "cell_type": "code",
   "execution_count": null,
   "id": "90ee34ba",
   "metadata": {},
   "outputs": [],
   "source": []
  }
 ],
 "metadata": {
  "kernelspec": {
   "display_name": "Python 3 (ipykernel)",
   "language": "python",
   "name": "python3"
  },
  "language_info": {
   "codemirror_mode": {
    "name": "ipython",
    "version": 3
   },
   "file_extension": ".py",
   "mimetype": "text/x-python",
   "name": "python",
   "nbconvert_exporter": "python",
   "pygments_lexer": "ipython3",
   "version": "3.10.9"
  },
  "vscode": {
   "interpreter": {
    "hash": "97cc609b13305c559618ec78a438abc56230b9381f827f22d070313b9a1f3777"
   }
  }
 },
 "nbformat": 4,
 "nbformat_minor": 5
}
