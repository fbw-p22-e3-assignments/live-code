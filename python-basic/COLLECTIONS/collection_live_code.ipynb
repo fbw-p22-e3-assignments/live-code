{
 "cells": [
  {
   "cell_type": "markdown",
   "id": "ced99e53",
   "metadata": {},
   "source": [
    "# Collections \n",
    "\n",
    "# An Array of Sequences\n",
    "\n",
    "### Overview of Built-In Sequences:\n",
    "\n",
    "We group sequences by mutability:\n",
    "*mutable*:\n",
    "- list\n",
    "- dictionary\n",
    "\n",
    "*immutable*:\n",
    "- string\n",
    "- tuple\n",
    "\n",
    "Another way of grouping sequence types:\n",
    "\n",
    "*Container sequences*\n",
    "- Can hold items of different types, including nested containers, for example: *list, tuples, collection.deque*\n",
    "\n",
    "*Flat sequences*\n",
    "- Hold items of one simple type. For example, *str* and *array.array*"
   ]
  },
  {
   "cell_type": "code",
   "execution_count": 1,
   "id": "0b019656",
   "metadata": {},
   "outputs": [
    {
     "data": {
      "text/plain": [
       "(9.46, 'cat', [2.08, 4.29, 100])"
      ]
     },
     "execution_count": 1,
     "metadata": {},
     "output_type": "execute_result"
    }
   ],
   "source": [
    "t = (9.46, 'cat', [2.08, 4.29]) #tuple\n",
    "#t[0] = 1 #not possible because it's immutable\n",
    "t[-1].append(1)\n",
    "t[-1][-1] = 100 \n",
    "#References in tuple cannot changed, but if one of those references\n",
    "#points to a mutable object, and that object is changed, then the\n",
    "#value of the tuple changes\n",
    "t"
   ]
  },
  {
   "cell_type": "code",
   "execution_count": 2,
   "id": "555a6aa7",
   "metadata": {},
   "outputs": [
    {
     "data": {
      "text/plain": [
       "array('d', [9.46, 2.08, 4.28, 1.0])"
      ]
     },
     "execution_count": 2,
     "metadata": {},
     "output_type": "execute_result"
    }
   ],
   "source": [
    "from array import array # import array array.array('d', [9.46, 2.08,4.28])\n",
    "\n",
    "arr = array('d', [9.46, 2.08,4.28])\n",
    "arr.append(1)\n",
    "arr[0]\n",
    "#arr[-1]\n",
    "arr\n"
   ]
  },
  {
   "cell_type": "markdown",
   "id": "8210696a",
   "metadata": {},
   "source": [
    "- A *container sequence* holds references  to the objects it holds, which may be of any type.\n",
    "- A *flat sequence* stores the value of its contents in its own memory space, not as **distinct Python object**.\n",
    "\n",
    "Every Python object in memory has a header with metadata.\n",
    "Thus, flat sequences are more compact, but they limited to one simple type.\n",
    "\n"
   ]
  },
  {
   "cell_type": "markdown",
   "id": "739f1b20",
   "metadata": {},
   "source": [
    "![flat_vs_container_seq](flat_vs_container_seq.png)\n",
    "\n"
   ]
  },
  {
   "cell_type": "markdown",
   "id": "4434f366",
   "metadata": {},
   "source": [
    "## List Comprehension\n",
    "\n",
    "A quick way of build a squence is using list comprehension (*listcomp*)."
   ]
  },
  {
   "cell_type": "code",
   "execution_count": 3,
   "id": "1f92c89c",
   "metadata": {},
   "outputs": [
    {
     "data": {
      "text/plain": [
       "['', 'A', 'AA', 'AAA', 'AAAA']"
      ]
     },
     "execution_count": 3,
     "metadata": {},
     "output_type": "execute_result"
    }
   ],
   "source": [
    "result = []\n",
    "for i in range(5):\n",
    "    result.append(i*'A')\n",
    "\n",
    "result"
   ]
  },
  {
   "cell_type": "code",
   "execution_count": 4,
   "id": "b08c5eeb",
   "metadata": {},
   "outputs": [
    {
     "data": {
      "text/plain": [
       "['', 'A', 'AA', 'AAA', 'AAAA']"
      ]
     },
     "execution_count": 4,
     "metadata": {},
     "output_type": "execute_result"
    }
   ],
   "source": [
    "result = [i*'A' for i in range(5)]\n",
    "# [element processing  for loop ]\n",
    "result"
   ]
  },
  {
   "cell_type": "code",
   "execution_count": 5,
   "id": "fe8727df",
   "metadata": {},
   "outputs": [
    {
     "data": {
      "text/plain": [
       "['AAAA']"
      ]
     },
     "execution_count": 5,
     "metadata": {},
     "output_type": "execute_result"
    }
   ],
   "source": [
    "result = [i*'A' for i in range(5) if i > 3]\n",
    "# [element processing  for loop ]\n",
    "result"
   ]
  },
  {
   "cell_type": "markdown",
   "id": "f5747148",
   "metadata": {},
   "source": [
    "A for loop can be used to do many different things: scanning, count or any number of other tasks.\n",
    "In contrast, a listcomp is more explicit. Its goal is **always** to build a new list."
   ]
  },
  {
   "cell_type": "markdown",
   "id": "ee8dae97",
   "metadata": {},
   "source": [
    "## Mapping and Filtering with Listcomps "
   ]
  },
  {
   "cell_type": "code",
   "execution_count": 6,
   "id": "8b35dec9",
   "metadata": {},
   "outputs": [
    {
     "data": {
      "text/plain": [
       "[5, 5, 5, 3]"
      ]
     },
     "execution_count": 6,
     "metadata": {},
     "output_type": "execute_result"
    }
   ],
   "source": [
    "strings = ['Hello', 'world', 'again', 'bla'] #-> [5, 5, 5, 3]\n",
    "length = [len(word) for word in strings]\n",
    "length"
   ]
  },
  {
   "cell_type": "code",
   "execution_count": 7,
   "id": "87412512",
   "metadata": {},
   "outputs": [
    {
     "data": {
      "text/plain": [
       "['HELLO', 'WORLD', 'AGAIN', 'BLA']"
      ]
     },
     "execution_count": 7,
     "metadata": {},
     "output_type": "execute_result"
    }
   ],
   "source": [
    "upper_list = [word.upper() for word in strings]\n",
    "upper_list"
   ]
  },
  {
   "cell_type": "code",
   "execution_count": 8,
   "id": "e299cddc",
   "metadata": {},
   "outputs": [
    {
     "data": {
      "text/plain": [
       "['HELLO', 'WORLD', 'AGAIN', 'BLA']"
      ]
     },
     "execution_count": 8,
     "metadata": {},
     "output_type": "execute_result"
    }
   ],
   "source": [
    "def map_list(item):\n",
    "    return item.upper()\n",
    "\n",
    "list(map(map_list, strings))"
   ]
  },
  {
   "cell_type": "markdown",
   "id": "df867e8c",
   "metadata": {},
   "source": [
    "Lets look at nested lists:"
   ]
  },
  {
   "cell_type": "code",
   "execution_count": 9,
   "id": "2851bb36",
   "metadata": {},
   "outputs": [],
   "source": [
    "list_numbers = [[5, 6, 3], [8, 3, 1], [9, 10, 4], [8, 4, 2]]"
   ]
  },
  {
   "cell_type": "markdown",
   "id": "71c54a5f",
   "metadata": {},
   "source": [
    "Lets calculate the sum of each list by mapping each element to its length: \n",
    "```list_numbers -->  [14, 12, 23, 14]```\n"
   ]
  },
  {
   "cell_type": "code",
   "execution_count": 10,
   "id": "ec3b49b2",
   "metadata": {},
   "outputs": [
    {
     "data": {
      "text/plain": [
       "[14, 12, 23, 14]"
      ]
     },
     "execution_count": 10,
     "metadata": {},
     "output_type": "execute_result"
    }
   ],
   "source": [
    "[sum(list_num) for list_num in list_numbers ]"
   ]
  },
  {
   "cell_type": "markdown",
   "id": "9f86f41d",
   "metadata": {},
   "source": [
    "## Filter"
   ]
  },
  {
   "cell_type": "code",
   "execution_count": 11,
   "id": "4a7d2f50",
   "metadata": {},
   "outputs": [],
   "source": [
    "list_numbers = [[5, 6, 3], [8, 3, 1], [9, 10, 4], [8, 4, 2], [1,2]]"
   ]
  },
  {
   "cell_type": "code",
   "execution_count": 12,
   "id": "7e5f51fb",
   "metadata": {},
   "outputs": [
    {
     "data": {
      "text/plain": [
       "[[5, 6, 3], [8, 3, 1], [9, 10, 4], [8, 4, 2]]"
      ]
     },
     "execution_count": 12,
     "metadata": {},
     "output_type": "execute_result"
    }
   ],
   "source": [
    "length_gte_3 = [list_num for list_num in list_numbers if len(list_num) >= 3]\n",
    "length_gte_3"
   ]
  },
  {
   "cell_type": "code",
   "execution_count": 13,
   "id": "c2971494",
   "metadata": {},
   "outputs": [
    {
     "data": {
      "text/plain": [
       "['bla']"
      ]
     },
     "execution_count": 13,
     "metadata": {},
     "output_type": "execute_result"
    }
   ],
   "source": [
    "strings = ['Hello', 'world', 'again', 'bla']\n",
    "\n",
    "length_gt_3 = [word for word in strings if len(word) <= 3 ]\n",
    "length_gt_3"
   ]
  },
  {
   "cell_type": "markdown",
   "id": "333f25c0",
   "metadata": {},
   "source": [
    "### Cartasian Products\n",
    "\n",
    "![cartasian_prod](cartasian_prod.png)"
   ]
  },
  {
   "cell_type": "code",
   "execution_count": 14,
   "id": "bd48eb6b",
   "metadata": {},
   "outputs": [
    {
     "data": {
      "text/plain": [
       "[('x', 1),\n",
       " ('x', 2),\n",
       " ('x', 3),\n",
       " ('y', 1),\n",
       " ('y', 2),\n",
       " ('y', 3),\n",
       " ('z', 1),\n",
       " ('z', 2),\n",
       " ('z', 3)]"
      ]
     },
     "execution_count": 14,
     "metadata": {},
     "output_type": "execute_result"
    }
   ],
   "source": [
    "A = ['x', 'y', 'z']\n",
    "B = [1, 2, 3]\n",
    "\n",
    "def cartasian_prod(A,B):\n",
    "    result = []\n",
    "    for item1 in A:\n",
    "        for item2 in B:\n",
    "            result.append((item1, item2))\n",
    "    return result\n",
    "\n",
    "cartasian_prod(A, B)\n"
   ]
  },
  {
   "cell_type": "markdown",
   "id": "cf7cfacf",
   "metadata": {},
   "source": [
    "Now let's do this with listcomps\n"
   ]
  },
  {
   "cell_type": "code",
   "execution_count": 15,
   "id": "d1c2958b",
   "metadata": {},
   "outputs": [
    {
     "data": {
      "text/plain": [
       "[('x', 1),\n",
       " ('x', 2),\n",
       " ('x', 3),\n",
       " ('y', 1),\n",
       " ('y', 2),\n",
       " ('y', 3),\n",
       " ('z', 1),\n",
       " ('z', 2),\n",
       " ('z', 3)]"
      ]
     },
     "execution_count": 15,
     "metadata": {},
     "output_type": "execute_result"
    }
   ],
   "source": [
    "def cartasian_prod(A,B):\n",
    "    return [(item1, item2) for item1 in A \n",
    "                            for item2 in B]\n",
    "# This generates a list of tuples arranged by letter,then numbers\n",
    "cartasian_prod(A, B)"
   ]
  },
  {
   "cell_type": "code",
   "execution_count": 16,
   "id": "3efaa659",
   "metadata": {},
   "outputs": [
    {
     "data": {
      "text/plain": [
       "[('x', 1),\n",
       " ('y', 1),\n",
       " ('z', 1),\n",
       " ('x', 2),\n",
       " ('y', 2),\n",
       " ('z', 2),\n",
       " ('x', 3),\n",
       " ('y', 3),\n",
       " ('z', 3)]"
      ]
     },
     "execution_count": 16,
     "metadata": {},
     "output_type": "execute_result"
    }
   ],
   "source": [
    "def cartasian_prod(A,B):\n",
    "    return [(item1, item2) for item2 in B\n",
    "                               for item1 in A]\n",
    "# To get the items arranged by numbers, then letters,\n",
    "#just rearrange the for clauses\n",
    "cartasian_prod(A,B)"
   ]
  },
  {
   "cell_type": "markdown",
   "id": "88dec00d",
   "metadata": {},
   "source": [
    "### Building List of Lists"
   ]
  },
  {
   "cell_type": "code",
   "execution_count": 17,
   "id": "0581728a",
   "metadata": {},
   "outputs": [
    {
     "data": {
      "text/plain": [
       "[['_', '_', '_'], ['_', '_', 'X'], ['_', '_', '_']]"
      ]
     },
     "execution_count": 17,
     "metadata": {},
     "output_type": "execute_result"
    }
   ],
   "source": [
    "board = [ ['_' for i in range(3)] for j in range(3) ]\n",
    "#[['_', '_', '_'], ['_', '_', '_'], ['_', '_', '_']]\n",
    "board\n",
    "\n",
    "board[1][2] = 'X'\n",
    "board\n"
   ]
  },
  {
   "cell_type": "code",
   "execution_count": 18,
   "id": "474ed9c9",
   "metadata": {},
   "outputs": [
    {
     "name": "stdout",
     "output_type": "stream",
     "text": [
      "[['_', '_', '_'], ['_', '_', 'X'], ['_', '_', '_']]\n",
      "140235986108736 140235986110016 140235986109824\n",
      "140235986108544\n",
      "[['_', '_', 'O'], ['_', '_', 'O'], ['_', '_', 'O']]\n",
      "140235986108544 140235986108544 140235986108544\n"
     ]
    }
   ],
   "source": [
    "board = [ ['_', '_', '_']  for i in range(3) ]\n",
    "board = [ ['_'] * 3  for i in range(3) ]\n",
    "board[1][2] = 'X'\n",
    "print(board)\n",
    "\n",
    "print(id(board[0]) ,id(board[1]), id(board[2]))\n",
    "\n",
    "row = ['_', '_','_']\n",
    "print(id(row))\n",
    "board_row = [ row for i in range(3) ]\n",
    "board_row[1][2] = 'O'\n",
    "\n",
    "print(board_row)\n",
    "print(id(board_row[0]) ,id(board_row[1]), id(board_row[2]))\n",
    "\n",
    "\n"
   ]
  },
  {
   "cell_type": "markdown",
   "id": "aa9ff404",
   "metadata": {},
   "source": [
    "A tempting, but wrong, shortcut:"
   ]
  },
  {
   "cell_type": "code",
   "execution_count": 19,
   "id": "429c1d19",
   "metadata": {},
   "outputs": [
    {
     "data": {
      "text/plain": [
       "[['_', '_', 'O'], ['_', '_', 'O'], ['_', '_', 'O']]"
      ]
     },
     "execution_count": 19,
     "metadata": {},
     "output_type": "execute_result"
    }
   ],
   "source": [
    "weird_board = [['_', '_', '_']] * 3 #The outer list is made of three\n",
    "#references to the same inner list\n",
    "weird_board\n",
    "weird_board[1][2] = 'O' #all rows are aliases referring to the same \n",
    "#object\n",
    "weird_board"
   ]
  },
  {
   "cell_type": "code",
   "execution_count": 20,
   "id": "3c548e93",
   "metadata": {},
   "outputs": [
    {
     "data": {
      "text/plain": [
       "[['_', '_', 'O'], ['_', '_', 'O'], ['_', '_', 'O']]"
      ]
     },
     "execution_count": 20,
     "metadata": {},
     "output_type": "execute_result"
    }
   ],
   "source": [
    "row = ['_', '_','_']\n",
    "weird_board = []\n",
    "for i in range(3):\n",
    "    weird_board.append(row)\n",
    "    \n",
    "weird_board\n",
    "weird_board[1][2] = 'O'\n",
    "weird_board"
   ]
  },
  {
   "cell_type": "markdown",
   "id": "3d372ac3",
   "metadata": {},
   "source": [
    "### list.sort Versus sort Built-In\n",
    "The list.*sort* method sorts a list in place. \n",
    "\n",
    "In contrast, the built-in function *sorted* creates a new list and returns it. \n",
    "It accepts any iterable object as an argument, including immutable sequences.\n",
    "\n",
    "Both list.*sort* and *sorted*  take two optional, keyword-only arguments:\n",
    "\n",
    "- reverse: accepts a boolean. The default is False\n",
    "- key: accepts a one-arguments function \n"
   ]
  },
  {
   "cell_type": "code",
   "execution_count": 21,
   "id": "1890c9c6",
   "metadata": {},
   "outputs": [
    {
     "data": {
      "text/plain": [
       "['apple', 'banana', 'grape', 'raspberry']"
      ]
     },
     "execution_count": 21,
     "metadata": {},
     "output_type": "execute_result"
    }
   ],
   "source": [
    "fruits = ['grape', 'raspberry', 'apple', 'banana']\n",
    "new_List = sorted(fruits) #returns a new list, which is sorted\n",
    "new_List"
   ]
  },
  {
   "cell_type": "code",
   "execution_count": 22,
   "id": "24f31ac2",
   "metadata": {},
   "outputs": [
    {
     "data": {
      "text/plain": [
       "['raspberry', 'grape', 'banana', 'apple']"
      ]
     },
     "execution_count": 22,
     "metadata": {},
     "output_type": "execute_result"
    }
   ],
   "source": [
    "sorted(fruits, reverse=True)"
   ]
  },
  {
   "cell_type": "code",
   "execution_count": 23,
   "id": "4768ad05",
   "metadata": {},
   "outputs": [
    {
     "data": {
      "text/plain": [
       "['grape', 'apple', 'banana', 'raspberry']"
      ]
     },
     "execution_count": 23,
     "metadata": {},
     "output_type": "execute_result"
    }
   ],
   "source": [
    "sorted(fruits, key=len)"
   ]
  },
  {
   "cell_type": "code",
   "execution_count": 24,
   "id": "53d5f80d",
   "metadata": {},
   "outputs": [
    {
     "data": {
      "text/plain": [
       "['raspberry', 'banana', 'grape', 'apple']"
      ]
     },
     "execution_count": 24,
     "metadata": {},
     "output_type": "execute_result"
    }
   ],
   "source": [
    "sorted(fruits, key=len, reverse=True)"
   ]
  },
  {
   "cell_type": "code",
   "execution_count": 25,
   "id": "e71cc7a8",
   "metadata": {},
   "outputs": [
    {
     "data": {
      "text/plain": [
       "['raspberry', 'grape', 'banana', 'apple']"
      ]
     },
     "execution_count": 25,
     "metadata": {},
     "output_type": "execute_result"
    }
   ],
   "source": [
    "fruits.sort() # changes the fruits list in place\n",
    "fruits\n",
    "#print(fruits.sort())\n",
    "fruits.reverse()\n",
    "fruits"
   ]
  },
  {
   "cell_type": "code",
   "execution_count": 26,
   "id": "862a3628",
   "metadata": {},
   "outputs": [
    {
     "data": {
      "text/plain": [
       "[('again', 2), ('hello', 3), ('world', 1)]"
      ]
     },
     "execution_count": 26,
     "metadata": {},
     "output_type": "execute_result"
    }
   ],
   "source": [
    "books = [('hello', 3), ('world', 1), ('again', 2)]\n",
    "\n",
    "def sort_helper(item):\n",
    "    return item\n",
    "\n",
    "sorted(books, key=sort_helper)\n"
   ]
  },
  {
   "cell_type": "markdown",
   "id": "016c2230",
   "metadata": {},
   "source": [
    "### Tuples as Immutabl Lists\n",
    "\n",
    "Two benefits:\n",
    "\n",
    "- *Clarity*: you know its length will never change\n",
    "- *Performance*: A tuple uses less memory than a list of the same length, and it allows Python to do some optimizations.\n",
    "- fixed length: a tuple instance is allocated the exact memory space it needs.\n",
    "- in contrast instances of list are allocated with room to spare in case for future appends"
   ]
  },
  {
   "cell_type": "code",
   "execution_count": 27,
   "id": "fa0e4773",
   "metadata": {},
   "outputs": [
    {
     "ename": "TypeError",
     "evalue": "'tuple' object does not support item assignment",
     "output_type": "error",
     "traceback": [
      "\u001b[0;31m---------------------------------------------------------------------------\u001b[0m",
      "\u001b[0;31mTypeError\u001b[0m                                 Traceback (most recent call last)",
      "Cell \u001b[0;32mIn [27], line 2\u001b[0m\n\u001b[1;32m      1\u001b[0m a \u001b[38;5;241m=\u001b[39m (\u001b[38;5;241m10\u001b[39m, \u001b[38;5;124m'\u001b[39m\u001b[38;5;124malpha\u001b[39m\u001b[38;5;124m'\u001b[39m, [\u001b[38;5;241m1\u001b[39m, \u001b[38;5;241m2\u001b[39m])\n\u001b[0;32m----> 2\u001b[0m \u001b[43ma\u001b[49m\u001b[43m[\u001b[49m\u001b[38;5;241;43m0\u001b[39;49m\u001b[43m]\u001b[49m \u001b[38;5;241m=\u001b[39m \u001b[38;5;124m'\u001b[39m\u001b[38;5;124mBla\u001b[39m\u001b[38;5;124m'\u001b[39m\n",
      "\u001b[0;31mTypeError\u001b[0m: 'tuple' object does not support item assignment"
     ]
    }
   ],
   "source": [
    "a = (10, 'alpha', [1, 2])\n",
    "a[0] = 'Bla'"
   ]
  },
  {
   "cell_type": "code",
   "execution_count": 28,
   "id": "878ac81e",
   "metadata": {},
   "outputs": [
    {
     "data": {
      "text/plain": [
       "(10, 'alpha', [1, 'Bla'])"
      ]
     },
     "execution_count": 28,
     "metadata": {},
     "output_type": "execute_result"
    }
   ],
   "source": [
    "a[-1][1] = 'Bla' #References in a tuple cannot changed, but if one of those ponits to a mutable object, \n",
    "#and that object is changed, then the value of the tuple changes.\n",
    "a"
   ]
  },
  {
   "cell_type": "markdown",
   "id": "2b72506a",
   "metadata": {},
   "source": [
    "### Tuples as Records\n",
    "\n",
    "- used as records with no field names\n",
    "- each item in the tuple holds the data for one field, and the position of the item gives its meaning."
   ]
  },
  {
   "cell_type": "code",
   "execution_count": 29,
   "id": "37c67801",
   "metadata": {},
   "outputs": [],
   "source": [
    "lax_coordinates = (33.94, -118.48) # Latitude and Lonigtude"
   ]
  },
  {
   "cell_type": "code",
   "execution_count": 30,
   "id": "24abc39e",
   "metadata": {},
   "outputs": [],
   "source": [
    "travelers_ids = [ ('USA', '098098'), ('BRA', '979879'), ('ESP', '324981')]"
   ]
  },
  {
   "cell_type": "code",
   "execution_count": 31,
   "id": "6f549edc",
   "metadata": {},
   "outputs": [
    {
     "name": "stdout",
     "output_type": "stream",
     "text": [
      "BRA /979879\n",
      "ESP /324981\n",
      "USA /098098\n"
     ]
    }
   ],
   "source": [
    "for passport in sorted(travelers_ids):\n",
    "    print('%s /%s' % passport)\n",
    "    #print(f\"{passport[0]} /{passport[1]}\")"
   ]
  },
  {
   "cell_type": "code",
   "execution_count": 32,
   "id": "27342ed8",
   "metadata": {},
   "outputs": [
    {
     "name": "stdout",
     "output_type": "stream",
     "text": [
      "Hello World\n",
      "Hello World\n",
      "33.94 / -118.48\n"
     ]
    }
   ],
   "source": [
    "x = 'Hello'\n",
    "print('%s World' % x)\n",
    "print(f\"{x} World\")\n",
    "print(f\"{lax_coordinates[0]} / {lax_coordinates[1]}\")"
   ]
  },
  {
   "cell_type": "code",
   "execution_count": 33,
   "id": "d02bb524",
   "metadata": {},
   "outputs": [
    {
     "data": {
      "text/plain": [
       "33.94"
      ]
     },
     "execution_count": 33,
     "metadata": {},
     "output_type": "execute_result"
    }
   ],
   "source": [
    "latitude, longitude = lax_coordinates # unpacking the tuple\n",
    "latitude"
   ]
  },
  {
   "cell_type": "code",
   "execution_count": 34,
   "id": "1561fbef",
   "metadata": {},
   "outputs": [
    {
     "name": "stdout",
     "output_type": "stream",
     "text": [
      "USA\n",
      "BRA\n",
      "ESP\n"
     ]
    }
   ],
   "source": [
    "for country, _ in travelers_ids:\n",
    "    print(country)\n",
    "    #The for loop knows how to retrieve the items of a tuple separately-this called unpacking"
   ]
  },
  {
   "cell_type": "markdown",
   "id": "3b4b505e",
   "metadata": {},
   "source": [
    "### for passport in sorted(travelers_ids):\n",
    "    country, _ = passport\n",
    "    print(country)"
   ]
  },
  {
   "cell_type": "markdown",
   "id": "47dd91f4",
   "metadata": {},
   "source": [
    "## Classic Named Tuples\n",
    "\n",
    "The collections.namedtuple functions builds a subclass of tuple enhanced with field names.\n",
    "\n",
    "- Each instance of a class built by namedtuple takes exactly the same amount of memory as a tuple"
   ]
  },
  {
   "cell_type": "code",
   "execution_count": 35,
   "id": "9c504a9c",
   "metadata": {},
   "outputs": [
    {
     "name": "stdout",
     "output_type": "stream",
     "text": [
      "City(name='Tokyo_w', country='JP', population=136000000, coordinates=(35.689, 139.691))\n"
     ]
    },
    {
     "data": {
      "text/plain": [
       "City(name='Tokyo_w', country='JP', population=1, coordinates=(35.689, 139.691))"
      ]
     },
     "execution_count": 35,
     "metadata": {},
     "output_type": "execute_result"
    }
   ],
   "source": [
    "from collections import namedtuple\n",
    "City = namedtuple('City', 'name country population coordinates') # class name and field names\n",
    "tokyo = City('Tokyo_w', 'JP', 136000000, (35.689, 139.691))\n",
    "print(tokyo)\n",
    " \n",
    "city_tuple = ('Tokyo_w', 'JP', 136000000, (35.689, 139.691))#normal tuple\n",
    "city_namedtuple = City('Tokyo_w', 'JP', 136000000, (35.689, 139.691)) #namedtuple\n",
    "\n",
    "\n",
    "#tokyo = City('Tokyo', 'JP', [136000000], (35.689, 139.691)) \n",
    "\n",
    "#tokyo.population[0] = 1\n",
    "tokyo2 = tokyo._replace(population=1) #returns a value, but does not change the variable in place\n",
    "tokyo2"
   ]
  },
  {
   "cell_type": "code",
   "execution_count": 36,
   "id": "70703cd4",
   "metadata": {},
   "outputs": [
    {
     "data": {
      "text/plain": [
       "136000000"
      ]
     },
     "execution_count": 36,
     "metadata": {},
     "output_type": "execute_result"
    }
   ],
   "source": [
    "tokyo.population #access the fields by name"
   ]
  },
  {
   "cell_type": "code",
   "execution_count": 37,
   "id": "9f766066",
   "metadata": {},
   "outputs": [
    {
     "data": {
      "text/plain": [
       "136000000"
      ]
     },
     "execution_count": 37,
     "metadata": {},
     "output_type": "execute_result"
    }
   ],
   "source": [
    "tokyo[2] #access fields by position"
   ]
  },
  {
   "cell_type": "code",
   "execution_count": 38,
   "id": "9f49fe27",
   "metadata": {},
   "outputs": [
    {
     "ename": "TypeError",
     "evalue": "'City' object does not support item assignment",
     "output_type": "error",
     "traceback": [
      "\u001b[0;31m---------------------------------------------------------------------------\u001b[0m",
      "\u001b[0;31mTypeError\u001b[0m                                 Traceback (most recent call last)",
      "Cell \u001b[0;32mIn [38], line 1\u001b[0m\n\u001b[0;32m----> 1\u001b[0m \u001b[43mtokyo\u001b[49m\u001b[43m[\u001b[49m\u001b[38;5;241;43m2\u001b[39;49m\u001b[43m]\u001b[49m \u001b[38;5;241m=\u001b[39m \u001b[38;5;124m'\u001b[39m\u001b[38;5;124mBla\u001b[39m\u001b[38;5;124m'\u001b[39m\n",
      "\u001b[0;31mTypeError\u001b[0m: 'City' object does not support item assignment"
     ]
    }
   ],
   "source": [
    "tokyo[2] = 'Bla'"
   ]
  },
  {
   "cell_type": "code",
   "execution_count": 39,
   "id": "58dae6af",
   "metadata": {},
   "outputs": [
    {
     "data": {
      "text/plain": [
       "City(name='Tokyo', country='JP', population=136000000, coordinates=(35.689, 139.691))"
      ]
     },
     "execution_count": 39,
     "metadata": {},
     "output_type": "execute_result"
    }
   ],
   "source": [
    "tokyo = City('Tokyo', 'JP', 136000000, (35.689, 139.691))\n",
    "tokyo "
   ]
  },
  {
   "cell_type": "code",
   "execution_count": 40,
   "id": "1e550fb0",
   "metadata": {},
   "outputs": [
    {
     "data": {
      "text/plain": [
       "{'name': 'Tokyo',\n",
       " 'country': 'JP',\n",
       " 'population': 136000000,\n",
       " 'coordinates': (35.689, 139.691)}"
      ]
     },
     "execution_count": 40,
     "metadata": {},
     "output_type": "execute_result"
    }
   ],
   "source": [
    "tokyo._asdict()"
   ]
  },
  {
   "cell_type": "code",
   "execution_count": 41,
   "id": "86b809e6",
   "metadata": {},
   "outputs": [
    {
     "data": {
      "text/plain": [
       "'Tokyo_w'"
      ]
     },
     "execution_count": 41,
     "metadata": {},
     "output_type": "execute_result"
    }
   ],
   "source": [
    "class my_City:\n",
    "    def __init__(self, name, country, population, coordinates):\n",
    "        self.name = name\n",
    "        self.country = country\n",
    "        self.population = population\n",
    "        self.coordinates = coordinates\n",
    "        \n",
    "tokyo = my_City('Tokyo_w', 'JP', 136000000, (35.689, 139.691))\n",
    "tokyo.name\n"
   ]
  },
  {
   "cell_type": "markdown",
   "id": "f145c922",
   "metadata": {},
   "source": [
    "## When a List Is Not the Answer\n",
    "\n",
    "The list type is flexible and easy to use, but depending on specific requirements, there are better options.\n",
    "\n",
    "For example, if you are constantly adding and removing items from opposite ends of a list, it's good to know that a *deque* (double-ended queue) is a more efficient FIFO (First in, first out) data structure. "
   ]
  },
  {
   "cell_type": "markdown",
   "id": "4062b109",
   "metadata": {},
   "source": [
    "\n",
    "![q](queue.png)"
   ]
  },
  {
   "cell_type": "code",
   "execution_count": null,
   "id": "d968c8a2",
   "metadata": {},
   "outputs": [],
   "source": [
    "myList = []\n",
    "\n",
    "myList.append(1) #first-in\n",
    "myList.append(2)\n",
    "myList.append(3)\n",
    "\n",
    "myList.pop(0) #first out\n"
   ]
  },
  {
   "cell_type": "markdown",
   "id": "b8fc581e",
   "metadata": {},
   "source": [
    "## Deques\n",
    "\n",
    "The *.append* and *.pop* methods makea list usable as a queue.\n",
    "\n",
    "But inserting and removing from the head of a list (0-index end) is costly because the entire list must be shifted in memory.\n",
    "\n",
    "The class *collections.deque* is a queue designed for fast inserting and removing from both ends."
   ]
  },
  {
   "cell_type": "code",
   "execution_count": 51,
   "id": "5ba0b1a1",
   "metadata": {},
   "outputs": [],
   "source": [
    "from collections import deque\n",
    "\n",
    "dq = deque(range(9, 0, -1))"
   ]
  },
  {
   "cell_type": "code",
   "execution_count": 52,
   "id": "fe46ad77",
   "metadata": {},
   "outputs": [
    {
     "data": {
      "text/plain": [
       "deque([9, 8, 7, 6, 5, 4, 3, 2, 1])"
      ]
     },
     "execution_count": 52,
     "metadata": {},
     "output_type": "execute_result"
    }
   ],
   "source": [
    "dq"
   ]
  },
  {
   "cell_type": "code",
   "execution_count": 53,
   "id": "ec573fba",
   "metadata": {},
   "outputs": [
    {
     "data": {
      "text/plain": [
       "deque([10, 9, 8, 7, 6, 5, 4, 3, 2, 1])"
      ]
     },
     "execution_count": 53,
     "metadata": {},
     "output_type": "execute_result"
    }
   ],
   "source": [
    "dq.appendleft(10)\n",
    "dq"
   ]
  },
  {
   "cell_type": "code",
   "execution_count": 57,
   "id": "298f0365",
   "metadata": {},
   "outputs": [
    {
     "data": {
      "text/plain": [
       "deque([10, 9, 8, 7, 6, 5])"
      ]
     },
     "execution_count": 57,
     "metadata": {},
     "output_type": "execute_result"
    }
   ],
   "source": [
    "dq.pop()\n",
    "dq"
   ]
  },
  {
   "cell_type": "code",
   "execution_count": 66,
   "id": "5602c6c1",
   "metadata": {},
   "outputs": [
    {
     "name": "stdout",
     "output_type": "stream",
     "text": [
      "86.4 ns ± 2.56 ns per loop (mean ± std. dev. of 7 runs, 10,000,000 loops each)\n"
     ]
    }
   ],
   "source": [
    "dq = deque(range(1, 0, -1))\n",
    "\n",
    "%timeit dq.append(None); dq.popleft()\n"
   ]
  },
  {
   "cell_type": "code",
   "execution_count": 59,
   "id": "ae95494f",
   "metadata": {},
   "outputs": [
    {
     "name": "stdout",
     "output_type": "stream",
     "text": [
      "132 ns ± 2.88 ns per loop (mean ± std. dev. of 7 runs, 10,000,000 loops each)\n"
     ]
    }
   ],
   "source": [
    "l  = list(range(1))\n",
    "\n",
    "%timeit l.append(None); l.pop(0) "
   ]
  },
  {
   "cell_type": "code",
   "execution_count": 61,
   "id": "54ddc759",
   "metadata": {},
   "outputs": [],
   "source": [
    "import timeit"
   ]
  },
  {
   "cell_type": "code",
   "execution_count": 65,
   "id": "0568d3eb",
   "metadata": {},
   "outputs": [
    {
     "data": {
      "text/plain": [
       "[0.013742542825639248, 0.01581695512868464, 0.013576966943219304]"
      ]
     },
     "execution_count": 65,
     "metadata": {},
     "output_type": "execute_result"
    }
   ],
   "source": [
    "timeit.repeat(setup = '',\n",
    "             stmt = 'list(range(1000)) ',\n",
    "             repeat = 3,\n",
    "             number = 1000)"
   ]
  },
  {
   "cell_type": "code",
   "execution_count": 71,
   "id": "de4d76f8",
   "metadata": {},
   "outputs": [
    {
     "data": {
      "text/plain": [
       "(7.648665147523086e-05, 0.00011336912090579669)"
      ]
     },
     "execution_count": 71,
     "metadata": {},
     "output_type": "execute_result"
    }
   ],
   "source": [
    "setup_queue = \"from collections import deque;dq = deque(range(100,0,-1))\"\n",
    "fifo_queue = \"dq.appendleft(None); dq.pop()\"\n",
    "\n",
    "queue_time = timeit.repeat(setup = setup_queue,\n",
    "             stmt = fifo_queue,\n",
    "             repeat = 3,\n",
    "             number = 1000)\n",
    "\n",
    "queue_time\n",
    "\n",
    "queue_mean = sum(queue_time) / len(queue_time)\n",
    "\n",
    "setup_list = \"l = list(range(100, 0,-1))\"\n",
    "fifo_list = \"l.append(None);l.pop(0)\"\n",
    "\n",
    "list_time = timeit.repeat(setup = setup_list,\n",
    "             stmt = fifo_list,\n",
    "             repeat = 3,\n",
    "                number = 1000)\n",
    "\n",
    "list_mean = sum(list_time) / len(list_time)\n",
    "\n",
    "queue_mean, list_mean"
   ]
  },
  {
   "cell_type": "code",
   "execution_count": 73,
   "id": "bc2374f3",
   "metadata": {},
   "outputs": [],
   "source": [
    "def time_it(N):\n",
    "    setup_queue = f\"from collections import deque;dq = deque(range({N},0,-1))\"\n",
    "    fifo_queue = \"dq.appendleft(None); dq.pop()\"\n",
    "\n",
    "    queue_time = timeit.repeat(setup = setup_queue,\n",
    "             stmt = fifo_queue,\n",
    "             repeat = 3,\n",
    "             number = 1000)\n",
    "\n",
    "    queue_mean = sum(queue_time) / len(queue_time)\n",
    "\n",
    "    setup_list = f\"l = list(range({N}, 0,-1))\"\n",
    "    fifo_list = \"l.append(None);l.pop(0)\"\n",
    "\n",
    "    list_time = timeit.repeat(setup = setup_list,\n",
    "             stmt = fifo_list,\n",
    "             repeat = 3,\n",
    "                number = 1000)\n",
    "\n",
    "    list_mean = sum(list_time) / len(list_time)\n",
    "\n",
    "    return queue_mean, list_mean"
   ]
  },
  {
   "cell_type": "code",
   "execution_count": 77,
   "id": "f368db7e",
   "metadata": {},
   "outputs": [
    {
     "data": {
      "text/plain": [
       "(7.657768825689952e-05, 0.029747279128059745)"
      ]
     },
     "execution_count": 77,
     "metadata": {},
     "output_type": "execute_result"
    }
   ],
   "source": [
    "time_it(100000)"
   ]
  },
  {
   "cell_type": "code",
   "execution_count": 79,
   "id": "dc671824",
   "metadata": {},
   "outputs": [
    {
     "name": "stdout",
     "output_type": "stream",
     "text": [
      "10 (7.361895404756069e-05, 0.00010076599816481273)\n",
      "100 (7.35050222525994e-05, 0.00010643263037006061)\n",
      "1000 (7.667695172131062e-05, 0.00023668368036548296)\n",
      "10000 (7.654167711734772e-05, 0.002888342676063379)\n",
      "100000 (8.208762543896835e-05, 0.029514842589075368)\n"
     ]
    }
   ],
   "source": [
    "x = [10, 100, 1000, 10000, 100000]\n",
    "\n",
    "for N in x:\n",
    "     print(N,time_it(N))"
   ]
  },
  {
   "cell_type": "markdown",
   "id": "c6139949",
   "metadata": {},
   "source": [
    " Our deque remains constant in time in regards to fifo behavior. We have a complexity of O(1)\n",
    " Fifo behaviour takes more time as the number of elements in a list increase. We have a complexity of O(N).\n",
    " \n",
    "Note that deque implements most of the list methods, and adds a few that are specific to its design, like appendleft. \n",
    "\n",
    "But there is a hidden cost: removing items from the middle of a deque is not as fast.\n",
    "\n",
    " \n",
    " ![](queue_vs_list.png)"
   ]
  },
  {
   "cell_type": "markdown",
   "id": "6d1951d2",
   "metadata": {},
   "source": [
    "### The Awesome zip\n",
    "\n"
   ]
  },
  {
   "cell_type": "code",
   "execution_count": 1,
   "id": "8430afde",
   "metadata": {},
   "outputs": [
    {
     "data": {
      "text/plain": [
       "<zip at 0x7f66d736c800>"
      ]
     },
     "execution_count": 1,
     "metadata": {},
     "output_type": "execute_result"
    }
   ],
   "source": [
    "zip(range(3), 'ABC')"
   ]
  },
  {
   "cell_type": "code",
   "execution_count": 2,
   "id": "c3a2b206",
   "metadata": {},
   "outputs": [
    {
     "data": {
      "text/plain": [
       "[(0, 'A'), (1, 'B'), (2, 'C')]"
      ]
     },
     "execution_count": 2,
     "metadata": {},
     "output_type": "execute_result"
    }
   ],
   "source": [
    "list(zip(range(3), 'ABC'))"
   ]
  },
  {
   "cell_type": "code",
   "execution_count": 3,
   "id": "c50edf90",
   "metadata": {},
   "outputs": [
    {
     "data": {
      "text/plain": [
       "[(0, 'A', 0.0), (1, 'B', 1.1), (2, 'C', 2.2)]"
      ]
     },
     "execution_count": 3,
     "metadata": {},
     "output_type": "execute_result"
    }
   ],
   "source": [
    "list(zip(range(3), 'ABC', [0.0, 1.1, 2.2, 3.3]))"
   ]
  },
  {
   "cell_type": "code",
   "execution_count": 11,
   "id": "2a28b9c1",
   "metadata": {},
   "outputs": [
    {
     "data": {
      "text/plain": [
       "[(0, 'A', 0.0), (1, 'B', 1.1), (2, 'C', 2.2), ('BLA', 'BLA', 3.3)]"
      ]
     },
     "execution_count": 11,
     "metadata": {},
     "output_type": "execute_result"
    }
   ],
   "source": [
    "from itertools import zip_longest\n",
    "'''The itertools.zip_longest function behaves differently: it\n",
    "uses an optional fillvalue (None by default) to complete\n",
    "missing values so it can generate tuples until the last iterable is\n",
    "exhausted.'''\n",
    "list(zip_longest(range(3), 'ABC', [0.0, 1.1, 2.2, 3.3], fillvalue='BLA'))"
   ]
  },
  {
   "cell_type": "code",
   "execution_count": 8,
   "id": "5aac07cc",
   "metadata": {},
   "outputs": [
    {
     "ename": "TypeError",
     "evalue": "zip() takes no keyword arguments",
     "output_type": "error",
     "traceback": [
      "\u001b[0;31m---------------------------------------------------------------------------\u001b[0m",
      "\u001b[0;31mTypeError\u001b[0m                                 Traceback (most recent call last)",
      "Cell \u001b[0;32mIn [8], line 1\u001b[0m\n\u001b[0;32m----> 1\u001b[0m \u001b[38;5;28mlist\u001b[39m(\u001b[38;5;28;43mzip\u001b[39;49m\u001b[43m(\u001b[49m\u001b[38;5;28;43mrange\u001b[39;49m\u001b[43m(\u001b[49m\u001b[38;5;241;43m3\u001b[39;49m\u001b[43m)\u001b[49m\u001b[43m,\u001b[49m\u001b[43m \u001b[49m\u001b[38;5;124;43m'\u001b[39;49m\u001b[38;5;124;43mABC\u001b[39;49m\u001b[38;5;124;43m'\u001b[39;49m\u001b[43m,\u001b[49m\u001b[43m \u001b[49m\u001b[43m[\u001b[49m\u001b[38;5;241;43m0.0\u001b[39;49m\u001b[43m,\u001b[49m\u001b[43m \u001b[49m\u001b[38;5;241;43m1.1\u001b[39;49m\u001b[43m,\u001b[49m\u001b[43m \u001b[49m\u001b[38;5;241;43m2.2\u001b[39;49m\u001b[43m,\u001b[49m\u001b[43m \u001b[49m\u001b[38;5;241;43m3.3\u001b[39;49m\u001b[43m]\u001b[49m\u001b[43m,\u001b[49m\u001b[43m \u001b[49m\u001b[43mstrict\u001b[49m\u001b[38;5;241;43m=\u001b[39;49m\u001b[38;5;28;43;01mTrue\u001b[39;49;00m\u001b[43m)\u001b[49m)\n",
      "\u001b[0;31mTypeError\u001b[0m: zip() takes no keyword arguments"
     ]
    }
   ],
   "source": [
    "list(zip(range(3), 'ABC', [0.0, 1.1, 2.2, 3.3], strict=True))"
   ]
  },
  {
   "cell_type": "code",
   "execution_count": null,
   "id": "eff652d1",
   "metadata": {},
   "outputs": [],
   "source": [
    "#list(zip(range(3), 'ABC', [0.0, 1.1, 2.2, 3.3], strict=True)) #works in python3.10 and raises an error if the \n",
    "#iterables are of unequal length"
   ]
  },
  {
   "cell_type": "code",
   "execution_count": 10,
   "id": "7215979b",
   "metadata": {},
   "outputs": [
    {
     "data": {
      "text/plain": [
       "[(1, 2), (3, 4), (5, 6)]"
      ]
     },
     "execution_count": 10,
     "metadata": {},
     "output_type": "execute_result"
    }
   ],
   "source": [
    "A = [(1,3,5),\n",
    "     (2,4,6)]\n",
    "\n",
    "A_transposed = list(zip(*A))"
   ]
  },
  {
   "cell_type": "markdown",
   "id": "a771b969",
   "metadata": {},
   "source": [
    "![](Matrix_transpose.gif)"
   ]
  }
 ],
 "metadata": {
  "kernelspec": {
   "display_name": "Python 3 (ipykernel)",
   "language": "python",
   "name": "python3"
  },
  "language_info": {
   "codemirror_mode": {
    "name": "ipython",
    "version": 3
   },
   "file_extension": ".py",
   "mimetype": "text/x-python",
   "name": "python",
   "nbconvert_exporter": "python",
   "pygments_lexer": "ipython3",
   "version": "3.8.10"
  },
  "vscode": {
   "interpreter": {
    "hash": "97cc609b13305c559618ec78a438abc56230b9381f827f22d070313b9a1f3777"
   }
  }
 },
 "nbformat": 4,
 "nbformat_minor": 5
}
